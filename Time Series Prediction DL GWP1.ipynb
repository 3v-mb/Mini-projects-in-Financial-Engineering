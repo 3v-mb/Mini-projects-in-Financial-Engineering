{
 "cells": [
  {
   "cell_type": "code",
   "execution_count": 162,
   "id": "81db0dab-dc00-4b9d-957b-a25e472f4e32",
   "metadata": {
    "scrolled": true
   },
   "outputs": [],
   "source": [
    "import pandas as pd\n",
    "import numpy as np\n",
    "import matplotlib.pyplot as plt\n",
    "import yfinance as yf\n",
    "import keras_tuner as kt\n",
    "import tensorflow as tf\n",
    "from statsmodels.graphics.tsaplots import plot_acf, plot_pacf\n",
    "from statsmodels.tsa.stattools import adfuller\n",
    "from sklearn.model_selection import train_test_split\n",
    "from pyts.image import GramianAngularField"
   ]
  },
  {
   "cell_type": "markdown",
   "id": "4bbbc5e2-e5d8-4c2a-83c2-5705dd9cffee",
   "metadata": {},
   "source": [
    "## Step 1 ##"
   ]
  },
  {
   "cell_type": "markdown",
   "id": "25eee50f-bbcc-494c-a498-d2931844a775",
   "metadata": {},
   "source": [
    "Let us consider the stock Asian Paints, which is traded on the Indian stock markets. We download the data from yfinance for the past 8 years."
   ]
  },
  {
   "cell_type": "code",
   "execution_count": 4,
   "id": "c704df7b-a5f8-4484-9b98-5c3a191daf39",
   "metadata": {},
   "outputs": [],
   "source": [
    "data = yf.Ticker(\"ASIANPAINT.NS\").history(period=\"8y\")"
   ]
  },
  {
   "cell_type": "code",
   "execution_count": 5,
   "id": "2f271487-45d7-4b4c-9b68-6365807f54da",
   "metadata": {},
   "outputs": [
    {
     "data": {
      "text/html": [
       "<div>\n",
       "<style scoped>\n",
       "    .dataframe tbody tr th:only-of-type {\n",
       "        vertical-align: middle;\n",
       "    }\n",
       "\n",
       "    .dataframe tbody tr th {\n",
       "        vertical-align: top;\n",
       "    }\n",
       "\n",
       "    .dataframe thead th {\n",
       "        text-align: right;\n",
       "    }\n",
       "</style>\n",
       "<table border=\"1\" class=\"dataframe\">\n",
       "  <thead>\n",
       "    <tr style=\"text-align: right;\">\n",
       "      <th></th>\n",
       "      <th>Open</th>\n",
       "      <th>High</th>\n",
       "      <th>Low</th>\n",
       "      <th>Close</th>\n",
       "      <th>Volume</th>\n",
       "      <th>Dividends</th>\n",
       "      <th>Stock Splits</th>\n",
       "    </tr>\n",
       "    <tr>\n",
       "      <th>Date</th>\n",
       "      <th></th>\n",
       "      <th></th>\n",
       "      <th></th>\n",
       "      <th></th>\n",
       "      <th></th>\n",
       "      <th></th>\n",
       "      <th></th>\n",
       "    </tr>\n",
       "  </thead>\n",
       "  <tbody>\n",
       "    <tr>\n",
       "      <th>2017-02-27 00:00:00+05:30</th>\n",
       "      <td>953.300900</td>\n",
       "      <td>961.370911</td>\n",
       "      <td>942.918415</td>\n",
       "      <td>945.702820</td>\n",
       "      <td>738246</td>\n",
       "      <td>0.0</td>\n",
       "      <td>0.0</td>\n",
       "    </tr>\n",
       "    <tr>\n",
       "      <th>2017-02-28 00:00:00+05:30</th>\n",
       "      <td>946.788084</td>\n",
       "      <td>969.157686</td>\n",
       "      <td>942.116013</td>\n",
       "      <td>966.703552</td>\n",
       "      <td>1368244</td>\n",
       "      <td>0.0</td>\n",
       "      <td>0.0</td>\n",
       "    </tr>\n",
       "    <tr>\n",
       "      <th>2017-03-01 00:00:00+05:30</th>\n",
       "      <td>972.177939</td>\n",
       "      <td>981.616560</td>\n",
       "      <td>968.449730</td>\n",
       "      <td>974.773560</td>\n",
       "      <td>1124115</td>\n",
       "      <td>0.0</td>\n",
       "      <td>0.0</td>\n",
       "    </tr>\n",
       "    <tr>\n",
       "      <th>2017-03-02 00:00:00+05:30</th>\n",
       "      <td>979.634838</td>\n",
       "      <td>986.100273</td>\n",
       "      <td>968.780420</td>\n",
       "      <td>970.998474</td>\n",
       "      <td>1037442</td>\n",
       "      <td>0.0</td>\n",
       "      <td>0.0</td>\n",
       "    </tr>\n",
       "    <tr>\n",
       "      <th>2017-03-03 00:00:00+05:30</th>\n",
       "      <td>969.393747</td>\n",
       "      <td>969.393747</td>\n",
       "      <td>949.525401</td>\n",
       "      <td>956.793152</td>\n",
       "      <td>596208</td>\n",
       "      <td>0.0</td>\n",
       "      <td>0.0</td>\n",
       "    </tr>\n",
       "  </tbody>\n",
       "</table>\n",
       "</div>"
      ],
      "text/plain": [
       "                                 Open        High         Low       Close  \\\n",
       "Date                                                                        \n",
       "2017-02-27 00:00:00+05:30  953.300900  961.370911  942.918415  945.702820   \n",
       "2017-02-28 00:00:00+05:30  946.788084  969.157686  942.116013  966.703552   \n",
       "2017-03-01 00:00:00+05:30  972.177939  981.616560  968.449730  974.773560   \n",
       "2017-03-02 00:00:00+05:30  979.634838  986.100273  968.780420  970.998474   \n",
       "2017-03-03 00:00:00+05:30  969.393747  969.393747  949.525401  956.793152   \n",
       "\n",
       "                            Volume  Dividends  Stock Splits  \n",
       "Date                                                         \n",
       "2017-02-27 00:00:00+05:30   738246        0.0           0.0  \n",
       "2017-02-28 00:00:00+05:30  1368244        0.0           0.0  \n",
       "2017-03-01 00:00:00+05:30  1124115        0.0           0.0  \n",
       "2017-03-02 00:00:00+05:30  1037442        0.0           0.0  \n",
       "2017-03-03 00:00:00+05:30   596208        0.0           0.0  "
      ]
     },
     "execution_count": 5,
     "metadata": {},
     "output_type": "execute_result"
    }
   ],
   "source": [
    "data.head()"
   ]
  },
  {
   "cell_type": "code",
   "execution_count": 6,
   "id": "bb75fe2a-bf38-4de5-8b52-307489a65b8b",
   "metadata": {},
   "outputs": [
    {
     "data": {
      "text/plain": [
       "(1976, 7)"
      ]
     },
     "execution_count": 6,
     "metadata": {},
     "output_type": "execute_result"
    }
   ],
   "source": [
    "data.shape #less than 2000 rows of data, as stated in the GWP"
   ]
  },
  {
   "cell_type": "markdown",
   "id": "465ed4a2-6553-4a76-b669-92426dd202e8",
   "metadata": {},
   "source": [
    "For the analysis that follows, we consider just the closing price"
   ]
  },
  {
   "cell_type": "code",
   "execution_count": 8,
   "id": "5a38ba63-3d55-40e3-9464-75570e2c71c9",
   "metadata": {},
   "outputs": [
    {
     "data": {
      "text/plain": [
       "Date\n",
       "2017-02-27 00:00:00+05:30    945.702820\n",
       "2017-02-28 00:00:00+05:30    966.703552\n",
       "2017-03-01 00:00:00+05:30    974.773560\n",
       "2017-03-02 00:00:00+05:30    970.998474\n",
       "2017-03-03 00:00:00+05:30    956.793152\n",
       "Name: Close, dtype: float64"
      ]
     },
     "execution_count": 8,
     "metadata": {},
     "output_type": "execute_result"
    }
   ],
   "source": [
    "data = data[\"Close\"]\n",
    "data.head()"
   ]
  },
  {
   "cell_type": "code",
   "execution_count": 9,
   "id": "7468c34d-4ae3-43cf-add5-7bc78d7593e5",
   "metadata": {
    "scrolled": true
   },
   "outputs": [
    {
     "data": {
      "image/png": "[encoded data removed]",
      "text/plain": [
       "<Figure size 640x480 with 1 Axes>"
      ]
     },
     "metadata": {},
     "output_type": "display_data"
    }
   ],
   "source": [
    "#Plot the time series\n",
    "data.plot(ylabel=\"Asian Paints Closing Prices\")\n",
    "plt.grid()"
   ]
  },
  {
   "cell_type": "markdown",
   "id": "62d1f5d5-a41e-47c2-9faf-0bcee73ec498",
   "metadata": {},
   "source": [
    "The plot clearly shows a trend in the time series. The prices of the Asian Paints stock clearly rises with time."
   ]
  },
  {
   "cell_type": "code",
   "execution_count": 11,
   "id": "fc92902f-9e1a-4181-8efb-32abc1f9b416",
   "metadata": {},
   "outputs": [
    {
     "data": {
      "text/plain": [
       "count    1976.000000\n",
       "mean     2198.298583\n",
       "std       825.730210\n",
       "min       945.702820\n",
       "25%      1332.738129\n",
       "50%      2325.289062\n",
       "75%      2987.162354\n",
       "max      3497.630127\n",
       "Name: Close, dtype: float64"
      ]
     },
     "execution_count": 11,
     "metadata": {},
     "output_type": "execute_result"
    }
   ],
   "source": [
    "data.describe() #summary statistics for the untransformed time series"
   ]
  },
  {
   "cell_type": "markdown",
   "id": "4af69dd9-02e3-49c9-84b1-5fc665453662",
   "metadata": {},
   "source": [
    "Note that the series has a high standard deviation of 827.44, and a mean of 2196.67."
   ]
  },
  {
   "cell_type": "code",
   "execution_count": 13,
   "id": "60e9c7a3-2f24-4dc2-b918-629f96cf8643",
   "metadata": {},
   "outputs": [
    {
     "data": {
      "text/plain": [
       "Text(0.5, 1.0, 'Histogram of Asian Paints Closing Price')"
      ]
     },
     "execution_count": 13,
     "metadata": {},
     "output_type": "execute_result"
    },
    {
     "data": {
      "image/png": "[encoded data removed]",
      "text/plain": [
       "<Figure size 640x480 with 1 Axes>"
      ]
     },
     "metadata": {},
     "output_type": "display_data"
    }
   ],
   "source": [
    "data.hist(bins = 10)\n",
    "plt.xlabel(\"Closing Price\")\n",
    "plt.ylabel(\"Number of Days\")\n",
    "plt.title(\"Histogram of Asian Paints Closing Price\")"
   ]
  },
  {
   "cell_type": "markdown",
   "id": "97c4d66f-8561-4319-8dfd-849768398702",
   "metadata": {},
   "source": [
    "Let us check for the presence of autocorrelation in the time series with different lags"
   ]
  },
  {
   "cell_type": "code",
   "execution_count": 15,
   "id": "cf7f9e04-b098-474f-ad47-1e5613df61c8",
   "metadata": {},
   "outputs": [
    {
     "name": "stdout",
     "output_type": "stream",
     "text": [
      "0.9991024517942791\n",
      "0.9951754942036695\n",
      "0.9904767008503962\n",
      "0.9482131675979084\n",
      "0.9135770685934598\n",
      "0.8838146792453857\n",
      "0.6505426424514977\n",
      "-0.37311904722165296\n"
     ]
    }
   ],
   "source": [
    "for i in [1, 5, 10, 50, 100, 200, 500, 1000]:\n",
    "    print(data.autocorr(lag = i))"
   ]
  },
  {
   "cell_type": "markdown",
   "id": "7a4bf95d-4479-49e4-a320-22671e50be6b",
   "metadata": {},
   "source": [
    "As you can see, the time series is heavily autocorrelated"
   ]
  },
  {
   "cell_type": "markdown",
   "id": "a5d2c9bb-c616-4bee-b057-29f9f3487b41",
   "metadata": {},
   "source": [
    "Let us test for stationarity using the Augmented Dickey-Fuller test"
   ]
  },
  {
   "cell_type": "code",
   "execution_count": 18,
   "id": "1290b192-d975-4b28-87dc-ef4b1064fa82",
   "metadata": {},
   "outputs": [
    {
     "data": {
      "text/plain": [
       "(-1.5498126765152338,\n",
       " 0.508741765271802,\n",
       " 1,\n",
       " {'1%': -3.43366703339965,\n",
       "  '5%': -2.8630052761696607,\n",
       "  '10%': -2.567550052177805})"
      ]
     },
     "execution_count": 18,
     "metadata": {},
     "output_type": "execute_result"
    }
   ],
   "source": [
    "adf_result_data = adfuller(data)\n",
    "adf_statistic = adf_result_data[0] \n",
    "p_value = adf_result_data[1]\n",
    "used_lags = adf_result_data[2] \n",
    "critical_values = adf_result_data[4] \n",
    "\n",
    "adf_statistic, p_value, used_lags, critical_values"
   ]
  },
  {
   "cell_type": "markdown",
   "id": "16ed6348-87a1-429f-8470-e8e21d6fce33",
   "metadata": {},
   "source": [
    "Note that the adf_statistic of -1.57 is higher than all the critical values. The p-value is 0.49 which is greater than 0.05. This means that we fail to reject the null hypothesis (that the series has a unit root). So, the untransformed time series for the Asian Paints NSE stock can be said be non-stationary."
   ]
  },
  {
   "cell_type": "code",
   "execution_count": 20,
   "id": "d4475f00-d17a-4422-a6e9-afd918335214",
   "metadata": {},
   "outputs": [],
   "source": [
    "differenced_data = data.diff()[1:]"
   ]
  },
  {
   "cell_type": "code",
   "execution_count": 21,
   "id": "2cd3f834-c62d-44f0-a6df-42e5107093dd",
   "metadata": {},
   "outputs": [
    {
     "data": {
      "text/plain": [
       "Date\n",
       "2017-02-28 00:00:00+05:30    21.000732\n",
       "2017-03-01 00:00:00+05:30     8.070007\n",
       "2017-03-02 00:00:00+05:30    -3.775085\n",
       "2017-03-03 00:00:00+05:30   -14.205322\n",
       "2017-03-06 00:00:00+05:30    14.818726\n",
       "Name: Close, dtype: float64"
      ]
     },
     "execution_count": 21,
     "metadata": {},
     "output_type": "execute_result"
    }
   ],
   "source": [
    "differenced_data.head()"
   ]
  },
  {
   "cell_type": "code",
   "execution_count": 22,
   "id": "ce4d747f-e1ed-42c1-a4f7-02aa34b394f4",
   "metadata": {},
   "outputs": [
    {
     "data": {
      "text/plain": [
       "Text(0, 0.5, 'Differenced Prices [Lag 1]')"
      ]
     },
     "execution_count": 22,
     "metadata": {},
     "output_type": "execute_result"
    },
    {
     "data": {
      "image/png": "[encoded data removed]",
      "text/plain": [
       "<Figure size 640x480 with 1 Axes>"
      ]
     },
     "metadata": {},
     "output_type": "display_data"
    }
   ],
   "source": [
    "differenced_data.plot()\n",
    "plt.grid()\n",
    "plt.xlabel(\"Year\")\n",
    "plt.ylabel(\"Differenced Prices [Lag 1]\")"
   ]
  },
  {
   "cell_type": "code",
   "execution_count": 23,
   "id": "d5fd6541-9ff8-46a6-93ea-73b13fe25336",
   "metadata": {},
   "outputs": [
    {
     "name": "stdout",
     "output_type": "stream",
     "text": [
      "0.048358598408439445\n",
      "-0.01393378713557292\n",
      "0.001419079589778465\n",
      "-0.062002459273083885\n",
      "-0.0631558633405372\n",
      "0.004070551021707361\n",
      "-0.014467254089564075\n",
      "0.020581335200034443\n"
     ]
    }
   ],
   "source": [
    "for i in [1, 5, 10, 50, 100, 200, 500, 1000]:\n",
    "    print(differenced_data.autocorr(lag = i))"
   ]
  },
  {
   "cell_type": "code",
   "execution_count": 24,
   "id": "d5a2dd66-ba5e-4848-b603-855611890245",
   "metadata": {},
   "outputs": [
    {
     "data": {
      "text/plain": [
       "count    1975.000000\n",
       "mean        0.664277\n",
       "std        34.986949\n",
       "min      -242.193359\n",
       "25%       -13.613831\n",
       "50%         0.429443\n",
       "75%        15.966919\n",
       "max       211.207275\n",
       "Name: Close, dtype: float64"
      ]
     },
     "execution_count": 24,
     "metadata": {},
     "output_type": "execute_result"
    }
   ],
   "source": [
    "differenced_data.describe()"
   ]
  },
  {
   "cell_type": "markdown",
   "id": "63f2ff6b-98fe-4a0e-bda7-6235e4a1dbc0",
   "metadata": {},
   "source": [
    "The differenced time series seems to be de-trended now. Let us now test for stationarity."
   ]
  },
  {
   "cell_type": "code",
   "execution_count": 26,
   "id": "e79af474-f987-406e-8d7d-200a8e17018d",
   "metadata": {},
   "outputs": [
    {
     "data": {
      "text/plain": [
       "(-42.31304018971308,\n",
       " 0.0,\n",
       " 0,\n",
       " {'1%': -3.43366703339965,\n",
       "  '5%': -2.8630052761696607,\n",
       "  '10%': -2.567550052177805})"
      ]
     },
     "execution_count": 26,
     "metadata": {},
     "output_type": "execute_result"
    }
   ],
   "source": [
    "adf_result_differenced_data = adfuller(differenced_data)\n",
    "adf_statistic = adf_result_differenced_data[0] \n",
    "p_value = adf_result_differenced_data[1]\n",
    "used_lags = adf_result_differenced_data[2] \n",
    "critical_values = adf_result_differenced_data[4] \n",
    "\n",
    "adf_statistic, p_value, used_lags, critical_values"
   ]
  },
  {
   "cell_type": "markdown",
   "id": "7760a80b-c42c-4425-bf33-f8fec514bc81",
   "metadata": {},
   "source": [
    "Here, note that the p value is zero and the adf_statistic of -42.31 is lesser than all the critical values, which implies that the differenced time series is stationary."
   ]
  },
  {
   "cell_type": "markdown",
   "id": "67dda1ec-6f3f-49e1-87a9-05441f558945",
   "metadata": {},
   "source": [
    "Now, let us attempt to implement fractional differencing"
   ]
  },
  {
   "cell_type": "code",
   "execution_count": 29,
   "id": "71cd1086-2cf4-4cd0-bca7-2ffd4b97a2fe",
   "metadata": {},
   "outputs": [],
   "source": [
    "def getWeights(d,lags):\n",
    "    # calculate the weights from the series expansion of the differencing operator\n",
    "    # for real orders d and up to [lags] number of coefficients\n",
    "    w=[1]\n",
    "    for k in range(1,lags):\n",
    "        w.append(-w[-1]*((d-k+1))/k)\n",
    "    w=np.array(w).reshape(-1,1) \n",
    "    return w"
   ]
  },
  {
   "cell_type": "code",
   "execution_count": 30,
   "id": "3015897e-b846-4652-8c9c-d470f3d2b7f4",
   "metadata": {},
   "outputs": [],
   "source": [
    "def fractional_differencing(series, order, cutoff):\n",
    "    #calculate the time series obtained from fractional differencing\n",
    "    weights=getWeights(order, cutoff)\n",
    "    frac_diff_series = 0\n",
    "    for k in range(cutoff):\n",
    "        frac_diff_series += weights[k]*series.shift(k).fillna(0)\n",
    "    return frac_diff_series[cutoff:] "
   ]
  },
  {
   "cell_type": "code",
   "execution_count": 31,
   "id": "db2c5b56-f3b0-480e-81b0-36872ad76701",
   "metadata": {},
   "outputs": [],
   "source": [
    "frac_diff_series = fractional_differencing(data, 0.75, 10) #considering d = 0.75 for now and we consider 10 terms in the series"
   ]
  },
  {
   "cell_type": "code",
   "execution_count": 32,
   "id": "3c1dca51-ffd3-41ef-aa3c-65e4a8d24ee6",
   "metadata": {},
   "outputs": [
    {
     "data": {
      "text/plain": [
       "Text(0, 0.5, 'Series After Fractional Differencing with d = 0.75')"
      ]
     },
     "execution_count": 32,
     "metadata": {},
     "output_type": "execute_result"
    },
    {
     "data": {
      "image/png": "[encoded data removed]",
      "text/plain": [
       "<Figure size 640x480 with 1 Axes>"
      ]
     },
     "metadata": {},
     "output_type": "display_data"
    }
   ],
   "source": [
    "frac_diff_series.plot()\n",
    "plt.ylabel(\"Series After Fractional Differencing with d = 0.75\")"
   ]
  },
  {
   "cell_type": "code",
   "execution_count": 33,
   "id": "6c80f50f-5ff1-4869-8a85-33969c7729b0",
   "metadata": {},
   "outputs": [
    {
     "data": {
      "text/plain": [
       "count    1966.000000\n",
       "mean      116.722471\n",
       "std        55.719545\n",
       "min      -131.675934\n",
       "25%        68.735003\n",
       "50%       111.753474\n",
       "75%       159.613799\n",
       "max       340.877670\n",
       "Name: Close, dtype: float64"
      ]
     },
     "execution_count": 33,
     "metadata": {},
     "output_type": "execute_result"
    }
   ],
   "source": [
    "frac_diff_series.describe()"
   ]
  },
  {
   "cell_type": "code",
   "execution_count": 34,
   "id": "d014347b-9455-4d9e-bcc3-e985a7fb4fc1",
   "metadata": {},
   "outputs": [
    {
     "data": {
      "text/plain": [
       "(-2.153893802882957,\n",
       " 0.22340261518495286,\n",
       " 26,\n",
       " {'1%': -3.433726987192922,\n",
       "  '5%': -2.863031745358185,\n",
       "  '10%': -2.5675641457890093})"
      ]
     },
     "execution_count": 34,
     "metadata": {},
     "output_type": "execute_result"
    }
   ],
   "source": [
    "adf_result_frac_diff_data = adfuller(frac_diff_series)\n",
    "adf_statistic = adf_result_frac_diff_data[0] \n",
    "p_value = adf_result_frac_diff_data[1]\n",
    "used_lags = adf_result_frac_diff_data[2] \n",
    "critical_values = adf_result_frac_diff_data[4] \n",
    "\n",
    "adf_statistic, p_value, used_lags, critical_values"
   ]
  },
  {
   "cell_type": "markdown",
   "id": "8b0bda90-c80a-4bd0-8281-261721d18c19",
   "metadata": {},
   "source": [
    "Note that for this fractional differenced series with d = 0.75, the adf_statistic is higher than the critical values. The p-value of 0.22 also indicates that this fractional differenced series is not stationary."
   ]
  },
  {
   "cell_type": "markdown",
   "id": "27b33ec1-376f-4c32-a134-8cf331a4fb52",
   "metadata": {},
   "source": [
    "## Step 2 "
   ]
  },
  {
   "cell_type": "markdown",
   "id": "4ce6fb61-700c-46e1-8af6-3ed14d131207",
   "metadata": {},
   "source": [
    "Let us now build Multi-Layer Perceptron models to predict the future values of these time series. Specifically, we predict if the stock will rise or fall the next day."
   ]
  },
  {
   "cell_type": "markdown",
   "id": "1aa0a87b-17f3-4e17-8b1a-e542ffac8820",
   "metadata": {},
   "source": [
    "**First, the original time series.** he inputs to this model will be the returns over the past 10, 60, 150 days along with the present value."
   ]
  },
  {
   "cell_type": "code",
   "execution_count": 39,
   "id": "94aa5697-09e7-4bb8-be2d-c1adfc6a798c",
   "metadata": {},
   "outputs": [],
   "source": [
    "data = data.to_frame()"
   ]
  },
  {
   "cell_type": "code",
   "execution_count": 40,
   "id": "9cc8918e-366b-4e37-bfd8-a0569e0b3c1f",
   "metadata": {},
   "outputs": [],
   "source": [
    "data[\"1d_returns\"] = data.pct_change()"
   ]
  },
  {
   "cell_type": "code",
   "execution_count": 41,
   "id": "10603e7b-6a6f-4305-bf6e-7b9e65156c55",
   "metadata": {},
   "outputs": [
    {
     "data": {
      "text/html": [
       "<div>\n",
       "<style scoped>\n",
       "    .dataframe tbody tr th:only-of-type {\n",
       "        vertical-align: middle;\n",
       "    }\n",
       "\n",
       "    .dataframe tbody tr th {\n",
       "        vertical-align: top;\n",
       "    }\n",
       "\n",
       "    .dataframe thead th {\n",
       "        text-align: right;\n",
       "    }\n",
       "</style>\n",
       "<table border=\"1\" class=\"dataframe\">\n",
       "  <thead>\n",
       "    <tr style=\"text-align: right;\">\n",
       "      <th></th>\n",
       "      <th>Close</th>\n",
       "      <th>1d_returns</th>\n",
       "    </tr>\n",
       "    <tr>\n",
       "      <th>Date</th>\n",
       "      <th></th>\n",
       "      <th></th>\n",
       "    </tr>\n",
       "  </thead>\n",
       "  <tbody>\n",
       "    <tr>\n",
       "      <th>2017-02-27 00:00:00+05:30</th>\n",
       "      <td>945.702820</td>\n",
       "      <td>NaN</td>\n",
       "    </tr>\n",
       "    <tr>\n",
       "      <th>2017-02-28 00:00:00+05:30</th>\n",
       "      <td>966.703552</td>\n",
       "      <td>0.022206</td>\n",
       "    </tr>\n",
       "    <tr>\n",
       "      <th>2017-03-01 00:00:00+05:30</th>\n",
       "      <td>974.773560</td>\n",
       "      <td>0.008348</td>\n",
       "    </tr>\n",
       "    <tr>\n",
       "      <th>2017-03-02 00:00:00+05:30</th>\n",
       "      <td>970.998474</td>\n",
       "      <td>-0.003873</td>\n",
       "    </tr>\n",
       "    <tr>\n",
       "      <th>2017-03-03 00:00:00+05:30</th>\n",
       "      <td>956.793152</td>\n",
       "      <td>-0.014630</td>\n",
       "    </tr>\n",
       "  </tbody>\n",
       "</table>\n",
       "</div>"
      ],
      "text/plain": [
       "                                Close  1d_returns\n",
       "Date                                             \n",
       "2017-02-27 00:00:00+05:30  945.702820         NaN\n",
       "2017-02-28 00:00:00+05:30  966.703552    0.022206\n",
       "2017-03-01 00:00:00+05:30  974.773560    0.008348\n",
       "2017-03-02 00:00:00+05:30  970.998474   -0.003873\n",
       "2017-03-03 00:00:00+05:30  956.793152   -0.014630"
      ]
     },
     "execution_count": 41,
     "metadata": {},
     "output_type": "execute_result"
    }
   ],
   "source": [
    "data.head()"
   ]
  },
  {
   "cell_type": "code",
   "execution_count": 42,
   "id": "b2e52e36-2a31-4e51-bb12-af4e7ec4d8b6",
   "metadata": {},
   "outputs": [],
   "source": [
    "data[\"10d_returns\"] = data[\"1d_returns\"].rolling(10).apply(lambda x: (1+ x).prod())\n",
    "data[\"60d_returns\"] = data[\"1d_returns\"].rolling(60).apply(lambda x: (1+ x).prod())\n",
    "data[\"150d_returns\"] = data[\"1d_returns\"].rolling(150).apply(lambda x: (1+ x).prod())"
   ]
  },
  {
   "cell_type": "code",
   "execution_count": 43,
   "id": "e2459ca2-98cf-485f-9173-7c0de482de94",
   "metadata": {},
   "outputs": [],
   "source": [
    "data.dropna(inplace=True)"
   ]
  },
  {
   "cell_type": "code",
   "execution_count": 44,
   "id": "b31fd584-e930-4168-8cbf-197aab3720b9",
   "metadata": {},
   "outputs": [
    {
     "data": {
      "text/html": [
       "<div>\n",
       "<style scoped>\n",
       "    .dataframe tbody tr th:only-of-type {\n",
       "        vertical-align: middle;\n",
       "    }\n",
       "\n",
       "    .dataframe tbody tr th {\n",
       "        vertical-align: top;\n",
       "    }\n",
       "\n",
       "    .dataframe thead th {\n",
       "        text-align: right;\n",
       "    }\n",
       "</style>\n",
       "<table border=\"1\" class=\"dataframe\">\n",
       "  <thead>\n",
       "    <tr style=\"text-align: right;\">\n",
       "      <th></th>\n",
       "      <th>Close</th>\n",
       "      <th>1d_returns</th>\n",
       "      <th>10d_returns</th>\n",
       "      <th>60d_returns</th>\n",
       "      <th>150d_returns</th>\n",
       "    </tr>\n",
       "    <tr>\n",
       "      <th>Date</th>\n",
       "      <th></th>\n",
       "      <th></th>\n",
       "      <th></th>\n",
       "      <th></th>\n",
       "      <th></th>\n",
       "    </tr>\n",
       "  </thead>\n",
       "  <tbody>\n",
       "    <tr>\n",
       "      <th>2017-10-05 00:00:00+05:30</th>\n",
       "      <td>1090.406372</td>\n",
       "      <td>-0.000693</td>\n",
       "      <td>0.932070</td>\n",
       "      <td>1.022611</td>\n",
       "      <td>1.153012</td>\n",
       "    </tr>\n",
       "    <tr>\n",
       "      <th>2017-10-06 00:00:00+05:30</th>\n",
       "      <td>1094.235474</td>\n",
       "      <td>0.003512</td>\n",
       "      <td>0.941583</td>\n",
       "      <td>1.022576</td>\n",
       "      <td>1.131925</td>\n",
       "    </tr>\n",
       "    <tr>\n",
       "      <th>2017-10-09 00:00:00+05:30</th>\n",
       "      <td>1095.464600</td>\n",
       "      <td>0.001123</td>\n",
       "      <td>0.954956</td>\n",
       "      <td>1.021963</td>\n",
       "      <td>1.123814</td>\n",
       "    </tr>\n",
       "    <tr>\n",
       "      <th>2017-10-10 00:00:00+05:30</th>\n",
       "      <td>1099.624634</td>\n",
       "      <td>0.003798</td>\n",
       "      <td>0.971636</td>\n",
       "      <td>1.033318</td>\n",
       "      <td>1.132468</td>\n",
       "    </tr>\n",
       "    <tr>\n",
       "      <th>2017-10-11 00:00:00+05:30</th>\n",
       "      <td>1097.355713</td>\n",
       "      <td>-0.002063</td>\n",
       "      <td>0.988586</td>\n",
       "      <td>1.038708</td>\n",
       "      <td>1.146910</td>\n",
       "    </tr>\n",
       "  </tbody>\n",
       "</table>\n",
       "</div>"
      ],
      "text/plain": [
       "                                 Close  1d_returns  10d_returns  60d_returns  \\\n",
       "Date                                                                           \n",
       "2017-10-05 00:00:00+05:30  1090.406372   -0.000693     0.932070     1.022611   \n",
       "2017-10-06 00:00:00+05:30  1094.235474    0.003512     0.941583     1.022576   \n",
       "2017-10-09 00:00:00+05:30  1095.464600    0.001123     0.954956     1.021963   \n",
       "2017-10-10 00:00:00+05:30  1099.624634    0.003798     0.971636     1.033318   \n",
       "2017-10-11 00:00:00+05:30  1097.355713   -0.002063     0.988586     1.038708   \n",
       "\n",
       "                           150d_returns  \n",
       "Date                                     \n",
       "2017-10-05 00:00:00+05:30      1.153012  \n",
       "2017-10-06 00:00:00+05:30      1.131925  \n",
       "2017-10-09 00:00:00+05:30      1.123814  \n",
       "2017-10-10 00:00:00+05:30      1.132468  \n",
       "2017-10-11 00:00:00+05:30      1.146910  "
      ]
     },
     "execution_count": 44,
     "metadata": {},
     "output_type": "execute_result"
    }
   ],
   "source": [
    "data.head()"
   ]
  },
  {
   "cell_type": "markdown",
   "id": "00c4d9e8-e5cf-484b-9be6-1eaa41cd2e97",
   "metadata": {},
   "source": [
    "now, we create a separate column for the returns the next day. For this, we can simply shift the 1d_returns column by one day. We treat this as a classfication task and try to predict if the returns next dat will be positive or negative."
   ]
  },
  {
   "cell_type": "code",
   "execution_count": 46,
   "id": "1c99d01d-9813-4d69-a5a4-91c886940943",
   "metadata": {},
   "outputs": [],
   "source": [
    "data[\"next_10d_returns\"] = (data[\"10d_returns\"].shift(10)>0).astype(int) #this is our target column. \n",
    "data.dropna(inplace=True)"
   ]
  },
  {
   "cell_type": "code",
   "execution_count": 47,
   "id": "9a26052e-23b1-434f-8124-c3868be71d63",
   "metadata": {},
   "outputs": [
    {
     "data": {
      "text/html": [
       "<div>\n",
       "<style scoped>\n",
       "    .dataframe tbody tr th:only-of-type {\n",
       "        vertical-align: middle;\n",
       "    }\n",
       "\n",
       "    .dataframe tbody tr th {\n",
       "        vertical-align: top;\n",
       "    }\n",
       "\n",
       "    .dataframe thead th {\n",
       "        text-align: right;\n",
       "    }\n",
       "</style>\n",
       "<table border=\"1\" class=\"dataframe\">\n",
       "  <thead>\n",
       "    <tr style=\"text-align: right;\">\n",
       "      <th></th>\n",
       "      <th>Close</th>\n",
       "      <th>1d_returns</th>\n",
       "      <th>10d_returns</th>\n",
       "      <th>60d_returns</th>\n",
       "      <th>150d_returns</th>\n",
       "      <th>next_10d_returns</th>\n",
       "    </tr>\n",
       "    <tr>\n",
       "      <th>Date</th>\n",
       "      <th></th>\n",
       "      <th></th>\n",
       "      <th></th>\n",
       "      <th></th>\n",
       "      <th></th>\n",
       "      <th></th>\n",
       "    </tr>\n",
       "  </thead>\n",
       "  <tbody>\n",
       "    <tr>\n",
       "      <th>2017-10-05 00:00:00+05:30</th>\n",
       "      <td>1090.406372</td>\n",
       "      <td>-0.000693</td>\n",
       "      <td>0.932070</td>\n",
       "      <td>1.022611</td>\n",
       "      <td>1.153012</td>\n",
       "      <td>0</td>\n",
       "    </tr>\n",
       "    <tr>\n",
       "      <th>2017-10-06 00:00:00+05:30</th>\n",
       "      <td>1094.235474</td>\n",
       "      <td>0.003512</td>\n",
       "      <td>0.941583</td>\n",
       "      <td>1.022576</td>\n",
       "      <td>1.131925</td>\n",
       "      <td>0</td>\n",
       "    </tr>\n",
       "    <tr>\n",
       "      <th>2017-10-09 00:00:00+05:30</th>\n",
       "      <td>1095.464600</td>\n",
       "      <td>0.001123</td>\n",
       "      <td>0.954956</td>\n",
       "      <td>1.021963</td>\n",
       "      <td>1.123814</td>\n",
       "      <td>0</td>\n",
       "    </tr>\n",
       "    <tr>\n",
       "      <th>2017-10-10 00:00:00+05:30</th>\n",
       "      <td>1099.624634</td>\n",
       "      <td>0.003798</td>\n",
       "      <td>0.971636</td>\n",
       "      <td>1.033318</td>\n",
       "      <td>1.132468</td>\n",
       "      <td>0</td>\n",
       "    </tr>\n",
       "    <tr>\n",
       "      <th>2017-10-11 00:00:00+05:30</th>\n",
       "      <td>1097.355713</td>\n",
       "      <td>-0.002063</td>\n",
       "      <td>0.988586</td>\n",
       "      <td>1.038708</td>\n",
       "      <td>1.146910</td>\n",
       "      <td>0</td>\n",
       "    </tr>\n",
       "  </tbody>\n",
       "</table>\n",
       "</div>"
      ],
      "text/plain": [
       "                                 Close  1d_returns  10d_returns  60d_returns  \\\n",
       "Date                                                                           \n",
       "2017-10-05 00:00:00+05:30  1090.406372   -0.000693     0.932070     1.022611   \n",
       "2017-10-06 00:00:00+05:30  1094.235474    0.003512     0.941583     1.022576   \n",
       "2017-10-09 00:00:00+05:30  1095.464600    0.001123     0.954956     1.021963   \n",
       "2017-10-10 00:00:00+05:30  1099.624634    0.003798     0.971636     1.033318   \n",
       "2017-10-11 00:00:00+05:30  1097.355713   -0.002063     0.988586     1.038708   \n",
       "\n",
       "                           150d_returns  next_10d_returns  \n",
       "Date                                                       \n",
       "2017-10-05 00:00:00+05:30      1.153012                 0  \n",
       "2017-10-06 00:00:00+05:30      1.131925                 0  \n",
       "2017-10-09 00:00:00+05:30      1.123814                 0  \n",
       "2017-10-10 00:00:00+05:30      1.132468                 0  \n",
       "2017-10-11 00:00:00+05:30      1.146910                 0  "
      ]
     },
     "execution_count": 47,
     "metadata": {},
     "output_type": "execute_result"
    }
   ],
   "source": [
    "data.head()"
   ]
  },
  {
   "cell_type": "code",
   "execution_count": 48,
   "id": "3f086676-a47a-42ef-9da8-e700570b6841",
   "metadata": {},
   "outputs": [],
   "source": [
    "X = data[['1d_returns', '10d_returns', '60d_returns', '150d_returns']]\n",
    "y = data['next_10d_returns']"
   ]
  },
  {
   "cell_type": "code",
   "execution_count": 49,
   "id": "ce3d3dcb-c8cf-415f-aa46-672e5023bf50",
   "metadata": {},
   "outputs": [],
   "source": [
    "X_train, X_test, y_train, y_test = train_test_split(X, y, test_size=0.2, shuffle=False) #train-test split"
   ]
  },
  {
   "cell_type": "markdown",
   "id": "0531b38c-b484-428e-8426-2ce77a917ef3",
   "metadata": {},
   "source": [
    "Now to build the MLP"
   ]
  },
  {
   "cell_type": "code",
   "execution_count": 51,
   "id": "fa3c1295-cee3-4594-b8c0-752d1d35c2fe",
   "metadata": {},
   "outputs": [
    {
     "name": "stdout",
     "output_type": "stream",
     "text": [
      "WARNING:tensorflow:From C:\\Users\\susha\\anaconda3\\Lib\\site-packages\\keras\\src\\backend\\common\\global_state.py:82: The name tf.reset_default_graph is deprecated. Please use tf.compat.v1.reset_default_graph instead.\n",
      "\n"
     ]
    }
   ],
   "source": [
    "tf.keras.backend.clear_session()  # We clear the backend to reset the random seed process\n",
    "tf.random.set_seed(42)\n",
    "\n",
    "act_fun = \"relu\"\n",
    "hp_units_1 = 4\n",
    "hp_units_2 = 4\n",
    "n_dropout = 0.2"
   ]
  },
  {
   "cell_type": "code",
   "execution_count": 52,
   "id": "a5456c3c-0a8e-4465-b3bf-682ad44159c3",
   "metadata": {},
   "outputs": [],
   "source": [
    "model = tf.keras.models.Sequential()\n",
    "model.add(tf.keras.layers.Dense(units=hp_units_1, activation=act_fun))\n",
    "model.add(tf.keras.layers.Dropout(n_dropout))\n",
    "model.add(tf.keras.layers.Dense(units=hp_units_2, activation=act_fun))\n",
    "model.add(tf.keras.layers.Dropout(n_dropout))\n",
    "model.add(tf.keras.layers.Dense(units=1, activation=\"sigmoid\")) #activation function"
   ]
  },
  {
   "cell_type": "code",
   "execution_count": 53,
   "id": "1f5b2175-a1a2-4615-b770-1f64ca35503d",
   "metadata": {},
   "outputs": [],
   "source": [
    "hp_lr = 1e-4  # Learning rate\n",
    "adam = tf.keras.optimizers.Adam(learning_rate=hp_lr)  # Adam optimizer\n",
    "model.compile(optimizer=adam, loss=\"binary_crossentropy\", metrics=[\"accuracy\"])"
   ]
  },
  {
   "cell_type": "code",
   "execution_count": 54,
   "id": "2aa2a042-29d1-4361-9653-040ee4dff9d0",
   "metadata": {},
   "outputs": [
    {
     "data": {
      "text/plain": [
       "next_10d_returns\n",
       "1    1816\n",
       "0      10\n",
       "Name: count, dtype: int64"
      ]
     },
     "execution_count": 54,
     "metadata": {},
     "output_type": "execute_result"
    }
   ],
   "source": [
    "y.value_counts()"
   ]
  },
  {
   "cell_type": "code",
   "execution_count": 55,
   "id": "352f9849-b2e2-4b8a-b64f-b3f17ba4a6f5",
   "metadata": {},
   "outputs": [],
   "source": [
    "class_weight = {0: 180, 1: 1}"
   ]
  },
  {
   "cell_type": "markdown",
   "id": "924222b0-0fa7-46b6-b850-300b1be33417",
   "metadata": {},
   "source": [
    "The output class seems pretty imbalanced. Let us balance the classes and fit the model."
   ]
  },
  {
   "cell_type": "code",
   "execution_count": 57,
   "id": "0689b025-332e-481f-b249-92235d4736f5",
   "metadata": {},
   "outputs": [
    {
     "name": "stdout",
     "output_type": "stream",
     "text": [
      "Epoch 1/50\n",
      "37/37 - 2s - 60ms/step - accuracy: 0.8348 - loss: 2.0764 - val_accuracy: 1.0000 - val_loss: 0.5180\n",
      "Epoch 2/50\n",
      "37/37 - 0s - 5ms/step - accuracy: 0.8459 - loss: 2.0124 - val_accuracy: 1.0000 - val_loss: 0.5206\n",
      "Epoch 3/50\n",
      "37/37 - 0s - 6ms/step - accuracy: 0.8527 - loss: 1.9265 - val_accuracy: 1.0000 - val_loss: 0.5230\n",
      "Epoch 4/50\n",
      "37/37 - 0s - 10ms/step - accuracy: 0.8442 - loss: 1.8382 - val_accuracy: 1.0000 - val_loss: 0.5237\n",
      "Epoch 5/50\n",
      "37/37 - 0s - 7ms/step - accuracy: 0.8382 - loss: 2.0389 - val_accuracy: 1.0000 - val_loss: 0.5252\n",
      "Epoch 6/50\n",
      "37/37 - 0s - 6ms/step - accuracy: 0.8339 - loss: 1.8302 - val_accuracy: 1.0000 - val_loss: 0.5249\n",
      "Epoch 7/50\n",
      "37/37 - 0s - 5ms/step - accuracy: 0.8330 - loss: 1.9492 - val_accuracy: 1.0000 - val_loss: 0.5240\n",
      "Epoch 8/50\n",
      "37/37 - 0s - 6ms/step - accuracy: 0.8305 - loss: 1.9673 - val_accuracy: 1.0000 - val_loss: 0.5263\n",
      "Epoch 9/50\n",
      "37/37 - 0s - 5ms/step - accuracy: 0.8271 - loss: 1.9684 - val_accuracy: 1.0000 - val_loss: 0.5312\n",
      "Epoch 10/50\n",
      "37/37 - 0s - 8ms/step - accuracy: 0.8116 - loss: 1.9141 - val_accuracy: 1.0000 - val_loss: 0.5348\n",
      "Epoch 11/50\n",
      "37/37 - 0s - 5ms/step - accuracy: 0.8219 - loss: 1.9681 - val_accuracy: 1.0000 - val_loss: 0.5389\n",
      "Epoch 12/50\n",
      "37/37 - 0s - 6ms/step - accuracy: 0.8022 - loss: 1.9677 - val_accuracy: 1.0000 - val_loss: 0.5422\n",
      "Epoch 13/50\n",
      "37/37 - 0s - 5ms/step - accuracy: 0.8031 - loss: 1.8919 - val_accuracy: 1.0000 - val_loss: 0.5458\n",
      "Epoch 14/50\n",
      "37/37 - 0s - 6ms/step - accuracy: 0.8348 - loss: 2.1005 - val_accuracy: 1.0000 - val_loss: 0.5487\n",
      "Epoch 15/50\n",
      "37/37 - 0s - 6ms/step - accuracy: 0.8313 - loss: 1.8471 - val_accuracy: 1.0000 - val_loss: 0.5516\n",
      "Epoch 16/50\n",
      "37/37 - 0s - 5ms/step - accuracy: 0.8211 - loss: 1.9026 - val_accuracy: 1.0000 - val_loss: 0.5541\n",
      "Epoch 17/50\n",
      "37/37 - 0s - 4ms/step - accuracy: 0.8091 - loss: 1.9314 - val_accuracy: 1.0000 - val_loss: 0.5571\n",
      "Epoch 18/50\n",
      "37/37 - 0s - 5ms/step - accuracy: 0.7860 - loss: 2.0375 - val_accuracy: 1.0000 - val_loss: 0.5597\n",
      "Epoch 19/50\n",
      "37/37 - 0s - 5ms/step - accuracy: 0.8211 - loss: 2.0465 - val_accuracy: 1.0000 - val_loss: 0.5628\n",
      "Epoch 20/50\n",
      "37/37 - 0s - 5ms/step - accuracy: 0.7894 - loss: 1.9765 - val_accuracy: 1.0000 - val_loss: 0.5659\n",
      "Epoch 21/50\n",
      "37/37 - 0s - 5ms/step - accuracy: 0.8236 - loss: 1.9299 - val_accuracy: 1.0000 - val_loss: 0.5681\n",
      "Epoch 22/50\n",
      "37/37 - 0s - 5ms/step - accuracy: 0.8039 - loss: 2.0033 - val_accuracy: 1.0000 - val_loss: 0.5711\n",
      "Epoch 23/50\n",
      "37/37 - 0s - 5ms/step - accuracy: 0.8168 - loss: 1.9889 - val_accuracy: 1.0000 - val_loss: 0.5743\n",
      "Epoch 24/50\n",
      "37/37 - 0s - 5ms/step - accuracy: 0.7902 - loss: 1.9375 - val_accuracy: 1.0000 - val_loss: 0.5767\n",
      "Epoch 25/50\n",
      "37/37 - 0s - 5ms/step - accuracy: 0.7860 - loss: 1.7892 - val_accuracy: 1.0000 - val_loss: 0.5795\n",
      "Epoch 26/50\n",
      "37/37 - 0s - 5ms/step - accuracy: 0.7654 - loss: 1.8902 - val_accuracy: 1.0000 - val_loss: 0.5825\n",
      "Epoch 27/50\n",
      "37/37 - 0s - 5ms/step - accuracy: 0.7320 - loss: 1.9805 - val_accuracy: 1.0000 - val_loss: 0.5854\n",
      "Epoch 28/50\n",
      "37/37 - 0s - 6ms/step - accuracy: 0.7260 - loss: 1.9761 - val_accuracy: 1.0000 - val_loss: 0.5887\n",
      "Epoch 29/50\n",
      "37/37 - 0s - 5ms/step - accuracy: 0.7363 - loss: 1.9402 - val_accuracy: 1.0000 - val_loss: 0.5914\n",
      "Epoch 30/50\n",
      "37/37 - 0s - 5ms/step - accuracy: 0.7260 - loss: 1.8653 - val_accuracy: 1.0000 - val_loss: 0.5951\n",
      "Epoch 31/50\n",
      "37/37 - 0s - 7ms/step - accuracy: 0.7329 - loss: 1.8494 - val_accuracy: 1.0000 - val_loss: 0.5979\n",
      "Epoch 32/50\n",
      "37/37 - 0s - 5ms/step - accuracy: 0.7115 - loss: 1.7815 - val_accuracy: 1.0000 - val_loss: 0.6005\n",
      "Epoch 33/50\n",
      "37/37 - 0s - 5ms/step - accuracy: 0.7260 - loss: 1.9535 - val_accuracy: 1.0000 - val_loss: 0.6025\n",
      "Epoch 34/50\n",
      "37/37 - 0s - 5ms/step - accuracy: 0.7320 - loss: 1.8652 - val_accuracy: 1.0000 - val_loss: 0.6051\n",
      "Epoch 35/50\n",
      "37/37 - 0s - 6ms/step - accuracy: 0.7192 - loss: 1.8692 - val_accuracy: 1.0000 - val_loss: 0.6079\n",
      "Epoch 36/50\n",
      "37/37 - 0s - 5ms/step - accuracy: 0.6986 - loss: 1.8617 - val_accuracy: 1.0000 - val_loss: 0.6102\n",
      "Epoch 37/50\n",
      "37/37 - 0s - 6ms/step - accuracy: 0.7158 - loss: 1.7283 - val_accuracy: 1.0000 - val_loss: 0.6121\n",
      "Epoch 38/50\n",
      "37/37 - 0s - 5ms/step - accuracy: 0.7046 - loss: 1.8659 - val_accuracy: 1.0000 - val_loss: 0.6132\n",
      "Epoch 39/50\n",
      "37/37 - 0s - 5ms/step - accuracy: 0.7063 - loss: 1.9778 - val_accuracy: 1.0000 - val_loss: 0.6149\n",
      "Epoch 40/50\n",
      "37/37 - 0s - 6ms/step - accuracy: 0.7038 - loss: 1.9451 - val_accuracy: 1.0000 - val_loss: 0.6176\n",
      "Epoch 41/50\n",
      "37/37 - 0s - 5ms/step - accuracy: 0.7226 - loss: 1.8007 - val_accuracy: 1.0000 - val_loss: 0.6198\n",
      "Epoch 42/50\n",
      "37/37 - 0s - 5ms/step - accuracy: 0.7021 - loss: 1.7510 - val_accuracy: 1.0000 - val_loss: 0.6212\n",
      "Epoch 43/50\n",
      "37/37 - 0s - 5ms/step - accuracy: 0.7098 - loss: 1.6794 - val_accuracy: 1.0000 - val_loss: 0.6217\n",
      "Epoch 44/50\n",
      "37/37 - 0s - 8ms/step - accuracy: 0.7235 - loss: 1.8021 - val_accuracy: 1.0000 - val_loss: 0.6227\n",
      "Epoch 45/50\n",
      "37/37 - 0s - 5ms/step - accuracy: 0.7329 - loss: 1.9363 - val_accuracy: 1.0000 - val_loss: 0.6244\n",
      "Epoch 46/50\n",
      "37/37 - 0s - 6ms/step - accuracy: 0.7115 - loss: 1.9439 - val_accuracy: 1.0000 - val_loss: 0.6279\n",
      "Epoch 47/50\n",
      "37/37 - 0s - 5ms/step - accuracy: 0.6961 - loss: 1.9437 - val_accuracy: 1.0000 - val_loss: 0.6304\n",
      "Epoch 48/50\n",
      "37/37 - 0s - 6ms/step - accuracy: 0.6884 - loss: 2.0004 - val_accuracy: 1.0000 - val_loss: 0.6323\n",
      "Epoch 49/50\n",
      "37/37 - 0s - 7ms/step - accuracy: 0.7132 - loss: 1.6629 - val_accuracy: 1.0000 - val_loss: 0.6351\n",
      "Epoch 50/50\n",
      "37/37 - 0s - 6ms/step - accuracy: 0.7140 - loss: 1.7331 - val_accuracy: 1.0000 - val_loss: 0.6357\n"
     ]
    }
   ],
   "source": [
    "history = model.fit(\n",
    "    X_train,\n",
    "    y_train,\n",
    "    validation_split=0.2,\n",
    "    epochs=50,\n",
    "    batch_size=32,\n",
    "    verbose=2,\n",
    "    class_weight=class_weight\n",
    ")"
   ]
  },
  {
   "cell_type": "code",
   "execution_count": 58,
   "id": "c7d2ffa9-46d6-424c-94bd-5495894fa115",
   "metadata": {},
   "outputs": [
    {
     "data": {
      "text/html": [
       "<pre style=\"white-space:pre;overflow-x:auto;line-height:normal;font-family:Menlo,'DejaVu Sans Mono',consolas,'Courier New',monospace\"><span style=\"font-weight: bold\">Model: \"sequential\"</span>\n",
       "</pre>\n"
      ],
      "text/plain": [
       "\u001b[1mModel: \"sequential\"\u001b[0m\n"
      ]
     },
     "metadata": {},
     "output_type": "display_data"
    },
    {
     "data": {
      "text/html": [
       "<pre style=\"white-space:pre;overflow-x:auto;line-height:normal;font-family:Menlo,'DejaVu Sans Mono',consolas,'Courier New',monospace\">┏━━━━━━━━━━━━━━━━━━━━━━━━━━━━━━━━━━━━━━┳━━━━━━━━━━━━━━━━━━━━━━━━━━━━━┳━━━━━━━━━━━━━━━━━┓\n",
       "┃<span style=\"font-weight: bold\"> Layer (type)                         </span>┃<span style=\"font-weight: bold\"> Output Shape                </span>┃<span style=\"font-weight: bold\">         Param # </span>┃\n",
       "┡━━━━━━━━━━━━━━━━━━━━━━━━━━━━━━━━━━━━━━╇━━━━━━━━━━━━━━━━━━━━━━━━━━━━━╇━━━━━━━━━━━━━━━━━┩\n",
       "│ dense (<span style=\"color: #0087ff; text-decoration-color: #0087ff\">Dense</span>)                        │ (<span style=\"color: #00d7ff; text-decoration-color: #00d7ff\">None</span>, <span style=\"color: #00af00; text-decoration-color: #00af00\">4</span>)                   │              <span style=\"color: #00af00; text-decoration-color: #00af00\">20</span> │\n",
       "├──────────────────────────────────────┼─────────────────────────────┼─────────────────┤\n",
       "│ dropout (<span style=\"color: #0087ff; text-decoration-color: #0087ff\">Dropout</span>)                    │ (<span style=\"color: #00d7ff; text-decoration-color: #00d7ff\">None</span>, <span style=\"color: #00af00; text-decoration-color: #00af00\">4</span>)                   │               <span style=\"color: #00af00; text-decoration-color: #00af00\">0</span> │\n",
       "├──────────────────────────────────────┼─────────────────────────────┼─────────────────┤\n",
       "│ dense_1 (<span style=\"color: #0087ff; text-decoration-color: #0087ff\">Dense</span>)                      │ (<span style=\"color: #00d7ff; text-decoration-color: #00d7ff\">None</span>, <span style=\"color: #00af00; text-decoration-color: #00af00\">4</span>)                   │              <span style=\"color: #00af00; text-decoration-color: #00af00\">20</span> │\n",
       "├──────────────────────────────────────┼─────────────────────────────┼─────────────────┤\n",
       "│ dropout_1 (<span style=\"color: #0087ff; text-decoration-color: #0087ff\">Dropout</span>)                  │ (<span style=\"color: #00d7ff; text-decoration-color: #00d7ff\">None</span>, <span style=\"color: #00af00; text-decoration-color: #00af00\">4</span>)                   │               <span style=\"color: #00af00; text-decoration-color: #00af00\">0</span> │\n",
       "├──────────────────────────────────────┼─────────────────────────────┼─────────────────┤\n",
       "│ dense_2 (<span style=\"color: #0087ff; text-decoration-color: #0087ff\">Dense</span>)                      │ (<span style=\"color: #00d7ff; text-decoration-color: #00d7ff\">None</span>, <span style=\"color: #00af00; text-decoration-color: #00af00\">1</span>)                   │               <span style=\"color: #00af00; text-decoration-color: #00af00\">5</span> │\n",
       "└──────────────────────────────────────┴─────────────────────────────┴─────────────────┘\n",
       "</pre>\n"
      ],
      "text/plain": [
       "┏━━━━━━━━━━━━━━━━━━━━━━━━━━━━━━━━━━━━━━┳━━━━━━━━━━━━━━━━━━━━━━━━━━━━━┳━━━━━━━━━━━━━━━━━┓\n",
       "┃\u001b[1m \u001b[0m\u001b[1mLayer (type)                        \u001b[0m\u001b[1m \u001b[0m┃\u001b[1m \u001b[0m\u001b[1mOutput Shape               \u001b[0m\u001b[1m \u001b[0m┃\u001b[1m \u001b[0m\u001b[1m        Param #\u001b[0m\u001b[1m \u001b[0m┃\n",
       "┡━━━━━━━━━━━━━━━━━━━━━━━━━━━━━━━━━━━━━━╇━━━━━━━━━━━━━━━━━━━━━━━━━━━━━╇━━━━━━━━━━━━━━━━━┩\n",
       "│ dense (\u001b[38;5;33mDense\u001b[0m)                        │ (\u001b[38;5;45mNone\u001b[0m, \u001b[38;5;34m4\u001b[0m)                   │              \u001b[38;5;34m20\u001b[0m │\n",
       "├──────────────────────────────────────┼─────────────────────────────┼─────────────────┤\n",
       "│ dropout (\u001b[38;5;33mDropout\u001b[0m)                    │ (\u001b[38;5;45mNone\u001b[0m, \u001b[38;5;34m4\u001b[0m)                   │               \u001b[38;5;34m0\u001b[0m │\n",
       "├──────────────────────────────────────┼─────────────────────────────┼─────────────────┤\n",
       "│ dense_1 (\u001b[38;5;33mDense\u001b[0m)                      │ (\u001b[38;5;45mNone\u001b[0m, \u001b[38;5;34m4\u001b[0m)                   │              \u001b[38;5;34m20\u001b[0m │\n",
       "├──────────────────────────────────────┼─────────────────────────────┼─────────────────┤\n",
       "│ dropout_1 (\u001b[38;5;33mDropout\u001b[0m)                  │ (\u001b[38;5;45mNone\u001b[0m, \u001b[38;5;34m4\u001b[0m)                   │               \u001b[38;5;34m0\u001b[0m │\n",
       "├──────────────────────────────────────┼─────────────────────────────┼─────────────────┤\n",
       "│ dense_2 (\u001b[38;5;33mDense\u001b[0m)                      │ (\u001b[38;5;45mNone\u001b[0m, \u001b[38;5;34m1\u001b[0m)                   │               \u001b[38;5;34m5\u001b[0m │\n",
       "└──────────────────────────────────────┴─────────────────────────────┴─────────────────┘\n"
      ]
     },
     "metadata": {},
     "output_type": "display_data"
    },
    {
     "data": {
      "text/html": [
       "<pre style=\"white-space:pre;overflow-x:auto;line-height:normal;font-family:Menlo,'DejaVu Sans Mono',consolas,'Courier New',monospace\"><span style=\"font-weight: bold\"> Total params: </span><span style=\"color: #00af00; text-decoration-color: #00af00\">137</span> (552.00 B)\n",
       "</pre>\n"
      ],
      "text/plain": [
       "\u001b[1m Total params: \u001b[0m\u001b[38;5;34m137\u001b[0m (552.00 B)\n"
      ]
     },
     "metadata": {},
     "output_type": "display_data"
    },
    {
     "data": {
      "text/html": [
       "<pre style=\"white-space:pre;overflow-x:auto;line-height:normal;font-family:Menlo,'DejaVu Sans Mono',consolas,'Courier New',monospace\"><span style=\"font-weight: bold\"> Trainable params: </span><span style=\"color: #00af00; text-decoration-color: #00af00\">45</span> (180.00 B)\n",
       "</pre>\n"
      ],
      "text/plain": [
       "\u001b[1m Trainable params: \u001b[0m\u001b[38;5;34m45\u001b[0m (180.00 B)\n"
      ]
     },
     "metadata": {},
     "output_type": "display_data"
    },
    {
     "data": {
      "text/html": [
       "<pre style=\"white-space:pre;overflow-x:auto;line-height:normal;font-family:Menlo,'DejaVu Sans Mono',consolas,'Courier New',monospace\"><span style=\"font-weight: bold\"> Non-trainable params: </span><span style=\"color: #00af00; text-decoration-color: #00af00\">0</span> (0.00 B)\n",
       "</pre>\n"
      ],
      "text/plain": [
       "\u001b[1m Non-trainable params: \u001b[0m\u001b[38;5;34m0\u001b[0m (0.00 B)\n"
      ]
     },
     "metadata": {},
     "output_type": "display_data"
    },
    {
     "data": {
      "text/html": [
       "<pre style=\"white-space:pre;overflow-x:auto;line-height:normal;font-family:Menlo,'DejaVu Sans Mono',consolas,'Courier New',monospace\"><span style=\"font-weight: bold\"> Optimizer params: </span><span style=\"color: #00af00; text-decoration-color: #00af00\">92</span> (372.00 B)\n",
       "</pre>\n"
      ],
      "text/plain": [
       "\u001b[1m Optimizer params: \u001b[0m\u001b[38;5;34m92\u001b[0m (372.00 B)\n"
      ]
     },
     "metadata": {},
     "output_type": "display_data"
    }
   ],
   "source": [
    "model.summary()"
   ]
  },
  {
   "cell_type": "code",
   "execution_count": 59,
   "id": "7b050b20-a20d-4b8b-bd1c-8f223250661b",
   "metadata": {},
   "outputs": [
    {
     "name": "stdout",
     "output_type": "stream",
     "text": [
      "\u001b[1m12/12\u001b[0m \u001b[32m━━━━━━━━━━━━━━━━━━━━\u001b[0m\u001b[37m\u001b[0m \u001b[1m0s\u001b[0m 10ms/step\n",
      "\u001b[1m12/12\u001b[0m \u001b[32m━━━━━━━━━━━━━━━━━━━━\u001b[0m\u001b[37m\u001b[0m \u001b[1m0s\u001b[0m 5ms/step - accuracy: 1.0000 - loss: 0.6382 \n",
      "Model accuracy in test:  [0.6308587789535522, 1.0]\n"
     ]
    }
   ],
   "source": [
    "y_prob = model.predict(X_test)\n",
    "y_pred = np.where(y_prob > 0.50, 1, 0)\n",
    "\n",
    "acc = model.evaluate(X_test, y_test)\n",
    "print(\"Model accuracy in test: \", acc) #outputs the loss and the accuracy"
   ]
  },
  {
   "cell_type": "markdown",
   "id": "1b056d38-c313-4270-93c8-bd762a128803",
   "metadata": {},
   "source": [
    "**Now, let us similarly try to create a predictive model for the differenced series.**"
   ]
  },
  {
   "cell_type": "code",
   "execution_count": 61,
   "id": "fd8d08ce-e4c6-43df-a70e-3af9114af749",
   "metadata": {},
   "outputs": [],
   "source": [
    "differenced_data = differenced_data.to_frame()"
   ]
  },
  {
   "cell_type": "code",
   "execution_count": 62,
   "id": "1fb1dc07-9924-409c-a399-f3beebdb9413",
   "metadata": {},
   "outputs": [
    {
     "data": {
      "text/html": [
       "<div>\n",
       "<style scoped>\n",
       "    .dataframe tbody tr th:only-of-type {\n",
       "        vertical-align: middle;\n",
       "    }\n",
       "\n",
       "    .dataframe tbody tr th {\n",
       "        vertical-align: top;\n",
       "    }\n",
       "\n",
       "    .dataframe thead th {\n",
       "        text-align: right;\n",
       "    }\n",
       "</style>\n",
       "<table border=\"1\" class=\"dataframe\">\n",
       "  <thead>\n",
       "    <tr style=\"text-align: right;\">\n",
       "      <th></th>\n",
       "      <th>Close</th>\n",
       "    </tr>\n",
       "    <tr>\n",
       "      <th>Date</th>\n",
       "      <th></th>\n",
       "    </tr>\n",
       "  </thead>\n",
       "  <tbody>\n",
       "    <tr>\n",
       "      <th>2017-02-28 00:00:00+05:30</th>\n",
       "      <td>21.000732</td>\n",
       "    </tr>\n",
       "    <tr>\n",
       "      <th>2017-03-01 00:00:00+05:30</th>\n",
       "      <td>8.070007</td>\n",
       "    </tr>\n",
       "    <tr>\n",
       "      <th>2017-03-02 00:00:00+05:30</th>\n",
       "      <td>-3.775085</td>\n",
       "    </tr>\n",
       "    <tr>\n",
       "      <th>2017-03-03 00:00:00+05:30</th>\n",
       "      <td>-14.205322</td>\n",
       "    </tr>\n",
       "    <tr>\n",
       "      <th>2017-03-06 00:00:00+05:30</th>\n",
       "      <td>14.818726</td>\n",
       "    </tr>\n",
       "  </tbody>\n",
       "</table>\n",
       "</div>"
      ],
      "text/plain": [
       "                               Close\n",
       "Date                                \n",
       "2017-02-28 00:00:00+05:30  21.000732\n",
       "2017-03-01 00:00:00+05:30   8.070007\n",
       "2017-03-02 00:00:00+05:30  -3.775085\n",
       "2017-03-03 00:00:00+05:30 -14.205322\n",
       "2017-03-06 00:00:00+05:30  14.818726"
      ]
     },
     "execution_count": 62,
     "metadata": {},
     "output_type": "execute_result"
    }
   ],
   "source": [
    "differenced_data.head()"
   ]
  },
  {
   "cell_type": "code",
   "execution_count": 63,
   "id": "10850012-e772-455d-ad14-0385299ba914",
   "metadata": {},
   "outputs": [],
   "source": [
    "differenced_data[\"1d_returns\"] = differenced_data[\"Close\"].pct_change()\n",
    "differenced_data[\"10d_returns\"] = differenced_data[\"1d_returns\"].rolling(10).apply(lambda x: (1 + x).prod())\n",
    "differenced_data[\"60d_returns\"] = differenced_data[\"1d_returns\"].rolling(60).apply(lambda x: (1 + x).prod())\n",
    "differenced_data[\"150d_returns\"] = differenced_data[\"1d_returns\"].rolling(150).apply(lambda x: (1 + x).prod())"
   ]
  },
  {
   "cell_type": "code",
   "execution_count": 64,
   "id": "240e0e77-4e90-42cb-ab6b-a55986ec5acd",
   "metadata": {},
   "outputs": [],
   "source": [
    "differenced_data[\"next_10d_returns\"] = (differenced_data[\"10d_returns\"].shift(10)>0).astype(int)  #this is our target column. "
   ]
  },
  {
   "cell_type": "code",
   "execution_count": 65,
   "id": "12f02880-b222-4992-94d5-0c2fc0f4c0ad",
   "metadata": {},
   "outputs": [
    {
     "data": {
      "text/html": [
       "<div>\n",
       "<style scoped>\n",
       "    .dataframe tbody tr th:only-of-type {\n",
       "        vertical-align: middle;\n",
       "    }\n",
       "\n",
       "    .dataframe tbody tr th {\n",
       "        vertical-align: top;\n",
       "    }\n",
       "\n",
       "    .dataframe thead th {\n",
       "        text-align: right;\n",
       "    }\n",
       "</style>\n",
       "<table border=\"1\" class=\"dataframe\">\n",
       "  <thead>\n",
       "    <tr style=\"text-align: right;\">\n",
       "      <th></th>\n",
       "      <th>Close</th>\n",
       "      <th>1d_returns</th>\n",
       "      <th>10d_returns</th>\n",
       "      <th>60d_returns</th>\n",
       "      <th>150d_returns</th>\n",
       "      <th>next_10d_returns</th>\n",
       "    </tr>\n",
       "    <tr>\n",
       "      <th>Date</th>\n",
       "      <th></th>\n",
       "      <th></th>\n",
       "      <th></th>\n",
       "      <th></th>\n",
       "      <th></th>\n",
       "      <th></th>\n",
       "    </tr>\n",
       "  </thead>\n",
       "  <tbody>\n",
       "    <tr>\n",
       "      <th>2025-02-18 00:00:00+05:30</th>\n",
       "      <td>-13.250000</td>\n",
       "      <td>-1.677748</td>\n",
       "      <td>-0.213365</td>\n",
       "      <td>1.060000</td>\n",
       "      <td>0.311202</td>\n",
       "      <td>0</td>\n",
       "    </tr>\n",
       "    <tr>\n",
       "      <th>2025-02-19 00:00:00+05:30</th>\n",
       "      <td>1.500000</td>\n",
       "      <td>-1.113208</td>\n",
       "      <td>-0.018951</td>\n",
       "      <td>0.033113</td>\n",
       "      <td>0.083709</td>\n",
       "      <td>0</td>\n",
       "    </tr>\n",
       "    <tr>\n",
       "      <th>2025-02-20 00:00:00+05:30</th>\n",
       "      <td>9.949951</td>\n",
       "      <td>5.633301</td>\n",
       "      <td>-0.843213</td>\n",
       "      <td>-0.759533</td>\n",
       "      <td>-0.232331</td>\n",
       "      <td>0</td>\n",
       "    </tr>\n",
       "    <tr>\n",
       "      <th>2025-02-21 00:00:00+05:30</th>\n",
       "      <td>8.550049</td>\n",
       "      <td>-0.140694</td>\n",
       "      <td>1.124992</td>\n",
       "      <td>-0.252587</td>\n",
       "      <td>0.590663</td>\n",
       "      <td>0</td>\n",
       "    </tr>\n",
       "    <tr>\n",
       "      <th>2025-02-24 00:00:00+05:30</th>\n",
       "      <td>0.049805</td>\n",
       "      <td>-0.994175</td>\n",
       "      <td>-0.058587</td>\n",
       "      <td>0.002311</td>\n",
       "      <td>-0.004246</td>\n",
       "      <td>1</td>\n",
       "    </tr>\n",
       "  </tbody>\n",
       "</table>\n",
       "</div>"
      ],
      "text/plain": [
       "                               Close  1d_returns  10d_returns  60d_returns  \\\n",
       "Date                                                                         \n",
       "2025-02-18 00:00:00+05:30 -13.250000   -1.677748    -0.213365     1.060000   \n",
       "2025-02-19 00:00:00+05:30   1.500000   -1.113208    -0.018951     0.033113   \n",
       "2025-02-20 00:00:00+05:30   9.949951    5.633301    -0.843213    -0.759533   \n",
       "2025-02-21 00:00:00+05:30   8.550049   -0.140694     1.124992    -0.252587   \n",
       "2025-02-24 00:00:00+05:30   0.049805   -0.994175    -0.058587     0.002311   \n",
       "\n",
       "                           150d_returns  next_10d_returns  \n",
       "Date                                                       \n",
       "2025-02-18 00:00:00+05:30      0.311202                 0  \n",
       "2025-02-19 00:00:00+05:30      0.083709                 0  \n",
       "2025-02-20 00:00:00+05:30     -0.232331                 0  \n",
       "2025-02-21 00:00:00+05:30      0.590663                 0  \n",
       "2025-02-24 00:00:00+05:30     -0.004246                 1  "
      ]
     },
     "execution_count": 65,
     "metadata": {},
     "output_type": "execute_result"
    }
   ],
   "source": [
    "differenced_data.tail()"
   ]
  },
  {
   "cell_type": "code",
   "execution_count": 66,
   "id": "6e55efde-a2a2-4c6d-a89d-587c890986f8",
   "metadata": {},
   "outputs": [],
   "source": [
    "differenced_data.dropna(inplace=True)"
   ]
  },
  {
   "cell_type": "code",
   "execution_count": 67,
   "id": "249586d1-ace8-4122-af14-e30bf27128a4",
   "metadata": {},
   "outputs": [],
   "source": [
    "X = differenced_data[['1d_returns', '10d_returns', '60d_returns', '150d_returns']]\n",
    "y = differenced_data['next_10d_returns']"
   ]
  },
  {
   "cell_type": "code",
   "execution_count": 68,
   "id": "5eb7a063-fc90-4b78-b1fb-207f7edc548f",
   "metadata": {},
   "outputs": [],
   "source": [
    "X_train, X_test, y_train, y_test = train_test_split(X, y, test_size=0.2, shuffle=False) #train-test split"
   ]
  },
  {
   "cell_type": "code",
   "execution_count": 69,
   "id": "de9b2ea6-1487-4227-9617-0b1d9b727213",
   "metadata": {},
   "outputs": [],
   "source": [
    "model = tf.keras.models.Sequential()\n",
    "model.add(tf.keras.layers.Dense(units=hp_units_1, activation=act_fun))\n",
    "model.add(tf.keras.layers.Dropout(n_dropout))\n",
    "model.add(tf.keras.layers.Dense(units=hp_units_2, activation=act_fun))\n",
    "model.add(tf.keras.layers.Dropout(n_dropout))\n",
    "model.add(tf.keras.layers.Dense(units=1, activation=\"sigmoid\")) #activation function"
   ]
  },
  {
   "cell_type": "code",
   "execution_count": 70,
   "id": "b3ada5c0-117f-427c-8cc9-bdff8513aec6",
   "metadata": {},
   "outputs": [],
   "source": [
    "hp_lr = 1e-4  # Learning rate\n",
    "adam = tf.keras.optimizers.Adam(learning_rate=hp_lr)  # Adam optimizer\n",
    "model.compile(optimizer=adam, loss=\"binary_crossentropy\", metrics=[\"accuracy\"])"
   ]
  },
  {
   "cell_type": "code",
   "execution_count": 71,
   "id": "87d3d26d-79f5-44a4-86ea-0ed9c94b76bf",
   "metadata": {},
   "outputs": [
    {
     "data": {
      "text/plain": [
       "next_10d_returns\n",
       "0    581\n",
       "1    579\n",
       "Name: count, dtype: int64"
      ]
     },
     "execution_count": 71,
     "metadata": {},
     "output_type": "execute_result"
    }
   ],
   "source": [
    "y.value_counts()"
   ]
  },
  {
   "cell_type": "markdown",
   "id": "0c339a3d-d095-4c53-9a86-b912f930286d",
   "metadata": {},
   "source": [
    "the output class seems pretty balanced."
   ]
  },
  {
   "cell_type": "code",
   "execution_count": 73,
   "id": "6d3545a5-7346-46aa-9582-cb0fd87d84cc",
   "metadata": {},
   "outputs": [
    {
     "name": "stdout",
     "output_type": "stream",
     "text": [
      "Epoch 1/50\n",
      "24/24 - 3s - 115ms/step - accuracy: 0.5270 - loss: 3.4385 - val_accuracy: 0.5645 - val_loss: 1.1366\n",
      "Epoch 2/50\n",
      "24/24 - 0s - 8ms/step - accuracy: 0.5593 - loss: 3.6105 - val_accuracy: 0.5699 - val_loss: 1.1310\n",
      "Epoch 3/50\n",
      "24/24 - 0s - 7ms/step - accuracy: 0.4811 - loss: 2.7815 - val_accuracy: 0.5645 - val_loss: 1.1258\n",
      "Epoch 4/50\n",
      "24/24 - 0s - 7ms/step - accuracy: 0.5216 - loss: 2.7100 - val_accuracy: 0.5645 - val_loss: 1.1206\n",
      "Epoch 5/50\n",
      "24/24 - 0s - 8ms/step - accuracy: 0.5633 - loss: 3.1975 - val_accuracy: 0.5699 - val_loss: 1.1157\n",
      "Epoch 6/50\n",
      "24/24 - 0s - 8ms/step - accuracy: 0.5175 - loss: 3.4488 - val_accuracy: 0.5699 - val_loss: 1.1106\n",
      "Epoch 7/50\n",
      "24/24 - 0s - 8ms/step - accuracy: 0.5377 - loss: 1.5252 - val_accuracy: 0.5699 - val_loss: 1.1065\n",
      "Epoch 8/50\n",
      "24/24 - 0s - 7ms/step - accuracy: 0.5404 - loss: 1.5084 - val_accuracy: 0.5699 - val_loss: 1.1037\n",
      "Epoch 9/50\n",
      "24/24 - 0s - 7ms/step - accuracy: 0.4987 - loss: 3.2727 - val_accuracy: 0.5753 - val_loss: 1.0989\n",
      "Epoch 10/50\n",
      "24/24 - 0s - 7ms/step - accuracy: 0.5283 - loss: 3.3154 - val_accuracy: 0.5806 - val_loss: 1.0937\n",
      "Epoch 11/50\n",
      "24/24 - 0s - 7ms/step - accuracy: 0.5391 - loss: 3.4177 - val_accuracy: 0.5806 - val_loss: 1.0883\n",
      "Epoch 12/50\n",
      "24/24 - 0s - 7ms/step - accuracy: 0.5243 - loss: 1.6092 - val_accuracy: 0.5860 - val_loss: 1.0840\n",
      "Epoch 13/50\n",
      "24/24 - 0s - 7ms/step - accuracy: 0.4865 - loss: 3.3749 - val_accuracy: 0.5914 - val_loss: 1.0785\n",
      "Epoch 14/50\n",
      "24/24 - 0s - 8ms/step - accuracy: 0.4987 - loss: 2.6207 - val_accuracy: 0.5914 - val_loss: 1.0743\n",
      "Epoch 15/50\n",
      "24/24 - 0s - 7ms/step - accuracy: 0.5027 - loss: 2.6413 - val_accuracy: 0.5860 - val_loss: 1.0700\n",
      "Epoch 16/50\n",
      "24/24 - 0s - 13ms/step - accuracy: 0.5121 - loss: 3.3476 - val_accuracy: 0.5699 - val_loss: 1.0651\n",
      "Epoch 17/50\n",
      "24/24 - 0s - 11ms/step - accuracy: 0.4933 - loss: 2.2870 - val_accuracy: 0.5645 - val_loss: 1.0608\n",
      "Epoch 18/50\n",
      "24/24 - 0s - 13ms/step - accuracy: 0.5202 - loss: 1.5800 - val_accuracy: 0.5645 - val_loss: 1.0580\n",
      "Epoch 19/50\n",
      "24/24 - 0s - 12ms/step - accuracy: 0.5202 - loss: 3.0905 - val_accuracy: 0.5591 - val_loss: 1.0537\n",
      "Epoch 20/50\n",
      "24/24 - 0s - 10ms/step - accuracy: 0.5526 - loss: 1.3711 - val_accuracy: 0.5538 - val_loss: 1.0500\n",
      "Epoch 21/50\n",
      "24/24 - 0s - 8ms/step - accuracy: 0.5189 - loss: 2.2265 - val_accuracy: 0.5591 - val_loss: 1.0463\n",
      "Epoch 22/50\n",
      "24/24 - 0s - 7ms/step - accuracy: 0.5121 - loss: 1.5892 - val_accuracy: 0.5591 - val_loss: 1.0436\n",
      "Epoch 23/50\n",
      "24/24 - 0s - 6ms/step - accuracy: 0.4973 - loss: 3.1546 - val_accuracy: 0.5591 - val_loss: 1.0391\n",
      "Epoch 24/50\n",
      "24/24 - 0s - 6ms/step - accuracy: 0.5189 - loss: 2.9166 - val_accuracy: 0.5538 - val_loss: 1.0348\n",
      "Epoch 25/50\n",
      "24/24 - 0s - 7ms/step - accuracy: 0.5337 - loss: 1.5701 - val_accuracy: 0.5538 - val_loss: 1.0311\n",
      "Epoch 26/50\n",
      "24/24 - 0s - 8ms/step - accuracy: 0.5202 - loss: 2.2406 - val_accuracy: 0.5591 - val_loss: 1.0276\n",
      "Epoch 27/50\n",
      "24/24 - 0s - 7ms/step - accuracy: 0.5135 - loss: 2.3512 - val_accuracy: 0.5645 - val_loss: 1.0240\n",
      "Epoch 28/50\n",
      "24/24 - 0s - 9ms/step - accuracy: 0.5135 - loss: 3.3973 - val_accuracy: 0.5699 - val_loss: 1.0196\n",
      "Epoch 29/50\n",
      "24/24 - 0s - 11ms/step - accuracy: 0.5054 - loss: 2.3873 - val_accuracy: 0.5699 - val_loss: 1.0151\n",
      "Epoch 30/50\n",
      "24/24 - 0s - 9ms/step - accuracy: 0.5162 - loss: 2.3469 - val_accuracy: 0.5591 - val_loss: 1.0115\n",
      "Epoch 31/50\n",
      "24/24 - 0s - 8ms/step - accuracy: 0.5189 - loss: 1.2915 - val_accuracy: 0.5591 - val_loss: 1.0084\n",
      "Epoch 32/50\n",
      "24/24 - 0s - 9ms/step - accuracy: 0.5067 - loss: 3.2604 - val_accuracy: 0.5591 - val_loss: 1.0047\n",
      "Epoch 33/50\n",
      "24/24 - 0s - 9ms/step - accuracy: 0.5148 - loss: 2.9612 - val_accuracy: 0.5591 - val_loss: 1.0004\n",
      "Epoch 34/50\n",
      "24/24 - 0s - 7ms/step - accuracy: 0.5108 - loss: 3.0457 - val_accuracy: 0.5538 - val_loss: 0.9966\n",
      "Epoch 35/50\n",
      "24/24 - 0s - 8ms/step - accuracy: 0.5108 - loss: 3.0381 - val_accuracy: 0.5591 - val_loss: 0.9927\n",
      "Epoch 36/50\n",
      "24/24 - 0s - 7ms/step - accuracy: 0.4973 - loss: 3.0212 - val_accuracy: 0.5645 - val_loss: 0.9886\n",
      "Epoch 37/50\n",
      "24/24 - 0s - 8ms/step - accuracy: 0.5067 - loss: 1.9366 - val_accuracy: 0.5645 - val_loss: 0.9854\n",
      "Epoch 38/50\n",
      "24/24 - 0s - 13ms/step - accuracy: 0.5364 - loss: 2.3057 - val_accuracy: 0.5591 - val_loss: 0.9825\n",
      "Epoch 39/50\n",
      "24/24 - 0s - 9ms/step - accuracy: 0.5202 - loss: 2.8573 - val_accuracy: 0.5538 - val_loss: 0.9790\n",
      "Epoch 40/50\n",
      "24/24 - 0s - 9ms/step - accuracy: 0.4946 - loss: 2.9794 - val_accuracy: 0.5538 - val_loss: 0.9760\n",
      "Epoch 41/50\n",
      "24/24 - 0s - 8ms/step - accuracy: 0.5418 - loss: 2.7095 - val_accuracy: 0.5591 - val_loss: 0.9728\n",
      "Epoch 42/50\n",
      "24/24 - 0s - 9ms/step - accuracy: 0.4933 - loss: 3.0623 - val_accuracy: 0.5538 - val_loss: 0.9697\n",
      "Epoch 43/50\n",
      "24/24 - 0s - 10ms/step - accuracy: 0.5189 - loss: 2.6906 - val_accuracy: 0.5538 - val_loss: 0.9664\n",
      "Epoch 44/50\n",
      "24/24 - 0s - 10ms/step - accuracy: 0.5027 - loss: 2.9157 - val_accuracy: 0.5538 - val_loss: 0.9638\n",
      "Epoch 45/50\n",
      "24/24 - 0s - 9ms/step - accuracy: 0.4973 - loss: 2.8457 - val_accuracy: 0.5538 - val_loss: 0.9611\n",
      "Epoch 46/50\n",
      "24/24 - 0s - 7ms/step - accuracy: 0.4852 - loss: 1.9154 - val_accuracy: 0.5645 - val_loss: 0.9584\n",
      "Epoch 47/50\n",
      "24/24 - 0s - 7ms/step - accuracy: 0.5175 - loss: 2.7450 - val_accuracy: 0.5591 - val_loss: 0.9558\n",
      "Epoch 48/50\n",
      "24/24 - 0s - 7ms/step - accuracy: 0.5013 - loss: 1.2747 - val_accuracy: 0.5591 - val_loss: 0.9538\n",
      "Epoch 49/50\n",
      "24/24 - 0s - 7ms/step - accuracy: 0.5216 - loss: 1.9097 - val_accuracy: 0.5591 - val_loss: 0.9515\n",
      "Epoch 50/50\n",
      "24/24 - 0s - 7ms/step - accuracy: 0.5148 - loss: 1.2261 - val_accuracy: 0.5645 - val_loss: 0.9493\n"
     ]
    }
   ],
   "source": [
    "history = model.fit(\n",
    "    X_train,\n",
    "    y_train,\n",
    "    validation_split=0.2,\n",
    "    epochs=50,\n",
    "    batch_size=32,\n",
    "    verbose=2,\n",
    ")"
   ]
  },
  {
   "cell_type": "code",
   "execution_count": 74,
   "id": "0cabb16c-aeba-4aad-849f-51033da354fd",
   "metadata": {},
   "outputs": [
    {
     "name": "stdout",
     "output_type": "stream",
     "text": [
      "\u001b[1m8/8\u001b[0m \u001b[32m━━━━━━━━━━━━━━━━━━━━\u001b[0m\u001b[37m\u001b[0m \u001b[1m0s\u001b[0m 14ms/step\n",
      "\u001b[1m8/8\u001b[0m \u001b[32m━━━━━━━━━━━━━━━━━━━━\u001b[0m\u001b[37m\u001b[0m \u001b[1m0s\u001b[0m 6ms/step - accuracy: 0.4354 - loss: 1.1008 \n",
      "Model accuracy in test:  [1.127017617225647, 0.4698275923728943]\n"
     ]
    }
   ],
   "source": [
    "y_prob = model.predict(X_test)\n",
    "y_pred = np.where(y_prob > 0.50, 1, 0)\n",
    "\n",
    "acc = model.evaluate(X_test, y_test)\n",
    "print(\"Model accuracy in test: \", acc) #outputs the loss and the accuracy"
   ]
  },
  {
   "cell_type": "markdown",
   "id": "5b0bc11f-01e6-4a58-a936-49475e5e14aa",
   "metadata": {},
   "source": [
    "**Now, let us similarly try to create a predictive model for the fractionally differenced series.**"
   ]
  },
  {
   "cell_type": "code",
   "execution_count": 76,
   "id": "e79286e5-f183-458b-ae62-0dfaf1244078",
   "metadata": {},
   "outputs": [],
   "source": [
    "frac_diff_series = frac_diff_series.to_frame()"
   ]
  },
  {
   "cell_type": "code",
   "execution_count": 77,
   "id": "16827360-eb30-4fce-a668-3c1c66a5f535",
   "metadata": {},
   "outputs": [],
   "source": [
    "frac_diff_series[\"1d_returns\"] = frac_diff_series.pct_change()"
   ]
  },
  {
   "cell_type": "code",
   "execution_count": 78,
   "id": "ab51dd65-7aef-4a13-abf1-3994abdca378",
   "metadata": {},
   "outputs": [],
   "source": [
    "frac_diff_series[\"10d_returns\"] = frac_diff_series[\"1d_returns\"].rolling(10).apply(lambda x: (1+ x).prod())\n",
    "frac_diff_series[\"60d_returns\"] = frac_diff_series[\"1d_returns\"].rolling(60).apply(lambda x: (1+ x).prod())\n",
    "frac_diff_series[\"150d_returns\"] = frac_diff_series[\"1d_returns\"].rolling(150).apply(lambda x: (1+ x).prod())"
   ]
  },
  {
   "cell_type": "code",
   "execution_count": 79,
   "id": "5b639a67-8f7f-4bc1-9b05-41b71e2d2fb5",
   "metadata": {},
   "outputs": [],
   "source": [
    "frac_diff_series.dropna(inplace=True)"
   ]
  },
  {
   "cell_type": "code",
   "execution_count": 80,
   "id": "538c055c-eb7d-47b3-9ae4-ad0981aa2dd8",
   "metadata": {},
   "outputs": [],
   "source": [
    "frac_diff_series[\"next_10d_returns\"] = (frac_diff_series[\"10d_returns\"].shift(10)>0).astype(int) #this is our target column. \n",
    "frac_diff_series.dropna(inplace=True)"
   ]
  },
  {
   "cell_type": "code",
   "execution_count": 81,
   "id": "d73e5ba3-60c3-4b65-ae3a-fd9ff90a02bd",
   "metadata": {},
   "outputs": [],
   "source": [
    "X = frac_diff_series[['1d_returns', '10d_returns', '60d_returns', '150d_returns']]\n",
    "y = frac_diff_series['next_10d_returns']"
   ]
  },
  {
   "cell_type": "code",
   "execution_count": 82,
   "id": "ebae5a38-3f26-4666-a1ba-d1095a3be227",
   "metadata": {},
   "outputs": [],
   "source": [
    "X_train, X_test, y_train, y_test = train_test_split(X, y, test_size=0.2, shuffle=False) #train-test split"
   ]
  },
  {
   "cell_type": "code",
   "execution_count": 83,
   "id": "ffbfabc3-979d-439f-b967-bce428d761d7",
   "metadata": {},
   "outputs": [],
   "source": [
    "model = tf.keras.models.Sequential()\n",
    "model.add(tf.keras.layers.Dense(units=hp_units_1, activation=act_fun))\n",
    "model.add(tf.keras.layers.Dropout(n_dropout))\n",
    "model.add(tf.keras.layers.Dense(units=hp_units_2, activation=act_fun))\n",
    "model.add(tf.keras.layers.Dropout(n_dropout))\n",
    "model.add(tf.keras.layers.Dense(units=1, activation=\"sigmoid\")) #activation function"
   ]
  },
  {
   "cell_type": "code",
   "execution_count": 84,
   "id": "7442fea7-d0e6-461b-836a-5335c69d1d5a",
   "metadata": {},
   "outputs": [],
   "source": [
    "hp_lr = 1e-4  # Learning rate\n",
    "adam = tf.keras.optimizers.Adam(learning_rate=hp_lr)  # Adam optimizer\n",
    "model.compile(optimizer=adam, loss=\"binary_crossentropy\", metrics=[\"accuracy\"])"
   ]
  },
  {
   "cell_type": "code",
   "execution_count": 85,
   "id": "60ae60da-4b9f-4ec1-b314-6d478bc21f84",
   "metadata": {},
   "outputs": [
    {
     "data": {
      "text/plain": [
       "next_10d_returns\n",
       "1    1786\n",
       "0      30\n",
       "Name: count, dtype: int64"
      ]
     },
     "execution_count": 85,
     "metadata": {},
     "output_type": "execute_result"
    }
   ],
   "source": [
    "y.value_counts()"
   ]
  },
  {
   "cell_type": "code",
   "execution_count": 86,
   "id": "49b3290c-c111-487c-b49e-5923ff2afc4f",
   "metadata": {},
   "outputs": [],
   "source": [
    "class_weight = {0: 60, 1: 1} #balancing the classes"
   ]
  },
  {
   "cell_type": "code",
   "execution_count": 87,
   "id": "58f88ed2-1ca5-457a-804a-172b19cdfbac",
   "metadata": {},
   "outputs": [
    {
     "name": "stdout",
     "output_type": "stream",
     "text": [
      "Epoch 1/50\n",
      "37/37 - 2s - 55ms/step - accuracy: 0.5099 - loss: 1.7761 - val_accuracy: 0.8007 - val_loss: 0.6583\n",
      "Epoch 2/50\n",
      "37/37 - 0s - 5ms/step - accuracy: 0.5202 - loss: 2.1555 - val_accuracy: 0.7869 - val_loss: 0.6594\n",
      "Epoch 3/50\n",
      "37/37 - 0s - 5ms/step - accuracy: 0.5220 - loss: 1.7965 - val_accuracy: 0.7663 - val_loss: 0.6607\n",
      "Epoch 4/50\n",
      "37/37 - 0s - 5ms/step - accuracy: 0.5185 - loss: 2.1934 - val_accuracy: 0.7595 - val_loss: 0.6615\n",
      "Epoch 5/50\n",
      "37/37 - 0s - 5ms/step - accuracy: 0.5056 - loss: 2.0307 - val_accuracy: 0.7560 - val_loss: 0.6627\n",
      "Epoch 6/50\n",
      "37/37 - 0s - 5ms/step - accuracy: 0.4746 - loss: 2.0903 - val_accuracy: 0.7388 - val_loss: 0.6639\n",
      "Epoch 7/50\n",
      "37/37 - 0s - 5ms/step - accuracy: 0.5030 - loss: 1.7251 - val_accuracy: 0.7148 - val_loss: 0.6650\n",
      "Epoch 8/50\n",
      "37/37 - 0s - 5ms/step - accuracy: 0.4772 - loss: 1.7222 - val_accuracy: 0.6976 - val_loss: 0.6657\n",
      "Epoch 9/50\n",
      "37/37 - 0s - 6ms/step - accuracy: 0.4599 - loss: 1.8024 - val_accuracy: 0.6770 - val_loss: 0.6665\n",
      "Epoch 10/50\n",
      "37/37 - 0s - 5ms/step - accuracy: 0.4711 - loss: 1.9627 - val_accuracy: 0.6529 - val_loss: 0.6674\n",
      "Epoch 11/50\n",
      "37/37 - 0s - 6ms/step - accuracy: 0.4462 - loss: 1.7606 - val_accuracy: 0.6460 - val_loss: 0.6684\n",
      "Epoch 12/50\n",
      "37/37 - 0s - 5ms/step - accuracy: 0.4470 - loss: 1.8211 - val_accuracy: 0.6254 - val_loss: 0.6693\n",
      "Epoch 13/50\n",
      "37/37 - 0s - 5ms/step - accuracy: 0.4160 - loss: 1.9514 - val_accuracy: 0.6048 - val_loss: 0.6701\n",
      "Epoch 14/50\n",
      "37/37 - 0s - 8ms/step - accuracy: 0.4556 - loss: 2.0122 - val_accuracy: 0.5911 - val_loss: 0.6714\n",
      "Epoch 15/50\n",
      "37/37 - 0s - 10ms/step - accuracy: 0.4298 - loss: 2.1327 - val_accuracy: 0.5739 - val_loss: 0.6725\n",
      "Epoch 16/50\n",
      "37/37 - 0s - 5ms/step - accuracy: 0.4195 - loss: 1.9938 - val_accuracy: 0.5533 - val_loss: 0.6738\n",
      "Epoch 17/50\n",
      "37/37 - 0s - 5ms/step - accuracy: 0.4134 - loss: 1.7713 - val_accuracy: 0.5292 - val_loss: 0.6749\n",
      "Epoch 18/50\n",
      "37/37 - 0s - 5ms/step - accuracy: 0.4160 - loss: 1.7909 - val_accuracy: 0.5155 - val_loss: 0.6757\n",
      "Epoch 19/50\n",
      "37/37 - 0s - 6ms/step - accuracy: 0.3859 - loss: 1.9113 - val_accuracy: 0.5017 - val_loss: 0.6763\n",
      "Epoch 20/50\n",
      "37/37 - 0s - 5ms/step - accuracy: 0.3626 - loss: 1.8808 - val_accuracy: 0.4845 - val_loss: 0.6774\n",
      "Epoch 21/50\n",
      "37/37 - 0s - 6ms/step - accuracy: 0.3669 - loss: 1.9173 - val_accuracy: 0.4674 - val_loss: 0.6785\n",
      "Epoch 22/50\n",
      "37/37 - 0s - 5ms/step - accuracy: 0.3721 - loss: 1.8950 - val_accuracy: 0.4536 - val_loss: 0.6796\n",
      "Epoch 23/50\n",
      "37/37 - 0s - 5ms/step - accuracy: 0.3678 - loss: 1.6760 - val_accuracy: 0.4467 - val_loss: 0.6806\n",
      "Epoch 24/50\n",
      "37/37 - 0s - 6ms/step - accuracy: 0.3686 - loss: 1.6883 - val_accuracy: 0.4261 - val_loss: 0.6812\n",
      "Epoch 25/50\n",
      "37/37 - 0s - 5ms/step - accuracy: 0.3661 - loss: 1.8635 - val_accuracy: 0.4089 - val_loss: 0.6819\n",
      "Epoch 26/50\n",
      "37/37 - 0s - 5ms/step - accuracy: 0.3523 - loss: 1.8819 - val_accuracy: 0.3883 - val_loss: 0.6829\n",
      "Epoch 27/50\n",
      "37/37 - 0s - 5ms/step - accuracy: 0.3454 - loss: 1.7909 - val_accuracy: 0.3849 - val_loss: 0.6840\n",
      "Epoch 28/50\n",
      "37/37 - 0s - 5ms/step - accuracy: 0.3394 - loss: 2.1222 - val_accuracy: 0.3746 - val_loss: 0.6846\n",
      "Epoch 29/50\n",
      "37/37 - 0s - 6ms/step - accuracy: 0.3221 - loss: 1.9264 - val_accuracy: 0.3677 - val_loss: 0.6858\n",
      "Epoch 30/50\n",
      "37/37 - 0s - 6ms/step - accuracy: 0.3394 - loss: 1.8640 - val_accuracy: 0.3540 - val_loss: 0.6868\n",
      "Epoch 31/50\n",
      "37/37 - 0s - 5ms/step - accuracy: 0.3256 - loss: 1.8333 - val_accuracy: 0.3368 - val_loss: 0.6879\n",
      "Epoch 32/50\n",
      "37/37 - 0s - 6ms/step - accuracy: 0.3178 - loss: 2.0898 - val_accuracy: 0.3265 - val_loss: 0.6889\n",
      "Epoch 33/50\n",
      "37/37 - 0s - 5ms/step - accuracy: 0.2963 - loss: 1.8407 - val_accuracy: 0.3127 - val_loss: 0.6899\n",
      "Epoch 34/50\n",
      "37/37 - 0s - 6ms/step - accuracy: 0.3109 - loss: 1.6785 - val_accuracy: 0.3024 - val_loss: 0.6908\n",
      "Epoch 35/50\n",
      "37/37 - 0s - 6ms/step - accuracy: 0.2937 - loss: 1.6239 - val_accuracy: 0.2990 - val_loss: 0.6913\n",
      "Epoch 36/50\n",
      "37/37 - 0s - 5ms/step - accuracy: 0.2946 - loss: 1.6810 - val_accuracy: 0.2955 - val_loss: 0.6918\n",
      "Epoch 37/50\n",
      "37/37 - 0s - 6ms/step - accuracy: 0.2963 - loss: 2.1418 - val_accuracy: 0.2818 - val_loss: 0.6925\n",
      "Epoch 38/50\n",
      "37/37 - 0s - 5ms/step - accuracy: 0.2851 - loss: 1.8415 - val_accuracy: 0.2680 - val_loss: 0.6936\n",
      "Epoch 39/50\n",
      "37/37 - 0s - 6ms/step - accuracy: 0.2877 - loss: 1.7750 - val_accuracy: 0.2680 - val_loss: 0.6946\n",
      "Epoch 40/50\n",
      "37/37 - 0s - 6ms/step - accuracy: 0.2661 - loss: 1.6750 - val_accuracy: 0.2543 - val_loss: 0.6955\n",
      "Epoch 41/50\n",
      "37/37 - 0s - 6ms/step - accuracy: 0.2575 - loss: 1.8493 - val_accuracy: 0.2474 - val_loss: 0.6961\n",
      "Epoch 42/50\n",
      "37/37 - 0s - 5ms/step - accuracy: 0.2584 - loss: 1.7675 - val_accuracy: 0.2405 - val_loss: 0.6970\n",
      "Epoch 43/50\n",
      "37/37 - 0s - 5ms/step - accuracy: 0.2498 - loss: 1.6785 - val_accuracy: 0.2302 - val_loss: 0.6977\n",
      "Epoch 44/50\n",
      "37/37 - 0s - 5ms/step - accuracy: 0.2584 - loss: 1.8365 - val_accuracy: 0.2302 - val_loss: 0.6981\n",
      "Epoch 45/50\n",
      "37/37 - 0s - 5ms/step - accuracy: 0.2610 - loss: 1.8878 - val_accuracy: 0.2165 - val_loss: 0.6990\n",
      "Epoch 46/50\n",
      "37/37 - 0s - 6ms/step - accuracy: 0.2489 - loss: 1.6542 - val_accuracy: 0.2062 - val_loss: 0.6999\n",
      "Epoch 47/50\n",
      "37/37 - 0s - 5ms/step - accuracy: 0.2412 - loss: 1.7898 - val_accuracy: 0.2027 - val_loss: 0.7004\n",
      "Epoch 48/50\n",
      "37/37 - 0s - 5ms/step - accuracy: 0.2351 - loss: 2.1559 - val_accuracy: 0.1856 - val_loss: 0.7015\n",
      "Epoch 49/50\n",
      "37/37 - 0s - 5ms/step - accuracy: 0.2463 - loss: 1.7379 - val_accuracy: 0.1821 - val_loss: 0.7025\n",
      "Epoch 50/50\n",
      "37/37 - 0s - 5ms/step - accuracy: 0.2308 - loss: 1.6573 - val_accuracy: 0.1718 - val_loss: 0.7033\n"
     ]
    }
   ],
   "source": [
    "history = model.fit(\n",
    "    X_train,\n",
    "    y_train,\n",
    "    validation_split=0.2,\n",
    "    epochs=50,\n",
    "    batch_size=32,\n",
    "    verbose=2,\n",
    "    class_weight=class_weight\n",
    ")"
   ]
  },
  {
   "cell_type": "code",
   "execution_count": 88,
   "id": "adbb7117-a5f4-4ecc-b44a-a70d459f87a7",
   "metadata": {},
   "outputs": [
    {
     "name": "stdout",
     "output_type": "stream",
     "text": [
      "WARNING:tensorflow:5 out of the last 21 calls to <function TensorFlowTrainer.make_predict_function.<locals>.one_step_on_data_distributed at 0x000001D808A88AE0> triggered tf.function retracing. Tracing is expensive and the excessive number of tracings could be due to (1) creating @tf.function repeatedly in a loop, (2) passing tensors with different shapes, (3) passing Python objects instead of tensors. For (1), please define your @tf.function outside of the loop. For (2), @tf.function has reduce_retracing=True option that can avoid unnecessary retracing. For (3), please refer to https://www.tensorflow.org/guide/function#controlling_retracing and https://www.tensorflow.org/api_docs/python/tf/function for  more details.\n",
      "\u001b[1m12/12\u001b[0m \u001b[32m━━━━━━━━━━━━━━━━━━━━\u001b[0m\u001b[37m\u001b[0m \u001b[1m0s\u001b[0m 7ms/step\n",
      "\u001b[1m12/12\u001b[0m \u001b[32m━━━━━━━━━━━━━━━━━━━━\u001b[0m\u001b[37m\u001b[0m \u001b[1m0s\u001b[0m 4ms/step - accuracy: 0.1439 - loss: 0.7071 \n",
      "Model accuracy in test:  [0.7018239498138428, 0.1538461595773697]\n"
     ]
    }
   ],
   "source": [
    "y_prob = model.predict(X_test)\n",
    "y_pred = np.where(y_prob > 0.50, 1, 0)\n",
    "\n",
    "acc = model.evaluate(X_test, y_test)\n",
    "print(\"Model accuracy in test: \", acc) #outputs the loss and the accuracy"
   ]
  },
  {
   "cell_type": "markdown",
   "id": "d2555d7a-b9bb-414f-9702-bc6bae968efa",
   "metadata": {},
   "source": [
    "**Of the three series, the MLP model gets the best test accuracy for the original time series and the worst for the differenced time series. This counter-intuitively shows that removing the trend from the time series is probably not a good idea. However, let us now proceed to build our CNN model and see how it fares.**"
   ]
  },
  {
   "cell_type": "markdown",
   "id": "453b0628-2e31-461f-91d8-50b3d6e4baa8",
   "metadata": {},
   "source": [
    "## Step 3 "
   ]
  },
  {
   "cell_type": "markdown",
   "id": "138c7fa6-cac6-4f1d-84e2-2e8f5ef2b320",
   "metadata": {},
   "source": [
    "Now the build the Convolutional Neural Network Model"
   ]
  },
  {
   "cell_type": "code",
   "execution_count": 169,
   "id": "84fa9069-3ded-4cf0-bb9c-3ce2029f675a",
   "metadata": {},
   "outputs": [
    {
     "name": "stdout",
     "output_type": "stream",
     "text": [
      "(1796, 30)\n"
     ]
    },
    {
     "data": {
      "image/png": "[encoded data removed]",
      "text/plain": [
       "<Figure size 600x600 with 1 Axes>"
      ]
     },
     "metadata": {},
     "output_type": "display_data"
    }
   ],
   "source": [
    "X_train = []\n",
    "window_size = 30\n",
    "for i in range(window_size, data.shape[0]):\n",
    "    X_train.append(data[\"Close\"][i - window_size : i])\n",
    "X_train = np.array(X_train)\n",
    "print(X_train.shape)\n",
    "# Define a \"window_size\"-days interval\n",
    "days = np.linspace(1, X_train.shape[0], num=X_train.shape[0])\n",
    "# Plot the overlapping time series\n",
    "plt.figure(figsize=(6, 6))\n",
    "for i in range(241):\n",
    "    plt.plot(days[i : window_size + i], X_train[i, :])"
   ]
  },
  {
   "cell_type": "code",
   "execution_count": 171,
   "id": "bad20469-26d5-4789-a944-a92c6ef116a5",
   "metadata": {},
   "outputs": [
    {
     "name": "stdout",
     "output_type": "stream",
     "text": [
      "(1796, 30, 30)\n"
     ]
    }
   ],
   "source": [
    "transformer = GramianAngularField()\n",
    "X_train_new = transformer.transform(X_train)\n",
    "print(X_train_new.shape)"
   ]
  },
  {
   "cell_type": "code",
   "execution_count": 175,
   "id": "205811bf-fcef-43ff-b987-5c3a57fad0f6",
   "metadata": {},
   "outputs": [
    {
     "name": "stderr",
     "output_type": "stream",
     "text": [
      "C:\\Users\\susha\\AppData\\Local\\Temp\\ipykernel_19564\\3802898817.py:4: FutureWarning: Series.__getitem__ treating keys as positions is deprecated. In a future version, integer keys will always be treated as labels (consistent with DataFrame behavior). To access a value by position, use `ser.iloc[pos]`\n",
      "  y_data.append(data[\"Close\"][i] < data[\"Close\"][i + window_size])\n"
     ]
    },
    {
     "data": {
      "text/plain": [
       "(1766,)"
      ]
     },
     "execution_count": 175,
     "metadata": {},
     "output_type": "execute_result"
    }
   ],
   "source": [
    "# Generate the labels: 1 if price goes up after window_size days, 0 otherwise\n",
    "y_data = []\n",
    "for i in range(window_size, data[\"Close\"].shape[0] - window_size):\n",
    "    y_data.append(data[\"Close\"][i] < data[\"Close\"][i + window_size])\n",
    "y_data = np.array(y_data)\n",
    "y_data.shape"
   ]
  },
  {
   "cell_type": "code",
   "execution_count": 179,
   "id": "faa54d81-7581-4a34-93e0-31b02043e708",
   "metadata": {},
   "outputs": [
    {
     "data": {
      "text/plain": [
       "(1766, 30, 30)"
      ]
     },
     "execution_count": 179,
     "metadata": {},
     "output_type": "execute_result"
    }
   ],
   "source": [
    "# Determine the examples to be used as inputs in the model and rescale them to the [0,255] scale\n",
    "X_data = X_train_new[:-window_size]\n",
    "for i in range(X_data.shape[0]):\n",
    "    X_data[i] = (X_data[i] - np.min(X_data[i])) / (\n",
    "        np.max(X_data[i]) - np.min(X_data[i])\n",
    "    )\n",
    "# We could simply write X_data = (X_data + 1)/2\n",
    "X_data = X_data * 255\n",
    "X_data.shape"
   ]
  },
  {
   "cell_type": "code",
   "execution_count": 181,
   "id": "c24d5e0b-9080-424c-b869-94ce7dbb35df",
   "metadata": {},
   "outputs": [],
   "source": [
    "# Split into train and test\n",
    "train_split = 0.8\n",
    "y_data_train = y_data[: int(train_split * y_data.shape[0])]\n",
    "y_data_test = y_data[int(train_split * y_data.shape[0]) :]\n",
    "X_data_train = X_data[: int(train_split * y_data.shape[0])]\n",
    "X_data_test = X_data[int(train_split * y_data.shape[0]) :]"
   ]
  },
  {
   "cell_type": "code",
   "execution_count": 203,
   "id": "cb811a9d-6436-43a9-aeb3-4e5e14f47b1b",
   "metadata": {},
   "outputs": [
    {
     "name": "stderr",
     "output_type": "stream",
     "text": [
      "C:\\Users\\susha\\anaconda3\\Lib\\site-packages\\keras\\src\\layers\\core\\input_layer.py:27: UserWarning: Argument `input_shape` is deprecated. Use `shape` instead.\n",
      "  warnings.warn(\n"
     ]
    }
   ],
   "source": [
    "model = tf.keras.Sequential()\n",
    "# Input layer\n",
    "model.add(tf.keras.layers.InputLayer(input_shape=(30, 30, 1)))\n",
    "model.add(tf.keras.layers.Conv2D(16, 3, activation=\"relu\"))\n",
    "model.add(tf.keras.layers.MaxPooling2D(2))\n",
    "model.add(tf.keras.layers.Conv2D(32, 3, activation=\"relu\"))\n",
    "model.add(tf.keras.layers.MaxPooling2D(2))\n",
    "model.add(tf.keras.layers.Conv2D(64, 3, activation=\"relu\"))\n",
    "model.add(tf.keras.layers.MaxPooling2D(2))\n",
    "model.add(tf.keras.layers.Flatten())\n",
    "model.add(tf.keras.layers.Dense(1024, activation=\"relu\"))\n",
    "model.add(tf.keras.layers.Dropout(0.5, seed=1234))\n",
    "model.add(tf.keras.layers.Dense(1, activation=\"sigmoid\"))"
   ]
  },
  {
   "cell_type": "code",
   "execution_count": 205,
   "id": "3d91c41b-22bd-4968-9858-3c4e2b375d19",
   "metadata": {},
   "outputs": [
    {
     "data": {
      "text/html": [
       "<pre style=\"white-space:pre;overflow-x:auto;line-height:normal;font-family:Menlo,'DejaVu Sans Mono',consolas,'Courier New',monospace\"><span style=\"font-weight: bold\">Model: \"sequential_5\"</span>\n",
       "</pre>\n"
      ],
      "text/plain": [
       "\u001b[1mModel: \"sequential_5\"\u001b[0m\n"
      ]
     },
     "metadata": {},
     "output_type": "display_data"
    },
    {
     "data": {
      "text/html": [
       "<pre style=\"white-space:pre;overflow-x:auto;line-height:normal;font-family:Menlo,'DejaVu Sans Mono',consolas,'Courier New',monospace\">┏━━━━━━━━━━━━━━━━━━━━━━━━━━━━━━━━━━━━━━┳━━━━━━━━━━━━━━━━━━━━━━━━━━━━━┳━━━━━━━━━━━━━━━━━┓\n",
       "┃<span style=\"font-weight: bold\"> Layer (type)                         </span>┃<span style=\"font-weight: bold\"> Output Shape                </span>┃<span style=\"font-weight: bold\">         Param # </span>┃\n",
       "┡━━━━━━━━━━━━━━━━━━━━━━━━━━━━━━━━━━━━━━╇━━━━━━━━━━━━━━━━━━━━━━━━━━━━━╇━━━━━━━━━━━━━━━━━┩\n",
       "│ conv2d_5 (<span style=\"color: #0087ff; text-decoration-color: #0087ff\">Conv2D</span>)                    │ (<span style=\"color: #00d7ff; text-decoration-color: #00d7ff\">None</span>, <span style=\"color: #00af00; text-decoration-color: #00af00\">28</span>, <span style=\"color: #00af00; text-decoration-color: #00af00\">28</span>, <span style=\"color: #00af00; text-decoration-color: #00af00\">16</span>)          │             <span style=\"color: #00af00; text-decoration-color: #00af00\">160</span> │\n",
       "├──────────────────────────────────────┼─────────────────────────────┼─────────────────┤\n",
       "│ max_pooling2d_5 (<span style=\"color: #0087ff; text-decoration-color: #0087ff\">MaxPooling2D</span>)       │ (<span style=\"color: #00d7ff; text-decoration-color: #00d7ff\">None</span>, <span style=\"color: #00af00; text-decoration-color: #00af00\">14</span>, <span style=\"color: #00af00; text-decoration-color: #00af00\">14</span>, <span style=\"color: #00af00; text-decoration-color: #00af00\">16</span>)          │               <span style=\"color: #00af00; text-decoration-color: #00af00\">0</span> │\n",
       "├──────────────────────────────────────┼─────────────────────────────┼─────────────────┤\n",
       "│ conv2d_6 (<span style=\"color: #0087ff; text-decoration-color: #0087ff\">Conv2D</span>)                    │ (<span style=\"color: #00d7ff; text-decoration-color: #00d7ff\">None</span>, <span style=\"color: #00af00; text-decoration-color: #00af00\">12</span>, <span style=\"color: #00af00; text-decoration-color: #00af00\">12</span>, <span style=\"color: #00af00; text-decoration-color: #00af00\">32</span>)          │           <span style=\"color: #00af00; text-decoration-color: #00af00\">4,640</span> │\n",
       "├──────────────────────────────────────┼─────────────────────────────┼─────────────────┤\n",
       "│ max_pooling2d_6 (<span style=\"color: #0087ff; text-decoration-color: #0087ff\">MaxPooling2D</span>)       │ (<span style=\"color: #00d7ff; text-decoration-color: #00d7ff\">None</span>, <span style=\"color: #00af00; text-decoration-color: #00af00\">6</span>, <span style=\"color: #00af00; text-decoration-color: #00af00\">6</span>, <span style=\"color: #00af00; text-decoration-color: #00af00\">32</span>)            │               <span style=\"color: #00af00; text-decoration-color: #00af00\">0</span> │\n",
       "├──────────────────────────────────────┼─────────────────────────────┼─────────────────┤\n",
       "│ conv2d_7 (<span style=\"color: #0087ff; text-decoration-color: #0087ff\">Conv2D</span>)                    │ (<span style=\"color: #00d7ff; text-decoration-color: #00d7ff\">None</span>, <span style=\"color: #00af00; text-decoration-color: #00af00\">4</span>, <span style=\"color: #00af00; text-decoration-color: #00af00\">4</span>, <span style=\"color: #00af00; text-decoration-color: #00af00\">64</span>)            │          <span style=\"color: #00af00; text-decoration-color: #00af00\">18,496</span> │\n",
       "├──────────────────────────────────────┼─────────────────────────────┼─────────────────┤\n",
       "│ max_pooling2d_7 (<span style=\"color: #0087ff; text-decoration-color: #0087ff\">MaxPooling2D</span>)       │ (<span style=\"color: #00d7ff; text-decoration-color: #00d7ff\">None</span>, <span style=\"color: #00af00; text-decoration-color: #00af00\">2</span>, <span style=\"color: #00af00; text-decoration-color: #00af00\">2</span>, <span style=\"color: #00af00; text-decoration-color: #00af00\">64</span>)            │               <span style=\"color: #00af00; text-decoration-color: #00af00\">0</span> │\n",
       "├──────────────────────────────────────┼─────────────────────────────┼─────────────────┤\n",
       "│ flatten_2 (<span style=\"color: #0087ff; text-decoration-color: #0087ff\">Flatten</span>)                  │ (<span style=\"color: #00d7ff; text-decoration-color: #00d7ff\">None</span>, <span style=\"color: #00af00; text-decoration-color: #00af00\">256</span>)                 │               <span style=\"color: #00af00; text-decoration-color: #00af00\">0</span> │\n",
       "├──────────────────────────────────────┼─────────────────────────────┼─────────────────┤\n",
       "│ dense_13 (<span style=\"color: #0087ff; text-decoration-color: #0087ff\">Dense</span>)                     │ (<span style=\"color: #00d7ff; text-decoration-color: #00d7ff\">None</span>, <span style=\"color: #00af00; text-decoration-color: #00af00\">1024</span>)                │         <span style=\"color: #00af00; text-decoration-color: #00af00\">263,168</span> │\n",
       "├──────────────────────────────────────┼─────────────────────────────┼─────────────────┤\n",
       "│ dropout_8 (<span style=\"color: #0087ff; text-decoration-color: #0087ff\">Dropout</span>)                  │ (<span style=\"color: #00d7ff; text-decoration-color: #00d7ff\">None</span>, <span style=\"color: #00af00; text-decoration-color: #00af00\">1024</span>)                │               <span style=\"color: #00af00; text-decoration-color: #00af00\">0</span> │\n",
       "├──────────────────────────────────────┼─────────────────────────────┼─────────────────┤\n",
       "│ dense_14 (<span style=\"color: #0087ff; text-decoration-color: #0087ff\">Dense</span>)                     │ (<span style=\"color: #00d7ff; text-decoration-color: #00d7ff\">None</span>, <span style=\"color: #00af00; text-decoration-color: #00af00\">1</span>)                   │           <span style=\"color: #00af00; text-decoration-color: #00af00\">1,025</span> │\n",
       "└──────────────────────────────────────┴─────────────────────────────┴─────────────────┘\n",
       "</pre>\n"
      ],
      "text/plain": [
       "┏━━━━━━━━━━━━━━━━━━━━━━━━━━━━━━━━━━━━━━┳━━━━━━━━━━━━━━━━━━━━━━━━━━━━━┳━━━━━━━━━━━━━━━━━┓\n",
       "┃\u001b[1m \u001b[0m\u001b[1mLayer (type)                        \u001b[0m\u001b[1m \u001b[0m┃\u001b[1m \u001b[0m\u001b[1mOutput Shape               \u001b[0m\u001b[1m \u001b[0m┃\u001b[1m \u001b[0m\u001b[1m        Param #\u001b[0m\u001b[1m \u001b[0m┃\n",
       "┡━━━━━━━━━━━━━━━━━━━━━━━━━━━━━━━━━━━━━━╇━━━━━━━━━━━━━━━━━━━━━━━━━━━━━╇━━━━━━━━━━━━━━━━━┩\n",
       "│ conv2d_5 (\u001b[38;5;33mConv2D\u001b[0m)                    │ (\u001b[38;5;45mNone\u001b[0m, \u001b[38;5;34m28\u001b[0m, \u001b[38;5;34m28\u001b[0m, \u001b[38;5;34m16\u001b[0m)          │             \u001b[38;5;34m160\u001b[0m │\n",
       "├──────────────────────────────────────┼─────────────────────────────┼─────────────────┤\n",
       "│ max_pooling2d_5 (\u001b[38;5;33mMaxPooling2D\u001b[0m)       │ (\u001b[38;5;45mNone\u001b[0m, \u001b[38;5;34m14\u001b[0m, \u001b[38;5;34m14\u001b[0m, \u001b[38;5;34m16\u001b[0m)          │               \u001b[38;5;34m0\u001b[0m │\n",
       "├──────────────────────────────────────┼─────────────────────────────┼─────────────────┤\n",
       "│ conv2d_6 (\u001b[38;5;33mConv2D\u001b[0m)                    │ (\u001b[38;5;45mNone\u001b[0m, \u001b[38;5;34m12\u001b[0m, \u001b[38;5;34m12\u001b[0m, \u001b[38;5;34m32\u001b[0m)          │           \u001b[38;5;34m4,640\u001b[0m │\n",
       "├──────────────────────────────────────┼─────────────────────────────┼─────────────────┤\n",
       "│ max_pooling2d_6 (\u001b[38;5;33mMaxPooling2D\u001b[0m)       │ (\u001b[38;5;45mNone\u001b[0m, \u001b[38;5;34m6\u001b[0m, \u001b[38;5;34m6\u001b[0m, \u001b[38;5;34m32\u001b[0m)            │               \u001b[38;5;34m0\u001b[0m │\n",
       "├──────────────────────────────────────┼─────────────────────────────┼─────────────────┤\n",
       "│ conv2d_7 (\u001b[38;5;33mConv2D\u001b[0m)                    │ (\u001b[38;5;45mNone\u001b[0m, \u001b[38;5;34m4\u001b[0m, \u001b[38;5;34m4\u001b[0m, \u001b[38;5;34m64\u001b[0m)            │          \u001b[38;5;34m18,496\u001b[0m │\n",
       "├──────────────────────────────────────┼─────────────────────────────┼─────────────────┤\n",
       "│ max_pooling2d_7 (\u001b[38;5;33mMaxPooling2D\u001b[0m)       │ (\u001b[38;5;45mNone\u001b[0m, \u001b[38;5;34m2\u001b[0m, \u001b[38;5;34m2\u001b[0m, \u001b[38;5;34m64\u001b[0m)            │               \u001b[38;5;34m0\u001b[0m │\n",
       "├──────────────────────────────────────┼─────────────────────────────┼─────────────────┤\n",
       "│ flatten_2 (\u001b[38;5;33mFlatten\u001b[0m)                  │ (\u001b[38;5;45mNone\u001b[0m, \u001b[38;5;34m256\u001b[0m)                 │               \u001b[38;5;34m0\u001b[0m │\n",
       "├──────────────────────────────────────┼─────────────────────────────┼─────────────────┤\n",
       "│ dense_13 (\u001b[38;5;33mDense\u001b[0m)                     │ (\u001b[38;5;45mNone\u001b[0m, \u001b[38;5;34m1024\u001b[0m)                │         \u001b[38;5;34m263,168\u001b[0m │\n",
       "├──────────────────────────────────────┼─────────────────────────────┼─────────────────┤\n",
       "│ dropout_8 (\u001b[38;5;33mDropout\u001b[0m)                  │ (\u001b[38;5;45mNone\u001b[0m, \u001b[38;5;34m1024\u001b[0m)                │               \u001b[38;5;34m0\u001b[0m │\n",
       "├──────────────────────────────────────┼─────────────────────────────┼─────────────────┤\n",
       "│ dense_14 (\u001b[38;5;33mDense\u001b[0m)                     │ (\u001b[38;5;45mNone\u001b[0m, \u001b[38;5;34m1\u001b[0m)                   │           \u001b[38;5;34m1,025\u001b[0m │\n",
       "└──────────────────────────────────────┴─────────────────────────────┴─────────────────┘\n"
      ]
     },
     "metadata": {},
     "output_type": "display_data"
    },
    {
     "data": {
      "text/html": [
       "<pre style=\"white-space:pre;overflow-x:auto;line-height:normal;font-family:Menlo,'DejaVu Sans Mono',consolas,'Courier New',monospace\"><span style=\"font-weight: bold\"> Total params: </span><span style=\"color: #00af00; text-decoration-color: #00af00\">287,489</span> (1.10 MB)\n",
       "</pre>\n"
      ],
      "text/plain": [
       "\u001b[1m Total params: \u001b[0m\u001b[38;5;34m287,489\u001b[0m (1.10 MB)\n"
      ]
     },
     "metadata": {},
     "output_type": "display_data"
    },
    {
     "data": {
      "text/html": [
       "<pre style=\"white-space:pre;overflow-x:auto;line-height:normal;font-family:Menlo,'DejaVu Sans Mono',consolas,'Courier New',monospace\"><span style=\"font-weight: bold\"> Trainable params: </span><span style=\"color: #00af00; text-decoration-color: #00af00\">287,489</span> (1.10 MB)\n",
       "</pre>\n"
      ],
      "text/plain": [
       "\u001b[1m Trainable params: \u001b[0m\u001b[38;5;34m287,489\u001b[0m (1.10 MB)\n"
      ]
     },
     "metadata": {},
     "output_type": "display_data"
    },
    {
     "data": {
      "text/html": [
       "<pre style=\"white-space:pre;overflow-x:auto;line-height:normal;font-family:Menlo,'DejaVu Sans Mono',consolas,'Courier New',monospace\"><span style=\"font-weight: bold\"> Non-trainable params: </span><span style=\"color: #00af00; text-decoration-color: #00af00\">0</span> (0.00 B)\n",
       "</pre>\n"
      ],
      "text/plain": [
       "\u001b[1m Non-trainable params: \u001b[0m\u001b[38;5;34m0\u001b[0m (0.00 B)\n"
      ]
     },
     "metadata": {},
     "output_type": "display_data"
    }
   ],
   "source": [
    "model.summary()"
   ]
  },
  {
   "cell_type": "code",
   "execution_count": 207,
   "id": "1e42b060-f6ce-45c9-a58b-25b44637cf61",
   "metadata": {},
   "outputs": [
    {
     "name": "stdout",
     "output_type": "stream",
     "text": [
      "{0: 2.544144144144144, 1: 1.0}\n"
     ]
    }
   ],
   "source": [
    "model.compile(loss=\"binary_crossentropy\", optimizer=\"RMSprop\", metrics=[\"accuracy\"])\n",
    "checkpoint = tf.keras.callbacks.ModelCheckpoint(\n",
    "    \"model.h5\", monitor=\"val_accuracy\", save_best_only=True, mode=\"auto\"\n",
    ")\n",
    "class_weight = {0: 1 / (1 - np.mean(y_data_train)), 1: 1.0}\n",
    "print(class_weight)"
   ]
  },
  {
   "cell_type": "code",
   "execution_count": 209,
   "id": "f408d97f-9528-477e-9c47-6b2d835169f7",
   "metadata": {},
   "outputs": [
    {
     "name": "stdout",
     "output_type": "stream",
     "text": [
      "Epoch 1/50\n",
      "\u001b[1m43/45\u001b[0m \u001b[32m━━━━━━━━━━━━━━━━━━━\u001b[0m\u001b[37m━\u001b[0m \u001b[1m0s\u001b[0m 8ms/step - accuracy: 0.5139 - loss: 7.1476"
     ]
    },
    {
     "name": "stderr",
     "output_type": "stream",
     "text": [
      "WARNING:absl:You are saving your model as an HDF5 file via `model.save()` or `keras.saving.save_model(model)`. This file format is considered legacy. We recommend using instead the native Keras format, e.g. `model.save('my_model.keras')` or `keras.saving.save_model(model, 'my_model.keras')`. \n"
     ]
    },
    {
     "name": "stdout",
     "output_type": "stream",
     "text": [
      "\u001b[1m45/45\u001b[0m \u001b[32m━━━━━━━━━━━━━━━━━━━━\u001b[0m\u001b[37m\u001b[0m \u001b[1m2s\u001b[0m 15ms/step - accuracy: 0.5118 - loss: 6.8909 - val_accuracy: 0.5904 - val_loss: 0.6701\n",
      "Epoch 2/50\n",
      "\u001b[1m44/45\u001b[0m \u001b[32m━━━━━━━━━━━━━━━━━━━\u001b[0m\u001b[37m━\u001b[0m \u001b[1m0s\u001b[0m 7ms/step - accuracy: 0.4690 - loss: 1.0904"
     ]
    },
    {
     "name": "stderr",
     "output_type": "stream",
     "text": [
      "WARNING:absl:You are saving your model as an HDF5 file via `model.save()` or `keras.saving.save_model(model)`. This file format is considered legacy. We recommend using instead the native Keras format, e.g. `model.save('my_model.keras')` or `keras.saving.save_model(model, 'my_model.keras')`. \n"
     ]
    },
    {
     "name": "stdout",
     "output_type": "stream",
     "text": [
      "\u001b[1m45/45\u001b[0m \u001b[32m━━━━━━━━━━━━━━━━━━━━\u001b[0m\u001b[37m\u001b[0m \u001b[1m1s\u001b[0m 11ms/step - accuracy: 0.4689 - loss: 1.0908 - val_accuracy: 0.6412 - val_loss: 0.6233\n",
      "Epoch 3/50\n",
      "\u001b[1m45/45\u001b[0m \u001b[32m━━━━━━━━━━━━━━━━━━━━\u001b[0m\u001b[37m\u001b[0m \u001b[1m0s\u001b[0m 9ms/step - accuracy: 0.5226 - loss: 1.0951 - val_accuracy: 0.6356 - val_loss: 0.6385\n",
      "Epoch 4/50\n",
      "\u001b[1m45/45\u001b[0m \u001b[32m━━━━━━━━━━━━━━━━━━━━\u001b[0m\u001b[37m\u001b[0m \u001b[1m0s\u001b[0m 9ms/step - accuracy: 0.5617 - loss: 1.0116 - val_accuracy: 0.4520 - val_loss: 0.7684\n",
      "Epoch 5/50\n",
      "\u001b[1m40/45\u001b[0m \u001b[32m━━━━━━━━━━━━━━━━━\u001b[0m\u001b[37m━━━\u001b[0m \u001b[1m0s\u001b[0m 7ms/step - accuracy: 0.6272 - loss: 0.9637"
     ]
    },
    {
     "name": "stderr",
     "output_type": "stream",
     "text": [
      "WARNING:absl:You are saving your model as an HDF5 file via `model.save()` or `keras.saving.save_model(model)`. This file format is considered legacy. We recommend using instead the native Keras format, e.g. `model.save('my_model.keras')` or `keras.saving.save_model(model, 'my_model.keras')`. \n"
     ]
    },
    {
     "name": "stdout",
     "output_type": "stream",
     "text": [
      "\u001b[1m45/45\u001b[0m \u001b[32m━━━━━━━━━━━━━━━━━━━━\u001b[0m\u001b[37m\u001b[0m \u001b[1m0s\u001b[0m 10ms/step - accuracy: 0.6242 - loss: 0.9650 - val_accuracy: 0.6582 - val_loss: 0.6472\n",
      "Epoch 6/50\n",
      "\u001b[1m40/45\u001b[0m \u001b[32m━━━━━━━━━━━━━━━━━\u001b[0m\u001b[37m━━━\u001b[0m \u001b[1m0s\u001b[0m 7ms/step - accuracy: 0.6971 - loss: 0.8318"
     ]
    },
    {
     "name": "stderr",
     "output_type": "stream",
     "text": [
      "WARNING:absl:You are saving your model as an HDF5 file via `model.save()` or `keras.saving.save_model(model)`. This file format is considered legacy. We recommend using instead the native Keras format, e.g. `model.save('my_model.keras')` or `keras.saving.save_model(model, 'my_model.keras')`. \n"
     ]
    },
    {
     "name": "stdout",
     "output_type": "stream",
     "text": [
      "\u001b[1m45/45\u001b[0m \u001b[32m━━━━━━━━━━━━━━━━━━━━\u001b[0m\u001b[37m\u001b[0m \u001b[1m0s\u001b[0m 10ms/step - accuracy: 0.6943 - loss: 0.8356 - val_accuracy: 0.6638 - val_loss: 0.6170\n",
      "Epoch 7/50\n",
      "\u001b[1m39/45\u001b[0m \u001b[32m━━━━━━━━━━━━━━━━━\u001b[0m\u001b[37m━━━\u001b[0m \u001b[1m0s\u001b[0m 8ms/step - accuracy: 0.7312 - loss: 0.7674"
     ]
    },
    {
     "name": "stderr",
     "output_type": "stream",
     "text": [
      "WARNING:absl:You are saving your model as an HDF5 file via `model.save()` or `keras.saving.save_model(model)`. This file format is considered legacy. We recommend using instead the native Keras format, e.g. `model.save('my_model.keras')` or `keras.saving.save_model(model, 'my_model.keras')`. \n"
     ]
    },
    {
     "name": "stdout",
     "output_type": "stream",
     "text": [
      "\u001b[1m45/45\u001b[0m \u001b[32m━━━━━━━━━━━━━━━━━━━━\u001b[0m\u001b[37m\u001b[0m \u001b[1m1s\u001b[0m 11ms/step - accuracy: 0.7291 - loss: 0.7689 - val_accuracy: 0.6695 - val_loss: 0.6587\n",
      "Epoch 8/50\n",
      "\u001b[1m40/45\u001b[0m \u001b[32m━━━━━━━━━━━━━━━━━\u001b[0m\u001b[37m━━━\u001b[0m \u001b[1m0s\u001b[0m 7ms/step - accuracy: 0.7639 - loss: 0.6928"
     ]
    },
    {
     "name": "stderr",
     "output_type": "stream",
     "text": [
      "WARNING:absl:You are saving your model as an HDF5 file via `model.save()` or `keras.saving.save_model(model)`. This file format is considered legacy. We recommend using instead the native Keras format, e.g. `model.save('my_model.keras')` or `keras.saving.save_model(model, 'my_model.keras')`. \n"
     ]
    },
    {
     "name": "stdout",
     "output_type": "stream",
     "text": [
      "\u001b[1m45/45\u001b[0m \u001b[32m━━━━━━━━━━━━━━━━━━━━\u001b[0m\u001b[37m\u001b[0m \u001b[1m0s\u001b[0m 10ms/step - accuracy: 0.7627 - loss: 0.6937 - val_accuracy: 0.6780 - val_loss: 0.6140\n",
      "Epoch 9/50\n",
      "\u001b[1m45/45\u001b[0m \u001b[32m━━━━━━━━━━━━━━━━━━━━\u001b[0m\u001b[37m\u001b[0m \u001b[1m0s\u001b[0m 9ms/step - accuracy: 0.7984 - loss: 0.6342 - val_accuracy: 0.6554 - val_loss: 0.7823\n",
      "Epoch 10/50\n",
      "\u001b[1m45/45\u001b[0m \u001b[32m━━━━━━━━━━━━━━━━━━━━\u001b[0m\u001b[37m\u001b[0m \u001b[1m0s\u001b[0m 9ms/step - accuracy: 0.8251 - loss: 0.5313 - val_accuracy: 0.6102 - val_loss: 1.0041\n",
      "Epoch 11/50\n",
      "\u001b[1m45/45\u001b[0m \u001b[32m━━━━━━━━━━━━━━━━━━━━\u001b[0m\u001b[37m\u001b[0m \u001b[1m0s\u001b[0m 9ms/step - accuracy: 0.8671 - loss: 0.4446 - val_accuracy: 0.6469 - val_loss: 0.8883\n",
      "Epoch 12/50\n",
      "\u001b[1m45/45\u001b[0m \u001b[32m━━━━━━━━━━━━━━━━━━━━\u001b[0m\u001b[37m\u001b[0m \u001b[1m0s\u001b[0m 9ms/step - accuracy: 0.8829 - loss: 0.4042 - val_accuracy: 0.6271 - val_loss: 1.0608\n",
      "Epoch 13/50\n",
      "\u001b[1m45/45\u001b[0m \u001b[32m━━━━━━━━━━━━━━━━━━━━\u001b[0m\u001b[37m\u001b[0m \u001b[1m0s\u001b[0m 9ms/step - accuracy: 0.8943 - loss: 0.3795 - val_accuracy: 0.5932 - val_loss: 1.0827\n",
      "Epoch 14/50\n",
      "\u001b[1m45/45\u001b[0m \u001b[32m━━━━━━━━━━━━━━━━━━━━\u001b[0m\u001b[37m\u001b[0m \u001b[1m0s\u001b[0m 9ms/step - accuracy: 0.9037 - loss: 0.3790 - val_accuracy: 0.6497 - val_loss: 1.1554\n",
      "Epoch 15/50\n",
      "\u001b[1m45/45\u001b[0m \u001b[32m━━━━━━━━━━━━━━━━━━━━\u001b[0m\u001b[37m\u001b[0m \u001b[1m0s\u001b[0m 9ms/step - accuracy: 0.9178 - loss: 0.2934 - val_accuracy: 0.6158 - val_loss: 1.1793\n",
      "Epoch 16/50\n",
      "\u001b[1m45/45\u001b[0m \u001b[32m━━━━━━━━━━━━━━━━━━━━\u001b[0m\u001b[37m\u001b[0m \u001b[1m0s\u001b[0m 9ms/step - accuracy: 0.9318 - loss: 0.2619 - val_accuracy: 0.6582 - val_loss: 1.3135\n",
      "Epoch 17/50\n",
      "\u001b[1m45/45\u001b[0m \u001b[32m━━━━━━━━━━━━━━━━━━━━\u001b[0m\u001b[37m\u001b[0m \u001b[1m0s\u001b[0m 9ms/step - accuracy: 0.9496 - loss: 0.1680 - val_accuracy: 0.6017 - val_loss: 1.4109\n",
      "Epoch 18/50\n",
      "\u001b[1m45/45\u001b[0m \u001b[32m━━━━━━━━━━━━━━━━━━━━\u001b[0m\u001b[37m\u001b[0m \u001b[1m0s\u001b[0m 9ms/step - accuracy: 0.9558 - loss: 0.1941 - val_accuracy: 0.6441 - val_loss: 1.5465\n",
      "Epoch 19/50\n",
      "\u001b[1m45/45\u001b[0m \u001b[32m━━━━━━━━━━━━━━━━━━━━\u001b[0m\u001b[37m\u001b[0m \u001b[1m1s\u001b[0m 11ms/step - accuracy: 0.9561 - loss: 0.1939 - val_accuracy: 0.6102 - val_loss: 1.4851\n",
      "Epoch 20/50\n",
      "\u001b[1m45/45\u001b[0m \u001b[32m━━━━━━━━━━━━━━━━━━━━\u001b[0m\u001b[37m\u001b[0m \u001b[1m1s\u001b[0m 11ms/step - accuracy: 0.9673 - loss: 0.1198 - val_accuracy: 0.5621 - val_loss: 1.7717\n",
      "Epoch 21/50\n",
      "\u001b[1m45/45\u001b[0m \u001b[32m━━━━━━━━━━━━━━━━━━━━\u001b[0m\u001b[37m\u001b[0m \u001b[1m0s\u001b[0m 10ms/step - accuracy: 0.9536 - loss: 0.1645 - val_accuracy: 0.6271 - val_loss: 1.2676\n",
      "Epoch 22/50\n",
      "\u001b[1m45/45\u001b[0m \u001b[32m━━━━━━━━━━━━━━━━━━━━\u001b[0m\u001b[37m\u001b[0m \u001b[1m0s\u001b[0m 9ms/step - accuracy: 0.9829 - loss: 0.0764 - val_accuracy: 0.5960 - val_loss: 1.6675\n",
      "Epoch 23/50\n",
      "\u001b[1m45/45\u001b[0m \u001b[32m━━━━━━━━━━━━━━━━━━━━\u001b[0m\u001b[37m\u001b[0m \u001b[1m0s\u001b[0m 9ms/step - accuracy: 0.9683 - loss: 0.1423 - val_accuracy: 0.5650 - val_loss: 1.8688\n",
      "Epoch 24/50\n",
      "\u001b[1m45/45\u001b[0m \u001b[32m━━━━━━━━━━━━━━━━━━━━\u001b[0m\u001b[37m\u001b[0m \u001b[1m0s\u001b[0m 9ms/step - accuracy: 0.9491 - loss: 0.1787 - val_accuracy: 0.5904 - val_loss: 1.7117\n",
      "Epoch 25/50\n",
      "\u001b[1m45/45\u001b[0m \u001b[32m━━━━━━━━━━━━━━━━━━━━\u001b[0m\u001b[37m\u001b[0m \u001b[1m0s\u001b[0m 9ms/step - accuracy: 0.9781 - loss: 0.0936 - val_accuracy: 0.5960 - val_loss: 1.9127\n",
      "Epoch 26/50\n",
      "\u001b[1m45/45\u001b[0m \u001b[32m━━━━━━━━━━━━━━━━━━━━\u001b[0m\u001b[37m\u001b[0m \u001b[1m0s\u001b[0m 9ms/step - accuracy: 0.9691 - loss: 0.1496 - val_accuracy: 0.6073 - val_loss: 1.8590\n",
      "Epoch 27/50\n",
      "\u001b[1m45/45\u001b[0m \u001b[32m━━━━━━━━━━━━━━━━━━━━\u001b[0m\u001b[37m\u001b[0m \u001b[1m0s\u001b[0m 9ms/step - accuracy: 0.9676 - loss: 0.1163 - val_accuracy: 0.5763 - val_loss: 2.2662\n",
      "Epoch 28/50\n",
      "\u001b[1m45/45\u001b[0m \u001b[32m━━━━━━━━━━━━━━━━━━━━\u001b[0m\u001b[37m\u001b[0m \u001b[1m0s\u001b[0m 9ms/step - accuracy: 0.9785 - loss: 0.0925 - val_accuracy: 0.5876 - val_loss: 2.2408\n",
      "Epoch 29/50\n",
      "\u001b[1m45/45\u001b[0m \u001b[32m━━━━━━━━━━━━━━━━━━━━\u001b[0m\u001b[37m\u001b[0m \u001b[1m0s\u001b[0m 9ms/step - accuracy: 0.9744 - loss: 0.1125 - val_accuracy: 0.6158 - val_loss: 2.0146\n",
      "Epoch 30/50\n",
      "\u001b[1m45/45\u001b[0m \u001b[32m━━━━━━━━━━━━━━━━━━━━\u001b[0m\u001b[37m\u001b[0m \u001b[1m1s\u001b[0m 12ms/step - accuracy: 0.9754 - loss: 0.1210 - val_accuracy: 0.5424 - val_loss: 2.7668\n",
      "Epoch 31/50\n",
      "\u001b[1m45/45\u001b[0m \u001b[32m━━━━━━━━━━━━━━━━━━━━\u001b[0m\u001b[37m\u001b[0m \u001b[1m0s\u001b[0m 9ms/step - accuracy: 0.9935 - loss: 0.0341 - val_accuracy: 0.5198 - val_loss: 3.4981\n",
      "Epoch 32/50\n",
      "\u001b[1m45/45\u001b[0m \u001b[32m━━━━━━━━━━━━━━━━━━━━\u001b[0m\u001b[37m\u001b[0m \u001b[1m1s\u001b[0m 13ms/step - accuracy: 0.9670 - loss: 0.1781 - val_accuracy: 0.6667 - val_loss: 2.2706\n",
      "Epoch 33/50\n",
      "\u001b[1m45/45\u001b[0m \u001b[32m━━━━━━━━━━━━━━━━━━━━\u001b[0m\u001b[37m\u001b[0m \u001b[1m1s\u001b[0m 11ms/step - accuracy: 0.9562 - loss: 0.2061 - val_accuracy: 0.6328 - val_loss: 2.1257\n",
      "Epoch 34/50\n",
      "\u001b[1m45/45\u001b[0m \u001b[32m━━━━━━━━━━━━━━━━━━━━\u001b[0m\u001b[37m\u001b[0m \u001b[1m0s\u001b[0m 9ms/step - accuracy: 0.9702 - loss: 0.1074 - val_accuracy: 0.5593 - val_loss: 2.6600\n",
      "Epoch 35/50\n",
      "\u001b[1m45/45\u001b[0m \u001b[32m━━━━━━━━━━━━━━━━━━━━\u001b[0m\u001b[37m\u001b[0m \u001b[1m0s\u001b[0m 10ms/step - accuracy: 0.9730 - loss: 0.1158 - val_accuracy: 0.5847 - val_loss: 2.3030\n",
      "Epoch 36/50\n",
      "\u001b[1m45/45\u001b[0m \u001b[32m━━━━━━━━━━━━━━━━━━━━\u001b[0m\u001b[37m\u001b[0m \u001b[1m0s\u001b[0m 10ms/step - accuracy: 0.9885 - loss: 0.0522 - val_accuracy: 0.6186 - val_loss: 2.1268\n",
      "Epoch 37/50\n",
      "\u001b[1m45/45\u001b[0m \u001b[32m━━━━━━━━━━━━━━━━━━━━\u001b[0m\u001b[37m\u001b[0m \u001b[1m0s\u001b[0m 10ms/step - accuracy: 0.9863 - loss: 0.0582 - val_accuracy: 0.6384 - val_loss: 1.9209\n",
      "Epoch 38/50\n",
      "\u001b[1m45/45\u001b[0m \u001b[32m━━━━━━━━━━━━━━━━━━━━\u001b[0m\u001b[37m\u001b[0m \u001b[1m0s\u001b[0m 10ms/step - accuracy: 0.9836 - loss: 0.1018 - val_accuracy: 0.5847 - val_loss: 2.4994\n",
      "Epoch 39/50\n",
      "\u001b[1m45/45\u001b[0m \u001b[32m━━━━━━━━━━━━━━━━━━━━\u001b[0m\u001b[37m\u001b[0m \u001b[1m0s\u001b[0m 10ms/step - accuracy: 0.9817 - loss: 0.0621 - val_accuracy: 0.6102 - val_loss: 2.2207\n",
      "Epoch 40/50\n",
      "\u001b[1m45/45\u001b[0m \u001b[32m━━━━━━━━━━━━━━━━━━━━\u001b[0m\u001b[37m\u001b[0m \u001b[1m0s\u001b[0m 9ms/step - accuracy: 0.9842 - loss: 0.0846 - val_accuracy: 0.5960 - val_loss: 2.2961\n",
      "Epoch 41/50\n",
      "\u001b[1m45/45\u001b[0m \u001b[32m━━━━━━━━━━━━━━━━━━━━\u001b[0m\u001b[37m\u001b[0m \u001b[1m0s\u001b[0m 10ms/step - accuracy: 0.9855 - loss: 0.0668 - val_accuracy: 0.5565 - val_loss: 2.5694\n",
      "Epoch 42/50\n",
      "\u001b[1m45/45\u001b[0m \u001b[32m━━━━━━━━━━━━━━━━━━━━\u001b[0m\u001b[37m\u001b[0m \u001b[1m1s\u001b[0m 12ms/step - accuracy: 0.9884 - loss: 0.0448 - val_accuracy: 0.6780 - val_loss: 2.4111\n",
      "Epoch 43/50\n",
      "\u001b[1m45/45\u001b[0m \u001b[32m━━━━━━━━━━━━━━━━━━━━\u001b[0m\u001b[37m\u001b[0m \u001b[1m0s\u001b[0m 10ms/step - accuracy: 0.9802 - loss: 0.0820 - val_accuracy: 0.5932 - val_loss: 3.0540\n",
      "Epoch 44/50\n",
      "\u001b[1m45/45\u001b[0m \u001b[32m━━━━━━━━━━━━━━━━━━━━\u001b[0m\u001b[37m\u001b[0m \u001b[1m1s\u001b[0m 10ms/step - accuracy: 0.9710 - loss: 0.1793 - val_accuracy: 0.6638 - val_loss: 2.2988\n",
      "Epoch 45/50\n",
      "\u001b[1m45/45\u001b[0m \u001b[32m━━━━━━━━━━━━━━━━━━━━\u001b[0m\u001b[37m\u001b[0m \u001b[1m0s\u001b[0m 10ms/step - accuracy: 0.9816 - loss: 0.1017 - val_accuracy: 0.6638 - val_loss: 2.0969\n",
      "Epoch 46/50\n",
      "\u001b[1m45/45\u001b[0m \u001b[32m━━━━━━━━━━━━━━━━━━━━\u001b[0m\u001b[37m\u001b[0m \u001b[1m0s\u001b[0m 10ms/step - accuracy: 0.9879 - loss: 0.0619 - val_accuracy: 0.5847 - val_loss: 2.8550\n",
      "Epoch 47/50\n",
      "\u001b[1m45/45\u001b[0m \u001b[32m━━━━━━━━━━━━━━━━━━━━\u001b[0m\u001b[37m\u001b[0m \u001b[1m0s\u001b[0m 10ms/step - accuracy: 0.9878 - loss: 0.0366 - val_accuracy: 0.5650 - val_loss: 2.5604\n",
      "Epoch 48/50\n",
      "\u001b[1m45/45\u001b[0m \u001b[32m━━━━━━━━━━━━━━━━━━━━\u001b[0m\u001b[37m\u001b[0m \u001b[1m0s\u001b[0m 10ms/step - accuracy: 0.9935 - loss: 0.0247 - val_accuracy: 0.6384 - val_loss: 2.2434\n",
      "Epoch 49/50\n",
      "\u001b[1m45/45\u001b[0m \u001b[32m━━━━━━━━━━━━━━━━━━━━\u001b[0m\u001b[37m\u001b[0m \u001b[1m0s\u001b[0m 10ms/step - accuracy: 0.9880 - loss: 0.0544 - val_accuracy: 0.6497 - val_loss: 2.4358\n",
      "Epoch 50/50\n",
      "\u001b[1m45/45\u001b[0m \u001b[32m━━━━━━━━━━━━━━━━━━━━\u001b[0m\u001b[37m\u001b[0m \u001b[1m0s\u001b[0m 10ms/step - accuracy: 0.9901 - loss: 0.0492 - val_accuracy: 0.6102 - val_loss: 2.8960\n"
     ]
    },
    {
     "data": {
      "text/plain": [
       "<keras.src.callbacks.history.History at 0x1d80e1e86e0>"
      ]
     },
     "execution_count": 209,
     "metadata": {},
     "output_type": "execute_result"
    }
   ],
   "source": [
    "model.fit(\n",
    "    x=X_data_train,\n",
    "    y=y_data_train,\n",
    "    epochs=50,\n",
    "    validation_data=(X_data_test, y_data_test),\n",
    "    verbose=1,\n",
    "    callbacks=[checkpoint],\n",
    "    class_weight=class_weight,\n",
    ")"
   ]
  },
  {
   "cell_type": "code",
   "execution_count": 210,
   "id": "e104d203-6763-446a-bf45-d5cc72e1d1ed",
   "metadata": {},
   "outputs": [
    {
     "name": "stderr",
     "output_type": "stream",
     "text": [
      "WARNING:absl:Compiled the loaded model, but the compiled metrics have yet to be built. `model.compile_metrics` will be empty until you train or evaluate the model.\n"
     ]
    },
    {
     "name": "stdout",
     "output_type": "stream",
     "text": [
      "\u001b[1m12/12\u001b[0m \u001b[32m━━━━━━━━━━━━━━━━━━━━\u001b[0m\u001b[37m\u001b[0m \u001b[1m1s\u001b[0m 5ms/step - accuracy: 0.6491 - loss: 0.6699  \n",
      "Accuracy over validation: 67.80%\n"
     ]
    }
   ],
   "source": [
    "model = tf.keras.models.load_model(\"model.h5\")\n",
    "acc = model.evaluate(x=X_data_test, y=y_data_test)\n",
    "print(\"Accuracy over validation: {:.2f}%\".format(acc[1] * 100))"
   ]
  },
  {
   "cell_type": "markdown",
   "id": "78e38ee0-cc2a-481d-9bbd-f9ab5e92a86d",
   "metadata": {},
   "source": [
    "Now, attempting the same for the differenced time series"
   ]
  },
  {
   "cell_type": "code",
   "execution_count": 217,
   "id": "579f7521-092b-4c5b-9d10-e0517f8cea9d",
   "metadata": {},
   "outputs": [
    {
     "name": "stdout",
     "output_type": "stream",
     "text": [
      "(1130, 30)\n"
     ]
    },
    {
     "data": {
      "image/png": "[encoded data removed]",
      "text/plain": [
       "<Figure size 600x600 with 1 Axes>"
      ]
     },
     "metadata": {},
     "output_type": "display_data"
    }
   ],
   "source": [
    "X_train = []\n",
    "window_size = 30\n",
    "for i in range(window_size, differenced_data.shape[0]):\n",
    "    X_train.append(differenced_data[\"Close\"][i - window_size : i])\n",
    "X_train = np.array(X_train)\n",
    "print(X_train.shape)\n",
    "# Define a \"window_size\"-days interval\n",
    "days = np.linspace(1, X_train.shape[0], num=X_train.shape[0])\n",
    "# Plot the overlapping time series\n",
    "plt.figure(figsize=(6, 6))\n",
    "for i in range(241):\n",
    "    plt.plot(days[i : window_size + i], X_train[i, :])"
   ]
  },
  {
   "cell_type": "code",
   "execution_count": 219,
   "id": "5f2c0a7e-1f76-4fbb-927e-4a283646e198",
   "metadata": {},
   "outputs": [
    {
     "name": "stdout",
     "output_type": "stream",
     "text": [
      "(1130, 30, 30)\n"
     ]
    }
   ],
   "source": [
    "transformer = GramianAngularField()\n",
    "X_train_new = transformer.transform(X_train)\n",
    "print(X_train_new.shape)"
   ]
  },
  {
   "cell_type": "code",
   "execution_count": 223,
   "id": "5e7eb850-26fa-4838-924f-d0d6412afd2d",
   "metadata": {},
   "outputs": [
    {
     "name": "stderr",
     "output_type": "stream",
     "text": [
      "C:\\Users\\susha\\AppData\\Local\\Temp\\ipykernel_19564\\2046321760.py:4: FutureWarning: Series.__getitem__ treating keys as positions is deprecated. In a future version, integer keys will always be treated as labels (consistent with DataFrame behavior). To access a value by position, use `ser.iloc[pos]`\n",
      "  y_data.append(differenced_data[\"Close\"][i] < differenced_data[\"Close\"][i + window_size])\n"
     ]
    },
    {
     "data": {
      "text/plain": [
       "(1100,)"
      ]
     },
     "execution_count": 223,
     "metadata": {},
     "output_type": "execute_result"
    }
   ],
   "source": [
    "# Generate the labels: 1 if price goes up after window_size days, 0 otherwise\n",
    "y_data = []\n",
    "for i in range(window_size, differenced_data[\"Close\"].shape[0] - window_size):\n",
    "    y_data.append(differenced_data[\"Close\"][i] < differenced_data[\"Close\"][i + window_size])\n",
    "y_data = np.array(y_data)\n",
    "y_data.shape"
   ]
  },
  {
   "cell_type": "code",
   "execution_count": 225,
   "id": "73688f1e-7f78-453a-ac4e-d245f75f2dc4",
   "metadata": {},
   "outputs": [
    {
     "data": {
      "text/plain": [
       "(1100, 30, 30)"
      ]
     },
     "execution_count": 225,
     "metadata": {},
     "output_type": "execute_result"
    }
   ],
   "source": [
    "# Determine the examples to be used as inputs in the model and rescale them to the [0,255] scale\n",
    "X_data = X_train_new[:-window_size]\n",
    "for i in range(X_data.shape[0]):\n",
    "    X_data[i] = (X_data[i] - np.min(X_data[i])) / (\n",
    "        np.max(X_data[i]) - np.min(X_data[i])\n",
    "    )\n",
    "# We could simply write X_data = (X_data + 1)/2\n",
    "X_data = X_data * 255\n",
    "X_data.shape"
   ]
  },
  {
   "cell_type": "code",
   "execution_count": 227,
   "id": "e48901d2-19c9-4aa5-bead-155fb1587ada",
   "metadata": {},
   "outputs": [],
   "source": [
    "# Split into train and test\n",
    "train_split = 0.8\n",
    "y_data_train = y_data[: int(train_split * y_data.shape[0])]\n",
    "y_data_test = y_data[int(train_split * y_data.shape[0]) :]\n",
    "X_data_train = X_data[: int(train_split * y_data.shape[0])]\n",
    "X_data_test = X_data[int(train_split * y_data.shape[0]) :]"
   ]
  },
  {
   "cell_type": "code",
   "execution_count": 229,
   "id": "3d8ff37f-7af2-4d62-857e-4a71eb3746f3",
   "metadata": {},
   "outputs": [
    {
     "name": "stderr",
     "output_type": "stream",
     "text": [
      "C:\\Users\\susha\\anaconda3\\Lib\\site-packages\\keras\\src\\layers\\core\\input_layer.py:27: UserWarning: Argument `input_shape` is deprecated. Use `shape` instead.\n",
      "  warnings.warn(\n"
     ]
    }
   ],
   "source": [
    "model = tf.keras.Sequential()\n",
    "# Input layer\n",
    "model.add(tf.keras.layers.InputLayer(input_shape=(30, 30, 1)))\n",
    "model.add(tf.keras.layers.Conv2D(16, 3, activation=\"relu\"))\n",
    "model.add(tf.keras.layers.MaxPooling2D(2))\n",
    "model.add(tf.keras.layers.Conv2D(32, 3, activation=\"relu\"))\n",
    "model.add(tf.keras.layers.MaxPooling2D(2))\n",
    "model.add(tf.keras.layers.Conv2D(64, 3, activation=\"relu\"))\n",
    "model.add(tf.keras.layers.MaxPooling2D(2))\n",
    "model.add(tf.keras.layers.Flatten())\n",
    "model.add(tf.keras.layers.Dense(1024, activation=\"relu\"))\n",
    "model.add(tf.keras.layers.Dropout(0.5, seed=1234))\n",
    "model.add(tf.keras.layers.Dense(1, activation=\"sigmoid\"))"
   ]
  },
  {
   "cell_type": "code",
   "execution_count": 231,
   "id": "3b271906-12ad-4604-a896-768ebef3c7ae",
   "metadata": {},
   "outputs": [
    {
     "data": {
      "text/html": [
       "<pre style=\"white-space:pre;overflow-x:auto;line-height:normal;font-family:Menlo,'DejaVu Sans Mono',consolas,'Courier New',monospace\"><span style=\"font-weight: bold\">Model: \"sequential_6\"</span>\n",
       "</pre>\n"
      ],
      "text/plain": [
       "\u001b[1mModel: \"sequential_6\"\u001b[0m\n"
      ]
     },
     "metadata": {},
     "output_type": "display_data"
    },
    {
     "data": {
      "text/html": [
       "<pre style=\"white-space:pre;overflow-x:auto;line-height:normal;font-family:Menlo,'DejaVu Sans Mono',consolas,'Courier New',monospace\">┏━━━━━━━━━━━━━━━━━━━━━━━━━━━━━━━━━━━━━━┳━━━━━━━━━━━━━━━━━━━━━━━━━━━━━┳━━━━━━━━━━━━━━━━━┓\n",
       "┃<span style=\"font-weight: bold\"> Layer (type)                         </span>┃<span style=\"font-weight: bold\"> Output Shape                </span>┃<span style=\"font-weight: bold\">         Param # </span>┃\n",
       "┡━━━━━━━━━━━━━━━━━━━━━━━━━━━━━━━━━━━━━━╇━━━━━━━━━━━━━━━━━━━━━━━━━━━━━╇━━━━━━━━━━━━━━━━━┩\n",
       "│ conv2d_8 (<span style=\"color: #0087ff; text-decoration-color: #0087ff\">Conv2D</span>)                    │ (<span style=\"color: #00d7ff; text-decoration-color: #00d7ff\">None</span>, <span style=\"color: #00af00; text-decoration-color: #00af00\">28</span>, <span style=\"color: #00af00; text-decoration-color: #00af00\">28</span>, <span style=\"color: #00af00; text-decoration-color: #00af00\">16</span>)          │             <span style=\"color: #00af00; text-decoration-color: #00af00\">160</span> │\n",
       "├──────────────────────────────────────┼─────────────────────────────┼─────────────────┤\n",
       "│ max_pooling2d_8 (<span style=\"color: #0087ff; text-decoration-color: #0087ff\">MaxPooling2D</span>)       │ (<span style=\"color: #00d7ff; text-decoration-color: #00d7ff\">None</span>, <span style=\"color: #00af00; text-decoration-color: #00af00\">14</span>, <span style=\"color: #00af00; text-decoration-color: #00af00\">14</span>, <span style=\"color: #00af00; text-decoration-color: #00af00\">16</span>)          │               <span style=\"color: #00af00; text-decoration-color: #00af00\">0</span> │\n",
       "├──────────────────────────────────────┼─────────────────────────────┼─────────────────┤\n",
       "│ conv2d_9 (<span style=\"color: #0087ff; text-decoration-color: #0087ff\">Conv2D</span>)                    │ (<span style=\"color: #00d7ff; text-decoration-color: #00d7ff\">None</span>, <span style=\"color: #00af00; text-decoration-color: #00af00\">12</span>, <span style=\"color: #00af00; text-decoration-color: #00af00\">12</span>, <span style=\"color: #00af00; text-decoration-color: #00af00\">32</span>)          │           <span style=\"color: #00af00; text-decoration-color: #00af00\">4,640</span> │\n",
       "├──────────────────────────────────────┼─────────────────────────────┼─────────────────┤\n",
       "│ max_pooling2d_9 (<span style=\"color: #0087ff; text-decoration-color: #0087ff\">MaxPooling2D</span>)       │ (<span style=\"color: #00d7ff; text-decoration-color: #00d7ff\">None</span>, <span style=\"color: #00af00; text-decoration-color: #00af00\">6</span>, <span style=\"color: #00af00; text-decoration-color: #00af00\">6</span>, <span style=\"color: #00af00; text-decoration-color: #00af00\">32</span>)            │               <span style=\"color: #00af00; text-decoration-color: #00af00\">0</span> │\n",
       "├──────────────────────────────────────┼─────────────────────────────┼─────────────────┤\n",
       "│ conv2d_10 (<span style=\"color: #0087ff; text-decoration-color: #0087ff\">Conv2D</span>)                   │ (<span style=\"color: #00d7ff; text-decoration-color: #00d7ff\">None</span>, <span style=\"color: #00af00; text-decoration-color: #00af00\">4</span>, <span style=\"color: #00af00; text-decoration-color: #00af00\">4</span>, <span style=\"color: #00af00; text-decoration-color: #00af00\">64</span>)            │          <span style=\"color: #00af00; text-decoration-color: #00af00\">18,496</span> │\n",
       "├──────────────────────────────────────┼─────────────────────────────┼─────────────────┤\n",
       "│ max_pooling2d_10 (<span style=\"color: #0087ff; text-decoration-color: #0087ff\">MaxPooling2D</span>)      │ (<span style=\"color: #00d7ff; text-decoration-color: #00d7ff\">None</span>, <span style=\"color: #00af00; text-decoration-color: #00af00\">2</span>, <span style=\"color: #00af00; text-decoration-color: #00af00\">2</span>, <span style=\"color: #00af00; text-decoration-color: #00af00\">64</span>)            │               <span style=\"color: #00af00; text-decoration-color: #00af00\">0</span> │\n",
       "├──────────────────────────────────────┼─────────────────────────────┼─────────────────┤\n",
       "│ flatten_3 (<span style=\"color: #0087ff; text-decoration-color: #0087ff\">Flatten</span>)                  │ (<span style=\"color: #00d7ff; text-decoration-color: #00d7ff\">None</span>, <span style=\"color: #00af00; text-decoration-color: #00af00\">256</span>)                 │               <span style=\"color: #00af00; text-decoration-color: #00af00\">0</span> │\n",
       "├──────────────────────────────────────┼─────────────────────────────┼─────────────────┤\n",
       "│ dense_15 (<span style=\"color: #0087ff; text-decoration-color: #0087ff\">Dense</span>)                     │ (<span style=\"color: #00d7ff; text-decoration-color: #00d7ff\">None</span>, <span style=\"color: #00af00; text-decoration-color: #00af00\">1024</span>)                │         <span style=\"color: #00af00; text-decoration-color: #00af00\">263,168</span> │\n",
       "├──────────────────────────────────────┼─────────────────────────────┼─────────────────┤\n",
       "│ dropout_9 (<span style=\"color: #0087ff; text-decoration-color: #0087ff\">Dropout</span>)                  │ (<span style=\"color: #00d7ff; text-decoration-color: #00d7ff\">None</span>, <span style=\"color: #00af00; text-decoration-color: #00af00\">1024</span>)                │               <span style=\"color: #00af00; text-decoration-color: #00af00\">0</span> │\n",
       "├──────────────────────────────────────┼─────────────────────────────┼─────────────────┤\n",
       "│ dense_16 (<span style=\"color: #0087ff; text-decoration-color: #0087ff\">Dense</span>)                     │ (<span style=\"color: #00d7ff; text-decoration-color: #00d7ff\">None</span>, <span style=\"color: #00af00; text-decoration-color: #00af00\">1</span>)                   │           <span style=\"color: #00af00; text-decoration-color: #00af00\">1,025</span> │\n",
       "└──────────────────────────────────────┴─────────────────────────────┴─────────────────┘\n",
       "</pre>\n"
      ],
      "text/plain": [
       "┏━━━━━━━━━━━━━━━━━━━━━━━━━━━━━━━━━━━━━━┳━━━━━━━━━━━━━━━━━━━━━━━━━━━━━┳━━━━━━━━━━━━━━━━━┓\n",
       "┃\u001b[1m \u001b[0m\u001b[1mLayer (type)                        \u001b[0m\u001b[1m \u001b[0m┃\u001b[1m \u001b[0m\u001b[1mOutput Shape               \u001b[0m\u001b[1m \u001b[0m┃\u001b[1m \u001b[0m\u001b[1m        Param #\u001b[0m\u001b[1m \u001b[0m┃\n",
       "┡━━━━━━━━━━━━━━━━━━━━━━━━━━━━━━━━━━━━━━╇━━━━━━━━━━━━━━━━━━━━━━━━━━━━━╇━━━━━━━━━━━━━━━━━┩\n",
       "│ conv2d_8 (\u001b[38;5;33mConv2D\u001b[0m)                    │ (\u001b[38;5;45mNone\u001b[0m, \u001b[38;5;34m28\u001b[0m, \u001b[38;5;34m28\u001b[0m, \u001b[38;5;34m16\u001b[0m)          │             \u001b[38;5;34m160\u001b[0m │\n",
       "├──────────────────────────────────────┼─────────────────────────────┼─────────────────┤\n",
       "│ max_pooling2d_8 (\u001b[38;5;33mMaxPooling2D\u001b[0m)       │ (\u001b[38;5;45mNone\u001b[0m, \u001b[38;5;34m14\u001b[0m, \u001b[38;5;34m14\u001b[0m, \u001b[38;5;34m16\u001b[0m)          │               \u001b[38;5;34m0\u001b[0m │\n",
       "├──────────────────────────────────────┼─────────────────────────────┼─────────────────┤\n",
       "│ conv2d_9 (\u001b[38;5;33mConv2D\u001b[0m)                    │ (\u001b[38;5;45mNone\u001b[0m, \u001b[38;5;34m12\u001b[0m, \u001b[38;5;34m12\u001b[0m, \u001b[38;5;34m32\u001b[0m)          │           \u001b[38;5;34m4,640\u001b[0m │\n",
       "├──────────────────────────────────────┼─────────────────────────────┼─────────────────┤\n",
       "│ max_pooling2d_9 (\u001b[38;5;33mMaxPooling2D\u001b[0m)       │ (\u001b[38;5;45mNone\u001b[0m, \u001b[38;5;34m6\u001b[0m, \u001b[38;5;34m6\u001b[0m, \u001b[38;5;34m32\u001b[0m)            │               \u001b[38;5;34m0\u001b[0m │\n",
       "├──────────────────────────────────────┼─────────────────────────────┼─────────────────┤\n",
       "│ conv2d_10 (\u001b[38;5;33mConv2D\u001b[0m)                   │ (\u001b[38;5;45mNone\u001b[0m, \u001b[38;5;34m4\u001b[0m, \u001b[38;5;34m4\u001b[0m, \u001b[38;5;34m64\u001b[0m)            │          \u001b[38;5;34m18,496\u001b[0m │\n",
       "├──────────────────────────────────────┼─────────────────────────────┼─────────────────┤\n",
       "│ max_pooling2d_10 (\u001b[38;5;33mMaxPooling2D\u001b[0m)      │ (\u001b[38;5;45mNone\u001b[0m, \u001b[38;5;34m2\u001b[0m, \u001b[38;5;34m2\u001b[0m, \u001b[38;5;34m64\u001b[0m)            │               \u001b[38;5;34m0\u001b[0m │\n",
       "├──────────────────────────────────────┼─────────────────────────────┼─────────────────┤\n",
       "│ flatten_3 (\u001b[38;5;33mFlatten\u001b[0m)                  │ (\u001b[38;5;45mNone\u001b[0m, \u001b[38;5;34m256\u001b[0m)                 │               \u001b[38;5;34m0\u001b[0m │\n",
       "├──────────────────────────────────────┼─────────────────────────────┼─────────────────┤\n",
       "│ dense_15 (\u001b[38;5;33mDense\u001b[0m)                     │ (\u001b[38;5;45mNone\u001b[0m, \u001b[38;5;34m1024\u001b[0m)                │         \u001b[38;5;34m263,168\u001b[0m │\n",
       "├──────────────────────────────────────┼─────────────────────────────┼─────────────────┤\n",
       "│ dropout_9 (\u001b[38;5;33mDropout\u001b[0m)                  │ (\u001b[38;5;45mNone\u001b[0m, \u001b[38;5;34m1024\u001b[0m)                │               \u001b[38;5;34m0\u001b[0m │\n",
       "├──────────────────────────────────────┼─────────────────────────────┼─────────────────┤\n",
       "│ dense_16 (\u001b[38;5;33mDense\u001b[0m)                     │ (\u001b[38;5;45mNone\u001b[0m, \u001b[38;5;34m1\u001b[0m)                   │           \u001b[38;5;34m1,025\u001b[0m │\n",
       "└──────────────────────────────────────┴─────────────────────────────┴─────────────────┘\n"
      ]
     },
     "metadata": {},
     "output_type": "display_data"
    },
    {
     "data": {
      "text/html": [
       "<pre style=\"white-space:pre;overflow-x:auto;line-height:normal;font-family:Menlo,'DejaVu Sans Mono',consolas,'Courier New',monospace\"><span style=\"font-weight: bold\"> Total params: </span><span style=\"color: #00af00; text-decoration-color: #00af00\">287,489</span> (1.10 MB)\n",
       "</pre>\n"
      ],
      "text/plain": [
       "\u001b[1m Total params: \u001b[0m\u001b[38;5;34m287,489\u001b[0m (1.10 MB)\n"
      ]
     },
     "metadata": {},
     "output_type": "display_data"
    },
    {
     "data": {
      "text/html": [
       "<pre style=\"white-space:pre;overflow-x:auto;line-height:normal;font-family:Menlo,'DejaVu Sans Mono',consolas,'Courier New',monospace\"><span style=\"font-weight: bold\"> Trainable params: </span><span style=\"color: #00af00; text-decoration-color: #00af00\">287,489</span> (1.10 MB)\n",
       "</pre>\n"
      ],
      "text/plain": [
       "\u001b[1m Trainable params: \u001b[0m\u001b[38;5;34m287,489\u001b[0m (1.10 MB)\n"
      ]
     },
     "metadata": {},
     "output_type": "display_data"
    },
    {
     "data": {
      "text/html": [
       "<pre style=\"white-space:pre;overflow-x:auto;line-height:normal;font-family:Menlo,'DejaVu Sans Mono',consolas,'Courier New',monospace\"><span style=\"font-weight: bold\"> Non-trainable params: </span><span style=\"color: #00af00; text-decoration-color: #00af00\">0</span> (0.00 B)\n",
       "</pre>\n"
      ],
      "text/plain": [
       "\u001b[1m Non-trainable params: \u001b[0m\u001b[38;5;34m0\u001b[0m (0.00 B)\n"
      ]
     },
     "metadata": {},
     "output_type": "display_data"
    }
   ],
   "source": [
    "model.summary()"
   ]
  },
  {
   "cell_type": "code",
   "execution_count": 233,
   "id": "b05749db-ffaf-4e9c-932f-410caed211a2",
   "metadata": {},
   "outputs": [
    {
     "name": "stdout",
     "output_type": "stream",
     "text": [
      "{0: 2.0952380952380953, 1: 1.0}\n"
     ]
    }
   ],
   "source": [
    "model.compile(loss=\"binary_crossentropy\", optimizer=\"RMSprop\", metrics=[\"accuracy\"])\n",
    "checkpoint = tf.keras.callbacks.ModelCheckpoint(\n",
    "    \"model.h5\", monitor=\"val_accuracy\", save_best_only=True, mode=\"auto\"\n",
    ")\n",
    "class_weight = {0: 1 / (1 - np.mean(y_data_train)), 1: 1.0}\n",
    "print(class_weight)"
   ]
  },
  {
   "cell_type": "code",
   "execution_count": 235,
   "id": "9918d11d-bfe6-4acd-8464-d55b10722fa5",
   "metadata": {},
   "outputs": [
    {
     "name": "stdout",
     "output_type": "stream",
     "text": [
      "Epoch 1/50\n",
      "\u001b[1m23/28\u001b[0m \u001b[32m━━━━━━━━━━━━━━━━\u001b[0m\u001b[37m━━━━\u001b[0m \u001b[1m0s\u001b[0m 7ms/step - accuracy: 0.5115 - loss: 12.0665"
     ]
    },
    {
     "name": "stderr",
     "output_type": "stream",
     "text": [
      "WARNING:absl:You are saving your model as an HDF5 file via `model.save()` or `keras.saving.save_model(model)`. This file format is considered legacy. We recommend using instead the native Keras format, e.g. `model.save('my_model.keras')` or `keras.saving.save_model(model, 'my_model.keras')`. \n"
     ]
    },
    {
     "name": "stdout",
     "output_type": "stream",
     "text": [
      "\u001b[1m28/28\u001b[0m \u001b[32m━━━━━━━━━━━━━━━━━━━━\u001b[0m\u001b[37m\u001b[0m \u001b[1m2s\u001b[0m 18ms/step - accuracy: 0.5083 - loss: 10.5593 - val_accuracy: 0.5182 - val_loss: 0.7384\n",
      "Epoch 2/50\n",
      "\u001b[1m22/28\u001b[0m \u001b[32m━━━━━━━━━━━━━━━\u001b[0m\u001b[37m━━━━━\u001b[0m \u001b[1m0s\u001b[0m 7ms/step - accuracy: 0.4695 - loss: 1.0798"
     ]
    },
    {
     "name": "stderr",
     "output_type": "stream",
     "text": [
      "WARNING:absl:You are saving your model as an HDF5 file via `model.save()` or `keras.saving.save_model(model)`. This file format is considered legacy. We recommend using instead the native Keras format, e.g. `model.save('my_model.keras')` or `keras.saving.save_model(model, 'my_model.keras')`. \n"
     ]
    },
    {
     "name": "stdout",
     "output_type": "stream",
     "text": [
      "\u001b[1m28/28\u001b[0m \u001b[32m━━━━━━━━━━━━━━━━━━━━\u001b[0m\u001b[37m\u001b[0m \u001b[1m0s\u001b[0m 12ms/step - accuracy: 0.4732 - loss: 1.0785 - val_accuracy: 0.5227 - val_loss: 0.7238\n",
      "Epoch 3/50\n",
      "\u001b[1m28/28\u001b[0m \u001b[32m━━━━━━━━━━━━━━━━━━━━\u001b[0m\u001b[37m\u001b[0m \u001b[1m0s\u001b[0m 10ms/step - accuracy: 0.4897 - loss: 1.0253 - val_accuracy: 0.5227 - val_loss: 0.7005\n",
      "Epoch 4/50\n",
      "\u001b[1m28/28\u001b[0m \u001b[32m━━━━━━━━━━━━━━━━━━━━\u001b[0m\u001b[37m\u001b[0m \u001b[1m0s\u001b[0m 11ms/step - accuracy: 0.4897 - loss: 1.0502 - val_accuracy: 0.5227 - val_loss: 0.7307\n",
      "Epoch 5/50\n",
      "\u001b[1m28/28\u001b[0m \u001b[32m━━━━━━━━━━━━━━━━━━━━\u001b[0m\u001b[37m\u001b[0m \u001b[1m0s\u001b[0m 11ms/step - accuracy: 0.4810 - loss: 0.9992 - val_accuracy: 0.5227 - val_loss: 0.7216\n",
      "Epoch 6/50\n",
      "\u001b[1m28/28\u001b[0m \u001b[32m━━━━━━━━━━━━━━━━━━━━\u001b[0m\u001b[37m\u001b[0m \u001b[1m0s\u001b[0m 10ms/step - accuracy: 0.4832 - loss: 0.9738 - val_accuracy: 0.5227 - val_loss: 0.7445\n",
      "Epoch 7/50\n",
      "\u001b[1m28/28\u001b[0m \u001b[32m━━━━━━━━━━━━━━━━━━━━\u001b[0m\u001b[37m\u001b[0m \u001b[1m0s\u001b[0m 10ms/step - accuracy: 0.4958 - loss: 1.0117 - val_accuracy: 0.5136 - val_loss: 0.7430\n",
      "Epoch 8/50\n",
      "\u001b[1m24/28\u001b[0m \u001b[32m━━━━━━━━━━━━━━━━━\u001b[0m\u001b[37m━━━\u001b[0m \u001b[1m0s\u001b[0m 7ms/step - accuracy: 0.4695 - loss: 1.0133"
     ]
    },
    {
     "name": "stderr",
     "output_type": "stream",
     "text": [
      "WARNING:absl:You are saving your model as an HDF5 file via `model.save()` or `keras.saving.save_model(model)`. This file format is considered legacy. We recommend using instead the native Keras format, e.g. `model.save('my_model.keras')` or `keras.saving.save_model(model, 'my_model.keras')`. \n"
     ]
    },
    {
     "name": "stdout",
     "output_type": "stream",
     "text": [
      "\u001b[1m28/28\u001b[0m \u001b[32m━━━━━━━━━━━━━━━━━━━━\u001b[0m\u001b[37m\u001b[0m \u001b[1m0s\u001b[0m 11ms/step - accuracy: 0.4707 - loss: 1.0105 - val_accuracy: 0.5318 - val_loss: 0.7655\n",
      "Epoch 9/50\n",
      "\u001b[1m28/28\u001b[0m \u001b[32m━━━━━━━━━━━━━━━━━━━━\u001b[0m\u001b[37m\u001b[0m \u001b[1m0s\u001b[0m 10ms/step - accuracy: 0.5375 - loss: 1.0441 - val_accuracy: 0.5318 - val_loss: 0.7864\n",
      "Epoch 10/50\n",
      "\u001b[1m28/28\u001b[0m \u001b[32m━━━━━━━━━━━━━━━━━━━━\u001b[0m\u001b[37m\u001b[0m \u001b[1m0s\u001b[0m 10ms/step - accuracy: 0.5173 - loss: 1.0009 - val_accuracy: 0.5182 - val_loss: 0.7694\n",
      "Epoch 11/50\n",
      "\u001b[1m28/28\u001b[0m \u001b[32m━━━━━━━━━━━━━━━━━━━━\u001b[0m\u001b[37m\u001b[0m \u001b[1m0s\u001b[0m 10ms/step - accuracy: 0.4919 - loss: 0.9870 - val_accuracy: 0.5091 - val_loss: 1.0922\n",
      "Epoch 12/50\n",
      "\u001b[1m28/28\u001b[0m \u001b[32m━━━━━━━━━━━━━━━━━━━━\u001b[0m\u001b[37m\u001b[0m \u001b[1m0s\u001b[0m 10ms/step - accuracy: 0.5118 - loss: 1.0236 - val_accuracy: 0.5182 - val_loss: 0.7671\n",
      "Epoch 13/50\n",
      "\u001b[1m28/28\u001b[0m \u001b[32m━━━━━━━━━━━━━━━━━━━━\u001b[0m\u001b[37m\u001b[0m \u001b[1m0s\u001b[0m 10ms/step - accuracy: 0.5185 - loss: 0.9675 - val_accuracy: 0.5182 - val_loss: 0.8904\n",
      "Epoch 14/50\n",
      "\u001b[1m28/28\u001b[0m \u001b[32m━━━━━━━━━━━━━━━━━━━━\u001b[0m\u001b[37m\u001b[0m \u001b[1m0s\u001b[0m 10ms/step - accuracy: 0.5201 - loss: 0.9988 - val_accuracy: 0.5182 - val_loss: 0.8041\n",
      "Epoch 15/50\n",
      "\u001b[1m28/28\u001b[0m \u001b[32m━━━━━━━━━━━━━━━━━━━━\u001b[0m\u001b[37m\u001b[0m \u001b[1m0s\u001b[0m 10ms/step - accuracy: 0.5431 - loss: 0.9685 - val_accuracy: 0.5136 - val_loss: 0.7957\n",
      "Epoch 16/50\n",
      "\u001b[1m28/28\u001b[0m \u001b[32m━━━━━━━━━━━━━━━━━━━━\u001b[0m\u001b[37m\u001b[0m \u001b[1m0s\u001b[0m 10ms/step - accuracy: 0.5388 - loss: 0.9418 - val_accuracy: 0.4773 - val_loss: 0.8277\n",
      "Epoch 17/50\n",
      "\u001b[1m28/28\u001b[0m \u001b[32m━━━━━━━━━━━━━━━━━━━━\u001b[0m\u001b[37m\u001b[0m \u001b[1m0s\u001b[0m 10ms/step - accuracy: 0.5651 - loss: 0.9251 - val_accuracy: 0.5227 - val_loss: 1.1985\n",
      "Epoch 18/50\n",
      "\u001b[1m28/28\u001b[0m \u001b[32m━━━━━━━━━━━━━━━━━━━━\u001b[0m\u001b[37m\u001b[0m \u001b[1m0s\u001b[0m 10ms/step - accuracy: 0.5933 - loss: 0.8826 - val_accuracy: 0.5136 - val_loss: 0.8540\n",
      "Epoch 19/50\n",
      "\u001b[1m28/28\u001b[0m \u001b[32m━━━━━━━━━━━━━━━━━━━━\u001b[0m\u001b[37m\u001b[0m \u001b[1m0s\u001b[0m 10ms/step - accuracy: 0.6355 - loss: 0.8904 - val_accuracy: 0.4818 - val_loss: 0.8251\n",
      "Epoch 20/50\n",
      "\u001b[1m28/28\u001b[0m \u001b[32m━━━━━━━━━━━━━━━━━━━━\u001b[0m\u001b[37m\u001b[0m \u001b[1m0s\u001b[0m 10ms/step - accuracy: 0.6632 - loss: 0.7926 - val_accuracy: 0.4545 - val_loss: 1.0307\n",
      "Epoch 21/50\n",
      "\u001b[1m28/28\u001b[0m \u001b[32m━━━━━━━━━━━━━━━━━━━━\u001b[0m\u001b[37m\u001b[0m \u001b[1m0s\u001b[0m 10ms/step - accuracy: 0.7034 - loss: 0.7916 - val_accuracy: 0.5000 - val_loss: 0.9577\n",
      "Epoch 22/50\n",
      "\u001b[1m28/28\u001b[0m \u001b[32m━━━━━━━━━━━━━━━━━━━━\u001b[0m\u001b[37m\u001b[0m \u001b[1m0s\u001b[0m 15ms/step - accuracy: 0.7310 - loss: 0.6760 - val_accuracy: 0.4727 - val_loss: 0.9851\n",
      "Epoch 23/50\n",
      "\u001b[1m28/28\u001b[0m \u001b[32m━━━━━━━━━━━━━━━━━━━━\u001b[0m\u001b[37m\u001b[0m \u001b[1m0s\u001b[0m 14ms/step - accuracy: 0.7761 - loss: 0.6402 - val_accuracy: 0.4636 - val_loss: 1.0379\n",
      "Epoch 24/50\n",
      "\u001b[1m28/28\u001b[0m \u001b[32m━━━━━━━━━━━━━━━━━━━━\u001b[0m\u001b[37m\u001b[0m \u001b[1m0s\u001b[0m 10ms/step - accuracy: 0.7805 - loss: 0.5782 - val_accuracy: 0.4727 - val_loss: 1.1764\n",
      "Epoch 25/50\n",
      "\u001b[1m28/28\u001b[0m \u001b[32m━━━━━━━━━━━━━━━━━━━━\u001b[0m\u001b[37m\u001b[0m \u001b[1m0s\u001b[0m 10ms/step - accuracy: 0.8201 - loss: 0.4774 - val_accuracy: 0.4500 - val_loss: 1.0889\n",
      "Epoch 26/50\n",
      "\u001b[1m28/28\u001b[0m \u001b[32m━━━━━━━━━━━━━━━━━━━━\u001b[0m\u001b[37m\u001b[0m \u001b[1m0s\u001b[0m 10ms/step - accuracy: 0.8454 - loss: 0.4503 - val_accuracy: 0.4591 - val_loss: 1.0423\n",
      "Epoch 27/50\n",
      "\u001b[1m28/28\u001b[0m \u001b[32m━━━━━━━━━━━━━━━━━━━━\u001b[0m\u001b[37m\u001b[0m \u001b[1m0s\u001b[0m 11ms/step - accuracy: 0.8676 - loss: 0.3964 - val_accuracy: 0.4727 - val_loss: 1.0132\n",
      "Epoch 28/50\n",
      "\u001b[1m28/28\u001b[0m \u001b[32m━━━━━━━━━━━━━━━━━━━━\u001b[0m\u001b[37m\u001b[0m \u001b[1m0s\u001b[0m 10ms/step - accuracy: 0.8811 - loss: 0.3638 - val_accuracy: 0.4727 - val_loss: 1.2489\n",
      "Epoch 29/50\n",
      "\u001b[1m28/28\u001b[0m \u001b[32m━━━━━━━━━━━━━━━━━━━━\u001b[0m\u001b[37m\u001b[0m \u001b[1m0s\u001b[0m 10ms/step - accuracy: 0.8956 - loss: 0.3280 - val_accuracy: 0.5136 - val_loss: 1.3795\n",
      "Epoch 30/50\n",
      "\u001b[1m28/28\u001b[0m \u001b[32m━━━━━━━━━━━━━━━━━━━━\u001b[0m\u001b[37m\u001b[0m \u001b[1m0s\u001b[0m 10ms/step - accuracy: 0.8923 - loss: 0.2812 - val_accuracy: 0.5091 - val_loss: 1.2905\n",
      "Epoch 31/50\n",
      "\u001b[1m28/28\u001b[0m \u001b[32m━━━━━━━━━━━━━━━━━━━━\u001b[0m\u001b[37m\u001b[0m \u001b[1m0s\u001b[0m 10ms/step - accuracy: 0.8951 - loss: 0.3058 - val_accuracy: 0.5136 - val_loss: 1.2520\n",
      "Epoch 32/50\n",
      "\u001b[1m28/28\u001b[0m \u001b[32m━━━━━━━━━━━━━━━━━━━━\u001b[0m\u001b[37m\u001b[0m \u001b[1m0s\u001b[0m 10ms/step - accuracy: 0.9390 - loss: 0.2158 - val_accuracy: 0.4955 - val_loss: 1.3389\n",
      "Epoch 33/50\n",
      "\u001b[1m28/28\u001b[0m \u001b[32m━━━━━━━━━━━━━━━━━━━━\u001b[0m\u001b[37m\u001b[0m \u001b[1m0s\u001b[0m 11ms/step - accuracy: 0.9166 - loss: 0.2209 - val_accuracy: 0.5045 - val_loss: 1.5819\n",
      "Epoch 34/50\n",
      "\u001b[1m28/28\u001b[0m \u001b[32m━━━━━━━━━━━━━━━━━━━━\u001b[0m\u001b[37m\u001b[0m \u001b[1m0s\u001b[0m 10ms/step - accuracy: 0.9516 - loss: 0.1536 - val_accuracy: 0.4636 - val_loss: 2.0638\n",
      "Epoch 35/50\n",
      "\u001b[1m28/28\u001b[0m \u001b[32m━━━━━━━━━━━━━━━━━━━━\u001b[0m\u001b[37m\u001b[0m \u001b[1m0s\u001b[0m 11ms/step - accuracy: 0.9338 - loss: 0.2376 - val_accuracy: 0.5273 - val_loss: 1.9189\n",
      "Epoch 36/50\n",
      "\u001b[1m28/28\u001b[0m \u001b[32m━━━━━━━━━━━━━━━━━━━━\u001b[0m\u001b[37m\u001b[0m \u001b[1m1s\u001b[0m 11ms/step - accuracy: 0.9549 - loss: 0.1883 - val_accuracy: 0.5091 - val_loss: 1.9598\n",
      "Epoch 37/50\n",
      "\u001b[1m28/28\u001b[0m \u001b[32m━━━━━━━━━━━━━━━━━━━━\u001b[0m\u001b[37m\u001b[0m \u001b[1m0s\u001b[0m 13ms/step - accuracy: 0.9569 - loss: 0.1499 - val_accuracy: 0.5045 - val_loss: 2.4549\n",
      "Epoch 38/50\n",
      "\u001b[1m28/28\u001b[0m \u001b[32m━━━━━━━━━━━━━━━━━━━━\u001b[0m\u001b[37m\u001b[0m \u001b[1m0s\u001b[0m 10ms/step - accuracy: 0.9211 - loss: 0.2607 - val_accuracy: 0.4909 - val_loss: 2.3016\n",
      "Epoch 39/50\n",
      "\u001b[1m28/28\u001b[0m \u001b[32m━━━━━━━━━━━━━━━━━━━━\u001b[0m\u001b[37m\u001b[0m \u001b[1m0s\u001b[0m 10ms/step - accuracy: 0.9202 - loss: 0.2438 - val_accuracy: 0.4545 - val_loss: 1.8735\n",
      "Epoch 40/50\n",
      "\u001b[1m28/28\u001b[0m \u001b[32m━━━━━━━━━━━━━━━━━━━━\u001b[0m\u001b[37m\u001b[0m \u001b[1m0s\u001b[0m 10ms/step - accuracy: 0.9627 - loss: 0.1333 - val_accuracy: 0.4545 - val_loss: 2.0492\n",
      "Epoch 41/50\n",
      "\u001b[1m28/28\u001b[0m \u001b[32m━━━━━━━━━━━━━━━━━━━━\u001b[0m\u001b[37m\u001b[0m \u001b[1m0s\u001b[0m 13ms/step - accuracy: 0.9533 - loss: 0.1636 - val_accuracy: 0.4727 - val_loss: 2.2244\n",
      "Epoch 42/50\n",
      "\u001b[1m28/28\u001b[0m \u001b[32m━━━━━━━━━━━━━━━━━━━━\u001b[0m\u001b[37m\u001b[0m \u001b[1m0s\u001b[0m 10ms/step - accuracy: 0.9680 - loss: 0.1210 - val_accuracy: 0.4682 - val_loss: 2.3351\n",
      "Epoch 43/50\n",
      "\u001b[1m28/28\u001b[0m \u001b[32m━━━━━━━━━━━━━━━━━━━━\u001b[0m\u001b[37m\u001b[0m \u001b[1m0s\u001b[0m 11ms/step - accuracy: 0.9650 - loss: 0.1058 - val_accuracy: 0.4636 - val_loss: 2.1709\n",
      "Epoch 44/50\n",
      "\u001b[1m28/28\u001b[0m \u001b[32m━━━━━━━━━━━━━━━━━━━━\u001b[0m\u001b[37m\u001b[0m \u001b[1m0s\u001b[0m 10ms/step - accuracy: 0.9724 - loss: 0.1157 - val_accuracy: 0.4409 - val_loss: 2.4723\n",
      "Epoch 45/50\n",
      "\u001b[1m28/28\u001b[0m \u001b[32m━━━━━━━━━━━━━━━━━━━━\u001b[0m\u001b[37m\u001b[0m \u001b[1m0s\u001b[0m 10ms/step - accuracy: 0.9703 - loss: 0.1120 - val_accuracy: 0.4682 - val_loss: 2.4932\n",
      "Epoch 46/50\n",
      "\u001b[1m28/28\u001b[0m \u001b[32m━━━━━━━━━━━━━━━━━━━━\u001b[0m\u001b[37m\u001b[0m \u001b[1m0s\u001b[0m 10ms/step - accuracy: 0.9470 - loss: 0.2006 - val_accuracy: 0.4545 - val_loss: 2.7697\n",
      "Epoch 47/50\n",
      "\u001b[1m28/28\u001b[0m \u001b[32m━━━━━━━━━━━━━━━━━━━━\u001b[0m\u001b[37m\u001b[0m \u001b[1m0s\u001b[0m 10ms/step - accuracy: 0.9549 - loss: 0.2062 - val_accuracy: 0.4773 - val_loss: 2.4627\n",
      "Epoch 48/50\n",
      "\u001b[1m28/28\u001b[0m \u001b[32m━━━━━━━━━━━━━━━━━━━━\u001b[0m\u001b[37m\u001b[0m \u001b[1m0s\u001b[0m 10ms/step - accuracy: 0.9515 - loss: 0.1464 - val_accuracy: 0.4500 - val_loss: 3.0067\n",
      "Epoch 49/50\n",
      "\u001b[1m28/28\u001b[0m \u001b[32m━━━━━━━━━━━━━━━━━━━━\u001b[0m\u001b[37m\u001b[0m \u001b[1m0s\u001b[0m 10ms/step - accuracy: 0.9627 - loss: 0.1835 - val_accuracy: 0.4636 - val_loss: 2.7708\n",
      "Epoch 50/50\n",
      "\u001b[1m28/28\u001b[0m \u001b[32m━━━━━━━━━━━━━━━━━━━━\u001b[0m\u001b[37m\u001b[0m \u001b[1m0s\u001b[0m 10ms/step - accuracy: 0.9670 - loss: 0.1296 - val_accuracy: 0.5045 - val_loss: 2.8246\n"
     ]
    },
    {
     "data": {
      "text/plain": [
       "<keras.src.callbacks.history.History at 0x1d80cf006e0>"
      ]
     },
     "execution_count": 235,
     "metadata": {},
     "output_type": "execute_result"
    }
   ],
   "source": [
    "model.fit(\n",
    "    x=X_data_train,\n",
    "    y=y_data_train,\n",
    "    epochs=50,\n",
    "    validation_data=(X_data_test, y_data_test),\n",
    "    verbose=1,\n",
    "    callbacks=[checkpoint],\n",
    "    class_weight=class_weight,\n",
    ")"
   ]
  },
  {
   "cell_type": "code",
   "execution_count": 237,
   "id": "8bf40fd3-2880-4265-b56e-d359b2d9a2c2",
   "metadata": {},
   "outputs": [
    {
     "name": "stderr",
     "output_type": "stream",
     "text": [
      "WARNING:absl:Compiled the loaded model, but the compiled metrics have yet to be built. `model.compile_metrics` will be empty until you train or evaluate the model.\n"
     ]
    },
    {
     "name": "stdout",
     "output_type": "stream",
     "text": [
      "\u001b[1m7/7\u001b[0m \u001b[32m━━━━━━━━━━━━━━━━━━━━\u001b[0m\u001b[37m\u001b[0m \u001b[1m0s\u001b[0m 7ms/step - accuracy: 0.5634 - loss: 0.7674  \n",
      "Accuracy over validation: 53.18%\n"
     ]
    }
   ],
   "source": [
    "model = tf.keras.models.load_model(\"model.h5\")\n",
    "acc = model.evaluate(x=X_data_test, y=y_data_test)\n",
    "print(\"Accuracy over validation: {:.2f}%\".format(acc[1] * 100))"
   ]
  },
  {
   "cell_type": "markdown",
   "id": "7c953f98-e003-4153-82e6-dbaf876e726b",
   "metadata": {},
   "source": [
    "Now for the fractionally Differenced Series"
   ]
  },
  {
   "cell_type": "code",
   "execution_count": 246,
   "id": "72cfb8c0-10ea-4ef9-a9bc-cc0dcca26803",
   "metadata": {},
   "outputs": [
    {
     "name": "stdout",
     "output_type": "stream",
     "text": [
      "(1786, 30)\n"
     ]
    },
    {
     "data": {
      "image/png": "[encoded data removed]",
      "text/plain": [
       "<Figure size 600x600 with 1 Axes>"
      ]
     },
     "metadata": {},
     "output_type": "display_data"
    }
   ],
   "source": [
    "X_train = []\n",
    "window_size = 30\n",
    "for i in range(window_size, frac_diff_series.shape[0]):\n",
    "    X_train.append(frac_diff_series[\"Close\"][i - window_size : i])\n",
    "X_train = np.array(X_train)\n",
    "print(X_train.shape)\n",
    "# Define a \"window_size\"-days interval\n",
    "days = np.linspace(1, X_train.shape[0], num=X_train.shape[0])\n",
    "# Plot the overlapping time series\n",
    "plt.figure(figsize=(6, 6))\n",
    "for i in range(241):\n",
    "    plt.plot(days[i : window_size + i], X_train[i, :])"
   ]
  },
  {
   "cell_type": "code",
   "execution_count": 248,
   "id": "c84a0e48-d4e9-4840-865b-968a2ea21da5",
   "metadata": {},
   "outputs": [
    {
     "name": "stdout",
     "output_type": "stream",
     "text": [
      "(1786, 30, 30)\n"
     ]
    }
   ],
   "source": [
    "transformer = GramianAngularField()\n",
    "X_train_new = transformer.transform(X_train)\n",
    "print(X_train_new.shape)"
   ]
  },
  {
   "cell_type": "code",
   "execution_count": 250,
   "id": "b147001b-8253-4d90-b3a1-f4ca4fd68086",
   "metadata": {},
   "outputs": [
    {
     "name": "stderr",
     "output_type": "stream",
     "text": [
      "C:\\Users\\susha\\AppData\\Local\\Temp\\ipykernel_19564\\146870747.py:4: FutureWarning: Series.__getitem__ treating keys as positions is deprecated. In a future version, integer keys will always be treated as labels (consistent with DataFrame behavior). To access a value by position, use `ser.iloc[pos]`\n",
      "  y_data.append(frac_diff_series[\"Close\"][i] < frac_diff_series[\"Close\"][i + window_size])\n"
     ]
    },
    {
     "data": {
      "text/plain": [
       "(1756,)"
      ]
     },
     "execution_count": 250,
     "metadata": {},
     "output_type": "execute_result"
    }
   ],
   "source": [
    "# Generate the labels: 1 if price goes up after window_size days, 0 otherwise\n",
    "y_data = []\n",
    "for i in range(window_size, frac_diff_series[\"Close\"].shape[0] - window_size):\n",
    "    y_data.append(frac_diff_series[\"Close\"][i] < frac_diff_series[\"Close\"][i + window_size])\n",
    "y_data = np.array(y_data)\n",
    "y_data.shape"
   ]
  },
  {
   "cell_type": "code",
   "execution_count": 252,
   "id": "72c54ae5-ca1b-4089-8dc2-fa87aef775ae",
   "metadata": {},
   "outputs": [
    {
     "data": {
      "text/plain": [
       "(1756, 30, 30)"
      ]
     },
     "execution_count": 252,
     "metadata": {},
     "output_type": "execute_result"
    }
   ],
   "source": [
    "# Determine the examples to be used as inputs in the model and rescale them to the [0,255] scale\n",
    "X_data = X_train_new[:-window_size]\n",
    "for i in range(X_data.shape[0]):\n",
    "    X_data[i] = (X_data[i] - np.min(X_data[i])) / (\n",
    "        np.max(X_data[i]) - np.min(X_data[i])\n",
    "    )\n",
    "# We could simply write X_data = (X_data + 1)/2\n",
    "X_data = X_data * 255\n",
    "X_data.shape"
   ]
  },
  {
   "cell_type": "code",
   "execution_count": 254,
   "id": "a5bc1833-6b0a-40c9-9f7e-76902b401093",
   "metadata": {},
   "outputs": [],
   "source": [
    "# Split into train and test\n",
    "train_split = 0.8\n",
    "y_data_train = y_data[: int(train_split * y_data.shape[0])]\n",
    "y_data_test = y_data[int(train_split * y_data.shape[0]) :]\n",
    "X_data_train = X_data[: int(train_split * y_data.shape[0])]\n",
    "X_data_test = X_data[int(train_split * y_data.shape[0]) :]"
   ]
  },
  {
   "cell_type": "code",
   "execution_count": 256,
   "id": "bbfea6e6-d2d5-4517-ba2e-636f46df9ffe",
   "metadata": {},
   "outputs": [
    {
     "name": "stderr",
     "output_type": "stream",
     "text": [
      "C:\\Users\\susha\\anaconda3\\Lib\\site-packages\\keras\\src\\layers\\core\\input_layer.py:27: UserWarning: Argument `input_shape` is deprecated. Use `shape` instead.\n",
      "  warnings.warn(\n"
     ]
    }
   ],
   "source": [
    "model = tf.keras.Sequential()\n",
    "# Input layer\n",
    "model.add(tf.keras.layers.InputLayer(input_shape=(30, 30, 1)))\n",
    "model.add(tf.keras.layers.Conv2D(16, 3, activation=\"relu\"))\n",
    "model.add(tf.keras.layers.MaxPooling2D(2))\n",
    "model.add(tf.keras.layers.Conv2D(32, 3, activation=\"relu\"))\n",
    "model.add(tf.keras.layers.MaxPooling2D(2))\n",
    "model.add(tf.keras.layers.Conv2D(64, 3, activation=\"relu\"))\n",
    "model.add(tf.keras.layers.MaxPooling2D(2))\n",
    "model.add(tf.keras.layers.Flatten())\n",
    "model.add(tf.keras.layers.Dense(1024, activation=\"relu\"))\n",
    "model.add(tf.keras.layers.Dropout(0.5, seed=1234))\n",
    "model.add(tf.keras.layers.Dense(1, activation=\"sigmoid\"))"
   ]
  },
  {
   "cell_type": "code",
   "execution_count": 258,
   "id": "802e9fc1-a52f-4166-bf93-6960f971d777",
   "metadata": {},
   "outputs": [
    {
     "data": {
      "text/html": [
       "<pre style=\"white-space:pre;overflow-x:auto;line-height:normal;font-family:Menlo,'DejaVu Sans Mono',consolas,'Courier New',monospace\"><span style=\"font-weight: bold\">Model: \"sequential_7\"</span>\n",
       "</pre>\n"
      ],
      "text/plain": [
       "\u001b[1mModel: \"sequential_7\"\u001b[0m\n"
      ]
     },
     "metadata": {},
     "output_type": "display_data"
    },
    {
     "data": {
      "text/html": [
       "<pre style=\"white-space:pre;overflow-x:auto;line-height:normal;font-family:Menlo,'DejaVu Sans Mono',consolas,'Courier New',monospace\">┏━━━━━━━━━━━━━━━━━━━━━━━━━━━━━━━━━━━━━━┳━━━━━━━━━━━━━━━━━━━━━━━━━━━━━┳━━━━━━━━━━━━━━━━━┓\n",
       "┃<span style=\"font-weight: bold\"> Layer (type)                         </span>┃<span style=\"font-weight: bold\"> Output Shape                </span>┃<span style=\"font-weight: bold\">         Param # </span>┃\n",
       "┡━━━━━━━━━━━━━━━━━━━━━━━━━━━━━━━━━━━━━━╇━━━━━━━━━━━━━━━━━━━━━━━━━━━━━╇━━━━━━━━━━━━━━━━━┩\n",
       "│ conv2d_11 (<span style=\"color: #0087ff; text-decoration-color: #0087ff\">Conv2D</span>)                   │ (<span style=\"color: #00d7ff; text-decoration-color: #00d7ff\">None</span>, <span style=\"color: #00af00; text-decoration-color: #00af00\">28</span>, <span style=\"color: #00af00; text-decoration-color: #00af00\">28</span>, <span style=\"color: #00af00; text-decoration-color: #00af00\">16</span>)          │             <span style=\"color: #00af00; text-decoration-color: #00af00\">160</span> │\n",
       "├──────────────────────────────────────┼─────────────────────────────┼─────────────────┤\n",
       "│ max_pooling2d_11 (<span style=\"color: #0087ff; text-decoration-color: #0087ff\">MaxPooling2D</span>)      │ (<span style=\"color: #00d7ff; text-decoration-color: #00d7ff\">None</span>, <span style=\"color: #00af00; text-decoration-color: #00af00\">14</span>, <span style=\"color: #00af00; text-decoration-color: #00af00\">14</span>, <span style=\"color: #00af00; text-decoration-color: #00af00\">16</span>)          │               <span style=\"color: #00af00; text-decoration-color: #00af00\">0</span> │\n",
       "├──────────────────────────────────────┼─────────────────────────────┼─────────────────┤\n",
       "│ conv2d_12 (<span style=\"color: #0087ff; text-decoration-color: #0087ff\">Conv2D</span>)                   │ (<span style=\"color: #00d7ff; text-decoration-color: #00d7ff\">None</span>, <span style=\"color: #00af00; text-decoration-color: #00af00\">12</span>, <span style=\"color: #00af00; text-decoration-color: #00af00\">12</span>, <span style=\"color: #00af00; text-decoration-color: #00af00\">32</span>)          │           <span style=\"color: #00af00; text-decoration-color: #00af00\">4,640</span> │\n",
       "├──────────────────────────────────────┼─────────────────────────────┼─────────────────┤\n",
       "│ max_pooling2d_12 (<span style=\"color: #0087ff; text-decoration-color: #0087ff\">MaxPooling2D</span>)      │ (<span style=\"color: #00d7ff; text-decoration-color: #00d7ff\">None</span>, <span style=\"color: #00af00; text-decoration-color: #00af00\">6</span>, <span style=\"color: #00af00; text-decoration-color: #00af00\">6</span>, <span style=\"color: #00af00; text-decoration-color: #00af00\">32</span>)            │               <span style=\"color: #00af00; text-decoration-color: #00af00\">0</span> │\n",
       "├──────────────────────────────────────┼─────────────────────────────┼─────────────────┤\n",
       "│ conv2d_13 (<span style=\"color: #0087ff; text-decoration-color: #0087ff\">Conv2D</span>)                   │ (<span style=\"color: #00d7ff; text-decoration-color: #00d7ff\">None</span>, <span style=\"color: #00af00; text-decoration-color: #00af00\">4</span>, <span style=\"color: #00af00; text-decoration-color: #00af00\">4</span>, <span style=\"color: #00af00; text-decoration-color: #00af00\">64</span>)            │          <span style=\"color: #00af00; text-decoration-color: #00af00\">18,496</span> │\n",
       "├──────────────────────────────────────┼─────────────────────────────┼─────────────────┤\n",
       "│ max_pooling2d_13 (<span style=\"color: #0087ff; text-decoration-color: #0087ff\">MaxPooling2D</span>)      │ (<span style=\"color: #00d7ff; text-decoration-color: #00d7ff\">None</span>, <span style=\"color: #00af00; text-decoration-color: #00af00\">2</span>, <span style=\"color: #00af00; text-decoration-color: #00af00\">2</span>, <span style=\"color: #00af00; text-decoration-color: #00af00\">64</span>)            │               <span style=\"color: #00af00; text-decoration-color: #00af00\">0</span> │\n",
       "├──────────────────────────────────────┼─────────────────────────────┼─────────────────┤\n",
       "│ flatten_4 (<span style=\"color: #0087ff; text-decoration-color: #0087ff\">Flatten</span>)                  │ (<span style=\"color: #00d7ff; text-decoration-color: #00d7ff\">None</span>, <span style=\"color: #00af00; text-decoration-color: #00af00\">256</span>)                 │               <span style=\"color: #00af00; text-decoration-color: #00af00\">0</span> │\n",
       "├──────────────────────────────────────┼─────────────────────────────┼─────────────────┤\n",
       "│ dense_17 (<span style=\"color: #0087ff; text-decoration-color: #0087ff\">Dense</span>)                     │ (<span style=\"color: #00d7ff; text-decoration-color: #00d7ff\">None</span>, <span style=\"color: #00af00; text-decoration-color: #00af00\">1024</span>)                │         <span style=\"color: #00af00; text-decoration-color: #00af00\">263,168</span> │\n",
       "├──────────────────────────────────────┼─────────────────────────────┼─────────────────┤\n",
       "│ dropout_10 (<span style=\"color: #0087ff; text-decoration-color: #0087ff\">Dropout</span>)                 │ (<span style=\"color: #00d7ff; text-decoration-color: #00d7ff\">None</span>, <span style=\"color: #00af00; text-decoration-color: #00af00\">1024</span>)                │               <span style=\"color: #00af00; text-decoration-color: #00af00\">0</span> │\n",
       "├──────────────────────────────────────┼─────────────────────────────┼─────────────────┤\n",
       "│ dense_18 (<span style=\"color: #0087ff; text-decoration-color: #0087ff\">Dense</span>)                     │ (<span style=\"color: #00d7ff; text-decoration-color: #00d7ff\">None</span>, <span style=\"color: #00af00; text-decoration-color: #00af00\">1</span>)                   │           <span style=\"color: #00af00; text-decoration-color: #00af00\">1,025</span> │\n",
       "└──────────────────────────────────────┴─────────────────────────────┴─────────────────┘\n",
       "</pre>\n"
      ],
      "text/plain": [
       "┏━━━━━━━━━━━━━━━━━━━━━━━━━━━━━━━━━━━━━━┳━━━━━━━━━━━━━━━━━━━━━━━━━━━━━┳━━━━━━━━━━━━━━━━━┓\n",
       "┃\u001b[1m \u001b[0m\u001b[1mLayer (type)                        \u001b[0m\u001b[1m \u001b[0m┃\u001b[1m \u001b[0m\u001b[1mOutput Shape               \u001b[0m\u001b[1m \u001b[0m┃\u001b[1m \u001b[0m\u001b[1m        Param #\u001b[0m\u001b[1m \u001b[0m┃\n",
       "┡━━━━━━━━━━━━━━━━━━━━━━━━━━━━━━━━━━━━━━╇━━━━━━━━━━━━━━━━━━━━━━━━━━━━━╇━━━━━━━━━━━━━━━━━┩\n",
       "│ conv2d_11 (\u001b[38;5;33mConv2D\u001b[0m)                   │ (\u001b[38;5;45mNone\u001b[0m, \u001b[38;5;34m28\u001b[0m, \u001b[38;5;34m28\u001b[0m, \u001b[38;5;34m16\u001b[0m)          │             \u001b[38;5;34m160\u001b[0m │\n",
       "├──────────────────────────────────────┼─────────────────────────────┼─────────────────┤\n",
       "│ max_pooling2d_11 (\u001b[38;5;33mMaxPooling2D\u001b[0m)      │ (\u001b[38;5;45mNone\u001b[0m, \u001b[38;5;34m14\u001b[0m, \u001b[38;5;34m14\u001b[0m, \u001b[38;5;34m16\u001b[0m)          │               \u001b[38;5;34m0\u001b[0m │\n",
       "├──────────────────────────────────────┼─────────────────────────────┼─────────────────┤\n",
       "│ conv2d_12 (\u001b[38;5;33mConv2D\u001b[0m)                   │ (\u001b[38;5;45mNone\u001b[0m, \u001b[38;5;34m12\u001b[0m, \u001b[38;5;34m12\u001b[0m, \u001b[38;5;34m32\u001b[0m)          │           \u001b[38;5;34m4,640\u001b[0m │\n",
       "├──────────────────────────────────────┼─────────────────────────────┼─────────────────┤\n",
       "│ max_pooling2d_12 (\u001b[38;5;33mMaxPooling2D\u001b[0m)      │ (\u001b[38;5;45mNone\u001b[0m, \u001b[38;5;34m6\u001b[0m, \u001b[38;5;34m6\u001b[0m, \u001b[38;5;34m32\u001b[0m)            │               \u001b[38;5;34m0\u001b[0m │\n",
       "├──────────────────────────────────────┼─────────────────────────────┼─────────────────┤\n",
       "│ conv2d_13 (\u001b[38;5;33mConv2D\u001b[0m)                   │ (\u001b[38;5;45mNone\u001b[0m, \u001b[38;5;34m4\u001b[0m, \u001b[38;5;34m4\u001b[0m, \u001b[38;5;34m64\u001b[0m)            │          \u001b[38;5;34m18,496\u001b[0m │\n",
       "├──────────────────────────────────────┼─────────────────────────────┼─────────────────┤\n",
       "│ max_pooling2d_13 (\u001b[38;5;33mMaxPooling2D\u001b[0m)      │ (\u001b[38;5;45mNone\u001b[0m, \u001b[38;5;34m2\u001b[0m, \u001b[38;5;34m2\u001b[0m, \u001b[38;5;34m64\u001b[0m)            │               \u001b[38;5;34m0\u001b[0m │\n",
       "├──────────────────────────────────────┼─────────────────────────────┼─────────────────┤\n",
       "│ flatten_4 (\u001b[38;5;33mFlatten\u001b[0m)                  │ (\u001b[38;5;45mNone\u001b[0m, \u001b[38;5;34m256\u001b[0m)                 │               \u001b[38;5;34m0\u001b[0m │\n",
       "├──────────────────────────────────────┼─────────────────────────────┼─────────────────┤\n",
       "│ dense_17 (\u001b[38;5;33mDense\u001b[0m)                     │ (\u001b[38;5;45mNone\u001b[0m, \u001b[38;5;34m1024\u001b[0m)                │         \u001b[38;5;34m263,168\u001b[0m │\n",
       "├──────────────────────────────────────┼─────────────────────────────┼─────────────────┤\n",
       "│ dropout_10 (\u001b[38;5;33mDropout\u001b[0m)                 │ (\u001b[38;5;45mNone\u001b[0m, \u001b[38;5;34m1024\u001b[0m)                │               \u001b[38;5;34m0\u001b[0m │\n",
       "├──────────────────────────────────────┼─────────────────────────────┼─────────────────┤\n",
       "│ dense_18 (\u001b[38;5;33mDense\u001b[0m)                     │ (\u001b[38;5;45mNone\u001b[0m, \u001b[38;5;34m1\u001b[0m)                   │           \u001b[38;5;34m1,025\u001b[0m │\n",
       "└──────────────────────────────────────┴─────────────────────────────┴─────────────────┘\n"
      ]
     },
     "metadata": {},
     "output_type": "display_data"
    },
    {
     "data": {
      "text/html": [
       "<pre style=\"white-space:pre;overflow-x:auto;line-height:normal;font-family:Menlo,'DejaVu Sans Mono',consolas,'Courier New',monospace\"><span style=\"font-weight: bold\"> Total params: </span><span style=\"color: #00af00; text-decoration-color: #00af00\">287,489</span> (1.10 MB)\n",
       "</pre>\n"
      ],
      "text/plain": [
       "\u001b[1m Total params: \u001b[0m\u001b[38;5;34m287,489\u001b[0m (1.10 MB)\n"
      ]
     },
     "metadata": {},
     "output_type": "display_data"
    },
    {
     "data": {
      "text/html": [
       "<pre style=\"white-space:pre;overflow-x:auto;line-height:normal;font-family:Menlo,'DejaVu Sans Mono',consolas,'Courier New',monospace\"><span style=\"font-weight: bold\"> Trainable params: </span><span style=\"color: #00af00; text-decoration-color: #00af00\">287,489</span> (1.10 MB)\n",
       "</pre>\n"
      ],
      "text/plain": [
       "\u001b[1m Trainable params: \u001b[0m\u001b[38;5;34m287,489\u001b[0m (1.10 MB)\n"
      ]
     },
     "metadata": {},
     "output_type": "display_data"
    },
    {
     "data": {
      "text/html": [
       "<pre style=\"white-space:pre;overflow-x:auto;line-height:normal;font-family:Menlo,'DejaVu Sans Mono',consolas,'Courier New',monospace\"><span style=\"font-weight: bold\"> Non-trainable params: </span><span style=\"color: #00af00; text-decoration-color: #00af00\">0</span> (0.00 B)\n",
       "</pre>\n"
      ],
      "text/plain": [
       "\u001b[1m Non-trainable params: \u001b[0m\u001b[38;5;34m0\u001b[0m (0.00 B)\n"
      ]
     },
     "metadata": {},
     "output_type": "display_data"
    }
   ],
   "source": [
    "model.summary()"
   ]
  },
  {
   "cell_type": "code",
   "execution_count": 260,
   "id": "4ccafa17-9633-4c14-b440-64b28e1c0c68",
   "metadata": {},
   "outputs": [
    {
     "name": "stdout",
     "output_type": "stream",
     "text": [
      "{0: 2.1402439024390243, 1: 1.0}\n"
     ]
    }
   ],
   "source": [
    "model.compile(loss=\"binary_crossentropy\", optimizer=\"RMSprop\", metrics=[\"accuracy\"])\n",
    "checkpoint = tf.keras.callbacks.ModelCheckpoint(\n",
    "    \"model.h5\", monitor=\"val_accuracy\", save_best_only=True, mode=\"auto\"\n",
    ")\n",
    "class_weight = {0: 1 / (1 - np.mean(y_data_train)), 1: 1.0}\n",
    "print(class_weight)"
   ]
  },
  {
   "cell_type": "code",
   "execution_count": 262,
   "id": "bc7338db-fe3f-434a-bac3-d74b4578ceca",
   "metadata": {},
   "outputs": [
    {
     "name": "stdout",
     "output_type": "stream",
     "text": [
      "Epoch 1/50\n",
      "\u001b[1m38/44\u001b[0m \u001b[32m━━━━━━━━━━━━━━━━━\u001b[0m\u001b[37m━━━\u001b[0m \u001b[1m0s\u001b[0m 7ms/step - accuracy: 0.4803 - loss: 14.1308"
     ]
    },
    {
     "name": "stderr",
     "output_type": "stream",
     "text": [
      "WARNING:absl:You are saving your model as an HDF5 file via `model.save()` or `keras.saving.save_model(model)`. This file format is considered legacy. We recommend using instead the native Keras format, e.g. `model.save('my_model.keras')` or `keras.saving.save_model(model, 'my_model.keras')`. \n"
     ]
    },
    {
     "name": "stdout",
     "output_type": "stream",
     "text": [
      "\u001b[1m44/44\u001b[0m \u001b[32m━━━━━━━━━━━━━━━━━━━━\u001b[0m\u001b[37m\u001b[0m \u001b[1m2s\u001b[0m 14ms/step - accuracy: 0.4802 - loss: 12.7144 - val_accuracy: 0.4915 - val_loss: 0.7108\n",
      "Epoch 2/50\n",
      "\u001b[1m38/44\u001b[0m \u001b[32m━━━━━━━━━━━━━━━━━\u001b[0m\u001b[37m━━━\u001b[0m \u001b[1m0s\u001b[0m 7ms/step - accuracy: 0.4924 - loss: 1.1409"
     ]
    },
    {
     "name": "stderr",
     "output_type": "stream",
     "text": [
      "WARNING:absl:You are saving your model as an HDF5 file via `model.save()` or `keras.saving.save_model(model)`. This file format is considered legacy. We recommend using instead the native Keras format, e.g. `model.save('my_model.keras')` or `keras.saving.save_model(model, 'my_model.keras')`. \n"
     ]
    },
    {
     "name": "stdout",
     "output_type": "stream",
     "text": [
      "\u001b[1m44/44\u001b[0m \u001b[32m━━━━━━━━━━━━━━━━━━━━\u001b[0m\u001b[37m\u001b[0m \u001b[1m1s\u001b[0m 11ms/step - accuracy: 0.4918 - loss: 1.1367 - val_accuracy: 0.5199 - val_loss: 0.7077\n",
      "Epoch 3/50\n",
      "\u001b[1m44/44\u001b[0m \u001b[32m━━━━━━━━━━━━━━━━━━━━\u001b[0m\u001b[37m\u001b[0m \u001b[1m0s\u001b[0m 10ms/step - accuracy: 0.4741 - loss: 1.0463 - val_accuracy: 0.5170 - val_loss: 0.7074\n",
      "Epoch 4/50\n",
      "\u001b[1m44/44\u001b[0m \u001b[32m━━━━━━━━━━━━━━━━━━━━\u001b[0m\u001b[37m\u001b[0m \u001b[1m0s\u001b[0m 10ms/step - accuracy: 0.4542 - loss: 1.0270 - val_accuracy: 0.4744 - val_loss: 0.7167\n",
      "Epoch 5/50\n",
      "\u001b[1m44/44\u001b[0m \u001b[32m━━━━━━━━━━━━━━━━━━━━\u001b[0m\u001b[37m\u001b[0m \u001b[1m1s\u001b[0m 13ms/step - accuracy: 0.4704 - loss: 1.0398 - val_accuracy: 0.5170 - val_loss: 0.7266\n",
      "Epoch 6/50\n",
      "\u001b[1m44/44\u001b[0m \u001b[32m━━━━━━━━━━━━━━━━━━━━\u001b[0m\u001b[37m\u001b[0m \u001b[1m0s\u001b[0m 10ms/step - accuracy: 0.4654 - loss: 0.9947 - val_accuracy: 0.5142 - val_loss: 0.7260\n",
      "Epoch 7/50\n",
      "\u001b[1m44/44\u001b[0m \u001b[32m━━━━━━━━━━━━━━━━━━━━\u001b[0m\u001b[37m\u001b[0m \u001b[1m0s\u001b[0m 10ms/step - accuracy: 0.4599 - loss: 1.0398 - val_accuracy: 0.5085 - val_loss: 0.7366\n",
      "Epoch 8/50\n",
      "\u001b[1m44/44\u001b[0m \u001b[32m━━━━━━━━━━━━━━━━━━━━\u001b[0m\u001b[37m\u001b[0m \u001b[1m0s\u001b[0m 10ms/step - accuracy: 0.4733 - loss: 1.0116 - val_accuracy: 0.5199 - val_loss: 0.7287\n",
      "Epoch 9/50\n",
      "\u001b[1m44/44\u001b[0m \u001b[32m━━━━━━━━━━━━━━━━━━━━\u001b[0m\u001b[37m\u001b[0m \u001b[1m1s\u001b[0m 13ms/step - accuracy: 0.4518 - loss: 1.1084 - val_accuracy: 0.5170 - val_loss: 0.7354\n",
      "Epoch 10/50\n",
      "\u001b[1m44/44\u001b[0m \u001b[32m━━━━━━━━━━━━━━━━━━━━\u001b[0m\u001b[37m\u001b[0m \u001b[1m1s\u001b[0m 12ms/step - accuracy: 0.4808 - loss: 0.9796 - val_accuracy: 0.5142 - val_loss: 0.7273\n",
      "Epoch 11/50\n",
      "\u001b[1m44/44\u001b[0m \u001b[32m━━━━━━━━━━━━━━━━━━━━\u001b[0m\u001b[37m\u001b[0m \u001b[1m0s\u001b[0m 10ms/step - accuracy: 0.4844 - loss: 0.9818 - val_accuracy: 0.5170 - val_loss: 0.7321\n",
      "Epoch 12/50\n",
      "\u001b[1m44/44\u001b[0m \u001b[32m━━━━━━━━━━━━━━━━━━━━\u001b[0m\u001b[37m\u001b[0m \u001b[1m0s\u001b[0m 10ms/step - accuracy: 0.4772 - loss: 0.9882 - val_accuracy: 0.5085 - val_loss: 0.7584\n",
      "Epoch 13/50\n",
      "\u001b[1m44/44\u001b[0m \u001b[32m━━━━━━━━━━━━━━━━━━━━\u001b[0m\u001b[37m\u001b[0m \u001b[1m0s\u001b[0m 10ms/step - accuracy: 0.5092 - loss: 0.9671 - val_accuracy: 0.4943 - val_loss: 0.7542\n",
      "Epoch 14/50\n",
      "\u001b[1m44/44\u001b[0m \u001b[32m━━━━━━━━━━━━━━━━━━━━\u001b[0m\u001b[37m\u001b[0m \u001b[1m0s\u001b[0m 10ms/step - accuracy: 0.4984 - loss: 0.9963 - val_accuracy: 0.4801 - val_loss: 0.7714\n",
      "Epoch 15/50\n",
      "\u001b[1m44/44\u001b[0m \u001b[32m━━━━━━━━━━━━━━━━━━━━\u001b[0m\u001b[37m\u001b[0m \u001b[1m0s\u001b[0m 10ms/step - accuracy: 0.4882 - loss: 1.0239 - val_accuracy: 0.5114 - val_loss: 0.7548\n",
      "Epoch 16/50\n",
      "\u001b[1m44/44\u001b[0m \u001b[32m━━━━━━━━━━━━━━━━━━━━\u001b[0m\u001b[37m\u001b[0m \u001b[1m0s\u001b[0m 10ms/step - accuracy: 0.5153 - loss: 0.9717 - val_accuracy: 0.5057 - val_loss: 0.7450\n",
      "Epoch 17/50\n",
      "\u001b[1m44/44\u001b[0m \u001b[32m━━━━━━━━━━━━━━━━━━━━\u001b[0m\u001b[37m\u001b[0m \u001b[1m0s\u001b[0m 9ms/step - accuracy: 0.5332 - loss: 0.9626 - val_accuracy: 0.4602 - val_loss: 0.8101\n",
      "Epoch 18/50\n",
      "\u001b[1m44/44\u001b[0m \u001b[32m━━━━━━━━━━━━━━━━━━━━\u001b[0m\u001b[37m\u001b[0m \u001b[1m0s\u001b[0m 10ms/step - accuracy: 0.5314 - loss: 0.9700 - val_accuracy: 0.4943 - val_loss: 0.8368\n",
      "Epoch 19/50\n",
      "\u001b[1m44/44\u001b[0m \u001b[32m━━━━━━━━━━━━━━━━━━━━\u001b[0m\u001b[37m\u001b[0m \u001b[1m0s\u001b[0m 9ms/step - accuracy: 0.5788 - loss: 0.9300 - val_accuracy: 0.4773 - val_loss: 0.9247\n",
      "Epoch 20/50\n",
      "\u001b[1m44/44\u001b[0m \u001b[32m━━━━━━━━━━━━━━━━━━━━\u001b[0m\u001b[37m\u001b[0m \u001b[1m0s\u001b[0m 9ms/step - accuracy: 0.6247 - loss: 0.8669 - val_accuracy: 0.4545 - val_loss: 0.9425\n",
      "Epoch 21/50\n",
      "\u001b[1m44/44\u001b[0m \u001b[32m━━━━━━━━━━━━━━━━━━━━\u001b[0m\u001b[37m\u001b[0m \u001b[1m1s\u001b[0m 10ms/step - accuracy: 0.6357 - loss: 0.8293 - val_accuracy: 0.4347 - val_loss: 1.0730\n",
      "Epoch 22/50\n",
      "\u001b[1m44/44\u001b[0m \u001b[32m━━━━━━━━━━━━━━━━━━━━\u001b[0m\u001b[37m\u001b[0m \u001b[1m0s\u001b[0m 10ms/step - accuracy: 0.7193 - loss: 0.7343 - val_accuracy: 0.4773 - val_loss: 1.0744\n",
      "Epoch 23/50\n",
      "\u001b[1m44/44\u001b[0m \u001b[32m━━━━━━━━━━━━━━━━━━━━\u001b[0m\u001b[37m\u001b[0m \u001b[1m0s\u001b[0m 10ms/step - accuracy: 0.7161 - loss: 0.7377 - val_accuracy: 0.4631 - val_loss: 1.1647\n",
      "Epoch 24/50\n",
      "\u001b[1m44/44\u001b[0m \u001b[32m━━━━━━━━━━━━━━━━━━━━\u001b[0m\u001b[37m\u001b[0m \u001b[1m0s\u001b[0m 10ms/step - accuracy: 0.7373 - loss: 0.7498 - val_accuracy: 0.4858 - val_loss: 1.2160\n",
      "Epoch 25/50\n",
      "\u001b[1m44/44\u001b[0m \u001b[32m━━━━━━━━━━━━━━━━━━━━\u001b[0m\u001b[37m\u001b[0m \u001b[1m0s\u001b[0m 10ms/step - accuracy: 0.7991 - loss: 0.5753 - val_accuracy: 0.5085 - val_loss: 1.2013\n",
      "Epoch 26/50\n",
      "\u001b[1m44/44\u001b[0m \u001b[32m━━━━━━━━━━━━━━━━━━━━\u001b[0m\u001b[37m\u001b[0m \u001b[1m1s\u001b[0m 11ms/step - accuracy: 0.8111 - loss: 0.5279 - val_accuracy: 0.4659 - val_loss: 1.5507\n",
      "Epoch 27/50\n",
      "\u001b[1m44/44\u001b[0m \u001b[32m━━━━━━━━━━━━━━━━━━━━\u001b[0m\u001b[37m\u001b[0m \u001b[1m0s\u001b[0m 9ms/step - accuracy: 0.8564 - loss: 0.4421 - val_accuracy: 0.4972 - val_loss: 1.8581\n",
      "Epoch 28/50\n",
      "\u001b[1m44/44\u001b[0m \u001b[32m━━━━━━━━━━━━━━━━━━━━\u001b[0m\u001b[37m\u001b[0m \u001b[1m0s\u001b[0m 9ms/step - accuracy: 0.8555 - loss: 0.4455 - val_accuracy: 0.4517 - val_loss: 1.7388\n",
      "Epoch 29/50\n",
      "\u001b[1m44/44\u001b[0m \u001b[32m━━━━━━━━━━━━━━━━━━━━\u001b[0m\u001b[37m\u001b[0m \u001b[1m0s\u001b[0m 9ms/step - accuracy: 0.8550 - loss: 0.3845 - val_accuracy: 0.4602 - val_loss: 2.1259\n",
      "Epoch 30/50\n",
      "\u001b[1m44/44\u001b[0m \u001b[32m━━━━━━━━━━━━━━━━━━━━\u001b[0m\u001b[37m\u001b[0m \u001b[1m0s\u001b[0m 9ms/step - accuracy: 0.8967 - loss: 0.3287 - val_accuracy: 0.4915 - val_loss: 2.3157\n",
      "Epoch 31/50\n",
      "\u001b[1m44/44\u001b[0m \u001b[32m━━━━━━━━━━━━━━━━━━━━\u001b[0m\u001b[37m\u001b[0m \u001b[1m0s\u001b[0m 9ms/step - accuracy: 0.9201 - loss: 0.3043 - val_accuracy: 0.4744 - val_loss: 1.8011\n",
      "Epoch 32/50\n",
      "\u001b[1m44/44\u001b[0m \u001b[32m━━━━━━━━━━━━━━━━━━━━\u001b[0m\u001b[37m\u001b[0m \u001b[1m1s\u001b[0m 11ms/step - accuracy: 0.8938 - loss: 0.3095 - val_accuracy: 0.4545 - val_loss: 2.3774\n",
      "Epoch 33/50\n",
      "\u001b[1m44/44\u001b[0m \u001b[32m━━━━━━━━━━━━━━━━━━━━\u001b[0m\u001b[37m\u001b[0m \u001b[1m0s\u001b[0m 9ms/step - accuracy: 0.9314 - loss: 0.2530 - val_accuracy: 0.4489 - val_loss: 2.3137\n",
      "Epoch 34/50\n",
      "\u001b[1m44/44\u001b[0m \u001b[32m━━━━━━━━━━━━━━━━━━━━\u001b[0m\u001b[37m\u001b[0m \u001b[1m0s\u001b[0m 9ms/step - accuracy: 0.9320 - loss: 0.2308 - val_accuracy: 0.4744 - val_loss: 3.0252\n",
      "Epoch 35/50\n",
      "\u001b[1m44/44\u001b[0m \u001b[32m━━━━━━━━━━━━━━━━━━━━\u001b[0m\u001b[37m\u001b[0m \u001b[1m0s\u001b[0m 9ms/step - accuracy: 0.9351 - loss: 0.2401 - val_accuracy: 0.4233 - val_loss: 2.5198\n",
      "Epoch 36/50\n",
      "\u001b[1m44/44\u001b[0m \u001b[32m━━━━━━━━━━━━━━━━━━━━\u001b[0m\u001b[37m\u001b[0m \u001b[1m0s\u001b[0m 9ms/step - accuracy: 0.9540 - loss: 0.1744 - val_accuracy: 0.4489 - val_loss: 3.0522\n",
      "Epoch 37/50\n",
      "\u001b[1m44/44\u001b[0m \u001b[32m━━━━━━━━━━━━━━━━━━━━\u001b[0m\u001b[37m\u001b[0m \u001b[1m0s\u001b[0m 9ms/step - accuracy: 0.9256 - loss: 0.3118 - val_accuracy: 0.4631 - val_loss: 2.9718\n",
      "Epoch 38/50\n",
      "\u001b[1m44/44\u001b[0m \u001b[32m━━━━━━━━━━━━━━━━━━━━\u001b[0m\u001b[37m\u001b[0m \u001b[1m0s\u001b[0m 9ms/step - accuracy: 0.9432 - loss: 0.2636 - val_accuracy: 0.4347 - val_loss: 3.1752\n",
      "Epoch 39/50\n",
      "\u001b[1m44/44\u001b[0m \u001b[32m━━━━━━━━━━━━━━━━━━━━\u001b[0m\u001b[37m\u001b[0m \u001b[1m0s\u001b[0m 9ms/step - accuracy: 0.9484 - loss: 0.1728 - val_accuracy: 0.4489 - val_loss: 2.8658\n",
      "Epoch 40/50\n",
      "\u001b[1m44/44\u001b[0m \u001b[32m━━━━━━━━━━━━━━━━━━━━\u001b[0m\u001b[37m\u001b[0m \u001b[1m0s\u001b[0m 10ms/step - accuracy: 0.9397 - loss: 0.2169 - val_accuracy: 0.5085 - val_loss: 2.7821\n",
      "Epoch 41/50\n",
      "\u001b[1m44/44\u001b[0m \u001b[32m━━━━━━━━━━━━━━━━━━━━\u001b[0m\u001b[37m\u001b[0m \u001b[1m0s\u001b[0m 9ms/step - accuracy: 0.9573 - loss: 0.1513 - val_accuracy: 0.4233 - val_loss: 3.1288\n",
      "Epoch 42/50\n",
      "\u001b[1m44/44\u001b[0m \u001b[32m━━━━━━━━━━━━━━━━━━━━\u001b[0m\u001b[37m\u001b[0m \u001b[1m0s\u001b[0m 9ms/step - accuracy: 0.9607 - loss: 0.1551 - val_accuracy: 0.4545 - val_loss: 3.0708\n",
      "Epoch 43/50\n",
      "\u001b[1m44/44\u001b[0m \u001b[32m━━━━━━━━━━━━━━━━━━━━\u001b[0m\u001b[37m\u001b[0m \u001b[1m0s\u001b[0m 9ms/step - accuracy: 0.9383 - loss: 0.2812 - val_accuracy: 0.4716 - val_loss: 3.3616\n",
      "Epoch 44/50\n",
      "\u001b[1m44/44\u001b[0m \u001b[32m━━━━━━━━━━━━━━━━━━━━\u001b[0m\u001b[37m\u001b[0m \u001b[1m0s\u001b[0m 9ms/step - accuracy: 0.9557 - loss: 0.1779 - val_accuracy: 0.4574 - val_loss: 3.1310\n",
      "Epoch 45/50\n",
      "\u001b[1m44/44\u001b[0m \u001b[32m━━━━━━━━━━━━━━━━━━━━\u001b[0m\u001b[37m\u001b[0m \u001b[1m1s\u001b[0m 11ms/step - accuracy: 0.9699 - loss: 0.1077 - val_accuracy: 0.4432 - val_loss: 3.3415\n",
      "Epoch 46/50\n",
      "\u001b[1m44/44\u001b[0m \u001b[32m━━━━━━━━━━━━━━━━━━━━\u001b[0m\u001b[37m\u001b[0m \u001b[1m0s\u001b[0m 10ms/step - accuracy: 0.9512 - loss: 0.2042 - val_accuracy: 0.4659 - val_loss: 3.0474\n",
      "Epoch 47/50\n",
      "\u001b[1m44/44\u001b[0m \u001b[32m━━━━━━━━━━━━━━━━━━━━\u001b[0m\u001b[37m\u001b[0m \u001b[1m0s\u001b[0m 10ms/step - accuracy: 0.9621 - loss: 0.1487 - val_accuracy: 0.4716 - val_loss: 2.9606\n",
      "Epoch 48/50\n",
      "\u001b[1m44/44\u001b[0m \u001b[32m━━━━━━━━━━━━━━━━━━━━\u001b[0m\u001b[37m\u001b[0m \u001b[1m0s\u001b[0m 10ms/step - accuracy: 0.9827 - loss: 0.0759 - val_accuracy: 0.4460 - val_loss: 3.9370\n",
      "Epoch 49/50\n",
      "\u001b[1m44/44\u001b[0m \u001b[32m━━━━━━━━━━━━━━━━━━━━\u001b[0m\u001b[37m\u001b[0m \u001b[1m0s\u001b[0m 10ms/step - accuracy: 0.9700 - loss: 0.1504 - val_accuracy: 0.4744 - val_loss: 3.2222\n",
      "Epoch 50/50\n",
      "\u001b[1m44/44\u001b[0m \u001b[32m━━━━━━━━━━━━━━━━━━━━\u001b[0m\u001b[37m\u001b[0m \u001b[1m1s\u001b[0m 11ms/step - accuracy: 0.9693 - loss: 0.0996 - val_accuracy: 0.4801 - val_loss: 3.5023\n"
     ]
    },
    {
     "data": {
      "text/plain": [
       "<keras.src.callbacks.history.History at 0x1d80d60d070>"
      ]
     },
     "execution_count": 262,
     "metadata": {},
     "output_type": "execute_result"
    }
   ],
   "source": [
    "model.fit(\n",
    "    x=X_data_train,\n",
    "    y=y_data_train,\n",
    "    epochs=50,\n",
    "    validation_data=(X_data_test, y_data_test),\n",
    "    verbose=1,\n",
    "    callbacks=[checkpoint],\n",
    "    class_weight=class_weight,\n",
    ")"
   ]
  },
  {
   "cell_type": "code",
   "execution_count": 264,
   "id": "9d260112-f0bb-43cb-8c76-be07641ede09",
   "metadata": {},
   "outputs": [
    {
     "name": "stderr",
     "output_type": "stream",
     "text": [
      "WARNING:absl:Compiled the loaded model, but the compiled metrics have yet to be built. `model.compile_metrics` will be empty until you train or evaluate the model.\n"
     ]
    },
    {
     "name": "stdout",
     "output_type": "stream",
     "text": [
      "\u001b[1m11/11\u001b[0m \u001b[32m━━━━━━━━━━━━━━━━━━━━\u001b[0m\u001b[37m\u001b[0m \u001b[1m0s\u001b[0m 6ms/step - accuracy: 0.5218 - loss: 0.7083  \n",
      "Accuracy over validation: 51.99%\n"
     ]
    }
   ],
   "source": [
    "model = tf.keras.models.load_model(\"model.h5\")\n",
    "acc = model.evaluate(x=X_data_test, y=y_data_test)\n",
    "print(\"Accuracy over validation: {:.2f}%\".format(acc[1] * 100))"
   ]
  },
  {
   "cell_type": "code",
   "execution_count": null,
   "id": "e4a7a99f-a8c1-4551-b9b7-9ec08d8454e2",
   "metadata": {},
   "outputs": [],
   "source": []
  }
 ],
 "metadata": {
  "kernelspec": {
   "display_name": "Python [conda env:base] *",
   "language": "python",
   "name": "conda-base-py"
  },
  "language_info": {
   "codemirror_mode": {
    "name": "ipython",
    "version": 3
   },
   "file_extension": ".py",
   "mimetype": "text/x-python",
   "name": "python",
   "nbconvert_exporter": "python",
   "pygments_lexer": "ipython3",
   "version": "3.12.7"
  }
 },
 "nbformat": 4,
 "nbformat_minor": 5
}
