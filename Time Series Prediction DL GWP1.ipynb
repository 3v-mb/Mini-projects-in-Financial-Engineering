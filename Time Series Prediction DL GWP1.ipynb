{
 "cells": [
  {
   "cell_type": "code",
   "execution_count": 1,
   "id": "81db0dab-dc00-4b9d-957b-a25e472f4e32",
   "metadata": {
    "scrolled": true
   },
   "outputs": [],
   "source": [
    "import pandas as pd\n",
    "import numpy as np\n",
    "import matplotlib.pyplot as plt\n",
    "import yfinance as yf\n",
    "import keras_tuner as kt\n",
    "import tensorflow as tf\n",
    "from statsmodels.graphics.tsaplots import plot_acf, plot_pacf\n",
    "from statsmodels.tsa.stattools import adfuller\n",
    "from sklearn.model_selection import train_test_split"
   ]
  },
  {
   "cell_type": "markdown",
   "id": "4bbbc5e2-e5d8-4c2a-83c2-5705dd9cffee",
   "metadata": {},
   "source": [
    "## Step 1 ##"
   ]
  },
  {
   "cell_type": "markdown",
   "id": "25eee50f-bbcc-494c-a498-d2931844a775",
   "metadata": {},
   "source": [
    "Let us consider the stock Asian Paints, which is traded on the Indian stock markets. We download the data from yfinance for the past 8 years."
   ]
  },
  {
   "cell_type": "code",
   "execution_count": 246,
   "id": "c704df7b-a5f8-4484-9b98-5c3a191daf39",
   "metadata": {},
   "outputs": [],
   "source": [
    "data = yf.Ticker(\"ASIANPAINT.NS\").history(period=\"8y\")"
   ]
  },
  {
   "cell_type": "code",
   "execution_count": 248,
   "id": "2f271487-45d7-4b4c-9b68-6365807f54da",
   "metadata": {},
   "outputs": [
    {
     "data": {
      "text/html": [
       "<div>\n",
       "<style scoped>\n",
       "    .dataframe tbody tr th:only-of-type {\n",
       "        vertical-align: middle;\n",
       "    }\n",
       "\n",
       "    .dataframe tbody tr th {\n",
       "        vertical-align: top;\n",
       "    }\n",
       "\n",
       "    .dataframe thead th {\n",
       "        text-align: right;\n",
       "    }\n",
       "</style>\n",
       "<table border=\"1\" class=\"dataframe\">\n",
       "  <thead>\n",
       "    <tr style=\"text-align: right;\">\n",
       "      <th></th>\n",
       "      <th>Open</th>\n",
       "      <th>High</th>\n",
       "      <th>Low</th>\n",
       "      <th>Close</th>\n",
       "      <th>Volume</th>\n",
       "      <th>Dividends</th>\n",
       "      <th>Stock Splits</th>\n",
       "    </tr>\n",
       "    <tr>\n",
       "      <th>Date</th>\n",
       "      <th></th>\n",
       "      <th></th>\n",
       "      <th></th>\n",
       "      <th></th>\n",
       "      <th></th>\n",
       "      <th></th>\n",
       "      <th></th>\n",
       "    </tr>\n",
       "  </thead>\n",
       "  <tbody>\n",
       "    <tr>\n",
       "      <th>2017-02-20 00:00:00+05:30</th>\n",
       "      <td>907.051664</td>\n",
       "      <td>924.937866</td>\n",
       "      <td>900.303026</td>\n",
       "      <td>920.973633</td>\n",
       "      <td>1092302</td>\n",
       "      <td>0.0</td>\n",
       "      <td>0.0</td>\n",
       "    </tr>\n",
       "    <tr>\n",
       "      <th>2017-02-21 00:00:00+05:30</th>\n",
       "      <td>922.814069</td>\n",
       "      <td>938.151829</td>\n",
       "      <td>921.492639</td>\n",
       "      <td>935.839355</td>\n",
       "      <td>885074</td>\n",
       "      <td>0.0</td>\n",
       "      <td>0.0</td>\n",
       "    </tr>\n",
       "    <tr>\n",
       "      <th>2017-02-22 00:00:00+05:30</th>\n",
       "      <td>939.237244</td>\n",
       "      <td>968.166643</td>\n",
       "      <td>938.104656</td>\n",
       "      <td>963.022583</td>\n",
       "      <td>2809160</td>\n",
       "      <td>0.0</td>\n",
       "      <td>0.0</td>\n",
       "    </tr>\n",
       "    <tr>\n",
       "      <th>2017-02-23 00:00:00+05:30</th>\n",
       "      <td>972.178164</td>\n",
       "      <td>972.178164</td>\n",
       "      <td>948.911935</td>\n",
       "      <td>952.357056</td>\n",
       "      <td>1580357</td>\n",
       "      <td>0.0</td>\n",
       "      <td>0.0</td>\n",
       "    </tr>\n",
       "    <tr>\n",
       "      <th>2017-02-27 00:00:00+05:30</th>\n",
       "      <td>953.300900</td>\n",
       "      <td>961.370911</td>\n",
       "      <td>942.918415</td>\n",
       "      <td>945.702820</td>\n",
       "      <td>738246</td>\n",
       "      <td>0.0</td>\n",
       "      <td>0.0</td>\n",
       "    </tr>\n",
       "  </tbody>\n",
       "</table>\n",
       "</div>"
      ],
      "text/plain": [
       "                                 Open        High         Low       Close  \\\n",
       "Date                                                                        \n",
       "2017-02-20 00:00:00+05:30  907.051664  924.937866  900.303026  920.973633   \n",
       "2017-02-21 00:00:00+05:30  922.814069  938.151829  921.492639  935.839355   \n",
       "2017-02-22 00:00:00+05:30  939.237244  968.166643  938.104656  963.022583   \n",
       "2017-02-23 00:00:00+05:30  972.178164  972.178164  948.911935  952.357056   \n",
       "2017-02-27 00:00:00+05:30  953.300900  961.370911  942.918415  945.702820   \n",
       "\n",
       "                            Volume  Dividends  Stock Splits  \n",
       "Date                                                         \n",
       "2017-02-20 00:00:00+05:30  1092302        0.0           0.0  \n",
       "2017-02-21 00:00:00+05:30   885074        0.0           0.0  \n",
       "2017-02-22 00:00:00+05:30  2809160        0.0           0.0  \n",
       "2017-02-23 00:00:00+05:30  1580357        0.0           0.0  \n",
       "2017-02-27 00:00:00+05:30   738246        0.0           0.0  "
      ]
     },
     "execution_count": 248,
     "metadata": {},
     "output_type": "execute_result"
    }
   ],
   "source": [
    "data.head()"
   ]
  },
  {
   "cell_type": "code",
   "execution_count": 250,
   "id": "bb75fe2a-bf38-4de5-8b52-307489a65b8b",
   "metadata": {},
   "outputs": [
    {
     "data": {
      "text/plain": [
       "(1978, 7)"
      ]
     },
     "execution_count": 250,
     "metadata": {},
     "output_type": "execute_result"
    }
   ],
   "source": [
    "data.shape #less than 2000 rows of data, as stated in the GWP"
   ]
  },
  {
   "cell_type": "markdown",
   "id": "465ed4a2-6553-4a76-b669-92426dd202e8",
   "metadata": {},
   "source": [
    "For the analysis that follows, we consider just the closing price"
   ]
  },
  {
   "cell_type": "code",
   "execution_count": 253,
   "id": "5a38ba63-3d55-40e3-9464-75570e2c71c9",
   "metadata": {},
   "outputs": [
    {
     "data": {
      "text/plain": [
       "Date\n",
       "2017-02-20 00:00:00+05:30    920.973633\n",
       "2017-02-21 00:00:00+05:30    935.839355\n",
       "2017-02-22 00:00:00+05:30    963.022583\n",
       "2017-02-23 00:00:00+05:30    952.357056\n",
       "2017-02-27 00:00:00+05:30    945.702820\n",
       "Name: Close, dtype: float64"
      ]
     },
     "execution_count": 253,
     "metadata": {},
     "output_type": "execute_result"
    }
   ],
   "source": [
    "data = data[\"Close\"]\n",
    "data.head()"
   ]
  },
  {
   "cell_type": "code",
   "execution_count": 9,
   "id": "7468c34d-4ae3-43cf-add5-7bc78d7593e5",
   "metadata": {
    "scrolled": true
   },
   "outputs": [
    {
     "data": {
      "image/png": "[encoded data removed]",
      "text/plain": [
       "<Figure size 640x480 with 1 Axes>"
      ]
     },
     "metadata": {},
     "output_type": "display_data"
    }
   ],
   "source": [
    "#Plot the time series\n",
    "data.plot(ylabel=\"Asian Paints Closing Prices\")\n",
    "plt.grid()"
   ]
  },
  {
   "cell_type": "markdown",
   "id": "62d1f5d5-a41e-47c2-9faf-0bcee73ec498",
   "metadata": {},
   "source": [
    "The plot clearly shows a trend in the time series. The prices of the Asian Paints stock clearly rises with time."
   ]
  },
  {
   "cell_type": "code",
   "execution_count": 11,
   "id": "fc92902f-9e1a-4181-8efb-32abc1f9b416",
   "metadata": {},
   "outputs": [
    {
     "data": {
      "text/plain": [
       "count    1978.000000\n",
       "mean     2195.693018\n",
       "std       827.235237\n",
       "min       920.973633\n",
       "25%      1331.915833\n",
       "50%      2324.104126\n",
       "75%      2986.692200\n",
       "max      3497.630127\n",
       "Name: Close, dtype: float64"
      ]
     },
     "execution_count": 11,
     "metadata": {},
     "output_type": "execute_result"
    }
   ],
   "source": [
    "data.describe() #summary statistics for the untransformed time series"
   ]
  },
  {
   "cell_type": "markdown",
   "id": "4af69dd9-02e3-49c9-84b1-5fc665453662",
   "metadata": {},
   "source": [
    "Note that the series has a high standard deviation of 827.44, and a mean of 2196.67."
   ]
  },
  {
   "cell_type": "code",
   "execution_count": 13,
   "id": "60e9c7a3-2f24-4dc2-b918-629f96cf8643",
   "metadata": {},
   "outputs": [
    {
     "data": {
      "text/plain": [
       "Text(0.5, 1.0, 'Histogram of Asian Paints Closing Price')"
      ]
     },
     "execution_count": 13,
     "metadata": {},
     "output_type": "execute_result"
    },
    {
     "data": {
      "image/png": "[encoded data removed]",
      "text/plain": [
       "<Figure size 640x480 with 1 Axes>"
      ]
     },
     "metadata": {},
     "output_type": "display_data"
    }
   ],
   "source": [
    "data.hist(bins = 10)\n",
    "plt.xlabel(\"Closing Price\")\n",
    "plt.ylabel(\"Number of Days\")\n",
    "plt.title(\"Histogram of Asian Paints Closing Price\")"
   ]
  },
  {
   "cell_type": "markdown",
   "id": "97c4d66f-8561-4319-8dfd-849768398702",
   "metadata": {},
   "source": [
    "Let us check for the presence of autocorrelation in the time series with different lags"
   ]
  },
  {
   "cell_type": "code",
   "execution_count": 15,
   "id": "cf7f9e04-b098-474f-ad47-1e5613df61c8",
   "metadata": {},
   "outputs": [
    {
     "name": "stdout",
     "output_type": "stream",
     "text": [
      "0.9991062601228302\n",
      "0.995196874948592\n",
      "0.9905199470772578\n",
      "0.9484417749173853\n",
      "0.9148168463755268\n",
      "0.8848048746025199\n",
      "0.6535425926992952\n",
      "-0.3485162814573803\n"
     ]
    }
   ],
   "source": [
    "for i in [1, 5, 10, 50, 100, 200, 500, 1000]:\n",
    "    print(data.autocorr(lag = i))"
   ]
  },
  {
   "cell_type": "markdown",
   "id": "7a4bf95d-4479-49e4-a320-22671e50be6b",
   "metadata": {},
   "source": [
    "As you can see, the time series is heavily autocorrelated"
   ]
  },
  {
   "cell_type": "markdown",
   "id": "a5d2c9bb-c616-4bee-b057-29f9f3487b41",
   "metadata": {},
   "source": [
    "Let us test for stationarity using the Augmented Dickey-Fuller test"
   ]
  },
  {
   "cell_type": "code",
   "execution_count": 18,
   "id": "1290b192-d975-4b28-87dc-ef4b1064fa82",
   "metadata": {},
   "outputs": [
    {
     "data": {
      "text/plain": [
       "(-1.5742522314695544,\n",
       " 0.49651323221834676,\n",
       " 1,\n",
       " {'1%': -3.4336636717018405,\n",
       "  '5%': -2.8630037919874423,\n",
       "  '10%': -2.567549261922421})"
      ]
     },
     "execution_count": 18,
     "metadata": {},
     "output_type": "execute_result"
    }
   ],
   "source": [
    "adf_result_data = adfuller(data)\n",
    "adf_statistic = adf_result_data[0] \n",
    "p_value = adf_result_data[1]\n",
    "used_lags = adf_result_data[2] \n",
    "critical_values = adf_result_data[4] \n",
    "\n",
    "adf_statistic, p_value, used_lags, critical_values"
   ]
  },
  {
   "cell_type": "markdown",
   "id": "16ed6348-87a1-429f-8470-e8e21d6fce33",
   "metadata": {},
   "source": [
    "Note that the adf_statistic of -1.57 is higher than all the critical values. The p-value is 0.49 which is greater than 0.05. This means that we fail to reject the null hypothesis (that the series has a unit root). So, the untransformed time series for the Asian Paints NSE stock can be said be non-stationary."
   ]
  },
  {
   "cell_type": "code",
   "execution_count": 20,
   "id": "d4475f00-d17a-4422-a6e9-afd918335214",
   "metadata": {},
   "outputs": [],
   "source": [
    "differenced_data = data.diff()[1:]"
   ]
  },
  {
   "cell_type": "code",
   "execution_count": 21,
   "id": "2cd3f834-c62d-44f0-a6df-42e5107093dd",
   "metadata": {},
   "outputs": [
    {
     "data": {
      "text/plain": [
       "Date\n",
       "2017-02-21 00:00:00+05:30    14.865784\n",
       "2017-02-22 00:00:00+05:30    27.183167\n",
       "2017-02-23 00:00:00+05:30   -10.665588\n",
       "2017-02-27 00:00:00+05:30    -6.654114\n",
       "2017-02-28 00:00:00+05:30    21.000977\n",
       "Name: Close, dtype: float64"
      ]
     },
     "execution_count": 21,
     "metadata": {},
     "output_type": "execute_result"
    }
   ],
   "source": [
    "differenced_data.head()"
   ]
  },
  {
   "cell_type": "code",
   "execution_count": 22,
   "id": "ce4d747f-e1ed-42c1-a4f7-02aa34b394f4",
   "metadata": {},
   "outputs": [
    {
     "data": {
      "text/plain": [
       "Text(0, 0.5, 'Differenced Prices [Lag 1]')"
      ]
     },
     "execution_count": 22,
     "metadata": {},
     "output_type": "execute_result"
    },
    {
     "data": {
      "image/png": "[encoded data removed]",
      "text/plain": [
       "<Figure size 640x480 with 1 Axes>"
      ]
     },
     "metadata": {},
     "output_type": "display_data"
    }
   ],
   "source": [
    "differenced_data.plot()\n",
    "plt.grid()\n",
    "plt.xlabel(\"Year\")\n",
    "plt.ylabel(\"Differenced Prices [Lag 1]\")"
   ]
  },
  {
   "cell_type": "code",
   "execution_count": 23,
   "id": "d5fd6541-9ff8-46a6-93ea-73b13fe25336",
   "metadata": {},
   "outputs": [
    {
     "name": "stdout",
     "output_type": "stream",
     "text": [
      "0.04830875698088348\n",
      "-0.013929503884396422\n",
      "0.0014293909867304046\n",
      "-0.06208304160700408\n",
      "-0.06341200576433872\n",
      "0.00403445504050491\n",
      "-0.014941984903887113\n",
      "0.020470257303734453\n"
     ]
    }
   ],
   "source": [
    "for i in [1, 5, 10, 50, 100, 200, 500, 1000]:\n",
    "    print(differenced_data.autocorr(lag = i))"
   ]
  },
  {
   "cell_type": "code",
   "execution_count": 24,
   "id": "d5a2dd66-ba5e-4848-b603-855611890245",
   "metadata": {},
   "outputs": [
    {
     "data": {
      "text/plain": [
       "count    1977.000000\n",
       "mean        0.664606\n",
       "std        34.976198\n",
       "min      -242.193848\n",
       "25%       -13.579834\n",
       "50%         0.394775\n",
       "75%        15.985962\n",
       "max       211.206787\n",
       "Name: Close, dtype: float64"
      ]
     },
     "execution_count": 24,
     "metadata": {},
     "output_type": "execute_result"
    }
   ],
   "source": [
    "differenced_data.describe()"
   ]
  },
  {
   "cell_type": "markdown",
   "id": "63f2ff6b-98fe-4a0e-bda7-6235e4a1dbc0",
   "metadata": {},
   "source": [
    "The differenced time series seems to be de-trended now. Let us now test for stationarity."
   ]
  },
  {
   "cell_type": "code",
   "execution_count": 26,
   "id": "e79af474-f987-406e-8d7d-200a8e17018d",
   "metadata": {},
   "outputs": [
    {
     "data": {
      "text/plain": [
       "(-42.33443960947605,\n",
       " 0.0,\n",
       " 0,\n",
       " {'1%': -3.4336636717018405,\n",
       "  '5%': -2.8630037919874423,\n",
       "  '10%': -2.567549261922421})"
      ]
     },
     "execution_count": 26,
     "metadata": {},
     "output_type": "execute_result"
    }
   ],
   "source": [
    "adf_result_differenced_data = adfuller(differenced_data)\n",
    "adf_statistic = adf_result_differenced_data[0] \n",
    "p_value = adf_result_differenced_data[1]\n",
    "used_lags = adf_result_differenced_data[2] \n",
    "critical_values = adf_result_differenced_data[4] \n",
    "\n",
    "adf_statistic, p_value, used_lags, critical_values"
   ]
  },
  {
   "cell_type": "markdown",
   "id": "7760a80b-c42c-4425-bf33-f8fec514bc81",
   "metadata": {},
   "source": [
    "Here, note that the p value is zero and the adf_statistic of -42.31 is lesser than all the critical values, which implies that the differenced time series is stationary."
   ]
  },
  {
   "cell_type": "markdown",
   "id": "67dda1ec-6f3f-49e1-87a9-05441f558945",
   "metadata": {},
   "source": [
    "Now, let us attempt to implement fractional differencing"
   ]
  },
  {
   "cell_type": "code",
   "execution_count": 29,
   "id": "71cd1086-2cf4-4cd0-bca7-2ffd4b97a2fe",
   "metadata": {},
   "outputs": [],
   "source": [
    "def getWeights(d,lags):\n",
    "    # calculate the weights from the series expansion of the differencing operator\n",
    "    # for real orders d and up to [lags] number of coefficients\n",
    "    w=[1]\n",
    "    for k in range(1,lags):\n",
    "        w.append(-w[-1]*((d-k+1))/k)\n",
    "    w=np.array(w).reshape(-1,1) \n",
    "    return w"
   ]
  },
  {
   "cell_type": "code",
   "execution_count": 30,
   "id": "3015897e-b846-4652-8c9c-d470f3d2b7f4",
   "metadata": {},
   "outputs": [],
   "source": [
    "def fractional_differencing(series, order, cutoff):\n",
    "    #calculate the time series obtained from fractional differencing\n",
    "    weights=getWeights(order, cutoff)\n",
    "    frac_diff_series = 0\n",
    "    for k in range(cutoff):\n",
    "        frac_diff_series += weights[k]*series.shift(k).fillna(0)\n",
    "    return frac_diff_series[cutoff:] "
   ]
  },
  {
   "cell_type": "code",
   "execution_count": 31,
   "id": "db2c5b56-f3b0-480e-81b0-36872ad76701",
   "metadata": {},
   "outputs": [],
   "source": [
    "frac_diff_series = fractional_differencing(data, 0.75, 10) #considering d = 0.75 for now and we consider 10 terms in the series"
   ]
  },
  {
   "cell_type": "code",
   "execution_count": 32,
   "id": "3c1dca51-ffd3-41ef-aa3c-65e4a8d24ee6",
   "metadata": {},
   "outputs": [
    {
     "data": {
      "text/plain": [
       "Text(0, 0.5, 'Series After Fractional Differencing with d = 0.75')"
      ]
     },
     "execution_count": 32,
     "metadata": {},
     "output_type": "execute_result"
    },
    {
     "data": {
      "image/png": "[encoded data removed]",
      "text/plain": [
       "<Figure size 640x480 with 1 Axes>"
      ]
     },
     "metadata": {},
     "output_type": "display_data"
    }
   ],
   "source": [
    "frac_diff_series.plot()\n",
    "plt.ylabel(\"Series After Fractional Differencing with d = 0.75\")"
   ]
  },
  {
   "cell_type": "code",
   "execution_count": 33,
   "id": "6c80f50f-5ff1-4869-8a85-33969c7729b0",
   "metadata": {},
   "outputs": [
    {
     "data": {
      "text/plain": [
       "count    1968.000000\n",
       "mean      116.575202\n",
       "std        55.766781\n",
       "min      -131.676032\n",
       "25%        68.451093\n",
       "50%       111.528851\n",
       "75%       159.607558\n",
       "max       340.877224\n",
       "Name: Close, dtype: float64"
      ]
     },
     "execution_count": 33,
     "metadata": {},
     "output_type": "execute_result"
    }
   ],
   "source": [
    "frac_diff_series.describe()"
   ]
  },
  {
   "cell_type": "code",
   "execution_count": 34,
   "id": "d014347b-9455-4d9e-bcc3-e985a7fb4fc1",
   "metadata": {},
   "outputs": [
    {
     "data": {
      "text/plain": [
       "(-2.1467805034032907,\n",
       " 0.2261244665236818,\n",
       " 26,\n",
       " {'1%': -3.4337235029383693,\n",
       "  '5%': -2.8630302070982023,\n",
       "  '10%': -2.56756332673476})"
      ]
     },
     "execution_count": 34,
     "metadata": {},
     "output_type": "execute_result"
    }
   ],
   "source": [
    "adf_result_frac_diff_data = adfuller(frac_diff_series)\n",
    "adf_statistic = adf_result_frac_diff_data[0] \n",
    "p_value = adf_result_frac_diff_data[1]\n",
    "used_lags = adf_result_frac_diff_data[2] \n",
    "critical_values = adf_result_frac_diff_data[4] \n",
    "\n",
    "adf_statistic, p_value, used_lags, critical_values"
   ]
  },
  {
   "cell_type": "markdown",
   "id": "8b0bda90-c80a-4bd0-8281-261721d18c19",
   "metadata": {},
   "source": [
    "Note that for this fractional differenced series with d = 0.75, the adf_statistic is higher than the critical values. The p-value of 0.22 also indicates that this fractional differenced series is not stationary."
   ]
  },
  {
   "cell_type": "markdown",
   "id": "27b33ec1-376f-4c32-a134-8cf331a4fb52",
   "metadata": {},
   "source": [
    "## Step 2 "
   ]
  },
  {
   "cell_type": "markdown",
   "id": "4ce6fb61-700c-46e1-8af6-3ed14d131207",
   "metadata": {},
   "source": [
    "Let us now build Multi-Layer Perceptron models to predict the future values of these time series. Specifically, we predict if the stock will rise or fall the next day."
   ]
  },
  {
   "cell_type": "markdown",
   "id": "1aa0a87b-17f3-4e17-8b1a-e542ffac8820",
   "metadata": {},
   "source": [
    "**First, the original time series.** he inputs to this model will be the returns over the past 10, 60, 150 days along with the present value."
   ]
  },
  {
   "cell_type": "code",
   "execution_count": 257,
   "id": "94aa5697-09e7-4bb8-be2d-c1adfc6a798c",
   "metadata": {},
   "outputs": [],
   "source": [
    "data = data.to_frame()"
   ]
  },
  {
   "cell_type": "code",
   "execution_count": 259,
   "id": "9cc8918e-366b-4e37-bfd8-a0569e0b3c1f",
   "metadata": {},
   "outputs": [],
   "source": [
    "data[\"1d_returns\"] = data.pct_change()"
   ]
  },
  {
   "cell_type": "code",
   "execution_count": 261,
   "id": "10603e7b-6a6f-4305-bf6e-7b9e65156c55",
   "metadata": {},
   "outputs": [
    {
     "data": {
      "text/html": [
       "<div>\n",
       "<style scoped>\n",
       "    .dataframe tbody tr th:only-of-type {\n",
       "        vertical-align: middle;\n",
       "    }\n",
       "\n",
       "    .dataframe tbody tr th {\n",
       "        vertical-align: top;\n",
       "    }\n",
       "\n",
       "    .dataframe thead th {\n",
       "        text-align: right;\n",
       "    }\n",
       "</style>\n",
       "<table border=\"1\" class=\"dataframe\">\n",
       "  <thead>\n",
       "    <tr style=\"text-align: right;\">\n",
       "      <th></th>\n",
       "      <th>Close</th>\n",
       "      <th>1d_returns</th>\n",
       "    </tr>\n",
       "    <tr>\n",
       "      <th>Date</th>\n",
       "      <th></th>\n",
       "      <th></th>\n",
       "    </tr>\n",
       "  </thead>\n",
       "  <tbody>\n",
       "    <tr>\n",
       "      <th>2017-02-20 00:00:00+05:30</th>\n",
       "      <td>920.973633</td>\n",
       "      <td>NaN</td>\n",
       "    </tr>\n",
       "    <tr>\n",
       "      <th>2017-02-21 00:00:00+05:30</th>\n",
       "      <td>935.839355</td>\n",
       "      <td>0.016141</td>\n",
       "    </tr>\n",
       "    <tr>\n",
       "      <th>2017-02-22 00:00:00+05:30</th>\n",
       "      <td>963.022583</td>\n",
       "      <td>0.029047</td>\n",
       "    </tr>\n",
       "    <tr>\n",
       "      <th>2017-02-23 00:00:00+05:30</th>\n",
       "      <td>952.357056</td>\n",
       "      <td>-0.011075</td>\n",
       "    </tr>\n",
       "    <tr>\n",
       "      <th>2017-02-27 00:00:00+05:30</th>\n",
       "      <td>945.702820</td>\n",
       "      <td>-0.006987</td>\n",
       "    </tr>\n",
       "  </tbody>\n",
       "</table>\n",
       "</div>"
      ],
      "text/plain": [
       "                                Close  1d_returns\n",
       "Date                                             \n",
       "2017-02-20 00:00:00+05:30  920.973633         NaN\n",
       "2017-02-21 00:00:00+05:30  935.839355    0.016141\n",
       "2017-02-22 00:00:00+05:30  963.022583    0.029047\n",
       "2017-02-23 00:00:00+05:30  952.357056   -0.011075\n",
       "2017-02-27 00:00:00+05:30  945.702820   -0.006987"
      ]
     },
     "execution_count": 261,
     "metadata": {},
     "output_type": "execute_result"
    }
   ],
   "source": [
    "data.head()"
   ]
  },
  {
   "cell_type": "code",
   "execution_count": 263,
   "id": "b2e52e36-2a31-4e51-bb12-af4e7ec4d8b6",
   "metadata": {},
   "outputs": [],
   "source": [
    "data[\"10d_returns\"] = data[\"1d_returns\"].rolling(10).apply(lambda x: (1+ x).prod())\n",
    "data[\"60d_returns\"] = data[\"1d_returns\"].rolling(60).apply(lambda x: (1+ x).prod())\n",
    "data[\"150d_returns\"] = data[\"1d_returns\"].rolling(150).apply(lambda x: (1+ x).prod())"
   ]
  },
  {
   "cell_type": "code",
   "execution_count": 264,
   "id": "e2459ca2-98cf-485f-9173-7c0de482de94",
   "metadata": {},
   "outputs": [],
   "source": [
    "data.dropna(inplace=True)"
   ]
  },
  {
   "cell_type": "code",
   "execution_count": 265,
   "id": "b31fd584-e930-4168-8cbf-197aab3720b9",
   "metadata": {},
   "outputs": [
    {
     "data": {
      "text/html": [
       "<div>\n",
       "<style scoped>\n",
       "    .dataframe tbody tr th:only-of-type {\n",
       "        vertical-align: middle;\n",
       "    }\n",
       "\n",
       "    .dataframe tbody tr th {\n",
       "        vertical-align: top;\n",
       "    }\n",
       "\n",
       "    .dataframe thead th {\n",
       "        text-align: right;\n",
       "    }\n",
       "</style>\n",
       "<table border=\"1\" class=\"dataframe\">\n",
       "  <thead>\n",
       "    <tr style=\"text-align: right;\">\n",
       "      <th></th>\n",
       "      <th>Close</th>\n",
       "      <th>1d_returns</th>\n",
       "      <th>10d_returns</th>\n",
       "      <th>60d_returns</th>\n",
       "      <th>150d_returns</th>\n",
       "    </tr>\n",
       "    <tr>\n",
       "      <th>Date</th>\n",
       "      <th></th>\n",
       "      <th></th>\n",
       "      <th></th>\n",
       "      <th></th>\n",
       "      <th></th>\n",
       "    </tr>\n",
       "  </thead>\n",
       "  <tbody>\n",
       "    <tr>\n",
       "      <th>2017-09-28 00:00:00+05:30</th>\n",
       "      <td>1068.423096</td>\n",
       "      <td>-0.025862</td>\n",
       "      <td>0.906866</td>\n",
       "      <td>1.019350</td>\n",
       "      <td>1.160102</td>\n",
       "    </tr>\n",
       "    <tr>\n",
       "      <th>2017-09-29 00:00:00+05:30</th>\n",
       "      <td>1070.030518</td>\n",
       "      <td>0.001504</td>\n",
       "      <td>0.908631</td>\n",
       "      <td>1.004483</td>\n",
       "      <td>1.143391</td>\n",
       "    </tr>\n",
       "    <tr>\n",
       "      <th>2017-10-03 00:00:00+05:30</th>\n",
       "      <td>1086.198608</td>\n",
       "      <td>0.015110</td>\n",
       "      <td>0.914686</td>\n",
       "      <td>1.014706</td>\n",
       "      <td>1.127906</td>\n",
       "    </tr>\n",
       "    <tr>\n",
       "      <th>2017-10-04 00:00:00+05:30</th>\n",
       "      <td>1091.162842</td>\n",
       "      <td>0.004570</td>\n",
       "      <td>0.920809</td>\n",
       "      <td>1.034605</td>\n",
       "      <td>1.145750</td>\n",
       "    </tr>\n",
       "    <tr>\n",
       "      <th>2017-10-05 00:00:00+05:30</th>\n",
       "      <td>1090.406006</td>\n",
       "      <td>-0.000694</td>\n",
       "      <td>0.932070</td>\n",
       "      <td>1.022611</td>\n",
       "      <td>1.153011</td>\n",
       "    </tr>\n",
       "  </tbody>\n",
       "</table>\n",
       "</div>"
      ],
      "text/plain": [
       "                                 Close  1d_returns  10d_returns  60d_returns  \\\n",
       "Date                                                                           \n",
       "2017-09-28 00:00:00+05:30  1068.423096   -0.025862     0.906866     1.019350   \n",
       "2017-09-29 00:00:00+05:30  1070.030518    0.001504     0.908631     1.004483   \n",
       "2017-10-03 00:00:00+05:30  1086.198608    0.015110     0.914686     1.014706   \n",
       "2017-10-04 00:00:00+05:30  1091.162842    0.004570     0.920809     1.034605   \n",
       "2017-10-05 00:00:00+05:30  1090.406006   -0.000694     0.932070     1.022611   \n",
       "\n",
       "                           150d_returns  \n",
       "Date                                     \n",
       "2017-09-28 00:00:00+05:30      1.160102  \n",
       "2017-09-29 00:00:00+05:30      1.143391  \n",
       "2017-10-03 00:00:00+05:30      1.127906  \n",
       "2017-10-04 00:00:00+05:30      1.145750  \n",
       "2017-10-05 00:00:00+05:30      1.153011  "
      ]
     },
     "execution_count": 265,
     "metadata": {},
     "output_type": "execute_result"
    }
   ],
   "source": [
    "data.head()"
   ]
  },
  {
   "cell_type": "markdown",
   "id": "00c4d9e8-e5cf-484b-9be6-1eaa41cd2e97",
   "metadata": {},
   "source": [
    "now, we create a separate column for the returns the next day. For this, we can simply shift the 1d_returns column by one day. We treat this as a classfication task and try to predict if the returns next dat will be positive or negative."
   ]
  },
  {
   "cell_type": "code",
   "execution_count": 274,
   "id": "1c99d01d-9813-4d69-a5a4-91c886940943",
   "metadata": {},
   "outputs": [],
   "source": [
    "data[\"next_10d_returns\"] = (data[\"10d_returns\"].shift(10)>0).astype(int) #this is our target column. \n",
    "data.dropna(inplace=True)"
   ]
  },
  {
   "cell_type": "code",
   "execution_count": 276,
   "id": "9a26052e-23b1-434f-8124-c3868be71d63",
   "metadata": {},
   "outputs": [
    {
     "data": {
      "text/html": [
       "<div>\n",
       "<style scoped>\n",
       "    .dataframe tbody tr th:only-of-type {\n",
       "        vertical-align: middle;\n",
       "    }\n",
       "\n",
       "    .dataframe tbody tr th {\n",
       "        vertical-align: top;\n",
       "    }\n",
       "\n",
       "    .dataframe thead th {\n",
       "        text-align: right;\n",
       "    }\n",
       "</style>\n",
       "<table border=\"1\" class=\"dataframe\">\n",
       "  <thead>\n",
       "    <tr style=\"text-align: right;\">\n",
       "      <th></th>\n",
       "      <th>Close</th>\n",
       "      <th>1d_returns</th>\n",
       "      <th>10d_returns</th>\n",
       "      <th>60d_returns</th>\n",
       "      <th>150d_returns</th>\n",
       "      <th>next_10d_returns</th>\n",
       "    </tr>\n",
       "    <tr>\n",
       "      <th>Date</th>\n",
       "      <th></th>\n",
       "      <th></th>\n",
       "      <th></th>\n",
       "      <th></th>\n",
       "      <th></th>\n",
       "      <th></th>\n",
       "    </tr>\n",
       "  </thead>\n",
       "  <tbody>\n",
       "    <tr>\n",
       "      <th>2017-09-28 00:00:00+05:30</th>\n",
       "      <td>1068.423096</td>\n",
       "      <td>-0.025862</td>\n",
       "      <td>0.906866</td>\n",
       "      <td>1.019350</td>\n",
       "      <td>1.160102</td>\n",
       "      <td>0</td>\n",
       "    </tr>\n",
       "    <tr>\n",
       "      <th>2017-09-29 00:00:00+05:30</th>\n",
       "      <td>1070.030518</td>\n",
       "      <td>0.001504</td>\n",
       "      <td>0.908631</td>\n",
       "      <td>1.004483</td>\n",
       "      <td>1.143391</td>\n",
       "      <td>0</td>\n",
       "    </tr>\n",
       "    <tr>\n",
       "      <th>2017-10-03 00:00:00+05:30</th>\n",
       "      <td>1086.198608</td>\n",
       "      <td>0.015110</td>\n",
       "      <td>0.914686</td>\n",
       "      <td>1.014706</td>\n",
       "      <td>1.127906</td>\n",
       "      <td>0</td>\n",
       "    </tr>\n",
       "    <tr>\n",
       "      <th>2017-10-04 00:00:00+05:30</th>\n",
       "      <td>1091.162842</td>\n",
       "      <td>0.004570</td>\n",
       "      <td>0.920809</td>\n",
       "      <td>1.034605</td>\n",
       "      <td>1.145750</td>\n",
       "      <td>0</td>\n",
       "    </tr>\n",
       "    <tr>\n",
       "      <th>2017-10-05 00:00:00+05:30</th>\n",
       "      <td>1090.406006</td>\n",
       "      <td>-0.000694</td>\n",
       "      <td>0.932070</td>\n",
       "      <td>1.022611</td>\n",
       "      <td>1.153011</td>\n",
       "      <td>0</td>\n",
       "    </tr>\n",
       "  </tbody>\n",
       "</table>\n",
       "</div>"
      ],
      "text/plain": [
       "                                 Close  1d_returns  10d_returns  60d_returns  \\\n",
       "Date                                                                           \n",
       "2017-09-28 00:00:00+05:30  1068.423096   -0.025862     0.906866     1.019350   \n",
       "2017-09-29 00:00:00+05:30  1070.030518    0.001504     0.908631     1.004483   \n",
       "2017-10-03 00:00:00+05:30  1086.198608    0.015110     0.914686     1.014706   \n",
       "2017-10-04 00:00:00+05:30  1091.162842    0.004570     0.920809     1.034605   \n",
       "2017-10-05 00:00:00+05:30  1090.406006   -0.000694     0.932070     1.022611   \n",
       "\n",
       "                           150d_returns  next_10d_returns  \n",
       "Date                                                       \n",
       "2017-09-28 00:00:00+05:30      1.160102                 0  \n",
       "2017-09-29 00:00:00+05:30      1.143391                 0  \n",
       "2017-10-03 00:00:00+05:30      1.127906                 0  \n",
       "2017-10-04 00:00:00+05:30      1.145750                 0  \n",
       "2017-10-05 00:00:00+05:30      1.153011                 0  "
      ]
     },
     "execution_count": 276,
     "metadata": {},
     "output_type": "execute_result"
    }
   ],
   "source": [
    "data.head()"
   ]
  },
  {
   "cell_type": "code",
   "execution_count": 280,
   "id": "3f086676-a47a-42ef-9da8-e700570b6841",
   "metadata": {},
   "outputs": [],
   "source": [
    "X = data[['1d_returns', '10d_returns', '60d_returns', '150d_returns']]\n",
    "y = data['next_10d_returns']"
   ]
  },
  {
   "cell_type": "code",
   "execution_count": 282,
   "id": "ce3d3dcb-c8cf-415f-aa46-672e5023bf50",
   "metadata": {},
   "outputs": [],
   "source": [
    "X_train, X_test, y_train, y_test = train_test_split(X, y, test_size=0.2, shuffle=False) #train-test split"
   ]
  },
  {
   "cell_type": "markdown",
   "id": "0531b38c-b484-428e-8426-2ce77a917ef3",
   "metadata": {},
   "source": [
    "Now to build the MLP"
   ]
  },
  {
   "cell_type": "code",
   "execution_count": 285,
   "id": "fa3c1295-cee3-4594-b8c0-752d1d35c2fe",
   "metadata": {},
   "outputs": [],
   "source": [
    "tf.keras.backend.clear_session()  # We clear the backend to reset the random seed process\n",
    "tf.random.set_seed(42)\n",
    "\n",
    "act_fun = \"relu\"\n",
    "hp_units_1 = 4\n",
    "hp_units_2 = 4\n",
    "n_dropout = 0.2"
   ]
  },
  {
   "cell_type": "code",
   "execution_count": 286,
   "id": "a5456c3c-0a8e-4465-b3bf-682ad44159c3",
   "metadata": {},
   "outputs": [],
   "source": [
    "model = tf.keras.models.Sequential()\n",
    "model.add(tf.keras.layers.Dense(units=hp_units_1, activation=act_fun))\n",
    "model.add(tf.keras.layers.Dropout(n_dropout))\n",
    "model.add(tf.keras.layers.Dense(units=hp_units_2, activation=act_fun))\n",
    "model.add(tf.keras.layers.Dropout(n_dropout))\n",
    "model.add(tf.keras.layers.Dense(units=1, activation=\"sigmoid\")) #activation function"
   ]
  },
  {
   "cell_type": "code",
   "execution_count": 287,
   "id": "1f5b2175-a1a2-4615-b770-1f64ca35503d",
   "metadata": {},
   "outputs": [],
   "source": [
    "hp_lr = 1e-4  # Learning rate\n",
    "adam = tf.keras.optimizers.Adam(learning_rate=hp_lr)  # Adam optimizer\n",
    "model.compile(optimizer=adam, loss=\"binary_crossentropy\", metrics=[\"accuracy\"])"
   ]
  },
  {
   "cell_type": "code",
   "execution_count": 291,
   "id": "2aa2a042-29d1-4361-9653-040ee4dff9d0",
   "metadata": {},
   "outputs": [
    {
     "data": {
      "text/plain": [
       "next_10d_returns\n",
       "1    1818\n",
       "0      10\n",
       "Name: count, dtype: int64"
      ]
     },
     "execution_count": 291,
     "metadata": {},
     "output_type": "execute_result"
    }
   ],
   "source": [
    "y.value_counts()"
   ]
  },
  {
   "cell_type": "code",
   "execution_count": 299,
   "id": "352f9849-b2e2-4b8a-b64f-b3f17ba4a6f5",
   "metadata": {},
   "outputs": [],
   "source": [
    "class_weight = {0: 180, 1: 1}"
   ]
  },
  {
   "cell_type": "markdown",
   "id": "924222b0-0fa7-46b6-b850-300b1be33417",
   "metadata": {},
   "source": [
    "The output class seems pretty imbalanced. Let us balance the classes and fit the model."
   ]
  },
  {
   "cell_type": "code",
   "execution_count": 301,
   "id": "0689b025-332e-481f-b249-92235d4736f5",
   "metadata": {},
   "outputs": [
    {
     "name": "stdout",
     "output_type": "stream",
     "text": [
      "Epoch 1/50\n",
      "37/37 - 2s - 56ms/step - accuracy: 0.9914 - loss: 3.1886 - val_accuracy: 1.0000 - val_loss: 0.2811\n",
      "Epoch 2/50\n",
      "37/37 - 0s - 8ms/step - accuracy: 0.9914 - loss: 2.2935 - val_accuracy: 1.0000 - val_loss: 0.2907\n",
      "Epoch 3/50\n",
      "37/37 - 0s - 7ms/step - accuracy: 0.9914 - loss: 2.7183 - val_accuracy: 1.0000 - val_loss: 0.2997\n",
      "Epoch 4/50\n",
      "37/37 - 0s - 7ms/step - accuracy: 0.9914 - loss: 2.8826 - val_accuracy: 1.0000 - val_loss: 0.3087\n",
      "Epoch 5/50\n",
      "37/37 - 0s - 7ms/step - accuracy: 0.9914 - loss: 2.7201 - val_accuracy: 1.0000 - val_loss: 0.3167\n",
      "Epoch 6/50\n",
      "37/37 - 0s - 10ms/step - accuracy: 0.9914 - loss: 2.7126 - val_accuracy: 1.0000 - val_loss: 0.3235\n",
      "Epoch 7/50\n",
      "37/37 - 0s - 7ms/step - accuracy: 0.9914 - loss: 2.4990 - val_accuracy: 1.0000 - val_loss: 0.3306\n",
      "Epoch 8/50\n",
      "37/37 - 0s - 7ms/step - accuracy: 0.9914 - loss: 2.3525 - val_accuracy: 1.0000 - val_loss: 0.3352\n",
      "Epoch 9/50\n",
      "37/37 - 0s - 6ms/step - accuracy: 0.9914 - loss: 2.4378 - val_accuracy: 1.0000 - val_loss: 0.3400\n",
      "Epoch 10/50\n",
      "37/37 - 0s - 7ms/step - accuracy: 0.9914 - loss: 2.5795 - val_accuracy: 1.0000 - val_loss: 0.3453\n",
      "Epoch 11/50\n",
      "37/37 - 0s - 7ms/step - accuracy: 0.9914 - loss: 2.5846 - val_accuracy: 1.0000 - val_loss: 0.3511\n",
      "Epoch 12/50\n",
      "37/37 - 0s - 7ms/step - accuracy: 0.9914 - loss: 2.1696 - val_accuracy: 1.0000 - val_loss: 0.3553\n",
      "Epoch 13/50\n",
      "37/37 - 0s - 7ms/step - accuracy: 0.9914 - loss: 2.5030 - val_accuracy: 1.0000 - val_loss: 0.3604\n",
      "Epoch 14/50\n",
      "37/37 - 0s - 7ms/step - accuracy: 0.9914 - loss: 2.3815 - val_accuracy: 1.0000 - val_loss: 0.3646\n",
      "Epoch 15/50\n",
      "37/37 - 0s - 6ms/step - accuracy: 0.9914 - loss: 2.3665 - val_accuracy: 1.0000 - val_loss: 0.3692\n",
      "Epoch 16/50\n",
      "37/37 - 0s - 6ms/step - accuracy: 0.9914 - loss: 2.8511 - val_accuracy: 1.0000 - val_loss: 0.3752\n",
      "Epoch 17/50\n",
      "37/37 - 0s - 7ms/step - accuracy: 0.9914 - loss: 2.3870 - val_accuracy: 1.0000 - val_loss: 0.3803\n",
      "Epoch 18/50\n",
      "37/37 - 0s - 7ms/step - accuracy: 0.9914 - loss: 2.2124 - val_accuracy: 1.0000 - val_loss: 0.3839\n",
      "Epoch 19/50\n",
      "37/37 - 0s - 6ms/step - accuracy: 0.9914 - loss: 2.2171 - val_accuracy: 1.0000 - val_loss: 0.3878\n",
      "Epoch 20/50\n",
      "37/37 - 0s - 6ms/step - accuracy: 0.9914 - loss: 2.6471 - val_accuracy: 1.0000 - val_loss: 0.3926\n",
      "Epoch 21/50\n",
      "37/37 - 0s - 6ms/step - accuracy: 0.9914 - loss: 2.3731 - val_accuracy: 1.0000 - val_loss: 0.3980\n",
      "Epoch 22/50\n",
      "37/37 - 0s - 6ms/step - accuracy: 0.9914 - loss: 1.9663 - val_accuracy: 1.0000 - val_loss: 0.4004\n",
      "Epoch 23/50\n",
      "37/37 - 0s - 6ms/step - accuracy: 0.9914 - loss: 2.4668 - val_accuracy: 1.0000 - val_loss: 0.4042\n",
      "Epoch 24/50\n",
      "37/37 - 0s - 7ms/step - accuracy: 0.9914 - loss: 2.5528 - val_accuracy: 1.0000 - val_loss: 0.4096\n",
      "Epoch 25/50\n",
      "37/37 - 0s - 6ms/step - accuracy: 0.9914 - loss: 2.4098 - val_accuracy: 1.0000 - val_loss: 0.4141\n",
      "Epoch 26/50\n",
      "37/37 - 0s - 6ms/step - accuracy: 0.9914 - loss: 2.4349 - val_accuracy: 1.0000 - val_loss: 0.4192\n",
      "Epoch 27/50\n",
      "37/37 - 0s - 7ms/step - accuracy: 0.9914 - loss: 2.4834 - val_accuracy: 1.0000 - val_loss: 0.4237\n",
      "Epoch 28/50\n",
      "37/37 - 0s - 6ms/step - accuracy: 0.9914 - loss: 2.1208 - val_accuracy: 1.0000 - val_loss: 0.4266\n",
      "Epoch 29/50\n",
      "37/37 - 0s - 6ms/step - accuracy: 0.9914 - loss: 2.0234 - val_accuracy: 1.0000 - val_loss: 0.4294\n",
      "Epoch 30/50\n",
      "37/37 - 0s - 7ms/step - accuracy: 0.9914 - loss: 2.0103 - val_accuracy: 1.0000 - val_loss: 0.4318\n",
      "Epoch 31/50\n",
      "37/37 - 0s - 6ms/step - accuracy: 0.9914 - loss: 2.0218 - val_accuracy: 1.0000 - val_loss: 0.4342\n",
      "Epoch 32/50\n",
      "37/37 - 0s - 6ms/step - accuracy: 0.9914 - loss: 2.3469 - val_accuracy: 1.0000 - val_loss: 0.4382\n",
      "Epoch 33/50\n",
      "37/37 - 0s - 6ms/step - accuracy: 0.9914 - loss: 2.4303 - val_accuracy: 1.0000 - val_loss: 0.4431\n",
      "Epoch 34/50\n",
      "37/37 - 0s - 6ms/step - accuracy: 0.9914 - loss: 2.0912 - val_accuracy: 1.0000 - val_loss: 0.4458\n",
      "Epoch 35/50\n",
      "37/37 - 0s - 6ms/step - accuracy: 0.9914 - loss: 2.3213 - val_accuracy: 1.0000 - val_loss: 0.4499\n",
      "Epoch 36/50\n",
      "37/37 - 0s - 7ms/step - accuracy: 0.9914 - loss: 2.4816 - val_accuracy: 1.0000 - val_loss: 0.4553\n",
      "Epoch 37/50\n",
      "37/37 - 0s - 7ms/step - accuracy: 0.9914 - loss: 2.2944 - val_accuracy: 1.0000 - val_loss: 0.4596\n",
      "Epoch 38/50\n",
      "37/37 - 0s - 7ms/step - accuracy: 0.9914 - loss: 2.0707 - val_accuracy: 1.0000 - val_loss: 0.4630\n",
      "Epoch 39/50\n",
      "37/37 - 0s - 7ms/step - accuracy: 0.9914 - loss: 2.1174 - val_accuracy: 1.0000 - val_loss: 0.4660\n",
      "Epoch 40/50\n",
      "37/37 - 0s - 7ms/step - accuracy: 0.9914 - loss: 2.0279 - val_accuracy: 1.0000 - val_loss: 0.4683\n",
      "Epoch 41/50\n",
      "37/37 - 0s - 6ms/step - accuracy: 0.9914 - loss: 2.0387 - val_accuracy: 1.0000 - val_loss: 0.4716\n",
      "Epoch 42/50\n",
      "37/37 - 0s - 6ms/step - accuracy: 0.9914 - loss: 1.9666 - val_accuracy: 1.0000 - val_loss: 0.4737\n",
      "Epoch 43/50\n",
      "37/37 - 0s - 7ms/step - accuracy: 0.9914 - loss: 2.3947 - val_accuracy: 1.0000 - val_loss: 0.4779\n",
      "Epoch 44/50\n",
      "37/37 - 0s - 6ms/step - accuracy: 0.9914 - loss: 1.9184 - val_accuracy: 1.0000 - val_loss: 0.4810\n",
      "Epoch 45/50\n",
      "37/37 - 0s - 7ms/step - accuracy: 0.9914 - loss: 2.0207 - val_accuracy: 1.0000 - val_loss: 0.4833\n",
      "Epoch 46/50\n",
      "37/37 - 0s - 6ms/step - accuracy: 0.9914 - loss: 2.2178 - val_accuracy: 1.0000 - val_loss: 0.4867\n",
      "Epoch 47/50\n",
      "37/37 - 0s - 7ms/step - accuracy: 0.9914 - loss: 2.1447 - val_accuracy: 1.0000 - val_loss: 0.4905\n",
      "Epoch 48/50\n",
      "37/37 - 0s - 7ms/step - accuracy: 0.9914 - loss: 2.2039 - val_accuracy: 1.0000 - val_loss: 0.4942\n",
      "Epoch 49/50\n",
      "37/37 - 0s - 7ms/step - accuracy: 0.9914 - loss: 2.1867 - val_accuracy: 1.0000 - val_loss: 0.4982\n",
      "Epoch 50/50\n",
      "37/37 - 0s - 7ms/step - accuracy: 0.9914 - loss: 1.9030 - val_accuracy: 1.0000 - val_loss: 0.5006\n"
     ]
    }
   ],
   "source": [
    "history = model.fit(\n",
    "    X_train,\n",
    "    y_train,\n",
    "    validation_split=0.2,\n",
    "    epochs=50,\n",
    "    batch_size=32,\n",
    "    verbose=2,\n",
    "    class_weight=class_weight\n",
    ")"
   ]
  },
  {
   "cell_type": "code",
   "execution_count": 303,
   "id": "c7d2ffa9-46d6-424c-94bd-5495894fa115",
   "metadata": {},
   "outputs": [
    {
     "data": {
      "text/html": [
       "<pre style=\"white-space:pre;overflow-x:auto;line-height:normal;font-family:Menlo,'DejaVu Sans Mono',consolas,'Courier New',monospace\"><span style=\"font-weight: bold\">Model: \"sequential\"</span>\n",
       "</pre>\n"
      ],
      "text/plain": [
       "\u001b[1mModel: \"sequential\"\u001b[0m\n"
      ]
     },
     "metadata": {},
     "output_type": "display_data"
    },
    {
     "data": {
      "text/html": [
       "<pre style=\"white-space:pre;overflow-x:auto;line-height:normal;font-family:Menlo,'DejaVu Sans Mono',consolas,'Courier New',monospace\">┏━━━━━━━━━━━━━━━━━━━━━━━━━━━━━━━━━━━━━━┳━━━━━━━━━━━━━━━━━━━━━━━━━━━━━┳━━━━━━━━━━━━━━━━━┓\n",
       "┃<span style=\"font-weight: bold\"> Layer (type)                         </span>┃<span style=\"font-weight: bold\"> Output Shape                </span>┃<span style=\"font-weight: bold\">         Param # </span>┃\n",
       "┡━━━━━━━━━━━━━━━━━━━━━━━━━━━━━━━━━━━━━━╇━━━━━━━━━━━━━━━━━━━━━━━━━━━━━╇━━━━━━━━━━━━━━━━━┩\n",
       "│ dense (<span style=\"color: #0087ff; text-decoration-color: #0087ff\">Dense</span>)                        │ (<span style=\"color: #00d7ff; text-decoration-color: #00d7ff\">None</span>, <span style=\"color: #00af00; text-decoration-color: #00af00\">4</span>)                   │              <span style=\"color: #00af00; text-decoration-color: #00af00\">20</span> │\n",
       "├──────────────────────────────────────┼─────────────────────────────┼─────────────────┤\n",
       "│ dropout (<span style=\"color: #0087ff; text-decoration-color: #0087ff\">Dropout</span>)                    │ (<span style=\"color: #00d7ff; text-decoration-color: #00d7ff\">None</span>, <span style=\"color: #00af00; text-decoration-color: #00af00\">4</span>)                   │               <span style=\"color: #00af00; text-decoration-color: #00af00\">0</span> │\n",
       "├──────────────────────────────────────┼─────────────────────────────┼─────────────────┤\n",
       "│ dense_1 (<span style=\"color: #0087ff; text-decoration-color: #0087ff\">Dense</span>)                      │ (<span style=\"color: #00d7ff; text-decoration-color: #00d7ff\">None</span>, <span style=\"color: #00af00; text-decoration-color: #00af00\">4</span>)                   │              <span style=\"color: #00af00; text-decoration-color: #00af00\">20</span> │\n",
       "├──────────────────────────────────────┼─────────────────────────────┼─────────────────┤\n",
       "│ dropout_1 (<span style=\"color: #0087ff; text-decoration-color: #0087ff\">Dropout</span>)                  │ (<span style=\"color: #00d7ff; text-decoration-color: #00d7ff\">None</span>, <span style=\"color: #00af00; text-decoration-color: #00af00\">4</span>)                   │               <span style=\"color: #00af00; text-decoration-color: #00af00\">0</span> │\n",
       "├──────────────────────────────────────┼─────────────────────────────┼─────────────────┤\n",
       "│ dense_2 (<span style=\"color: #0087ff; text-decoration-color: #0087ff\">Dense</span>)                      │ (<span style=\"color: #00d7ff; text-decoration-color: #00d7ff\">None</span>, <span style=\"color: #00af00; text-decoration-color: #00af00\">1</span>)                   │               <span style=\"color: #00af00; text-decoration-color: #00af00\">5</span> │\n",
       "└──────────────────────────────────────┴─────────────────────────────┴─────────────────┘\n",
       "</pre>\n"
      ],
      "text/plain": [
       "┏━━━━━━━━━━━━━━━━━━━━━━━━━━━━━━━━━━━━━━┳━━━━━━━━━━━━━━━━━━━━━━━━━━━━━┳━━━━━━━━━━━━━━━━━┓\n",
       "┃\u001b[1m \u001b[0m\u001b[1mLayer (type)                        \u001b[0m\u001b[1m \u001b[0m┃\u001b[1m \u001b[0m\u001b[1mOutput Shape               \u001b[0m\u001b[1m \u001b[0m┃\u001b[1m \u001b[0m\u001b[1m        Param #\u001b[0m\u001b[1m \u001b[0m┃\n",
       "┡━━━━━━━━━━━━━━━━━━━━━━━━━━━━━━━━━━━━━━╇━━━━━━━━━━━━━━━━━━━━━━━━━━━━━╇━━━━━━━━━━━━━━━━━┩\n",
       "│ dense (\u001b[38;5;33mDense\u001b[0m)                        │ (\u001b[38;5;45mNone\u001b[0m, \u001b[38;5;34m4\u001b[0m)                   │              \u001b[38;5;34m20\u001b[0m │\n",
       "├──────────────────────────────────────┼─────────────────────────────┼─────────────────┤\n",
       "│ dropout (\u001b[38;5;33mDropout\u001b[0m)                    │ (\u001b[38;5;45mNone\u001b[0m, \u001b[38;5;34m4\u001b[0m)                   │               \u001b[38;5;34m0\u001b[0m │\n",
       "├──────────────────────────────────────┼─────────────────────────────┼─────────────────┤\n",
       "│ dense_1 (\u001b[38;5;33mDense\u001b[0m)                      │ (\u001b[38;5;45mNone\u001b[0m, \u001b[38;5;34m4\u001b[0m)                   │              \u001b[38;5;34m20\u001b[0m │\n",
       "├──────────────────────────────────────┼─────────────────────────────┼─────────────────┤\n",
       "│ dropout_1 (\u001b[38;5;33mDropout\u001b[0m)                  │ (\u001b[38;5;45mNone\u001b[0m, \u001b[38;5;34m4\u001b[0m)                   │               \u001b[38;5;34m0\u001b[0m │\n",
       "├──────────────────────────────────────┼─────────────────────────────┼─────────────────┤\n",
       "│ dense_2 (\u001b[38;5;33mDense\u001b[0m)                      │ (\u001b[38;5;45mNone\u001b[0m, \u001b[38;5;34m1\u001b[0m)                   │               \u001b[38;5;34m5\u001b[0m │\n",
       "└──────────────────────────────────────┴─────────────────────────────┴─────────────────┘\n"
      ]
     },
     "metadata": {},
     "output_type": "display_data"
    },
    {
     "data": {
      "text/html": [
       "<pre style=\"white-space:pre;overflow-x:auto;line-height:normal;font-family:Menlo,'DejaVu Sans Mono',consolas,'Courier New',monospace\"><span style=\"font-weight: bold\"> Total params: </span><span style=\"color: #00af00; text-decoration-color: #00af00\">137</span> (552.00 B)\n",
       "</pre>\n"
      ],
      "text/plain": [
       "\u001b[1m Total params: \u001b[0m\u001b[38;5;34m137\u001b[0m (552.00 B)\n"
      ]
     },
     "metadata": {},
     "output_type": "display_data"
    },
    {
     "data": {
      "text/html": [
       "<pre style=\"white-space:pre;overflow-x:auto;line-height:normal;font-family:Menlo,'DejaVu Sans Mono',consolas,'Courier New',monospace\"><span style=\"font-weight: bold\"> Trainable params: </span><span style=\"color: #00af00; text-decoration-color: #00af00\">45</span> (180.00 B)\n",
       "</pre>\n"
      ],
      "text/plain": [
       "\u001b[1m Trainable params: \u001b[0m\u001b[38;5;34m45\u001b[0m (180.00 B)\n"
      ]
     },
     "metadata": {},
     "output_type": "display_data"
    },
    {
     "data": {
      "text/html": [
       "<pre style=\"white-space:pre;overflow-x:auto;line-height:normal;font-family:Menlo,'DejaVu Sans Mono',consolas,'Courier New',monospace\"><span style=\"font-weight: bold\"> Non-trainable params: </span><span style=\"color: #00af00; text-decoration-color: #00af00\">0</span> (0.00 B)\n",
       "</pre>\n"
      ],
      "text/plain": [
       "\u001b[1m Non-trainable params: \u001b[0m\u001b[38;5;34m0\u001b[0m (0.00 B)\n"
      ]
     },
     "metadata": {},
     "output_type": "display_data"
    },
    {
     "data": {
      "text/html": [
       "<pre style=\"white-space:pre;overflow-x:auto;line-height:normal;font-family:Menlo,'DejaVu Sans Mono',consolas,'Courier New',monospace\"><span style=\"font-weight: bold\"> Optimizer params: </span><span style=\"color: #00af00; text-decoration-color: #00af00\">92</span> (372.00 B)\n",
       "</pre>\n"
      ],
      "text/plain": [
       "\u001b[1m Optimizer params: \u001b[0m\u001b[38;5;34m92\u001b[0m (372.00 B)\n"
      ]
     },
     "metadata": {},
     "output_type": "display_data"
    }
   ],
   "source": [
    "model.summary()"
   ]
  },
  {
   "cell_type": "code",
   "execution_count": 308,
   "id": "7b050b20-a20d-4b8b-bd1c-8f223250661b",
   "metadata": {},
   "outputs": [
    {
     "name": "stdout",
     "output_type": "stream",
     "text": [
      "\u001b[1m12/12\u001b[0m \u001b[32m━━━━━━━━━━━━━━━━━━━━\u001b[0m\u001b[37m\u001b[0m \u001b[1m0s\u001b[0m 6ms/step \n",
      "\u001b[1m12/12\u001b[0m \u001b[32m━━━━━━━━━━━━━━━━━━━━\u001b[0m\u001b[37m\u001b[0m \u001b[1m0s\u001b[0m 6ms/step - accuracy: 1.0000 - loss: 0.4740 \n",
      "Model accuracy in test:  [0.4927155077457428, 1.0]\n"
     ]
    }
   ],
   "source": [
    "y_prob = model.predict(X_test)\n",
    "y_pred = np.where(y_prob > 0.50, 1, 0)\n",
    "\n",
    "acc = model.evaluate(X_test, y_test)\n",
    "print(\"Model accuracy in test: \", acc) #outputs the loss and the accuracy"
   ]
  },
  {
   "cell_type": "markdown",
   "id": "1b056d38-c313-4270-93c8-bd762a128803",
   "metadata": {},
   "source": [
    "**Now, let us similarly try to create a predictive model for the differenced series.**"
   ]
  },
  {
   "cell_type": "code",
   "execution_count": 354,
   "id": "fd8d08ce-e4c6-43df-a70e-3af9114af749",
   "metadata": {},
   "outputs": [],
   "source": [
    "differenced_data = differenced_data.to_frame()"
   ]
  },
  {
   "cell_type": "code",
   "execution_count": 373,
   "id": "1fb1dc07-9924-409c-a399-f3beebdb9413",
   "metadata": {},
   "outputs": [
    {
     "data": {
      "text/html": [
       "<div>\n",
       "<style scoped>\n",
       "    .dataframe tbody tr th:only-of-type {\n",
       "        vertical-align: middle;\n",
       "    }\n",
       "\n",
       "    .dataframe tbody tr th {\n",
       "        vertical-align: top;\n",
       "    }\n",
       "\n",
       "    .dataframe thead th {\n",
       "        text-align: right;\n",
       "    }\n",
       "</style>\n",
       "<table border=\"1\" class=\"dataframe\">\n",
       "  <thead>\n",
       "    <tr style=\"text-align: right;\">\n",
       "      <th></th>\n",
       "      <th>Close</th>\n",
       "    </tr>\n",
       "    <tr>\n",
       "      <th>Date</th>\n",
       "      <th></th>\n",
       "    </tr>\n",
       "  </thead>\n",
       "  <tbody>\n",
       "    <tr>\n",
       "      <th>2017-02-21 00:00:00+05:30</th>\n",
       "      <td>14.865784</td>\n",
       "    </tr>\n",
       "    <tr>\n",
       "      <th>2017-02-22 00:00:00+05:30</th>\n",
       "      <td>27.183167</td>\n",
       "    </tr>\n",
       "    <tr>\n",
       "      <th>2017-02-23 00:00:00+05:30</th>\n",
       "      <td>-10.665588</td>\n",
       "    </tr>\n",
       "    <tr>\n",
       "      <th>2017-02-27 00:00:00+05:30</th>\n",
       "      <td>-6.654114</td>\n",
       "    </tr>\n",
       "    <tr>\n",
       "      <th>2017-02-28 00:00:00+05:30</th>\n",
       "      <td>21.000977</td>\n",
       "    </tr>\n",
       "  </tbody>\n",
       "</table>\n",
       "</div>"
      ],
      "text/plain": [
       "                               Close\n",
       "Date                                \n",
       "2017-02-21 00:00:00+05:30  14.865784\n",
       "2017-02-22 00:00:00+05:30  27.183167\n",
       "2017-02-23 00:00:00+05:30 -10.665588\n",
       "2017-02-27 00:00:00+05:30  -6.654114\n",
       "2017-02-28 00:00:00+05:30  21.000977"
      ]
     },
     "execution_count": 373,
     "metadata": {},
     "output_type": "execute_result"
    }
   ],
   "source": [
    "differenced_data.head()"
   ]
  },
  {
   "cell_type": "code",
   "execution_count": 385,
   "id": "10850012-e772-455d-ad14-0385299ba914",
   "metadata": {},
   "outputs": [],
   "source": [
    "differenced_data[\"1d_returns\"] = differenced_data[\"Close\"].pct_change()\n",
    "differenced_data[\"10d_returns\"] = differenced_data[\"1d_returns\"].rolling(10).apply(lambda x: (1 + x).prod())\n",
    "differenced_data[\"60d_returns\"] = differenced_data[\"1d_returns\"].rolling(60).apply(lambda x: (1 + x).prod())\n",
    "differenced_data[\"150d_returns\"] = differenced_data[\"1d_returns\"].rolling(150).apply(lambda x: (1 + x).prod())"
   ]
  },
  {
   "cell_type": "code",
   "execution_count": 393,
   "id": "240e0e77-4e90-42cb-ab6b-a55986ec5acd",
   "metadata": {},
   "outputs": [],
   "source": [
    "differenced_data[\"next_10d_returns\"] = (differenced_data[\"10d_returns\"].shift(10)>0).astype(int)  #this is our target column. "
   ]
  },
  {
   "cell_type": "code",
   "execution_count": 395,
   "id": "12f02880-b222-4992-94d5-0c2fc0f4c0ad",
   "metadata": {},
   "outputs": [
    {
     "data": {
      "text/html": [
       "<div>\n",
       "<style scoped>\n",
       "    .dataframe tbody tr th:only-of-type {\n",
       "        vertical-align: middle;\n",
       "    }\n",
       "\n",
       "    .dataframe tbody tr th {\n",
       "        vertical-align: top;\n",
       "    }\n",
       "\n",
       "    .dataframe thead th {\n",
       "        text-align: right;\n",
       "    }\n",
       "</style>\n",
       "<table border=\"1\" class=\"dataframe\">\n",
       "  <thead>\n",
       "    <tr style=\"text-align: right;\">\n",
       "      <th></th>\n",
       "      <th>Close</th>\n",
       "      <th>10d_returns</th>\n",
       "      <th>60d_returns</th>\n",
       "      <th>150d_returns</th>\n",
       "      <th>1d_returns</th>\n",
       "      <th>next_10d_returns</th>\n",
       "    </tr>\n",
       "    <tr>\n",
       "      <th>Date</th>\n",
       "      <th></th>\n",
       "      <th></th>\n",
       "      <th></th>\n",
       "      <th></th>\n",
       "      <th></th>\n",
       "      <th></th>\n",
       "    </tr>\n",
       "  </thead>\n",
       "  <tbody>\n",
       "    <tr>\n",
       "      <th>2025-02-14 00:00:00+05:30</th>\n",
       "      <td>-5.099854</td>\n",
       "      <td>-0.100095</td>\n",
       "      <td>0.091806</td>\n",
       "      <td>-0.199555</td>\n",
       "      <td>-1.625756</td>\n",
       "      <td>1</td>\n",
       "    </tr>\n",
       "    <tr>\n",
       "      <th>2025-02-17 00:00:00+05:30</th>\n",
       "      <td>19.550049</td>\n",
       "      <td>-2.286542</td>\n",
       "      <td>0.443814</td>\n",
       "      <td>-0.855176</td>\n",
       "      <td>-4.833453</td>\n",
       "      <td>0</td>\n",
       "    </tr>\n",
       "    <tr>\n",
       "      <th>2025-02-18 00:00:00+05:30</th>\n",
       "      <td>-13.250000</td>\n",
       "      <td>-0.213365</td>\n",
       "      <td>1.060000</td>\n",
       "      <td>0.311202</td>\n",
       "      <td>-1.677748</td>\n",
       "      <td>0</td>\n",
       "    </tr>\n",
       "    <tr>\n",
       "      <th>2025-02-19 00:00:00+05:30</th>\n",
       "      <td>1.500000</td>\n",
       "      <td>-0.018951</td>\n",
       "      <td>0.033113</td>\n",
       "      <td>0.083709</td>\n",
       "      <td>-1.113208</td>\n",
       "      <td>0</td>\n",
       "    </tr>\n",
       "    <tr>\n",
       "      <th>2025-02-20 00:00:00+05:30</th>\n",
       "      <td>-4.200195</td>\n",
       "      <td>0.355947</td>\n",
       "      <td>0.320623</td>\n",
       "      <td>0.098074</td>\n",
       "      <td>-3.800130</td>\n",
       "      <td>0</td>\n",
       "    </tr>\n",
       "  </tbody>\n",
       "</table>\n",
       "</div>"
      ],
      "text/plain": [
       "                               Close  10d_returns  60d_returns  150d_returns  \\\n",
       "Date                                                                           \n",
       "2025-02-14 00:00:00+05:30  -5.099854    -0.100095     0.091806     -0.199555   \n",
       "2025-02-17 00:00:00+05:30  19.550049    -2.286542     0.443814     -0.855176   \n",
       "2025-02-18 00:00:00+05:30 -13.250000    -0.213365     1.060000      0.311202   \n",
       "2025-02-19 00:00:00+05:30   1.500000    -0.018951     0.033113      0.083709   \n",
       "2025-02-20 00:00:00+05:30  -4.200195     0.355947     0.320623      0.098074   \n",
       "\n",
       "                           1d_returns  next_10d_returns  \n",
       "Date                                                     \n",
       "2025-02-14 00:00:00+05:30   -1.625756                 1  \n",
       "2025-02-17 00:00:00+05:30   -4.833453                 0  \n",
       "2025-02-18 00:00:00+05:30   -1.677748                 0  \n",
       "2025-02-19 00:00:00+05:30   -1.113208                 0  \n",
       "2025-02-20 00:00:00+05:30   -3.800130                 0  "
      ]
     },
     "execution_count": 395,
     "metadata": {},
     "output_type": "execute_result"
    }
   ],
   "source": [
    "differenced_data.tail()"
   ]
  },
  {
   "cell_type": "code",
   "execution_count": 399,
   "id": "6e55efde-a2a2-4c6d-a89d-587c890986f8",
   "metadata": {},
   "outputs": [],
   "source": [
    "differenced_data.dropna(inplace=True)"
   ]
  },
  {
   "cell_type": "code",
   "execution_count": 401,
   "id": "249586d1-ace8-4122-af14-e30bf27128a4",
   "metadata": {},
   "outputs": [],
   "source": [
    "X = differenced_data[['1d_returns', '10d_returns', '60d_returns', '150d_returns']]\n",
    "y = differenced_data['next_10d_returns']"
   ]
  },
  {
   "cell_type": "code",
   "execution_count": 403,
   "id": "5eb7a063-fc90-4b78-b1fb-207f7edc548f",
   "metadata": {},
   "outputs": [],
   "source": [
    "X_train, X_test, y_train, y_test = train_test_split(X, y, test_size=0.2, shuffle=False) #train-test split"
   ]
  },
  {
   "cell_type": "code",
   "execution_count": 405,
   "id": "de9b2ea6-1487-4227-9617-0b1d9b727213",
   "metadata": {},
   "outputs": [],
   "source": [
    "model = tf.keras.models.Sequential()\n",
    "model.add(tf.keras.layers.Dense(units=hp_units_1, activation=act_fun))\n",
    "model.add(tf.keras.layers.Dropout(n_dropout))\n",
    "model.add(tf.keras.layers.Dense(units=hp_units_2, activation=act_fun))\n",
    "model.add(tf.keras.layers.Dropout(n_dropout))\n",
    "model.add(tf.keras.layers.Dense(units=1, activation=\"sigmoid\")) #activation function"
   ]
  },
  {
   "cell_type": "code",
   "execution_count": 407,
   "id": "b3ada5c0-117f-427c-8cc9-bdff8513aec6",
   "metadata": {},
   "outputs": [],
   "source": [
    "hp_lr = 1e-4  # Learning rate\n",
    "adam = tf.keras.optimizers.Adam(learning_rate=hp_lr)  # Adam optimizer\n",
    "model.compile(optimizer=adam, loss=\"binary_crossentropy\", metrics=[\"accuracy\"])"
   ]
  },
  {
   "cell_type": "code",
   "execution_count": 409,
   "id": "87d3d26d-79f5-44a4-86ea-0ed9c94b76bf",
   "metadata": {},
   "outputs": [
    {
     "data": {
      "text/plain": [
       "next_10d_returns\n",
       "0    583\n",
       "1    579\n",
       "Name: count, dtype: int64"
      ]
     },
     "execution_count": 409,
     "metadata": {},
     "output_type": "execute_result"
    }
   ],
   "source": [
    "y.value_counts()"
   ]
  },
  {
   "cell_type": "markdown",
   "id": "0c339a3d-d095-4c53-9a86-b912f930286d",
   "metadata": {},
   "source": [
    "the output class seems pretty balanced."
   ]
  },
  {
   "cell_type": "code",
   "execution_count": 412,
   "id": "6d3545a5-7346-46aa-9582-cb0fd87d84cc",
   "metadata": {},
   "outputs": [
    {
     "name": "stdout",
     "output_type": "stream",
     "text": [
      "Epoch 1/50\n",
      "24/24 - 3s - 129ms/step - accuracy: 0.4832 - loss: 3.1934 - val_accuracy: 0.4839 - val_loss: 1.7293\n",
      "Epoch 2/50\n",
      "24/24 - 0s - 10ms/step - accuracy: 0.4738 - loss: 3.4926 - val_accuracy: 0.4785 - val_loss: 1.7195\n",
      "Epoch 3/50\n",
      "24/24 - 0s - 9ms/step - accuracy: 0.4872 - loss: 3.2055 - val_accuracy: 0.4785 - val_loss: 1.7107\n",
      "Epoch 4/50\n",
      "24/24 - 0s - 9ms/step - accuracy: 0.4953 - loss: 2.9968 - val_accuracy: 0.4785 - val_loss: 1.7024\n",
      "Epoch 5/50\n",
      "24/24 - 0s - 8ms/step - accuracy: 0.5074 - loss: 3.2009 - val_accuracy: 0.4785 - val_loss: 1.6939\n",
      "Epoch 6/50\n",
      "24/24 - 0s - 8ms/step - accuracy: 0.4980 - loss: 3.1192 - val_accuracy: 0.4785 - val_loss: 1.6855\n",
      "Epoch 7/50\n",
      "24/24 - 0s - 9ms/step - accuracy: 0.4953 - loss: 2.9599 - val_accuracy: 0.4785 - val_loss: 1.6786\n",
      "Epoch 8/50\n",
      "24/24 - 0s - 9ms/step - accuracy: 0.4845 - loss: 3.2186 - val_accuracy: 0.4839 - val_loss: 1.6698\n",
      "Epoch 9/50\n",
      "24/24 - 0s - 9ms/step - accuracy: 0.4913 - loss: 2.8266 - val_accuracy: 0.4677 - val_loss: 1.6621\n",
      "Epoch 10/50\n",
      "24/24 - 0s - 9ms/step - accuracy: 0.4805 - loss: 2.9666 - val_accuracy: 0.4677 - val_loss: 1.6536\n",
      "Epoch 11/50\n",
      "24/24 - 0s - 9ms/step - accuracy: 0.4845 - loss: 2.5903 - val_accuracy: 0.4677 - val_loss: 1.6474\n",
      "Epoch 12/50\n",
      "24/24 - 0s - 9ms/step - accuracy: 0.5155 - loss: 3.0547 - val_accuracy: 0.4677 - val_loss: 1.6394\n",
      "Epoch 13/50\n",
      "24/24 - 0s - 8ms/step - accuracy: 0.4832 - loss: 2.7748 - val_accuracy: 0.4624 - val_loss: 1.6324\n",
      "Epoch 14/50\n",
      "24/24 - 0s - 8ms/step - accuracy: 0.4711 - loss: 2.3747 - val_accuracy: 0.4677 - val_loss: 1.6254\n",
      "Epoch 15/50\n",
      "24/24 - 0s - 8ms/step - accuracy: 0.4791 - loss: 3.4001 - val_accuracy: 0.4677 - val_loss: 1.6169\n",
      "Epoch 16/50\n",
      "24/24 - 0s - 8ms/step - accuracy: 0.4926 - loss: 2.6569 - val_accuracy: 0.4677 - val_loss: 1.6095\n",
      "Epoch 17/50\n",
      "24/24 - 0s - 9ms/step - accuracy: 0.4926 - loss: 2.9961 - val_accuracy: 0.4677 - val_loss: 1.6020\n",
      "Epoch 18/50\n",
      "24/24 - 0s - 8ms/step - accuracy: 0.4859 - loss: 3.0759 - val_accuracy: 0.4731 - val_loss: 1.5931\n",
      "Epoch 19/50\n",
      "24/24 - 0s - 8ms/step - accuracy: 0.4886 - loss: 3.0351 - val_accuracy: 0.4839 - val_loss: 1.5849\n",
      "Epoch 20/50\n",
      "24/24 - 0s - 9ms/step - accuracy: 0.5087 - loss: 3.0685 - val_accuracy: 0.4839 - val_loss: 1.5766\n",
      "Epoch 21/50\n",
      "24/24 - 0s - 8ms/step - accuracy: 0.4818 - loss: 3.0640 - val_accuracy: 0.4839 - val_loss: 1.5691\n",
      "Epoch 22/50\n",
      "24/24 - 0s - 8ms/step - accuracy: 0.4926 - loss: 2.9270 - val_accuracy: 0.4839 - val_loss: 1.5626\n",
      "Epoch 23/50\n",
      "24/24 - 0s - 10ms/step - accuracy: 0.4859 - loss: 2.8129 - val_accuracy: 0.4892 - val_loss: 1.5561\n",
      "Epoch 24/50\n",
      "24/24 - 0s - 9ms/step - accuracy: 0.5209 - loss: 2.5360 - val_accuracy: 0.4839 - val_loss: 1.5490\n",
      "Epoch 25/50\n",
      "24/24 - 0s - 14ms/step - accuracy: 0.4980 - loss: 2.8345 - val_accuracy: 0.4839 - val_loss: 1.5419\n",
      "Epoch 26/50\n",
      "24/24 - 0s - 12ms/step - accuracy: 0.4899 - loss: 2.4905 - val_accuracy: 0.4892 - val_loss: 1.5355\n",
      "Epoch 27/50\n",
      "24/24 - 0s - 9ms/step - accuracy: 0.4899 - loss: 2.3622 - val_accuracy: 0.4839 - val_loss: 1.5292\n",
      "Epoch 28/50\n",
      "24/24 - 0s - 8ms/step - accuracy: 0.4872 - loss: 2.9424 - val_accuracy: 0.4839 - val_loss: 1.5219\n",
      "Epoch 29/50\n",
      "24/24 - 0s - 8ms/step - accuracy: 0.5034 - loss: 3.1070 - val_accuracy: 0.4839 - val_loss: 1.5139\n",
      "Epoch 30/50\n",
      "24/24 - 0s - 9ms/step - accuracy: 0.4764 - loss: 2.6440 - val_accuracy: 0.4839 - val_loss: 1.5059\n",
      "Epoch 31/50\n",
      "24/24 - 0s - 9ms/step - accuracy: 0.4832 - loss: 2.4041 - val_accuracy: 0.4785 - val_loss: 1.4994\n",
      "Epoch 32/50\n",
      "24/24 - 0s - 8ms/step - accuracy: 0.4953 - loss: 2.7879 - val_accuracy: 0.4839 - val_loss: 1.4922\n",
      "Epoch 33/50\n",
      "24/24 - 0s - 8ms/step - accuracy: 0.4939 - loss: 2.5745 - val_accuracy: 0.4839 - val_loss: 1.4861\n",
      "Epoch 34/50\n",
      "24/24 - 0s - 8ms/step - accuracy: 0.4684 - loss: 2.7081 - val_accuracy: 0.4839 - val_loss: 1.4788\n",
      "Epoch 35/50\n",
      "24/24 - 0s - 8ms/step - accuracy: 0.4993 - loss: 2.3285 - val_accuracy: 0.4892 - val_loss: 1.4726\n",
      "Epoch 36/50\n",
      "24/24 - 0s - 14ms/step - accuracy: 0.5034 - loss: 2.6791 - val_accuracy: 0.4892 - val_loss: 1.4663\n",
      "Epoch 37/50\n",
      "24/24 - 0s - 8ms/step - accuracy: 0.5047 - loss: 2.7420 - val_accuracy: 0.4892 - val_loss: 1.4596\n",
      "Epoch 38/50\n",
      "24/24 - 0s - 8ms/step - accuracy: 0.4899 - loss: 2.5031 - val_accuracy: 0.4892 - val_loss: 1.4531\n",
      "Epoch 39/50\n",
      "24/24 - 0s - 8ms/step - accuracy: 0.4939 - loss: 2.8003 - val_accuracy: 0.4892 - val_loss: 1.4465\n",
      "Epoch 40/50\n",
      "24/24 - 0s - 8ms/step - accuracy: 0.4791 - loss: 2.6946 - val_accuracy: 0.4839 - val_loss: 1.4394\n",
      "Epoch 41/50\n",
      "24/24 - 0s - 8ms/step - accuracy: 0.5061 - loss: 2.0223 - val_accuracy: 0.4892 - val_loss: 1.4335\n",
      "Epoch 42/50\n",
      "24/24 - 0s - 8ms/step - accuracy: 0.4966 - loss: 2.6586 - val_accuracy: 0.4839 - val_loss: 1.4288\n",
      "Epoch 43/50\n",
      "24/24 - 0s - 8ms/step - accuracy: 0.4872 - loss: 3.0124 - val_accuracy: 0.4839 - val_loss: 1.4216\n",
      "Epoch 44/50\n",
      "24/24 - 0s - 8ms/step - accuracy: 0.4980 - loss: 2.4936 - val_accuracy: 0.4839 - val_loss: 1.4153\n",
      "Epoch 45/50\n",
      "24/24 - 0s - 8ms/step - accuracy: 0.4899 - loss: 2.5968 - val_accuracy: 0.4839 - val_loss: 1.4094\n",
      "Epoch 46/50\n",
      "24/24 - 0s - 9ms/step - accuracy: 0.4899 - loss: 2.7989 - val_accuracy: 0.4839 - val_loss: 1.4034\n",
      "Epoch 47/50\n",
      "24/24 - 0s - 8ms/step - accuracy: 0.5061 - loss: 2.5068 - val_accuracy: 0.4839 - val_loss: 1.3971\n",
      "Epoch 48/50\n",
      "24/24 - 0s - 8ms/step - accuracy: 0.4953 - loss: 2.1667 - val_accuracy: 0.4892 - val_loss: 1.3913\n",
      "Epoch 49/50\n",
      "24/24 - 0s - 9ms/step - accuracy: 0.4859 - loss: 2.3648 - val_accuracy: 0.4892 - val_loss: 1.3858\n",
      "Epoch 50/50\n",
      "24/24 - 0s - 10ms/step - accuracy: 0.4980 - loss: 2.5167 - val_accuracy: 0.4892 - val_loss: 1.3798\n"
     ]
    }
   ],
   "source": [
    "history = model.fit(\n",
    "    X_train,\n",
    "    y_train,\n",
    "    validation_split=0.2,\n",
    "    epochs=50,\n",
    "    batch_size=32,\n",
    "    verbose=2,\n",
    ")"
   ]
  },
  {
   "cell_type": "code",
   "execution_count": 414,
   "id": "0cabb16c-aeba-4aad-849f-51033da354fd",
   "metadata": {},
   "outputs": [
    {
     "name": "stdout",
     "output_type": "stream",
     "text": [
      "\u001b[1m8/8\u001b[0m \u001b[32m━━━━━━━━━━━━━━━━━━━━\u001b[0m\u001b[37m\u001b[0m \u001b[1m0s\u001b[0m 22ms/step\n",
      "\u001b[1m8/8\u001b[0m \u001b[32m━━━━━━━━━━━━━━━━━━━━\u001b[0m\u001b[37m\u001b[0m \u001b[1m0s\u001b[0m 30ms/step - accuracy: 0.4443 - loss: 1.8630\n",
      "Model accuracy in test:  [1.7708860635757446, 0.4763948619365692]\n"
     ]
    }
   ],
   "source": [
    "y_prob = model.predict(X_test)\n",
    "y_pred = np.where(y_prob > 0.50, 1, 0)\n",
    "\n",
    "acc = model.evaluate(X_test, y_test)\n",
    "print(\"Model accuracy in test: \", acc) #outputs the loss and the accuracy"
   ]
  },
  {
   "cell_type": "markdown",
   "id": "5b0bc11f-01e6-4a58-a936-49475e5e14aa",
   "metadata": {},
   "source": [
    "**Now, let us similarly try to create a predictive model for the fractionally differenced series.**"
   ]
  },
  {
   "cell_type": "code",
   "execution_count": 317,
   "id": "e79286e5-f183-458b-ae62-0dfaf1244078",
   "metadata": {},
   "outputs": [],
   "source": [
    "frac_diff_series = frac_diff_series.to_frame()"
   ]
  },
  {
   "cell_type": "code",
   "execution_count": 319,
   "id": "16827360-eb30-4fce-a668-3c1c66a5f535",
   "metadata": {},
   "outputs": [],
   "source": [
    "frac_diff_series[\"1d_returns\"] = frac_diff_series.pct_change()"
   ]
  },
  {
   "cell_type": "code",
   "execution_count": 321,
   "id": "ab51dd65-7aef-4a13-abf1-3994abdca378",
   "metadata": {},
   "outputs": [],
   "source": [
    "frac_diff_series[\"10d_returns\"] = frac_diff_series[\"1d_returns\"].rolling(10).apply(lambda x: (1+ x).prod())\n",
    "frac_diff_series[\"60d_returns\"] = frac_diff_series[\"1d_returns\"].rolling(60).apply(lambda x: (1+ x).prod())\n",
    "frac_diff_series[\"150d_returns\"] = frac_diff_series[\"1d_returns\"].rolling(150).apply(lambda x: (1+ x).prod())"
   ]
  },
  {
   "cell_type": "code",
   "execution_count": 325,
   "id": "5b639a67-8f7f-4bc1-9b05-41b71e2d2fb5",
   "metadata": {},
   "outputs": [],
   "source": [
    "frac_diff_series.dropna(inplace=True)"
   ]
  },
  {
   "cell_type": "code",
   "execution_count": 327,
   "id": "538c055c-eb7d-47b3-9ae4-ad0981aa2dd8",
   "metadata": {},
   "outputs": [],
   "source": [
    "frac_diff_series[\"next_10d_returns\"] = (frac_diff_series[\"10d_returns\"].shift(10)>0).astype(int) #this is our target column. \n",
    "frac_diff_series.dropna(inplace=True)"
   ]
  },
  {
   "cell_type": "code",
   "execution_count": 329,
   "id": "d73e5ba3-60c3-4b65-ae3a-fd9ff90a02bd",
   "metadata": {},
   "outputs": [],
   "source": [
    "X = frac_diff_series[['1d_returns', '10d_returns', '60d_returns', '150d_returns']]\n",
    "y = frac_diff_series['next_10d_returns']"
   ]
  },
  {
   "cell_type": "code",
   "execution_count": 331,
   "id": "ebae5a38-3f26-4666-a1ba-d1095a3be227",
   "metadata": {},
   "outputs": [],
   "source": [
    "X_train, X_test, y_train, y_test = train_test_split(X, y, test_size=0.2, shuffle=False) #train-test split"
   ]
  },
  {
   "cell_type": "code",
   "execution_count": 333,
   "id": "ffbfabc3-979d-439f-b967-bce428d761d7",
   "metadata": {},
   "outputs": [],
   "source": [
    "model = tf.keras.models.Sequential()\n",
    "model.add(tf.keras.layers.Dense(units=hp_units_1, activation=act_fun))\n",
    "model.add(tf.keras.layers.Dropout(n_dropout))\n",
    "model.add(tf.keras.layers.Dense(units=hp_units_2, activation=act_fun))\n",
    "model.add(tf.keras.layers.Dropout(n_dropout))\n",
    "model.add(tf.keras.layers.Dense(units=1, activation=\"sigmoid\")) #activation function"
   ]
  },
  {
   "cell_type": "code",
   "execution_count": 335,
   "id": "7442fea7-d0e6-461b-836a-5335c69d1d5a",
   "metadata": {},
   "outputs": [],
   "source": [
    "hp_lr = 1e-4  # Learning rate\n",
    "adam = tf.keras.optimizers.Adam(learning_rate=hp_lr)  # Adam optimizer\n",
    "model.compile(optimizer=adam, loss=\"binary_crossentropy\", metrics=[\"accuracy\"])"
   ]
  },
  {
   "cell_type": "code",
   "execution_count": 337,
   "id": "60ae60da-4b9f-4ec1-b314-6d478bc21f84",
   "metadata": {},
   "outputs": [
    {
     "data": {
      "text/plain": [
       "next_10d_returns\n",
       "1    1788\n",
       "0      30\n",
       "Name: count, dtype: int64"
      ]
     },
     "execution_count": 337,
     "metadata": {},
     "output_type": "execute_result"
    }
   ],
   "source": [
    "y.value_counts()"
   ]
  },
  {
   "cell_type": "code",
   "execution_count": 341,
   "id": "49b3290c-c111-487c-b49e-5923ff2afc4f",
   "metadata": {},
   "outputs": [],
   "source": [
    "class_weight = {0: 60, 1: 1} #balancing the classes"
   ]
  },
  {
   "cell_type": "code",
   "execution_count": 343,
   "id": "58f88ed2-1ca5-457a-804a-172b19cdfbac",
   "metadata": {},
   "outputs": [
    {
     "name": "stdout",
     "output_type": "stream",
     "text": [
      "Epoch 1/50\n",
      "37/37 - 3s - 72ms/step - accuracy: 0.7309 - loss: 5.0496 - val_accuracy: 0.9588 - val_loss: 0.5061\n",
      "Epoch 2/50\n",
      "37/37 - 0s - 7ms/step - accuracy: 0.7584 - loss: 2.8199 - val_accuracy: 0.9553 - val_loss: 0.5081\n",
      "Epoch 3/50\n",
      "37/37 - 0s - 7ms/step - accuracy: 0.7360 - loss: 4.4544 - val_accuracy: 0.9553 - val_loss: 0.5108\n",
      "Epoch 4/50\n",
      "37/37 - 0s - 7ms/step - accuracy: 0.7231 - loss: 4.9405 - val_accuracy: 0.9519 - val_loss: 0.5132\n",
      "Epoch 5/50\n",
      "37/37 - 0s - 6ms/step - accuracy: 0.7334 - loss: 4.2993 - val_accuracy: 0.9485 - val_loss: 0.5156\n",
      "Epoch 6/50\n",
      "37/37 - 0s - 7ms/step - accuracy: 0.7317 - loss: 3.3569 - val_accuracy: 0.9450 - val_loss: 0.5178\n",
      "Epoch 7/50\n",
      "37/37 - 0s - 7ms/step - accuracy: 0.7334 - loss: 2.3274 - val_accuracy: 0.9450 - val_loss: 0.5196\n",
      "Epoch 8/50\n",
      "37/37 - 0s - 6ms/step - accuracy: 0.7283 - loss: 3.5670 - val_accuracy: 0.9416 - val_loss: 0.5217\n",
      "Epoch 9/50\n",
      "37/37 - 0s - 7ms/step - accuracy: 0.7077 - loss: 2.9924 - val_accuracy: 0.9416 - val_loss: 0.5238\n",
      "Epoch 10/50\n",
      "37/37 - 0s - 6ms/step - accuracy: 0.7197 - loss: 4.1382 - val_accuracy: 0.9416 - val_loss: 0.5250\n",
      "Epoch 11/50\n",
      "37/37 - 0s - 7ms/step - accuracy: 0.7102 - loss: 4.4803 - val_accuracy: 0.9381 - val_loss: 0.5274\n",
      "Epoch 12/50\n",
      "37/37 - 0s - 6ms/step - accuracy: 0.7008 - loss: 4.8733 - val_accuracy: 0.9347 - val_loss: 0.5299\n",
      "Epoch 13/50\n",
      "37/37 - 0s - 7ms/step - accuracy: 0.6922 - loss: 2.9451 - val_accuracy: 0.9278 - val_loss: 0.5315\n",
      "Epoch 14/50\n",
      "37/37 - 0s - 7ms/step - accuracy: 0.7386 - loss: 4.1636 - val_accuracy: 0.9278 - val_loss: 0.5331\n",
      "Epoch 15/50\n",
      "37/37 - 0s - 6ms/step - accuracy: 0.6896 - loss: 4.3699 - val_accuracy: 0.9244 - val_loss: 0.5350\n",
      "Epoch 16/50\n",
      "37/37 - 0s - 7ms/step - accuracy: 0.6724 - loss: 4.0761 - val_accuracy: 0.9244 - val_loss: 0.5365\n",
      "Epoch 17/50\n",
      "37/37 - 0s - 7ms/step - accuracy: 0.6784 - loss: 4.4368 - val_accuracy: 0.9244 - val_loss: 0.5383\n",
      "Epoch 18/50\n",
      "37/37 - 0s - 7ms/step - accuracy: 0.6664 - loss: 4.1962 - val_accuracy: 0.9244 - val_loss: 0.5402\n",
      "Epoch 19/50\n",
      "37/37 - 0s - 6ms/step - accuracy: 0.6767 - loss: 4.4965 - val_accuracy: 0.9210 - val_loss: 0.5422\n",
      "Epoch 20/50\n",
      "37/37 - 0s - 6ms/step - accuracy: 0.6733 - loss: 4.3620 - val_accuracy: 0.9107 - val_loss: 0.5445\n",
      "Epoch 21/50\n",
      "37/37 - 0s - 6ms/step - accuracy: 0.6707 - loss: 4.2461 - val_accuracy: 0.9038 - val_loss: 0.5463\n",
      "Epoch 22/50\n",
      "37/37 - 0s - 7ms/step - accuracy: 0.6638 - loss: 4.7515 - val_accuracy: 0.9038 - val_loss: 0.5485\n",
      "Epoch 23/50\n",
      "37/37 - 0s - 6ms/step - accuracy: 0.6492 - loss: 3.8774 - val_accuracy: 0.8969 - val_loss: 0.5507\n",
      "Epoch 24/50\n",
      "37/37 - 0s - 6ms/step - accuracy: 0.6526 - loss: 4.2005 - val_accuracy: 0.8900 - val_loss: 0.5531\n",
      "Epoch 25/50\n",
      "37/37 - 0s - 6ms/step - accuracy: 0.6569 - loss: 4.5112 - val_accuracy: 0.8866 - val_loss: 0.5548\n",
      "Epoch 26/50\n",
      "37/37 - 0s - 7ms/step - accuracy: 0.6500 - loss: 2.3521 - val_accuracy: 0.8797 - val_loss: 0.5561\n",
      "Epoch 27/50\n",
      "37/37 - 0s - 8ms/step - accuracy: 0.6518 - loss: 4.2999 - val_accuracy: 0.8797 - val_loss: 0.5581\n",
      "Epoch 28/50\n",
      "37/37 - 0s - 6ms/step - accuracy: 0.6414 - loss: 4.4491 - val_accuracy: 0.8797 - val_loss: 0.5599\n",
      "Epoch 29/50\n",
      "37/37 - 0s - 6ms/step - accuracy: 0.6225 - loss: 2.6238 - val_accuracy: 0.8729 - val_loss: 0.5619\n",
      "Epoch 30/50\n",
      "37/37 - 0s - 6ms/step - accuracy: 0.6303 - loss: 4.2489 - val_accuracy: 0.8694 - val_loss: 0.5637\n",
      "Epoch 31/50\n",
      "37/37 - 0s - 7ms/step - accuracy: 0.6414 - loss: 4.4140 - val_accuracy: 0.8625 - val_loss: 0.5656\n",
      "Epoch 32/50\n",
      "37/37 - 0s - 7ms/step - accuracy: 0.6354 - loss: 4.0686 - val_accuracy: 0.8557 - val_loss: 0.5674\n",
      "Epoch 33/50\n",
      "37/37 - 0s - 7ms/step - accuracy: 0.6234 - loss: 3.7639 - val_accuracy: 0.8488 - val_loss: 0.5686\n",
      "Epoch 34/50\n",
      "37/37 - 0s - 7ms/step - accuracy: 0.6079 - loss: 2.5620 - val_accuracy: 0.8351 - val_loss: 0.5703\n",
      "Epoch 35/50\n",
      "37/37 - 0s - 7ms/step - accuracy: 0.6285 - loss: 4.2232 - val_accuracy: 0.8282 - val_loss: 0.5723\n",
      "Epoch 36/50\n",
      "37/37 - 0s - 7ms/step - accuracy: 0.6071 - loss: 1.8326 - val_accuracy: 0.8179 - val_loss: 0.5733\n",
      "Epoch 37/50\n",
      "37/37 - 0s - 7ms/step - accuracy: 0.6071 - loss: 1.9528 - val_accuracy: 0.8144 - val_loss: 0.5747\n",
      "Epoch 38/50\n",
      "37/37 - 0s - 7ms/step - accuracy: 0.5985 - loss: 3.7937 - val_accuracy: 0.8144 - val_loss: 0.5762\n",
      "Epoch 39/50\n",
      "37/37 - 0s - 7ms/step - accuracy: 0.5967 - loss: 3.8480 - val_accuracy: 0.8076 - val_loss: 0.5777\n",
      "Epoch 40/50\n",
      "37/37 - 0s - 7ms/step - accuracy: 0.5709 - loss: 2.3718 - val_accuracy: 0.7973 - val_loss: 0.5798\n",
      "Epoch 41/50\n",
      "37/37 - 0s - 7ms/step - accuracy: 0.5933 - loss: 4.0954 - val_accuracy: 0.7973 - val_loss: 0.5812\n",
      "Epoch 42/50\n",
      "37/37 - 0s - 6ms/step - accuracy: 0.5821 - loss: 2.4186 - val_accuracy: 0.7938 - val_loss: 0.5823\n",
      "Epoch 43/50\n",
      "37/37 - 0s - 6ms/step - accuracy: 0.5744 - loss: 3.0649 - val_accuracy: 0.7938 - val_loss: 0.5842\n",
      "Epoch 44/50\n",
      "37/37 - 0s - 6ms/step - accuracy: 0.5752 - loss: 4.0779 - val_accuracy: 0.7938 - val_loss: 0.5863\n",
      "Epoch 45/50\n",
      "37/37 - 0s - 7ms/step - accuracy: 0.5537 - loss: 4.2258 - val_accuracy: 0.7938 - val_loss: 0.5885\n",
      "Epoch 46/50\n",
      "37/37 - 0s - 7ms/step - accuracy: 0.5701 - loss: 3.2829 - val_accuracy: 0.7869 - val_loss: 0.5905\n",
      "Epoch 47/50\n",
      "37/37 - 0s - 6ms/step - accuracy: 0.5512 - loss: 3.1339 - val_accuracy: 0.7801 - val_loss: 0.5926\n",
      "Epoch 48/50\n",
      "37/37 - 0s - 7ms/step - accuracy: 0.5563 - loss: 2.3769 - val_accuracy: 0.7766 - val_loss: 0.5935\n",
      "Epoch 49/50\n",
      "37/37 - 0s - 6ms/step - accuracy: 0.5503 - loss: 3.7757 - val_accuracy: 0.7732 - val_loss: 0.5948\n",
      "Epoch 50/50\n",
      "37/37 - 0s - 7ms/step - accuracy: 0.5486 - loss: 2.6287 - val_accuracy: 0.7732 - val_loss: 0.5963\n"
     ]
    }
   ],
   "source": [
    "history = model.fit(\n",
    "    X_train,\n",
    "    y_train,\n",
    "    validation_split=0.2,\n",
    "    epochs=50,\n",
    "    batch_size=32,\n",
    "    verbose=2,\n",
    "    class_weight=class_weight\n",
    ")"
   ]
  },
  {
   "cell_type": "code",
   "execution_count": 345,
   "id": "adbb7117-a5f4-4ecc-b44a-a70d459f87a7",
   "metadata": {},
   "outputs": [
    {
     "name": "stdout",
     "output_type": "stream",
     "text": [
      "\u001b[1m12/12\u001b[0m \u001b[32m━━━━━━━━━━━━━━━━━━━━\u001b[0m\u001b[37m\u001b[0m \u001b[1m0s\u001b[0m 11ms/step\n",
      "\u001b[1m12/12\u001b[0m \u001b[32m━━━━━━━━━━━━━━━━━━━━\u001b[0m\u001b[37m\u001b[0m \u001b[1m0s\u001b[0m 7ms/step - accuracy: 0.7502 - loss: 0.6123 \n",
      "Model accuracy in test:  [0.5998312830924988, 0.7692307829856873]\n"
     ]
    }
   ],
   "source": [
    "y_prob = model.predict(X_test)\n",
    "y_pred = np.where(y_prob > 0.50, 1, 0)\n",
    "\n",
    "acc = model.evaluate(X_test, y_test)\n",
    "print(\"Model accuracy in test: \", acc) #outputs the loss and the accuracy"
   ]
  },
  {
   "cell_type": "markdown",
   "id": "d2555d7a-b9bb-414f-9702-bc6bae968efa",
   "metadata": {},
   "source": [
    "**Of the three series, the MLP model gets the best test accuracy for the original time series and the worst for the differenced time series. This counter-intuitively shows that removing the trend from the time series is probably not a good idea. However, let us now proceed to build our CNN model and see how it fares.**"
   ]
  },
  {
   "cell_type": "markdown",
   "id": "453b0628-2e31-461f-91d8-50b3d6e4baa8",
   "metadata": {},
   "source": [
    "## Step 3 "
   ]
  },
  {
   "cell_type": "code",
   "execution_count": null,
   "id": "48704418-e0c1-4c44-8d30-5dee664044d4",
   "metadata": {},
   "outputs": [],
   "source": []
  }
 ],
 "metadata": {
  "kernelspec": {
   "display_name": "Python [conda env:base] *",
   "language": "python",
   "name": "conda-base-py"
  },
  "language_info": {
   "codemirror_mode": {
    "name": "ipython",
    "version": 3
   },
   "file_extension": ".py",
   "mimetype": "text/x-python",
   "name": "python",
   "nbconvert_exporter": "python",
   "pygments_lexer": "ipython3",
   "version": "3.12.7"
  }
 },
 "nbformat": 4,
 "nbformat_minor": 5
}
