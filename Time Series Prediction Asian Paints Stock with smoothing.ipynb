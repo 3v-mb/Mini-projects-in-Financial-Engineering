{
 "cells": [
  {
   "cell_type": "code",
   "execution_count": 1,
   "id": "81db0dab-dc00-4b9d-957b-a25e472f4e32",
   "metadata": {
    "scrolled": true
   },
   "outputs": [],
   "source": [
    "import pandas as pd\n",
    "import numpy as np\n",
    "import matplotlib.pyplot as plt\n",
    "import yfinance as yf\n",
    "import keras_tuner as kt\n",
    "import tensorflow as tf\n",
    "from statsmodels.graphics.tsaplots import plot_acf, plot_pacf\n",
    "from statsmodels.tsa.stattools import adfuller\n",
    "from sklearn.model_selection import train_test_split\n",
    "from sklearn.metrics import confusion_matrix\n",
    "from pyts.image import GramianAngularField\n",
    "from sklearn.preprocessing import MinMaxScaler"
   ]
  },
  {
   "cell_type": "markdown",
   "id": "4bbbc5e2-e5d8-4c2a-83c2-5705dd9cffee",
   "metadata": {},
   "source": [
    "## Step 1 ##"
   ]
  },
  {
   "cell_type": "markdown",
   "id": "25eee50f-bbcc-494c-a498-d2931844a775",
   "metadata": {},
   "source": [
    "Let us consider the stock Asian Paints, which is traded on the Indian stock markets. We download the data from yfinance for the past 8 years."
   ]
  },
  {
   "cell_type": "code",
   "execution_count": 4,
   "id": "c704df7b-a5f8-4484-9b98-5c3a191daf39",
   "metadata": {},
   "outputs": [],
   "source": [
    "stock = yf.Ticker(\"ASIANPAINT.NS\").history(period=\"8y\")"
   ]
  },
  {
   "cell_type": "code",
   "execution_count": 5,
   "id": "2f271487-45d7-4b4c-9b68-6365807f54da",
   "metadata": {},
   "outputs": [
    {
     "data": {
      "text/html": [
       "<div>\n",
       "<style scoped>\n",
       "    .dataframe tbody tr th:only-of-type {\n",
       "        vertical-align: middle;\n",
       "    }\n",
       "\n",
       "    .dataframe tbody tr th {\n",
       "        vertical-align: top;\n",
       "    }\n",
       "\n",
       "    .dataframe thead th {\n",
       "        text-align: right;\n",
       "    }\n",
       "</style>\n",
       "<table border=\"1\" class=\"dataframe\">\n",
       "  <thead>\n",
       "    <tr style=\"text-align: right;\">\n",
       "      <th></th>\n",
       "      <th>Open</th>\n",
       "      <th>High</th>\n",
       "      <th>Low</th>\n",
       "      <th>Close</th>\n",
       "      <th>Volume</th>\n",
       "      <th>Dividends</th>\n",
       "      <th>Stock Splits</th>\n",
       "    </tr>\n",
       "    <tr>\n",
       "      <th>Date</th>\n",
       "      <th></th>\n",
       "      <th></th>\n",
       "      <th></th>\n",
       "      <th></th>\n",
       "      <th></th>\n",
       "      <th></th>\n",
       "      <th></th>\n",
       "    </tr>\n",
       "  </thead>\n",
       "  <tbody>\n",
       "    <tr>\n",
       "      <th>2017-02-27 00:00:00+05:30</th>\n",
       "      <td>953.300900</td>\n",
       "      <td>961.370911</td>\n",
       "      <td>942.918415</td>\n",
       "      <td>945.702820</td>\n",
       "      <td>738246</td>\n",
       "      <td>0.0</td>\n",
       "      <td>0.0</td>\n",
       "    </tr>\n",
       "    <tr>\n",
       "      <th>2017-02-28 00:00:00+05:30</th>\n",
       "      <td>946.788204</td>\n",
       "      <td>969.157808</td>\n",
       "      <td>942.116132</td>\n",
       "      <td>966.703674</td>\n",
       "      <td>1368244</td>\n",
       "      <td>0.0</td>\n",
       "      <td>0.0</td>\n",
       "    </tr>\n",
       "    <tr>\n",
       "      <th>2017-03-01 00:00:00+05:30</th>\n",
       "      <td>972.178121</td>\n",
       "      <td>981.616744</td>\n",
       "      <td>968.449912</td>\n",
       "      <td>974.773743</td>\n",
       "      <td>1124115</td>\n",
       "      <td>0.0</td>\n",
       "      <td>0.0</td>\n",
       "    </tr>\n",
       "    <tr>\n",
       "      <th>2017-03-02 00:00:00+05:30</th>\n",
       "      <td>979.634531</td>\n",
       "      <td>986.099963</td>\n",
       "      <td>968.780116</td>\n",
       "      <td>970.998169</td>\n",
       "      <td>1037442</td>\n",
       "      <td>0.0</td>\n",
       "      <td>0.0</td>\n",
       "    </tr>\n",
       "    <tr>\n",
       "      <th>2017-03-03 00:00:00+05:30</th>\n",
       "      <td>969.393685</td>\n",
       "      <td>969.393685</td>\n",
       "      <td>949.525341</td>\n",
       "      <td>956.793091</td>\n",
       "      <td>596208</td>\n",
       "      <td>0.0</td>\n",
       "      <td>0.0</td>\n",
       "    </tr>\n",
       "  </tbody>\n",
       "</table>\n",
       "</div>"
      ],
      "text/plain": [
       "                                 Open        High         Low       Close  \\\n",
       "Date                                                                        \n",
       "2017-02-27 00:00:00+05:30  953.300900  961.370911  942.918415  945.702820   \n",
       "2017-02-28 00:00:00+05:30  946.788204  969.157808  942.116132  966.703674   \n",
       "2017-03-01 00:00:00+05:30  972.178121  981.616744  968.449912  974.773743   \n",
       "2017-03-02 00:00:00+05:30  979.634531  986.099963  968.780116  970.998169   \n",
       "2017-03-03 00:00:00+05:30  969.393685  969.393685  949.525341  956.793091   \n",
       "\n",
       "                            Volume  Dividends  Stock Splits  \n",
       "Date                                                         \n",
       "2017-02-27 00:00:00+05:30   738246        0.0           0.0  \n",
       "2017-02-28 00:00:00+05:30  1368244        0.0           0.0  \n",
       "2017-03-01 00:00:00+05:30  1124115        0.0           0.0  \n",
       "2017-03-02 00:00:00+05:30  1037442        0.0           0.0  \n",
       "2017-03-03 00:00:00+05:30   596208        0.0           0.0  "
      ]
     },
     "execution_count": 5,
     "metadata": {},
     "output_type": "execute_result"
    }
   ],
   "source": [
    "stock.head()"
   ]
  },
  {
   "cell_type": "code",
   "execution_count": 6,
   "id": "bb75fe2a-bf38-4de5-8b52-307489a65b8b",
   "metadata": {},
   "outputs": [
    {
     "data": {
      "text/plain": [
       "(1977, 7)"
      ]
     },
     "execution_count": 6,
     "metadata": {},
     "output_type": "execute_result"
    }
   ],
   "source": [
    "stock.shape #less than 2000 rows of data, as stated in the GWP"
   ]
  },
  {
   "cell_type": "markdown",
   "id": "465ed4a2-6553-4a76-b669-92426dd202e8",
   "metadata": {},
   "source": [
    "For the analysis that follows, we consider just the closing price"
   ]
  },
  {
   "cell_type": "code",
   "execution_count": 8,
   "id": "5a38ba63-3d55-40e3-9464-75570e2c71c9",
   "metadata": {},
   "outputs": [
    {
     "data": {
      "text/plain": [
       "Date\n",
       "2017-02-27 00:00:00+05:30    945.702820\n",
       "2017-02-28 00:00:00+05:30    966.703674\n",
       "2017-03-01 00:00:00+05:30    974.773743\n",
       "2017-03-02 00:00:00+05:30    970.998169\n",
       "2017-03-03 00:00:00+05:30    956.793091\n",
       "Name: Close, dtype: float64"
      ]
     },
     "execution_count": 8,
     "metadata": {},
     "output_type": "execute_result"
    }
   ],
   "source": [
    "data = stock[\"Close\"]\n",
    "data.head()"
   ]
  },
  {
   "cell_type": "code",
   "execution_count": 9,
   "id": "7468c34d-4ae3-43cf-add5-7bc78d7593e5",
   "metadata": {
    "scrolled": true
   },
   "outputs": [
    {
     "data": {
      "image/png": "[encoded data removed]",
      "text/plain": [
       "<Figure size 640x480 with 1 Axes>"
      ]
     },
     "metadata": {},
     "output_type": "display_data"
    }
   ],
   "source": [
    "#Plot the time series\n",
    "data.plot(ylabel=\"Asian Paints Closing Prices\")\n",
    "plt.grid()"
   ]
  },
  {
   "cell_type": "markdown",
   "id": "62d1f5d5-a41e-47c2-9faf-0bcee73ec498",
   "metadata": {},
   "source": [
    "The plot clearly shows a trend in the time series. The prices of the Asian Paints stock clearly rises with time."
   ]
  },
  {
   "cell_type": "code",
   "execution_count": 11,
   "id": "fc92902f-9e1a-4181-8efb-32abc1f9b416",
   "metadata": {},
   "outputs": [
    {
     "data": {
      "text/plain": [
       "count    1977.000000\n",
       "mean     2198.306170\n",
       "std       825.521090\n",
       "min       945.702820\n",
       "25%      1332.761719\n",
       "50%      2324.152344\n",
       "75%      2987.030029\n",
       "max      3497.630127\n",
       "Name: Close, dtype: float64"
      ]
     },
     "execution_count": 11,
     "metadata": {},
     "output_type": "execute_result"
    }
   ],
   "source": [
    "data.describe() #summary statistics for the untransformed time series"
   ]
  },
  {
   "cell_type": "code",
   "execution_count": 12,
   "id": "6cf0ba94-94b7-4616-9adc-4dc523a029c5",
   "metadata": {},
   "outputs": [
    {
     "data": {
      "text/plain": [
       "-1.621242587715142"
      ]
     },
     "execution_count": 12,
     "metadata": {},
     "output_type": "execute_result"
    }
   ],
   "source": [
    "data.kurtosis()"
   ]
  },
  {
   "cell_type": "code",
   "execution_count": 13,
   "id": "0104c296-898d-4930-9787-cfa6f9ebd97a",
   "metadata": {},
   "outputs": [
    {
     "data": {
      "text/plain": [
       "-0.09013814140417929"
      ]
     },
     "execution_count": 13,
     "metadata": {},
     "output_type": "execute_result"
    }
   ],
   "source": [
    "data.skew()"
   ]
  },
  {
   "cell_type": "markdown",
   "id": "4af69dd9-02e3-49c9-84b1-5fc665453662",
   "metadata": {},
   "source": [
    "Note that the series has a high standard deviation of 827.44, and a mean of 2196.67."
   ]
  },
  {
   "cell_type": "code",
   "execution_count": 15,
   "id": "60e9c7a3-2f24-4dc2-b918-629f96cf8643",
   "metadata": {},
   "outputs": [
    {
     "data": {
      "text/plain": [
       "Text(0.5, 1.0, 'Histogram of Asian Paints Closing Price')"
      ]
     },
     "execution_count": 15,
     "metadata": {},
     "output_type": "execute_result"
    },
    {
     "data": {
      "image/png": "[encoded data removed]",
      "text/plain": [
       "<Figure size 640x480 with 1 Axes>"
      ]
     },
     "metadata": {},
     "output_type": "display_data"
    }
   ],
   "source": [
    "data.hist(bins = 10)\n",
    "plt.xlabel(\"Closing Price\")\n",
    "plt.ylabel(\"Number of Days\")\n",
    "plt.title(\"Histogram of Asian Paints Closing Price\")"
   ]
  },
  {
   "cell_type": "markdown",
   "id": "97c4d66f-8561-4319-8dfd-849768398702",
   "metadata": {},
   "source": [
    "Let us check for the presence of autocorrelation in the time series with different lags"
   ]
  },
  {
   "cell_type": "code",
   "execution_count": 17,
   "id": "cf7f9e04-b098-474f-ad47-1e5613df61c8",
   "metadata": {},
   "outputs": [
    {
     "name": "stdout",
     "output_type": "stream",
     "text": [
      "0.999102217692773\n",
      "0.9951753827772349\n",
      "0.990476307894548\n",
      "0.9481958982083459\n",
      "0.9132216008458944\n",
      "0.8836509774090279\n",
      "0.6499354359417676\n",
      "-0.37755338958131995\n"
     ]
    }
   ],
   "source": [
    "for i in [1, 5, 10, 50, 100, 200, 500, 1000]:\n",
    "    print(data.autocorr(lag = i))"
   ]
  },
  {
   "cell_type": "markdown",
   "id": "7a4bf95d-4479-49e4-a320-22671e50be6b",
   "metadata": {},
   "source": [
    "As you can see, the time series is heavily autocorrelated"
   ]
  },
  {
   "cell_type": "markdown",
   "id": "a5d2c9bb-c616-4bee-b057-29f9f3487b41",
   "metadata": {},
   "source": [
    "Let us test for stationarity using the Augmented Dickey-Fuller test"
   ]
  },
  {
   "cell_type": "code",
   "execution_count": 20,
   "id": "1290b192-d975-4b28-87dc-ef4b1064fa82",
   "metadata": {},
   "outputs": [
    {
     "data": {
      "text/plain": [
       "(-1.551348799032068,\n",
       " 0.5079743839767625,\n",
       " 1,\n",
       " {'1%': -3.433665351698571,\n",
       "  '5%': -2.8630045337025267,\n",
       "  '10%': -2.567549656849864})"
      ]
     },
     "execution_count": 20,
     "metadata": {},
     "output_type": "execute_result"
    }
   ],
   "source": [
    "adf_result_data = adfuller(data)\n",
    "adf_statistic = adf_result_data[0] \n",
    "p_value = adf_result_data[1]\n",
    "used_lags = adf_result_data[2] \n",
    "critical_values = adf_result_data[4] \n",
    "\n",
    "adf_statistic, p_value, used_lags, critical_values"
   ]
  },
  {
   "cell_type": "markdown",
   "id": "16ed6348-87a1-429f-8470-e8e21d6fce33",
   "metadata": {},
   "source": [
    "Note that the adf_statistic of -1.57 is higher than all the critical values. The p-value is 0.49 which is greater than 0.05. This means that we fail to reject the null hypothesis (that the series has a unit root). So, the untransformed time series for the Asian Paints NSE stock can be said be non-stationary."
   ]
  },
  {
   "cell_type": "code",
   "execution_count": 22,
   "id": "d4475f00-d17a-4422-a6e9-afd918335214",
   "metadata": {},
   "outputs": [],
   "source": [
    "differenced_data = data.diff()[1:]"
   ]
  },
  {
   "cell_type": "code",
   "execution_count": 23,
   "id": "2cd3f834-c62d-44f0-a6df-42e5107093dd",
   "metadata": {},
   "outputs": [
    {
     "data": {
      "text/plain": [
       "Date\n",
       "2017-02-28 00:00:00+05:30    21.000854\n",
       "2017-03-01 00:00:00+05:30     8.070068\n",
       "2017-03-02 00:00:00+05:30    -3.775574\n",
       "2017-03-03 00:00:00+05:30   -14.205078\n",
       "2017-03-06 00:00:00+05:30    14.818665\n",
       "Name: Close, dtype: float64"
      ]
     },
     "execution_count": 23,
     "metadata": {},
     "output_type": "execute_result"
    }
   ],
   "source": [
    "differenced_data.head()"
   ]
  },
  {
   "cell_type": "code",
   "execution_count": 24,
   "id": "82fc6a05-2905-455d-9e07-be1de5941ad0",
   "metadata": {},
   "outputs": [
    {
     "data": {
      "text/plain": [
       "(1976,)"
      ]
     },
     "execution_count": 24,
     "metadata": {},
     "output_type": "execute_result"
    }
   ],
   "source": [
    "differenced_data.shape"
   ]
  },
  {
   "cell_type": "code",
   "execution_count": 25,
   "id": "ce4d747f-e1ed-42c1-a4f7-02aa34b394f4",
   "metadata": {},
   "outputs": [
    {
     "data": {
      "text/plain": [
       "Text(0, 0.5, 'Differenced Prices [Lag 1]')"
      ]
     },
     "execution_count": 25,
     "metadata": {},
     "output_type": "execute_result"
    },
    {
     "data": {
      "image/png": "[encoded data removed]",
      "text/plain": [
       "<Figure size 640x480 with 1 Axes>"
      ]
     },
     "metadata": {},
     "output_type": "display_data"
    }
   ],
   "source": [
    "differenced_data.plot()\n",
    "plt.grid()\n",
    "plt.xlabel(\"Year\")\n",
    "plt.ylabel(\"Differenced Prices [Lag 1]\")"
   ]
  },
  {
   "cell_type": "code",
   "execution_count": 26,
   "id": "d5fd6541-9ff8-46a6-93ea-73b13fe25336",
   "metadata": {},
   "outputs": [
    {
     "name": "stdout",
     "output_type": "stream",
     "text": [
      "0.04842387882085452\n",
      "-0.013893753463466435\n",
      "0.001699570285415424\n",
      "-0.06202023106006024\n",
      "-0.06143722711666369\n",
      "0.005708349993168955\n",
      "-0.01422187403095796\n",
      "0.018341563971238258\n"
     ]
    }
   ],
   "source": [
    "for i in [1, 5, 10, 50, 100, 200, 500, 1000]:\n",
    "    print(differenced_data.autocorr(lag = i))"
   ]
  },
  {
   "cell_type": "code",
   "execution_count": 27,
   "id": "d5a2dd66-ba5e-4848-b603-855611890245",
   "metadata": {},
   "outputs": [
    {
     "data": {
      "text/plain": [
       "count    1976.000000\n",
       "mean        0.647291\n",
       "std        34.982674\n",
       "min      -242.193604\n",
       "25%       -13.655182\n",
       "50%         0.412048\n",
       "75%        15.957428\n",
       "max       211.207520\n",
       "Name: Close, dtype: float64"
      ]
     },
     "execution_count": 27,
     "metadata": {},
     "output_type": "execute_result"
    }
   ],
   "source": [
    "differenced_data.describe()"
   ]
  },
  {
   "cell_type": "code",
   "execution_count": 28,
   "id": "68a77287-9eca-47c4-8021-6ea9067f13c5",
   "metadata": {},
   "outputs": [
    {
     "data": {
      "text/plain": [
       "6.382510223698642"
      ]
     },
     "execution_count": 28,
     "metadata": {},
     "output_type": "execute_result"
    }
   ],
   "source": [
    "differenced_data.kurtosis()"
   ]
  },
  {
   "cell_type": "code",
   "execution_count": 29,
   "id": "441bc379-5b67-4617-82f9-00630ee16a6a",
   "metadata": {},
   "outputs": [
    {
     "data": {
      "text/plain": [
       "-0.4726691509492188"
      ]
     },
     "execution_count": 29,
     "metadata": {},
     "output_type": "execute_result"
    }
   ],
   "source": [
    "differenced_data.skew()"
   ]
  },
  {
   "cell_type": "markdown",
   "id": "63f2ff6b-98fe-4a0e-bda7-6235e4a1dbc0",
   "metadata": {},
   "source": [
    "The differenced time series seems to be de-trended now. Let us now test for stationarity."
   ]
  },
  {
   "cell_type": "code",
   "execution_count": 31,
   "id": "e79af474-f987-406e-8d7d-200a8e17018d",
   "metadata": {},
   "outputs": [
    {
     "data": {
      "text/plain": [
       "(-42.316512172846046,\n",
       " 0.0,\n",
       " 0,\n",
       " {'1%': -3.433665351698571,\n",
       "  '5%': -2.8630045337025267,\n",
       "  '10%': -2.567549656849864})"
      ]
     },
     "execution_count": 31,
     "metadata": {},
     "output_type": "execute_result"
    }
   ],
   "source": [
    "adf_result_differenced_data = adfuller(differenced_data)\n",
    "adf_statistic = adf_result_differenced_data[0] \n",
    "p_value = adf_result_differenced_data[1]\n",
    "used_lags = adf_result_differenced_data[2] \n",
    "critical_values = adf_result_differenced_data[4] \n",
    "\n",
    "adf_statistic, p_value, used_lags, critical_values"
   ]
  },
  {
   "cell_type": "markdown",
   "id": "7760a80b-c42c-4425-bf33-f8fec514bc81",
   "metadata": {},
   "source": [
    "Here, note that the p value is zero and the adf_statistic of -42.31 is lesser than all the critical values, which implies that the differenced time series is stationary."
   ]
  },
  {
   "cell_type": "markdown",
   "id": "67dda1ec-6f3f-49e1-87a9-05441f558945",
   "metadata": {},
   "source": [
    "Now, let us attempt to implement fractional differencing"
   ]
  },
  {
   "cell_type": "code",
   "execution_count": 34,
   "id": "71cd1086-2cf4-4cd0-bca7-2ffd4b97a2fe",
   "metadata": {},
   "outputs": [],
   "source": [
    "def getWeights(d,lags):\n",
    "    # calculate the weights from the series expansion of the differencing operator\n",
    "    # for real orders d and up to [lags] number of coefficients\n",
    "    w=[1]\n",
    "    for k in range(1,lags):\n",
    "        w.append(-w[-1]*((d-k+1))/k)\n",
    "    w=np.array(w).reshape(-1,1) \n",
    "    return w"
   ]
  },
  {
   "cell_type": "code",
   "execution_count": 35,
   "id": "3015897e-b846-4652-8c9c-d470f3d2b7f4",
   "metadata": {},
   "outputs": [],
   "source": [
    "def fractional_differencing(series, order, cutoff):\n",
    "    #calculate the time series obtained from fractional differencing\n",
    "    weights=getWeights(order, cutoff)\n",
    "    frac_diff_series = 0\n",
    "    for k in range(cutoff):\n",
    "        frac_diff_series += weights[k]*series.shift(k).fillna(0)\n",
    "    return frac_diff_series[cutoff:] "
   ]
  },
  {
   "cell_type": "code",
   "execution_count": 36,
   "id": "db2c5b56-f3b0-480e-81b0-36872ad76701",
   "metadata": {},
   "outputs": [],
   "source": [
    "frac_diff_series = fractional_differencing(data, 0.9, 10) #considering d = 0.75 for now and we consider 10 terms in the series"
   ]
  },
  {
   "cell_type": "code",
   "execution_count": 37,
   "id": "3c1dca51-ffd3-41ef-aa3c-65e4a8d24ee6",
   "metadata": {},
   "outputs": [
    {
     "data": {
      "text/plain": [
       "Text(0, 0.5, 'Series After Fractional Differencing with d = 0.9')"
      ]
     },
     "execution_count": 37,
     "metadata": {},
     "output_type": "execute_result"
    },
    {
     "data": {
      "image/png": "[encoded data removed]",
      "text/plain": [
       "<Figure size 640x480 with 1 Axes>"
      ]
     },
     "metadata": {},
     "output_type": "display_data"
    }
   ],
   "source": [
    "frac_diff_series.plot()\n",
    "plt.ylabel(\"Series After Fractional Differencing with d = 0.9\")"
   ]
  },
  {
   "cell_type": "code",
   "execution_count": 38,
   "id": "6c80f50f-5ff1-4869-8a85-33969c7729b0",
   "metadata": {},
   "outputs": [
    {
     "data": {
      "text/plain": [
       "count    1967.000000\n",
       "mean       32.661540\n",
       "std        36.960974\n",
       "min      -204.009096\n",
       "25%        12.120364\n",
       "50%        29.038443\n",
       "75%        51.204275\n",
       "max       246.927981\n",
       "Name: Close, dtype: float64"
      ]
     },
     "execution_count": 38,
     "metadata": {},
     "output_type": "execute_result"
    }
   ],
   "source": [
    "frac_diff_series.describe()"
   ]
  },
  {
   "cell_type": "code",
   "execution_count": 39,
   "id": "5b5c0bdc-39ef-4137-b34c-0ba70bfa33cc",
   "metadata": {},
   "outputs": [
    {
     "data": {
      "text/plain": [
       "4.61308216391883"
      ]
     },
     "execution_count": 39,
     "metadata": {},
     "output_type": "execute_result"
    }
   ],
   "source": [
    "frac_diff_series.kurtosis()"
   ]
  },
  {
   "cell_type": "code",
   "execution_count": 40,
   "id": "2cae3de2-ad07-45f3-859d-d55d29143341",
   "metadata": {},
   "outputs": [
    {
     "data": {
      "text/plain": [
       "-0.0022268919276088087"
      ]
     },
     "execution_count": 40,
     "metadata": {},
     "output_type": "execute_result"
    }
   ],
   "source": [
    "frac_diff_series.skew()"
   ]
  },
  {
   "cell_type": "code",
   "execution_count": 41,
   "id": "e91e0285-e66b-472b-9d3c-0d7a108e8e19",
   "metadata": {},
   "outputs": [
    {
     "data": {
      "text/plain": [
       "(1967,)"
      ]
     },
     "execution_count": 41,
     "metadata": {},
     "output_type": "execute_result"
    }
   ],
   "source": [
    "frac_diff_series.shape"
   ]
  },
  {
   "cell_type": "code",
   "execution_count": 42,
   "id": "d014347b-9455-4d9e-bcc3-e985a7fb4fc1",
   "metadata": {},
   "outputs": [
    {
     "data": {
      "text/plain": [
       "(-4.577150259787551,\n",
       " 0.00014229271926595485,\n",
       " 26,\n",
       " {'1%': -3.4337252441664483,\n",
       "  '5%': -2.8630309758314314,\n",
       "  '10%': -2.56756373605059})"
      ]
     },
     "execution_count": 42,
     "metadata": {},
     "output_type": "execute_result"
    }
   ],
   "source": [
    "adf_result_frac_diff_data = adfuller(frac_diff_series)\n",
    "adf_statistic = adf_result_frac_diff_data[0] \n",
    "p_value = adf_result_frac_diff_data[1]\n",
    "used_lags = adf_result_frac_diff_data[2] \n",
    "critical_values = adf_result_frac_diff_data[4] \n",
    "\n",
    "adf_statistic, p_value, used_lags, critical_values"
   ]
  },
  {
   "cell_type": "markdown",
   "id": "8b0bda90-c80a-4bd0-8281-261721d18c19",
   "metadata": {},
   "source": [
    "Note that for this fractional differenced series with d = 0.75, the adf_statistic is higher than the critical values. The p-value of 0.22 also indicates that this fractional differenced series is not stationary."
   ]
  },
  {
   "cell_type": "markdown",
   "id": "27b33ec1-376f-4c32-a134-8cf331a4fb52",
   "metadata": {},
   "source": [
    "## Step 2 "
   ]
  },
  {
   "cell_type": "markdown",
   "id": "4ce6fb61-700c-46e1-8af6-3ed14d131207",
   "metadata": {},
   "source": [
    "Let us now build Multi-Layer Perceptron models to predict the future values of these time series. Specifically, we predict if the stock will rise or fall the next day."
   ]
  },
  {
   "cell_type": "markdown",
   "id": "1aa0a87b-17f3-4e17-8b1a-e542ffac8820",
   "metadata": {},
   "source": [
    "**First, the original time series.** he inputs to this model will be the returns over the past 10, 60, 150 days along with the present value."
   ]
  },
  {
   "cell_type": "code",
   "execution_count": 778,
   "id": "94aa5697-09e7-4bb8-be2d-c1adfc6a798c",
   "metadata": {},
   "outputs": [],
   "source": [
    "data_mlp = data.to_frame()"
   ]
  },
  {
   "cell_type": "code",
   "execution_count": 780,
   "id": "9cc8918e-366b-4e37-bfd8-a0569e0b3c1f",
   "metadata": {},
   "outputs": [],
   "source": [
    "data_mlp[\"1d_returns\"] = data.pct_change()"
   ]
  },
  {
   "cell_type": "code",
   "execution_count": 782,
   "id": "10603e7b-6a6f-4305-bf6e-7b9e65156c55",
   "metadata": {},
   "outputs": [
    {
     "data": {
      "text/html": [
       "<div>\n",
       "<style scoped>\n",
       "    .dataframe tbody tr th:only-of-type {\n",
       "        vertical-align: middle;\n",
       "    }\n",
       "\n",
       "    .dataframe tbody tr th {\n",
       "        vertical-align: top;\n",
       "    }\n",
       "\n",
       "    .dataframe thead th {\n",
       "        text-align: right;\n",
       "    }\n",
       "</style>\n",
       "<table border=\"1\" class=\"dataframe\">\n",
       "  <thead>\n",
       "    <tr style=\"text-align: right;\">\n",
       "      <th></th>\n",
       "      <th>Close</th>\n",
       "      <th>1d_returns</th>\n",
       "    </tr>\n",
       "    <tr>\n",
       "      <th>Date</th>\n",
       "      <th></th>\n",
       "      <th></th>\n",
       "    </tr>\n",
       "  </thead>\n",
       "  <tbody>\n",
       "    <tr>\n",
       "      <th>2017-02-27 00:00:00+05:30</th>\n",
       "      <td>945.702759</td>\n",
       "      <td>NaN</td>\n",
       "    </tr>\n",
       "    <tr>\n",
       "      <th>2017-02-28 00:00:00+05:30</th>\n",
       "      <td>966.703613</td>\n",
       "      <td>0.022207</td>\n",
       "    </tr>\n",
       "    <tr>\n",
       "      <th>2017-03-01 00:00:00+05:30</th>\n",
       "      <td>974.773682</td>\n",
       "      <td>0.008348</td>\n",
       "    </tr>\n",
       "    <tr>\n",
       "      <th>2017-03-02 00:00:00+05:30</th>\n",
       "      <td>970.998230</td>\n",
       "      <td>-0.003873</td>\n",
       "    </tr>\n",
       "    <tr>\n",
       "      <th>2017-03-03 00:00:00+05:30</th>\n",
       "      <td>956.793152</td>\n",
       "      <td>-0.014629</td>\n",
       "    </tr>\n",
       "  </tbody>\n",
       "</table>\n",
       "</div>"
      ],
      "text/plain": [
       "                                Close  1d_returns\n",
       "Date                                             \n",
       "2017-02-27 00:00:00+05:30  945.702759         NaN\n",
       "2017-02-28 00:00:00+05:30  966.703613    0.022207\n",
       "2017-03-01 00:00:00+05:30  974.773682    0.008348\n",
       "2017-03-02 00:00:00+05:30  970.998230   -0.003873\n",
       "2017-03-03 00:00:00+05:30  956.793152   -0.014629"
      ]
     },
     "execution_count": 782,
     "metadata": {},
     "output_type": "execute_result"
    }
   ],
   "source": [
    "data_mlp.head()"
   ]
  },
  {
   "cell_type": "code",
   "execution_count": 784,
   "id": "b2e52e36-2a31-4e51-bb12-af4e7ec4d8b6",
   "metadata": {},
   "outputs": [],
   "source": [
    "data_mlp[\"10d_returns\"] = data_mlp[\"1d_returns\"].rolling(10).apply(lambda x: (1+ x).prod())\n",
    "data_mlp[\"60d_returns\"] = data_mlp[\"1d_returns\"].rolling(60).apply(lambda x: (1+ x).prod())\n",
    "data_mlp[\"150d_returns\"] = data_mlp[\"1d_returns\"].rolling(150).apply(lambda x: (1+ x).prod())"
   ]
  },
  {
   "cell_type": "code",
   "execution_count": 785,
   "id": "e2459ca2-98cf-485f-9173-7c0de482de94",
   "metadata": {},
   "outputs": [],
   "source": [
    "data_mlp.dropna(inplace=True)"
   ]
  },
  {
   "cell_type": "code",
   "execution_count": 786,
   "id": "b31fd584-e930-4168-8cbf-197aab3720b9",
   "metadata": {},
   "outputs": [
    {
     "data": {
      "text/html": [
       "<div>\n",
       "<style scoped>\n",
       "    .dataframe tbody tr th:only-of-type {\n",
       "        vertical-align: middle;\n",
       "    }\n",
       "\n",
       "    .dataframe tbody tr th {\n",
       "        vertical-align: top;\n",
       "    }\n",
       "\n",
       "    .dataframe thead th {\n",
       "        text-align: right;\n",
       "    }\n",
       "</style>\n",
       "<table border=\"1\" class=\"dataframe\">\n",
       "  <thead>\n",
       "    <tr style=\"text-align: right;\">\n",
       "      <th></th>\n",
       "      <th>Close</th>\n",
       "      <th>1d_returns</th>\n",
       "      <th>10d_returns</th>\n",
       "      <th>60d_returns</th>\n",
       "      <th>150d_returns</th>\n",
       "    </tr>\n",
       "    <tr>\n",
       "      <th>Date</th>\n",
       "      <th></th>\n",
       "      <th></th>\n",
       "      <th></th>\n",
       "      <th></th>\n",
       "      <th></th>\n",
       "    </tr>\n",
       "  </thead>\n",
       "  <tbody>\n",
       "    <tr>\n",
       "      <th>2017-10-05 00:00:00+05:30</th>\n",
       "      <td>1090.405762</td>\n",
       "      <td>-0.000694</td>\n",
       "      <td>0.932069</td>\n",
       "      <td>1.022611</td>\n",
       "      <td>1.153011</td>\n",
       "    </tr>\n",
       "    <tr>\n",
       "      <th>2017-10-06 00:00:00+05:30</th>\n",
       "      <td>1094.235718</td>\n",
       "      <td>0.003512</td>\n",
       "      <td>0.941583</td>\n",
       "      <td>1.022576</td>\n",
       "      <td>1.131925</td>\n",
       "    </tr>\n",
       "    <tr>\n",
       "      <th>2017-10-09 00:00:00+05:30</th>\n",
       "      <td>1095.464600</td>\n",
       "      <td>0.001123</td>\n",
       "      <td>0.954956</td>\n",
       "      <td>1.021963</td>\n",
       "      <td>1.123814</td>\n",
       "    </tr>\n",
       "    <tr>\n",
       "      <th>2017-10-10 00:00:00+05:30</th>\n",
       "      <td>1099.624878</td>\n",
       "      <td>0.003798</td>\n",
       "      <td>0.971636</td>\n",
       "      <td>1.033318</td>\n",
       "      <td>1.132468</td>\n",
       "    </tr>\n",
       "    <tr>\n",
       "      <th>2017-10-11 00:00:00+05:30</th>\n",
       "      <td>1097.355469</td>\n",
       "      <td>-0.002064</td>\n",
       "      <td>0.988586</td>\n",
       "      <td>1.038708</td>\n",
       "      <td>1.146910</td>\n",
       "    </tr>\n",
       "  </tbody>\n",
       "</table>\n",
       "</div>"
      ],
      "text/plain": [
       "                                 Close  1d_returns  10d_returns  60d_returns  \\\n",
       "Date                                                                           \n",
       "2017-10-05 00:00:00+05:30  1090.405762   -0.000694     0.932069     1.022611   \n",
       "2017-10-06 00:00:00+05:30  1094.235718    0.003512     0.941583     1.022576   \n",
       "2017-10-09 00:00:00+05:30  1095.464600    0.001123     0.954956     1.021963   \n",
       "2017-10-10 00:00:00+05:30  1099.624878    0.003798     0.971636     1.033318   \n",
       "2017-10-11 00:00:00+05:30  1097.355469   -0.002064     0.988586     1.038708   \n",
       "\n",
       "                           150d_returns  \n",
       "Date                                     \n",
       "2017-10-05 00:00:00+05:30      1.153011  \n",
       "2017-10-06 00:00:00+05:30      1.131925  \n",
       "2017-10-09 00:00:00+05:30      1.123814  \n",
       "2017-10-10 00:00:00+05:30      1.132468  \n",
       "2017-10-11 00:00:00+05:30      1.146910  "
      ]
     },
     "execution_count": 786,
     "metadata": {},
     "output_type": "execute_result"
    }
   ],
   "source": [
    "data_mlp.head()"
   ]
  },
  {
   "cell_type": "code",
   "execution_count": 790,
   "id": "fa203860-dc30-4c36-8af2-717eb5a44c03",
   "metadata": {},
   "outputs": [
    {
     "data": {
      "text/plain": [
       "(1827, 5)"
      ]
     },
     "execution_count": 790,
     "metadata": {},
     "output_type": "execute_result"
    }
   ],
   "source": [
    "data_mlp.shape"
   ]
  },
  {
   "cell_type": "markdown",
   "id": "00c4d9e8-e5cf-484b-9be6-1eaa41cd2e97",
   "metadata": {},
   "source": [
    "now, we create a separate column for the returns the next day. For this, we can simply shift the 1d_returns column by one day. We treat this as a classfication task and try to predict if the returns next dat will be positive or negative."
   ]
  },
  {
   "cell_type": "code",
   "execution_count": 793,
   "id": "1c99d01d-9813-4d69-a5a4-91c886940943",
   "metadata": {},
   "outputs": [],
   "source": [
    "data_mlp[\"next_10d_returns\"] = (data_mlp[\"10d_returns\"].shift(10)>0).astype(int) #this is our target column. \n",
    "data_mlp.dropna(inplace=True)"
   ]
  },
  {
   "cell_type": "code",
   "execution_count": 795,
   "id": "9a26052e-23b1-434f-8124-c3868be71d63",
   "metadata": {},
   "outputs": [
    {
     "data": {
      "text/html": [
       "<div>\n",
       "<style scoped>\n",
       "    .dataframe tbody tr th:only-of-type {\n",
       "        vertical-align: middle;\n",
       "    }\n",
       "\n",
       "    .dataframe tbody tr th {\n",
       "        vertical-align: top;\n",
       "    }\n",
       "\n",
       "    .dataframe thead th {\n",
       "        text-align: right;\n",
       "    }\n",
       "</style>\n",
       "<table border=\"1\" class=\"dataframe\">\n",
       "  <thead>\n",
       "    <tr style=\"text-align: right;\">\n",
       "      <th></th>\n",
       "      <th>Close</th>\n",
       "      <th>1d_returns</th>\n",
       "      <th>10d_returns</th>\n",
       "      <th>60d_returns</th>\n",
       "      <th>150d_returns</th>\n",
       "      <th>next_10d_returns</th>\n",
       "    </tr>\n",
       "    <tr>\n",
       "      <th>Date</th>\n",
       "      <th></th>\n",
       "      <th></th>\n",
       "      <th></th>\n",
       "      <th></th>\n",
       "      <th></th>\n",
       "      <th></th>\n",
       "    </tr>\n",
       "  </thead>\n",
       "  <tbody>\n",
       "    <tr>\n",
       "      <th>2017-10-05 00:00:00+05:30</th>\n",
       "      <td>1090.405762</td>\n",
       "      <td>-0.000694</td>\n",
       "      <td>0.932069</td>\n",
       "      <td>1.022611</td>\n",
       "      <td>1.153011</td>\n",
       "      <td>0</td>\n",
       "    </tr>\n",
       "    <tr>\n",
       "      <th>2017-10-06 00:00:00+05:30</th>\n",
       "      <td>1094.235718</td>\n",
       "      <td>0.003512</td>\n",
       "      <td>0.941583</td>\n",
       "      <td>1.022576</td>\n",
       "      <td>1.131925</td>\n",
       "      <td>0</td>\n",
       "    </tr>\n",
       "    <tr>\n",
       "      <th>2017-10-09 00:00:00+05:30</th>\n",
       "      <td>1095.464600</td>\n",
       "      <td>0.001123</td>\n",
       "      <td>0.954956</td>\n",
       "      <td>1.021963</td>\n",
       "      <td>1.123814</td>\n",
       "      <td>0</td>\n",
       "    </tr>\n",
       "    <tr>\n",
       "      <th>2017-10-10 00:00:00+05:30</th>\n",
       "      <td>1099.624878</td>\n",
       "      <td>0.003798</td>\n",
       "      <td>0.971636</td>\n",
       "      <td>1.033318</td>\n",
       "      <td>1.132468</td>\n",
       "      <td>0</td>\n",
       "    </tr>\n",
       "    <tr>\n",
       "      <th>2017-10-11 00:00:00+05:30</th>\n",
       "      <td>1097.355469</td>\n",
       "      <td>-0.002064</td>\n",
       "      <td>0.988586</td>\n",
       "      <td>1.038708</td>\n",
       "      <td>1.146910</td>\n",
       "      <td>0</td>\n",
       "    </tr>\n",
       "  </tbody>\n",
       "</table>\n",
       "</div>"
      ],
      "text/plain": [
       "                                 Close  1d_returns  10d_returns  60d_returns  \\\n",
       "Date                                                                           \n",
       "2017-10-05 00:00:00+05:30  1090.405762   -0.000694     0.932069     1.022611   \n",
       "2017-10-06 00:00:00+05:30  1094.235718    0.003512     0.941583     1.022576   \n",
       "2017-10-09 00:00:00+05:30  1095.464600    0.001123     0.954956     1.021963   \n",
       "2017-10-10 00:00:00+05:30  1099.624878    0.003798     0.971636     1.033318   \n",
       "2017-10-11 00:00:00+05:30  1097.355469   -0.002064     0.988586     1.038708   \n",
       "\n",
       "                           150d_returns  next_10d_returns  \n",
       "Date                                                       \n",
       "2017-10-05 00:00:00+05:30      1.153011                 0  \n",
       "2017-10-06 00:00:00+05:30      1.131925                 0  \n",
       "2017-10-09 00:00:00+05:30      1.123814                 0  \n",
       "2017-10-10 00:00:00+05:30      1.132468                 0  \n",
       "2017-10-11 00:00:00+05:30      1.146910                 0  "
      ]
     },
     "execution_count": 795,
     "metadata": {},
     "output_type": "execute_result"
    }
   ],
   "source": [
    "data_mlp.head()"
   ]
  },
  {
   "cell_type": "code",
   "execution_count": 796,
   "id": "3f086676-a47a-42ef-9da8-e700570b6841",
   "metadata": {},
   "outputs": [],
   "source": [
    "X = data_mlp[['1d_returns', '10d_returns', '60d_returns', '150d_returns']]\n",
    "y = data_mlp['next_10d_returns']"
   ]
  },
  {
   "cell_type": "code",
   "execution_count": 799,
   "id": "ce3d3dcb-c8cf-415f-aa46-672e5023bf50",
   "metadata": {},
   "outputs": [],
   "source": [
    "X_train, X_test, y_train, y_test = train_test_split(X, y, test_size=0.2, shuffle=False) #train-test split"
   ]
  },
  {
   "cell_type": "markdown",
   "id": "0531b38c-b484-428e-8426-2ce77a917ef3",
   "metadata": {},
   "source": [
    "Now to build the MLP"
   ]
  },
  {
   "cell_type": "code",
   "execution_count": 802,
   "id": "fa3c1295-cee3-4594-b8c0-752d1d35c2fe",
   "metadata": {},
   "outputs": [],
   "source": [
    "tf.keras.backend.clear_session()  # We clear the backend to reset the random seed process\n",
    "tf.random.set_seed(42)\n",
    "\n",
    "act_fun = \"relu\"\n",
    "hp_units_1 = 4\n",
    "hp_units_2 = 4\n",
    "n_dropout = 0.2"
   ]
  },
  {
   "cell_type": "code",
   "execution_count": 818,
   "id": "a5456c3c-0a8e-4465-b3bf-682ad44159c3",
   "metadata": {},
   "outputs": [],
   "source": [
    "model = tf.keras.models.Sequential()\n",
    "model.add(tf.keras.layers.Dense(units=hp_units_1, activation=act_fun))\n",
    "model.add(tf.keras.layers.Dropout(n_dropout))\n",
    "model.add(tf.keras.layers.Dense(units=hp_units_2, activation=act_fun))\n",
    "model.add(tf.keras.layers.Dropout(n_dropout))\n",
    "model.add(tf.keras.layers.Dense(units=1, activation=\"sigmoid\")) #activation function"
   ]
  },
  {
   "cell_type": "code",
   "execution_count": 820,
   "id": "1f5b2175-a1a2-4615-b770-1f64ca35503d",
   "metadata": {},
   "outputs": [],
   "source": [
    "hp_lr = 1e-4  # Learning rate\n",
    "adam = tf.keras.optimizers.Adam(learning_rate=hp_lr)  # Adam optimizer\n",
    "model.compile(optimizer=adam, loss=\"binary_crossentropy\", metrics=[\"accuracy\"])"
   ]
  },
  {
   "cell_type": "code",
   "execution_count": 822,
   "id": "2aa2a042-29d1-4361-9653-040ee4dff9d0",
   "metadata": {},
   "outputs": [
    {
     "data": {
      "text/plain": [
       "next_10d_returns\n",
       "1    1451\n",
       "0      10\n",
       "Name: count, dtype: int64"
      ]
     },
     "execution_count": 822,
     "metadata": {},
     "output_type": "execute_result"
    }
   ],
   "source": [
    "y_train.value_counts()"
   ]
  },
  {
   "cell_type": "code",
   "execution_count": 824,
   "id": "352f9849-b2e2-4b8a-b64f-b3f17ba4a6f5",
   "metadata": {},
   "outputs": [],
   "source": [
    "class_weight = {0: 1 / (1 - np.mean(y_train)), 1: 1.0}"
   ]
  },
  {
   "cell_type": "code",
   "execution_count": 826,
   "id": "0689b025-332e-481f-b249-92235d4736f5",
   "metadata": {},
   "outputs": [
    {
     "name": "stdout",
     "output_type": "stream",
     "text": [
      "Epoch 1/100\n",
      "37/37 - 3s - 82ms/step - accuracy: 0.9221 - loss: 1.8556 - val_accuracy: 1.0000 - val_loss: 0.3991\n",
      "Epoch 2/100\n",
      "37/37 - 0s - 7ms/step - accuracy: 0.9058 - loss: 2.0137 - val_accuracy: 1.0000 - val_loss: 0.4028\n",
      "Epoch 3/100\n",
      "37/37 - 0s - 7ms/step - accuracy: 0.9238 - loss: 1.9539 - val_accuracy: 1.0000 - val_loss: 0.4065\n",
      "Epoch 4/100\n",
      "37/37 - 0s - 6ms/step - accuracy: 0.9101 - loss: 1.9269 - val_accuracy: 1.0000 - val_loss: 0.4095\n",
      "Epoch 5/100\n",
      "37/37 - 0s - 6ms/step - accuracy: 0.9118 - loss: 1.6923 - val_accuracy: 1.0000 - val_loss: 0.4118\n",
      "Epoch 6/100\n",
      "37/37 - 0s - 8ms/step - accuracy: 0.9161 - loss: 1.7244 - val_accuracy: 1.0000 - val_loss: 0.4134\n",
      "Epoch 7/100\n",
      "37/37 - 0s - 8ms/step - accuracy: 0.9110 - loss: 1.7709 - val_accuracy: 1.0000 - val_loss: 0.4158\n",
      "Epoch 8/100\n",
      "37/37 - 0s - 7ms/step - accuracy: 0.9067 - loss: 1.5673 - val_accuracy: 1.0000 - val_loss: 0.4174\n",
      "Epoch 9/100\n",
      "37/37 - 0s - 6ms/step - accuracy: 0.9144 - loss: 1.8234 - val_accuracy: 1.0000 - val_loss: 0.4199\n",
      "Epoch 10/100\n",
      "37/37 - 0s - 7ms/step - accuracy: 0.9033 - loss: 1.7441 - val_accuracy: 1.0000 - val_loss: 0.4223\n",
      "Epoch 11/100\n",
      "37/37 - 0s - 7ms/step - accuracy: 0.9075 - loss: 1.6329 - val_accuracy: 1.0000 - val_loss: 0.4239\n",
      "Epoch 12/100\n",
      "37/37 - 0s - 7ms/step - accuracy: 0.8998 - loss: 1.7610 - val_accuracy: 1.0000 - val_loss: 0.4266\n",
      "Epoch 13/100\n",
      "37/37 - 0s - 7ms/step - accuracy: 0.9127 - loss: 1.8778 - val_accuracy: 1.0000 - val_loss: 0.4298\n",
      "Epoch 14/100\n",
      "37/37 - 0s - 7ms/step - accuracy: 0.9110 - loss: 1.8523 - val_accuracy: 1.0000 - val_loss: 0.4335\n",
      "Epoch 15/100\n",
      "37/37 - 0s - 6ms/step - accuracy: 0.9084 - loss: 1.7846 - val_accuracy: 1.0000 - val_loss: 0.4366\n",
      "Epoch 16/100\n",
      "37/37 - 0s - 6ms/step - accuracy: 0.9229 - loss: 1.6695 - val_accuracy: 1.0000 - val_loss: 0.4390\n",
      "Epoch 17/100\n",
      "37/37 - 0s - 7ms/step - accuracy: 0.9238 - loss: 1.7430 - val_accuracy: 1.0000 - val_loss: 0.4418\n",
      "Epoch 18/100\n",
      "37/37 - 0s - 7ms/step - accuracy: 0.9110 - loss: 1.8102 - val_accuracy: 1.0000 - val_loss: 0.4445\n",
      "Epoch 19/100\n",
      "37/37 - 0s - 6ms/step - accuracy: 0.8990 - loss: 1.7272 - val_accuracy: 1.0000 - val_loss: 0.4466\n",
      "Epoch 20/100\n",
      "37/37 - 0s - 7ms/step - accuracy: 0.9041 - loss: 1.8152 - val_accuracy: 1.0000 - val_loss: 0.4501\n",
      "Epoch 21/100\n",
      "37/37 - 0s - 7ms/step - accuracy: 0.9101 - loss: 1.8454 - val_accuracy: 1.0000 - val_loss: 0.4532\n",
      "Epoch 22/100\n",
      "37/37 - 0s - 7ms/step - accuracy: 0.9050 - loss: 1.7536 - val_accuracy: 1.0000 - val_loss: 0.4561\n",
      "Epoch 23/100\n",
      "37/37 - 0s - 7ms/step - accuracy: 0.8990 - loss: 1.8457 - val_accuracy: 1.0000 - val_loss: 0.4597\n",
      "Epoch 24/100\n",
      "37/37 - 0s - 8ms/step - accuracy: 0.8981 - loss: 1.8063 - val_accuracy: 1.0000 - val_loss: 0.4627\n",
      "Epoch 25/100\n",
      "37/37 - 0s - 8ms/step - accuracy: 0.8921 - loss: 1.8018 - val_accuracy: 1.0000 - val_loss: 0.4661\n",
      "Epoch 26/100\n",
      "37/37 - 0s - 7ms/step - accuracy: 0.9058 - loss: 1.8452 - val_accuracy: 1.0000 - val_loss: 0.4693\n",
      "Epoch 27/100\n",
      "37/37 - 0s - 7ms/step - accuracy: 0.8904 - loss: 1.8093 - val_accuracy: 1.0000 - val_loss: 0.4727\n",
      "Epoch 28/100\n",
      "37/37 - 0s - 8ms/step - accuracy: 0.8964 - loss: 1.6069 - val_accuracy: 1.0000 - val_loss: 0.4742\n",
      "Epoch 29/100\n",
      "37/37 - 0s - 8ms/step - accuracy: 0.9041 - loss: 1.5935 - val_accuracy: 1.0000 - val_loss: 0.4756\n",
      "Epoch 30/100\n",
      "37/37 - 0s - 7ms/step - accuracy: 0.8955 - loss: 1.6217 - val_accuracy: 1.0000 - val_loss: 0.4769\n",
      "Epoch 31/100\n",
      "37/37 - 0s - 7ms/step - accuracy: 0.9041 - loss: 1.7499 - val_accuracy: 1.0000 - val_loss: 0.4799\n",
      "Epoch 32/100\n",
      "37/37 - 0s - 7ms/step - accuracy: 0.8938 - loss: 1.7172 - val_accuracy: 1.0000 - val_loss: 0.4820\n",
      "Epoch 33/100\n",
      "37/37 - 0s - 8ms/step - accuracy: 0.8947 - loss: 1.7056 - val_accuracy: 1.0000 - val_loss: 0.4846\n",
      "Epoch 34/100\n",
      "37/37 - 0s - 8ms/step - accuracy: 0.9033 - loss: 1.7347 - val_accuracy: 1.0000 - val_loss: 0.4869\n",
      "Epoch 35/100\n",
      "37/37 - 0s - 8ms/step - accuracy: 0.9110 - loss: 1.6997 - val_accuracy: 1.0000 - val_loss: 0.4887\n",
      "Epoch 36/100\n",
      "37/37 - 0s - 7ms/step - accuracy: 0.9101 - loss: 1.7491 - val_accuracy: 1.0000 - val_loss: 0.4917\n",
      "Epoch 37/100\n",
      "37/37 - 0s - 7ms/step - accuracy: 0.8981 - loss: 1.7375 - val_accuracy: 1.0000 - val_loss: 0.4944\n",
      "Epoch 38/100\n",
      "37/37 - 0s - 8ms/step - accuracy: 0.8930 - loss: 1.7306 - val_accuracy: 1.0000 - val_loss: 0.4973\n",
      "Epoch 39/100\n",
      "37/37 - 0s - 7ms/step - accuracy: 0.9050 - loss: 1.6151 - val_accuracy: 1.0000 - val_loss: 0.4985\n",
      "Epoch 40/100\n",
      "37/37 - 0s - 6ms/step - accuracy: 0.8990 - loss: 1.7112 - val_accuracy: 1.0000 - val_loss: 0.5005\n",
      "Epoch 41/100\n",
      "37/37 - 0s - 7ms/step - accuracy: 0.8981 - loss: 1.7519 - val_accuracy: 1.0000 - val_loss: 0.5035\n",
      "Epoch 42/100\n",
      "37/37 - 0s - 8ms/step - accuracy: 0.9092 - loss: 1.6508 - val_accuracy: 1.0000 - val_loss: 0.5060\n",
      "Epoch 43/100\n",
      "37/37 - 0s - 9ms/step - accuracy: 0.8938 - loss: 1.6755 - val_accuracy: 1.0000 - val_loss: 0.5077\n",
      "Epoch 44/100\n",
      "37/37 - 0s - 7ms/step - accuracy: 0.8878 - loss: 1.7223 - val_accuracy: 1.0000 - val_loss: 0.5102\n",
      "Epoch 45/100\n",
      "37/37 - 0s - 7ms/step - accuracy: 0.9075 - loss: 1.6716 - val_accuracy: 1.0000 - val_loss: 0.5119\n",
      "Epoch 46/100\n",
      "37/37 - 0s - 7ms/step - accuracy: 0.8964 - loss: 1.7176 - val_accuracy: 1.0000 - val_loss: 0.5148\n",
      "Epoch 47/100\n",
      "37/37 - 0s - 7ms/step - accuracy: 0.8776 - loss: 1.7385 - val_accuracy: 1.0000 - val_loss: 0.5173\n",
      "Epoch 48/100\n",
      "37/37 - 0s - 7ms/step - accuracy: 0.8947 - loss: 1.6487 - val_accuracy: 1.0000 - val_loss: 0.5198\n",
      "Epoch 49/100\n",
      "37/37 - 0s - 8ms/step - accuracy: 0.8930 - loss: 1.7833 - val_accuracy: 1.0000 - val_loss: 0.5225\n",
      "Epoch 50/100\n",
      "37/37 - 0s - 10ms/step - accuracy: 0.8964 - loss: 1.6441 - val_accuracy: 1.0000 - val_loss: 0.5247\n",
      "Epoch 51/100\n",
      "37/37 - 0s - 7ms/step - accuracy: 0.8938 - loss: 1.5967 - val_accuracy: 1.0000 - val_loss: 0.5268\n",
      "Epoch 52/100\n",
      "37/37 - 0s - 13ms/step - accuracy: 0.8921 - loss: 1.6453 - val_accuracy: 1.0000 - val_loss: 0.5290\n",
      "Epoch 53/100\n",
      "37/37 - 0s - 6ms/step - accuracy: 0.8930 - loss: 1.6046 - val_accuracy: 1.0000 - val_loss: 0.5301\n",
      "Epoch 54/100\n",
      "37/37 - 0s - 7ms/step - accuracy: 0.8853 - loss: 1.6819 - val_accuracy: 1.0000 - val_loss: 0.5324\n",
      "Epoch 55/100\n",
      "37/37 - 0s - 7ms/step - accuracy: 0.8810 - loss: 1.6447 - val_accuracy: 1.0000 - val_loss: 0.5341\n",
      "Epoch 56/100\n",
      "37/37 - 0s - 6ms/step - accuracy: 0.8853 - loss: 1.6909 - val_accuracy: 1.0000 - val_loss: 0.5368\n",
      "Epoch 57/100\n",
      "37/37 - 0s - 6ms/step - accuracy: 0.8827 - loss: 1.7514 - val_accuracy: 1.0000 - val_loss: 0.5395\n",
      "Epoch 58/100\n",
      "37/37 - 0s - 6ms/step - accuracy: 0.8921 - loss: 1.6551 - val_accuracy: 1.0000 - val_loss: 0.5415\n",
      "Epoch 59/100\n",
      "37/37 - 0s - 6ms/step - accuracy: 0.8861 - loss: 1.6896 - val_accuracy: 1.0000 - val_loss: 0.5437\n",
      "Epoch 60/100\n",
      "37/37 - 0s - 7ms/step - accuracy: 0.8750 - loss: 1.7181 - val_accuracy: 1.0000 - val_loss: 0.5461\n",
      "Epoch 61/100\n",
      "37/37 - 0s - 7ms/step - accuracy: 0.8604 - loss: 1.7474 - val_accuracy: 1.0000 - val_loss: 0.5487\n",
      "Epoch 62/100\n",
      "37/37 - 0s - 7ms/step - accuracy: 0.8587 - loss: 1.5509 - val_accuracy: 1.0000 - val_loss: 0.5505\n",
      "Epoch 63/100\n",
      "37/37 - 0s - 8ms/step - accuracy: 0.8810 - loss: 1.6447 - val_accuracy: 1.0000 - val_loss: 0.5521\n",
      "Epoch 64/100\n",
      "37/37 - 0s - 7ms/step - accuracy: 0.8664 - loss: 1.6731 - val_accuracy: 1.0000 - val_loss: 0.5540\n",
      "Epoch 65/100\n",
      "37/37 - 0s - 7ms/step - accuracy: 0.8716 - loss: 1.6406 - val_accuracy: 1.0000 - val_loss: 0.5563\n",
      "Epoch 66/100\n",
      "37/37 - 0s - 8ms/step - accuracy: 0.8536 - loss: 1.6210 - val_accuracy: 1.0000 - val_loss: 0.5576\n",
      "Epoch 67/100\n",
      "37/37 - 0s - 7ms/step - accuracy: 0.8664 - loss: 1.5679 - val_accuracy: 1.0000 - val_loss: 0.5591\n",
      "Epoch 68/100\n",
      "37/37 - 0s - 8ms/step - accuracy: 0.8279 - loss: 1.6654 - val_accuracy: 1.0000 - val_loss: 0.5609\n",
      "Epoch 69/100\n",
      "37/37 - 0s - 7ms/step - accuracy: 0.8467 - loss: 1.6780 - val_accuracy: 1.0000 - val_loss: 0.5631\n",
      "Epoch 70/100\n",
      "37/37 - 0s - 7ms/step - accuracy: 0.8562 - loss: 1.5854 - val_accuracy: 1.0000 - val_loss: 0.5641\n",
      "Epoch 71/100\n",
      "37/37 - 0s - 7ms/step - accuracy: 0.8553 - loss: 1.6922 - val_accuracy: 1.0000 - val_loss: 0.5665\n",
      "Epoch 72/100\n",
      "37/37 - 0s - 8ms/step - accuracy: 0.8416 - loss: 1.6943 - val_accuracy: 1.0000 - val_loss: 0.5686\n",
      "Epoch 73/100\n",
      "37/37 - 0s - 7ms/step - accuracy: 0.8493 - loss: 1.6307 - val_accuracy: 1.0000 - val_loss: 0.5706\n",
      "Epoch 74/100\n",
      "37/37 - 0s - 12ms/step - accuracy: 0.8408 - loss: 1.6497 - val_accuracy: 1.0000 - val_loss: 0.5729\n",
      "Epoch 75/100\n",
      "37/37 - 0s - 7ms/step - accuracy: 0.8296 - loss: 1.6191 - val_accuracy: 1.0000 - val_loss: 0.5750\n",
      "Epoch 76/100\n",
      "37/37 - 0s - 6ms/step - accuracy: 0.8305 - loss: 1.4896 - val_accuracy: 1.0000 - val_loss: 0.5756\n",
      "Epoch 77/100\n",
      "37/37 - 0s - 6ms/step - accuracy: 0.8219 - loss: 1.6475 - val_accuracy: 1.0000 - val_loss: 0.5773\n",
      "Epoch 78/100\n",
      "37/37 - 0s - 7ms/step - accuracy: 0.8236 - loss: 1.5188 - val_accuracy: 1.0000 - val_loss: 0.5784\n",
      "Epoch 79/100\n",
      "37/37 - 0s - 7ms/step - accuracy: 0.8211 - loss: 1.6379 - val_accuracy: 1.0000 - val_loss: 0.5802\n",
      "Epoch 80/100\n",
      "37/37 - 0s - 7ms/step - accuracy: 0.8228 - loss: 1.5927 - val_accuracy: 1.0000 - val_loss: 0.5827\n",
      "Epoch 81/100\n",
      "37/37 - 0s - 7ms/step - accuracy: 0.8151 - loss: 1.6643 - val_accuracy: 1.0000 - val_loss: 0.5846\n",
      "Epoch 82/100\n",
      "37/37 - 0s - 7ms/step - accuracy: 0.8091 - loss: 1.5851 - val_accuracy: 1.0000 - val_loss: 0.5856\n",
      "Epoch 83/100\n",
      "37/37 - 0s - 7ms/step - accuracy: 0.7979 - loss: 1.6457 - val_accuracy: 1.0000 - val_loss: 0.5871\n",
      "Epoch 84/100\n",
      "37/37 - 0s - 6ms/step - accuracy: 0.8134 - loss: 1.5773 - val_accuracy: 1.0000 - val_loss: 0.5890\n",
      "Epoch 85/100\n",
      "37/37 - 0s - 7ms/step - accuracy: 0.8262 - loss: 1.5235 - val_accuracy: 1.0000 - val_loss: 0.5900\n",
      "Epoch 86/100\n",
      "37/37 - 0s - 8ms/step - accuracy: 0.8211 - loss: 1.5861 - val_accuracy: 1.0000 - val_loss: 0.5913\n",
      "Epoch 87/100\n",
      "37/37 - 0s - 8ms/step - accuracy: 0.8108 - loss: 1.6571 - val_accuracy: 1.0000 - val_loss: 0.5934\n",
      "Epoch 88/100\n",
      "37/37 - 0s - 6ms/step - accuracy: 0.8151 - loss: 1.5818 - val_accuracy: 1.0000 - val_loss: 0.5948\n",
      "Epoch 89/100\n",
      "37/37 - 0s - 7ms/step - accuracy: 0.7979 - loss: 1.5387 - val_accuracy: 1.0000 - val_loss: 0.5953\n",
      "Epoch 90/100\n",
      "37/37 - 0s - 8ms/step - accuracy: 0.7988 - loss: 1.6659 - val_accuracy: 1.0000 - val_loss: 0.5973\n",
      "Epoch 91/100\n",
      "37/37 - 0s - 8ms/step - accuracy: 0.8253 - loss: 1.6043 - val_accuracy: 1.0000 - val_loss: 0.5988\n",
      "Epoch 92/100\n",
      "37/37 - 0s - 8ms/step - accuracy: 0.7868 - loss: 1.5876 - val_accuracy: 1.0000 - val_loss: 0.6000\n",
      "Epoch 93/100\n",
      "37/37 - 0s - 8ms/step - accuracy: 0.7997 - loss: 1.6639 - val_accuracy: 1.0000 - val_loss: 0.6015\n",
      "Epoch 94/100\n",
      "37/37 - 0s - 7ms/step - accuracy: 0.8005 - loss: 1.5061 - val_accuracy: 1.0000 - val_loss: 0.6020\n",
      "Epoch 95/100\n",
      "37/37 - 0s - 6ms/step - accuracy: 0.7842 - loss: 1.6141 - val_accuracy: 1.0000 - val_loss: 0.6033\n",
      "Epoch 96/100\n",
      "37/37 - 0s - 7ms/step - accuracy: 0.7757 - loss: 1.5832 - val_accuracy: 1.0000 - val_loss: 0.6045\n",
      "Epoch 97/100\n",
      "37/37 - 0s - 6ms/step - accuracy: 0.7851 - loss: 1.6434 - val_accuracy: 1.0000 - val_loss: 0.6059\n",
      "Epoch 98/100\n",
      "37/37 - 0s - 6ms/step - accuracy: 0.7894 - loss: 1.6490 - val_accuracy: 1.0000 - val_loss: 0.6075\n",
      "Epoch 99/100\n",
      "37/37 - 0s - 6ms/step - accuracy: 0.7979 - loss: 1.5819 - val_accuracy: 1.0000 - val_loss: 0.6088\n",
      "Epoch 100/100\n",
      "37/37 - 0s - 7ms/step - accuracy: 0.7928 - loss: 1.6152 - val_accuracy: 1.0000 - val_loss: 0.6102\n"
     ]
    }
   ],
   "source": [
    "history = model.fit(\n",
    "    X_train,\n",
    "    y_train,\n",
    "    validation_split=0.2,\n",
    "    epochs=100,\n",
    "    batch_size=32,\n",
    "    verbose=2,\n",
    "    class_weight=class_weight\n",
    ")"
   ]
  },
  {
   "cell_type": "code",
   "execution_count": 832,
   "id": "c7d2ffa9-46d6-424c-94bd-5495894fa115",
   "metadata": {},
   "outputs": [
    {
     "data": {
      "text/html": [
       "<pre style=\"white-space:pre;overflow-x:auto;line-height:normal;font-family:Menlo,'DejaVu Sans Mono',consolas,'Courier New',monospace\"><span style=\"font-weight: bold\">Model: \"sequential_1\"</span>\n",
       "</pre>\n"
      ],
      "text/plain": [
       "\u001b[1mModel: \"sequential_1\"\u001b[0m\n"
      ]
     },
     "metadata": {},
     "output_type": "display_data"
    },
    {
     "data": {
      "text/html": [
       "<pre style=\"white-space:pre;overflow-x:auto;line-height:normal;font-family:Menlo,'DejaVu Sans Mono',consolas,'Courier New',monospace\">┏━━━━━━━━━━━━━━━━━━━━━━━━━━━━━━━━━━━━━━┳━━━━━━━━━━━━━━━━━━━━━━━━━━━━━┳━━━━━━━━━━━━━━━━━┓\n",
       "┃<span style=\"font-weight: bold\"> Layer (type)                         </span>┃<span style=\"font-weight: bold\"> Output Shape                </span>┃<span style=\"font-weight: bold\">         Param # </span>┃\n",
       "┡━━━━━━━━━━━━━━━━━━━━━━━━━━━━━━━━━━━━━━╇━━━━━━━━━━━━━━━━━━━━━━━━━━━━━╇━━━━━━━━━━━━━━━━━┩\n",
       "│ dense_3 (<span style=\"color: #0087ff; text-decoration-color: #0087ff\">Dense</span>)                      │ (<span style=\"color: #00d7ff; text-decoration-color: #00d7ff\">None</span>, <span style=\"color: #00af00; text-decoration-color: #00af00\">4</span>)                   │              <span style=\"color: #00af00; text-decoration-color: #00af00\">20</span> │\n",
       "├──────────────────────────────────────┼─────────────────────────────┼─────────────────┤\n",
       "│ dropout (<span style=\"color: #0087ff; text-decoration-color: #0087ff\">Dropout</span>)                    │ (<span style=\"color: #00d7ff; text-decoration-color: #00d7ff\">None</span>, <span style=\"color: #00af00; text-decoration-color: #00af00\">4</span>)                   │               <span style=\"color: #00af00; text-decoration-color: #00af00\">0</span> │\n",
       "├──────────────────────────────────────┼─────────────────────────────┼─────────────────┤\n",
       "│ dense_4 (<span style=\"color: #0087ff; text-decoration-color: #0087ff\">Dense</span>)                      │ (<span style=\"color: #00d7ff; text-decoration-color: #00d7ff\">None</span>, <span style=\"color: #00af00; text-decoration-color: #00af00\">4</span>)                   │              <span style=\"color: #00af00; text-decoration-color: #00af00\">20</span> │\n",
       "├──────────────────────────────────────┼─────────────────────────────┼─────────────────┤\n",
       "│ dropout_1 (<span style=\"color: #0087ff; text-decoration-color: #0087ff\">Dropout</span>)                  │ (<span style=\"color: #00d7ff; text-decoration-color: #00d7ff\">None</span>, <span style=\"color: #00af00; text-decoration-color: #00af00\">4</span>)                   │               <span style=\"color: #00af00; text-decoration-color: #00af00\">0</span> │\n",
       "├──────────────────────────────────────┼─────────────────────────────┼─────────────────┤\n",
       "│ dense_5 (<span style=\"color: #0087ff; text-decoration-color: #0087ff\">Dense</span>)                      │ (<span style=\"color: #00d7ff; text-decoration-color: #00d7ff\">None</span>, <span style=\"color: #00af00; text-decoration-color: #00af00\">1</span>)                   │               <span style=\"color: #00af00; text-decoration-color: #00af00\">5</span> │\n",
       "└──────────────────────────────────────┴─────────────────────────────┴─────────────────┘\n",
       "</pre>\n"
      ],
      "text/plain": [
       "┏━━━━━━━━━━━━━━━━━━━━━━━━━━━━━━━━━━━━━━┳━━━━━━━━━━━━━━━━━━━━━━━━━━━━━┳━━━━━━━━━━━━━━━━━┓\n",
       "┃\u001b[1m \u001b[0m\u001b[1mLayer (type)                        \u001b[0m\u001b[1m \u001b[0m┃\u001b[1m \u001b[0m\u001b[1mOutput Shape               \u001b[0m\u001b[1m \u001b[0m┃\u001b[1m \u001b[0m\u001b[1m        Param #\u001b[0m\u001b[1m \u001b[0m┃\n",
       "┡━━━━━━━━━━━━━━━━━━━━━━━━━━━━━━━━━━━━━━╇━━━━━━━━━━━━━━━━━━━━━━━━━━━━━╇━━━━━━━━━━━━━━━━━┩\n",
       "│ dense_3 (\u001b[38;5;33mDense\u001b[0m)                      │ (\u001b[38;5;45mNone\u001b[0m, \u001b[38;5;34m4\u001b[0m)                   │              \u001b[38;5;34m20\u001b[0m │\n",
       "├──────────────────────────────────────┼─────────────────────────────┼─────────────────┤\n",
       "│ dropout (\u001b[38;5;33mDropout\u001b[0m)                    │ (\u001b[38;5;45mNone\u001b[0m, \u001b[38;5;34m4\u001b[0m)                   │               \u001b[38;5;34m0\u001b[0m │\n",
       "├──────────────────────────────────────┼─────────────────────────────┼─────────────────┤\n",
       "│ dense_4 (\u001b[38;5;33mDense\u001b[0m)                      │ (\u001b[38;5;45mNone\u001b[0m, \u001b[38;5;34m4\u001b[0m)                   │              \u001b[38;5;34m20\u001b[0m │\n",
       "├──────────────────────────────────────┼─────────────────────────────┼─────────────────┤\n",
       "│ dropout_1 (\u001b[38;5;33mDropout\u001b[0m)                  │ (\u001b[38;5;45mNone\u001b[0m, \u001b[38;5;34m4\u001b[0m)                   │               \u001b[38;5;34m0\u001b[0m │\n",
       "├──────────────────────────────────────┼─────────────────────────────┼─────────────────┤\n",
       "│ dense_5 (\u001b[38;5;33mDense\u001b[0m)                      │ (\u001b[38;5;45mNone\u001b[0m, \u001b[38;5;34m1\u001b[0m)                   │               \u001b[38;5;34m5\u001b[0m │\n",
       "└──────────────────────────────────────┴─────────────────────────────┴─────────────────┘\n"
      ]
     },
     "metadata": {},
     "output_type": "display_data"
    },
    {
     "data": {
      "text/html": [
       "<pre style=\"white-space:pre;overflow-x:auto;line-height:normal;font-family:Menlo,'DejaVu Sans Mono',consolas,'Courier New',monospace\"><span style=\"font-weight: bold\"> Total params: </span><span style=\"color: #00af00; text-decoration-color: #00af00\">137</span> (552.00 B)\n",
       "</pre>\n"
      ],
      "text/plain": [
       "\u001b[1m Total params: \u001b[0m\u001b[38;5;34m137\u001b[0m (552.00 B)\n"
      ]
     },
     "metadata": {},
     "output_type": "display_data"
    },
    {
     "data": {
      "text/html": [
       "<pre style=\"white-space:pre;overflow-x:auto;line-height:normal;font-family:Menlo,'DejaVu Sans Mono',consolas,'Courier New',monospace\"><span style=\"font-weight: bold\"> Trainable params: </span><span style=\"color: #00af00; text-decoration-color: #00af00\">45</span> (180.00 B)\n",
       "</pre>\n"
      ],
      "text/plain": [
       "\u001b[1m Trainable params: \u001b[0m\u001b[38;5;34m45\u001b[0m (180.00 B)\n"
      ]
     },
     "metadata": {},
     "output_type": "display_data"
    },
    {
     "data": {
      "text/html": [
       "<pre style=\"white-space:pre;overflow-x:auto;line-height:normal;font-family:Menlo,'DejaVu Sans Mono',consolas,'Courier New',monospace\"><span style=\"font-weight: bold\"> Non-trainable params: </span><span style=\"color: #00af00; text-decoration-color: #00af00\">0</span> (0.00 B)\n",
       "</pre>\n"
      ],
      "text/plain": [
       "\u001b[1m Non-trainable params: \u001b[0m\u001b[38;5;34m0\u001b[0m (0.00 B)\n"
      ]
     },
     "metadata": {},
     "output_type": "display_data"
    },
    {
     "data": {
      "text/html": [
       "<pre style=\"white-space:pre;overflow-x:auto;line-height:normal;font-family:Menlo,'DejaVu Sans Mono',consolas,'Courier New',monospace\"><span style=\"font-weight: bold\"> Optimizer params: </span><span style=\"color: #00af00; text-decoration-color: #00af00\">92</span> (372.00 B)\n",
       "</pre>\n"
      ],
      "text/plain": [
       "\u001b[1m Optimizer params: \u001b[0m\u001b[38;5;34m92\u001b[0m (372.00 B)\n"
      ]
     },
     "metadata": {},
     "output_type": "display_data"
    }
   ],
   "source": [
    "model.summary()"
   ]
  },
  {
   "cell_type": "code",
   "execution_count": 834,
   "id": "7b050b20-a20d-4b8b-bd1c-8f223250661b",
   "metadata": {},
   "outputs": [
    {
     "name": "stdout",
     "output_type": "stream",
     "text": [
      "\u001b[1m12/12\u001b[0m \u001b[32m━━━━━━━━━━━━━━━━━━━━\u001b[0m\u001b[37m\u001b[0m \u001b[1m0s\u001b[0m 7ms/step \n",
      "\u001b[1m12/12\u001b[0m \u001b[32m━━━━━━━━━━━━━━━━━━━━\u001b[0m\u001b[37m\u001b[0m \u001b[1m0s\u001b[0m 7ms/step - accuracy: 1.0000 - loss: 0.6143 \n",
      "Model accuracy in test:  [0.6175158023834229, 1.0]\n"
     ]
    }
   ],
   "source": [
    "y_prob = model.predict(X_test)\n",
    "y_pred = np.where(y_prob > 0.50, 1, 0)\n",
    "\n",
    "acc = model.evaluate(X_test, y_test)\n",
    "print(\"Model accuracy in test: \", acc) #outputs the loss and the accuracy"
   ]
  },
  {
   "cell_type": "code",
   "execution_count": 840,
   "id": "00ec0b86-58c4-4c41-a718-415deee719d3",
   "metadata": {},
   "outputs": [
    {
     "name": "stderr",
     "output_type": "stream",
     "text": [
      "C:\\Users\\susha\\anaconda3\\Lib\\site-packages\\sklearn\\metrics\\_classification.py:409: UserWarning: A single label was found in 'y_true' and 'y_pred'. For the confusion matrix to have the correct shape, use the 'labels' parameter to pass all known labels.\n",
      "  warnings.warn(\n"
     ]
    },
    {
     "data": {
      "text/plain": [
       "array([[1.]])"
      ]
     },
     "execution_count": 840,
     "metadata": {},
     "output_type": "execute_result"
    }
   ],
   "source": [
    "result = confusion_matrix(y_test, y_pred, normalize='pred')\n",
    "result"
   ]
  },
  {
   "cell_type": "markdown",
   "id": "1b056d38-c313-4270-93c8-bd762a128803",
   "metadata": {},
   "source": [
    "**Now, let us similarly try to create a predictive model for the differenced series.**"
   ]
  },
  {
   "cell_type": "code",
   "execution_count": 842,
   "id": "fd8d08ce-e4c6-43df-a70e-3af9114af749",
   "metadata": {},
   "outputs": [],
   "source": [
    "differenced_data_mlp = differenced_data.to_frame()"
   ]
  },
  {
   "cell_type": "code",
   "execution_count": 844,
   "id": "1fb1dc07-9924-409c-a399-f3beebdb9413",
   "metadata": {},
   "outputs": [
    {
     "data": {
      "text/html": [
       "<div>\n",
       "<style scoped>\n",
       "    .dataframe tbody tr th:only-of-type {\n",
       "        vertical-align: middle;\n",
       "    }\n",
       "\n",
       "    .dataframe tbody tr th {\n",
       "        vertical-align: top;\n",
       "    }\n",
       "\n",
       "    .dataframe thead th {\n",
       "        text-align: right;\n",
       "    }\n",
       "</style>\n",
       "<table border=\"1\" class=\"dataframe\">\n",
       "  <thead>\n",
       "    <tr style=\"text-align: right;\">\n",
       "      <th></th>\n",
       "      <th>Close</th>\n",
       "    </tr>\n",
       "    <tr>\n",
       "      <th>Date</th>\n",
       "      <th></th>\n",
       "    </tr>\n",
       "  </thead>\n",
       "  <tbody>\n",
       "    <tr>\n",
       "      <th>2017-02-28 00:00:00+05:30</th>\n",
       "      <td>21.000854</td>\n",
       "    </tr>\n",
       "    <tr>\n",
       "      <th>2017-03-01 00:00:00+05:30</th>\n",
       "      <td>8.070068</td>\n",
       "    </tr>\n",
       "    <tr>\n",
       "      <th>2017-03-02 00:00:00+05:30</th>\n",
       "      <td>-3.775452</td>\n",
       "    </tr>\n",
       "    <tr>\n",
       "      <th>2017-03-03 00:00:00+05:30</th>\n",
       "      <td>-14.205078</td>\n",
       "    </tr>\n",
       "    <tr>\n",
       "      <th>2017-03-06 00:00:00+05:30</th>\n",
       "      <td>14.818726</td>\n",
       "    </tr>\n",
       "  </tbody>\n",
       "</table>\n",
       "</div>"
      ],
      "text/plain": [
       "                               Close\n",
       "Date                                \n",
       "2017-02-28 00:00:00+05:30  21.000854\n",
       "2017-03-01 00:00:00+05:30   8.070068\n",
       "2017-03-02 00:00:00+05:30  -3.775452\n",
       "2017-03-03 00:00:00+05:30 -14.205078\n",
       "2017-03-06 00:00:00+05:30  14.818726"
      ]
     },
     "execution_count": 844,
     "metadata": {},
     "output_type": "execute_result"
    }
   ],
   "source": [
    "differenced_data_mlp.head()"
   ]
  },
  {
   "cell_type": "code",
   "execution_count": 846,
   "id": "10850012-e772-455d-ad14-0385299ba914",
   "metadata": {},
   "outputs": [],
   "source": [
    "differenced_data_mlp[\"1d_returns\"] = differenced_data_mlp[\"Close\"].pct_change()\n",
    "differenced_data_mlp[\"2d_returns\"] = differenced_data_mlp[\"1d_returns\"].rolling(2).apply(lambda x: (1 + x).prod())\n",
    "differenced_data_mlp[\"10d_returns\"] = differenced_data_mlp[\"1d_returns\"].rolling(10).apply(lambda x: (1 + x).prod())"
   ]
  },
  {
   "cell_type": "code",
   "execution_count": 847,
   "id": "240e0e77-4e90-42cb-ab6b-a55986ec5acd",
   "metadata": {},
   "outputs": [],
   "source": [
    "differenced_data_mlp[\"next_10d_returns\"] = (differenced_data_mlp[\"10d_returns\"].shift(10)>0).astype(int)  #this is our target column. "
   ]
  },
  {
   "cell_type": "code",
   "execution_count": 848,
   "id": "12f02880-b222-4992-94d5-0c2fc0f4c0ad",
   "metadata": {},
   "outputs": [
    {
     "data": {
      "text/plain": [
       "Close                0\n",
       "1d_returns           1\n",
       "2d_returns          12\n",
       "10d_returns         60\n",
       "next_10d_returns     0\n",
       "dtype: int64"
      ]
     },
     "execution_count": 848,
     "metadata": {},
     "output_type": "execute_result"
    }
   ],
   "source": [
    "differenced_data_mlp.isnull().sum()"
   ]
  },
  {
   "cell_type": "code",
   "execution_count": 852,
   "id": "d531394c-322e-46a9-8bd9-96d22264930b",
   "metadata": {},
   "outputs": [
    {
     "data": {
      "text/plain": [
       "(1976, 5)"
      ]
     },
     "execution_count": 852,
     "metadata": {},
     "output_type": "execute_result"
    }
   ],
   "source": [
    "differenced_data_mlp.shape"
   ]
  },
  {
   "cell_type": "code",
   "execution_count": 854,
   "id": "6e55efde-a2a2-4c6d-a89d-587c890986f8",
   "metadata": {},
   "outputs": [],
   "source": [
    "differenced_data_mlp.dropna(inplace=True)"
   ]
  },
  {
   "cell_type": "code",
   "execution_count": 856,
   "id": "8a7cd349-5ca2-4b4b-a976-335e68fb6967",
   "metadata": {},
   "outputs": [
    {
     "data": {
      "text/plain": [
       "(1916, 5)"
      ]
     },
     "execution_count": 856,
     "metadata": {},
     "output_type": "execute_result"
    }
   ],
   "source": [
    "differenced_data_mlp.shape"
   ]
  },
  {
   "cell_type": "code",
   "execution_count": 858,
   "id": "249586d1-ace8-4122-af14-e30bf27128a4",
   "metadata": {},
   "outputs": [],
   "source": [
    "X = differenced_data_mlp[['1d_returns', '2d_returns', '10d_returns']]\n",
    "y = differenced_data_mlp['next_10d_returns']"
   ]
  },
  {
   "cell_type": "code",
   "execution_count": 860,
   "id": "5eb7a063-fc90-4b78-b1fb-207f7edc548f",
   "metadata": {},
   "outputs": [],
   "source": [
    "X_train, X_test, y_train, y_test = train_test_split(X, y, test_size=0.2, shuffle=False) #train-test split"
   ]
  },
  {
   "cell_type": "code",
   "execution_count": 862,
   "id": "de9b2ea6-1487-4227-9617-0b1d9b727213",
   "metadata": {},
   "outputs": [],
   "source": [
    "model = tf.keras.models.Sequential()\n",
    "model.add(tf.keras.layers.Dense(units=hp_units_1, activation=act_fun))\n",
    "#model.add(tf.keras.layers.Dropout(n_dropout))\n",
    "model.add(tf.keras.layers.Dense(units=hp_units_2, activation=act_fun))\n",
    "#model.add(tf.keras.layers.Dropout(n_dropout))\n",
    "model.add(tf.keras.layers.Dense(units=hp_units_2, activation=act_fun))\n",
    "#model.add(tf.keras.layers.Dropout(n_dropout))\n",
    "model.add(tf.keras.layers.Dense(units=1, activation=\"sigmoid\")) #activation function"
   ]
  },
  {
   "cell_type": "code",
   "execution_count": 864,
   "id": "b3ada5c0-117f-427c-8cc9-bdff8513aec6",
   "metadata": {},
   "outputs": [],
   "source": [
    "hp_lr = 1e-4  # Learning rate\n",
    "adam = tf.keras.optimizers.Adam(learning_rate=hp_lr)  # Adam optimizer\n",
    "model.compile(optimizer=adam, loss=\"binary_crossentropy\", metrics=[\"accuracy\"])"
   ]
  },
  {
   "cell_type": "code",
   "execution_count": 866,
   "id": "87d3d26d-79f5-44a4-86ea-0ed9c94b76bf",
   "metadata": {},
   "outputs": [
    {
     "data": {
      "text/plain": [
       "next_10d_returns\n",
       "0    797\n",
       "1    735\n",
       "Name: count, dtype: int64"
      ]
     },
     "execution_count": 866,
     "metadata": {},
     "output_type": "execute_result"
    }
   ],
   "source": [
    "y_train.value_counts()"
   ]
  },
  {
   "cell_type": "code",
   "execution_count": 868,
   "id": "77e24680-d128-4b07-ac26-1a4398993f25",
   "metadata": {},
   "outputs": [],
   "source": [
    "class_weight = {0: 1 / (1 - np.mean(y_train)), 1: 1.0}"
   ]
  },
  {
   "cell_type": "code",
   "execution_count": 870,
   "id": "6d3545a5-7346-46aa-9582-cb0fd87d84cc",
   "metadata": {},
   "outputs": [
    {
     "name": "stdout",
     "output_type": "stream",
     "text": [
      "Epoch 1/100\n",
      "39/39 - 3s - 73ms/step - accuracy: 0.5151 - loss: 0.8054 - val_accuracy: 0.4691 - val_loss: 0.7310\n",
      "Epoch 2/100\n",
      "39/39 - 0s - 6ms/step - accuracy: 0.5143 - loss: 0.7984 - val_accuracy: 0.4691 - val_loss: 0.7289\n",
      "Epoch 3/100\n",
      "39/39 - 0s - 6ms/step - accuracy: 0.5135 - loss: 0.7915 - val_accuracy: 0.4658 - val_loss: 0.7269\n",
      "Epoch 4/100\n",
      "39/39 - 0s - 6ms/step - accuracy: 0.5110 - loss: 0.7850 - val_accuracy: 0.4560 - val_loss: 0.7250\n",
      "Epoch 5/100\n",
      "39/39 - 0s - 6ms/step - accuracy: 0.5135 - loss: 0.7787 - val_accuracy: 0.4593 - val_loss: 0.7233\n",
      "Epoch 6/100\n",
      "39/39 - 0s - 6ms/step - accuracy: 0.5135 - loss: 0.7727 - val_accuracy: 0.4528 - val_loss: 0.7218\n",
      "Epoch 7/100\n",
      "39/39 - 0s - 6ms/step - accuracy: 0.5159 - loss: 0.7671 - val_accuracy: 0.4560 - val_loss: 0.7203\n",
      "Epoch 8/100\n",
      "39/39 - 0s - 6ms/step - accuracy: 0.5176 - loss: 0.7619 - val_accuracy: 0.4625 - val_loss: 0.7190\n",
      "Epoch 9/100\n",
      "39/39 - 0s - 6ms/step - accuracy: 0.5200 - loss: 0.7569 - val_accuracy: 0.4625 - val_loss: 0.7178\n",
      "Epoch 10/100\n",
      "39/39 - 0s - 7ms/step - accuracy: 0.5176 - loss: 0.7525 - val_accuracy: 0.4560 - val_loss: 0.7167\n",
      "Epoch 11/100\n",
      "39/39 - 0s - 6ms/step - accuracy: 0.5143 - loss: 0.7481 - val_accuracy: 0.4560 - val_loss: 0.7158\n",
      "Epoch 12/100\n",
      "39/39 - 0s - 6ms/step - accuracy: 0.5143 - loss: 0.7438 - val_accuracy: 0.4593 - val_loss: 0.7148\n",
      "Epoch 13/100\n",
      "39/39 - 0s - 7ms/step - accuracy: 0.5151 - loss: 0.7394 - val_accuracy: 0.4625 - val_loss: 0.7138\n",
      "Epoch 14/100\n",
      "39/39 - 0s - 6ms/step - accuracy: 0.5167 - loss: 0.7351 - val_accuracy: 0.4593 - val_loss: 0.7126\n",
      "Epoch 15/100\n",
      "39/39 - 0s - 6ms/step - accuracy: 0.5216 - loss: 0.7309 - val_accuracy: 0.4560 - val_loss: 0.7115\n",
      "Epoch 16/100\n",
      "39/39 - 0s - 7ms/step - accuracy: 0.5200 - loss: 0.7268 - val_accuracy: 0.4625 - val_loss: 0.7104\n",
      "Epoch 17/100\n",
      "39/39 - 0s - 6ms/step - accuracy: 0.5176 - loss: 0.7229 - val_accuracy: 0.4625 - val_loss: 0.7093\n",
      "Epoch 18/100\n",
      "39/39 - 0s - 6ms/step - accuracy: 0.5167 - loss: 0.7190 - val_accuracy: 0.4625 - val_loss: 0.7083\n",
      "Epoch 19/100\n",
      "39/39 - 0s - 9ms/step - accuracy: 0.5151 - loss: 0.7153 - val_accuracy: 0.4560 - val_loss: 0.7073\n",
      "Epoch 20/100\n",
      "39/39 - 0s - 6ms/step - accuracy: 0.5184 - loss: 0.7116 - val_accuracy: 0.4560 - val_loss: 0.7064\n",
      "Epoch 21/100\n",
      "39/39 - 0s - 7ms/step - accuracy: 0.5216 - loss: 0.7081 - val_accuracy: 0.4625 - val_loss: 0.7056\n",
      "Epoch 22/100\n",
      "39/39 - 0s - 6ms/step - accuracy: 0.5200 - loss: 0.7053 - val_accuracy: 0.4625 - val_loss: 0.7050\n",
      "Epoch 23/100\n",
      "39/39 - 0s - 6ms/step - accuracy: 0.5200 - loss: 0.7040 - val_accuracy: 0.4658 - val_loss: 0.7047\n",
      "Epoch 24/100\n",
      "39/39 - 0s - 7ms/step - accuracy: 0.5184 - loss: 0.7036 - val_accuracy: 0.4658 - val_loss: 0.7044\n",
      "Epoch 25/100\n",
      "39/39 - 0s - 6ms/step - accuracy: 0.5159 - loss: 0.7032 - val_accuracy: 0.4691 - val_loss: 0.7040\n",
      "Epoch 26/100\n",
      "39/39 - 0s - 6ms/step - accuracy: 0.5151 - loss: 0.7028 - val_accuracy: 0.4691 - val_loss: 0.7037\n",
      "Epoch 27/100\n",
      "39/39 - 0s - 6ms/step - accuracy: 0.5151 - loss: 0.7025 - val_accuracy: 0.4691 - val_loss: 0.7034\n",
      "Epoch 28/100\n",
      "39/39 - 0s - 6ms/step - accuracy: 0.5151 - loss: 0.7021 - val_accuracy: 0.4691 - val_loss: 0.7031\n",
      "Epoch 29/100\n",
      "39/39 - 0s - 6ms/step - accuracy: 0.5184 - loss: 0.7017 - val_accuracy: 0.4658 - val_loss: 0.7028\n",
      "Epoch 30/100\n",
      "39/39 - 0s - 6ms/step - accuracy: 0.5208 - loss: 0.7013 - val_accuracy: 0.4658 - val_loss: 0.7025\n",
      "Epoch 31/100\n",
      "39/39 - 0s - 6ms/step - accuracy: 0.5208 - loss: 0.7010 - val_accuracy: 0.4658 - val_loss: 0.7022\n",
      "Epoch 32/100\n",
      "39/39 - 0s - 6ms/step - accuracy: 0.5208 - loss: 0.7006 - val_accuracy: 0.4658 - val_loss: 0.7020\n",
      "Epoch 33/100\n",
      "39/39 - 0s - 6ms/step - accuracy: 0.5224 - loss: 0.7003 - val_accuracy: 0.4691 - val_loss: 0.7017\n",
      "Epoch 34/100\n",
      "39/39 - 0s - 13ms/step - accuracy: 0.5233 - loss: 0.6999 - val_accuracy: 0.4691 - val_loss: 0.7015\n",
      "Epoch 35/100\n",
      "39/39 - 0s - 7ms/step - accuracy: 0.5257 - loss: 0.6996 - val_accuracy: 0.4691 - val_loss: 0.7012\n",
      "Epoch 36/100\n",
      "39/39 - 0s - 6ms/step - accuracy: 0.5257 - loss: 0.6993 - val_accuracy: 0.4723 - val_loss: 0.7010\n",
      "Epoch 37/100\n",
      "39/39 - 0s - 6ms/step - accuracy: 0.5265 - loss: 0.6990 - val_accuracy: 0.4756 - val_loss: 0.7008\n",
      "Epoch 38/100\n",
      "39/39 - 0s - 6ms/step - accuracy: 0.5257 - loss: 0.6987 - val_accuracy: 0.4788 - val_loss: 0.7006\n",
      "Epoch 39/100\n",
      "39/39 - 0s - 6ms/step - accuracy: 0.5282 - loss: 0.6984 - val_accuracy: 0.4821 - val_loss: 0.7004\n",
      "Epoch 40/100\n",
      "39/39 - 0s - 6ms/step - accuracy: 0.5273 - loss: 0.6981 - val_accuracy: 0.4821 - val_loss: 0.7002\n",
      "Epoch 41/100\n",
      "39/39 - 0s - 8ms/step - accuracy: 0.5257 - loss: 0.6978 - val_accuracy: 0.4853 - val_loss: 0.7000\n",
      "Epoch 42/100\n",
      "39/39 - 0s - 6ms/step - accuracy: 0.5257 - loss: 0.6975 - val_accuracy: 0.4853 - val_loss: 0.6998\n",
      "Epoch 43/100\n",
      "39/39 - 0s - 6ms/step - accuracy: 0.5249 - loss: 0.6972 - val_accuracy: 0.4886 - val_loss: 0.6997\n",
      "Epoch 44/100\n",
      "39/39 - 0s - 6ms/step - accuracy: 0.5257 - loss: 0.6969 - val_accuracy: 0.4886 - val_loss: 0.6995\n",
      "Epoch 45/100\n",
      "39/39 - 0s - 6ms/step - accuracy: 0.5257 - loss: 0.6967 - val_accuracy: 0.4886 - val_loss: 0.6994\n",
      "Epoch 46/100\n",
      "39/39 - 0s - 6ms/step - accuracy: 0.5273 - loss: 0.6964 - val_accuracy: 0.4886 - val_loss: 0.6992\n",
      "Epoch 47/100\n",
      "39/39 - 0s - 6ms/step - accuracy: 0.5273 - loss: 0.6962 - val_accuracy: 0.4853 - val_loss: 0.6990\n",
      "Epoch 48/100\n",
      "39/39 - 0s - 9ms/step - accuracy: 0.5265 - loss: 0.6959 - val_accuracy: 0.4853 - val_loss: 0.6988\n",
      "Epoch 49/100\n",
      "39/39 - 0s - 6ms/step - accuracy: 0.5265 - loss: 0.6957 - val_accuracy: 0.4853 - val_loss: 0.6987\n",
      "Epoch 50/100\n",
      "39/39 - 0s - 6ms/step - accuracy: 0.5273 - loss: 0.6955 - val_accuracy: 0.4886 - val_loss: 0.6986\n",
      "Epoch 51/100\n",
      "39/39 - 0s - 6ms/step - accuracy: 0.5265 - loss: 0.6953 - val_accuracy: 0.4886 - val_loss: 0.6984\n",
      "Epoch 52/100\n",
      "39/39 - 0s - 6ms/step - accuracy: 0.5265 - loss: 0.6951 - val_accuracy: 0.4886 - val_loss: 0.6983\n",
      "Epoch 53/100\n",
      "39/39 - 0s - 10ms/step - accuracy: 0.5282 - loss: 0.6949 - val_accuracy: 0.4886 - val_loss: 0.6983\n",
      "Epoch 54/100\n",
      "39/39 - 0s - 7ms/step - accuracy: 0.5282 - loss: 0.6947 - val_accuracy: 0.4886 - val_loss: 0.6982\n",
      "Epoch 55/100\n",
      "39/39 - 0s - 6ms/step - accuracy: 0.5290 - loss: 0.6946 - val_accuracy: 0.4886 - val_loss: 0.6981\n",
      "Epoch 56/100\n",
      "39/39 - 0s - 6ms/step - accuracy: 0.5282 - loss: 0.6944 - val_accuracy: 0.4886 - val_loss: 0.6980\n",
      "Epoch 57/100\n",
      "39/39 - 0s - 7ms/step - accuracy: 0.5282 - loss: 0.6943 - val_accuracy: 0.4886 - val_loss: 0.6980\n",
      "Epoch 58/100\n",
      "39/39 - 0s - 6ms/step - accuracy: 0.5282 - loss: 0.6941 - val_accuracy: 0.4886 - val_loss: 0.6979\n",
      "Epoch 59/100\n",
      "39/39 - 0s - 6ms/step - accuracy: 0.5265 - loss: 0.6940 - val_accuracy: 0.4886 - val_loss: 0.6979\n",
      "Epoch 60/100\n",
      "39/39 - 0s - 8ms/step - accuracy: 0.5265 - loss: 0.6939 - val_accuracy: 0.4886 - val_loss: 0.6978\n",
      "Epoch 61/100\n",
      "39/39 - 0s - 6ms/step - accuracy: 0.5257 - loss: 0.6937 - val_accuracy: 0.4886 - val_loss: 0.6978\n",
      "Epoch 62/100\n",
      "39/39 - 0s - 7ms/step - accuracy: 0.5257 - loss: 0.6936 - val_accuracy: 0.4886 - val_loss: 0.6977\n",
      "Epoch 63/100\n",
      "39/39 - 0s - 7ms/step - accuracy: 0.5257 - loss: 0.6935 - val_accuracy: 0.4919 - val_loss: 0.6977\n",
      "Epoch 64/100\n",
      "39/39 - 0s - 6ms/step - accuracy: 0.5265 - loss: 0.6934 - val_accuracy: 0.4919 - val_loss: 0.6976\n",
      "Epoch 65/100\n",
      "39/39 - 0s - 6ms/step - accuracy: 0.5265 - loss: 0.6933 - val_accuracy: 0.4886 - val_loss: 0.6976\n",
      "Epoch 66/100\n",
      "39/39 - 0s - 6ms/step - accuracy: 0.5273 - loss: 0.6932 - val_accuracy: 0.4886 - val_loss: 0.6975\n",
      "Epoch 67/100\n",
      "39/39 - 0s - 6ms/step - accuracy: 0.5273 - loss: 0.6932 - val_accuracy: 0.4886 - val_loss: 0.6975\n",
      "Epoch 68/100\n",
      "39/39 - 0s - 8ms/step - accuracy: 0.5290 - loss: 0.6931 - val_accuracy: 0.4886 - val_loss: 0.6974\n",
      "Epoch 69/100\n",
      "39/39 - 0s - 6ms/step - accuracy: 0.5290 - loss: 0.6930 - val_accuracy: 0.4886 - val_loss: 0.6974\n",
      "Epoch 70/100\n",
      "39/39 - 0s - 7ms/step - accuracy: 0.5290 - loss: 0.6929 - val_accuracy: 0.4886 - val_loss: 0.6974\n",
      "Epoch 71/100\n",
      "39/39 - 0s - 6ms/step - accuracy: 0.5290 - loss: 0.6929 - val_accuracy: 0.4886 - val_loss: 0.6973\n",
      "Epoch 72/100\n",
      "39/39 - 0s - 6ms/step - accuracy: 0.5290 - loss: 0.6928 - val_accuracy: 0.4886 - val_loss: 0.6973\n",
      "Epoch 73/100\n",
      "39/39 - 0s - 6ms/step - accuracy: 0.5290 - loss: 0.6928 - val_accuracy: 0.4886 - val_loss: 0.6973\n",
      "Epoch 74/100\n",
      "39/39 - 0s - 6ms/step - accuracy: 0.5290 - loss: 0.6927 - val_accuracy: 0.4951 - val_loss: 0.6972\n",
      "Epoch 75/100\n",
      "39/39 - 0s - 6ms/step - accuracy: 0.5290 - loss: 0.6927 - val_accuracy: 0.4951 - val_loss: 0.6972\n",
      "Epoch 76/100\n",
      "39/39 - 0s - 7ms/step - accuracy: 0.5290 - loss: 0.6926 - val_accuracy: 0.4951 - val_loss: 0.6972\n",
      "Epoch 77/100\n",
      "39/39 - 0s - 6ms/step - accuracy: 0.5298 - loss: 0.6926 - val_accuracy: 0.4951 - val_loss: 0.6972\n",
      "Epoch 78/100\n",
      "39/39 - 0s - 6ms/step - accuracy: 0.5298 - loss: 0.6925 - val_accuracy: 0.4951 - val_loss: 0.6971\n",
      "Epoch 79/100\n",
      "39/39 - 0s - 6ms/step - accuracy: 0.5298 - loss: 0.6925 - val_accuracy: 0.4951 - val_loss: 0.6971\n",
      "Epoch 80/100\n",
      "39/39 - 0s - 6ms/step - accuracy: 0.5298 - loss: 0.6924 - val_accuracy: 0.4951 - val_loss: 0.6971\n",
      "Epoch 81/100\n",
      "39/39 - 0s - 6ms/step - accuracy: 0.5298 - loss: 0.6924 - val_accuracy: 0.4951 - val_loss: 0.6970\n",
      "Epoch 82/100\n",
      "39/39 - 0s - 6ms/step - accuracy: 0.5298 - loss: 0.6924 - val_accuracy: 0.4951 - val_loss: 0.6970\n",
      "Epoch 83/100\n",
      "39/39 - 0s - 6ms/step - accuracy: 0.5298 - loss: 0.6923 - val_accuracy: 0.4951 - val_loss: 0.6970\n",
      "Epoch 84/100\n",
      "39/39 - 0s - 6ms/step - accuracy: 0.5290 - loss: 0.6923 - val_accuracy: 0.4919 - val_loss: 0.6970\n",
      "Epoch 85/100\n",
      "39/39 - 0s - 6ms/step - accuracy: 0.5290 - loss: 0.6923 - val_accuracy: 0.4919 - val_loss: 0.6969\n",
      "Epoch 86/100\n",
      "39/39 - 0s - 6ms/step - accuracy: 0.5290 - loss: 0.6922 - val_accuracy: 0.4919 - val_loss: 0.6969\n",
      "Epoch 87/100\n",
      "39/39 - 0s - 6ms/step - accuracy: 0.5290 - loss: 0.6922 - val_accuracy: 0.4919 - val_loss: 0.6969\n",
      "Epoch 88/100\n",
      "39/39 - 0s - 6ms/step - accuracy: 0.5290 - loss: 0.6922 - val_accuracy: 0.4951 - val_loss: 0.6969\n",
      "Epoch 89/100\n",
      "39/39 - 0s - 6ms/step - accuracy: 0.5290 - loss: 0.6921 - val_accuracy: 0.4951 - val_loss: 0.6968\n",
      "Epoch 90/100\n",
      "39/39 - 0s - 6ms/step - accuracy: 0.5290 - loss: 0.6921 - val_accuracy: 0.4951 - val_loss: 0.6968\n",
      "Epoch 91/100\n",
      "39/39 - 0s - 6ms/step - accuracy: 0.5290 - loss: 0.6921 - val_accuracy: 0.4951 - val_loss: 0.6968\n",
      "Epoch 92/100\n",
      "39/39 - 0s - 6ms/step - accuracy: 0.5290 - loss: 0.6920 - val_accuracy: 0.4951 - val_loss: 0.6968\n",
      "Epoch 93/100\n",
      "39/39 - 0s - 6ms/step - accuracy: 0.5290 - loss: 0.6920 - val_accuracy: 0.4951 - val_loss: 0.6967\n",
      "Epoch 94/100\n",
      "39/39 - 0s - 6ms/step - accuracy: 0.5290 - loss: 0.6920 - val_accuracy: 0.4951 - val_loss: 0.6967\n",
      "Epoch 95/100\n",
      "39/39 - 0s - 6ms/step - accuracy: 0.5290 - loss: 0.6919 - val_accuracy: 0.4951 - val_loss: 0.6967\n",
      "Epoch 96/100\n",
      "39/39 - 0s - 7ms/step - accuracy: 0.5298 - loss: 0.6919 - val_accuracy: 0.4951 - val_loss: 0.6967\n",
      "Epoch 97/100\n",
      "39/39 - 0s - 7ms/step - accuracy: 0.5298 - loss: 0.6919 - val_accuracy: 0.4951 - val_loss: 0.6966\n",
      "Epoch 98/100\n",
      "39/39 - 0s - 6ms/step - accuracy: 0.5290 - loss: 0.6919 - val_accuracy: 0.4951 - val_loss: 0.6966\n",
      "Epoch 99/100\n",
      "39/39 - 0s - 6ms/step - accuracy: 0.5290 - loss: 0.6918 - val_accuracy: 0.4951 - val_loss: 0.6966\n",
      "Epoch 100/100\n",
      "39/39 - 0s - 6ms/step - accuracy: 0.5290 - loss: 0.6918 - val_accuracy: 0.4951 - val_loss: 0.6966\n"
     ]
    }
   ],
   "source": [
    "history = model.fit(\n",
    "    X_train,\n",
    "    y_train,\n",
    "    validation_split=0.2,\n",
    "    epochs=100,\n",
    "    batch_size=32,\n",
    "    verbose=2,\n",
    ")"
   ]
  },
  {
   "cell_type": "code",
   "execution_count": 871,
   "id": "0cabb16c-aeba-4aad-849f-51033da354fd",
   "metadata": {},
   "outputs": [
    {
     "name": "stdout",
     "output_type": "stream",
     "text": [
      "\u001b[1m12/12\u001b[0m \u001b[32m━━━━━━━━━━━━━━━━━━━━\u001b[0m\u001b[37m\u001b[0m \u001b[1m0s\u001b[0m 4ms/step \n",
      "\u001b[1m12/12\u001b[0m \u001b[32m━━━━━━━━━━━━━━━━━━━━\u001b[0m\u001b[37m\u001b[0m \u001b[1m0s\u001b[0m 6ms/step - accuracy: 0.5556 - loss: 0.6953 \n",
      "Model accuracy in test:  [0.6983429789543152, 0.5546875]\n"
     ]
    }
   ],
   "source": [
    "y_prob = model.predict(X_test)\n",
    "y_pred = np.where(y_prob > 0.50, 1, 0)\n",
    "\n",
    "acc = model.evaluate(X_test, y_test)\n",
    "print(\"Model accuracy in test: \", acc) #outputs the loss and the accuracy"
   ]
  },
  {
   "cell_type": "markdown",
   "id": "5b0bc11f-01e6-4a58-a936-49475e5e14aa",
   "metadata": {},
   "source": [
    "**Now, let us similarly try to create a predictive model for the fractionally differenced series.**"
   ]
  },
  {
   "cell_type": "code",
   "execution_count": 912,
   "id": "e79286e5-f183-458b-ae62-0dfaf1244078",
   "metadata": {},
   "outputs": [],
   "source": [
    "frac_diff_series_mlp = frac_diff_series.to_frame()"
   ]
  },
  {
   "cell_type": "code",
   "execution_count": 914,
   "id": "350e114b-7f4f-40a5-9827-0c8e4417a131",
   "metadata": {},
   "outputs": [
    {
     "data": {
      "text/plain": [
       "(1967, 1)"
      ]
     },
     "execution_count": 914,
     "metadata": {},
     "output_type": "execute_result"
    }
   ],
   "source": [
    "frac_diff_series_mlp.shape"
   ]
  },
  {
   "cell_type": "code",
   "execution_count": 916,
   "id": "16827360-eb30-4fce-a668-3c1c66a5f535",
   "metadata": {},
   "outputs": [],
   "source": [
    "frac_diff_series_mlp[\"1d_returns\"] = frac_diff_series.pct_change()"
   ]
  },
  {
   "cell_type": "code",
   "execution_count": 918,
   "id": "ab51dd65-7aef-4a13-abf1-3994abdca378",
   "metadata": {},
   "outputs": [],
   "source": [
    "frac_diff_series_mlp[\"10d_returns\"] = frac_diff_series_mlp[\"1d_returns\"].rolling(10).apply(lambda x: (1+ x).prod())\n",
    "frac_diff_series_mlp[\"60d_returns\"] = frac_diff_series_mlp[\"1d_returns\"].rolling(60).apply(lambda x: (1+ x).prod())\n",
    "frac_diff_series_mlp[\"150d_returns\"] = frac_diff_series_mlp[\"1d_returns\"].rolling(150).apply(lambda x: (1+ x).prod())"
   ]
  },
  {
   "cell_type": "code",
   "execution_count": 919,
   "id": "5b639a67-8f7f-4bc1-9b05-41b71e2d2fb5",
   "metadata": {},
   "outputs": [],
   "source": [
    "frac_diff_series_mlp.dropna(inplace=True)"
   ]
  },
  {
   "cell_type": "code",
   "execution_count": 920,
   "id": "b855e556-66c4-4879-b1ee-46030bbd65d8",
   "metadata": {},
   "outputs": [
    {
     "data": {
      "text/plain": [
       "(1817, 5)"
      ]
     },
     "execution_count": 920,
     "metadata": {},
     "output_type": "execute_result"
    }
   ],
   "source": [
    "frac_diff_series_mlp.shape"
   ]
  },
  {
   "cell_type": "code",
   "execution_count": 921,
   "id": "538c055c-eb7d-47b3-9ae4-ad0981aa2dd8",
   "metadata": {},
   "outputs": [],
   "source": [
    "frac_diff_series_mlp[\"next_10d_returns\"] = (frac_diff_series_mlp[\"10d_returns\"].shift(10)>0).astype(int) #this is our target column. \n",
    "frac_diff_series_mlp.dropna(inplace=True)"
   ]
  },
  {
   "cell_type": "code",
   "execution_count": 922,
   "id": "d73e5ba3-60c3-4b65-ae3a-fd9ff90a02bd",
   "metadata": {},
   "outputs": [],
   "source": [
    "X = frac_diff_series_mlp[['1d_returns', '10d_returns', '60d_returns', '150d_returns']]\n",
    "y = frac_diff_series_mlp['next_10d_returns']"
   ]
  },
  {
   "cell_type": "code",
   "execution_count": 928,
   "id": "ebae5a38-3f26-4666-a1ba-d1095a3be227",
   "metadata": {},
   "outputs": [],
   "source": [
    "X_train, X_test, y_train, y_test = train_test_split(X, y, test_size=0.2, shuffle=False) #train-test split"
   ]
  },
  {
   "cell_type": "code",
   "execution_count": 930,
   "id": "ffbfabc3-979d-439f-b967-bce428d761d7",
   "metadata": {},
   "outputs": [],
   "source": [
    "model = tf.keras.models.Sequential()\n",
    "model.add(tf.keras.layers.Dense(units=hp_units_1, activation=act_fun))\n",
    "#model.add(tf.keras.layers.Dropout(n_dropout))\n",
    "model.add(tf.keras.layers.Dense(units=hp_units_2, activation=act_fun))\n",
    "model.add(tf.keras.layers.Dense(units=hp_units_2, activation=act_fun))\n",
    "model.add(tf.keras.layers.Dense(units=hp_units_2, activation=act_fun))\n",
    "#model.add(tf.keras.layers.Dropout(n_dropout))\n",
    "#model.add(tf.keras.layers.Dropout(n_dropout))\n",
    "model.add(tf.keras.layers.Dense(units=1, activation=\"sigmoid\")) #activation function"
   ]
  },
  {
   "cell_type": "code",
   "execution_count": 932,
   "id": "7442fea7-d0e6-461b-836a-5335c69d1d5a",
   "metadata": {},
   "outputs": [],
   "source": [
    "hp_lr = 1e-3  # Learning rate\n",
    "adam = tf.keras.optimizers.Adam(learning_rate=hp_lr)  # Adam optimizer\n",
    "model.compile(optimizer=adam, loss=\"binary_crossentropy\", metrics=[\"accuracy\"])"
   ]
  },
  {
   "cell_type": "code",
   "execution_count": 934,
   "id": "60ae60da-4b9f-4ec1-b314-6d478bc21f84",
   "metadata": {},
   "outputs": [
    {
     "data": {
      "text/plain": [
       "next_10d_returns\n",
       "1    1163\n",
       "0     290\n",
       "Name: count, dtype: int64"
      ]
     },
     "execution_count": 934,
     "metadata": {},
     "output_type": "execute_result"
    }
   ],
   "source": [
    "y_train.value_counts()"
   ]
  },
  {
   "cell_type": "code",
   "execution_count": 936,
   "id": "49b3290c-c111-487c-b49e-5923ff2afc4f",
   "metadata": {},
   "outputs": [],
   "source": [
    "class_weight = {0: 1 / (1 - np.mean(y_train)), 1: 1.0}\n",
    " #balancing the classes"
   ]
  },
  {
   "cell_type": "code",
   "execution_count": 938,
   "id": "58f88ed2-1ca5-457a-804a-172b19cdfbac",
   "metadata": {},
   "outputs": [
    {
     "name": "stdout",
     "output_type": "stream",
     "text": [
      "Epoch 1/100\n",
      "37/37 - 3s - 88ms/step - accuracy: 0.2091 - loss: 1.2345 - val_accuracy: 0.1615 - val_loss: 0.9911\n",
      "Epoch 2/100\n",
      "37/37 - 0s - 6ms/step - accuracy: 0.2091 - loss: 1.2151 - val_accuracy: 0.1615 - val_loss: 0.9714\n",
      "Epoch 3/100\n",
      "37/37 - 0s - 7ms/step - accuracy: 0.2091 - loss: 1.2048 - val_accuracy: 0.1615 - val_loss: 0.9573\n",
      "Epoch 4/100\n",
      "37/37 - 0s - 7ms/step - accuracy: 0.2091 - loss: 1.1970 - val_accuracy: 0.1615 - val_loss: 0.9593\n",
      "Epoch 5/100\n",
      "37/37 - 0s - 7ms/step - accuracy: 0.2091 - loss: 1.1909 - val_accuracy: 0.1615 - val_loss: 0.9591\n",
      "Epoch 6/100\n",
      "37/37 - 0s - 8ms/step - accuracy: 0.2091 - loss: 1.1849 - val_accuracy: 0.1615 - val_loss: 0.9568\n",
      "Epoch 7/100\n",
      "37/37 - 0s - 7ms/step - accuracy: 0.2091 - loss: 1.1790 - val_accuracy: 0.1615 - val_loss: 0.9391\n",
      "Epoch 8/100\n",
      "37/37 - 0s - 8ms/step - accuracy: 0.2091 - loss: 1.1730 - val_accuracy: 0.1615 - val_loss: 0.9249\n",
      "Epoch 9/100\n",
      "37/37 - 0s - 8ms/step - accuracy: 0.3107 - loss: 1.1672 - val_accuracy: 0.4021 - val_loss: 0.9157\n",
      "Epoch 10/100\n",
      "37/37 - 0s - 6ms/step - accuracy: 0.4449 - loss: 1.1627 - val_accuracy: 0.4742 - val_loss: 0.9079\n",
      "Epoch 11/100\n",
      "37/37 - 0s - 6ms/step - accuracy: 0.5155 - loss: 1.1588 - val_accuracy: 0.5670 - val_loss: 0.9071\n",
      "Epoch 12/100\n",
      "37/37 - 0s - 7ms/step - accuracy: 0.5628 - loss: 1.1554 - val_accuracy: 0.6014 - val_loss: 0.9334\n",
      "Epoch 13/100\n",
      "37/37 - 0s - 6ms/step - accuracy: 0.5852 - loss: 1.1527 - val_accuracy: 0.6460 - val_loss: 0.9222\n",
      "Epoch 14/100\n",
      "37/37 - 0s - 7ms/step - accuracy: 0.6015 - loss: 1.1496 - val_accuracy: 0.6598 - val_loss: 0.9356\n",
      "Epoch 15/100\n",
      "37/37 - 0s - 7ms/step - accuracy: 0.6239 - loss: 1.1480 - val_accuracy: 0.6804 - val_loss: 0.9023\n",
      "Epoch 16/100\n",
      "37/37 - 0s - 7ms/step - accuracy: 0.6308 - loss: 1.1452 - val_accuracy: 0.6873 - val_loss: 0.9068\n",
      "Epoch 17/100\n",
      "37/37 - 0s - 7ms/step - accuracy: 0.6377 - loss: 1.1439 - val_accuracy: 0.7148 - val_loss: 0.8702\n",
      "Epoch 18/100\n",
      "37/37 - 0s - 7ms/step - accuracy: 0.6480 - loss: 1.1421 - val_accuracy: 0.7148 - val_loss: 0.8799\n",
      "Epoch 19/100\n",
      "37/37 - 0s - 7ms/step - accuracy: 0.6549 - loss: 1.1407 - val_accuracy: 0.7148 - val_loss: 0.8633\n",
      "Epoch 20/100\n",
      "37/37 - 0s - 6ms/step - accuracy: 0.6558 - loss: 1.1393 - val_accuracy: 0.7148 - val_loss: 0.8679\n",
      "Epoch 21/100\n",
      "37/37 - 0s - 7ms/step - accuracy: 0.6549 - loss: 1.1386 - val_accuracy: 0.7182 - val_loss: 0.8522\n",
      "Epoch 22/100\n",
      "37/37 - 0s - 6ms/step - accuracy: 0.6558 - loss: 1.1365 - val_accuracy: 0.7148 - val_loss: 0.8724\n",
      "Epoch 23/100\n",
      "37/37 - 0s - 6ms/step - accuracy: 0.6558 - loss: 1.1369 - val_accuracy: 0.7148 - val_loss: 0.8426\n",
      "Epoch 24/100\n",
      "37/37 - 0s - 7ms/step - accuracy: 0.6575 - loss: 1.1347 - val_accuracy: 0.7148 - val_loss: 0.8639\n",
      "Epoch 25/100\n",
      "37/37 - 0s - 6ms/step - accuracy: 0.6566 - loss: 1.1347 - val_accuracy: 0.7148 - val_loss: 0.8341\n",
      "Epoch 26/100\n",
      "37/37 - 0s - 6ms/step - accuracy: 0.6592 - loss: 1.1327 - val_accuracy: 0.7148 - val_loss: 0.8595\n",
      "Epoch 27/100\n",
      "37/37 - 0s - 7ms/step - accuracy: 0.6558 - loss: 1.1330 - val_accuracy: 0.7182 - val_loss: 0.8261\n",
      "Epoch 28/100\n",
      "37/37 - 0s - 6ms/step - accuracy: 0.6532 - loss: 1.1313 - val_accuracy: 0.7113 - val_loss: 0.8562\n",
      "Epoch 29/100\n",
      "37/37 - 0s - 7ms/step - accuracy: 0.6549 - loss: 1.1310 - val_accuracy: 0.7148 - val_loss: 0.8209\n",
      "Epoch 30/100\n",
      "37/37 - 0s - 7ms/step - accuracy: 0.6575 - loss: 1.1298 - val_accuracy: 0.7113 - val_loss: 0.8476\n",
      "Epoch 31/100\n",
      "37/37 - 0s - 7ms/step - accuracy: 0.6566 - loss: 1.1295 - val_accuracy: 0.7113 - val_loss: 0.8253\n",
      "Epoch 32/100\n",
      "37/37 - 0s - 7ms/step - accuracy: 0.6583 - loss: 1.1283 - val_accuracy: 0.7079 - val_loss: 0.8436\n",
      "Epoch 33/100\n",
      "37/37 - 0s - 7ms/step - accuracy: 0.6558 - loss: 1.1283 - val_accuracy: 0.7182 - val_loss: 0.8198\n",
      "Epoch 34/100\n",
      "37/37 - 0s - 7ms/step - accuracy: 0.6601 - loss: 1.1266 - val_accuracy: 0.7113 - val_loss: 0.8406\n",
      "Epoch 35/100\n",
      "37/37 - 0s - 6ms/step - accuracy: 0.6601 - loss: 1.1265 - val_accuracy: 0.7148 - val_loss: 0.8243\n",
      "Epoch 36/100\n",
      "37/37 - 0s - 6ms/step - accuracy: 0.6575 - loss: 1.1261 - val_accuracy: 0.7148 - val_loss: 0.8355\n",
      "Epoch 37/100\n",
      "37/37 - 0s - 7ms/step - accuracy: 0.6575 - loss: 1.1254 - val_accuracy: 0.7148 - val_loss: 0.8240\n",
      "Epoch 38/100\n",
      "37/37 - 0s - 7ms/step - accuracy: 0.6566 - loss: 1.1240 - val_accuracy: 0.7113 - val_loss: 0.8455\n",
      "Epoch 39/100\n",
      "37/37 - 0s - 6ms/step - accuracy: 0.6558 - loss: 1.1240 - val_accuracy: 0.7113 - val_loss: 0.8258\n",
      "Epoch 40/100\n",
      "37/37 - 0s - 7ms/step - accuracy: 0.6575 - loss: 1.1230 - val_accuracy: 0.7113 - val_loss: 0.8336\n",
      "Epoch 41/100\n",
      "37/37 - 0s - 7ms/step - accuracy: 0.6583 - loss: 1.1226 - val_accuracy: 0.7182 - val_loss: 0.8257\n",
      "Epoch 42/100\n",
      "37/37 - 0s - 7ms/step - accuracy: 0.6566 - loss: 1.1211 - val_accuracy: 0.7148 - val_loss: 0.8487\n",
      "Epoch 43/100\n",
      "37/37 - 0s - 7ms/step - accuracy: 0.6583 - loss: 1.1208 - val_accuracy: 0.7148 - val_loss: 0.8332\n",
      "Epoch 44/100\n",
      "37/37 - 0s - 7ms/step - accuracy: 0.6583 - loss: 1.1195 - val_accuracy: 0.7148 - val_loss: 0.8507\n",
      "Epoch 45/100\n",
      "37/37 - 0s - 6ms/step - accuracy: 0.6601 - loss: 1.1191 - val_accuracy: 0.7182 - val_loss: 0.8348\n",
      "Epoch 46/100\n",
      "37/37 - 0s - 7ms/step - accuracy: 0.6583 - loss: 1.1178 - val_accuracy: 0.7113 - val_loss: 0.8535\n",
      "Epoch 47/100\n",
      "37/37 - 0s - 7ms/step - accuracy: 0.6635 - loss: 1.1177 - val_accuracy: 0.7182 - val_loss: 0.8310\n",
      "Epoch 48/100\n",
      "37/37 - 0s - 7ms/step - accuracy: 0.6627 - loss: 1.1163 - val_accuracy: 0.7148 - val_loss: 0.8526\n",
      "Epoch 49/100\n",
      "37/37 - 0s - 8ms/step - accuracy: 0.6644 - loss: 1.1160 - val_accuracy: 0.7148 - val_loss: 0.8349\n",
      "Epoch 50/100\n",
      "37/37 - 0s - 8ms/step - accuracy: 0.6627 - loss: 1.1150 - val_accuracy: 0.7216 - val_loss: 0.8405\n",
      "Epoch 51/100\n",
      "37/37 - 0s - 7ms/step - accuracy: 0.6678 - loss: 1.1145 - val_accuracy: 0.7216 - val_loss: 0.8411\n",
      "Epoch 52/100\n",
      "37/37 - 0s - 7ms/step - accuracy: 0.6652 - loss: 1.1136 - val_accuracy: 0.7182 - val_loss: 0.8470\n",
      "Epoch 53/100\n",
      "37/37 - 0s - 6ms/step - accuracy: 0.6670 - loss: 1.1134 - val_accuracy: 0.7216 - val_loss: 0.8380\n",
      "Epoch 54/100\n",
      "37/37 - 0s - 7ms/step - accuracy: 0.6678 - loss: 1.1125 - val_accuracy: 0.7182 - val_loss: 0.8490\n",
      "Epoch 55/100\n",
      "37/37 - 0s - 7ms/step - accuracy: 0.6687 - loss: 1.1120 - val_accuracy: 0.7182 - val_loss: 0.8505\n",
      "Epoch 56/100\n",
      "37/37 - 0s - 6ms/step - accuracy: 0.6704 - loss: 1.1123 - val_accuracy: 0.7285 - val_loss: 0.8338\n",
      "Epoch 57/100\n",
      "37/37 - 0s - 6ms/step - accuracy: 0.6713 - loss: 1.1113 - val_accuracy: 0.7148 - val_loss: 0.8493\n",
      "Epoch 58/100\n",
      "37/37 - 0s - 7ms/step - accuracy: 0.6687 - loss: 1.1103 - val_accuracy: 0.7113 - val_loss: 0.8514\n",
      "Epoch 59/100\n",
      "37/37 - 0s - 7ms/step - accuracy: 0.6713 - loss: 1.1105 - val_accuracy: 0.7148 - val_loss: 0.8471\n",
      "Epoch 60/100\n",
      "37/37 - 0s - 7ms/step - accuracy: 0.6730 - loss: 1.1098 - val_accuracy: 0.7148 - val_loss: 0.8514\n",
      "Epoch 61/100\n",
      "37/37 - 0s - 7ms/step - accuracy: 0.6704 - loss: 1.1094 - val_accuracy: 0.7113 - val_loss: 0.8526\n",
      "Epoch 62/100\n",
      "37/37 - 0s - 6ms/step - accuracy: 0.6721 - loss: 1.1097 - val_accuracy: 0.7216 - val_loss: 0.8354\n",
      "Epoch 63/100\n",
      "37/37 - 0s - 6ms/step - accuracy: 0.6730 - loss: 1.1091 - val_accuracy: 0.7045 - val_loss: 0.8572\n",
      "Epoch 64/100\n",
      "37/37 - 0s - 7ms/step - accuracy: 0.6721 - loss: 1.1084 - val_accuracy: 0.7045 - val_loss: 0.8539\n",
      "Epoch 65/100\n",
      "37/37 - 0s - 7ms/step - accuracy: 0.6721 - loss: 1.1085 - val_accuracy: 0.7079 - val_loss: 0.8537\n",
      "Epoch 66/100\n",
      "37/37 - 0s - 7ms/step - accuracy: 0.6738 - loss: 1.1079 - val_accuracy: 0.7045 - val_loss: 0.8575\n",
      "Epoch 67/100\n",
      "37/37 - 0s - 6ms/step - accuracy: 0.6721 - loss: 1.1078 - val_accuracy: 0.7079 - val_loss: 0.8570\n",
      "Epoch 68/100\n",
      "37/37 - 0s - 7ms/step - accuracy: 0.6713 - loss: 1.1070 - val_accuracy: 0.7010 - val_loss: 0.8593\n",
      "Epoch 69/100\n",
      "37/37 - 0s - 8ms/step - accuracy: 0.6738 - loss: 1.1074 - val_accuracy: 0.7045 - val_loss: 0.8583\n",
      "Epoch 70/100\n",
      "37/37 - 0s - 6ms/step - accuracy: 0.6695 - loss: 1.1069 - val_accuracy: 0.7045 - val_loss: 0.8490\n",
      "Epoch 71/100\n",
      "37/37 - 0s - 6ms/step - accuracy: 0.6670 - loss: 1.1070 - val_accuracy: 0.6976 - val_loss: 0.8625\n",
      "Epoch 72/100\n",
      "37/37 - 0s - 6ms/step - accuracy: 0.6721 - loss: 1.1070 - val_accuracy: 0.7010 - val_loss: 0.8650\n",
      "Epoch 73/100\n",
      "37/37 - 0s - 6ms/step - accuracy: 0.6721 - loss: 1.1062 - val_accuracy: 0.7010 - val_loss: 0.8592\n",
      "Epoch 74/100\n",
      "37/37 - 0s - 6ms/step - accuracy: 0.6721 - loss: 1.1064 - val_accuracy: 0.7045 - val_loss: 0.8610\n",
      "Epoch 75/100\n",
      "37/37 - 0s - 7ms/step - accuracy: 0.6721 - loss: 1.1062 - val_accuracy: 0.7010 - val_loss: 0.8609\n",
      "Epoch 76/100\n",
      "37/37 - 0s - 7ms/step - accuracy: 0.6721 - loss: 1.1055 - val_accuracy: 0.7010 - val_loss: 0.8631\n",
      "Epoch 77/100\n",
      "37/37 - 0s - 6ms/step - accuracy: 0.6704 - loss: 1.1067 - val_accuracy: 0.7079 - val_loss: 0.8441\n",
      "Epoch 78/100\n",
      "37/37 - 0s - 8ms/step - accuracy: 0.6721 - loss: 1.1057 - val_accuracy: 0.7010 - val_loss: 0.8652\n",
      "Epoch 79/100\n",
      "37/37 - 0s - 7ms/step - accuracy: 0.6781 - loss: 1.1048 - val_accuracy: 0.6976 - val_loss: 0.8636\n",
      "Epoch 80/100\n",
      "37/37 - 0s - 7ms/step - accuracy: 0.6764 - loss: 1.1048 - val_accuracy: 0.6976 - val_loss: 0.8595\n",
      "Epoch 81/100\n",
      "37/37 - 0s - 7ms/step - accuracy: 0.6799 - loss: 1.1040 - val_accuracy: 0.6976 - val_loss: 0.8618\n",
      "Epoch 82/100\n",
      "37/37 - 0s - 7ms/step - accuracy: 0.6807 - loss: 1.1036 - val_accuracy: 0.7010 - val_loss: 0.8381\n",
      "Epoch 83/100\n",
      "37/37 - 0s - 7ms/step - accuracy: 0.6781 - loss: 1.1029 - val_accuracy: 0.6942 - val_loss: 0.8543\n",
      "Epoch 84/100\n",
      "37/37 - 0s - 6ms/step - accuracy: 0.6799 - loss: 1.1025 - val_accuracy: 0.6907 - val_loss: 0.8509\n",
      "Epoch 85/100\n",
      "37/37 - 0s - 7ms/step - accuracy: 0.6773 - loss: 1.1017 - val_accuracy: 0.6942 - val_loss: 0.8469\n",
      "Epoch 86/100\n",
      "37/37 - 0s - 7ms/step - accuracy: 0.6747 - loss: 1.1016 - val_accuracy: 0.6942 - val_loss: 0.8461\n",
      "Epoch 87/100\n",
      "37/37 - 0s - 7ms/step - accuracy: 0.6764 - loss: 1.1010 - val_accuracy: 0.6942 - val_loss: 0.8180\n",
      "Epoch 88/100\n",
      "37/37 - 0s - 7ms/step - accuracy: 0.6738 - loss: 1.1037 - val_accuracy: 0.6942 - val_loss: 0.8476\n",
      "Epoch 89/100\n",
      "37/37 - 0s - 6ms/step - accuracy: 0.6747 - loss: 1.1023 - val_accuracy: 0.6976 - val_loss: 0.8468\n",
      "Epoch 90/100\n",
      "37/37 - 0s - 6ms/step - accuracy: 0.6764 - loss: 1.1019 - val_accuracy: 0.6976 - val_loss: 0.8490\n",
      "Epoch 91/100\n",
      "37/37 - 0s - 7ms/step - accuracy: 0.6756 - loss: 1.1014 - val_accuracy: 0.6873 - val_loss: 0.8434\n",
      "Epoch 92/100\n",
      "37/37 - 0s - 7ms/step - accuracy: 0.6773 - loss: 1.1014 - val_accuracy: 0.6942 - val_loss: 0.8210\n",
      "Epoch 93/100\n",
      "37/37 - 0s - 7ms/step - accuracy: 0.6790 - loss: 1.1014 - val_accuracy: 0.6838 - val_loss: 0.8403\n",
      "Epoch 94/100\n",
      "37/37 - 0s - 7ms/step - accuracy: 0.6790 - loss: 1.1003 - val_accuracy: 0.6873 - val_loss: 0.8348\n",
      "Epoch 95/100\n",
      "37/37 - 0s - 7ms/step - accuracy: 0.6799 - loss: 1.0998 - val_accuracy: 0.6838 - val_loss: 0.8304\n",
      "Epoch 96/100\n",
      "37/37 - 0s - 7ms/step - accuracy: 0.6799 - loss: 1.0995 - val_accuracy: 0.6838 - val_loss: 0.8277\n",
      "Epoch 97/100\n",
      "37/37 - 0s - 6ms/step - accuracy: 0.6790 - loss: 1.0988 - val_accuracy: 0.6804 - val_loss: 0.7950\n",
      "Epoch 98/100\n",
      "37/37 - 0s - 6ms/step - accuracy: 0.6807 - loss: 1.0986 - val_accuracy: 0.6873 - val_loss: 0.8100\n",
      "Epoch 99/100\n",
      "37/37 - 0s - 6ms/step - accuracy: 0.6781 - loss: 1.0989 - val_accuracy: 0.6838 - val_loss: 0.8259\n",
      "Epoch 100/100\n",
      "37/37 - 0s - 6ms/step - accuracy: 0.6781 - loss: 1.0984 - val_accuracy: 0.6873 - val_loss: 0.8250\n"
     ]
    }
   ],
   "source": [
    "history = model.fit(\n",
    "    X_train,\n",
    "    y_train,\n",
    "    validation_split=0.2,\n",
    "    epochs=100, \n",
    "    batch_size=32,\n",
    "    verbose=2,\n",
    "    class_weight=class_weight\n",
    ")"
   ]
  },
  {
   "cell_type": "code",
   "execution_count": 940,
   "id": "adbb7117-a5f4-4ecc-b44a-a70d459f87a7",
   "metadata": {},
   "outputs": [
    {
     "name": "stdout",
     "output_type": "stream",
     "text": [
      "\u001b[1m12/12\u001b[0m \u001b[32m━━━━━━━━━━━━━━━━━━━━\u001b[0m\u001b[37m\u001b[0m \u001b[1m0s\u001b[0m 14ms/step\n",
      "\u001b[1m12/12\u001b[0m \u001b[32m━━━━━━━━━━━━━━━━━━━━\u001b[0m\u001b[37m\u001b[0m \u001b[1m0s\u001b[0m 7ms/step - accuracy: 0.7210 - loss: 0.6497 \n",
      "Model accuracy in test:  [0.6524090766906738, 0.708791196346283]\n"
     ]
    }
   ],
   "source": [
    "y_prob = model.predict(X_test)\n",
    "y_pred = np.where(y_prob > 0.50, 1, 0)\n",
    "\n",
    "acc = model.evaluate(X_test, y_test);\n",
    "print(\"Model accuracy in test: \", acc); #outputs the loss and the accuracy"
   ]
  },
  {
   "cell_type": "code",
   "execution_count": 942,
   "id": "251f0c4a-26a8-426e-ada0-bb4020bd77e6",
   "metadata": {},
   "outputs": [
    {
     "data": {
      "text/plain": [
       "array([[ 35,  26],\n",
       "       [ 80, 223]], dtype=int64)"
      ]
     },
     "execution_count": 942,
     "metadata": {},
     "output_type": "execute_result"
    }
   ],
   "source": [
    "result = confusion_matrix(y_test, y_pred)\n",
    "result"
   ]
  },
  {
   "cell_type": "markdown",
   "id": "d2555d7a-b9bb-414f-9702-bc6bae968efa",
   "metadata": {},
   "source": [
    "**Of the three series, the MLP model gets the best test accuracy for the original time series and the worst for the differenced time series. This counter-intuitively shows that removing the trend from the time series is probably not a good idea. However, let us now proceed to build our CNN model and see how it fares.**"
   ]
  },
  {
   "cell_type": "markdown",
   "id": "453b0628-2e31-461f-91d8-50b3d6e4baa8",
   "metadata": {},
   "source": [
    "## Step 3 "
   ]
  },
  {
   "cell_type": "markdown",
   "id": "138c7fa6-cac6-4f1d-84e2-2e8f5ef2b320",
   "metadata": {},
   "source": [
    "Now the build the Convolutional Neural Network Model"
   ]
  },
  {
   "cell_type": "code",
   "execution_count": 74,
   "id": "84fa9069-3ded-4cf0-bb9c-3ce2029f675a",
   "metadata": {},
   "outputs": [
    {
     "name": "stdout",
     "output_type": "stream",
     "text": [
      "(1938, 30)\n"
     ]
    },
    {
     "data": {
      "image/png": "[encoded data removed]",
      "text/plain": [
       "<Figure size 600x600 with 1 Axes>"
      ]
     },
     "metadata": {},
     "output_type": "display_data"
    }
   ],
   "source": [
    "scaler = MinMaxScaler()\n",
    "data = data.rolling(10).mean().dropna()\n",
    "data_scaled = scaler.fit_transform(data.to_frame())\n",
    "\n",
    "X_train = []\n",
    "window_size = 30\n",
    "for i in range(window_size, data_scaled.shape[0]):\n",
    "    X_train.append(data[i - window_size : i])\n",
    "X_train = np.array(X_train)\n",
    "print(X_train.shape)\n",
    "# Define a \"window_size\"-days interval\n",
    "days = np.linspace(1, X_train.shape[0], num=X_train.shape[0])\n",
    "# Plot the overlapping time series\n",
    "plt.figure(figsize=(6, 6))\n",
    "for i in range(241):\n",
    "    plt.plot(days[i : window_size + i], X_train[i, :])"
   ]
  },
  {
   "cell_type": "code",
   "execution_count": 76,
   "id": "bad20469-26d5-4789-a944-a92c6ef116a5",
   "metadata": {},
   "outputs": [
    {
     "name": "stdout",
     "output_type": "stream",
     "text": [
      "(1938, 30, 30)\n"
     ]
    }
   ],
   "source": [
    "transformer = GramianAngularField()\n",
    "X_train_new = transformer.transform(X_train)\n",
    "print(X_train_new.shape)"
   ]
  },
  {
   "cell_type": "code",
   "execution_count": 77,
   "id": "205811bf-fcef-43ff-b987-5c3a57fad0f6",
   "metadata": {},
   "outputs": [
    {
     "name": "stderr",
     "output_type": "stream",
     "text": [
      "C:\\Users\\susha\\AppData\\Local\\Temp\\ipykernel_13592\\1383070507.py:4: FutureWarning: Series.__getitem__ treating keys as positions is deprecated. In a future version, integer keys will always be treated as labels (consistent with DataFrame behavior). To access a value by position, use `ser.iloc[pos]`\n",
      "  y_data.append(data[i] < data[i + window_size])\n"
     ]
    },
    {
     "data": {
      "text/plain": [
       "(1908,)"
      ]
     },
     "execution_count": 77,
     "metadata": {},
     "output_type": "execute_result"
    }
   ],
   "source": [
    "# Generate the labels: 1 if price goes up after window_size days, 0 otherwise\n",
    "y_data = []\n",
    "for i in range(window_size, data.shape[0] - window_size):\n",
    "    y_data.append(data[i] < data[i + window_size])\n",
    "y_data = np.array(y_data)\n",
    "y_data.shape"
   ]
  },
  {
   "cell_type": "code",
   "execution_count": 78,
   "id": "faa54d81-7581-4a34-93e0-31b02043e708",
   "metadata": {},
   "outputs": [
    {
     "data": {
      "text/plain": [
       "(1908, 30, 30)"
      ]
     },
     "execution_count": 78,
     "metadata": {},
     "output_type": "execute_result"
    }
   ],
   "source": [
    "# Determine the examples to be used as inputs in the model and rescale them to the [0,255] scale\n",
    "X_data = X_train_new[:-window_size]\n",
    "for i in range(X_data.shape[0]):\n",
    "    X_data[i] = (X_data[i] - np.min(X_data[i])) / (\n",
    "        np.max(X_data[i]) - np.min(X_data[i])\n",
    "    )\n",
    "# We could simply write X_data = (X_data + 1)/2\n",
    "X_data = X_data * 255\n",
    "X_data.shape"
   ]
  },
  {
   "cell_type": "code",
   "execution_count": 79,
   "id": "c24d5e0b-9080-424c-b869-94ce7dbb35df",
   "metadata": {},
   "outputs": [],
   "source": [
    "# Split into train and test\n",
    "train_split = 0.8\n",
    "y_data_train = y_data[: int(train_split * y_data.shape[0])]\n",
    "y_data_test = y_data[int(train_split * y_data.shape[0]) :]\n",
    "X_data_train = X_data[: int(train_split * y_data.shape[0])]\n",
    "X_data_test = X_data[int(train_split * y_data.shape[0]) :]"
   ]
  },
  {
   "cell_type": "code",
   "execution_count": 80,
   "id": "cb811a9d-6436-43a9-aeb3-4e5e14f47b1b",
   "metadata": {},
   "outputs": [
    {
     "name": "stderr",
     "output_type": "stream",
     "text": [
      "C:\\Users\\susha\\anaconda3\\Lib\\site-packages\\keras\\src\\layers\\core\\input_layer.py:27: UserWarning: Argument `input_shape` is deprecated. Use `shape` instead.\n",
      "  warnings.warn(\n"
     ]
    }
   ],
   "source": [
    "model = tf.keras.Sequential()\n",
    "# Input layer\n",
    "model.add(tf.keras.layers.InputLayer(input_shape=(30, 30, 1)))\n",
    "model.add(tf.keras.layers.Conv2D(16, (3, 3), activation=\"relu\"))\n",
    "model.add(tf.keras.layers.MaxPooling2D((2, 2)))\n",
    "model.add(tf.keras.layers.Conv2D(32, (3, 3), activation=\"relu\"))\n",
    "model.add(tf.keras.layers.MaxPooling2D((2, 2)))\n",
    "model.add(tf.keras.layers.Conv2D(64, (3, 3), activation=\"relu\"))\n",
    "model.add(tf.keras.layers.MaxPooling2D(2))\n",
    "model.add(tf.keras.layers.Flatten())\n",
    "model.add(tf.keras.layers.Dense(32, activation=\"relu\"))\n",
    "#model.add(tf.keras.layers.Dropout(0.2, seed=1234))\n",
    "model.add(tf.keras.layers.Dense(1, activation=\"sigmoid\"))"
   ]
  },
  {
   "cell_type": "code",
   "execution_count": 81,
   "id": "3d91c41b-22bd-4968-9858-3c4e2b375d19",
   "metadata": {},
   "outputs": [
    {
     "data": {
      "text/html": [
       "<pre style=\"white-space:pre;overflow-x:auto;line-height:normal;font-family:Menlo,'DejaVu Sans Mono',consolas,'Courier New',monospace\"><span style=\"font-weight: bold\">Model: \"sequential\"</span>\n",
       "</pre>\n"
      ],
      "text/plain": [
       "\u001b[1mModel: \"sequential\"\u001b[0m\n"
      ]
     },
     "metadata": {},
     "output_type": "display_data"
    },
    {
     "data": {
      "text/html": [
       "<pre style=\"white-space:pre;overflow-x:auto;line-height:normal;font-family:Menlo,'DejaVu Sans Mono',consolas,'Courier New',monospace\">┏━━━━━━━━━━━━━━━━━━━━━━━━━━━━━━━━━━━━━━┳━━━━━━━━━━━━━━━━━━━━━━━━━━━━━┳━━━━━━━━━━━━━━━━━┓\n",
       "┃<span style=\"font-weight: bold\"> Layer (type)                         </span>┃<span style=\"font-weight: bold\"> Output Shape                </span>┃<span style=\"font-weight: bold\">         Param # </span>┃\n",
       "┡━━━━━━━━━━━━━━━━━━━━━━━━━━━━━━━━━━━━━━╇━━━━━━━━━━━━━━━━━━━━━━━━━━━━━╇━━━━━━━━━━━━━━━━━┩\n",
       "│ conv2d (<span style=\"color: #0087ff; text-decoration-color: #0087ff\">Conv2D</span>)                      │ (<span style=\"color: #00d7ff; text-decoration-color: #00d7ff\">None</span>, <span style=\"color: #00af00; text-decoration-color: #00af00\">28</span>, <span style=\"color: #00af00; text-decoration-color: #00af00\">28</span>, <span style=\"color: #00af00; text-decoration-color: #00af00\">16</span>)          │             <span style=\"color: #00af00; text-decoration-color: #00af00\">160</span> │\n",
       "├──────────────────────────────────────┼─────────────────────────────┼─────────────────┤\n",
       "│ max_pooling2d (<span style=\"color: #0087ff; text-decoration-color: #0087ff\">MaxPooling2D</span>)         │ (<span style=\"color: #00d7ff; text-decoration-color: #00d7ff\">None</span>, <span style=\"color: #00af00; text-decoration-color: #00af00\">14</span>, <span style=\"color: #00af00; text-decoration-color: #00af00\">14</span>, <span style=\"color: #00af00; text-decoration-color: #00af00\">16</span>)          │               <span style=\"color: #00af00; text-decoration-color: #00af00\">0</span> │\n",
       "├──────────────────────────────────────┼─────────────────────────────┼─────────────────┤\n",
       "│ conv2d_1 (<span style=\"color: #0087ff; text-decoration-color: #0087ff\">Conv2D</span>)                    │ (<span style=\"color: #00d7ff; text-decoration-color: #00d7ff\">None</span>, <span style=\"color: #00af00; text-decoration-color: #00af00\">12</span>, <span style=\"color: #00af00; text-decoration-color: #00af00\">12</span>, <span style=\"color: #00af00; text-decoration-color: #00af00\">32</span>)          │           <span style=\"color: #00af00; text-decoration-color: #00af00\">4,640</span> │\n",
       "├──────────────────────────────────────┼─────────────────────────────┼─────────────────┤\n",
       "│ max_pooling2d_1 (<span style=\"color: #0087ff; text-decoration-color: #0087ff\">MaxPooling2D</span>)       │ (<span style=\"color: #00d7ff; text-decoration-color: #00d7ff\">None</span>, <span style=\"color: #00af00; text-decoration-color: #00af00\">6</span>, <span style=\"color: #00af00; text-decoration-color: #00af00\">6</span>, <span style=\"color: #00af00; text-decoration-color: #00af00\">32</span>)            │               <span style=\"color: #00af00; text-decoration-color: #00af00\">0</span> │\n",
       "├──────────────────────────────────────┼─────────────────────────────┼─────────────────┤\n",
       "│ conv2d_2 (<span style=\"color: #0087ff; text-decoration-color: #0087ff\">Conv2D</span>)                    │ (<span style=\"color: #00d7ff; text-decoration-color: #00d7ff\">None</span>, <span style=\"color: #00af00; text-decoration-color: #00af00\">4</span>, <span style=\"color: #00af00; text-decoration-color: #00af00\">4</span>, <span style=\"color: #00af00; text-decoration-color: #00af00\">64</span>)            │          <span style=\"color: #00af00; text-decoration-color: #00af00\">18,496</span> │\n",
       "├──────────────────────────────────────┼─────────────────────────────┼─────────────────┤\n",
       "│ max_pooling2d_2 (<span style=\"color: #0087ff; text-decoration-color: #0087ff\">MaxPooling2D</span>)       │ (<span style=\"color: #00d7ff; text-decoration-color: #00d7ff\">None</span>, <span style=\"color: #00af00; text-decoration-color: #00af00\">2</span>, <span style=\"color: #00af00; text-decoration-color: #00af00\">2</span>, <span style=\"color: #00af00; text-decoration-color: #00af00\">64</span>)            │               <span style=\"color: #00af00; text-decoration-color: #00af00\">0</span> │\n",
       "├──────────────────────────────────────┼─────────────────────────────┼─────────────────┤\n",
       "│ flatten (<span style=\"color: #0087ff; text-decoration-color: #0087ff\">Flatten</span>)                    │ (<span style=\"color: #00d7ff; text-decoration-color: #00d7ff\">None</span>, <span style=\"color: #00af00; text-decoration-color: #00af00\">256</span>)                 │               <span style=\"color: #00af00; text-decoration-color: #00af00\">0</span> │\n",
       "├──────────────────────────────────────┼─────────────────────────────┼─────────────────┤\n",
       "│ dense (<span style=\"color: #0087ff; text-decoration-color: #0087ff\">Dense</span>)                        │ (<span style=\"color: #00d7ff; text-decoration-color: #00d7ff\">None</span>, <span style=\"color: #00af00; text-decoration-color: #00af00\">32</span>)                  │           <span style=\"color: #00af00; text-decoration-color: #00af00\">8,224</span> │\n",
       "├──────────────────────────────────────┼─────────────────────────────┼─────────────────┤\n",
       "│ dense_1 (<span style=\"color: #0087ff; text-decoration-color: #0087ff\">Dense</span>)                      │ (<span style=\"color: #00d7ff; text-decoration-color: #00d7ff\">None</span>, <span style=\"color: #00af00; text-decoration-color: #00af00\">1</span>)                   │              <span style=\"color: #00af00; text-decoration-color: #00af00\">33</span> │\n",
       "└──────────────────────────────────────┴─────────────────────────────┴─────────────────┘\n",
       "</pre>\n"
      ],
      "text/plain": [
       "┏━━━━━━━━━━━━━━━━━━━━━━━━━━━━━━━━━━━━━━┳━━━━━━━━━━━━━━━━━━━━━━━━━━━━━┳━━━━━━━━━━━━━━━━━┓\n",
       "┃\u001b[1m \u001b[0m\u001b[1mLayer (type)                        \u001b[0m\u001b[1m \u001b[0m┃\u001b[1m \u001b[0m\u001b[1mOutput Shape               \u001b[0m\u001b[1m \u001b[0m┃\u001b[1m \u001b[0m\u001b[1m        Param #\u001b[0m\u001b[1m \u001b[0m┃\n",
       "┡━━━━━━━━━━━━━━━━━━━━━━━━━━━━━━━━━━━━━━╇━━━━━━━━━━━━━━━━━━━━━━━━━━━━━╇━━━━━━━━━━━━━━━━━┩\n",
       "│ conv2d (\u001b[38;5;33mConv2D\u001b[0m)                      │ (\u001b[38;5;45mNone\u001b[0m, \u001b[38;5;34m28\u001b[0m, \u001b[38;5;34m28\u001b[0m, \u001b[38;5;34m16\u001b[0m)          │             \u001b[38;5;34m160\u001b[0m │\n",
       "├──────────────────────────────────────┼─────────────────────────────┼─────────────────┤\n",
       "│ max_pooling2d (\u001b[38;5;33mMaxPooling2D\u001b[0m)         │ (\u001b[38;5;45mNone\u001b[0m, \u001b[38;5;34m14\u001b[0m, \u001b[38;5;34m14\u001b[0m, \u001b[38;5;34m16\u001b[0m)          │               \u001b[38;5;34m0\u001b[0m │\n",
       "├──────────────────────────────────────┼─────────────────────────────┼─────────────────┤\n",
       "│ conv2d_1 (\u001b[38;5;33mConv2D\u001b[0m)                    │ (\u001b[38;5;45mNone\u001b[0m, \u001b[38;5;34m12\u001b[0m, \u001b[38;5;34m12\u001b[0m, \u001b[38;5;34m32\u001b[0m)          │           \u001b[38;5;34m4,640\u001b[0m │\n",
       "├──────────────────────────────────────┼─────────────────────────────┼─────────────────┤\n",
       "│ max_pooling2d_1 (\u001b[38;5;33mMaxPooling2D\u001b[0m)       │ (\u001b[38;5;45mNone\u001b[0m, \u001b[38;5;34m6\u001b[0m, \u001b[38;5;34m6\u001b[0m, \u001b[38;5;34m32\u001b[0m)            │               \u001b[38;5;34m0\u001b[0m │\n",
       "├──────────────────────────────────────┼─────────────────────────────┼─────────────────┤\n",
       "│ conv2d_2 (\u001b[38;5;33mConv2D\u001b[0m)                    │ (\u001b[38;5;45mNone\u001b[0m, \u001b[38;5;34m4\u001b[0m, \u001b[38;5;34m4\u001b[0m, \u001b[38;5;34m64\u001b[0m)            │          \u001b[38;5;34m18,496\u001b[0m │\n",
       "├──────────────────────────────────────┼─────────────────────────────┼─────────────────┤\n",
       "│ max_pooling2d_2 (\u001b[38;5;33mMaxPooling2D\u001b[0m)       │ (\u001b[38;5;45mNone\u001b[0m, \u001b[38;5;34m2\u001b[0m, \u001b[38;5;34m2\u001b[0m, \u001b[38;5;34m64\u001b[0m)            │               \u001b[38;5;34m0\u001b[0m │\n",
       "├──────────────────────────────────────┼─────────────────────────────┼─────────────────┤\n",
       "│ flatten (\u001b[38;5;33mFlatten\u001b[0m)                    │ (\u001b[38;5;45mNone\u001b[0m, \u001b[38;5;34m256\u001b[0m)                 │               \u001b[38;5;34m0\u001b[0m │\n",
       "├──────────────────────────────────────┼─────────────────────────────┼─────────────────┤\n",
       "│ dense (\u001b[38;5;33mDense\u001b[0m)                        │ (\u001b[38;5;45mNone\u001b[0m, \u001b[38;5;34m32\u001b[0m)                  │           \u001b[38;5;34m8,224\u001b[0m │\n",
       "├──────────────────────────────────────┼─────────────────────────────┼─────────────────┤\n",
       "│ dense_1 (\u001b[38;5;33mDense\u001b[0m)                      │ (\u001b[38;5;45mNone\u001b[0m, \u001b[38;5;34m1\u001b[0m)                   │              \u001b[38;5;34m33\u001b[0m │\n",
       "└──────────────────────────────────────┴─────────────────────────────┴─────────────────┘\n"
      ]
     },
     "metadata": {},
     "output_type": "display_data"
    },
    {
     "data": {
      "text/html": [
       "<pre style=\"white-space:pre;overflow-x:auto;line-height:normal;font-family:Menlo,'DejaVu Sans Mono',consolas,'Courier New',monospace\"><span style=\"font-weight: bold\"> Total params: </span><span style=\"color: #00af00; text-decoration-color: #00af00\">31,553</span> (123.25 KB)\n",
       "</pre>\n"
      ],
      "text/plain": [
       "\u001b[1m Total params: \u001b[0m\u001b[38;5;34m31,553\u001b[0m (123.25 KB)\n"
      ]
     },
     "metadata": {},
     "output_type": "display_data"
    },
    {
     "data": {
      "text/html": [
       "<pre style=\"white-space:pre;overflow-x:auto;line-height:normal;font-family:Menlo,'DejaVu Sans Mono',consolas,'Courier New',monospace\"><span style=\"font-weight: bold\"> Trainable params: </span><span style=\"color: #00af00; text-decoration-color: #00af00\">31,553</span> (123.25 KB)\n",
       "</pre>\n"
      ],
      "text/plain": [
       "\u001b[1m Trainable params: \u001b[0m\u001b[38;5;34m31,553\u001b[0m (123.25 KB)\n"
      ]
     },
     "metadata": {},
     "output_type": "display_data"
    },
    {
     "data": {
      "text/html": [
       "<pre style=\"white-space:pre;overflow-x:auto;line-height:normal;font-family:Menlo,'DejaVu Sans Mono',consolas,'Courier New',monospace\"><span style=\"font-weight: bold\"> Non-trainable params: </span><span style=\"color: #00af00; text-decoration-color: #00af00\">0</span> (0.00 B)\n",
       "</pre>\n"
      ],
      "text/plain": [
       "\u001b[1m Non-trainable params: \u001b[0m\u001b[38;5;34m0\u001b[0m (0.00 B)\n"
      ]
     },
     "metadata": {},
     "output_type": "display_data"
    }
   ],
   "source": [
    "model.summary()"
   ]
  },
  {
   "cell_type": "code",
   "execution_count": 82,
   "id": "1e42b060-f6ce-45c9-a58b-25b44637cf61",
   "metadata": {},
   "outputs": [
    {
     "name": "stdout",
     "output_type": "stream",
     "text": [
      "{0: 2.577702702702703, 1: 1.0}\n"
     ]
    }
   ],
   "source": [
    "model.compile(loss=\"binary_crossentropy\", optimizer=\"RMSprop\", metrics=[\"accuracy\"])\n",
    "checkpoint = tf.keras.callbacks.ModelCheckpoint(\n",
    "    \"model.h5\", monitor=\"val_accuracy\", save_best_only=True, mode=\"auto\"\n",
    ")\n",
    "class_weight = {0: 1 / (1 - np.mean(y_data_train)), 1: 1.0}\n",
    "print(class_weight)"
   ]
  },
  {
   "cell_type": "code",
   "execution_count": 90,
   "id": "f408d97f-9528-477e-9c47-6b2d835169f7",
   "metadata": {},
   "outputs": [
    {
     "name": "stdout",
     "output_type": "stream",
     "text": [
      "Epoch 1/20\n",
      "\u001b[1m45/48\u001b[0m \u001b[32m━━━━━━━━━━━━━━━━━━\u001b[0m\u001b[37m━━\u001b[0m \u001b[1m0s\u001b[0m 9ms/step - accuracy: 0.5135 - loss: 8.6315"
     ]
    },
    {
     "name": "stderr",
     "output_type": "stream",
     "text": [
      "WARNING:absl:You are saving your model as an HDF5 file via `model.save()` or `keras.saving.save_model(model)`. This file format is considered legacy. We recommend using instead the native Keras format, e.g. `model.save('my_model.keras')` or `keras.saving.save_model(model, 'my_model.keras')`. \n"
     ]
    },
    {
     "name": "stdout",
     "output_type": "stream",
     "text": [
      "\u001b[1m48/48\u001b[0m \u001b[32m━━━━━━━━━━━━━━━━━━━━\u001b[0m\u001b[37m\u001b[0m \u001b[1m3s\u001b[0m 20ms/step - accuracy: 0.5124 - loss: 8.2008 - val_accuracy: 0.5628 - val_loss: 0.7489\n",
      "Epoch 2/20\n",
      "\u001b[1m46/48\u001b[0m \u001b[32m━━━━━━━━━━━━━━━━━━━\u001b[0m\u001b[37m━\u001b[0m \u001b[1m0s\u001b[0m 8ms/step - accuracy: 0.4586 - loss: 1.0776"
     ]
    },
    {
     "name": "stderr",
     "output_type": "stream",
     "text": [
      "WARNING:absl:You are saving your model as an HDF5 file via `model.save()` or `keras.saving.save_model(model)`. This file format is considered legacy. We recommend using instead the native Keras format, e.g. `model.save('my_model.keras')` or `keras.saving.save_model(model, 'my_model.keras')`. \n"
     ]
    },
    {
     "name": "stdout",
     "output_type": "stream",
     "text": [
      "\u001b[1m48/48\u001b[0m \u001b[32m━━━━━━━━━━━━━━━━━━━━\u001b[0m\u001b[37m\u001b[0m \u001b[1m1s\u001b[0m 13ms/step - accuracy: 0.4579 - loss: 1.0799 - val_accuracy: 0.6126 - val_loss: 0.6890\n",
      "Epoch 3/20\n",
      "\u001b[1m48/48\u001b[0m \u001b[32m━━━━━━━━━━━━━━━━━━━━\u001b[0m\u001b[37m\u001b[0m \u001b[1m1s\u001b[0m 12ms/step - accuracy: 0.4046 - loss: 1.0557 - val_accuracy: 0.5340 - val_loss: 0.7762\n",
      "Epoch 4/20\n",
      "\u001b[1m48/48\u001b[0m \u001b[32m━━━━━━━━━━━━━━━━━━━━\u001b[0m\u001b[37m\u001b[0m \u001b[1m1s\u001b[0m 11ms/step - accuracy: 0.4319 - loss: 1.1052 - val_accuracy: 0.5550 - val_loss: 0.9825\n",
      "Epoch 5/20\n",
      "\u001b[1m48/48\u001b[0m \u001b[32m━━━━━━━━━━━━━━━━━━━━\u001b[0m\u001b[37m\u001b[0m \u001b[1m1s\u001b[0m 11ms/step - accuracy: 0.4568 - loss: 1.0731 - val_accuracy: 0.5812 - val_loss: 0.7099\n",
      "Epoch 6/20\n",
      "\u001b[1m48/48\u001b[0m \u001b[32m━━━━━━━━━━━━━━━━━━━━\u001b[0m\u001b[37m\u001b[0m \u001b[1m1s\u001b[0m 11ms/step - accuracy: 0.4636 - loss: 1.0321 - val_accuracy: 0.5576 - val_loss: 0.7486\n",
      "Epoch 7/20\n",
      "\u001b[1m48/48\u001b[0m \u001b[32m━━━━━━━━━━━━━━━━━━━━\u001b[0m\u001b[37m\u001b[0m \u001b[1m1s\u001b[0m 11ms/step - accuracy: 0.4724 - loss: 1.0025 - val_accuracy: 0.5812 - val_loss: 0.7342\n",
      "Epoch 8/20\n",
      "\u001b[1m48/48\u001b[0m \u001b[32m━━━━━━━━━━━━━━━━━━━━\u001b[0m\u001b[37m\u001b[0m \u001b[1m1s\u001b[0m 11ms/step - accuracy: 0.4790 - loss: 1.0195 - val_accuracy: 0.5157 - val_loss: 0.9994\n",
      "Epoch 9/20\n",
      "\u001b[1m48/48\u001b[0m \u001b[32m━━━━━━━━━━━━━━━━━━━━\u001b[0m\u001b[37m\u001b[0m \u001b[1m1s\u001b[0m 11ms/step - accuracy: 0.5135 - loss: 0.9863 - val_accuracy: 0.5524 - val_loss: 0.9238\n",
      "Epoch 10/20\n",
      "\u001b[1m48/48\u001b[0m \u001b[32m━━━━━━━━━━━━━━━━━━━━\u001b[0m\u001b[37m\u001b[0m \u001b[1m1s\u001b[0m 12ms/step - accuracy: 0.5266 - loss: 0.9605 - val_accuracy: 0.5707 - val_loss: 0.9221\n",
      "Epoch 11/20\n",
      "\u001b[1m48/48\u001b[0m \u001b[32m━━━━━━━━━━━━━━━━━━━━\u001b[0m\u001b[37m\u001b[0m \u001b[1m1s\u001b[0m 11ms/step - accuracy: 0.5730 - loss: 0.9490 - val_accuracy: 0.5602 - val_loss: 0.9607\n",
      "Epoch 12/20\n",
      "\u001b[1m48/48\u001b[0m \u001b[32m━━━━━━━━━━━━━━━━━━━━\u001b[0m\u001b[37m\u001b[0m \u001b[1m1s\u001b[0m 11ms/step - accuracy: 0.5417 - loss: 0.9271 - val_accuracy: 0.5916 - val_loss: 0.9148\n",
      "Epoch 13/20\n",
      "\u001b[1m48/48\u001b[0m \u001b[32m━━━━━━━━━━━━━━━━━━━━\u001b[0m\u001b[37m\u001b[0m \u001b[1m1s\u001b[0m 11ms/step - accuracy: 0.5589 - loss: 0.9146 - val_accuracy: 0.5759 - val_loss: 0.9046\n",
      "Epoch 14/20\n",
      "\u001b[1m48/48\u001b[0m \u001b[32m━━━━━━━━━━━━━━━━━━━━\u001b[0m\u001b[37m\u001b[0m \u001b[1m1s\u001b[0m 11ms/step - accuracy: 0.6052 - loss: 0.9002 - val_accuracy: 0.5157 - val_loss: 1.4454\n",
      "Epoch 15/20\n",
      "\u001b[1m48/48\u001b[0m \u001b[32m━━━━━━━━━━━━━━━━━━━━\u001b[0m\u001b[37m\u001b[0m \u001b[1m1s\u001b[0m 11ms/step - accuracy: 0.6529 - loss: 0.7808 - val_accuracy: 0.4188 - val_loss: 1.3906\n",
      "Epoch 16/20\n",
      "\u001b[1m48/48\u001b[0m \u001b[32m━━━━━━━━━━━━━━━━━━━━\u001b[0m\u001b[37m\u001b[0m \u001b[1m1s\u001b[0m 11ms/step - accuracy: 0.6729 - loss: 0.8133 - val_accuracy: 0.5681 - val_loss: 1.1062\n",
      "Epoch 17/20\n",
      "\u001b[1m48/48\u001b[0m \u001b[32m━━━━━━━━━━━━━━━━━━━━\u001b[0m\u001b[37m\u001b[0m \u001b[1m1s\u001b[0m 11ms/step - accuracy: 0.6835 - loss: 0.7748 - val_accuracy: 0.6126 - val_loss: 0.9170\n",
      "Epoch 18/20\n",
      "\u001b[1m48/48\u001b[0m \u001b[32m━━━━━━━━━━━━━━━━━━━━\u001b[0m\u001b[37m\u001b[0m \u001b[1m1s\u001b[0m 11ms/step - accuracy: 0.6807 - loss: 0.7385 - val_accuracy: 0.5838 - val_loss: 1.1104\n",
      "Epoch 19/20\n",
      "\u001b[1m48/48\u001b[0m \u001b[32m━━━━━━━━━━━━━━━━━━━━\u001b[0m\u001b[37m\u001b[0m \u001b[1m1s\u001b[0m 11ms/step - accuracy: 0.6963 - loss: 0.7118 - val_accuracy: 0.5707 - val_loss: 1.4973\n",
      "Epoch 20/20\n",
      "\u001b[1m48/48\u001b[0m \u001b[32m━━━━━━━━━━━━━━━━━━━━\u001b[0m\u001b[37m\u001b[0m \u001b[1m1s\u001b[0m 12ms/step - accuracy: 0.7213 - loss: 0.6948 - val_accuracy: 0.5707 - val_loss: 1.6360\n"
     ]
    },
    {
     "data": {
      "text/plain": [
       "<keras.src.callbacks.history.History at 0x21ba1a70b30>"
      ]
     },
     "execution_count": 90,
     "metadata": {},
     "output_type": "execute_result"
    }
   ],
   "source": [
    "model.fit(\n",
    "    x=X_data_train,\n",
    "    y=y_data_train,\n",
    "    epochs=20,\n",
    "    validation_data=(X_data_test, y_data_test),\n",
    "    verbose=1,\n",
    "    callbacks=[checkpoint],\n",
    "    class_weight=class_weight,\n",
    ")"
   ]
  },
  {
   "cell_type": "code",
   "execution_count": 91,
   "id": "e104d203-6763-446a-bf45-d5cc72e1d1ed",
   "metadata": {},
   "outputs": [
    {
     "name": "stderr",
     "output_type": "stream",
     "text": [
      "WARNING:absl:Compiled the loaded model, but the compiled metrics have yet to be built. `model.compile_metrics` will be empty until you train or evaluate the model.\n"
     ]
    },
    {
     "name": "stdout",
     "output_type": "stream",
     "text": [
      "\u001b[1m12/12\u001b[0m \u001b[32m━━━━━━━━━━━━━━━━━━━━\u001b[0m\u001b[37m\u001b[0m \u001b[1m1s\u001b[0m 7ms/step - accuracy: 0.6652 - loss: 0.6667  \n",
      "Accuracy over validation: 61.26%\n"
     ]
    }
   ],
   "source": [
    "model = tf.keras.models.load_model(\"model.h5\")\n",
    "acc = model.evaluate(x=X_data_test, y=y_data_test)\n",
    "print(\"Accuracy over validation: {:.2f}%\".format(acc[1] * 100))"
   ]
  },
  {
   "cell_type": "markdown",
   "id": "78e38ee0-cc2a-481d-9bbd-f9ab5e92a86d",
   "metadata": {},
   "source": [
    "Now, attempting the same for the differenced time series"
   ]
  },
  {
   "cell_type": "code",
   "execution_count": 131,
   "id": "579f7521-092b-4c5b-9d10-e0517f8cea9d",
   "metadata": {},
   "outputs": [
    {
     "name": "stdout",
     "output_type": "stream",
     "text": [
      "(1937, 30)\n"
     ]
    },
    {
     "data": {
      "image/png": "[encoded data removed]",
      "text/plain": [
       "<Figure size 600x600 with 1 Axes>"
      ]
     },
     "metadata": {},
     "output_type": "display_data"
    }
   ],
   "source": [
    "differenced_data = differenced_data.rolling(10).mean().dropna()\n",
    "differenced_data_scaled = scaler.fit_transform(differenced_data.to_frame())\n",
    "\n",
    "X_train = []\n",
    "window_size = 30\n",
    "for i in range(window_size, differenced_data.shape[0]):\n",
    "    X_train.append(differenced_data[i - window_size : i])\n",
    "X_train = np.array(X_train)\n",
    "print(X_train.shape)\n",
    "# Define a \"window_size\"-days interval\n",
    "days = np.linspace(1, X_train.shape[0], num=X_train.shape[0])\n",
    "# Plot the overlapping time series\n",
    "plt.figure(figsize=(6, 6))\n",
    "for i in range(241):\n",
    "    plt.plot(days[i : window_size + i], X_train[i, :])"
   ]
  },
  {
   "cell_type": "code",
   "execution_count": 133,
   "id": "5f2c0a7e-1f76-4fbb-927e-4a283646e198",
   "metadata": {},
   "outputs": [
    {
     "name": "stdout",
     "output_type": "stream",
     "text": [
      "(1937, 30, 30)\n"
     ]
    }
   ],
   "source": [
    "transformer = GramianAngularField()\n",
    "X_train_new = transformer.transform(X_train)\n",
    "print(X_train_new.shape)"
   ]
  },
  {
   "cell_type": "code",
   "execution_count": 135,
   "id": "5e7eb850-26fa-4838-924f-d0d6412afd2d",
   "metadata": {},
   "outputs": [
    {
     "name": "stderr",
     "output_type": "stream",
     "text": [
      "C:\\Users\\susha\\AppData\\Local\\Temp\\ipykernel_13592\\1183533469.py:4: FutureWarning: Series.__getitem__ treating keys as positions is deprecated. In a future version, integer keys will always be treated as labels (consistent with DataFrame behavior). To access a value by position, use `ser.iloc[pos]`\n",
      "  y_data.append(differenced_data[i] < differenced_data[i + window_size])\n"
     ]
    },
    {
     "data": {
      "text/plain": [
       "(1907,)"
      ]
     },
     "execution_count": 135,
     "metadata": {},
     "output_type": "execute_result"
    }
   ],
   "source": [
    "# Generate the labels: 1 if price goes up after window_size days, 0 otherwise\n",
    "y_data = []\n",
    "for i in range(window_size, differenced_data.shape[0] - window_size):\n",
    "    y_data.append(differenced_data[i] < differenced_data[i + window_size])\n",
    "y_data = np.array(y_data)\n",
    "y_data.shape"
   ]
  },
  {
   "cell_type": "code",
   "execution_count": 137,
   "id": "73688f1e-7f78-453a-ac4e-d245f75f2dc4",
   "metadata": {},
   "outputs": [
    {
     "data": {
      "text/plain": [
       "(1907, 30, 30)"
      ]
     },
     "execution_count": 137,
     "metadata": {},
     "output_type": "execute_result"
    }
   ],
   "source": [
    "# Determine the examples to be used as inputs in the model and rescale them to the [0,255] scale\n",
    "X_data = X_train_new[:-window_size]\n",
    "for i in range(X_data.shape[0]):\n",
    "    X_data[i] = (X_data[i] - np.min(X_data[i])) / (\n",
    "        np.max(X_data[i]) - np.min(X_data[i])\n",
    "    )\n",
    "# We could simply write X_data = (X_data + 1)/2\n",
    "X_data = X_data * 255\n",
    "X_data.shape"
   ]
  },
  {
   "cell_type": "code",
   "execution_count": 139,
   "id": "e48901d2-19c9-4aa5-bead-155fb1587ada",
   "metadata": {},
   "outputs": [],
   "source": [
    "# Split into train and test\n",
    "train_split = 0.8\n",
    "y_data_train = y_data[: int(train_split * y_data.shape[0])]\n",
    "y_data_test = y_data[int(train_split * y_data.shape[0]) :]\n",
    "X_data_train = X_data[: int(train_split * y_data.shape[0])]\n",
    "X_data_test = X_data[int(train_split * y_data.shape[0]) :]"
   ]
  },
  {
   "cell_type": "code",
   "execution_count": 141,
   "id": "3d8ff37f-7af2-4d62-857e-4a71eb3746f3",
   "metadata": {},
   "outputs": [
    {
     "name": "stderr",
     "output_type": "stream",
     "text": [
      "C:\\Users\\susha\\anaconda3\\Lib\\site-packages\\keras\\src\\layers\\core\\input_layer.py:27: UserWarning: Argument `input_shape` is deprecated. Use `shape` instead.\n",
      "  warnings.warn(\n"
     ]
    }
   ],
   "source": [
    "model = tf.keras.Sequential()\n",
    "# Input layer\n",
    "model.add(tf.keras.layers.InputLayer(input_shape=(30, 30, 1)))\n",
    "#model.add(tf.keras.layers.Conv2D(16, (3, 3), activation=\"relu\"))\n",
    "#model.add(tf.keras.layers.MaxPooling2D((2, 2)))\n",
    "#model.add(tf.keras.layers.Conv2D(32, (3, 3), activation=\"relu\"))\n",
    "#model.add(tf.keras.layers.MaxPooling2D((2, 2)))\n",
    "model.add(tf.keras.layers.Conv2D(64, (3, 3), activation=\"relu\"))\n",
    "model.add(tf.keras.layers.MaxPooling2D((2, 2)))\n",
    "model.add(tf.keras.layers.Flatten())\n",
    "model.add(tf.keras.layers.Dense(64, activation=\"relu\"))\n",
    "#model.add(tf.keras.layers.Dropout(0.5, seed=1234))\n",
    "model.add(tf.keras.layers.Dense(1, activation=\"sigmoid\"))"
   ]
  },
  {
   "cell_type": "code",
   "execution_count": 143,
   "id": "3b271906-12ad-4604-a896-768ebef3c7ae",
   "metadata": {},
   "outputs": [
    {
     "data": {
      "text/html": [
       "<pre style=\"white-space:pre;overflow-x:auto;line-height:normal;font-family:Menlo,'DejaVu Sans Mono',consolas,'Courier New',monospace\"><span style=\"font-weight: bold\">Model: \"sequential_3\"</span>\n",
       "</pre>\n"
      ],
      "text/plain": [
       "\u001b[1mModel: \"sequential_3\"\u001b[0m\n"
      ]
     },
     "metadata": {},
     "output_type": "display_data"
    },
    {
     "data": {
      "text/html": [
       "<pre style=\"white-space:pre;overflow-x:auto;line-height:normal;font-family:Menlo,'DejaVu Sans Mono',consolas,'Courier New',monospace\">┏━━━━━━━━━━━━━━━━━━━━━━━━━━━━━━━━━━━━━━┳━━━━━━━━━━━━━━━━━━━━━━━━━━━━━┳━━━━━━━━━━━━━━━━━┓\n",
       "┃<span style=\"font-weight: bold\"> Layer (type)                         </span>┃<span style=\"font-weight: bold\"> Output Shape                </span>┃<span style=\"font-weight: bold\">         Param # </span>┃\n",
       "┡━━━━━━━━━━━━━━━━━━━━━━━━━━━━━━━━━━━━━━╇━━━━━━━━━━━━━━━━━━━━━━━━━━━━━╇━━━━━━━━━━━━━━━━━┩\n",
       "│ conv2d_7 (<span style=\"color: #0087ff; text-decoration-color: #0087ff\">Conv2D</span>)                    │ (<span style=\"color: #00d7ff; text-decoration-color: #00d7ff\">None</span>, <span style=\"color: #00af00; text-decoration-color: #00af00\">28</span>, <span style=\"color: #00af00; text-decoration-color: #00af00\">28</span>, <span style=\"color: #00af00; text-decoration-color: #00af00\">64</span>)          │             <span style=\"color: #00af00; text-decoration-color: #00af00\">640</span> │\n",
       "├──────────────────────────────────────┼─────────────────────────────┼─────────────────┤\n",
       "│ max_pooling2d_7 (<span style=\"color: #0087ff; text-decoration-color: #0087ff\">MaxPooling2D</span>)       │ (<span style=\"color: #00d7ff; text-decoration-color: #00d7ff\">None</span>, <span style=\"color: #00af00; text-decoration-color: #00af00\">14</span>, <span style=\"color: #00af00; text-decoration-color: #00af00\">14</span>, <span style=\"color: #00af00; text-decoration-color: #00af00\">64</span>)          │               <span style=\"color: #00af00; text-decoration-color: #00af00\">0</span> │\n",
       "├──────────────────────────────────────┼─────────────────────────────┼─────────────────┤\n",
       "│ flatten_3 (<span style=\"color: #0087ff; text-decoration-color: #0087ff\">Flatten</span>)                  │ (<span style=\"color: #00d7ff; text-decoration-color: #00d7ff\">None</span>, <span style=\"color: #00af00; text-decoration-color: #00af00\">12544</span>)               │               <span style=\"color: #00af00; text-decoration-color: #00af00\">0</span> │\n",
       "├──────────────────────────────────────┼─────────────────────────────┼─────────────────┤\n",
       "│ dense_6 (<span style=\"color: #0087ff; text-decoration-color: #0087ff\">Dense</span>)                      │ (<span style=\"color: #00d7ff; text-decoration-color: #00d7ff\">None</span>, <span style=\"color: #00af00; text-decoration-color: #00af00\">64</span>)                  │         <span style=\"color: #00af00; text-decoration-color: #00af00\">802,880</span> │\n",
       "├──────────────────────────────────────┼─────────────────────────────┼─────────────────┤\n",
       "│ dense_7 (<span style=\"color: #0087ff; text-decoration-color: #0087ff\">Dense</span>)                      │ (<span style=\"color: #00d7ff; text-decoration-color: #00d7ff\">None</span>, <span style=\"color: #00af00; text-decoration-color: #00af00\">1</span>)                   │              <span style=\"color: #00af00; text-decoration-color: #00af00\">65</span> │\n",
       "└──────────────────────────────────────┴─────────────────────────────┴─────────────────┘\n",
       "</pre>\n"
      ],
      "text/plain": [
       "┏━━━━━━━━━━━━━━━━━━━━━━━━━━━━━━━━━━━━━━┳━━━━━━━━━━━━━━━━━━━━━━━━━━━━━┳━━━━━━━━━━━━━━━━━┓\n",
       "┃\u001b[1m \u001b[0m\u001b[1mLayer (type)                        \u001b[0m\u001b[1m \u001b[0m┃\u001b[1m \u001b[0m\u001b[1mOutput Shape               \u001b[0m\u001b[1m \u001b[0m┃\u001b[1m \u001b[0m\u001b[1m        Param #\u001b[0m\u001b[1m \u001b[0m┃\n",
       "┡━━━━━━━━━━━━━━━━━━━━━━━━━━━━━━━━━━━━━━╇━━━━━━━━━━━━━━━━━━━━━━━━━━━━━╇━━━━━━━━━━━━━━━━━┩\n",
       "│ conv2d_7 (\u001b[38;5;33mConv2D\u001b[0m)                    │ (\u001b[38;5;45mNone\u001b[0m, \u001b[38;5;34m28\u001b[0m, \u001b[38;5;34m28\u001b[0m, \u001b[38;5;34m64\u001b[0m)          │             \u001b[38;5;34m640\u001b[0m │\n",
       "├──────────────────────────────────────┼─────────────────────────────┼─────────────────┤\n",
       "│ max_pooling2d_7 (\u001b[38;5;33mMaxPooling2D\u001b[0m)       │ (\u001b[38;5;45mNone\u001b[0m, \u001b[38;5;34m14\u001b[0m, \u001b[38;5;34m14\u001b[0m, \u001b[38;5;34m64\u001b[0m)          │               \u001b[38;5;34m0\u001b[0m │\n",
       "├──────────────────────────────────────┼─────────────────────────────┼─────────────────┤\n",
       "│ flatten_3 (\u001b[38;5;33mFlatten\u001b[0m)                  │ (\u001b[38;5;45mNone\u001b[0m, \u001b[38;5;34m12544\u001b[0m)               │               \u001b[38;5;34m0\u001b[0m │\n",
       "├──────────────────────────────────────┼─────────────────────────────┼─────────────────┤\n",
       "│ dense_6 (\u001b[38;5;33mDense\u001b[0m)                      │ (\u001b[38;5;45mNone\u001b[0m, \u001b[38;5;34m64\u001b[0m)                  │         \u001b[38;5;34m802,880\u001b[0m │\n",
       "├──────────────────────────────────────┼─────────────────────────────┼─────────────────┤\n",
       "│ dense_7 (\u001b[38;5;33mDense\u001b[0m)                      │ (\u001b[38;5;45mNone\u001b[0m, \u001b[38;5;34m1\u001b[0m)                   │              \u001b[38;5;34m65\u001b[0m │\n",
       "└──────────────────────────────────────┴─────────────────────────────┴─────────────────┘\n"
      ]
     },
     "metadata": {},
     "output_type": "display_data"
    },
    {
     "data": {
      "text/html": [
       "<pre style=\"white-space:pre;overflow-x:auto;line-height:normal;font-family:Menlo,'DejaVu Sans Mono',consolas,'Courier New',monospace\"><span style=\"font-weight: bold\"> Total params: </span><span style=\"color: #00af00; text-decoration-color: #00af00\">803,585</span> (3.07 MB)\n",
       "</pre>\n"
      ],
      "text/plain": [
       "\u001b[1m Total params: \u001b[0m\u001b[38;5;34m803,585\u001b[0m (3.07 MB)\n"
      ]
     },
     "metadata": {},
     "output_type": "display_data"
    },
    {
     "data": {
      "text/html": [
       "<pre style=\"white-space:pre;overflow-x:auto;line-height:normal;font-family:Menlo,'DejaVu Sans Mono',consolas,'Courier New',monospace\"><span style=\"font-weight: bold\"> Trainable params: </span><span style=\"color: #00af00; text-decoration-color: #00af00\">803,585</span> (3.07 MB)\n",
       "</pre>\n"
      ],
      "text/plain": [
       "\u001b[1m Trainable params: \u001b[0m\u001b[38;5;34m803,585\u001b[0m (3.07 MB)\n"
      ]
     },
     "metadata": {},
     "output_type": "display_data"
    },
    {
     "data": {
      "text/html": [
       "<pre style=\"white-space:pre;overflow-x:auto;line-height:normal;font-family:Menlo,'DejaVu Sans Mono',consolas,'Courier New',monospace\"><span style=\"font-weight: bold\"> Non-trainable params: </span><span style=\"color: #00af00; text-decoration-color: #00af00\">0</span> (0.00 B)\n",
       "</pre>\n"
      ],
      "text/plain": [
       "\u001b[1m Non-trainable params: \u001b[0m\u001b[38;5;34m0\u001b[0m (0.00 B)\n"
      ]
     },
     "metadata": {},
     "output_type": "display_data"
    }
   ],
   "source": [
    "model.summary()"
   ]
  },
  {
   "cell_type": "code",
   "execution_count": 145,
   "id": "b05749db-ffaf-4e9c-932f-410caed211a2",
   "metadata": {},
   "outputs": [
    {
     "name": "stdout",
     "output_type": "stream",
     "text": [
      "{0: 2.115117891816921, 1: 1.0}\n"
     ]
    }
   ],
   "source": [
    "model.compile(loss=\"binary_crossentropy\", optimizer=\"RMSprop\", metrics=[\"accuracy\"])\n",
    "checkpoint = tf.keras.callbacks.ModelCheckpoint(\n",
    "    \"model.h5\", monitor=\"val_accuracy\", save_best_only=True, mode=\"auto\"\n",
    ")\n",
    "class_weight = {0: 1 / (1 - np.mean(y_data_train)), 1: 1.0}\n",
    "print(class_weight)"
   ]
  },
  {
   "cell_type": "code",
   "execution_count": 147,
   "id": "9918d11d-bfe6-4acd-8464-d55b10722fa5",
   "metadata": {},
   "outputs": [
    {
     "name": "stdout",
     "output_type": "stream",
     "text": [
      "Epoch 1/10\n",
      "\u001b[1m46/48\u001b[0m \u001b[32m━━━━━━━━━━━━━━━━━━━\u001b[0m\u001b[37m━\u001b[0m \u001b[1m0s\u001b[0m 19ms/step - accuracy: 0.4843 - loss: 63.0211"
     ]
    },
    {
     "name": "stderr",
     "output_type": "stream",
     "text": [
      "WARNING:absl:You are saving your model as an HDF5 file via `model.save()` or `keras.saving.save_model(model)`. This file format is considered legacy. We recommend using instead the native Keras format, e.g. `model.save('my_model.keras')` or `keras.saving.save_model(model, 'my_model.keras')`. \n"
     ]
    },
    {
     "name": "stdout",
     "output_type": "stream",
     "text": [
      "\u001b[1m48/48\u001b[0m \u001b[32m━━━━━━━━━━━━━━━━━━━━\u001b[0m\u001b[37m\u001b[0m \u001b[1m4s\u001b[0m 30ms/step - accuracy: 0.4850 - loss: 60.8854 - val_accuracy: 0.4686 - val_loss: 1.8531\n",
      "Epoch 2/10\n",
      "\u001b[1m45/48\u001b[0m \u001b[32m━━━━━━━━━━━━━━━━━━\u001b[0m\u001b[37m━━\u001b[0m \u001b[1m0s\u001b[0m 18ms/step - accuracy: 0.5209 - loss: 2.8493"
     ]
    },
    {
     "name": "stderr",
     "output_type": "stream",
     "text": [
      "WARNING:absl:You are saving your model as an HDF5 file via `model.save()` or `keras.saving.save_model(model)`. This file format is considered legacy. We recommend using instead the native Keras format, e.g. `model.save('my_model.keras')` or `keras.saving.save_model(model, 'my_model.keras')`. \n"
     ]
    },
    {
     "name": "stdout",
     "output_type": "stream",
     "text": [
      "\u001b[1m48/48\u001b[0m \u001b[32m━━━━━━━━━━━━━━━━━━━━\u001b[0m\u001b[37m\u001b[0m \u001b[1m1s\u001b[0m 23ms/step - accuracy: 0.5224 - loss: 2.7918 - val_accuracy: 0.5288 - val_loss: 0.9410\n",
      "Epoch 3/10\n",
      "\u001b[1m48/48\u001b[0m \u001b[32m━━━━━━━━━━━━━━━━━━━━\u001b[0m\u001b[37m\u001b[0m \u001b[1m1s\u001b[0m 21ms/step - accuracy: 0.6288 - loss: 0.9207 - val_accuracy: 0.5157 - val_loss: 0.8165\n",
      "Epoch 4/10\n",
      "\u001b[1m48/48\u001b[0m \u001b[32m━━━━━━━━━━━━━━━━━━━━\u001b[0m\u001b[37m\u001b[0m \u001b[1m1s\u001b[0m 21ms/step - accuracy: 0.7739 - loss: 0.6409 - val_accuracy: 0.5079 - val_loss: 1.0443\n",
      "Epoch 5/10\n",
      "\u001b[1m48/48\u001b[0m \u001b[32m━━━━━━━━━━━━━━━━━━━━\u001b[0m\u001b[37m\u001b[0m \u001b[1m1s\u001b[0m 20ms/step - accuracy: 0.8671 - loss: 0.4382 - val_accuracy: 0.4398 - val_loss: 1.1093\n",
      "Epoch 6/10\n",
      "\u001b[1m48/48\u001b[0m \u001b[32m━━━━━━━━━━━━━━━━━━━━\u001b[0m\u001b[37m\u001b[0m \u001b[1m1s\u001b[0m 20ms/step - accuracy: 0.9358 - loss: 0.2748 - val_accuracy: 0.4372 - val_loss: 1.3372\n",
      "Epoch 7/10\n",
      "\u001b[1m48/48\u001b[0m \u001b[32m━━━━━━━━━━━━━━━━━━━━\u001b[0m\u001b[37m\u001b[0m \u001b[1m1s\u001b[0m 20ms/step - accuracy: 0.9718 - loss: 0.1458 - val_accuracy: 0.4319 - val_loss: 1.7860\n",
      "Epoch 8/10\n",
      "\u001b[1m48/48\u001b[0m \u001b[32m━━━━━━━━━━━━━━━━━━━━\u001b[0m\u001b[37m\u001b[0m \u001b[1m1s\u001b[0m 20ms/step - accuracy: 0.9862 - loss: 0.0837 - val_accuracy: 0.4503 - val_loss: 1.7363\n",
      "Epoch 9/10\n",
      "\u001b[1m48/48\u001b[0m \u001b[32m━━━━━━━━━━━━━━━━━━━━\u001b[0m\u001b[37m\u001b[0m \u001b[1m1s\u001b[0m 20ms/step - accuracy: 0.9942 - loss: 0.0420 - val_accuracy: 0.4738 - val_loss: 2.0056\n",
      "Epoch 10/10\n",
      "\u001b[1m48/48\u001b[0m \u001b[32m━━━━━━━━━━━━━━━━━━━━\u001b[0m\u001b[37m\u001b[0m \u001b[1m1s\u001b[0m 21ms/step - accuracy: 0.9989 - loss: 0.0175 - val_accuracy: 0.4346 - val_loss: 2.4729\n"
     ]
    },
    {
     "data": {
      "text/plain": [
       "<keras.src.callbacks.history.History at 0x21bb357fa10>"
      ]
     },
     "execution_count": 147,
     "metadata": {},
     "output_type": "execute_result"
    }
   ],
   "source": [
    "model.fit(\n",
    "    x=X_data_train,\n",
    "    y=y_data_train,\n",
    "    epochs=10,\n",
    "    validation_data=(X_data_test, y_data_test),\n",
    "    verbose=1,\n",
    "    callbacks=[checkpoint],\n",
    "    class_weight=class_weight,\n",
    ")"
   ]
  },
  {
   "cell_type": "code",
   "execution_count": 148,
   "id": "8bf40fd3-2880-4265-b56e-d359b2d9a2c2",
   "metadata": {},
   "outputs": [
    {
     "name": "stderr",
     "output_type": "stream",
     "text": [
      "WARNING:absl:Compiled the loaded model, but the compiled metrics have yet to be built. `model.compile_metrics` will be empty until you train or evaluate the model.\n"
     ]
    },
    {
     "name": "stdout",
     "output_type": "stream",
     "text": [
      "\u001b[1m12/12\u001b[0m \u001b[32m━━━━━━━━━━━━━━━━━━━━\u001b[0m\u001b[37m\u001b[0m \u001b[1m1s\u001b[0m 9ms/step - accuracy: 0.5997 - loss: 0.8614\n",
      "Accuracy over validation: 52.88%\n"
     ]
    }
   ],
   "source": [
    "model = tf.keras.models.load_model(\"model.h5\")\n",
    "acc = model.evaluate(x=X_data_test, y=y_data_test)\n",
    "print(\"Accuracy over validation: {:.2f}%\".format(acc[1] * 100))"
   ]
  },
  {
   "cell_type": "markdown",
   "id": "7c953f98-e003-4153-82e6-dbaf876e726b",
   "metadata": {},
   "source": [
    "Now for the fractionally Differenced Series"
   ]
  },
  {
   "cell_type": "code",
   "execution_count": 111,
   "id": "72cfb8c0-10ea-4ef9-a9bc-cc0dcca26803",
   "metadata": {},
   "outputs": [
    {
     "name": "stdout",
     "output_type": "stream",
     "text": [
      "(1928, 30)\n"
     ]
    },
    {
     "data": {
      "image/png": "[encoded data removed]",
      "text/plain": [
       "<Figure size 600x600 with 1 Axes>"
      ]
     },
     "metadata": {},
     "output_type": "display_data"
    }
   ],
   "source": [
    "frac_diff_series = frac_diff_series.rolling(10).mean().dropna()\n",
    "frac_diff_data_scaled = scaler.fit_transform(frac_diff_series.to_frame())\n",
    "\n",
    "X_train = []\n",
    "window_size = 30\n",
    "for i in range(window_size, frac_diff_data_scaled.shape[0]):\n",
    "    X_train.append(frac_diff_series[i - window_size : i])\n",
    "X_train = np.array(X_train)\n",
    "print(X_train.shape)\n",
    "# Define a \"window_size\"-days interval\n",
    "days = np.linspace(1, X_train.shape[0], num=X_train.shape[0])\n",
    "# Plot the overlapping time series\n",
    "plt.figure(figsize=(6, 6))\n",
    "for i in range(241):\n",
    "    plt.plot(days[i : window_size + i], X_train[i, :])"
   ]
  },
  {
   "cell_type": "code",
   "execution_count": 112,
   "id": "c84a0e48-d4e9-4840-865b-968a2ea21da5",
   "metadata": {},
   "outputs": [
    {
     "name": "stdout",
     "output_type": "stream",
     "text": [
      "(1928, 30, 30)\n"
     ]
    }
   ],
   "source": [
    "transformer = GramianAngularField()\n",
    "X_train_new = transformer.transform(X_train)\n",
    "print(X_train_new.shape)"
   ]
  },
  {
   "cell_type": "code",
   "execution_count": 115,
   "id": "b147001b-8253-4d90-b3a1-f4ca4fd68086",
   "metadata": {},
   "outputs": [
    {
     "name": "stderr",
     "output_type": "stream",
     "text": [
      "C:\\Users\\susha\\AppData\\Local\\Temp\\ipykernel_13592\\393614003.py:4: FutureWarning: Series.__getitem__ treating keys as positions is deprecated. In a future version, integer keys will always be treated as labels (consistent with DataFrame behavior). To access a value by position, use `ser.iloc[pos]`\n",
      "  y_data.append(frac_diff_series[i] < frac_diff_series[i + window_size])\n"
     ]
    },
    {
     "data": {
      "text/plain": [
       "(1898,)"
      ]
     },
     "execution_count": 115,
     "metadata": {},
     "output_type": "execute_result"
    }
   ],
   "source": [
    "# Generate the labels: 1 if price goes up after window_size days, 0 otherwise\n",
    "y_data = []\n",
    "for i in range(window_size, frac_diff_series.shape[0] - window_size):\n",
    "    y_data.append(frac_diff_series[i] < frac_diff_series[i + window_size])\n",
    "y_data = np.array(y_data)\n",
    "y_data.shape"
   ]
  },
  {
   "cell_type": "code",
   "execution_count": 117,
   "id": "72c54ae5-ca1b-4089-8dc2-fa87aef775ae",
   "metadata": {},
   "outputs": [
    {
     "data": {
      "text/plain": [
       "(1898, 30, 30)"
      ]
     },
     "execution_count": 117,
     "metadata": {},
     "output_type": "execute_result"
    }
   ],
   "source": [
    "# Determine the examples to be used as inputs in the model and rescale them to the [0,255] scale\n",
    "X_data = X_train_new[:-window_size]\n",
    "for i in range(X_data.shape[0]):\n",
    "    X_data[i] = (X_data[i] - np.min(X_data[i])) / (\n",
    "        np.max(X_data[i]) - np.min(X_data[i])\n",
    "    )\n",
    "# We could simply write X_data = (X_data + 1)/2\n",
    "X_data = X_data * 255\n",
    "X_data.shape"
   ]
  },
  {
   "cell_type": "code",
   "execution_count": 119,
   "id": "a5bc1833-6b0a-40c9-9f7e-76902b401093",
   "metadata": {},
   "outputs": [],
   "source": [
    "# Split into train and test\n",
    "train_split = 0.8\n",
    "y_data_train = y_data[: int(train_split * y_data.shape[0])]\n",
    "y_data_test = y_data[int(train_split * y_data.shape[0]) :]\n",
    "X_data_train = X_data[: int(train_split * y_data.shape[0])]\n",
    "X_data_test = X_data[int(train_split * y_data.shape[0]) :]"
   ]
  },
  {
   "cell_type": "code",
   "execution_count": 121,
   "id": "bbfea6e6-d2d5-4517-ba2e-636f46df9ffe",
   "metadata": {},
   "outputs": [
    {
     "name": "stderr",
     "output_type": "stream",
     "text": [
      "C:\\Users\\susha\\anaconda3\\Lib\\site-packages\\keras\\src\\layers\\core\\input_layer.py:27: UserWarning: Argument `input_shape` is deprecated. Use `shape` instead.\n",
      "  warnings.warn(\n"
     ]
    }
   ],
   "source": [
    "model = tf.keras.Sequential()\n",
    "# Input layer\n",
    "model.add(tf.keras.layers.InputLayer(input_shape=(30, 30, 1)))\n",
    "model.add(tf.keras.layers.Conv2D(16, (3, 3), activation=\"relu\"))\n",
    "model.add(tf.keras.layers.MaxPooling2D((2, 2)))\n",
    "model.add(tf.keras.layers.Conv2D(32, (3, 3), activation=\"relu\"))\n",
    "model.add(tf.keras.layers.MaxPooling2D((2, 2)))\n",
    "model.add(tf.keras.layers.Conv2D(64, 3, activation=\"relu\"))\n",
    "model.add(tf.keras.layers.MaxPooling2D(2))\n",
    "model.add(tf.keras.layers.Flatten())\n",
    "model.add(tf.keras.layers.Dense(64, activation=\"relu\"))\n",
    "#model.add(tf.keras.layers.Dropout(0.5, seed=1234))\n",
    "model.add(tf.keras.layers.Dense(1, activation=\"sigmoid\"))"
   ]
  },
  {
   "cell_type": "code",
   "execution_count": 123,
   "id": "802e9fc1-a52f-4166-bf93-6960f971d777",
   "metadata": {},
   "outputs": [
    {
     "data": {
      "text/html": [
       "<pre style=\"white-space:pre;overflow-x:auto;line-height:normal;font-family:Menlo,'DejaVu Sans Mono',consolas,'Courier New',monospace\"><span style=\"font-weight: bold\">Model: \"sequential_2\"</span>\n",
       "</pre>\n"
      ],
      "text/plain": [
       "\u001b[1mModel: \"sequential_2\"\u001b[0m\n"
      ]
     },
     "metadata": {},
     "output_type": "display_data"
    },
    {
     "data": {
      "text/html": [
       "<pre style=\"white-space:pre;overflow-x:auto;line-height:normal;font-family:Menlo,'DejaVu Sans Mono',consolas,'Courier New',monospace\">┏━━━━━━━━━━━━━━━━━━━━━━━━━━━━━━━━━━━━━━┳━━━━━━━━━━━━━━━━━━━━━━━━━━━━━┳━━━━━━━━━━━━━━━━━┓\n",
       "┃<span style=\"font-weight: bold\"> Layer (type)                         </span>┃<span style=\"font-weight: bold\"> Output Shape                </span>┃<span style=\"font-weight: bold\">         Param # </span>┃\n",
       "┡━━━━━━━━━━━━━━━━━━━━━━━━━━━━━━━━━━━━━━╇━━━━━━━━━━━━━━━━━━━━━━━━━━━━━╇━━━━━━━━━━━━━━━━━┩\n",
       "│ conv2d_4 (<span style=\"color: #0087ff; text-decoration-color: #0087ff\">Conv2D</span>)                    │ (<span style=\"color: #00d7ff; text-decoration-color: #00d7ff\">None</span>, <span style=\"color: #00af00; text-decoration-color: #00af00\">28</span>, <span style=\"color: #00af00; text-decoration-color: #00af00\">28</span>, <span style=\"color: #00af00; text-decoration-color: #00af00\">16</span>)          │             <span style=\"color: #00af00; text-decoration-color: #00af00\">160</span> │\n",
       "├──────────────────────────────────────┼─────────────────────────────┼─────────────────┤\n",
       "│ max_pooling2d_4 (<span style=\"color: #0087ff; text-decoration-color: #0087ff\">MaxPooling2D</span>)       │ (<span style=\"color: #00d7ff; text-decoration-color: #00d7ff\">None</span>, <span style=\"color: #00af00; text-decoration-color: #00af00\">14</span>, <span style=\"color: #00af00; text-decoration-color: #00af00\">14</span>, <span style=\"color: #00af00; text-decoration-color: #00af00\">16</span>)          │               <span style=\"color: #00af00; text-decoration-color: #00af00\">0</span> │\n",
       "├──────────────────────────────────────┼─────────────────────────────┼─────────────────┤\n",
       "│ conv2d_5 (<span style=\"color: #0087ff; text-decoration-color: #0087ff\">Conv2D</span>)                    │ (<span style=\"color: #00d7ff; text-decoration-color: #00d7ff\">None</span>, <span style=\"color: #00af00; text-decoration-color: #00af00\">12</span>, <span style=\"color: #00af00; text-decoration-color: #00af00\">12</span>, <span style=\"color: #00af00; text-decoration-color: #00af00\">32</span>)          │           <span style=\"color: #00af00; text-decoration-color: #00af00\">4,640</span> │\n",
       "├──────────────────────────────────────┼─────────────────────────────┼─────────────────┤\n",
       "│ max_pooling2d_5 (<span style=\"color: #0087ff; text-decoration-color: #0087ff\">MaxPooling2D</span>)       │ (<span style=\"color: #00d7ff; text-decoration-color: #00d7ff\">None</span>, <span style=\"color: #00af00; text-decoration-color: #00af00\">6</span>, <span style=\"color: #00af00; text-decoration-color: #00af00\">6</span>, <span style=\"color: #00af00; text-decoration-color: #00af00\">32</span>)            │               <span style=\"color: #00af00; text-decoration-color: #00af00\">0</span> │\n",
       "├──────────────────────────────────────┼─────────────────────────────┼─────────────────┤\n",
       "│ conv2d_6 (<span style=\"color: #0087ff; text-decoration-color: #0087ff\">Conv2D</span>)                    │ (<span style=\"color: #00d7ff; text-decoration-color: #00d7ff\">None</span>, <span style=\"color: #00af00; text-decoration-color: #00af00\">4</span>, <span style=\"color: #00af00; text-decoration-color: #00af00\">4</span>, <span style=\"color: #00af00; text-decoration-color: #00af00\">64</span>)            │          <span style=\"color: #00af00; text-decoration-color: #00af00\">18,496</span> │\n",
       "├──────────────────────────────────────┼─────────────────────────────┼─────────────────┤\n",
       "│ max_pooling2d_6 (<span style=\"color: #0087ff; text-decoration-color: #0087ff\">MaxPooling2D</span>)       │ (<span style=\"color: #00d7ff; text-decoration-color: #00d7ff\">None</span>, <span style=\"color: #00af00; text-decoration-color: #00af00\">2</span>, <span style=\"color: #00af00; text-decoration-color: #00af00\">2</span>, <span style=\"color: #00af00; text-decoration-color: #00af00\">64</span>)            │               <span style=\"color: #00af00; text-decoration-color: #00af00\">0</span> │\n",
       "├──────────────────────────────────────┼─────────────────────────────┼─────────────────┤\n",
       "│ flatten_2 (<span style=\"color: #0087ff; text-decoration-color: #0087ff\">Flatten</span>)                  │ (<span style=\"color: #00d7ff; text-decoration-color: #00d7ff\">None</span>, <span style=\"color: #00af00; text-decoration-color: #00af00\">256</span>)                 │               <span style=\"color: #00af00; text-decoration-color: #00af00\">0</span> │\n",
       "├──────────────────────────────────────┼─────────────────────────────┼─────────────────┤\n",
       "│ dense_4 (<span style=\"color: #0087ff; text-decoration-color: #0087ff\">Dense</span>)                      │ (<span style=\"color: #00d7ff; text-decoration-color: #00d7ff\">None</span>, <span style=\"color: #00af00; text-decoration-color: #00af00\">64</span>)                  │          <span style=\"color: #00af00; text-decoration-color: #00af00\">16,448</span> │\n",
       "├──────────────────────────────────────┼─────────────────────────────┼─────────────────┤\n",
       "│ dense_5 (<span style=\"color: #0087ff; text-decoration-color: #0087ff\">Dense</span>)                      │ (<span style=\"color: #00d7ff; text-decoration-color: #00d7ff\">None</span>, <span style=\"color: #00af00; text-decoration-color: #00af00\">1</span>)                   │              <span style=\"color: #00af00; text-decoration-color: #00af00\">65</span> │\n",
       "└──────────────────────────────────────┴─────────────────────────────┴─────────────────┘\n",
       "</pre>\n"
      ],
      "text/plain": [
       "┏━━━━━━━━━━━━━━━━━━━━━━━━━━━━━━━━━━━━━━┳━━━━━━━━━━━━━━━━━━━━━━━━━━━━━┳━━━━━━━━━━━━━━━━━┓\n",
       "┃\u001b[1m \u001b[0m\u001b[1mLayer (type)                        \u001b[0m\u001b[1m \u001b[0m┃\u001b[1m \u001b[0m\u001b[1mOutput Shape               \u001b[0m\u001b[1m \u001b[0m┃\u001b[1m \u001b[0m\u001b[1m        Param #\u001b[0m\u001b[1m \u001b[0m┃\n",
       "┡━━━━━━━━━━━━━━━━━━━━━━━━━━━━━━━━━━━━━━╇━━━━━━━━━━━━━━━━━━━━━━━━━━━━━╇━━━━━━━━━━━━━━━━━┩\n",
       "│ conv2d_4 (\u001b[38;5;33mConv2D\u001b[0m)                    │ (\u001b[38;5;45mNone\u001b[0m, \u001b[38;5;34m28\u001b[0m, \u001b[38;5;34m28\u001b[0m, \u001b[38;5;34m16\u001b[0m)          │             \u001b[38;5;34m160\u001b[0m │\n",
       "├──────────────────────────────────────┼─────────────────────────────┼─────────────────┤\n",
       "│ max_pooling2d_4 (\u001b[38;5;33mMaxPooling2D\u001b[0m)       │ (\u001b[38;5;45mNone\u001b[0m, \u001b[38;5;34m14\u001b[0m, \u001b[38;5;34m14\u001b[0m, \u001b[38;5;34m16\u001b[0m)          │               \u001b[38;5;34m0\u001b[0m │\n",
       "├──────────────────────────────────────┼─────────────────────────────┼─────────────────┤\n",
       "│ conv2d_5 (\u001b[38;5;33mConv2D\u001b[0m)                    │ (\u001b[38;5;45mNone\u001b[0m, \u001b[38;5;34m12\u001b[0m, \u001b[38;5;34m12\u001b[0m, \u001b[38;5;34m32\u001b[0m)          │           \u001b[38;5;34m4,640\u001b[0m │\n",
       "├──────────────────────────────────────┼─────────────────────────────┼─────────────────┤\n",
       "│ max_pooling2d_5 (\u001b[38;5;33mMaxPooling2D\u001b[0m)       │ (\u001b[38;5;45mNone\u001b[0m, \u001b[38;5;34m6\u001b[0m, \u001b[38;5;34m6\u001b[0m, \u001b[38;5;34m32\u001b[0m)            │               \u001b[38;5;34m0\u001b[0m │\n",
       "├──────────────────────────────────────┼─────────────────────────────┼─────────────────┤\n",
       "│ conv2d_6 (\u001b[38;5;33mConv2D\u001b[0m)                    │ (\u001b[38;5;45mNone\u001b[0m, \u001b[38;5;34m4\u001b[0m, \u001b[38;5;34m4\u001b[0m, \u001b[38;5;34m64\u001b[0m)            │          \u001b[38;5;34m18,496\u001b[0m │\n",
       "├──────────────────────────────────────┼─────────────────────────────┼─────────────────┤\n",
       "│ max_pooling2d_6 (\u001b[38;5;33mMaxPooling2D\u001b[0m)       │ (\u001b[38;5;45mNone\u001b[0m, \u001b[38;5;34m2\u001b[0m, \u001b[38;5;34m2\u001b[0m, \u001b[38;5;34m64\u001b[0m)            │               \u001b[38;5;34m0\u001b[0m │\n",
       "├──────────────────────────────────────┼─────────────────────────────┼─────────────────┤\n",
       "│ flatten_2 (\u001b[38;5;33mFlatten\u001b[0m)                  │ (\u001b[38;5;45mNone\u001b[0m, \u001b[38;5;34m256\u001b[0m)                 │               \u001b[38;5;34m0\u001b[0m │\n",
       "├──────────────────────────────────────┼─────────────────────────────┼─────────────────┤\n",
       "│ dense_4 (\u001b[38;5;33mDense\u001b[0m)                      │ (\u001b[38;5;45mNone\u001b[0m, \u001b[38;5;34m64\u001b[0m)                  │          \u001b[38;5;34m16,448\u001b[0m │\n",
       "├──────────────────────────────────────┼─────────────────────────────┼─────────────────┤\n",
       "│ dense_5 (\u001b[38;5;33mDense\u001b[0m)                      │ (\u001b[38;5;45mNone\u001b[0m, \u001b[38;5;34m1\u001b[0m)                   │              \u001b[38;5;34m65\u001b[0m │\n",
       "└──────────────────────────────────────┴─────────────────────────────┴─────────────────┘\n"
      ]
     },
     "metadata": {},
     "output_type": "display_data"
    },
    {
     "data": {
      "text/html": [
       "<pre style=\"white-space:pre;overflow-x:auto;line-height:normal;font-family:Menlo,'DejaVu Sans Mono',consolas,'Courier New',monospace\"><span style=\"font-weight: bold\"> Total params: </span><span style=\"color: #00af00; text-decoration-color: #00af00\">39,809</span> (155.50 KB)\n",
       "</pre>\n"
      ],
      "text/plain": [
       "\u001b[1m Total params: \u001b[0m\u001b[38;5;34m39,809\u001b[0m (155.50 KB)\n"
      ]
     },
     "metadata": {},
     "output_type": "display_data"
    },
    {
     "data": {
      "text/html": [
       "<pre style=\"white-space:pre;overflow-x:auto;line-height:normal;font-family:Menlo,'DejaVu Sans Mono',consolas,'Courier New',monospace\"><span style=\"font-weight: bold\"> Trainable params: </span><span style=\"color: #00af00; text-decoration-color: #00af00\">39,809</span> (155.50 KB)\n",
       "</pre>\n"
      ],
      "text/plain": [
       "\u001b[1m Trainable params: \u001b[0m\u001b[38;5;34m39,809\u001b[0m (155.50 KB)\n"
      ]
     },
     "metadata": {},
     "output_type": "display_data"
    },
    {
     "data": {
      "text/html": [
       "<pre style=\"white-space:pre;overflow-x:auto;line-height:normal;font-family:Menlo,'DejaVu Sans Mono',consolas,'Courier New',monospace\"><span style=\"font-weight: bold\"> Non-trainable params: </span><span style=\"color: #00af00; text-decoration-color: #00af00\">0</span> (0.00 B)\n",
       "</pre>\n"
      ],
      "text/plain": [
       "\u001b[1m Non-trainable params: \u001b[0m\u001b[38;5;34m0\u001b[0m (0.00 B)\n"
      ]
     },
     "metadata": {},
     "output_type": "display_data"
    }
   ],
   "source": [
    "model.summary()"
   ]
  },
  {
   "cell_type": "code",
   "execution_count": 125,
   "id": "4ccafa17-9633-4c14-b440-64b28e1c0c68",
   "metadata": {},
   "outputs": [
    {
     "name": "stdout",
     "output_type": "stream",
     "text": [
      "{0: 2.209606986899563, 1: 1.0}\n"
     ]
    }
   ],
   "source": [
    "model.compile(loss=\"binary_crossentropy\", optimizer=\"RMSprop\", metrics=[\"accuracy\"])\n",
    "checkpoint = tf.keras.callbacks.ModelCheckpoint(\n",
    "    \"model.h5\", monitor=\"val_accuracy\", save_best_only=True, mode=\"auto\"\n",
    ")\n",
    "class_weight = {0: 1 / (1 - np.mean(y_data_train)), 1: 1.0}\n",
    "print(class_weight)"
   ]
  },
  {
   "cell_type": "code",
   "execution_count": 127,
   "id": "bc7338db-fe3f-434a-bac3-d74b4578ceca",
   "metadata": {},
   "outputs": [
    {
     "name": "stdout",
     "output_type": "stream",
     "text": [
      "Epoch 1/10\n",
      "\u001b[1m46/48\u001b[0m \u001b[32m━━━━━━━━━━━━━━━━━━━\u001b[0m\u001b[37m━\u001b[0m \u001b[1m0s\u001b[0m 8ms/step - accuracy: 0.5102 - loss: 8.0268"
     ]
    },
    {
     "name": "stderr",
     "output_type": "stream",
     "text": [
      "WARNING:absl:You are saving your model as an HDF5 file via `model.save()` or `keras.saving.save_model(model)`. This file format is considered legacy. We recommend using instead the native Keras format, e.g. `model.save('my_model.keras')` or `keras.saving.save_model(model, 'my_model.keras')`. \n"
     ]
    },
    {
     "name": "stdout",
     "output_type": "stream",
     "text": [
      "\u001b[1m48/48\u001b[0m \u001b[32m━━━━━━━━━━━━━━━━━━━━\u001b[0m\u001b[37m\u001b[0m \u001b[1m3s\u001b[0m 20ms/step - accuracy: 0.5103 - loss: 7.7621 - val_accuracy: 0.5053 - val_loss: 1.0516\n",
      "Epoch 2/10\n",
      "\u001b[1m48/48\u001b[0m \u001b[32m━━━━━━━━━━━━━━━━━━━━\u001b[0m\u001b[37m\u001b[0m \u001b[1m1s\u001b[0m 11ms/step - accuracy: 0.5202 - loss: 1.2275 - val_accuracy: 0.4579 - val_loss: 0.7760\n",
      "Epoch 3/10\n",
      "\u001b[1m48/48\u001b[0m \u001b[32m━━━━━━━━━━━━━━━━━━━━\u001b[0m\u001b[37m\u001b[0m \u001b[1m1s\u001b[0m 11ms/step - accuracy: 0.5622 - loss: 1.0420 - val_accuracy: 0.5053 - val_loss: 0.7361\n",
      "Epoch 4/10\n",
      "\u001b[1m46/48\u001b[0m \u001b[32m━━━━━━━━━━━━━━━━━━━\u001b[0m\u001b[37m━\u001b[0m \u001b[1m0s\u001b[0m 8ms/step - accuracy: 0.6178 - loss: 0.9074"
     ]
    },
    {
     "name": "stderr",
     "output_type": "stream",
     "text": [
      "WARNING:absl:You are saving your model as an HDF5 file via `model.save()` or `keras.saving.save_model(model)`. This file format is considered legacy. We recommend using instead the native Keras format, e.g. `model.save('my_model.keras')` or `keras.saving.save_model(model, 'my_model.keras')`. \n"
     ]
    },
    {
     "name": "stdout",
     "output_type": "stream",
     "text": [
      "\u001b[1m48/48\u001b[0m \u001b[32m━━━━━━━━━━━━━━━━━━━━\u001b[0m\u001b[37m\u001b[0m \u001b[1m1s\u001b[0m 13ms/step - accuracy: 0.6170 - loss: 0.9087 - val_accuracy: 0.5447 - val_loss: 0.7799\n",
      "Epoch 5/10\n",
      "\u001b[1m48/48\u001b[0m \u001b[32m━━━━━━━━━━━━━━━━━━━━\u001b[0m\u001b[37m\u001b[0m \u001b[1m1s\u001b[0m 11ms/step - accuracy: 0.6258 - loss: 0.8718 - val_accuracy: 0.5132 - val_loss: 0.8032\n",
      "Epoch 6/10\n",
      "\u001b[1m48/48\u001b[0m \u001b[32m━━━━━━━━━━━━━━━━━━━━\u001b[0m\u001b[37m\u001b[0m \u001b[1m1s\u001b[0m 11ms/step - accuracy: 0.7066 - loss: 0.7567 - val_accuracy: 0.5447 - val_loss: 0.7973\n",
      "Epoch 7/10\n",
      "\u001b[1m48/48\u001b[0m \u001b[32m━━━━━━━━━━━━━━━━━━━━\u001b[0m\u001b[37m\u001b[0m \u001b[1m1s\u001b[0m 11ms/step - accuracy: 0.7163 - loss: 0.7298 - val_accuracy: 0.5184 - val_loss: 2.3526\n",
      "Epoch 8/10\n",
      "\u001b[1m41/48\u001b[0m \u001b[32m━━━━━━━━━━━━━━━━━\u001b[0m\u001b[37m━━━\u001b[0m \u001b[1m0s\u001b[0m 8ms/step - accuracy: 0.7626 - loss: 0.7504"
     ]
    },
    {
     "name": "stderr",
     "output_type": "stream",
     "text": [
      "WARNING:absl:You are saving your model as an HDF5 file via `model.save()` or `keras.saving.save_model(model)`. This file format is considered legacy. We recommend using instead the native Keras format, e.g. `model.save('my_model.keras')` or `keras.saving.save_model(model, 'my_model.keras')`. \n"
     ]
    },
    {
     "name": "stdout",
     "output_type": "stream",
     "text": [
      "\u001b[1m48/48\u001b[0m \u001b[32m━━━━━━━━━━━━━━━━━━━━\u001b[0m\u001b[37m\u001b[0m \u001b[1m1s\u001b[0m 12ms/step - accuracy: 0.7644 - loss: 0.7355 - val_accuracy: 0.5553 - val_loss: 0.9639\n",
      "Epoch 9/10\n",
      "\u001b[1m48/48\u001b[0m \u001b[32m━━━━━━━━━━━━━━━━━━━━\u001b[0m\u001b[37m\u001b[0m \u001b[1m1s\u001b[0m 11ms/step - accuracy: 0.8252 - loss: 0.5232 - val_accuracy: 0.5500 - val_loss: 1.1273\n",
      "Epoch 10/10\n",
      "\u001b[1m48/48\u001b[0m \u001b[32m━━━━━━━━━━━━━━━━━━━━\u001b[0m\u001b[37m\u001b[0m \u001b[1m1s\u001b[0m 11ms/step - accuracy: 0.8497 - loss: 0.4485 - val_accuracy: 0.5184 - val_loss: 1.1479\n"
     ]
    },
    {
     "data": {
      "text/plain": [
       "<keras.src.callbacks.history.History at 0x21ba182d8b0>"
      ]
     },
     "execution_count": 127,
     "metadata": {},
     "output_type": "execute_result"
    }
   ],
   "source": [
    "model.fit(\n",
    "    x=X_data_train,\n",
    "    y=y_data_train,\n",
    "    epochs=10,\n",
    "    validation_data=(X_data_test, y_data_test),\n",
    "    verbose=1,\n",
    "    callbacks=[checkpoint],\n",
    "    class_weight=class_weight,\n",
    ")"
   ]
  },
  {
   "cell_type": "code",
   "execution_count": 128,
   "id": "9d260112-f0bb-43cb-8c76-be07641ede09",
   "metadata": {},
   "outputs": [
    {
     "name": "stderr",
     "output_type": "stream",
     "text": [
      "WARNING:absl:Compiled the loaded model, but the compiled metrics have yet to be built. `model.compile_metrics` will be empty until you train or evaluate the model.\n"
     ]
    },
    {
     "name": "stdout",
     "output_type": "stream",
     "text": [
      "\u001b[1m12/12\u001b[0m \u001b[32m━━━━━━━━━━━━━━━━━━━━\u001b[0m\u001b[37m\u001b[0m \u001b[1m1s\u001b[0m 8ms/step - accuracy: 0.5626 - loss: 0.9381\n",
      "Accuracy over validation: 55.53%\n"
     ]
    }
   ],
   "source": [
    "model = tf.keras.models.load_model(\"model.h5\")\n",
    "acc = model.evaluate(x=X_data_test, y=y_data_test)\n",
    "print(\"Accuracy over validation: {:.2f}%\".format(acc[1] * 100))"
   ]
  },
  {
   "cell_type": "code",
   "execution_count": null,
   "id": "f0a46ca8-64f2-4c17-8e88-7c2cd899b36f",
   "metadata": {},
   "outputs": [],
   "source": []
  }
 ],
 "metadata": {
  "kernelspec": {
   "display_name": "Python [conda env:base] *",
   "language": "python",
   "name": "conda-base-py"
  },
  "language_info": {
   "codemirror_mode": {
    "name": "ipython",
    "version": 3
   },
   "file_extension": ".py",
   "mimetype": "text/x-python",
   "name": "python",
   "nbconvert_exporter": "python",
   "pygments_lexer": "ipython3",
   "version": "3.12.7"
  }
 },
 "nbformat": 4,
 "nbformat_minor": 5
}
