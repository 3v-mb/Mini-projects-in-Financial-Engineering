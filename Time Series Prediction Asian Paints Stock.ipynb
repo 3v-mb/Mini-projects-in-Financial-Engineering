{
 "cells": [
  {
   "cell_type": "markdown",
   "id": "b002a187-6cbf-41d0-b114-0b2b810e97fc",
   "metadata": {},
   "source": [
    "\n",
    "# **MScFE 642: Deep Learning for Finance**\n",
    "## **Group Work Project #1**  \n",
    "\n",
    "👥 **Group Members:**  \n",
    "- **Maheshwar Bhat P** (India)  \n",
    "- **James Mane** (Ghana)  \n",
    "- **Freddy Kuriakose** (India)  \n",
    "\n",
    "---\n"
   ]
  },
  {
   "cell_type": "markdown",
   "id": "2765a64a-0a3d-452e-90a6-141fbd3d6141",
   "metadata": {},
   "source": [
    "\n",
    "## **📌 Introduction**\n",
    "This project focuses on **time series forecasting using deep learning techniques**. We will analyze, preprocess, and model financial time series data using **Multi-Layer Perceptron (MLP) and Convolutional Neural Networks (CNNs)**. The project is structured as follows:\n",
    "\n",
    "1. **Step 1: Time Series Data Analysis and Stationarity Checks**\n",
    "2. **Step 2: Developing a Deep Learning Model using MLP**\n",
    "3. **Step 3: Comparing MLP with CNN using GAF Representation**\n",
    "4. **Step 4: Model Comparison and Discussion**\n",
    "\n",
    "\n",
    "\n"
   ]
  },
  {
   "cell_type": "code",
   "execution_count": 3,
   "id": "81db0dab-dc00-4b9d-957b-a25e472f4e32",
   "metadata": {
    "scrolled": true
   },
   "outputs": [],
   "source": [
    "import pandas as pd\n",
    "import numpy as np\n",
    "import matplotlib.pyplot as plt\n",
    "import yfinance as yf\n",
    "import keras_tuner as kt\n",
    "import tensorflow as tf\n",
    "from statsmodels.graphics.tsaplots import plot_acf, plot_pacf\n",
    "from statsmodels.tsa.stattools import adfuller\n",
    "from sklearn.model_selection import train_test_split\n",
    "from sklearn.metrics import confusion_matrix\n",
    "from pyts.image import GramianAngularField"
   ]
  },
  {
   "cell_type": "markdown",
   "id": "4bbbc5e2-e5d8-4c2a-83c2-5705dd9cffee",
   "metadata": {},
   "source": [
    "\n",
    "# **📌 Step 1: Time Series Data Analysis and Stationarity Checks**\n",
    "\n",
    "### **Gathering and Exploring Data**"
   ]
  },
  {
   "cell_type": "markdown",
   "id": "25eee50f-bbcc-494c-a498-d2931844a775",
   "metadata": {},
   "source": [
    "Let us consider the stock Asian Paints, which is traded on the Indian stock markets. We download the data from yfinance for the past 8 years."
   ]
  },
  {
   "cell_type": "code",
   "execution_count": 7,
   "id": "c704df7b-a5f8-4484-9b98-5c3a191daf39",
   "metadata": {},
   "outputs": [],
   "source": [
    "stock = yf.Ticker(\"ASIANPAINT.NS\").history(period=\"8y\")"
   ]
  },
  {
   "cell_type": "code",
   "execution_count": 8,
   "id": "2f271487-45d7-4b4c-9b68-6365807f54da",
   "metadata": {},
   "outputs": [
    {
     "data": {
      "text/html": [
       "<div>\n",
       "<style scoped>\n",
       "    .dataframe tbody tr th:only-of-type {\n",
       "        vertical-align: middle;\n",
       "    }\n",
       "\n",
       "    .dataframe tbody tr th {\n",
       "        vertical-align: top;\n",
       "    }\n",
       "\n",
       "    .dataframe thead th {\n",
       "        text-align: right;\n",
       "    }\n",
       "</style>\n",
       "<table border=\"1\" class=\"dataframe\">\n",
       "  <thead>\n",
       "    <tr style=\"text-align: right;\">\n",
       "      <th></th>\n",
       "      <th>Open</th>\n",
       "      <th>High</th>\n",
       "      <th>Low</th>\n",
       "      <th>Close</th>\n",
       "      <th>Volume</th>\n",
       "      <th>Dividends</th>\n",
       "      <th>Stock Splits</th>\n",
       "    </tr>\n",
       "    <tr>\n",
       "      <th>Date</th>\n",
       "      <th></th>\n",
       "      <th></th>\n",
       "      <th></th>\n",
       "      <th></th>\n",
       "      <th></th>\n",
       "      <th></th>\n",
       "      <th></th>\n",
       "    </tr>\n",
       "  </thead>\n",
       "  <tbody>\n",
       "    <tr>\n",
       "      <th>2017-02-27 00:00:00+05:30</th>\n",
       "      <td>953.300900</td>\n",
       "      <td>961.370911</td>\n",
       "      <td>942.918415</td>\n",
       "      <td>945.702820</td>\n",
       "      <td>738246</td>\n",
       "      <td>0.0</td>\n",
       "      <td>0.0</td>\n",
       "    </tr>\n",
       "    <tr>\n",
       "      <th>2017-02-28 00:00:00+05:30</th>\n",
       "      <td>946.788264</td>\n",
       "      <td>969.157870</td>\n",
       "      <td>942.116191</td>\n",
       "      <td>966.703735</td>\n",
       "      <td>1368244</td>\n",
       "      <td>0.0</td>\n",
       "      <td>0.0</td>\n",
       "    </tr>\n",
       "    <tr>\n",
       "      <th>2017-03-01 00:00:00+05:30</th>\n",
       "      <td>972.178121</td>\n",
       "      <td>981.616744</td>\n",
       "      <td>968.449912</td>\n",
       "      <td>974.773743</td>\n",
       "      <td>1124115</td>\n",
       "      <td>0.0</td>\n",
       "      <td>0.0</td>\n",
       "    </tr>\n",
       "    <tr>\n",
       "      <th>2017-03-02 00:00:00+05:30</th>\n",
       "      <td>979.634531</td>\n",
       "      <td>986.099963</td>\n",
       "      <td>968.780116</td>\n",
       "      <td>970.998169</td>\n",
       "      <td>1037442</td>\n",
       "      <td>0.0</td>\n",
       "      <td>0.0</td>\n",
       "    </tr>\n",
       "    <tr>\n",
       "      <th>2017-03-03 00:00:00+05:30</th>\n",
       "      <td>969.393685</td>\n",
       "      <td>969.393685</td>\n",
       "      <td>949.525341</td>\n",
       "      <td>956.793091</td>\n",
       "      <td>596208</td>\n",
       "      <td>0.0</td>\n",
       "      <td>0.0</td>\n",
       "    </tr>\n",
       "  </tbody>\n",
       "</table>\n",
       "</div>"
      ],
      "text/plain": [
       "                                 Open        High         Low       Close  \\\n",
       "Date                                                                        \n",
       "2017-02-27 00:00:00+05:30  953.300900  961.370911  942.918415  945.702820   \n",
       "2017-02-28 00:00:00+05:30  946.788264  969.157870  942.116191  966.703735   \n",
       "2017-03-01 00:00:00+05:30  972.178121  981.616744  968.449912  974.773743   \n",
       "2017-03-02 00:00:00+05:30  979.634531  986.099963  968.780116  970.998169   \n",
       "2017-03-03 00:00:00+05:30  969.393685  969.393685  949.525341  956.793091   \n",
       "\n",
       "                            Volume  Dividends  Stock Splits  \n",
       "Date                                                         \n",
       "2017-02-27 00:00:00+05:30   738246        0.0           0.0  \n",
       "2017-02-28 00:00:00+05:30  1368244        0.0           0.0  \n",
       "2017-03-01 00:00:00+05:30  1124115        0.0           0.0  \n",
       "2017-03-02 00:00:00+05:30  1037442        0.0           0.0  \n",
       "2017-03-03 00:00:00+05:30   596208        0.0           0.0  "
      ]
     },
     "execution_count": 8,
     "metadata": {},
     "output_type": "execute_result"
    }
   ],
   "source": [
    "stock.head()"
   ]
  },
  {
   "cell_type": "code",
   "execution_count": 9,
   "id": "bb75fe2a-bf38-4de5-8b52-307489a65b8b",
   "metadata": {},
   "outputs": [
    {
     "data": {
      "text/plain": [
       "(1977, 7)"
      ]
     },
     "execution_count": 9,
     "metadata": {},
     "output_type": "execute_result"
    }
   ],
   "source": [
    "stock.shape #less than 2000 rows of data, as stated in the GWP"
   ]
  },
  {
   "cell_type": "markdown",
   "id": "465ed4a2-6553-4a76-b669-92426dd202e8",
   "metadata": {},
   "source": [
    "For the analysis that follows, we consider just the closing price"
   ]
  },
  {
   "cell_type": "code",
   "execution_count": 12,
   "id": "5a38ba63-3d55-40e3-9464-75570e2c71c9",
   "metadata": {},
   "outputs": [
    {
     "data": {
      "text/plain": [
       "Date\n",
       "2017-02-27 00:00:00+05:30    945.702820\n",
       "2017-02-28 00:00:00+05:30    966.703735\n",
       "2017-03-01 00:00:00+05:30    974.773743\n",
       "2017-03-02 00:00:00+05:30    970.998169\n",
       "2017-03-03 00:00:00+05:30    956.793091\n",
       "Name: Close, dtype: float64"
      ]
     },
     "execution_count": 12,
     "metadata": {},
     "output_type": "execute_result"
    }
   ],
   "source": [
    "data = stock[\"Close\"]\n",
    "data.head()"
   ]
  },
  {
   "cell_type": "code",
   "execution_count": 16,
   "id": "7468c34d-4ae3-43cf-add5-7bc78d7593e5",
   "metadata": {
    "scrolled": true
   },
   "outputs": [
    {
     "data": {
      "image/png": "[encoded data removed]",
      "text/plain": [
       "<Figure size 640x480 with 1 Axes>"
      ]
     },
     "metadata": {},
     "output_type": "display_data"
    }
   ],
   "source": [
    "#Plot the time series\n",
    "data.plot(ylabel=\"Asian Paints Closing Prices\")\n",
    "plt.grid()"
   ]
  },
  {
   "cell_type": "markdown",
   "id": "62d1f5d5-a41e-47c2-9faf-0bcee73ec498",
   "metadata": {},
   "source": [
    "The plot clearly shows a trend in the time series. The prices of the Asian Paints stock clearly rises with time."
   ]
  },
  {
   "cell_type": "code",
   "execution_count": 19,
   "id": "fc92902f-9e1a-4181-8efb-32abc1f9b416",
   "metadata": {},
   "outputs": [
    {
     "data": {
      "text/plain": [
       "count    1977.000000\n",
       "mean     2198.306169\n",
       "std       825.521085\n",
       "min       945.702820\n",
       "25%      1332.761719\n",
       "50%      2324.152100\n",
       "75%      2987.030029\n",
       "max      3497.629883\n",
       "Name: Close, dtype: float64"
      ]
     },
     "execution_count": 19,
     "metadata": {},
     "output_type": "execute_result"
    }
   ],
   "source": [
    "data.describe() #summary statistics for the untransformed time series"
   ]
  },
  {
   "cell_type": "code",
   "execution_count": 21,
   "id": "6cf0ba94-94b7-4616-9adc-4dc523a029c5",
   "metadata": {},
   "outputs": [
    {
     "data": {
      "text/plain": [
       "-1.621242581491964"
      ]
     },
     "execution_count": 21,
     "metadata": {},
     "output_type": "execute_result"
    }
   ],
   "source": [
    "data.kurtosis()"
   ]
  },
  {
   "cell_type": "code",
   "execution_count": 23,
   "id": "0104c296-898d-4930-9787-cfa6f9ebd97a",
   "metadata": {},
   "outputs": [
    {
     "data": {
      "text/plain": [
       "-0.09013814175608995"
      ]
     },
     "execution_count": 23,
     "metadata": {},
     "output_type": "execute_result"
    }
   ],
   "source": [
    "data.skew()"
   ]
  },
  {
   "cell_type": "markdown",
   "id": "4af69dd9-02e3-49c9-84b1-5fc665453662",
   "metadata": {},
   "source": [
    "Note that the series has a high standard deviation of 827.44, and a mean of 2196.67."
   ]
  },
  {
   "cell_type": "code",
   "execution_count": 26,
   "id": "60e9c7a3-2f24-4dc2-b918-629f96cf8643",
   "metadata": {},
   "outputs": [
    {
     "data": {
      "text/plain": [
       "Text(0.5, 1.0, 'Histogram of Asian Paints Closing Price')"
      ]
     },
     "execution_count": 26,
     "metadata": {},
     "output_type": "execute_result"
    },
    {
     "data": {
      "image/png": "[encoded data removed]",
      "text/plain": [
       "<Figure size 640x480 with 1 Axes>"
      ]
     },
     "metadata": {},
     "output_type": "display_data"
    }
   ],
   "source": [
    "data.hist(bins = 10)\n",
    "plt.xlabel(\"Closing Price\")\n",
    "plt.ylabel(\"Number of Days\")\n",
    "plt.title(\"Histogram of Asian Paints Closing Price\")"
   ]
  },
  {
   "cell_type": "markdown",
   "id": "97c4d66f-8561-4319-8dfd-849768398702",
   "metadata": {},
   "source": [
    "Let us check for the presence of autocorrelation in the time series with different lags"
   ]
  },
  {
   "cell_type": "code",
   "execution_count": 29,
   "id": "cf7f9e04-b098-474f-ad47-1e5613df61c8",
   "metadata": {},
   "outputs": [
    {
     "name": "stdout",
     "output_type": "stream",
     "text": [
      "0.9991022175592188\n",
      "0.9951753827067475\n",
      "0.9904763073456849\n",
      "0.9481958985277188\n",
      "0.913221599456134\n",
      "0.8836509753263663\n",
      "0.6499354387161036\n",
      "-0.3775533634575413\n"
     ]
    }
   ],
   "source": [
    "for i in [1, 5, 10, 50, 100, 200, 500, 1000]:\n",
    "    print(data.autocorr(lag = i))"
   ]
  },
  {
   "cell_type": "markdown",
   "id": "7a4bf95d-4479-49e4-a320-22671e50be6b",
   "metadata": {},
   "source": [
    "As you can see, the time series is heavily autocorrelated"
   ]
  },
  {
   "cell_type": "markdown",
   "id": "a5d2c9bb-c616-4bee-b057-29f9f3487b41",
   "metadata": {},
   "source": [
    "Let us test for stationarity using the Augmented Dickey-Fuller test"
   ]
  },
  {
   "cell_type": "code",
   "execution_count": 33,
   "id": "1290b192-d975-4b28-87dc-ef4b1064fa82",
   "metadata": {},
   "outputs": [
    {
     "data": {
      "text/plain": [
       "(-1.5513487407691144,\n",
       " 0.5079744130858546,\n",
       " 1,\n",
       " {'1%': -3.433665351698571,\n",
       "  '5%': -2.8630045337025267,\n",
       "  '10%': -2.567549656849864})"
      ]
     },
     "execution_count": 33,
     "metadata": {},
     "output_type": "execute_result"
    }
   ],
   "source": [
    "adf_result_data = adfuller(data)\n",
    "adf_statistic = adf_result_data[0] \n",
    "p_value = adf_result_data[1]\n",
    "used_lags = adf_result_data[2] \n",
    "critical_values = adf_result_data[4] \n",
    "\n",
    "adf_statistic, p_value, used_lags, critical_values"
   ]
  },
  {
   "cell_type": "markdown",
   "id": "16ed6348-87a1-429f-8470-e8e21d6fce33",
   "metadata": {},
   "source": [
    "Note that the adf_statistic of -1.55 is higher than all the critical values. The p-value is 0.5 which is greater than 0.05. This means that we fail to reject the null hypothesis (that the series has a unit root). So, the untransformed time series for the Asian Paints NSE stock can be said be non-stationary."
   ]
  },
  {
   "cell_type": "markdown",
   "id": "2c1cf965-2aa5-40fd-9b2d-60f3ae5d5ed6",
   "metadata": {},
   "source": [
    "### **Characterization of the Main Properties of the Time Series**\n",
    "#### **1. Summary Statistics**\n",
    "The time series represents the **closing prices** of Asian Paints NSE stock. The summary statistics provide a detailed understanding of its distribution:\n",
    "\n",
    "| Statistic | Value |\n",
    "|-----------|-------|\n",
    "| Count | 1977 |\n",
    "| Mean | 2198.31 |\n",
    "| Standard Deviation | 825.52 |\n",
    "| Minimum | 945.70 |\n",
    "| 25th Percentile | 1332.76 |\n",
    "| 50th Percentile (Median) | 2324.15 |\n",
    "| 75th Percentile | 2987.03 |\n",
    "| Maximum | 3497.63 |\n",
    "\n",
    "📌 **Insights from Summary Statistics:**\n",
    "- The **mean price** of the stock is **2198.31**, with a **high standard deviation (825.52)**, indicating significant price fluctuations.\n",
    "- The price range spans from **945.70 to 3497.63**, showing a wide spread of values.\n",
    "- The **median (2324.15)** is slightly above the mean, indicating a slight right skew in the distribution.\n",
    "\n",
    "---\n",
    "\n",
    "#### **2. Distribution Analysis**\n",
    "- **Kurtosis:** -1.62 (Negative Kurtosis indicates a platykurtic distribution, meaning fewer extreme price fluctuations).\n",
    "- **Skewness:** -0.09 (Slightly left-skewed, meaning a small tendency for lower values).\n",
    "\n",
    "📌 **Inference:**\n",
    "- The closing prices are **fairly symmetrically distributed**, with a slight left skew.\n",
    "- The **platykurtic nature** suggests that there are fewer extreme values, meaning the stock price variations are not highly volatile.\n",
    "\n",
    "---\n",
    "\n",
    "#### **3. Persistence and Autocorrelation**\n",
    "- The **autocorrelation values at various lags** indicate that the time series is **highly autocorrelated** (values close to 1), meaning **past values strongly influence future values**.\n",
    "- This suggests that the price movements are not completely random and exhibit a **strong trend-following nature**.\n",
    "\n",
    "📌 **Inference:**\n",
    "- The high autocorrelation implies that the stock follows a **persistent trend**, which could be useful in forecasting future prices.\n",
    "\n",
    "---\n",
    "\n",
    "#### **4. Stationarity Check (Augmented Dickey-Fuller Test)**\n",
    "- **ADF Test Statistic:** -1.55\n",
    "- **p-value:** 0.49 (greater than 0.05)\n",
    "- **Critical Values:**\n",
    "  - 1%: -3.43\n",
    "  - 5%: -2.86\n",
    "  - 10%: -2.56\n",
    "\n",
    "📌 **Inference:**\n",
    "- Since the **ADF test statistic (-1.55) is higher than all critical values** and the **p-value (0.49) is greater than 0.05**, we **fail to reject the null hypothesis**.\n",
    "- This means the **time series is non-stationary**, indicating that the mean and variance change over time.\n"
   ]
  },
  {
   "cell_type": "markdown",
   "id": "9de9e126-b55b-41e7-a518-53f3c6ec1f6a",
   "metadata": {},
   "source": [
    "## Now, let us difference the time series and explore its characteristics ##"
   ]
  },
  {
   "cell_type": "code",
   "execution_count": 36,
   "id": "d4475f00-d17a-4422-a6e9-afd918335214",
   "metadata": {},
   "outputs": [],
   "source": [
    "differenced_data = data.diff()[1:]"
   ]
  },
  {
   "cell_type": "code",
   "execution_count": 38,
   "id": "2cd3f834-c62d-44f0-a6df-42e5107093dd",
   "metadata": {},
   "outputs": [
    {
     "data": {
      "text/plain": [
       "Date\n",
       "2017-02-28 00:00:00+05:30    21.000916\n",
       "2017-03-01 00:00:00+05:30     8.070007\n",
       "2017-03-02 00:00:00+05:30    -3.775574\n",
       "2017-03-03 00:00:00+05:30   -14.205078\n",
       "2017-03-06 00:00:00+05:30    14.818665\n",
       "Name: Close, dtype: float64"
      ]
     },
     "execution_count": 38,
     "metadata": {},
     "output_type": "execute_result"
    }
   ],
   "source": [
    "differenced_data.head()"
   ]
  },
  {
   "cell_type": "code",
   "execution_count": 40,
   "id": "82fc6a05-2905-455d-9e07-be1de5941ad0",
   "metadata": {},
   "outputs": [
    {
     "data": {
      "text/plain": [
       "(1976,)"
      ]
     },
     "execution_count": 40,
     "metadata": {},
     "output_type": "execute_result"
    }
   ],
   "source": [
    "differenced_data.shape"
   ]
  },
  {
   "cell_type": "code",
   "execution_count": 42,
   "id": "ce4d747f-e1ed-42c1-a4f7-02aa34b394f4",
   "metadata": {},
   "outputs": [
    {
     "data": {
      "text/plain": [
       "Text(0, 0.5, 'Differenced Prices [Lag 1]')"
      ]
     },
     "execution_count": 42,
     "metadata": {},
     "output_type": "execute_result"
    },
    {
     "data": {
      "image/png": "[encoded data removed]",
      "text/plain": [
       "<Figure size 640x480 with 1 Axes>"
      ]
     },
     "metadata": {},
     "output_type": "display_data"
    }
   ],
   "source": [
    "differenced_data.plot()\n",
    "plt.grid()\n",
    "plt.xlabel(\"Year\")\n",
    "plt.ylabel(\"Differenced Prices [Lag 1]\")"
   ]
  },
  {
   "cell_type": "code",
   "execution_count": 43,
   "id": "d5fd6541-9ff8-46a6-93ea-73b13fe25336",
   "metadata": {},
   "outputs": [
    {
     "name": "stdout",
     "output_type": "stream",
     "text": [
      "0.048423789908210446\n",
      "-0.0138936192962558\n",
      "0.0016999124685920179\n",
      "-0.06201984517802574\n",
      "-0.06143718069812953\n",
      "0.005708513046608016\n",
      "-0.01422184331776993\n",
      "0.018341580212175634\n"
     ]
    }
   ],
   "source": [
    "for i in [1, 5, 10, 50, 100, 200, 500, 1000]:\n",
    "    print(differenced_data.autocorr(lag = i))"
   ]
  },
  {
   "cell_type": "markdown",
   "id": "eeae67a7-0632-4df1-9562-8e366bcea7c4",
   "metadata": {},
   "source": [
    "Note that here, the autocorrelation in the differenced series is not as severe as it was in the original time series"
   ]
  },
  {
   "cell_type": "code",
   "execution_count": 46,
   "id": "d5a2dd66-ba5e-4848-b603-855611890245",
   "metadata": {},
   "outputs": [
    {
     "data": {
      "text/plain": [
       "count    1976.000000\n",
       "mean        0.647291\n",
       "std        34.982677\n",
       "min      -242.194092\n",
       "25%       -13.655365\n",
       "50%         0.412292\n",
       "75%        15.957367\n",
       "max       211.207031\n",
       "Name: Close, dtype: float64"
      ]
     },
     "execution_count": 46,
     "metadata": {},
     "output_type": "execute_result"
    }
   ],
   "source": [
    "differenced_data.describe()"
   ]
  },
  {
   "cell_type": "code",
   "execution_count": 48,
   "id": "68a77287-9eca-47c4-8021-6ea9067f13c5",
   "metadata": {},
   "outputs": [
    {
     "data": {
      "text/plain": [
       "6.382513029472554"
      ]
     },
     "execution_count": 48,
     "metadata": {},
     "output_type": "execute_result"
    }
   ],
   "source": [
    "differenced_data.kurtosis()"
   ]
  },
  {
   "cell_type": "code",
   "execution_count": 50,
   "id": "441bc379-5b67-4617-82f9-00630ee16a6a",
   "metadata": {},
   "outputs": [
    {
     "data": {
      "text/plain": [
       "-0.47267181775437855"
      ]
     },
     "execution_count": 50,
     "metadata": {},
     "output_type": "execute_result"
    }
   ],
   "source": [
    "differenced_data.skew()"
   ]
  },
  {
   "cell_type": "markdown",
   "id": "63f2ff6b-98fe-4a0e-bda7-6235e4a1dbc0",
   "metadata": {},
   "source": [
    "The differenced time series seems to be de-trended now. Let us now test for stationarity."
   ]
  },
  {
   "cell_type": "code",
   "execution_count": 53,
   "id": "e79af474-f987-406e-8d7d-200a8e17018d",
   "metadata": {},
   "outputs": [
    {
     "data": {
      "text/plain": [
       "(-42.31651596719221,\n",
       " 0.0,\n",
       " 0,\n",
       " {'1%': -3.433665351698571,\n",
       "  '5%': -2.8630045337025267,\n",
       "  '10%': -2.567549656849864})"
      ]
     },
     "execution_count": 53,
     "metadata": {},
     "output_type": "execute_result"
    }
   ],
   "source": [
    "adf_result_differenced_data = adfuller(differenced_data)\n",
    "adf_statistic = adf_result_differenced_data[0] \n",
    "p_value = adf_result_differenced_data[1]\n",
    "used_lags = adf_result_differenced_data[2] \n",
    "critical_values = adf_result_differenced_data[4] \n",
    "\n",
    "adf_statistic, p_value, used_lags, critical_values"
   ]
  },
  {
   "cell_type": "markdown",
   "id": "7760a80b-c42c-4425-bf33-f8fec514bc81",
   "metadata": {},
   "source": [
    "Here, note that the p value is zero and the adf_statistic of -42.31 is lesser than all the critical values, which implies that the differenced time series is stationary."
   ]
  },
  {
   "cell_type": "markdown",
   "id": "30bdd941-3d80-4a91-aeb6-efca4c7e9205",
   "metadata": {},
   "source": [
    "### **Characterization of the Main Properties of the Differenced  Time Series**\n",
    "\n",
    "#### **1. Summary Statistics**\n",
    "The dataset represents **closing prices** of Asian Paints NSE stock. The statistical summary of the differenced time series is as follows:\n",
    "\n",
    "| Statistic | Value |\n",
    "|-----------|-------|\n",
    "| Count | 1976 |\n",
    "| Mean | 0.647 |\n",
    "| Standard Deviation | 34.98 |\n",
    "| Minimum | -242.19 |\n",
    "| 25th Percentile (Q1) | -13.65 |\n",
    "| Median (Q2) | 0.41 |\n",
    "| 75th Percentile (Q3) | 15.96 |\n",
    "| Maximum | 211.21 |\n",
    "\n",
    "📌 **Insights:**\n",
    "- The **mean close-to-close price change** is **0.647**, indicating a nearly stable average daily change.\n",
    "- The **high standard deviation (34.98)** shows significant fluctuations in price differences.\n",
    "- The **range of differences is from -242.19 to 211.21**, highlighting sharp price movements at extreme values.\n",
    "\n",
    "---\n",
    "\n",
    "#### **2. Distribution Properties**\n",
    "- **Kurtosis:** **6.38** (Positive Kurtosis indicates a **leptokurtic distribution**, meaning the series has more extreme values or outliers).\n",
    "- **Skewness:** **-0.47** (Slightly left-skewed, indicating that the left tail is longer).\n",
    "\n",
    "📌 **Inference:**\n",
    "- The **presence of extreme values (high kurtosis)** suggests **price jumps or crashes**.\n",
    "- The slight left skew suggests **a small tendency towards negative price movements**.\n",
    "\n",
    "---\n",
    "\n",
    "#### **3. Persistence and Autocorrelation**\n",
    "- The **autocorrelation at different lags** shows reduced correlation compared to the original series:\n",
    "  - At **lag 1:** **0.048**\n",
    "  - At **lag 100:** **-0.061**\n",
    "  - At **lag 500:** **-0.041**\n",
    "  - At **lag 1000:** **0.018**\n",
    "\n",
    "📌 **Inference:**\n",
    "- The **low autocorrelation** at various lags indicates that differencing has removed most of the persistence (trend-following nature) of the series.\n",
    "- This suggests that the **differenced series is more suitable for forecasting models that assume stationarity**.\n",
    "\n",
    "---\n",
    "\n",
    "#### **4. Stationarity Check (Augmented Dickey-Fuller Test)**\n",
    "- **ADF Test Statistic:** **-42.32**\n",
    "- **p-value:** **0.000**\n",
    "- **Critical Values:**\n",
    "  - 1%: **-3.43**\n",
    "  - 5%: **-2.86**\n",
    "  - 10%: **-2.56**\n",
    "\n",
    "📌 **Inference:**\n",
    "- The **ADF test statistic (-42.32) is much lower than all critical values**, and the **p-value is 0**, meaning we **reject the null hypothesis**.\n",
    "- This confirms that **the differenced time series is now stationary**.\n",
    "- Stationarity means that the **statistical properties of the series (mean, variance, and autocorrelation) remain constant over time**.\n",
    "\n",
    "---\n",
    "\n",
    "\n"
   ]
  },
  {
   "cell_type": "markdown",
   "id": "67dda1ec-6f3f-49e1-87a9-05441f558945",
   "metadata": {},
   "source": [
    "## Now, let us attempt to implement fractional differencing"
   ]
  },
  {
   "cell_type": "code",
   "execution_count": 57,
   "id": "71cd1086-2cf4-4cd0-bca7-2ffd4b97a2fe",
   "metadata": {},
   "outputs": [],
   "source": [
    "def getWeights(d,lags):\n",
    "    # calculate the weights from the series expansion of the differencing operator\n",
    "    # for real orders d and up to [lags] number of coefficients\n",
    "    w=[1]\n",
    "    for k in range(1,lags):\n",
    "        w.append(-w[-1]*((d-k+1))/k)\n",
    "    w=np.array(w).reshape(-1,1) \n",
    "    return w"
   ]
  },
  {
   "cell_type": "code",
   "execution_count": 59,
   "id": "3015897e-b846-4652-8c9c-d470f3d2b7f4",
   "metadata": {},
   "outputs": [],
   "source": [
    "def fractional_differencing(series, order, cutoff):\n",
    "    #calculate the time series obtained from fractional differencing\n",
    "    weights=getWeights(order, cutoff)\n",
    "    frac_diff_series = 0\n",
    "    for k in range(cutoff):\n",
    "        frac_diff_series += weights[k]*series.shift(k).fillna(0)\n",
    "    return frac_diff_series[cutoff:] "
   ]
  },
  {
   "cell_type": "code",
   "execution_count": 964,
   "id": "db2c5b56-f3b0-480e-81b0-36872ad76701",
   "metadata": {},
   "outputs": [],
   "source": [
    "frac_diff_series = fractional_differencing(data, 0.9, 10) #considering d = 0.9 for now and we consider 10 terms in the series"
   ]
  },
  {
   "cell_type": "code",
   "execution_count": 63,
   "id": "3c1dca51-ffd3-41ef-aa3c-65e4a8d24ee6",
   "metadata": {},
   "outputs": [
    {
     "data": {
      "text/plain": [
       "Text(0, 0.5, 'Series After Fractional Differencing with d = 0.9')"
      ]
     },
     "execution_count": 63,
     "metadata": {},
     "output_type": "execute_result"
    },
    {
     "data": {
      "image/png": "[encoded data removed]",
      "text/plain": [
       "<Figure size 640x480 with 1 Axes>"
      ]
     },
     "metadata": {},
     "output_type": "display_data"
    }
   ],
   "source": [
    "frac_diff_series.plot()\n",
    "plt.ylabel(\"Series After Fractional Differencing with d = 0.9\")"
   ]
  },
  {
   "cell_type": "code",
   "execution_count": 64,
   "id": "6c80f50f-5ff1-4869-8a85-33969c7729b0",
   "metadata": {},
   "outputs": [
    {
     "data": {
      "text/plain": [
       "count    1967.000000\n",
       "mean       32.661540\n",
       "std        36.960976\n",
       "min      -204.009335\n",
       "25%        12.120548\n",
       "50%        29.038326\n",
       "75%        51.204363\n",
       "max       246.927512\n",
       "Name: Close, dtype: float64"
      ]
     },
     "execution_count": 64,
     "metadata": {},
     "output_type": "execute_result"
    }
   ],
   "source": [
    "frac_diff_series.describe()"
   ]
  },
  {
   "cell_type": "code",
   "execution_count": 65,
   "id": "5b5c0bdc-39ef-4137-b34c-0ba70bfa33cc",
   "metadata": {},
   "outputs": [
    {
     "data": {
      "text/plain": [
       "4.613082792478006"
      ]
     },
     "execution_count": 65,
     "metadata": {},
     "output_type": "execute_result"
    }
   ],
   "source": [
    "frac_diff_series.kurtosis()"
   ]
  },
  {
   "cell_type": "code",
   "execution_count": 69,
   "id": "2cae3de2-ad07-45f3-859d-d55d29143341",
   "metadata": {},
   "outputs": [
    {
     "data": {
      "text/plain": [
       "-0.002229110433743259"
      ]
     },
     "execution_count": 69,
     "metadata": {},
     "output_type": "execute_result"
    }
   ],
   "source": [
    "frac_diff_series.skew()"
   ]
  },
  {
   "cell_type": "code",
   "execution_count": 71,
   "id": "e91e0285-e66b-472b-9d3c-0d7a108e8e19",
   "metadata": {},
   "outputs": [
    {
     "data": {
      "text/plain": [
       "(1967,)"
      ]
     },
     "execution_count": 71,
     "metadata": {},
     "output_type": "execute_result"
    }
   ],
   "source": [
    "frac_diff_series.shape"
   ]
  },
  {
   "cell_type": "code",
   "execution_count": 948,
   "id": "c50d87c4-3ba8-469d-bb97-0bcbf520a5fb",
   "metadata": {},
   "outputs": [
    {
     "name": "stdout",
     "output_type": "stream",
     "text": [
      "0.22281546690381998\n",
      "0.0909928954537676\n",
      "0.09423511396169895\n",
      "0.03225926603357995\n",
      "0.019543617697843827\n",
      "0.07756880339993963\n",
      "0.022749248866563942\n",
      "-0.011229963711534462\n"
     ]
    }
   ],
   "source": [
    "for i in [1, 5, 10, 50, 100, 200, 500, 1000]:\n",
    "    print(frac_diff_series.autocorr(lag = i))"
   ]
  },
  {
   "cell_type": "code",
   "execution_count": 73,
   "id": "d014347b-9455-4d9e-bcc3-e985a7fb4fc1",
   "metadata": {},
   "outputs": [
    {
     "data": {
      "text/plain": [
       "(-4.577150757417391,\n",
       " 0.0001422924200868495,\n",
       " 26,\n",
       " {'1%': -3.4337252441664483,\n",
       "  '5%': -2.8630309758314314,\n",
       "  '10%': -2.56756373605059})"
      ]
     },
     "execution_count": 73,
     "metadata": {},
     "output_type": "execute_result"
    }
   ],
   "source": [
    "adf_result_frac_diff_data = adfuller(frac_diff_series)\n",
    "adf_statistic = adf_result_frac_diff_data[0] \n",
    "p_value = adf_result_frac_diff_data[1]\n",
    "used_lags = adf_result_frac_diff_data[2] \n",
    "critical_values = adf_result_frac_diff_data[4] \n",
    "\n",
    "adf_statistic, p_value, used_lags, critical_values"
   ]
  },
  {
   "cell_type": "markdown",
   "id": "8b0bda90-c80a-4bd0-8281-261721d18c19",
   "metadata": {},
   "source": [
    "Note that for this fractional differenced series with d = 0.9, the adf_statistic is lower than the critical values. The p-value <0.05 also indicates that this fractional differenced series is now stationary."
   ]
  },
  {
   "cell_type": "markdown",
   "id": "7c1d6e0a-fae0-4bc5-89b5-420d2130a418",
   "metadata": {},
   "source": [
    "### **Characterization of the Fractionally Differenced Time Series (d = 0.9)**\n",
    "\n",
    "#### **1. Summary Statistics**\n",
    "The fractionally differenced time series has the following key properties:\n",
    "\n",
    "| Statistic | Value |\n",
    "|-----------|-------|\n",
    "| Count | 1967 |\n",
    "| Mean | 32.66 |\n",
    "| Standard Deviation | 36.97 |\n",
    "| Minimum | -204.90 |\n",
    "| 25th Percentile (Q1) | 12.13 |\n",
    "| Median (Q2) | 29.04 |\n",
    "| 75th Percentile (Q3) | 51.20 |\n",
    "| Maximum | 246.93 |\n",
    "\n",
    "📌 **Key Observations:**\n",
    "- The **mean (32.66)** indicates that after fractional differencing, the average price change remains positive.\n",
    "- **Standard deviation (36.97)** suggests moderate fluctuations in price movements.\n",
    "- **Extreme values (-204.90 to 246.93)** indicate occasional large price changes.\n",
    "\n",
    "---\n",
    "\n",
    "#### **2. Distribution Properties**\n",
    "- **Kurtosis:** **4.61** (Leptokurtic, indicating a higher presence of extreme values or outliers).\n",
    "- **Skewness:** **-0.002** (Close to zero, suggesting a symmetrical distribution).\n",
    "\n",
    "📌 **Inference:**\n",
    "- The **high kurtosis** suggests that the series still retains some **extreme price variations**.\n",
    "- The **low skewness** indicates that **positive and negative price changes are balanced**, meaning no significant directional bias.\n",
    "\n",
    "---\n",
    "\n",
    "#### **3. Persistence & Stationarity Analysis**\n",
    "- The **fractionally differenced series still retains some memory from past values**, allowing long-term dependencies to persist.\n",
    "- **Augmented Dickey-Fuller (ADF) Test Results:**\n",
    "  - **ADF Test Statistic:** **-4.577**\n",
    "  - **p-value:** **0.00014**\n",
    "  - **Critical Values:**\n",
    "    - 1%: **-3.43**\n",
    "    - 5%: **-2.86**\n",
    "    - 10%: **-2.56**\n",
    "\n",
    "📌 **Key Findings:**\n",
    "- The **ADF test statistic (-4.577) is lower than all critical values**, meaning we **reject the null hypothesis of non-stationarity**.\n",
    "- The **p-value (0.00014) is very small (< 0.05)**, confirming that the series is **statistically stationary**.\n",
    "\n",
    "---\n"
   ]
  },
  {
   "cell_type": "markdown",
   "id": "27b33ec1-376f-4c32-a134-8cf331a4fb52",
   "metadata": {},
   "source": [
    "## Step 2 "
   ]
  },
  {
   "cell_type": "markdown",
   "id": "4ce6fb61-700c-46e1-8af6-3ed14d131207",
   "metadata": {},
   "source": [
    "Let us now build Multi-Layer Perceptron models to predict the future values of these time series. Specifically, we predict if the stock will rise or fall the next day."
   ]
  },
  {
   "cell_type": "markdown",
   "id": "064cc7c3-a1da-4e47-afa8-6db69cee3336",
   "metadata": {},
   "source": [
    "### **MLP Model for Predicting Raw Time Series Levels**"
   ]
  },
  {
   "cell_type": "markdown",
   "id": "1aa0a87b-17f3-4e17-8b1a-e542ffac8820",
   "metadata": {},
   "source": [
    "**First, the original time series.** he inputs to this model will be the returns over the past 10, 60, 150 days along with the present value."
   ]
  },
  {
   "cell_type": "code",
   "execution_count": 752,
   "id": "94aa5697-09e7-4bb8-be2d-c1adfc6a798c",
   "metadata": {},
   "outputs": [],
   "source": [
    "data_mlp = data.to_frame()"
   ]
  },
  {
   "cell_type": "code",
   "execution_count": 754,
   "id": "9cc8918e-366b-4e37-bfd8-a0569e0b3c1f",
   "metadata": {},
   "outputs": [],
   "source": [
    "data_mlp[\"1d_returns\"] = data.pct_change()"
   ]
  },
  {
   "cell_type": "code",
   "execution_count": 756,
   "id": "10603e7b-6a6f-4305-bf6e-7b9e65156c55",
   "metadata": {},
   "outputs": [
    {
     "data": {
      "text/html": [
       "<div>\n",
       "<style scoped>\n",
       "    .dataframe tbody tr th:only-of-type {\n",
       "        vertical-align: middle;\n",
       "    }\n",
       "\n",
       "    .dataframe tbody tr th {\n",
       "        vertical-align: top;\n",
       "    }\n",
       "\n",
       "    .dataframe thead th {\n",
       "        text-align: right;\n",
       "    }\n",
       "</style>\n",
       "<table border=\"1\" class=\"dataframe\">\n",
       "  <thead>\n",
       "    <tr style=\"text-align: right;\">\n",
       "      <th></th>\n",
       "      <th>Close</th>\n",
       "      <th>1d_returns</th>\n",
       "    </tr>\n",
       "    <tr>\n",
       "      <th>Date</th>\n",
       "      <th></th>\n",
       "      <th></th>\n",
       "    </tr>\n",
       "  </thead>\n",
       "  <tbody>\n",
       "    <tr>\n",
       "      <th>2017-02-27 00:00:00+05:30</th>\n",
       "      <td>945.702820</td>\n",
       "      <td>NaN</td>\n",
       "    </tr>\n",
       "    <tr>\n",
       "      <th>2017-02-28 00:00:00+05:30</th>\n",
       "      <td>966.703735</td>\n",
       "      <td>0.022207</td>\n",
       "    </tr>\n",
       "    <tr>\n",
       "      <th>2017-03-01 00:00:00+05:30</th>\n",
       "      <td>974.773743</td>\n",
       "      <td>0.008348</td>\n",
       "    </tr>\n",
       "    <tr>\n",
       "      <th>2017-03-02 00:00:00+05:30</th>\n",
       "      <td>970.998169</td>\n",
       "      <td>-0.003873</td>\n",
       "    </tr>\n",
       "    <tr>\n",
       "      <th>2017-03-03 00:00:00+05:30</th>\n",
       "      <td>956.793091</td>\n",
       "      <td>-0.014629</td>\n",
       "    </tr>\n",
       "  </tbody>\n",
       "</table>\n",
       "</div>"
      ],
      "text/plain": [
       "                                Close  1d_returns\n",
       "Date                                             \n",
       "2017-02-27 00:00:00+05:30  945.702820         NaN\n",
       "2017-02-28 00:00:00+05:30  966.703735    0.022207\n",
       "2017-03-01 00:00:00+05:30  974.773743    0.008348\n",
       "2017-03-02 00:00:00+05:30  970.998169   -0.003873\n",
       "2017-03-03 00:00:00+05:30  956.793091   -0.014629"
      ]
     },
     "execution_count": 756,
     "metadata": {},
     "output_type": "execute_result"
    }
   ],
   "source": [
    "data_mlp.head()"
   ]
  },
  {
   "cell_type": "code",
   "execution_count": 758,
   "id": "b2e52e36-2a31-4e51-bb12-af4e7ec4d8b6",
   "metadata": {},
   "outputs": [],
   "source": [
    "data_mlp[\"30d_returns\"] = data_mlp[\"1d_returns\"].rolling(30).apply(lambda x: (1+ x).prod() - 1)\n",
    "data_mlp[\"60d_returns\"] = data_mlp[\"1d_returns\"].rolling(60).apply(lambda x: (1+ x).prod() - 1)\n",
    "data_mlp[\"90d_returns\"] = data_mlp[\"1d_returns\"].rolling(90).apply(lambda x: (1+ x).prod() - 1)\n",
    "data_mlp[\"150d_returns\"] = data_mlp[\"1d_returns\"].rolling(150).apply(lambda x: (1+ x).prod() - 1)\n",
    "data_mlp[\"300d_returns\"] = data_mlp[\"1d_returns\"].rolling(300).apply(lambda x: (1+ x).prod() - 1)"
   ]
  },
  {
   "cell_type": "code",
   "execution_count": 759,
   "id": "e2459ca2-98cf-485f-9173-7c0de482de94",
   "metadata": {},
   "outputs": [],
   "source": [
    "data_mlp.dropna(inplace=True)"
   ]
  },
  {
   "cell_type": "code",
   "execution_count": 760,
   "id": "b31fd584-e930-4168-8cbf-197aab3720b9",
   "metadata": {},
   "outputs": [
    {
     "data": {
      "text/html": [
       "<div>\n",
       "<style scoped>\n",
       "    .dataframe tbody tr th:only-of-type {\n",
       "        vertical-align: middle;\n",
       "    }\n",
       "\n",
       "    .dataframe tbody tr th {\n",
       "        vertical-align: top;\n",
       "    }\n",
       "\n",
       "    .dataframe thead th {\n",
       "        text-align: right;\n",
       "    }\n",
       "</style>\n",
       "<table border=\"1\" class=\"dataframe\">\n",
       "  <thead>\n",
       "    <tr style=\"text-align: right;\">\n",
       "      <th></th>\n",
       "      <th>Close</th>\n",
       "      <th>1d_returns</th>\n",
       "      <th>30d_returns</th>\n",
       "      <th>60d_returns</th>\n",
       "      <th>90d_returns</th>\n",
       "      <th>150d_returns</th>\n",
       "      <th>300d_returns</th>\n",
       "    </tr>\n",
       "    <tr>\n",
       "      <th>Date</th>\n",
       "      <th></th>\n",
       "      <th></th>\n",
       "      <th></th>\n",
       "      <th></th>\n",
       "      <th></th>\n",
       "      <th></th>\n",
       "      <th></th>\n",
       "    </tr>\n",
       "  </thead>\n",
       "  <tbody>\n",
       "    <tr>\n",
       "      <th>2018-05-15 00:00:00+05:30</th>\n",
       "      <td>1245.802856</td>\n",
       "      <td>0.013335</td>\n",
       "      <td>0.143025</td>\n",
       "      <td>0.154062</td>\n",
       "      <td>0.149521</td>\n",
       "      <td>0.142513</td>\n",
       "      <td>0.317330</td>\n",
       "    </tr>\n",
       "    <tr>\n",
       "      <th>2018-05-16 00:00:00+05:30</th>\n",
       "      <td>1254.378540</td>\n",
       "      <td>0.006884</td>\n",
       "      <td>0.148945</td>\n",
       "      <td>0.165793</td>\n",
       "      <td>0.158346</td>\n",
       "      <td>0.146351</td>\n",
       "      <td>0.297583</td>\n",
       "    </tr>\n",
       "    <tr>\n",
       "      <th>2018-05-17 00:00:00+05:30</th>\n",
       "      <td>1240.875244</td>\n",
       "      <td>-0.010765</td>\n",
       "      <td>0.152685</td>\n",
       "      <td>0.144774</td>\n",
       "      <td>0.146729</td>\n",
       "      <td>0.132739</td>\n",
       "      <td>0.272988</td>\n",
       "    </tr>\n",
       "    <tr>\n",
       "      <th>2018-05-18 00:00:00+05:30</th>\n",
       "      <td>1239.832520</td>\n",
       "      <td>-0.000840</td>\n",
       "      <td>0.144763</td>\n",
       "      <td>0.167805</td>\n",
       "      <td>0.116292</td>\n",
       "      <td>0.127505</td>\n",
       "      <td>0.276864</td>\n",
       "    </tr>\n",
       "    <tr>\n",
       "      <th>2018-05-21 00:00:00+05:30</th>\n",
       "      <td>1233.530884</td>\n",
       "      <td>-0.005083</td>\n",
       "      <td>0.138347</td>\n",
       "      <td>0.155628</td>\n",
       "      <td>0.098250</td>\n",
       "      <td>0.124094</td>\n",
       "      <td>0.289235</td>\n",
       "    </tr>\n",
       "  </tbody>\n",
       "</table>\n",
       "</div>"
      ],
      "text/plain": [
       "                                 Close  1d_returns  30d_returns  60d_returns  \\\n",
       "Date                                                                           \n",
       "2018-05-15 00:00:00+05:30  1245.802856    0.013335     0.143025     0.154062   \n",
       "2018-05-16 00:00:00+05:30  1254.378540    0.006884     0.148945     0.165793   \n",
       "2018-05-17 00:00:00+05:30  1240.875244   -0.010765     0.152685     0.144774   \n",
       "2018-05-18 00:00:00+05:30  1239.832520   -0.000840     0.144763     0.167805   \n",
       "2018-05-21 00:00:00+05:30  1233.530884   -0.005083     0.138347     0.155628   \n",
       "\n",
       "                           90d_returns  150d_returns  300d_returns  \n",
       "Date                                                                \n",
       "2018-05-15 00:00:00+05:30     0.149521      0.142513      0.317330  \n",
       "2018-05-16 00:00:00+05:30     0.158346      0.146351      0.297583  \n",
       "2018-05-17 00:00:00+05:30     0.146729      0.132739      0.272988  \n",
       "2018-05-18 00:00:00+05:30     0.116292      0.127505      0.276864  \n",
       "2018-05-21 00:00:00+05:30     0.098250      0.124094      0.289235  "
      ]
     },
     "execution_count": 760,
     "metadata": {},
     "output_type": "execute_result"
    }
   ],
   "source": [
    "data_mlp.head()"
   ]
  },
  {
   "cell_type": "code",
   "execution_count": 761,
   "id": "fa203860-dc30-4c36-8af2-717eb5a44c03",
   "metadata": {},
   "outputs": [
    {
     "data": {
      "text/plain": [
       "(1677, 7)"
      ]
     },
     "execution_count": 761,
     "metadata": {},
     "output_type": "execute_result"
    }
   ],
   "source": [
    "data_mlp.shape"
   ]
  },
  {
   "cell_type": "markdown",
   "id": "00c4d9e8-e5cf-484b-9be6-1eaa41cd2e97",
   "metadata": {},
   "source": [
    "now, we create a separate column for the returns the next day. For this, we can simply shift the 1d_returns column by one day. We treat this as a classfication task and try to predict if the returns next dat will be positive or negative."
   ]
  },
  {
   "cell_type": "code",
   "execution_count": 767,
   "id": "1c99d01d-9813-4d69-a5a4-91c886940943",
   "metadata": {},
   "outputs": [],
   "source": [
    "data_mlp[\"next_30d_returns\"] = (data_mlp[\"30d_returns\"].shift(-30)>0).astype(int) #this is our target column. \n",
    "data_mlp.dropna(inplace=True)"
   ]
  },
  {
   "cell_type": "code",
   "execution_count": 769,
   "id": "9a26052e-23b1-434f-8124-c3868be71d63",
   "metadata": {},
   "outputs": [
    {
     "data": {
      "text/html": [
       "<div>\n",
       "<style scoped>\n",
       "    .dataframe tbody tr th:only-of-type {\n",
       "        vertical-align: middle;\n",
       "    }\n",
       "\n",
       "    .dataframe tbody tr th {\n",
       "        vertical-align: top;\n",
       "    }\n",
       "\n",
       "    .dataframe thead th {\n",
       "        text-align: right;\n",
       "    }\n",
       "</style>\n",
       "<table border=\"1\" class=\"dataframe\">\n",
       "  <thead>\n",
       "    <tr style=\"text-align: right;\">\n",
       "      <th></th>\n",
       "      <th>Close</th>\n",
       "      <th>1d_returns</th>\n",
       "      <th>30d_returns</th>\n",
       "      <th>60d_returns</th>\n",
       "      <th>90d_returns</th>\n",
       "      <th>150d_returns</th>\n",
       "      <th>300d_returns</th>\n",
       "      <th>next_30d_returns</th>\n",
       "    </tr>\n",
       "  </thead>\n",
       "  <tbody>\n",
       "    <tr>\n",
       "      <th>count</th>\n",
       "      <td>1677.000000</td>\n",
       "      <td>1677.000000</td>\n",
       "      <td>1677.000000</td>\n",
       "      <td>1677.000000</td>\n",
       "      <td>1677.000000</td>\n",
       "      <td>1677.000000</td>\n",
       "      <td>1677.000000</td>\n",
       "      <td>1677.000000</td>\n",
       "    </tr>\n",
       "    <tr>\n",
       "      <th>mean</th>\n",
       "      <td>2398.161260</td>\n",
       "      <td>0.000481</td>\n",
       "      <td>0.016496</td>\n",
       "      <td>0.034826</td>\n",
       "      <td>0.054405</td>\n",
       "      <td>0.097322</td>\n",
       "      <td>0.214850</td>\n",
       "      <td>0.549791</td>\n",
       "    </tr>\n",
       "    <tr>\n",
       "      <th>std</th>\n",
       "      <td>734.665057</td>\n",
       "      <td>0.015963</td>\n",
       "      <td>0.088911</td>\n",
       "      <td>0.126456</td>\n",
       "      <td>0.148828</td>\n",
       "      <td>0.175767</td>\n",
       "      <td>0.267057</td>\n",
       "      <td>0.497663</td>\n",
       "    </tr>\n",
       "    <tr>\n",
       "      <th>min</th>\n",
       "      <td>1083.928101</td>\n",
       "      <td>-0.140280</td>\n",
       "      <td>-0.256601</td>\n",
       "      <td>-0.316544</td>\n",
       "      <td>-0.330236</td>\n",
       "      <td>-0.260395</td>\n",
       "      <td>-0.303798</td>\n",
       "      <td>0.000000</td>\n",
       "    </tr>\n",
       "    <tr>\n",
       "      <th>25%</th>\n",
       "      <td>1657.456543</td>\n",
       "      <td>-0.007535</td>\n",
       "      <td>-0.042975</td>\n",
       "      <td>-0.058680</td>\n",
       "      <td>-0.055592</td>\n",
       "      <td>-0.022456</td>\n",
       "      <td>0.033707</td>\n",
       "      <td>0.000000</td>\n",
       "    </tr>\n",
       "    <tr>\n",
       "      <th>50%</th>\n",
       "      <td>2700.435547</td>\n",
       "      <td>0.000309</td>\n",
       "      <td>0.014854</td>\n",
       "      <td>0.032349</td>\n",
       "      <td>0.053205</td>\n",
       "      <td>0.085947</td>\n",
       "      <td>0.192114</td>\n",
       "      <td>1.000000</td>\n",
       "    </tr>\n",
       "    <tr>\n",
       "      <th>75%</th>\n",
       "      <td>3039.979492</td>\n",
       "      <td>0.007895</td>\n",
       "      <td>0.075163</td>\n",
       "      <td>0.125020</td>\n",
       "      <td>0.153659</td>\n",
       "      <td>0.191246</td>\n",
       "      <td>0.362745</td>\n",
       "      <td>1.000000</td>\n",
       "    </tr>\n",
       "    <tr>\n",
       "      <th>max</th>\n",
       "      <td>3497.629883</td>\n",
       "      <td>0.088527</td>\n",
       "      <td>0.321997</td>\n",
       "      <td>0.375452</td>\n",
       "      <td>0.481179</td>\n",
       "      <td>0.745883</td>\n",
       "      <td>1.067391</td>\n",
       "      <td>1.000000</td>\n",
       "    </tr>\n",
       "  </tbody>\n",
       "</table>\n",
       "</div>"
      ],
      "text/plain": [
       "             Close   1d_returns  30d_returns  60d_returns  90d_returns  \\\n",
       "count  1677.000000  1677.000000  1677.000000  1677.000000  1677.000000   \n",
       "mean   2398.161260     0.000481     0.016496     0.034826     0.054405   \n",
       "std     734.665057     0.015963     0.088911     0.126456     0.148828   \n",
       "min    1083.928101    -0.140280    -0.256601    -0.316544    -0.330236   \n",
       "25%    1657.456543    -0.007535    -0.042975    -0.058680    -0.055592   \n",
       "50%    2700.435547     0.000309     0.014854     0.032349     0.053205   \n",
       "75%    3039.979492     0.007895     0.075163     0.125020     0.153659   \n",
       "max    3497.629883     0.088527     0.321997     0.375452     0.481179   \n",
       "\n",
       "       150d_returns  300d_returns  next_30d_returns  \n",
       "count   1677.000000   1677.000000       1677.000000  \n",
       "mean       0.097322      0.214850          0.549791  \n",
       "std        0.175767      0.267057          0.497663  \n",
       "min       -0.260395     -0.303798          0.000000  \n",
       "25%       -0.022456      0.033707          0.000000  \n",
       "50%        0.085947      0.192114          1.000000  \n",
       "75%        0.191246      0.362745          1.000000  \n",
       "max        0.745883      1.067391          1.000000  "
      ]
     },
     "execution_count": 769,
     "metadata": {},
     "output_type": "execute_result"
    }
   ],
   "source": [
    "data_mlp.describe()"
   ]
  },
  {
   "cell_type": "code",
   "execution_count": 771,
   "id": "3f086676-a47a-42ef-9da8-e700570b6841",
   "metadata": {},
   "outputs": [],
   "source": [
    "X = data_mlp[['30d_returns', '60d_returns', '90d_returns', '150d_returns', '300d_returns',]]\n",
    "y = data_mlp['next_30d_returns']"
   ]
  },
  {
   "cell_type": "code",
   "execution_count": 773,
   "id": "ce3d3dcb-c8cf-415f-aa46-672e5023bf50",
   "metadata": {},
   "outputs": [],
   "source": [
    "X_train, X_test, y_train, y_test = train_test_split(X, y, test_size=0.2, shuffle=False) #train-test split"
   ]
  },
  {
   "cell_type": "markdown",
   "id": "0531b38c-b484-428e-8426-2ce77a917ef3",
   "metadata": {},
   "source": [
    "Now to build the MLP"
   ]
  },
  {
   "cell_type": "code",
   "execution_count": 864,
   "id": "fa3c1295-cee3-4594-b8c0-752d1d35c2fe",
   "metadata": {},
   "outputs": [],
   "source": [
    "tf.keras.backend.clear_session()  # We clear the backend to reset the random seed process\n",
    "tf.random.set_seed(42)\n",
    "\n",
    "act_fun = \"relu\"\n",
    "hp_units_1 = 10\n",
    "hp_units_2 = 4\n",
    "hp_units_3 = 4\n",
    "#n_dropout = 0.2"
   ]
  },
  {
   "cell_type": "code",
   "execution_count": 865,
   "id": "a5456c3c-0a8e-4465-b3bf-682ad44159c3",
   "metadata": {},
   "outputs": [],
   "source": [
    "model = tf.keras.models.Sequential()\n",
    "model.add(tf.keras.layers.Dense(units=hp_units_1, activation=act_fun))\n",
    "#model.add(tf.keras.layers.Dropout(n_dropout))\n",
    "model.add(tf.keras.layers.Dense(units=hp_units_2, activation=act_fun))\n",
    "#model.add(tf.keras.layers.Dropout(n_dropout))\n",
    "model.add(tf.keras.layers.Dense(units=hp_units_3, activation=act_fun))\n",
    "#model.add(tf.keras.layers.Dropout(n_dropout))\n",
    "model.add(tf.keras.layers.Dense(units=1, activation=\"sigmoid\")) #activation function"
   ]
  },
  {
   "cell_type": "code",
   "execution_count": 868,
   "id": "1f5b2175-a1a2-4615-b770-1f64ca35503d",
   "metadata": {},
   "outputs": [],
   "source": [
    "hp_lr = 1e-4  # Learning rate\n",
    "adam = tf.keras.optimizers.Adam(learning_rate=hp_lr)  # Adam optimizer\n",
    "model.compile(optimizer=adam, loss=\"binary_crossentropy\", metrics=[\"accuracy\"])"
   ]
  },
  {
   "cell_type": "code",
   "execution_count": 870,
   "id": "002a9dab-b77a-4eff-900b-19d9ac2020b6",
   "metadata": {},
   "outputs": [],
   "source": [
    "es = tf.keras.callbacks.EarlyStopping(\n",
    "    monitor=\"val_accuracy\",\n",
    "    mode=\"max\",\n",
    "    verbose=1,\n",
    "    patience=20,\n",
    "    restore_best_weights=True,\n",
    ")"
   ]
  },
  {
   "cell_type": "code",
   "execution_count": 872,
   "id": "2aa2a042-29d1-4361-9653-040ee4dff9d0",
   "metadata": {},
   "outputs": [
    {
     "data": {
      "text/plain": [
       "next_30d_returns\n",
       "1    787\n",
       "0    554\n",
       "Name: count, dtype: int64"
      ]
     },
     "execution_count": 872,
     "metadata": {},
     "output_type": "execute_result"
    }
   ],
   "source": [
    "y_train.value_counts()"
   ]
  },
  {
   "cell_type": "code",
   "execution_count": 874,
   "id": "352f9849-b2e2-4b8a-b64f-b3f17ba4a6f5",
   "metadata": {},
   "outputs": [],
   "source": [
    "class_weight = {0: 1 / (1 - np.mean(y_train)), 1: 1.0}"
   ]
  },
  {
   "cell_type": "code",
   "execution_count": 876,
   "id": "0689b025-332e-481f-b249-92235d4736f5",
   "metadata": {},
   "outputs": [
    {
     "name": "stdout",
     "output_type": "stream",
     "text": [
      "Epoch 1/100\n",
      "34/34 - 3s - 88ms/step - accuracy: 0.4366 - loss: 1.0607 - val_accuracy: 0.5428 - val_loss: 0.6906\n",
      "Epoch 2/100\n",
      "34/34 - 0s - 8ms/step - accuracy: 0.3881 - loss: 1.0598 - val_accuracy: 0.5688 - val_loss: 0.6905\n",
      "Epoch 3/100\n",
      "34/34 - 0s - 8ms/step - accuracy: 0.3741 - loss: 1.0589 - val_accuracy: 0.5688 - val_loss: 0.6903\n",
      "Epoch 4/100\n",
      "34/34 - 0s - 7ms/step - accuracy: 0.3741 - loss: 1.0580 - val_accuracy: 0.5688 - val_loss: 0.6900\n",
      "Epoch 5/100\n",
      "34/34 - 0s - 7ms/step - accuracy: 0.3741 - loss: 1.0571 - val_accuracy: 0.5688 - val_loss: 0.6896\n",
      "Epoch 6/100\n",
      "34/34 - 0s - 7ms/step - accuracy: 0.3741 - loss: 1.0561 - val_accuracy: 0.5688 - val_loss: 0.6891\n",
      "Epoch 7/100\n",
      "34/34 - 0s - 7ms/step - accuracy: 0.3741 - loss: 1.0552 - val_accuracy: 0.5688 - val_loss: 0.6886\n",
      "Epoch 8/100\n",
      "34/34 - 0s - 7ms/step - accuracy: 0.3741 - loss: 1.0544 - val_accuracy: 0.5688 - val_loss: 0.6881\n",
      "Epoch 9/100\n",
      "34/34 - 0s - 7ms/step - accuracy: 0.3741 - loss: 1.0535 - val_accuracy: 0.5688 - val_loss: 0.6876\n",
      "Epoch 10/100\n",
      "34/34 - 0s - 7ms/step - accuracy: 0.3741 - loss: 1.0524 - val_accuracy: 0.5688 - val_loss: 0.6870\n",
      "Epoch 11/100\n",
      "34/34 - 0s - 7ms/step - accuracy: 0.3741 - loss: 1.0511 - val_accuracy: 0.5688 - val_loss: 0.6864\n",
      "Epoch 12/100\n",
      "34/34 - 0s - 7ms/step - accuracy: 0.3741 - loss: 1.0498 - val_accuracy: 0.5688 - val_loss: 0.6858\n",
      "Epoch 13/100\n",
      "34/34 - 0s - 7ms/step - accuracy: 0.3741 - loss: 1.0484 - val_accuracy: 0.5688 - val_loss: 0.6852\n",
      "Epoch 14/100\n",
      "34/34 - 0s - 7ms/step - accuracy: 0.3741 - loss: 1.0470 - val_accuracy: 0.5688 - val_loss: 0.6845\n",
      "Epoch 15/100\n",
      "34/34 - 0s - 7ms/step - accuracy: 0.3741 - loss: 1.0457 - val_accuracy: 0.5688 - val_loss: 0.6838\n",
      "Epoch 16/100\n",
      "34/34 - 0s - 7ms/step - accuracy: 0.3741 - loss: 1.0443 - val_accuracy: 0.5688 - val_loss: 0.6832\n",
      "Epoch 17/100\n",
      "34/34 - 0s - 7ms/step - accuracy: 0.3741 - loss: 1.0430 - val_accuracy: 0.5688 - val_loss: 0.6826\n",
      "Epoch 18/100\n",
      "34/34 - 0s - 7ms/step - accuracy: 0.3741 - loss: 1.0417 - val_accuracy: 0.5688 - val_loss: 0.6821\n",
      "Epoch 19/100\n",
      "34/34 - 0s - 8ms/step - accuracy: 0.3741 - loss: 1.0405 - val_accuracy: 0.5688 - val_loss: 0.6815\n",
      "Epoch 20/100\n",
      "34/34 - 0s - 7ms/step - accuracy: 0.3741 - loss: 1.0392 - val_accuracy: 0.5688 - val_loss: 0.6810\n",
      "Epoch 21/100\n",
      "34/34 - 0s - 7ms/step - accuracy: 0.3741 - loss: 1.0380 - val_accuracy: 0.5688 - val_loss: 0.6805\n",
      "Epoch 22/100\n",
      "34/34 - 0s - 7ms/step - accuracy: 0.3741 - loss: 1.0369 - val_accuracy: 0.5688 - val_loss: 0.6800\n",
      "Epoch 22: early stopping\n",
      "Restoring model weights from the end of the best epoch: 2.\n"
     ]
    }
   ],
   "source": [
    "history = model.fit(\n",
    "    X_train,\n",
    "    y_train,\n",
    "    validation_split=0.2,\n",
    "    epochs=100,\n",
    "    batch_size=32,\n",
    "    verbose=2,\n",
    "    callbacks = [es],\n",
    "    class_weight=class_weight\n",
    ")"
   ]
  },
  {
   "cell_type": "code",
   "execution_count": 878,
   "id": "c7d2ffa9-46d6-424c-94bd-5495894fa115",
   "metadata": {},
   "outputs": [
    {
     "data": {
      "text/html": [
       "<pre style=\"white-space:pre;overflow-x:auto;line-height:normal;font-family:Menlo,'DejaVu Sans Mono',consolas,'Courier New',monospace\"><span style=\"font-weight: bold\">Model: \"sequential\"</span>\n",
       "</pre>\n"
      ],
      "text/plain": [
       "\u001b[1mModel: \"sequential\"\u001b[0m\n"
      ]
     },
     "metadata": {},
     "output_type": "display_data"
    },
    {
     "data": {
      "text/html": [
       "<pre style=\"white-space:pre;overflow-x:auto;line-height:normal;font-family:Menlo,'DejaVu Sans Mono',consolas,'Courier New',monospace\">┏━━━━━━━━━━━━━━━━━━━━━━━━━━━━━━━━━━━━━━┳━━━━━━━━━━━━━━━━━━━━━━━━━━━━━┳━━━━━━━━━━━━━━━━━┓\n",
       "┃<span style=\"font-weight: bold\"> Layer (type)                         </span>┃<span style=\"font-weight: bold\"> Output Shape                </span>┃<span style=\"font-weight: bold\">         Param # </span>┃\n",
       "┡━━━━━━━━━━━━━━━━━━━━━━━━━━━━━━━━━━━━━━╇━━━━━━━━━━━━━━━━━━━━━━━━━━━━━╇━━━━━━━━━━━━━━━━━┩\n",
       "│ dense (<span style=\"color: #0087ff; text-decoration-color: #0087ff\">Dense</span>)                        │ (<span style=\"color: #00d7ff; text-decoration-color: #00d7ff\">None</span>, <span style=\"color: #00af00; text-decoration-color: #00af00\">10</span>)                  │              <span style=\"color: #00af00; text-decoration-color: #00af00\">60</span> │\n",
       "├──────────────────────────────────────┼─────────────────────────────┼─────────────────┤\n",
       "│ dense_1 (<span style=\"color: #0087ff; text-decoration-color: #0087ff\">Dense</span>)                      │ (<span style=\"color: #00d7ff; text-decoration-color: #00d7ff\">None</span>, <span style=\"color: #00af00; text-decoration-color: #00af00\">4</span>)                   │              <span style=\"color: #00af00; text-decoration-color: #00af00\">44</span> │\n",
       "├──────────────────────────────────────┼─────────────────────────────┼─────────────────┤\n",
       "│ dense_2 (<span style=\"color: #0087ff; text-decoration-color: #0087ff\">Dense</span>)                      │ (<span style=\"color: #00d7ff; text-decoration-color: #00d7ff\">None</span>, <span style=\"color: #00af00; text-decoration-color: #00af00\">4</span>)                   │              <span style=\"color: #00af00; text-decoration-color: #00af00\">20</span> │\n",
       "├──────────────────────────────────────┼─────────────────────────────┼─────────────────┤\n",
       "│ dense_3 (<span style=\"color: #0087ff; text-decoration-color: #0087ff\">Dense</span>)                      │ (<span style=\"color: #00d7ff; text-decoration-color: #00d7ff\">None</span>, <span style=\"color: #00af00; text-decoration-color: #00af00\">1</span>)                   │               <span style=\"color: #00af00; text-decoration-color: #00af00\">5</span> │\n",
       "└──────────────────────────────────────┴─────────────────────────────┴─────────────────┘\n",
       "</pre>\n"
      ],
      "text/plain": [
       "┏━━━━━━━━━━━━━━━━━━━━━━━━━━━━━━━━━━━━━━┳━━━━━━━━━━━━━━━━━━━━━━━━━━━━━┳━━━━━━━━━━━━━━━━━┓\n",
       "┃\u001b[1m \u001b[0m\u001b[1mLayer (type)                        \u001b[0m\u001b[1m \u001b[0m┃\u001b[1m \u001b[0m\u001b[1mOutput Shape               \u001b[0m\u001b[1m \u001b[0m┃\u001b[1m \u001b[0m\u001b[1m        Param #\u001b[0m\u001b[1m \u001b[0m┃\n",
       "┡━━━━━━━━━━━━━━━━━━━━━━━━━━━━━━━━━━━━━━╇━━━━━━━━━━━━━━━━━━━━━━━━━━━━━╇━━━━━━━━━━━━━━━━━┩\n",
       "│ dense (\u001b[38;5;33mDense\u001b[0m)                        │ (\u001b[38;5;45mNone\u001b[0m, \u001b[38;5;34m10\u001b[0m)                  │              \u001b[38;5;34m60\u001b[0m │\n",
       "├──────────────────────────────────────┼─────────────────────────────┼─────────────────┤\n",
       "│ dense_1 (\u001b[38;5;33mDense\u001b[0m)                      │ (\u001b[38;5;45mNone\u001b[0m, \u001b[38;5;34m4\u001b[0m)                   │              \u001b[38;5;34m44\u001b[0m │\n",
       "├──────────────────────────────────────┼─────────────────────────────┼─────────────────┤\n",
       "│ dense_2 (\u001b[38;5;33mDense\u001b[0m)                      │ (\u001b[38;5;45mNone\u001b[0m, \u001b[38;5;34m4\u001b[0m)                   │              \u001b[38;5;34m20\u001b[0m │\n",
       "├──────────────────────────────────────┼─────────────────────────────┼─────────────────┤\n",
       "│ dense_3 (\u001b[38;5;33mDense\u001b[0m)                      │ (\u001b[38;5;45mNone\u001b[0m, \u001b[38;5;34m1\u001b[0m)                   │               \u001b[38;5;34m5\u001b[0m │\n",
       "└──────────────────────────────────────┴─────────────────────────────┴─────────────────┘\n"
      ]
     },
     "metadata": {},
     "output_type": "display_data"
    },
    {
     "data": {
      "text/html": [
       "<pre style=\"white-space:pre;overflow-x:auto;line-height:normal;font-family:Menlo,'DejaVu Sans Mono',consolas,'Courier New',monospace\"><span style=\"font-weight: bold\"> Total params: </span><span style=\"color: #00af00; text-decoration-color: #00af00\">389</span> (1.52 KB)\n",
       "</pre>\n"
      ],
      "text/plain": [
       "\u001b[1m Total params: \u001b[0m\u001b[38;5;34m389\u001b[0m (1.52 KB)\n"
      ]
     },
     "metadata": {},
     "output_type": "display_data"
    },
    {
     "data": {
      "text/html": [
       "<pre style=\"white-space:pre;overflow-x:auto;line-height:normal;font-family:Menlo,'DejaVu Sans Mono',consolas,'Courier New',monospace\"><span style=\"font-weight: bold\"> Trainable params: </span><span style=\"color: #00af00; text-decoration-color: #00af00\">129</span> (516.00 B)\n",
       "</pre>\n"
      ],
      "text/plain": [
       "\u001b[1m Trainable params: \u001b[0m\u001b[38;5;34m129\u001b[0m (516.00 B)\n"
      ]
     },
     "metadata": {},
     "output_type": "display_data"
    },
    {
     "data": {
      "text/html": [
       "<pre style=\"white-space:pre;overflow-x:auto;line-height:normal;font-family:Menlo,'DejaVu Sans Mono',consolas,'Courier New',monospace\"><span style=\"font-weight: bold\"> Non-trainable params: </span><span style=\"color: #00af00; text-decoration-color: #00af00\">0</span> (0.00 B)\n",
       "</pre>\n"
      ],
      "text/plain": [
       "\u001b[1m Non-trainable params: \u001b[0m\u001b[38;5;34m0\u001b[0m (0.00 B)\n"
      ]
     },
     "metadata": {},
     "output_type": "display_data"
    },
    {
     "data": {
      "text/html": [
       "<pre style=\"white-space:pre;overflow-x:auto;line-height:normal;font-family:Menlo,'DejaVu Sans Mono',consolas,'Courier New',monospace\"><span style=\"font-weight: bold\"> Optimizer params: </span><span style=\"color: #00af00; text-decoration-color: #00af00\">260</span> (1.02 KB)\n",
       "</pre>\n"
      ],
      "text/plain": [
       "\u001b[1m Optimizer params: \u001b[0m\u001b[38;5;34m260\u001b[0m (1.02 KB)\n"
      ]
     },
     "metadata": {},
     "output_type": "display_data"
    }
   ],
   "source": [
    "model.summary()"
   ]
  },
  {
   "cell_type": "code",
   "execution_count": 880,
   "id": "7b050b20-a20d-4b8b-bd1c-8f223250661b",
   "metadata": {},
   "outputs": [
    {
     "name": "stdout",
     "output_type": "stream",
     "text": [
      "\u001b[1m11/11\u001b[0m \u001b[32m━━━━━━━━━━━━━━━━━━━━\u001b[0m\u001b[37m\u001b[0m \u001b[1m0s\u001b[0m 14ms/step\n",
      "\u001b[1m11/11\u001b[0m \u001b[32m━━━━━━━━━━━━━━━━━━━━\u001b[0m\u001b[37m\u001b[0m \u001b[1m0s\u001b[0m 10ms/step - accuracy: 0.4764 - loss: 0.6922  \n",
      "Model accuracy in test:  [0.6905680894851685, 0.5982142686843872]\n"
     ]
    }
   ],
   "source": [
    "y_prob = model.predict(X_test)\n",
    "y_pred = np.where(y_prob > 0.50, 1, 0)\n",
    "\n",
    "acc = model.evaluate(X_test, y_test)\n",
    "print(\"Model accuracy in test: \", acc) #outputs the loss and the accuracy"
   ]
  },
  {
   "cell_type": "markdown",
   "id": "0d571e15-6422-4daf-b748-f9bc6cdce4f8",
   "metadata": {},
   "source": [
    "### **MLP Model for Predicting Differenced Time Series Levels**"
   ]
  },
  {
   "cell_type": "markdown",
   "id": "1b056d38-c313-4270-93c8-bd762a128803",
   "metadata": {},
   "source": [
    "**Now, let us similarly try to create a predictive model for the differenced series.**"
   ]
  },
  {
   "cell_type": "code",
   "execution_count": 884,
   "id": "fd8d08ce-e4c6-43df-a70e-3af9114af749",
   "metadata": {},
   "outputs": [],
   "source": [
    "differenced_data_mlp = differenced_data.to_frame()\n",
    "differenced_data_mlp[\"1d_returns\"] = differenced_data_mlp.pct_change()\n",
    "differenced_data_mlp.dropna(inplace=True)"
   ]
  },
  {
   "cell_type": "code",
   "execution_count": 886,
   "id": "1fb1dc07-9924-409c-a399-f3beebdb9413",
   "metadata": {},
   "outputs": [
    {
     "data": {
      "text/html": [
       "<div>\n",
       "<style scoped>\n",
       "    .dataframe tbody tr th:only-of-type {\n",
       "        vertical-align: middle;\n",
       "    }\n",
       "\n",
       "    .dataframe tbody tr th {\n",
       "        vertical-align: top;\n",
       "    }\n",
       "\n",
       "    .dataframe thead th {\n",
       "        text-align: right;\n",
       "    }\n",
       "</style>\n",
       "<table border=\"1\" class=\"dataframe\">\n",
       "  <thead>\n",
       "    <tr style=\"text-align: right;\">\n",
       "      <th></th>\n",
       "      <th>Close</th>\n",
       "      <th>1d_returns</th>\n",
       "    </tr>\n",
       "    <tr>\n",
       "      <th>Date</th>\n",
       "      <th></th>\n",
       "      <th></th>\n",
       "    </tr>\n",
       "  </thead>\n",
       "  <tbody>\n",
       "    <tr>\n",
       "      <th>2017-03-01 00:00:00+05:30</th>\n",
       "      <td>8.070007</td>\n",
       "      <td>-0.615731</td>\n",
       "    </tr>\n",
       "    <tr>\n",
       "      <th>2017-03-02 00:00:00+05:30</th>\n",
       "      <td>-3.775574</td>\n",
       "      <td>-1.467853</td>\n",
       "    </tr>\n",
       "    <tr>\n",
       "      <th>2017-03-03 00:00:00+05:30</th>\n",
       "      <td>-14.205078</td>\n",
       "      <td>2.762363</td>\n",
       "    </tr>\n",
       "    <tr>\n",
       "      <th>2017-03-06 00:00:00+05:30</th>\n",
       "      <td>14.818665</td>\n",
       "      <td>-2.043195</td>\n",
       "    </tr>\n",
       "    <tr>\n",
       "      <th>2017-03-07 00:00:00+05:30</th>\n",
       "      <td>-5.143982</td>\n",
       "      <td>-1.347129</td>\n",
       "    </tr>\n",
       "  </tbody>\n",
       "</table>\n",
       "</div>"
      ],
      "text/plain": [
       "                               Close  1d_returns\n",
       "Date                                            \n",
       "2017-03-01 00:00:00+05:30   8.070007   -0.615731\n",
       "2017-03-02 00:00:00+05:30  -3.775574   -1.467853\n",
       "2017-03-03 00:00:00+05:30 -14.205078    2.762363\n",
       "2017-03-06 00:00:00+05:30  14.818665   -2.043195\n",
       "2017-03-07 00:00:00+05:30  -5.143982   -1.347129"
      ]
     },
     "execution_count": 886,
     "metadata": {},
     "output_type": "execute_result"
    }
   ],
   "source": [
    "differenced_data_mlp.head()"
   ]
  },
  {
   "cell_type": "code",
   "execution_count": 888,
   "id": "10850012-e772-455d-ad14-0385299ba914",
   "metadata": {},
   "outputs": [],
   "source": [
    "differenced_data_mlp[\"30d_returns\"] = differenced_data_mlp[\"1d_returns\"].rolling(30).apply(lambda x: (1+ x).prod() - 1)\n",
    "differenced_data_mlp[\"60d_returns\"] = differenced_data_mlp[\"1d_returns\"].rolling(60).apply(lambda x: (1+ x).prod() - 1)\n",
    "differenced_data_mlp[\"90d_returns\"] = differenced_data_mlp[\"1d_returns\"].rolling(90).apply(lambda x: (1+ x).prod() - 1)\n",
    "differenced_data_mlp[\"150d_returns\"] = differenced_data_mlp[\"1d_returns\"].rolling(150).apply(lambda x: (1+ x).prod() - 1)\n",
    "differenced_data_mlp[\"300d_returns\"] = differenced_data_mlp[\"1d_returns\"].rolling(300).apply(lambda x: (1+ x).prod() - 1)"
   ]
  },
  {
   "cell_type": "code",
   "execution_count": 889,
   "id": "240e0e77-4e90-42cb-ab6b-a55986ec5acd",
   "metadata": {},
   "outputs": [],
   "source": [
    "differenced_data_mlp[\"next_30d_returns\"] = (differenced_data_mlp[\"30d_returns\"].shift(-30)>0).astype(int)  #this is our target column. "
   ]
  },
  {
   "cell_type": "code",
   "execution_count": 890,
   "id": "12f02880-b222-4992-94d5-0c2fc0f4c0ad",
   "metadata": {},
   "outputs": [
    {
     "data": {
      "text/plain": [
       "Close                  0\n",
       "1d_returns             0\n",
       "30d_returns          179\n",
       "60d_returns          359\n",
       "90d_returns          514\n",
       "150d_returns         814\n",
       "300d_returns        1391\n",
       "next_30d_returns       0\n",
       "dtype: int64"
      ]
     },
     "execution_count": 890,
     "metadata": {},
     "output_type": "execute_result"
    }
   ],
   "source": [
    "differenced_data_mlp.isnull().sum()"
   ]
  },
  {
   "cell_type": "code",
   "execution_count": 894,
   "id": "d531394c-322e-46a9-8bd9-96d22264930b",
   "metadata": {},
   "outputs": [
    {
     "data": {
      "text/plain": [
       "(1975, 8)"
      ]
     },
     "execution_count": 894,
     "metadata": {},
     "output_type": "execute_result"
    }
   ],
   "source": [
    "differenced_data_mlp.shape"
   ]
  },
  {
   "cell_type": "code",
   "execution_count": 896,
   "id": "6e55efde-a2a2-4c6d-a89d-587c890986f8",
   "metadata": {},
   "outputs": [],
   "source": [
    "differenced_data_mlp.dropna(inplace=True)"
   ]
  },
  {
   "cell_type": "code",
   "execution_count": 898,
   "id": "8a7cd349-5ca2-4b4b-a976-335e68fb6967",
   "metadata": {},
   "outputs": [
    {
     "data": {
      "text/plain": [
       "(584, 8)"
      ]
     },
     "execution_count": 898,
     "metadata": {},
     "output_type": "execute_result"
    }
   ],
   "source": [
    "differenced_data_mlp.shape"
   ]
  },
  {
   "cell_type": "code",
   "execution_count": 900,
   "id": "249586d1-ace8-4122-af14-e30bf27128a4",
   "metadata": {},
   "outputs": [],
   "source": [
    "X = differenced_data_mlp[['30d_returns', '60d_returns', '90d_returns', '150d_returns', '300d_returns',]]\n",
    "y = differenced_data_mlp['next_30d_returns']"
   ]
  },
  {
   "cell_type": "code",
   "execution_count": 902,
   "id": "5eb7a063-fc90-4b78-b1fb-207f7edc548f",
   "metadata": {},
   "outputs": [],
   "source": [
    "X_train, X_test, y_train, y_test = train_test_split(X, y, test_size=0.2, shuffle=False) #train-test split"
   ]
  },
  {
   "cell_type": "code",
   "execution_count": 904,
   "id": "de9b2ea6-1487-4227-9617-0b1d9b727213",
   "metadata": {},
   "outputs": [],
   "source": [
    "model = tf.keras.models.Sequential()\n",
    "model.add(tf.keras.layers.Dense(units=hp_units_1, activation=act_fun))\n",
    "#model.add(tf.keras.layers.Dropout(n_dropout))\n",
    "model.add(tf.keras.layers.Dense(units=hp_units_2, activation=act_fun))\n",
    "#model.add(tf.keras.layers.Dropout(n_dropout))\n",
    "model.add(tf.keras.layers.Dense(units=hp_units_2, activation=act_fun))\n",
    "#model.add(tf.keras.layers.Dropout(n_dropout))\n",
    "model.add(tf.keras.layers.Dense(units=1, activation=\"sigmoid\")) #activation function"
   ]
  },
  {
   "cell_type": "code",
   "execution_count": 906,
   "id": "b3ada5c0-117f-427c-8cc9-bdff8513aec6",
   "metadata": {},
   "outputs": [],
   "source": [
    "hp_lr = 1e-4  # Learning rate\n",
    "adam = tf.keras.optimizers.Adam(learning_rate=hp_lr)  # Adam optimizer\n",
    "model.compile(optimizer=adam, loss=\"binary_crossentropy\", metrics=[\"accuracy\"])"
   ]
  },
  {
   "cell_type": "code",
   "execution_count": 908,
   "id": "87d3d26d-79f5-44a4-86ea-0ed9c94b76bf",
   "metadata": {},
   "outputs": [
    {
     "data": {
      "text/plain": [
       "next_30d_returns\n",
       "0    371\n",
       "1     96\n",
       "Name: count, dtype: int64"
      ]
     },
     "execution_count": 908,
     "metadata": {},
     "output_type": "execute_result"
    }
   ],
   "source": [
    "y_train.value_counts()"
   ]
  },
  {
   "cell_type": "code",
   "execution_count": 910,
   "id": "77e24680-d128-4b07-ac26-1a4398993f25",
   "metadata": {},
   "outputs": [],
   "source": [
    "class_weight = {0: 1 / (1 - np.mean(y_train)), 1: 1.0}"
   ]
  },
  {
   "cell_type": "code",
   "execution_count": 912,
   "id": "6d3545a5-7346-46aa-9582-cb0fd87d84cc",
   "metadata": {},
   "outputs": [
    {
     "name": "stdout",
     "output_type": "stream",
     "text": [
      "Epoch 1/200\n",
      "12/12 - 3s - 234ms/step - accuracy: 0.5630 - loss: 1.0432 - val_accuracy: 0.5106 - val_loss: 0.9304\n",
      "Epoch 2/200\n",
      "12/12 - 0s - 15ms/step - accuracy: 0.5684 - loss: 1.0305 - val_accuracy: 0.5106 - val_loss: 0.9238\n",
      "Epoch 3/200\n",
      "12/12 - 0s - 14ms/step - accuracy: 0.5710 - loss: 1.0186 - val_accuracy: 0.5106 - val_loss: 0.9174\n",
      "Epoch 4/200\n",
      "12/12 - 0s - 14ms/step - accuracy: 0.5737 - loss: 1.0071 - val_accuracy: 0.5106 - val_loss: 0.9112\n",
      "Epoch 5/200\n",
      "12/12 - 0s - 13ms/step - accuracy: 0.5737 - loss: 0.9959 - val_accuracy: 0.5106 - val_loss: 0.9052\n",
      "Epoch 6/200\n",
      "12/12 - 0s - 14ms/step - accuracy: 0.5764 - loss: 0.9848 - val_accuracy: 0.5106 - val_loss: 0.8994\n",
      "Epoch 7/200\n",
      "12/12 - 0s - 14ms/step - accuracy: 0.5818 - loss: 0.9742 - val_accuracy: 0.5106 - val_loss: 0.8937\n",
      "Epoch 8/200\n",
      "12/12 - 0s - 14ms/step - accuracy: 0.5818 - loss: 0.9646 - val_accuracy: 0.5106 - val_loss: 0.8882\n",
      "Epoch 9/200\n",
      "12/12 - 0s - 14ms/step - accuracy: 0.5871 - loss: 0.9574 - val_accuracy: 0.5319 - val_loss: 0.8833\n",
      "Epoch 10/200\n",
      "12/12 - 0s - 13ms/step - accuracy: 0.5925 - loss: 0.9515 - val_accuracy: 0.5319 - val_loss: 0.8790\n",
      "Epoch 11/200\n",
      "12/12 - 0s - 13ms/step - accuracy: 0.5925 - loss: 0.9460 - val_accuracy: 0.5426 - val_loss: 0.8750\n",
      "Epoch 12/200\n",
      "12/12 - 0s - 13ms/step - accuracy: 0.6032 - loss: 0.9407 - val_accuracy: 0.5426 - val_loss: 0.8710\n",
      "Epoch 13/200\n",
      "12/12 - 0s - 14ms/step - accuracy: 0.6059 - loss: 0.9355 - val_accuracy: 0.5532 - val_loss: 0.8672\n",
      "Epoch 14/200\n",
      "12/12 - 0s - 14ms/step - accuracy: 0.6139 - loss: 0.9303 - val_accuracy: 0.5532 - val_loss: 0.8636\n",
      "Epoch 15/200\n",
      "12/12 - 0s - 13ms/step - accuracy: 0.6220 - loss: 0.9252 - val_accuracy: 0.5532 - val_loss: 0.8601\n",
      "Epoch 16/200\n",
      "12/12 - 0s - 18ms/step - accuracy: 0.6247 - loss: 0.9200 - val_accuracy: 0.5638 - val_loss: 0.8566\n",
      "Epoch 17/200\n",
      "12/12 - 0s - 16ms/step - accuracy: 0.6273 - loss: 0.9150 - val_accuracy: 0.5638 - val_loss: 0.8532\n",
      "Epoch 18/200\n",
      "12/12 - 0s - 14ms/step - accuracy: 0.6327 - loss: 0.9100 - val_accuracy: 0.5638 - val_loss: 0.8498\n",
      "Epoch 19/200\n",
      "12/12 - 0s - 15ms/step - accuracy: 0.6354 - loss: 0.9051 - val_accuracy: 0.5638 - val_loss: 0.8465\n",
      "Epoch 20/200\n",
      "12/12 - 0s - 17ms/step - accuracy: 0.6408 - loss: 0.9002 - val_accuracy: 0.5638 - val_loss: 0.8432\n",
      "Epoch 21/200\n",
      "12/12 - 0s - 14ms/step - accuracy: 0.6408 - loss: 0.8953 - val_accuracy: 0.5851 - val_loss: 0.8401\n",
      "Epoch 22/200\n",
      "12/12 - 0s - 14ms/step - accuracy: 0.6434 - loss: 0.8904 - val_accuracy: 0.5851 - val_loss: 0.8371\n",
      "Epoch 23/200\n",
      "12/12 - 0s - 13ms/step - accuracy: 0.6434 - loss: 0.8856 - val_accuracy: 0.5851 - val_loss: 0.8341\n",
      "Epoch 24/200\n",
      "12/12 - 0s - 14ms/step - accuracy: 0.6434 - loss: 0.8807 - val_accuracy: 0.5851 - val_loss: 0.8310\n",
      "Epoch 25/200\n",
      "12/12 - 0s - 14ms/step - accuracy: 0.6434 - loss: 0.8758 - val_accuracy: 0.5851 - val_loss: 0.8276\n",
      "Epoch 26/200\n",
      "12/12 - 0s - 15ms/step - accuracy: 0.6461 - loss: 0.8709 - val_accuracy: 0.5851 - val_loss: 0.8243\n",
      "Epoch 27/200\n",
      "12/12 - 0s - 13ms/step - accuracy: 0.6434 - loss: 0.8659 - val_accuracy: 0.5957 - val_loss: 0.8211\n",
      "Epoch 28/200\n",
      "12/12 - 0s - 13ms/step - accuracy: 0.6408 - loss: 0.8610 - val_accuracy: 0.6064 - val_loss: 0.8180\n",
      "Epoch 29/200\n",
      "12/12 - 0s - 16ms/step - accuracy: 0.6461 - loss: 0.8561 - val_accuracy: 0.6170 - val_loss: 0.8149\n",
      "Epoch 30/200\n",
      "12/12 - 0s - 26ms/step - accuracy: 0.6461 - loss: 0.8512 - val_accuracy: 0.6170 - val_loss: 0.8121\n",
      "Epoch 31/200\n",
      "12/12 - 0s - 14ms/step - accuracy: 0.6488 - loss: 0.8459 - val_accuracy: 0.6170 - val_loss: 0.8093\n",
      "Epoch 32/200\n",
      "12/12 - 0s - 13ms/step - accuracy: 0.6515 - loss: 0.8402 - val_accuracy: 0.6170 - val_loss: 0.8067\n",
      "Epoch 33/200\n",
      "12/12 - 0s - 15ms/step - accuracy: 0.6568 - loss: 0.8347 - val_accuracy: 0.6064 - val_loss: 0.8041\n",
      "Epoch 34/200\n",
      "12/12 - 0s - 29ms/step - accuracy: 0.6568 - loss: 0.8294 - val_accuracy: 0.6170 - val_loss: 0.8015\n",
      "Epoch 35/200\n",
      "12/12 - 0s - 18ms/step - accuracy: 0.6595 - loss: 0.8243 - val_accuracy: 0.6277 - val_loss: 0.7991\n",
      "Epoch 36/200\n",
      "12/12 - 0s - 14ms/step - accuracy: 0.6676 - loss: 0.8193 - val_accuracy: 0.6383 - val_loss: 0.7968\n",
      "Epoch 37/200\n",
      "12/12 - 0s - 14ms/step - accuracy: 0.6702 - loss: 0.8145 - val_accuracy: 0.6383 - val_loss: 0.7945\n",
      "Epoch 38/200\n",
      "12/12 - 0s - 13ms/step - accuracy: 0.6756 - loss: 0.8097 - val_accuracy: 0.6383 - val_loss: 0.7922\n",
      "Epoch 39/200\n",
      "12/12 - 0s - 13ms/step - accuracy: 0.6783 - loss: 0.8051 - val_accuracy: 0.6383 - val_loss: 0.7900\n",
      "Epoch 40/200\n",
      "12/12 - 0s - 13ms/step - accuracy: 0.6810 - loss: 0.8005 - val_accuracy: 0.6383 - val_loss: 0.7879\n",
      "Epoch 41/200\n",
      "12/12 - 0s - 14ms/step - accuracy: 0.6836 - loss: 0.7960 - val_accuracy: 0.6383 - val_loss: 0.7859\n",
      "Epoch 42/200\n",
      "12/12 - 0s - 14ms/step - accuracy: 0.6836 - loss: 0.7918 - val_accuracy: 0.6383 - val_loss: 0.7839\n",
      "Epoch 43/200\n",
      "12/12 - 0s - 13ms/step - accuracy: 0.6836 - loss: 0.7876 - val_accuracy: 0.6383 - val_loss: 0.7821\n",
      "Epoch 44/200\n",
      "12/12 - 0s - 27ms/step - accuracy: 0.6836 - loss: 0.7837 - val_accuracy: 0.6383 - val_loss: 0.7802\n",
      "Epoch 45/200\n",
      "12/12 - 0s - 14ms/step - accuracy: 0.6863 - loss: 0.7799 - val_accuracy: 0.6383 - val_loss: 0.7783\n",
      "Epoch 46/200\n",
      "12/12 - 0s - 13ms/step - accuracy: 0.6863 - loss: 0.7763 - val_accuracy: 0.6383 - val_loss: 0.7764\n",
      "Epoch 47/200\n",
      "12/12 - 0s - 13ms/step - accuracy: 0.6863 - loss: 0.7728 - val_accuracy: 0.6383 - val_loss: 0.7745\n",
      "Epoch 48/200\n",
      "12/12 - 0s - 16ms/step - accuracy: 0.6890 - loss: 0.7695 - val_accuracy: 0.6489 - val_loss: 0.7727\n",
      "Epoch 49/200\n",
      "12/12 - 0s - 15ms/step - accuracy: 0.6917 - loss: 0.7663 - val_accuracy: 0.6489 - val_loss: 0.7710\n",
      "Epoch 50/200\n",
      "12/12 - 1s - 46ms/step - accuracy: 0.6917 - loss: 0.7632 - val_accuracy: 0.6489 - val_loss: 0.7693\n",
      "Epoch 51/200\n",
      "12/12 - 0s - 15ms/step - accuracy: 0.6917 - loss: 0.7602 - val_accuracy: 0.6489 - val_loss: 0.7677\n",
      "Epoch 52/200\n",
      "12/12 - 0s - 13ms/step - accuracy: 0.6944 - loss: 0.7574 - val_accuracy: 0.6489 - val_loss: 0.7662\n",
      "Epoch 53/200\n",
      "12/12 - 0s - 16ms/step - accuracy: 0.6944 - loss: 0.7550 - val_accuracy: 0.6489 - val_loss: 0.7648\n",
      "Epoch 54/200\n",
      "12/12 - 0s - 19ms/step - accuracy: 0.6944 - loss: 0.7525 - val_accuracy: 0.6489 - val_loss: 0.7634\n",
      "Epoch 55/200\n",
      "12/12 - 0s - 16ms/step - accuracy: 0.6944 - loss: 0.7500 - val_accuracy: 0.6596 - val_loss: 0.7619\n",
      "Epoch 56/200\n",
      "12/12 - 0s - 14ms/step - accuracy: 0.6944 - loss: 0.7474 - val_accuracy: 0.6596 - val_loss: 0.7604\n",
      "Epoch 57/200\n",
      "12/12 - 0s - 13ms/step - accuracy: 0.6971 - loss: 0.7449 - val_accuracy: 0.6596 - val_loss: 0.7589\n",
      "Epoch 58/200\n",
      "12/12 - 0s - 14ms/step - accuracy: 0.6997 - loss: 0.7424 - val_accuracy: 0.6596 - val_loss: 0.7574\n",
      "Epoch 59/200\n",
      "12/12 - 0s - 13ms/step - accuracy: 0.6997 - loss: 0.7400 - val_accuracy: 0.6596 - val_loss: 0.7560\n",
      "Epoch 60/200\n",
      "12/12 - 0s - 12ms/step - accuracy: 0.7024 - loss: 0.7377 - val_accuracy: 0.6596 - val_loss: 0.7547\n",
      "Epoch 61/200\n",
      "12/12 - 0s - 14ms/step - accuracy: 0.7024 - loss: 0.7347 - val_accuracy: 0.6702 - val_loss: 0.7533\n",
      "Epoch 62/200\n",
      "12/12 - 0s - 13ms/step - accuracy: 0.7051 - loss: 0.7321 - val_accuracy: 0.6702 - val_loss: 0.7515\n",
      "Epoch 63/200\n",
      "12/12 - 0s - 15ms/step - accuracy: 0.7051 - loss: 0.7297 - val_accuracy: 0.6702 - val_loss: 0.7498\n",
      "Epoch 64/200\n",
      "12/12 - 0s - 18ms/step - accuracy: 0.7051 - loss: 0.7275 - val_accuracy: 0.6702 - val_loss: 0.7481\n",
      "Epoch 65/200\n",
      "12/12 - 0s - 14ms/step - accuracy: 0.7078 - loss: 0.7253 - val_accuracy: 0.6702 - val_loss: 0.7464\n",
      "Epoch 66/200\n",
      "12/12 - 0s - 14ms/step - accuracy: 0.7078 - loss: 0.7232 - val_accuracy: 0.6702 - val_loss: 0.7447\n",
      "Epoch 67/200\n",
      "12/12 - 0s - 14ms/step - accuracy: 0.7158 - loss: 0.7211 - val_accuracy: 0.6702 - val_loss: 0.7432\n",
      "Epoch 68/200\n",
      "12/12 - 0s - 13ms/step - accuracy: 0.7131 - loss: 0.7192 - val_accuracy: 0.6702 - val_loss: 0.7416\n",
      "Epoch 69/200\n",
      "12/12 - 0s - 13ms/step - accuracy: 0.7158 - loss: 0.7172 - val_accuracy: 0.6702 - val_loss: 0.7400\n",
      "Epoch 70/200\n",
      "12/12 - 0s - 14ms/step - accuracy: 0.7158 - loss: 0.7152 - val_accuracy: 0.6702 - val_loss: 0.7384\n",
      "Epoch 71/200\n",
      "12/12 - 0s - 13ms/step - accuracy: 0.7185 - loss: 0.7132 - val_accuracy: 0.6702 - val_loss: 0.7367\n",
      "Epoch 72/200\n",
      "12/12 - 0s - 13ms/step - accuracy: 0.7212 - loss: 0.7112 - val_accuracy: 0.6702 - val_loss: 0.7350\n",
      "Epoch 73/200\n",
      "12/12 - 0s - 14ms/step - accuracy: 0.7239 - loss: 0.7093 - val_accuracy: 0.6702 - val_loss: 0.7336\n",
      "Epoch 74/200\n",
      "12/12 - 0s - 14ms/step - accuracy: 0.7265 - loss: 0.7076 - val_accuracy: 0.6702 - val_loss: 0.7322\n",
      "Epoch 75/200\n",
      "12/12 - 0s - 15ms/step - accuracy: 0.7265 - loss: 0.7059 - val_accuracy: 0.6702 - val_loss: 0.7310\n",
      "Epoch 76/200\n",
      "12/12 - 0s - 14ms/step - accuracy: 0.7265 - loss: 0.7042 - val_accuracy: 0.6702 - val_loss: 0.7297\n",
      "Epoch 77/200\n",
      "12/12 - 0s - 13ms/step - accuracy: 0.7265 - loss: 0.7026 - val_accuracy: 0.6702 - val_loss: 0.7286\n",
      "Epoch 78/200\n",
      "12/12 - 0s - 14ms/step - accuracy: 0.7265 - loss: 0.7010 - val_accuracy: 0.6809 - val_loss: 0.7274\n",
      "Epoch 79/200\n",
      "12/12 - 0s - 15ms/step - accuracy: 0.7265 - loss: 0.6995 - val_accuracy: 0.6915 - val_loss: 0.7263\n",
      "Epoch 80/200\n",
      "12/12 - 0s - 15ms/step - accuracy: 0.7265 - loss: 0.6979 - val_accuracy: 0.6915 - val_loss: 0.7253\n",
      "Epoch 81/200\n",
      "12/12 - 0s - 13ms/step - accuracy: 0.7265 - loss: 0.6963 - val_accuracy: 0.6915 - val_loss: 0.7243\n",
      "Epoch 82/200\n",
      "12/12 - 0s - 14ms/step - accuracy: 0.7265 - loss: 0.6947 - val_accuracy: 0.6915 - val_loss: 0.7233\n",
      "Epoch 83/200\n",
      "12/12 - 0s - 13ms/step - accuracy: 0.7292 - loss: 0.6931 - val_accuracy: 0.7021 - val_loss: 0.7223\n",
      "Epoch 84/200\n",
      "12/12 - 0s - 14ms/step - accuracy: 0.7346 - loss: 0.6916 - val_accuracy: 0.7021 - val_loss: 0.7213\n",
      "Epoch 85/200\n",
      "12/12 - 0s - 14ms/step - accuracy: 0.7319 - loss: 0.6900 - val_accuracy: 0.7021 - val_loss: 0.7204\n",
      "Epoch 86/200\n",
      "12/12 - 0s - 14ms/step - accuracy: 0.7319 - loss: 0.6885 - val_accuracy: 0.7021 - val_loss: 0.7195\n",
      "Epoch 87/200\n",
      "12/12 - 0s - 13ms/step - accuracy: 0.7319 - loss: 0.6869 - val_accuracy: 0.7021 - val_loss: 0.7189\n",
      "Epoch 88/200\n",
      "12/12 - 0s - 14ms/step - accuracy: 0.7319 - loss: 0.6854 - val_accuracy: 0.7021 - val_loss: 0.7183\n",
      "Epoch 89/200\n",
      "12/12 - 0s - 13ms/step - accuracy: 0.7346 - loss: 0.6839 - val_accuracy: 0.7021 - val_loss: 0.7178\n",
      "Epoch 90/200\n",
      "12/12 - 0s - 15ms/step - accuracy: 0.7346 - loss: 0.6824 - val_accuracy: 0.7128 - val_loss: 0.7172\n",
      "Epoch 91/200\n",
      "12/12 - 0s - 15ms/step - accuracy: 0.7346 - loss: 0.6809 - val_accuracy: 0.7128 - val_loss: 0.7166\n",
      "Epoch 92/200\n",
      "12/12 - 0s - 13ms/step - accuracy: 0.7346 - loss: 0.6794 - val_accuracy: 0.7128 - val_loss: 0.7160\n",
      "Epoch 93/200\n",
      "12/12 - 0s - 12ms/step - accuracy: 0.7373 - loss: 0.6780 - val_accuracy: 0.7128 - val_loss: 0.7153\n",
      "Epoch 94/200\n",
      "12/12 - 0s - 13ms/step - accuracy: 0.7399 - loss: 0.6766 - val_accuracy: 0.7128 - val_loss: 0.7146\n",
      "Epoch 95/200\n",
      "12/12 - 0s - 15ms/step - accuracy: 0.7426 - loss: 0.6751 - val_accuracy: 0.7128 - val_loss: 0.7139\n",
      "Epoch 96/200\n",
      "12/12 - 0s - 13ms/step - accuracy: 0.7453 - loss: 0.6737 - val_accuracy: 0.7234 - val_loss: 0.7132\n",
      "Epoch 97/200\n",
      "12/12 - 0s - 12ms/step - accuracy: 0.7453 - loss: 0.6723 - val_accuracy: 0.7340 - val_loss: 0.7125\n",
      "Epoch 98/200\n",
      "12/12 - 0s - 13ms/step - accuracy: 0.7453 - loss: 0.6709 - val_accuracy: 0.7340 - val_loss: 0.7118\n",
      "Epoch 99/200\n",
      "12/12 - 0s - 13ms/step - accuracy: 0.7453 - loss: 0.6695 - val_accuracy: 0.7234 - val_loss: 0.7111\n",
      "Epoch 100/200\n",
      "12/12 - 0s - 14ms/step - accuracy: 0.7453 - loss: 0.6681 - val_accuracy: 0.7234 - val_loss: 0.7104\n",
      "Epoch 101/200\n",
      "12/12 - 0s - 14ms/step - accuracy: 0.7453 - loss: 0.6668 - val_accuracy: 0.7234 - val_loss: 0.7097\n",
      "Epoch 102/200\n",
      "12/12 - 0s - 13ms/step - accuracy: 0.7453 - loss: 0.6654 - val_accuracy: 0.7234 - val_loss: 0.7091\n",
      "Epoch 103/200\n",
      "12/12 - 0s - 14ms/step - accuracy: 0.7453 - loss: 0.6640 - val_accuracy: 0.7234 - val_loss: 0.7084\n",
      "Epoch 104/200\n",
      "12/12 - 0s - 13ms/step - accuracy: 0.7480 - loss: 0.6626 - val_accuracy: 0.7234 - val_loss: 0.7077\n",
      "Epoch 105/200\n",
      "12/12 - 0s - 13ms/step - accuracy: 0.7507 - loss: 0.6612 - val_accuracy: 0.7234 - val_loss: 0.7070\n",
      "Epoch 106/200\n",
      "12/12 - 0s - 13ms/step - accuracy: 0.7507 - loss: 0.6598 - val_accuracy: 0.7234 - val_loss: 0.7063\n",
      "Epoch 107/200\n",
      "12/12 - 0s - 15ms/step - accuracy: 0.7507 - loss: 0.6584 - val_accuracy: 0.7234 - val_loss: 0.7057\n",
      "Epoch 108/200\n",
      "12/12 - 0s - 16ms/step - accuracy: 0.7507 - loss: 0.6570 - val_accuracy: 0.7234 - val_loss: 0.7051\n",
      "Epoch 109/200\n",
      "12/12 - 0s - 14ms/step - accuracy: 0.7507 - loss: 0.6556 - val_accuracy: 0.7340 - val_loss: 0.7044\n",
      "Epoch 110/200\n",
      "12/12 - 0s - 14ms/step - accuracy: 0.7507 - loss: 0.6543 - val_accuracy: 0.7340 - val_loss: 0.7037\n",
      "Epoch 111/200\n",
      "12/12 - 0s - 14ms/step - accuracy: 0.7507 - loss: 0.6531 - val_accuracy: 0.7340 - val_loss: 0.7031\n",
      "Epoch 112/200\n",
      "12/12 - 0s - 13ms/step - accuracy: 0.7507 - loss: 0.6518 - val_accuracy: 0.7340 - val_loss: 0.7024\n",
      "Epoch 113/200\n",
      "12/12 - 0s - 13ms/step - accuracy: 0.7507 - loss: 0.6506 - val_accuracy: 0.7340 - val_loss: 0.7018\n",
      "Epoch 114/200\n",
      "12/12 - 0s - 16ms/step - accuracy: 0.7534 - loss: 0.6493 - val_accuracy: 0.7340 - val_loss: 0.7012\n",
      "Epoch 115/200\n",
      "12/12 - 0s - 16ms/step - accuracy: 0.7534 - loss: 0.6481 - val_accuracy: 0.7340 - val_loss: 0.7006\n",
      "Epoch 116/200\n",
      "12/12 - 0s - 19ms/step - accuracy: 0.7534 - loss: 0.6469 - val_accuracy: 0.7340 - val_loss: 0.6999\n",
      "Epoch 117/200\n",
      "12/12 - 0s - 14ms/step - accuracy: 0.7534 - loss: 0.6457 - val_accuracy: 0.7340 - val_loss: 0.6993\n",
      "Epoch 118/200\n",
      "12/12 - 0s - 15ms/step - accuracy: 0.7534 - loss: 0.6445 - val_accuracy: 0.7340 - val_loss: 0.6987\n",
      "Epoch 119/200\n",
      "12/12 - 0s - 14ms/step - accuracy: 0.7534 - loss: 0.6433 - val_accuracy: 0.7340 - val_loss: 0.6980\n",
      "Epoch 120/200\n",
      "12/12 - 0s - 14ms/step - accuracy: 0.7534 - loss: 0.6420 - val_accuracy: 0.7340 - val_loss: 0.6974\n",
      "Epoch 121/200\n",
      "12/12 - 0s - 14ms/step - accuracy: 0.7534 - loss: 0.6408 - val_accuracy: 0.7340 - val_loss: 0.6967\n",
      "Epoch 122/200\n",
      "12/12 - 0s - 13ms/step - accuracy: 0.7534 - loss: 0.6395 - val_accuracy: 0.7340 - val_loss: 0.6960\n",
      "Epoch 123/200\n",
      "12/12 - 0s - 14ms/step - accuracy: 0.7534 - loss: 0.6383 - val_accuracy: 0.7340 - val_loss: 0.6953\n",
      "Epoch 124/200\n",
      "12/12 - 0s - 15ms/step - accuracy: 0.7534 - loss: 0.6370 - val_accuracy: 0.7340 - val_loss: 0.6946\n",
      "Epoch 125/200\n",
      "12/12 - 0s - 14ms/step - accuracy: 0.7587 - loss: 0.6358 - val_accuracy: 0.7447 - val_loss: 0.6939\n",
      "Epoch 126/200\n",
      "12/12 - 0s - 13ms/step - accuracy: 0.7587 - loss: 0.6346 - val_accuracy: 0.7447 - val_loss: 0.6932\n",
      "Epoch 127/200\n",
      "12/12 - 0s - 13ms/step - accuracy: 0.7641 - loss: 0.6333 - val_accuracy: 0.7447 - val_loss: 0.6925\n",
      "Epoch 128/200\n",
      "12/12 - 0s - 14ms/step - accuracy: 0.7641 - loss: 0.6321 - val_accuracy: 0.7447 - val_loss: 0.6918\n",
      "Epoch 129/200\n",
      "12/12 - 0s - 14ms/step - accuracy: 0.7641 - loss: 0.6309 - val_accuracy: 0.7447 - val_loss: 0.6911\n",
      "Epoch 130/200\n",
      "12/12 - 0s - 13ms/step - accuracy: 0.7641 - loss: 0.6297 - val_accuracy: 0.7447 - val_loss: 0.6904\n",
      "Epoch 131/200\n",
      "12/12 - 0s - 16ms/step - accuracy: 0.7641 - loss: 0.6285 - val_accuracy: 0.7447 - val_loss: 0.6898\n",
      "Epoch 132/200\n",
      "12/12 - 0s - 15ms/step - accuracy: 0.7641 - loss: 0.6273 - val_accuracy: 0.7447 - val_loss: 0.6892\n",
      "Epoch 133/200\n",
      "12/12 - 0s - 15ms/step - accuracy: 0.7668 - loss: 0.6262 - val_accuracy: 0.7447 - val_loss: 0.6886\n",
      "Epoch 134/200\n",
      "12/12 - 0s - 14ms/step - accuracy: 0.7668 - loss: 0.6251 - val_accuracy: 0.7447 - val_loss: 0.6880\n",
      "Epoch 135/200\n",
      "12/12 - 0s - 13ms/step - accuracy: 0.7668 - loss: 0.6240 - val_accuracy: 0.7447 - val_loss: 0.6875\n",
      "Epoch 136/200\n",
      "12/12 - 0s - 14ms/step - accuracy: 0.7668 - loss: 0.6229 - val_accuracy: 0.7447 - val_loss: 0.6869\n",
      "Epoch 137/200\n",
      "12/12 - 0s - 14ms/step - accuracy: 0.7694 - loss: 0.6219 - val_accuracy: 0.7447 - val_loss: 0.6864\n",
      "Epoch 138/200\n",
      "12/12 - 0s - 14ms/step - accuracy: 0.7721 - loss: 0.6209 - val_accuracy: 0.7447 - val_loss: 0.6858\n",
      "Epoch 139/200\n",
      "12/12 - 0s - 14ms/step - accuracy: 0.7694 - loss: 0.6198 - val_accuracy: 0.7447 - val_loss: 0.6853\n",
      "Epoch 140/200\n",
      "12/12 - 0s - 13ms/step - accuracy: 0.7694 - loss: 0.6188 - val_accuracy: 0.7447 - val_loss: 0.6848\n",
      "Epoch 141/200\n",
      "12/12 - 0s - 13ms/step - accuracy: 0.7694 - loss: 0.6178 - val_accuracy: 0.7447 - val_loss: 0.6843\n",
      "Epoch 142/200\n",
      "12/12 - 0s - 13ms/step - accuracy: 0.7694 - loss: 0.6168 - val_accuracy: 0.7447 - val_loss: 0.6838\n",
      "Epoch 143/200\n",
      "12/12 - 0s - 13ms/step - accuracy: 0.7694 - loss: 0.6158 - val_accuracy: 0.7447 - val_loss: 0.6833\n",
      "Epoch 144/200\n",
      "12/12 - 0s - 13ms/step - accuracy: 0.7694 - loss: 0.6148 - val_accuracy: 0.7447 - val_loss: 0.6828\n",
      "Epoch 145/200\n",
      "12/12 - 0s - 15ms/step - accuracy: 0.7694 - loss: 0.6139 - val_accuracy: 0.7447 - val_loss: 0.6823\n",
      "Epoch 146/200\n",
      "12/12 - 0s - 13ms/step - accuracy: 0.7694 - loss: 0.6129 - val_accuracy: 0.7447 - val_loss: 0.6818\n",
      "Epoch 147/200\n",
      "12/12 - 0s - 13ms/step - accuracy: 0.7694 - loss: 0.6119 - val_accuracy: 0.7447 - val_loss: 0.6813\n",
      "Epoch 148/200\n",
      "12/12 - 0s - 15ms/step - accuracy: 0.7694 - loss: 0.6110 - val_accuracy: 0.7447 - val_loss: 0.6809\n",
      "Epoch 149/200\n",
      "12/12 - 0s - 15ms/step - accuracy: 0.7694 - loss: 0.6100 - val_accuracy: 0.7447 - val_loss: 0.6804\n",
      "Epoch 150/200\n",
      "12/12 - 0s - 12ms/step - accuracy: 0.7694 - loss: 0.6091 - val_accuracy: 0.7447 - val_loss: 0.6800\n",
      "Epoch 151/200\n",
      "12/12 - 0s - 13ms/step - accuracy: 0.7694 - loss: 0.6081 - val_accuracy: 0.7447 - val_loss: 0.6796\n",
      "Epoch 152/200\n",
      "12/12 - 0s - 14ms/step - accuracy: 0.7694 - loss: 0.6072 - val_accuracy: 0.7447 - val_loss: 0.6791\n",
      "Epoch 153/200\n",
      "12/12 - 0s - 14ms/step - accuracy: 0.7694 - loss: 0.6062 - val_accuracy: 0.7447 - val_loss: 0.6787\n",
      "Epoch 154/200\n",
      "12/12 - 0s - 13ms/step - accuracy: 0.7694 - loss: 0.6054 - val_accuracy: 0.7447 - val_loss: 0.6782\n",
      "Epoch 155/200\n",
      "12/12 - 0s - 14ms/step - accuracy: 0.7694 - loss: 0.6044 - val_accuracy: 0.7447 - val_loss: 0.6777\n",
      "Epoch 156/200\n",
      "12/12 - 0s - 16ms/step - accuracy: 0.7694 - loss: 0.6035 - val_accuracy: 0.7447 - val_loss: 0.6772\n",
      "Epoch 157/200\n",
      "12/12 - 0s - 14ms/step - accuracy: 0.7694 - loss: 0.6026 - val_accuracy: 0.7447 - val_loss: 0.6767\n",
      "Epoch 158/200\n",
      "12/12 - 0s - 14ms/step - accuracy: 0.7694 - loss: 0.6017 - val_accuracy: 0.7447 - val_loss: 0.6763\n",
      "Epoch 159/200\n",
      "12/12 - 0s - 14ms/step - accuracy: 0.7694 - loss: 0.6008 - val_accuracy: 0.7447 - val_loss: 0.6758\n",
      "Epoch 160/200\n",
      "12/12 - 0s - 14ms/step - accuracy: 0.7694 - loss: 0.5999 - val_accuracy: 0.7447 - val_loss: 0.6753\n",
      "Epoch 161/200\n",
      "12/12 - 0s - 14ms/step - accuracy: 0.7721 - loss: 0.5991 - val_accuracy: 0.7447 - val_loss: 0.6749\n",
      "Epoch 162/200\n",
      "12/12 - 0s - 13ms/step - accuracy: 0.7721 - loss: 0.5982 - val_accuracy: 0.7447 - val_loss: 0.6744\n",
      "Epoch 163/200\n",
      "12/12 - 0s - 14ms/step - accuracy: 0.7721 - loss: 0.5973 - val_accuracy: 0.7447 - val_loss: 0.6740\n",
      "Epoch 164/200\n",
      "12/12 - 0s - 13ms/step - accuracy: 0.7748 - loss: 0.5965 - val_accuracy: 0.7447 - val_loss: 0.6736\n",
      "Epoch 165/200\n",
      "12/12 - 0s - 14ms/step - accuracy: 0.7775 - loss: 0.5956 - val_accuracy: 0.7447 - val_loss: 0.6731\n",
      "Epoch 166/200\n",
      "12/12 - 0s - 13ms/step - accuracy: 0.7775 - loss: 0.5948 - val_accuracy: 0.7447 - val_loss: 0.6727\n",
      "Epoch 167/200\n",
      "12/12 - 0s - 13ms/step - accuracy: 0.7775 - loss: 0.5939 - val_accuracy: 0.7447 - val_loss: 0.6723\n",
      "Epoch 168/200\n",
      "12/12 - 0s - 14ms/step - accuracy: 0.7775 - loss: 0.5931 - val_accuracy: 0.7447 - val_loss: 0.6718\n",
      "Epoch 169/200\n",
      "12/12 - 0s - 13ms/step - accuracy: 0.7802 - loss: 0.5923 - val_accuracy: 0.7447 - val_loss: 0.6714\n",
      "Epoch 170/200\n",
      "12/12 - 0s - 13ms/step - accuracy: 0.7802 - loss: 0.5915 - val_accuracy: 0.7447 - val_loss: 0.6710\n",
      "Epoch 171/200\n",
      "12/12 - 0s - 14ms/step - accuracy: 0.7775 - loss: 0.5906 - val_accuracy: 0.7447 - val_loss: 0.6705\n",
      "Epoch 172/200\n",
      "12/12 - 0s - 13ms/step - accuracy: 0.7775 - loss: 0.5898 - val_accuracy: 0.7447 - val_loss: 0.6701\n",
      "Epoch 173/200\n",
      "12/12 - 0s - 16ms/step - accuracy: 0.7775 - loss: 0.5890 - val_accuracy: 0.7447 - val_loss: 0.6697\n",
      "Epoch 174/200\n",
      "12/12 - 0s - 16ms/step - accuracy: 0.7775 - loss: 0.5883 - val_accuracy: 0.7447 - val_loss: 0.6693\n",
      "Epoch 175/200\n",
      "12/12 - 0s - 14ms/step - accuracy: 0.7775 - loss: 0.5875 - val_accuracy: 0.7447 - val_loss: 0.6689\n",
      "Epoch 176/200\n",
      "12/12 - 0s - 12ms/step - accuracy: 0.7775 - loss: 0.5867 - val_accuracy: 0.7447 - val_loss: 0.6684\n",
      "Epoch 177/200\n",
      "12/12 - 0s - 13ms/step - accuracy: 0.7775 - loss: 0.5859 - val_accuracy: 0.7447 - val_loss: 0.6680\n",
      "Epoch 178/200\n",
      "12/12 - 0s - 12ms/step - accuracy: 0.7775 - loss: 0.5852 - val_accuracy: 0.7447 - val_loss: 0.6675\n",
      "Epoch 179/200\n",
      "12/12 - 0s - 13ms/step - accuracy: 0.7775 - loss: 0.5844 - val_accuracy: 0.7447 - val_loss: 0.6670\n",
      "Epoch 180/200\n",
      "12/12 - 0s - 15ms/step - accuracy: 0.7775 - loss: 0.5836 - val_accuracy: 0.7447 - val_loss: 0.6665\n",
      "Epoch 181/200\n",
      "12/12 - 0s - 13ms/step - accuracy: 0.7775 - loss: 0.5829 - val_accuracy: 0.7447 - val_loss: 0.6661\n",
      "Epoch 182/200\n",
      "12/12 - 0s - 13ms/step - accuracy: 0.7775 - loss: 0.5821 - val_accuracy: 0.7447 - val_loss: 0.6656\n",
      "Epoch 183/200\n",
      "12/12 - 0s - 14ms/step - accuracy: 0.7775 - loss: 0.5814 - val_accuracy: 0.7447 - val_loss: 0.6651\n",
      "Epoch 184/200\n",
      "12/12 - 0s - 15ms/step - accuracy: 0.7775 - loss: 0.5807 - val_accuracy: 0.7447 - val_loss: 0.6647\n",
      "Epoch 185/200\n",
      "12/12 - 0s - 15ms/step - accuracy: 0.7775 - loss: 0.5800 - val_accuracy: 0.7447 - val_loss: 0.6643\n",
      "Epoch 186/200\n",
      "12/12 - 0s - 15ms/step - accuracy: 0.7775 - loss: 0.5793 - val_accuracy: 0.7447 - val_loss: 0.6639\n",
      "Epoch 187/200\n",
      "12/12 - 0s - 16ms/step - accuracy: 0.7775 - loss: 0.5787 - val_accuracy: 0.7447 - val_loss: 0.6635\n",
      "Epoch 188/200\n",
      "12/12 - 0s - 13ms/step - accuracy: 0.7775 - loss: 0.5780 - val_accuracy: 0.7447 - val_loss: 0.6631\n",
      "Epoch 189/200\n",
      "12/12 - 0s - 13ms/step - accuracy: 0.7775 - loss: 0.5773 - val_accuracy: 0.7447 - val_loss: 0.6627\n",
      "Epoch 190/200\n",
      "12/12 - 0s - 13ms/step - accuracy: 0.7775 - loss: 0.5767 - val_accuracy: 0.7447 - val_loss: 0.6623\n",
      "Epoch 191/200\n",
      "12/12 - 0s - 15ms/step - accuracy: 0.7802 - loss: 0.5761 - val_accuracy: 0.7553 - val_loss: 0.6616\n",
      "Epoch 192/200\n",
      "12/12 - 0s - 13ms/step - accuracy: 0.7828 - loss: 0.5754 - val_accuracy: 0.7553 - val_loss: 0.6611\n",
      "Epoch 193/200\n",
      "12/12 - 0s - 13ms/step - accuracy: 0.7828 - loss: 0.5747 - val_accuracy: 0.7553 - val_loss: 0.6606\n",
      "Epoch 194/200\n",
      "12/12 - 0s - 13ms/step - accuracy: 0.7828 - loss: 0.5740 - val_accuracy: 0.7553 - val_loss: 0.6601\n",
      "Epoch 195/200\n",
      "12/12 - 0s - 13ms/step - accuracy: 0.7828 - loss: 0.5733 - val_accuracy: 0.7553 - val_loss: 0.6597\n",
      "Epoch 196/200\n",
      "12/12 - 0s - 14ms/step - accuracy: 0.7828 - loss: 0.5726 - val_accuracy: 0.7553 - val_loss: 0.6592\n",
      "Epoch 197/200\n",
      "12/12 - 0s - 13ms/step - accuracy: 0.7828 - loss: 0.5719 - val_accuracy: 0.7660 - val_loss: 0.6588\n",
      "Epoch 198/200\n",
      "12/12 - 0s - 15ms/step - accuracy: 0.7828 - loss: 0.5713 - val_accuracy: 0.7660 - val_loss: 0.6586\n",
      "Epoch 199/200\n",
      "12/12 - 0s - 14ms/step - accuracy: 0.7828 - loss: 0.5706 - val_accuracy: 0.7660 - val_loss: 0.6582\n",
      "Epoch 200/200\n",
      "12/12 - 0s - 16ms/step - accuracy: 0.7828 - loss: 0.5694 - val_accuracy: 0.7660 - val_loss: 0.6578\n"
     ]
    }
   ],
   "source": [
    "history = model.fit(\n",
    "    X_train,\n",
    "    y_train,\n",
    "    validation_split=0.2,\n",
    "    epochs=200,\n",
    "    batch_size=32,\n",
    "    verbose=2,\n",
    ")"
   ]
  },
  {
   "cell_type": "code",
   "execution_count": 913,
   "id": "0cabb16c-aeba-4aad-849f-51033da354fd",
   "metadata": {},
   "outputs": [
    {
     "name": "stdout",
     "output_type": "stream",
     "text": [
      "\u001b[1m4/4\u001b[0m \u001b[32m━━━━━━━━━━━━━━━━━━━━\u001b[0m\u001b[37m\u001b[0m \u001b[1m0s\u001b[0m 44ms/step\n",
      "\u001b[1m4/4\u001b[0m \u001b[32m━━━━━━━━━━━━━━━━━━━━\u001b[0m\u001b[37m\u001b[0m \u001b[1m0s\u001b[0m 14ms/step - accuracy: 0.7577 - loss: 0.6137\n",
      "Model accuracy in test:  [0.6320021152496338, 0.7692307829856873]\n"
     ]
    }
   ],
   "source": [
    "y_prob = model.predict(X_test)\n",
    "y_pred = np.where(y_prob > 0.50, 1, 0)\n",
    "\n",
    "acc = model.evaluate(X_test, y_test)\n",
    "print(\"Model accuracy in test: \", acc) #outputs the loss and the accuracy"
   ]
  },
  {
   "cell_type": "markdown",
   "id": "fbe16450-8ea1-4de0-98e4-e21b6f78f5f1",
   "metadata": {},
   "source": [
    "### **MLP Model for Predicting Fractionally DifferencedTime Series Levels**"
   ]
  },
  {
   "cell_type": "markdown",
   "id": "5b0bc11f-01e6-4a58-a936-49475e5e14aa",
   "metadata": {},
   "source": [
    "**Now, let us similarly try to create a predictive model for the fractionally differenced series.**"
   ]
  },
  {
   "cell_type": "code",
   "execution_count": 916,
   "id": "e79286e5-f183-458b-ae62-0dfaf1244078",
   "metadata": {},
   "outputs": [],
   "source": [
    "frac_diff_series_mlp = frac_diff_series.to_frame()"
   ]
  },
  {
   "cell_type": "code",
   "execution_count": 918,
   "id": "350e114b-7f4f-40a5-9827-0c8e4417a131",
   "metadata": {},
   "outputs": [
    {
     "data": {
      "text/plain": [
       "(1967, 1)"
      ]
     },
     "execution_count": 918,
     "metadata": {},
     "output_type": "execute_result"
    }
   ],
   "source": [
    "frac_diff_series_mlp.shape"
   ]
  },
  {
   "cell_type": "code",
   "execution_count": 920,
   "id": "16827360-eb30-4fce-a668-3c1c66a5f535",
   "metadata": {},
   "outputs": [],
   "source": [
    "frac_diff_series_mlp[\"1d_returns\"] = frac_diff_series.pct_change()"
   ]
  },
  {
   "cell_type": "code",
   "execution_count": 922,
   "id": "ab51dd65-7aef-4a13-abf1-3994abdca378",
   "metadata": {},
   "outputs": [],
   "source": [
    "frac_diff_series_mlp[\"30d_returns\"] = frac_diff_series_mlp[\"1d_returns\"].rolling(30).apply(lambda x: (1+ x).prod() - 1)\n",
    "frac_diff_series_mlp[\"60d_returns\"] = frac_diff_series_mlp[\"1d_returns\"].rolling(60).apply(lambda x: (1+ x).prod() - 1)\n",
    "frac_diff_series_mlp[\"90d_returns\"] = frac_diff_series_mlp[\"1d_returns\"].rolling(90).apply(lambda x: (1+ x).prod() - 1)\n",
    "frac_diff_series_mlp[\"150d_returns\"] = frac_diff_series_mlp[\"1d_returns\"].rolling(150).apply(lambda x: (1+ x).prod() - 1)\n",
    "frac_diff_series_mlp[\"300d_returns\"] = frac_diff_series_mlp[\"1d_returns\"].rolling(300).apply(lambda x: (1+ x).prod() - 1)"
   ]
  },
  {
   "cell_type": "code",
   "execution_count": 923,
   "id": "5b639a67-8f7f-4bc1-9b05-41b71e2d2fb5",
   "metadata": {},
   "outputs": [],
   "source": [
    "frac_diff_series_mlp.dropna(inplace=True)"
   ]
  },
  {
   "cell_type": "code",
   "execution_count": 924,
   "id": "b855e556-66c4-4879-b1ee-46030bbd65d8",
   "metadata": {},
   "outputs": [
    {
     "data": {
      "text/plain": [
       "(1667, 7)"
      ]
     },
     "execution_count": 924,
     "metadata": {},
     "output_type": "execute_result"
    }
   ],
   "source": [
    "frac_diff_series_mlp.shape"
   ]
  },
  {
   "cell_type": "code",
   "execution_count": 925,
   "id": "538c055c-eb7d-47b3-9ae4-ad0981aa2dd8",
   "metadata": {},
   "outputs": [],
   "source": [
    "frac_diff_series_mlp[\"next_30d_returns\"] = (frac_diff_series_mlp[\"30d_returns\"].shift(-30)>0).astype(int) #this is our target column. \n",
    "frac_diff_series_mlp.dropna(inplace=True)"
   ]
  },
  {
   "cell_type": "code",
   "execution_count": 930,
   "id": "d73e5ba3-60c3-4b65-ae3a-fd9ff90a02bd",
   "metadata": {},
   "outputs": [],
   "source": [
    "X = frac_diff_series_mlp[['30d_returns', '60d_returns', '90d_returns', '150d_returns', '300d_returns',]]\n",
    "y = frac_diff_series_mlp['next_30d_returns']"
   ]
  },
  {
   "cell_type": "code",
   "execution_count": 932,
   "id": "ebae5a38-3f26-4666-a1ba-d1095a3be227",
   "metadata": {},
   "outputs": [],
   "source": [
    "X_train, X_test, y_train, y_test = train_test_split(X, y, test_size=0.2, shuffle=False) #train-test split"
   ]
  },
  {
   "cell_type": "code",
   "execution_count": 934,
   "id": "ffbfabc3-979d-439f-b967-bce428d761d7",
   "metadata": {},
   "outputs": [],
   "source": [
    "model = tf.keras.models.Sequential()\n",
    "model.add(tf.keras.layers.Dense(units=hp_units_1, activation=act_fun))\n",
    "#model.add(tf.keras.layers.Dropout(n_dropout))\n",
    "model.add(tf.keras.layers.Dense(units=hp_units_2, activation=act_fun))\n",
    "model.add(tf.keras.layers.Dense(units=hp_units_2, activation=act_fun))\n",
    "model.add(tf.keras.layers.Dense(units=hp_units_2, activation=act_fun))\n",
    "#model.add(tf.keras.layers.Dropout(n_dropout))\n",
    "#model.add(tf.keras.layers.Dropout(n_dropout))\n",
    "model.add(tf.keras.layers.Dense(units=1, activation=\"sigmoid\")) #activation function"
   ]
  },
  {
   "cell_type": "code",
   "execution_count": 936,
   "id": "7442fea7-d0e6-461b-836a-5335c69d1d5a",
   "metadata": {},
   "outputs": [],
   "source": [
    "hp_lr = 1e-3  # Learning rate\n",
    "adam = tf.keras.optimizers.Adam(learning_rate=hp_lr)  # Adam optimizer\n",
    "model.compile(optimizer=adam, loss=\"binary_crossentropy\", metrics=[\"accuracy\"])"
   ]
  },
  {
   "cell_type": "code",
   "execution_count": 938,
   "id": "60ae60da-4b9f-4ec1-b314-6d478bc21f84",
   "metadata": {},
   "outputs": [
    {
     "data": {
      "text/plain": [
       "next_30d_returns\n",
       "0    771\n",
       "1    562\n",
       "Name: count, dtype: int64"
      ]
     },
     "execution_count": 938,
     "metadata": {},
     "output_type": "execute_result"
    }
   ],
   "source": [
    "y_train.value_counts()"
   ]
  },
  {
   "cell_type": "code",
   "execution_count": 940,
   "id": "49b3290c-c111-487c-b49e-5923ff2afc4f",
   "metadata": {},
   "outputs": [],
   "source": [
    "class_weight = {0: 1 / (1 - np.mean(y_train)), 1: 1.0}\n",
    " #balancing the classes"
   ]
  },
  {
   "cell_type": "code",
   "execution_count": 942,
   "id": "58f88ed2-1ca5-457a-804a-172b19cdfbac",
   "metadata": {},
   "outputs": [
    {
     "name": "stdout",
     "output_type": "stream",
     "text": [
      "Epoch 1/100\n",
      "34/34 - 3s - 100ms/step - accuracy: 0.5835 - loss: 0.9983 - val_accuracy: 0.5581 - val_loss: 1.7635\n",
      "Epoch 2/100\n",
      "34/34 - 0s - 7ms/step - accuracy: 0.5835 - loss: 0.9400 - val_accuracy: 0.5581 - val_loss: 1.5413\n",
      "Epoch 3/100\n",
      "34/34 - 0s - 8ms/step - accuracy: 0.5835 - loss: 0.9069 - val_accuracy: 0.5543 - val_loss: 1.3907\n",
      "Epoch 4/100\n",
      "34/34 - 0s - 7ms/step - accuracy: 0.5835 - loss: 0.8838 - val_accuracy: 0.5506 - val_loss: 1.2830\n",
      "Epoch 5/100\n",
      "34/34 - 0s - 7ms/step - accuracy: 0.5835 - loss: 0.8668 - val_accuracy: 0.5543 - val_loss: 1.2049\n",
      "Epoch 6/100\n",
      "34/34 - 0s - 7ms/step - accuracy: 0.5844 - loss: 0.8540 - val_accuracy: 0.5543 - val_loss: 1.1493\n",
      "Epoch 7/100\n",
      "34/34 - 0s - 7ms/step - accuracy: 0.5844 - loss: 0.8444 - val_accuracy: 0.5543 - val_loss: 1.1076\n",
      "Epoch 8/100\n",
      "34/34 - 0s - 7ms/step - accuracy: 0.5844 - loss: 0.8370 - val_accuracy: 0.5543 - val_loss: 1.0742\n",
      "Epoch 9/100\n",
      "34/34 - 0s - 7ms/step - accuracy: 0.5835 - loss: 0.8318 - val_accuracy: 0.5543 - val_loss: 1.0498\n",
      "Epoch 10/100\n",
      "34/34 - 0s - 7ms/step - accuracy: 0.5835 - loss: 0.8288 - val_accuracy: 0.5543 - val_loss: 1.0326\n",
      "Epoch 11/100\n",
      "34/34 - 0s - 7ms/step - accuracy: 0.5835 - loss: 0.8259 - val_accuracy: 0.5543 - val_loss: 1.0265\n",
      "Epoch 12/100\n",
      "34/34 - 0s - 7ms/step - accuracy: 0.5835 - loss: 0.8248 - val_accuracy: 0.5543 - val_loss: 1.0168\n",
      "Epoch 13/100\n",
      "34/34 - 0s - 7ms/step - accuracy: 0.5835 - loss: 0.8231 - val_accuracy: 0.5543 - val_loss: 1.0122\n",
      "Epoch 14/100\n",
      "34/34 - 0s - 8ms/step - accuracy: 0.5835 - loss: 0.8219 - val_accuracy: 0.5543 - val_loss: 1.0066\n",
      "Epoch 15/100\n",
      "34/34 - 0s - 7ms/step - accuracy: 0.5835 - loss: 0.8207 - val_accuracy: 0.5543 - val_loss: 1.0021\n",
      "Epoch 16/100\n",
      "34/34 - 0s - 7ms/step - accuracy: 0.5835 - loss: 0.8206 - val_accuracy: 0.5543 - val_loss: 0.9956\n",
      "Epoch 17/100\n",
      "34/34 - 0s - 7ms/step - accuracy: 0.5835 - loss: 0.8192 - val_accuracy: 0.5543 - val_loss: 0.9924\n",
      "Epoch 18/100\n",
      "34/34 - 0s - 8ms/step - accuracy: 0.5835 - loss: 0.8182 - val_accuracy: 0.5543 - val_loss: 0.9911\n",
      "Epoch 19/100\n",
      "34/34 - 0s - 7ms/step - accuracy: 0.5835 - loss: 0.8172 - val_accuracy: 0.5543 - val_loss: 0.9844\n",
      "Epoch 20/100\n",
      "34/34 - 0s - 7ms/step - accuracy: 0.5835 - loss: 0.8162 - val_accuracy: 0.5543 - val_loss: 0.9823\n",
      "Epoch 21/100\n",
      "34/34 - 0s - 7ms/step - accuracy: 0.5835 - loss: 0.8151 - val_accuracy: 0.5543 - val_loss: 0.9784\n",
      "Epoch 21: early stopping\n",
      "Restoring model weights from the end of the best epoch: 1.\n"
     ]
    }
   ],
   "source": [
    "history = model.fit(\n",
    "    X_train,\n",
    "    y_train,\n",
    "    validation_split=0.2,\n",
    "    epochs=100, \n",
    "    batch_size=32,\n",
    "    verbose=2,\n",
    "    callbacks = [es],\n",
    "    class_weight=class_weight\n",
    ")"
   ]
  },
  {
   "cell_type": "code",
   "execution_count": 944,
   "id": "adbb7117-a5f4-4ecc-b44a-a70d459f87a7",
   "metadata": {},
   "outputs": [
    {
     "name": "stdout",
     "output_type": "stream",
     "text": [
      "\u001b[1m11/11\u001b[0m \u001b[32m━━━━━━━━━━━━━━━━━━━━\u001b[0m\u001b[37m\u001b[0m \u001b[1m0s\u001b[0m 20ms/step\n",
      "\u001b[1m11/11\u001b[0m \u001b[32m━━━━━━━━━━━━━━━━━━━━\u001b[0m\u001b[37m\u001b[0m \u001b[1m0s\u001b[0m 8ms/step - accuracy: 0.6020 - loss: 1.8289 \n",
      "Model accuracy in test:  [1.707696557044983, 0.628742516040802]\n"
     ]
    }
   ],
   "source": [
    "y_prob = model.predict(X_test)\n",
    "y_pred = np.where(y_prob > 0.50, 1, 0)\n",
    "\n",
    "acc = model.evaluate(X_test, y_test);\n",
    "print(\"Model accuracy in test: \", acc); #outputs the loss and the accuracy"
   ]
  },
  {
   "cell_type": "markdown",
   "id": "d2555d7a-b9bb-414f-9702-bc6bae968efa",
   "metadata": {},
   "source": [
    "**Of the three series, the MLP model gets the best test accuracy for the differenced time series and the worst for the original time series. This shows that removing the trend from the time series probably helps capture relevant patterns in the movement of the time series apart from the longtime trend.**"
   ]
  },
  {
   "cell_type": "markdown",
   "id": "ad1437fc-681c-42ca-a7ec-95294a097519",
   "metadata": {},
   "source": [
    "### **Evaluation of Prediction Performance for Raw, Differenced, and Fractionally Differenced Time Series MLP Models**\n",
    "\n",
    "We have trained **three MLP models** using different transformations of the time series:\n",
    "\n",
    "1. **Raw Time Series (Non-Stationary)**\n",
    "2. **Differenced Time Series (Stationary)**\n",
    "3. **Fractionally Differenced Time Series (Stationary with Long-Term Memory)**\n",
    "\n",
    "---\n",
    "\n",
    "## **1. Model Performance Comparison**\n",
    "\n",
    "| Model | Accuracy | Loss |\n",
    "|--------|----------|---------|\n",
    "| **Raw Time Series MLP** | 0.5982 | 0.6905 |\n",
    "| **Differenced Time Series MLP** | 0.7692 | 0.632 |\n",
    "| **Fractionally Differenced Time Series MLP** | 0.6287 | 1.707 |\n",
    "\n",
    "---\n",
    "\n",
    "## **2. Why Some Models Perform Better?**\n",
    "\n",
    "### **Raw Time Series MLP (Worst Performance)**\n",
    " **Issue:** The **data is non-stationary** (trends & seasonality).  \n",
    " **Impact:** Model struggles to learn patterns properly.\n",
    "\n",
    "### **Differenced Time Series MLP (Best Performance)**\n",
    "**Fix:** First differencing removes **trends and seasonality**.  \n",
    "**Impact:** The model can **easily detect patterns** and generalizes well.\n",
    "\n",
    "### **Fractionally Differenced Time Series MLP (Moderate Performance)**\n",
    "**Mixed Outcome:** Keeps some **long-term dependencies** but **not fully stationary**.  \n",
    "**Impact:** Performs **better than raw data but worse than first differencing**.\n",
    "\n",
    "---\n",
    "\n",
    "## **3. Conclusion: Best Model for Forecasting**\n",
    "**The best model is the Differenced Time Series MLP** because:\n",
    "- **Removes trend & seasonality** → Makes patterns clearer.\n",
    "- **Improves generalization** → Higher accuracy & lower error.\n",
    "\n"
   ]
  },
  {
   "cell_type": "markdown",
   "id": "453b0628-2e31-461f-91d8-50b3d6e4baa8",
   "metadata": {},
   "source": [
    "# **📌 Step 3:Building CNN Model using GAF Representation**"
   ]
  },
  {
   "cell_type": "markdown",
   "id": "138c7fa6-cac6-4f1d-84e2-2e8f5ef2b320",
   "metadata": {},
   "source": [
    "Now the build the Convolutional Neural Network Model for the three series"
   ]
  },
  {
   "cell_type": "code",
   "execution_count": 540,
   "id": "84fa9069-3ded-4cf0-bb9c-3ce2029f675a",
   "metadata": {},
   "outputs": [
    {
     "name": "stdout",
     "output_type": "stream",
     "text": [
      "(1947, 30)\n"
     ]
    },
    {
     "data": {
      "image/png": "[encoded data removed]",
      "text/plain": [
       "<Figure size 600x600 with 1 Axes>"
      ]
     },
     "metadata": {},
     "output_type": "display_data"
    }
   ],
   "source": [
    "X_train = []\n",
    "window_size = 30\n",
    "for i in range(window_size, data.shape[0]):\n",
    "    X_train.append(data[i - window_size : i])\n",
    "X_train = np.array(X_train)\n",
    "print(X_train.shape)\n",
    "# Define a \"window_size\"-days interval\n",
    "days = np.linspace(1, X_train.shape[0], num=X_train.shape[0])\n",
    "# Plot the overlapping time series\n",
    "plt.figure(figsize=(6, 6))\n",
    "for i in range(241):\n",
    "    plt.plot(days[i : window_size + i], X_train[i, :])"
   ]
  },
  {
   "cell_type": "code",
   "execution_count": 542,
   "id": "bad20469-26d5-4789-a944-a92c6ef116a5",
   "metadata": {},
   "outputs": [
    {
     "name": "stdout",
     "output_type": "stream",
     "text": [
      "(1947, 30, 30)\n"
     ]
    }
   ],
   "source": [
    "transformer = GramianAngularField()\n",
    "X_train_new = transformer.transform(X_train)\n",
    "print(X_train_new.shape)"
   ]
  },
  {
   "cell_type": "code",
   "execution_count": 544,
   "id": "205811bf-fcef-43ff-b987-5c3a57fad0f6",
   "metadata": {},
   "outputs": [
    {
     "name": "stderr",
     "output_type": "stream",
     "text": [
      "C:\\Users\\susha\\AppData\\Local\\Temp\\ipykernel_24600\\1383070507.py:4: FutureWarning: Series.__getitem__ treating keys as positions is deprecated. In a future version, integer keys will always be treated as labels (consistent with DataFrame behavior). To access a value by position, use `ser.iloc[pos]`\n",
      "  y_data.append(data[i] < data[i + window_size])\n"
     ]
    },
    {
     "data": {
      "text/plain": [
       "(1917,)"
      ]
     },
     "execution_count": 544,
     "metadata": {},
     "output_type": "execute_result"
    }
   ],
   "source": [
    "# Generate the labels: 1 if price goes up after window_size days, 0 otherwise\n",
    "y_data = []\n",
    "for i in range(window_size, data.shape[0] - window_size):\n",
    "    y_data.append(data[i] < data[i + window_size])\n",
    "y_data = np.array(y_data)\n",
    "y_data.shape"
   ]
  },
  {
   "cell_type": "code",
   "execution_count": 546,
   "id": "faa54d81-7581-4a34-93e0-31b02043e708",
   "metadata": {},
   "outputs": [
    {
     "data": {
      "text/plain": [
       "(1917, 30, 30)"
      ]
     },
     "execution_count": 546,
     "metadata": {},
     "output_type": "execute_result"
    }
   ],
   "source": [
    "# Determine the examples to be used as inputs in the model and rescale them to the [0,255] scale\n",
    "X_data = X_train_new[:-window_size]\n",
    "for i in range(X_data.shape[0]):\n",
    "    X_data[i] = (X_data[i] - np.min(X_data[i])) / (\n",
    "        np.max(X_data[i]) - np.min(X_data[i])\n",
    "    )\n",
    "# We could simply write X_data = (X_data + 1)/2\n",
    "X_data = X_data * 255\n",
    "X_data.shape"
   ]
  },
  {
   "cell_type": "code",
   "execution_count": 548,
   "id": "c24d5e0b-9080-424c-b869-94ce7dbb35df",
   "metadata": {},
   "outputs": [],
   "source": [
    "# Split into train and test\n",
    "train_split = 0.8\n",
    "y_data_train = y_data[: int(train_split * y_data.shape[0])]\n",
    "y_data_test = y_data[int(train_split * y_data.shape[0]) :]\n",
    "X_data_train = X_data[: int(train_split * y_data.shape[0])]\n",
    "X_data_test = X_data[int(train_split * y_data.shape[0]) :]"
   ]
  },
  {
   "cell_type": "code",
   "execution_count": 550,
   "id": "cb811a9d-6436-43a9-aeb3-4e5e14f47b1b",
   "metadata": {},
   "outputs": [
    {
     "name": "stderr",
     "output_type": "stream",
     "text": [
      "C:\\Users\\susha\\anaconda3\\Lib\\site-packages\\keras\\src\\layers\\core\\input_layer.py:27: UserWarning: Argument `input_shape` is deprecated. Use `shape` instead.\n",
      "  warnings.warn(\n"
     ]
    }
   ],
   "source": [
    "model = tf.keras.Sequential()\n",
    "# Input layer\n",
    "model.add(tf.keras.layers.InputLayer(input_shape=(30, 30, 1)))\n",
    "model.add(tf.keras.layers.Conv2D(16, 3, activation=\"relu\"))\n",
    "model.add(tf.keras.layers.MaxPooling2D(2))\n",
    "model.add(tf.keras.layers.Conv2D(32, 3, activation=\"relu\"))\n",
    "model.add(tf.keras.layers.MaxPooling2D(2))\n",
    "model.add(tf.keras.layers.Conv2D(64, 3, activation=\"relu\"))\n",
    "model.add(tf.keras.layers.MaxPooling2D(2))\n",
    "model.add(tf.keras.layers.Flatten())\n",
    "model.add(tf.keras.layers.Dense(256, activation=\"relu\"))\n",
    "model.add(tf.keras.layers.Dropout(0.2, seed=1234))\n",
    "model.add(tf.keras.layers.Dense(1, activation=\"sigmoid\"))"
   ]
  },
  {
   "cell_type": "code",
   "execution_count": 552,
   "id": "3d91c41b-22bd-4968-9858-3c4e2b375d19",
   "metadata": {},
   "outputs": [
    {
     "data": {
      "text/html": [
       "<pre style=\"white-space:pre;overflow-x:auto;line-height:normal;font-family:Menlo,'DejaVu Sans Mono',consolas,'Courier New',monospace\"><span style=\"font-weight: bold\">Model: \"sequential_8\"</span>\n",
       "</pre>\n"
      ],
      "text/plain": [
       "\u001b[1mModel: \"sequential_8\"\u001b[0m\n"
      ]
     },
     "metadata": {},
     "output_type": "display_data"
    },
    {
     "data": {
      "text/html": [
       "<pre style=\"white-space:pre;overflow-x:auto;line-height:normal;font-family:Menlo,'DejaVu Sans Mono',consolas,'Courier New',monospace\">┏━━━━━━━━━━━━━━━━━━━━━━━━━━━━━━━━━━━━━━┳━━━━━━━━━━━━━━━━━━━━━━━━━━━━━┳━━━━━━━━━━━━━━━━━┓\n",
       "┃<span style=\"font-weight: bold\"> Layer (type)                         </span>┃<span style=\"font-weight: bold\"> Output Shape                </span>┃<span style=\"font-weight: bold\">         Param # </span>┃\n",
       "┡━━━━━━━━━━━━━━━━━━━━━━━━━━━━━━━━━━━━━━╇━━━━━━━━━━━━━━━━━━━━━━━━━━━━━╇━━━━━━━━━━━━━━━━━┩\n",
       "│ conv2d_11 (<span style=\"color: #0087ff; text-decoration-color: #0087ff\">Conv2D</span>)                   │ (<span style=\"color: #00d7ff; text-decoration-color: #00d7ff\">None</span>, <span style=\"color: #00af00; text-decoration-color: #00af00\">28</span>, <span style=\"color: #00af00; text-decoration-color: #00af00\">28</span>, <span style=\"color: #00af00; text-decoration-color: #00af00\">16</span>)          │             <span style=\"color: #00af00; text-decoration-color: #00af00\">160</span> │\n",
       "├──────────────────────────────────────┼─────────────────────────────┼─────────────────┤\n",
       "│ max_pooling2d_11 (<span style=\"color: #0087ff; text-decoration-color: #0087ff\">MaxPooling2D</span>)      │ (<span style=\"color: #00d7ff; text-decoration-color: #00d7ff\">None</span>, <span style=\"color: #00af00; text-decoration-color: #00af00\">14</span>, <span style=\"color: #00af00; text-decoration-color: #00af00\">14</span>, <span style=\"color: #00af00; text-decoration-color: #00af00\">16</span>)          │               <span style=\"color: #00af00; text-decoration-color: #00af00\">0</span> │\n",
       "├──────────────────────────────────────┼─────────────────────────────┼─────────────────┤\n",
       "│ conv2d_12 (<span style=\"color: #0087ff; text-decoration-color: #0087ff\">Conv2D</span>)                   │ (<span style=\"color: #00d7ff; text-decoration-color: #00d7ff\">None</span>, <span style=\"color: #00af00; text-decoration-color: #00af00\">12</span>, <span style=\"color: #00af00; text-decoration-color: #00af00\">12</span>, <span style=\"color: #00af00; text-decoration-color: #00af00\">32</span>)          │           <span style=\"color: #00af00; text-decoration-color: #00af00\">4,640</span> │\n",
       "├──────────────────────────────────────┼─────────────────────────────┼─────────────────┤\n",
       "│ max_pooling2d_12 (<span style=\"color: #0087ff; text-decoration-color: #0087ff\">MaxPooling2D</span>)      │ (<span style=\"color: #00d7ff; text-decoration-color: #00d7ff\">None</span>, <span style=\"color: #00af00; text-decoration-color: #00af00\">6</span>, <span style=\"color: #00af00; text-decoration-color: #00af00\">6</span>, <span style=\"color: #00af00; text-decoration-color: #00af00\">32</span>)            │               <span style=\"color: #00af00; text-decoration-color: #00af00\">0</span> │\n",
       "├──────────────────────────────────────┼─────────────────────────────┼─────────────────┤\n",
       "│ conv2d_13 (<span style=\"color: #0087ff; text-decoration-color: #0087ff\">Conv2D</span>)                   │ (<span style=\"color: #00d7ff; text-decoration-color: #00d7ff\">None</span>, <span style=\"color: #00af00; text-decoration-color: #00af00\">4</span>, <span style=\"color: #00af00; text-decoration-color: #00af00\">4</span>, <span style=\"color: #00af00; text-decoration-color: #00af00\">64</span>)            │          <span style=\"color: #00af00; text-decoration-color: #00af00\">18,496</span> │\n",
       "├──────────────────────────────────────┼─────────────────────────────┼─────────────────┤\n",
       "│ max_pooling2d_13 (<span style=\"color: #0087ff; text-decoration-color: #0087ff\">MaxPooling2D</span>)      │ (<span style=\"color: #00d7ff; text-decoration-color: #00d7ff\">None</span>, <span style=\"color: #00af00; text-decoration-color: #00af00\">2</span>, <span style=\"color: #00af00; text-decoration-color: #00af00\">2</span>, <span style=\"color: #00af00; text-decoration-color: #00af00\">64</span>)            │               <span style=\"color: #00af00; text-decoration-color: #00af00\">0</span> │\n",
       "├──────────────────────────────────────┼─────────────────────────────┼─────────────────┤\n",
       "│ flatten_5 (<span style=\"color: #0087ff; text-decoration-color: #0087ff\">Flatten</span>)                  │ (<span style=\"color: #00d7ff; text-decoration-color: #00d7ff\">None</span>, <span style=\"color: #00af00; text-decoration-color: #00af00\">256</span>)                 │               <span style=\"color: #00af00; text-decoration-color: #00af00\">0</span> │\n",
       "├──────────────────────────────────────┼─────────────────────────────┼─────────────────┤\n",
       "│ dense_23 (<span style=\"color: #0087ff; text-decoration-color: #0087ff\">Dense</span>)                     │ (<span style=\"color: #00d7ff; text-decoration-color: #00d7ff\">None</span>, <span style=\"color: #00af00; text-decoration-color: #00af00\">256</span>)                 │          <span style=\"color: #00af00; text-decoration-color: #00af00\">65,792</span> │\n",
       "├──────────────────────────────────────┼─────────────────────────────┼─────────────────┤\n",
       "│ dropout_3 (<span style=\"color: #0087ff; text-decoration-color: #0087ff\">Dropout</span>)                  │ (<span style=\"color: #00d7ff; text-decoration-color: #00d7ff\">None</span>, <span style=\"color: #00af00; text-decoration-color: #00af00\">256</span>)                 │               <span style=\"color: #00af00; text-decoration-color: #00af00\">0</span> │\n",
       "├──────────────────────────────────────┼─────────────────────────────┼─────────────────┤\n",
       "│ dense_24 (<span style=\"color: #0087ff; text-decoration-color: #0087ff\">Dense</span>)                     │ (<span style=\"color: #00d7ff; text-decoration-color: #00d7ff\">None</span>, <span style=\"color: #00af00; text-decoration-color: #00af00\">1</span>)                   │             <span style=\"color: #00af00; text-decoration-color: #00af00\">257</span> │\n",
       "└──────────────────────────────────────┴─────────────────────────────┴─────────────────┘\n",
       "</pre>\n"
      ],
      "text/plain": [
       "┏━━━━━━━━━━━━━━━━━━━━━━━━━━━━━━━━━━━━━━┳━━━━━━━━━━━━━━━━━━━━━━━━━━━━━┳━━━━━━━━━━━━━━━━━┓\n",
       "┃\u001b[1m \u001b[0m\u001b[1mLayer (type)                        \u001b[0m\u001b[1m \u001b[0m┃\u001b[1m \u001b[0m\u001b[1mOutput Shape               \u001b[0m\u001b[1m \u001b[0m┃\u001b[1m \u001b[0m\u001b[1m        Param #\u001b[0m\u001b[1m \u001b[0m┃\n",
       "┡━━━━━━━━━━━━━━━━━━━━━━━━━━━━━━━━━━━━━━╇━━━━━━━━━━━━━━━━━━━━━━━━━━━━━╇━━━━━━━━━━━━━━━━━┩\n",
       "│ conv2d_11 (\u001b[38;5;33mConv2D\u001b[0m)                   │ (\u001b[38;5;45mNone\u001b[0m, \u001b[38;5;34m28\u001b[0m, \u001b[38;5;34m28\u001b[0m, \u001b[38;5;34m16\u001b[0m)          │             \u001b[38;5;34m160\u001b[0m │\n",
       "├──────────────────────────────────────┼─────────────────────────────┼─────────────────┤\n",
       "│ max_pooling2d_11 (\u001b[38;5;33mMaxPooling2D\u001b[0m)      │ (\u001b[38;5;45mNone\u001b[0m, \u001b[38;5;34m14\u001b[0m, \u001b[38;5;34m14\u001b[0m, \u001b[38;5;34m16\u001b[0m)          │               \u001b[38;5;34m0\u001b[0m │\n",
       "├──────────────────────────────────────┼─────────────────────────────┼─────────────────┤\n",
       "│ conv2d_12 (\u001b[38;5;33mConv2D\u001b[0m)                   │ (\u001b[38;5;45mNone\u001b[0m, \u001b[38;5;34m12\u001b[0m, \u001b[38;5;34m12\u001b[0m, \u001b[38;5;34m32\u001b[0m)          │           \u001b[38;5;34m4,640\u001b[0m │\n",
       "├──────────────────────────────────────┼─────────────────────────────┼─────────────────┤\n",
       "│ max_pooling2d_12 (\u001b[38;5;33mMaxPooling2D\u001b[0m)      │ (\u001b[38;5;45mNone\u001b[0m, \u001b[38;5;34m6\u001b[0m, \u001b[38;5;34m6\u001b[0m, \u001b[38;5;34m32\u001b[0m)            │               \u001b[38;5;34m0\u001b[0m │\n",
       "├──────────────────────────────────────┼─────────────────────────────┼─────────────────┤\n",
       "│ conv2d_13 (\u001b[38;5;33mConv2D\u001b[0m)                   │ (\u001b[38;5;45mNone\u001b[0m, \u001b[38;5;34m4\u001b[0m, \u001b[38;5;34m4\u001b[0m, \u001b[38;5;34m64\u001b[0m)            │          \u001b[38;5;34m18,496\u001b[0m │\n",
       "├──────────────────────────────────────┼─────────────────────────────┼─────────────────┤\n",
       "│ max_pooling2d_13 (\u001b[38;5;33mMaxPooling2D\u001b[0m)      │ (\u001b[38;5;45mNone\u001b[0m, \u001b[38;5;34m2\u001b[0m, \u001b[38;5;34m2\u001b[0m, \u001b[38;5;34m64\u001b[0m)            │               \u001b[38;5;34m0\u001b[0m │\n",
       "├──────────────────────────────────────┼─────────────────────────────┼─────────────────┤\n",
       "│ flatten_5 (\u001b[38;5;33mFlatten\u001b[0m)                  │ (\u001b[38;5;45mNone\u001b[0m, \u001b[38;5;34m256\u001b[0m)                 │               \u001b[38;5;34m0\u001b[0m │\n",
       "├──────────────────────────────────────┼─────────────────────────────┼─────────────────┤\n",
       "│ dense_23 (\u001b[38;5;33mDense\u001b[0m)                     │ (\u001b[38;5;45mNone\u001b[0m, \u001b[38;5;34m256\u001b[0m)                 │          \u001b[38;5;34m65,792\u001b[0m │\n",
       "├──────────────────────────────────────┼─────────────────────────────┼─────────────────┤\n",
       "│ dropout_3 (\u001b[38;5;33mDropout\u001b[0m)                  │ (\u001b[38;5;45mNone\u001b[0m, \u001b[38;5;34m256\u001b[0m)                 │               \u001b[38;5;34m0\u001b[0m │\n",
       "├──────────────────────────────────────┼─────────────────────────────┼─────────────────┤\n",
       "│ dense_24 (\u001b[38;5;33mDense\u001b[0m)                     │ (\u001b[38;5;45mNone\u001b[0m, \u001b[38;5;34m1\u001b[0m)                   │             \u001b[38;5;34m257\u001b[0m │\n",
       "└──────────────────────────────────────┴─────────────────────────────┴─────────────────┘\n"
      ]
     },
     "metadata": {},
     "output_type": "display_data"
    },
    {
     "data": {
      "text/html": [
       "<pre style=\"white-space:pre;overflow-x:auto;line-height:normal;font-family:Menlo,'DejaVu Sans Mono',consolas,'Courier New',monospace\"><span style=\"font-weight: bold\"> Total params: </span><span style=\"color: #00af00; text-decoration-color: #00af00\">89,345</span> (349.00 KB)\n",
       "</pre>\n"
      ],
      "text/plain": [
       "\u001b[1m Total params: \u001b[0m\u001b[38;5;34m89,345\u001b[0m (349.00 KB)\n"
      ]
     },
     "metadata": {},
     "output_type": "display_data"
    },
    {
     "data": {
      "text/html": [
       "<pre style=\"white-space:pre;overflow-x:auto;line-height:normal;font-family:Menlo,'DejaVu Sans Mono',consolas,'Courier New',monospace\"><span style=\"font-weight: bold\"> Trainable params: </span><span style=\"color: #00af00; text-decoration-color: #00af00\">89,345</span> (349.00 KB)\n",
       "</pre>\n"
      ],
      "text/plain": [
       "\u001b[1m Trainable params: \u001b[0m\u001b[38;5;34m89,345\u001b[0m (349.00 KB)\n"
      ]
     },
     "metadata": {},
     "output_type": "display_data"
    },
    {
     "data": {
      "text/html": [
       "<pre style=\"white-space:pre;overflow-x:auto;line-height:normal;font-family:Menlo,'DejaVu Sans Mono',consolas,'Courier New',monospace\"><span style=\"font-weight: bold\"> Non-trainable params: </span><span style=\"color: #00af00; text-decoration-color: #00af00\">0</span> (0.00 B)\n",
       "</pre>\n"
      ],
      "text/plain": [
       "\u001b[1m Non-trainable params: \u001b[0m\u001b[38;5;34m0\u001b[0m (0.00 B)\n"
      ]
     },
     "metadata": {},
     "output_type": "display_data"
    }
   ],
   "source": [
    "model.summary()"
   ]
  },
  {
   "cell_type": "code",
   "execution_count": 554,
   "id": "1e42b060-f6ce-45c9-a58b-25b44637cf61",
   "metadata": {},
   "outputs": [
    {
     "name": "stdout",
     "output_type": "stream",
     "text": [
      "{0: 2.5851602023608766, 1: 1.0}\n"
     ]
    }
   ],
   "source": [
    "model.compile(loss=\"binary_crossentropy\", optimizer=\"RMSprop\", metrics=[\"accuracy\"])\n",
    "checkpoint = tf.keras.callbacks.ModelCheckpoint(\n",
    "    \"model.h5\", monitor=\"val_accuracy\", save_best_only=True, mode=\"auto\"\n",
    ")\n",
    "class_weight = {0: 1 / (1 - np.mean(y_data_train)), 1: 1.0}\n",
    "print(class_weight)"
   ]
  },
  {
   "cell_type": "code",
   "execution_count": 556,
   "id": "f408d97f-9528-477e-9c47-6b2d835169f7",
   "metadata": {},
   "outputs": [
    {
     "name": "stdout",
     "output_type": "stream",
     "text": [
      "Epoch 1/50\n",
      "\u001b[1m45/48\u001b[0m \u001b[32m━━━━━━━━━━━━━━━━━━\u001b[0m\u001b[37m━━\u001b[0m \u001b[1m0s\u001b[0m 9ms/step - accuracy: 0.4897 - loss: 5.9384"
     ]
    },
    {
     "name": "stderr",
     "output_type": "stream",
     "text": [
      "WARNING:absl:You are saving your model as an HDF5 file via `model.save()` or `keras.saving.save_model(model)`. This file format is considered legacy. We recommend using instead the native Keras format, e.g. `model.save('my_model.keras')` or `keras.saving.save_model(model, 'my_model.keras')`. \n"
     ]
    },
    {
     "name": "stdout",
     "output_type": "stream",
     "text": [
      "\u001b[1m48/48\u001b[0m \u001b[32m━━━━━━━━━━━━━━━━━━━━\u001b[0m\u001b[37m\u001b[0m \u001b[1m3s\u001b[0m 20ms/step - accuracy: 0.4876 - loss: 5.6889 - val_accuracy: 0.6302 - val_loss: 0.6869\n",
      "Epoch 2/50\n",
      "\u001b[1m48/48\u001b[0m \u001b[32m━━━━━━━━━━━━━━━━━━━━\u001b[0m\u001b[37m\u001b[0m \u001b[1m1s\u001b[0m 11ms/step - accuracy: 0.4552 - loss: 1.1416 - val_accuracy: 0.6276 - val_loss: 0.6766\n",
      "Epoch 3/50\n",
      "\u001b[1m48/48\u001b[0m \u001b[32m━━━━━━━━━━━━━━━━━━━━\u001b[0m\u001b[37m\u001b[0m \u001b[1m1s\u001b[0m 12ms/step - accuracy: 0.4844 - loss: 1.0681 - val_accuracy: 0.6172 - val_loss: 0.7624\n",
      "Epoch 4/50\n",
      "\u001b[1m46/48\u001b[0m \u001b[32m━━━━━━━━━━━━━━━━━━━\u001b[0m\u001b[37m━\u001b[0m \u001b[1m0s\u001b[0m 9ms/step - accuracy: 0.4955 - loss: 1.0636"
     ]
    },
    {
     "name": "stderr",
     "output_type": "stream",
     "text": [
      "WARNING:absl:You are saving your model as an HDF5 file via `model.save()` or `keras.saving.save_model(model)`. This file format is considered legacy. We recommend using instead the native Keras format, e.g. `model.save('my_model.keras')` or `keras.saving.save_model(model, 'my_model.keras')`. \n"
     ]
    },
    {
     "name": "stdout",
     "output_type": "stream",
     "text": [
      "\u001b[1m48/48\u001b[0m \u001b[32m━━━━━━━━━━━━━━━━━━━━\u001b[0m\u001b[37m\u001b[0m \u001b[1m1s\u001b[0m 13ms/step - accuracy: 0.4985 - loss: 1.0616 - val_accuracy: 0.6406 - val_loss: 0.7461\n",
      "Epoch 5/50\n",
      "\u001b[1m45/48\u001b[0m \u001b[32m━━━━━━━━━━━━━━━━━━\u001b[0m\u001b[37m━━\u001b[0m \u001b[1m0s\u001b[0m 9ms/step - accuracy: 0.6005 - loss: 0.9972"
     ]
    },
    {
     "name": "stderr",
     "output_type": "stream",
     "text": [
      "WARNING:absl:You are saving your model as an HDF5 file via `model.save()` or `keras.saving.save_model(model)`. This file format is considered legacy. We recommend using instead the native Keras format, e.g. `model.save('my_model.keras')` or `keras.saving.save_model(model, 'my_model.keras')`. \n"
     ]
    },
    {
     "name": "stdout",
     "output_type": "stream",
     "text": [
      "\u001b[1m48/48\u001b[0m \u001b[32m━━━━━━━━━━━━━━━━━━━━\u001b[0m\u001b[37m\u001b[0m \u001b[1m1s\u001b[0m 13ms/step - accuracy: 0.6011 - loss: 0.9954 - val_accuracy: 0.6562 - val_loss: 0.6869\n",
      "Epoch 6/50\n",
      "\u001b[1m48/48\u001b[0m \u001b[32m━━━━━━━━━━━━━━━━━━━━\u001b[0m\u001b[37m\u001b[0m \u001b[1m1s\u001b[0m 11ms/step - accuracy: 0.6583 - loss: 0.8841 - val_accuracy: 0.6458 - val_loss: 0.8746\n",
      "Epoch 7/50\n",
      "\u001b[1m48/48\u001b[0m \u001b[32m━━━━━━━━━━━━━━━━━━━━\u001b[0m\u001b[37m\u001b[0m \u001b[1m1s\u001b[0m 12ms/step - accuracy: 0.6917 - loss: 0.8210 - val_accuracy: 0.5833 - val_loss: 0.8487\n",
      "Epoch 8/50\n",
      "\u001b[1m48/48\u001b[0m \u001b[32m━━━━━━━━━━━━━━━━━━━━\u001b[0m\u001b[37m\u001b[0m \u001b[1m1s\u001b[0m 12ms/step - accuracy: 0.7249 - loss: 0.7562 - val_accuracy: 0.6302 - val_loss: 0.8396\n",
      "Epoch 9/50\n",
      "\u001b[1m48/48\u001b[0m \u001b[32m━━━━━━━━━━━━━━━━━━━━\u001b[0m\u001b[37m\u001b[0m \u001b[1m1s\u001b[0m 12ms/step - accuracy: 0.7827 - loss: 0.6242 - val_accuracy: 0.5729 - val_loss: 1.0879\n",
      "Epoch 10/50\n",
      "\u001b[1m46/48\u001b[0m \u001b[32m━━━━━━━━━━━━━━━━━━━\u001b[0m\u001b[37m━\u001b[0m \u001b[1m0s\u001b[0m 9ms/step - accuracy: 0.8245 - loss: 0.5128"
     ]
    },
    {
     "name": "stderr",
     "output_type": "stream",
     "text": [
      "WARNING:absl:You are saving your model as an HDF5 file via `model.save()` or `keras.saving.save_model(model)`. This file format is considered legacy. We recommend using instead the native Keras format, e.g. `model.save('my_model.keras')` or `keras.saving.save_model(model, 'my_model.keras')`. \n"
     ]
    },
    {
     "name": "stdout",
     "output_type": "stream",
     "text": [
      "\u001b[1m48/48\u001b[0m \u001b[32m━━━━━━━━━━━━━━━━━━━━\u001b[0m\u001b[37m\u001b[0m \u001b[1m1s\u001b[0m 13ms/step - accuracy: 0.8257 - loss: 0.5116 - val_accuracy: 0.6693 - val_loss: 1.0593\n",
      "Epoch 11/50\n",
      "\u001b[1m48/48\u001b[0m \u001b[32m━━━━━━━━━━━━━━━━━━━━\u001b[0m\u001b[37m\u001b[0m \u001b[1m1s\u001b[0m 11ms/step - accuracy: 0.8722 - loss: 0.4223 - val_accuracy: 0.5443 - val_loss: 1.2666\n",
      "Epoch 12/50\n",
      "\u001b[1m48/48\u001b[0m \u001b[32m━━━━━━━━━━━━━━━━━━━━\u001b[0m\u001b[37m\u001b[0m \u001b[1m1s\u001b[0m 11ms/step - accuracy: 0.9129 - loss: 0.3209 - val_accuracy: 0.5729 - val_loss: 1.2837\n",
      "Epoch 13/50\n",
      "\u001b[1m48/48\u001b[0m \u001b[32m━━━━━━━━━━━━━━━━━━━━\u001b[0m\u001b[37m\u001b[0m \u001b[1m1s\u001b[0m 12ms/step - accuracy: 0.8936 - loss: 0.3552 - val_accuracy: 0.5573 - val_loss: 1.2692\n",
      "Epoch 14/50\n",
      "\u001b[1m48/48\u001b[0m \u001b[32m━━━━━━━━━━━━━━━━━━━━\u001b[0m\u001b[37m\u001b[0m \u001b[1m1s\u001b[0m 12ms/step - accuracy: 0.9078 - loss: 0.3021 - val_accuracy: 0.5807 - val_loss: 1.3885\n",
      "Epoch 15/50\n",
      "\u001b[1m48/48\u001b[0m \u001b[32m━━━━━━━━━━━━━━━━━━━━\u001b[0m\u001b[37m\u001b[0m \u001b[1m1s\u001b[0m 12ms/step - accuracy: 0.9375 - loss: 0.2327 - val_accuracy: 0.6380 - val_loss: 1.3952\n",
      "Epoch 16/50\n",
      "\u001b[1m48/48\u001b[0m \u001b[32m━━━━━━━━━━━━━━━━━━━━\u001b[0m\u001b[37m\u001b[0m \u001b[1m1s\u001b[0m 12ms/step - accuracy: 0.9472 - loss: 0.1862 - val_accuracy: 0.5677 - val_loss: 1.6856\n",
      "Epoch 17/50\n",
      "\u001b[1m48/48\u001b[0m \u001b[32m━━━━━━━━━━━━━━━━━━━━\u001b[0m\u001b[37m\u001b[0m \u001b[1m1s\u001b[0m 12ms/step - accuracy: 0.9186 - loss: 0.3119 - val_accuracy: 0.6276 - val_loss: 1.5383\n",
      "Epoch 18/50\n",
      "\u001b[1m48/48\u001b[0m \u001b[32m━━━━━━━━━━━━━━━━━━━━\u001b[0m\u001b[37m\u001b[0m \u001b[1m1s\u001b[0m 12ms/step - accuracy: 0.9524 - loss: 0.1667 - val_accuracy: 0.6016 - val_loss: 1.5730\n",
      "Epoch 19/50\n",
      "\u001b[1m48/48\u001b[0m \u001b[32m━━━━━━━━━━━━━━━━━━━━\u001b[0m\u001b[37m\u001b[0m \u001b[1m1s\u001b[0m 12ms/step - accuracy: 0.9559 - loss: 0.1686 - val_accuracy: 0.5729 - val_loss: 1.7405\n",
      "Epoch 20/50\n",
      "\u001b[1m48/48\u001b[0m \u001b[32m━━━━━━━━━━━━━━━━━━━━\u001b[0m\u001b[37m\u001b[0m \u001b[1m1s\u001b[0m 12ms/step - accuracy: 0.9769 - loss: 0.1064 - val_accuracy: 0.6250 - val_loss: 1.4730\n",
      "Epoch 21/50\n",
      "\u001b[1m48/48\u001b[0m \u001b[32m━━━━━━━━━━━━━━━━━━━━\u001b[0m\u001b[37m\u001b[0m \u001b[1m1s\u001b[0m 12ms/step - accuracy: 0.9696 - loss: 0.1209 - val_accuracy: 0.5208 - val_loss: 2.7329\n",
      "Epoch 22/50\n",
      "\u001b[1m48/48\u001b[0m \u001b[32m━━━━━━━━━━━━━━━━━━━━\u001b[0m\u001b[37m\u001b[0m \u001b[1m1s\u001b[0m 12ms/step - accuracy: 0.9530 - loss: 0.2553 - val_accuracy: 0.6146 - val_loss: 1.9042\n",
      "Epoch 23/50\n",
      "\u001b[1m48/48\u001b[0m \u001b[32m━━━━━━━━━━━━━━━━━━━━\u001b[0m\u001b[37m\u001b[0m \u001b[1m1s\u001b[0m 12ms/step - accuracy: 0.9742 - loss: 0.1170 - val_accuracy: 0.6562 - val_loss: 3.0118\n",
      "Epoch 24/50\n",
      "\u001b[1m48/48\u001b[0m \u001b[32m━━━━━━━━━━━━━━━━━━━━\u001b[0m\u001b[37m\u001b[0m \u001b[1m1s\u001b[0m 12ms/step - accuracy: 0.9362 - loss: 0.2878 - val_accuracy: 0.5911 - val_loss: 1.9298\n",
      "Epoch 25/50\n",
      "\u001b[1m48/48\u001b[0m \u001b[32m━━━━━━━━━━━━━━━━━━━━\u001b[0m\u001b[37m\u001b[0m \u001b[1m1s\u001b[0m 12ms/step - accuracy: 0.9647 - loss: 0.1383 - val_accuracy: 0.5469 - val_loss: 2.3108\n",
      "Epoch 26/50\n",
      "\u001b[1m48/48\u001b[0m \u001b[32m━━━━━━━━━━━━━━━━━━━━\u001b[0m\u001b[37m\u001b[0m \u001b[1m1s\u001b[0m 12ms/step - accuracy: 0.9844 - loss: 0.0706 - val_accuracy: 0.6172 - val_loss: 2.0291\n",
      "Epoch 27/50\n",
      "\u001b[1m48/48\u001b[0m \u001b[32m━━━━━━━━━━━━━━━━━━━━\u001b[0m\u001b[37m\u001b[0m \u001b[1m1s\u001b[0m 12ms/step - accuracy: 0.9595 - loss: 0.1550 - val_accuracy: 0.5495 - val_loss: 2.2265\n",
      "Epoch 28/50\n",
      "\u001b[1m48/48\u001b[0m \u001b[32m━━━━━━━━━━━━━━━━━━━━\u001b[0m\u001b[37m\u001b[0m \u001b[1m1s\u001b[0m 12ms/step - accuracy: 0.9750 - loss: 0.1233 - val_accuracy: 0.6120 - val_loss: 2.0319\n",
      "Epoch 29/50\n",
      "\u001b[1m48/48\u001b[0m \u001b[32m━━━━━━━━━━━━━━━━━━━━\u001b[0m\u001b[37m\u001b[0m \u001b[1m1s\u001b[0m 12ms/step - accuracy: 0.9746 - loss: 0.1047 - val_accuracy: 0.5729 - val_loss: 2.2227\n",
      "Epoch 30/50\n",
      "\u001b[1m48/48\u001b[0m \u001b[32m━━━━━━━━━━━━━━━━━━━━\u001b[0m\u001b[37m\u001b[0m \u001b[1m1s\u001b[0m 12ms/step - accuracy: 0.9747 - loss: 0.1071 - val_accuracy: 0.5859 - val_loss: 2.5340\n",
      "Epoch 31/50\n",
      "\u001b[1m48/48\u001b[0m \u001b[32m━━━━━━━━━━━━━━━━━━━━\u001b[0m\u001b[37m\u001b[0m \u001b[1m1s\u001b[0m 11ms/step - accuracy: 0.9719 - loss: 0.1363 - val_accuracy: 0.5807 - val_loss: 2.5968\n",
      "Epoch 32/50\n",
      "\u001b[1m48/48\u001b[0m \u001b[32m━━━━━━━━━━━━━━━━━━━━\u001b[0m\u001b[37m\u001b[0m \u001b[1m1s\u001b[0m 11ms/step - accuracy: 0.9811 - loss: 0.0805 - val_accuracy: 0.5859 - val_loss: 2.3944\n",
      "Epoch 33/50\n",
      "\u001b[1m48/48\u001b[0m \u001b[32m━━━━━━━━━━━━━━━━━━━━\u001b[0m\u001b[37m\u001b[0m \u001b[1m1s\u001b[0m 12ms/step - accuracy: 0.9841 - loss: 0.0613 - val_accuracy: 0.6484 - val_loss: 2.5587\n",
      "Epoch 34/50\n",
      "\u001b[1m48/48\u001b[0m \u001b[32m━━━━━━━━━━━━━━━━━━━━\u001b[0m\u001b[37m\u001b[0m \u001b[1m1s\u001b[0m 12ms/step - accuracy: 0.9761 - loss: 0.1003 - val_accuracy: 0.6068 - val_loss: 2.3842\n",
      "Epoch 35/50\n",
      "\u001b[1m48/48\u001b[0m \u001b[32m━━━━━━━━━━━━━━━━━━━━\u001b[0m\u001b[37m\u001b[0m \u001b[1m1s\u001b[0m 12ms/step - accuracy: 0.9712 - loss: 0.1057 - val_accuracy: 0.5625 - val_loss: 2.7245\n",
      "Epoch 36/50\n",
      "\u001b[1m48/48\u001b[0m \u001b[32m━━━━━━━━━━━━━━━━━━━━\u001b[0m\u001b[37m\u001b[0m \u001b[1m1s\u001b[0m 11ms/step - accuracy: 0.9702 - loss: 0.1587 - val_accuracy: 0.5911 - val_loss: 2.5016\n",
      "Epoch 37/50\n",
      "\u001b[1m48/48\u001b[0m \u001b[32m━━━━━━━━━━━━━━━━━━━━\u001b[0m\u001b[37m\u001b[0m \u001b[1m1s\u001b[0m 12ms/step - accuracy: 0.9855 - loss: 0.0377 - val_accuracy: 0.6172 - val_loss: 2.4189\n",
      "Epoch 38/50\n",
      "\u001b[1m48/48\u001b[0m \u001b[32m━━━━━━━━━━━━━━━━━━━━\u001b[0m\u001b[37m\u001b[0m \u001b[1m1s\u001b[0m 12ms/step - accuracy: 0.9810 - loss: 0.1227 - val_accuracy: 0.5938 - val_loss: 2.7747\n",
      "Epoch 39/50\n",
      "\u001b[1m48/48\u001b[0m \u001b[32m━━━━━━━━━━━━━━━━━━━━\u001b[0m\u001b[37m\u001b[0m \u001b[1m1s\u001b[0m 12ms/step - accuracy: 0.9981 - loss: 0.0151 - val_accuracy: 0.5495 - val_loss: 2.8328\n",
      "Epoch 40/50\n",
      "\u001b[1m48/48\u001b[0m \u001b[32m━━━━━━━━━━━━━━━━━━━━\u001b[0m\u001b[37m\u001b[0m \u001b[1m1s\u001b[0m 12ms/step - accuracy: 0.9717 - loss: 0.1383 - val_accuracy: 0.5573 - val_loss: 3.4939\n",
      "Epoch 41/50\n",
      "\u001b[1m48/48\u001b[0m \u001b[32m━━━━━━━━━━━━━━━━━━━━\u001b[0m\u001b[37m\u001b[0m \u001b[1m1s\u001b[0m 12ms/step - accuracy: 0.9859 - loss: 0.0696 - val_accuracy: 0.6120 - val_loss: 3.0277\n",
      "Epoch 42/50\n",
      "\u001b[1m48/48\u001b[0m \u001b[32m━━━━━━━━━━━━━━━━━━━━\u001b[0m\u001b[37m\u001b[0m \u001b[1m1s\u001b[0m 12ms/step - accuracy: 0.9804 - loss: 0.0955 - val_accuracy: 0.5573 - val_loss: 3.5898\n",
      "Epoch 43/50\n",
      "\u001b[1m48/48\u001b[0m \u001b[32m━━━━━━━━━━━━━━━━━━━━\u001b[0m\u001b[37m\u001b[0m \u001b[1m1s\u001b[0m 12ms/step - accuracy: 0.9876 - loss: 0.0741 - val_accuracy: 0.6042 - val_loss: 3.0100\n",
      "Epoch 44/50\n",
      "\u001b[1m48/48\u001b[0m \u001b[32m━━━━━━━━━━━━━━━━━━━━\u001b[0m\u001b[37m\u001b[0m \u001b[1m1s\u001b[0m 12ms/step - accuracy: 0.9869 - loss: 0.0576 - val_accuracy: 0.5625 - val_loss: 3.6406\n",
      "Epoch 45/50\n",
      "\u001b[1m48/48\u001b[0m \u001b[32m━━━━━━━━━━━━━━━━━━━━\u001b[0m\u001b[37m\u001b[0m \u001b[1m1s\u001b[0m 11ms/step - accuracy: 0.9829 - loss: 0.0604 - val_accuracy: 0.6016 - val_loss: 3.1447\n",
      "Epoch 46/50\n",
      "\u001b[1m48/48\u001b[0m \u001b[32m━━━━━━━━━━━━━━━━━━━━\u001b[0m\u001b[37m\u001b[0m \u001b[1m1s\u001b[0m 12ms/step - accuracy: 0.9952 - loss: 0.0294 - val_accuracy: 0.5651 - val_loss: 3.1236\n",
      "Epoch 47/50\n",
      "\u001b[1m48/48\u001b[0m \u001b[32m━━━━━━━━━━━━━━━━━━━━\u001b[0m\u001b[37m\u001b[0m \u001b[1m1s\u001b[0m 12ms/step - accuracy: 0.9929 - loss: 0.0414 - val_accuracy: 0.5833 - val_loss: 3.8881\n",
      "Epoch 48/50\n",
      "\u001b[1m48/48\u001b[0m \u001b[32m━━━━━━━━━━━━━━━━━━━━\u001b[0m\u001b[37m\u001b[0m \u001b[1m1s\u001b[0m 11ms/step - accuracy: 0.9840 - loss: 0.0602 - val_accuracy: 0.6276 - val_loss: 2.8977\n",
      "Epoch 49/50\n",
      "\u001b[1m48/48\u001b[0m \u001b[32m━━━━━━━━━━━━━━━━━━━━\u001b[0m\u001b[37m\u001b[0m \u001b[1m1s\u001b[0m 12ms/step - accuracy: 0.9899 - loss: 0.0418 - val_accuracy: 0.5833 - val_loss: 3.3746\n",
      "Epoch 50/50\n",
      "\u001b[1m48/48\u001b[0m \u001b[32m━━━━━━━━━━━━━━━━━━━━\u001b[0m\u001b[37m\u001b[0m \u001b[1m1s\u001b[0m 12ms/step - accuracy: 0.9824 - loss: 0.0604 - val_accuracy: 0.5781 - val_loss: 3.4047\n"
     ]
    },
    {
     "data": {
      "text/plain": [
       "<keras.src.callbacks.history.History at 0x2d055068830>"
      ]
     },
     "execution_count": 556,
     "metadata": {},
     "output_type": "execute_result"
    }
   ],
   "source": [
    "model.fit(\n",
    "    x=X_data_train,\n",
    "    y=y_data_train,\n",
    "    epochs=50,\n",
    "    validation_data=(X_data_test, y_data_test),\n",
    "    verbose=1,\n",
    "    callbacks=[checkpoint],\n",
    "    class_weight=class_weight,\n",
    ")"
   ]
  },
  {
   "cell_type": "code",
   "execution_count": 557,
   "id": "e104d203-6763-446a-bf45-d5cc72e1d1ed",
   "metadata": {},
   "outputs": [
    {
     "name": "stderr",
     "output_type": "stream",
     "text": [
      "WARNING:absl:Compiled the loaded model, but the compiled metrics have yet to be built. `model.compile_metrics` will be empty until you train or evaluate the model.\n"
     ]
    },
    {
     "name": "stdout",
     "output_type": "stream",
     "text": [
      "\u001b[1m12/12\u001b[0m \u001b[32m━━━━━━━━━━━━━━━━━━━━\u001b[0m\u001b[37m\u001b[0m \u001b[1m1s\u001b[0m 8ms/step - accuracy: 0.6341 - loss: 1.1021\n",
      "Accuracy over validation: 66.93%\n"
     ]
    }
   ],
   "source": [
    "model = tf.keras.models.load_model(\"model.h5\")\n",
    "acc = model.evaluate(x=X_data_test, y=y_data_test)\n",
    "print(\"Accuracy over validation: {:.2f}%\".format(acc[1] * 100))"
   ]
  },
  {
   "cell_type": "markdown",
   "id": "78e38ee0-cc2a-481d-9bbd-f9ab5e92a86d",
   "metadata": {},
   "source": [
    "Now, attempting the same for the differenced time series"
   ]
  },
  {
   "cell_type": "code",
   "execution_count": 558,
   "id": "579f7521-092b-4c5b-9d10-e0517f8cea9d",
   "metadata": {},
   "outputs": [
    {
     "name": "stdout",
     "output_type": "stream",
     "text": [
      "(1946, 30)\n"
     ]
    },
    {
     "data": {
      "image/png": "[encoded data removed]",
      "text/plain": [
       "<Figure size 600x600 with 1 Axes>"
      ]
     },
     "metadata": {},
     "output_type": "display_data"
    }
   ],
   "source": [
    "X_train = []\n",
    "window_size = 30\n",
    "for i in range(window_size, differenced_data.shape[0]):\n",
    "    X_train.append(differenced_data[i - window_size : i])\n",
    "X_train = np.array(X_train)\n",
    "print(X_train.shape)\n",
    "# Define a \"window_size\"-days interval\n",
    "days = np.linspace(1, X_train.shape[0], num=X_train.shape[0])\n",
    "# Plot the overlapping time series\n",
    "plt.figure(figsize=(6, 6))\n",
    "for i in range(241):\n",
    "    plt.plot(days[i : window_size + i], X_train[i, :])"
   ]
  },
  {
   "cell_type": "code",
   "execution_count": 559,
   "id": "5f2c0a7e-1f76-4fbb-927e-4a283646e198",
   "metadata": {},
   "outputs": [
    {
     "name": "stdout",
     "output_type": "stream",
     "text": [
      "(1946, 30, 30)\n"
     ]
    }
   ],
   "source": [
    "transformer = GramianAngularField()\n",
    "X_train_new = transformer.transform(X_train)\n",
    "print(X_train_new.shape)"
   ]
  },
  {
   "cell_type": "code",
   "execution_count": 560,
   "id": "5e7eb850-26fa-4838-924f-d0d6412afd2d",
   "metadata": {},
   "outputs": [
    {
     "name": "stderr",
     "output_type": "stream",
     "text": [
      "C:\\Users\\susha\\AppData\\Local\\Temp\\ipykernel_24600\\1183533469.py:4: FutureWarning: Series.__getitem__ treating keys as positions is deprecated. In a future version, integer keys will always be treated as labels (consistent with DataFrame behavior). To access a value by position, use `ser.iloc[pos]`\n",
      "  y_data.append(differenced_data[i] < differenced_data[i + window_size])\n"
     ]
    },
    {
     "data": {
      "text/plain": [
       "(1916,)"
      ]
     },
     "execution_count": 560,
     "metadata": {},
     "output_type": "execute_result"
    }
   ],
   "source": [
    "# Generate the labels: 1 if price goes up after window_size days, 0 otherwise\n",
    "y_data = []\n",
    "for i in range(window_size, differenced_data.shape[0] - window_size):\n",
    "    y_data.append(differenced_data[i] < differenced_data[i + window_size])\n",
    "y_data = np.array(y_data)\n",
    "y_data.shape"
   ]
  },
  {
   "cell_type": "code",
   "execution_count": 561,
   "id": "73688f1e-7f78-453a-ac4e-d245f75f2dc4",
   "metadata": {},
   "outputs": [
    {
     "data": {
      "text/plain": [
       "(1916, 30, 30)"
      ]
     },
     "execution_count": 561,
     "metadata": {},
     "output_type": "execute_result"
    }
   ],
   "source": [
    "# Determine the examples to be used as inputs in the model and rescale them to the [0,255] scale\n",
    "X_data = X_train_new[:-window_size]\n",
    "for i in range(X_data.shape[0]):\n",
    "    X_data[i] = (X_data[i] - np.min(X_data[i])) / (\n",
    "        np.max(X_data[i]) - np.min(X_data[i])\n",
    "    )\n",
    "# We could simply write X_data = (X_data + 1)/2\n",
    "X_data = X_data * 255\n",
    "X_data.shape"
   ]
  },
  {
   "cell_type": "code",
   "execution_count": 562,
   "id": "e48901d2-19c9-4aa5-bead-155fb1587ada",
   "metadata": {},
   "outputs": [],
   "source": [
    "# Split into train and test\n",
    "train_split = 0.8\n",
    "y_data_train = y_data[: int(train_split * y_data.shape[0])]\n",
    "y_data_test = y_data[int(train_split * y_data.shape[0]) :]\n",
    "X_data_train = X_data[: int(train_split * y_data.shape[0])]\n",
    "X_data_test = X_data[int(train_split * y_data.shape[0]) :]"
   ]
  },
  {
   "cell_type": "code",
   "execution_count": 570,
   "id": "3d8ff37f-7af2-4d62-857e-4a71eb3746f3",
   "metadata": {},
   "outputs": [
    {
     "name": "stderr",
     "output_type": "stream",
     "text": [
      "C:\\Users\\susha\\anaconda3\\Lib\\site-packages\\keras\\src\\layers\\core\\input_layer.py:27: UserWarning: Argument `input_shape` is deprecated. Use `shape` instead.\n",
      "  warnings.warn(\n"
     ]
    }
   ],
   "source": [
    "model = tf.keras.Sequential()\n",
    "# Input layer\n",
    "model.add(tf.keras.layers.InputLayer(input_shape=(30, 30, 1)))\n",
    "model.add(tf.keras.layers.Conv2D(16, 1, activation=\"relu\"))\n",
    "model.add(tf.keras.layers.MaxPooling2D(2))\n",
    "model.add(tf.keras.layers.Conv2D(32, 1, activation=\"relu\"))\n",
    "model.add(tf.keras.layers.MaxPooling2D(2))\n",
    "model.add(tf.keras.layers.Conv2D(64, 1, activation=\"relu\"))\n",
    "model.add(tf.keras.layers.MaxPooling2D(2))\n",
    "model.add(tf.keras.layers.Flatten())\n",
    "model.add(tf.keras.layers.Dense(256, activation=\"relu\"))\n",
    "#model.add(tf.keras.layers.Dropout(0.5, seed=1234))\n",
    "model.add(tf.keras.layers.Dense(1, activation=\"sigmoid\"))"
   ]
  },
  {
   "cell_type": "code",
   "execution_count": 572,
   "id": "3b271906-12ad-4604-a896-768ebef3c7ae",
   "metadata": {},
   "outputs": [
    {
     "data": {
      "text/html": [
       "<pre style=\"white-space:pre;overflow-x:auto;line-height:normal;font-family:Menlo,'DejaVu Sans Mono',consolas,'Courier New',monospace\"><span style=\"font-weight: bold\">Model: \"sequential_9\"</span>\n",
       "</pre>\n"
      ],
      "text/plain": [
       "\u001b[1mModel: \"sequential_9\"\u001b[0m\n"
      ]
     },
     "metadata": {},
     "output_type": "display_data"
    },
    {
     "data": {
      "text/html": [
       "<pre style=\"white-space:pre;overflow-x:auto;line-height:normal;font-family:Menlo,'DejaVu Sans Mono',consolas,'Courier New',monospace\">┏━━━━━━━━━━━━━━━━━━━━━━━━━━━━━━━━━━━━━━┳━━━━━━━━━━━━━━━━━━━━━━━━━━━━━┳━━━━━━━━━━━━━━━━━┓\n",
       "┃<span style=\"font-weight: bold\"> Layer (type)                         </span>┃<span style=\"font-weight: bold\"> Output Shape                </span>┃<span style=\"font-weight: bold\">         Param # </span>┃\n",
       "┡━━━━━━━━━━━━━━━━━━━━━━━━━━━━━━━━━━━━━━╇━━━━━━━━━━━━━━━━━━━━━━━━━━━━━╇━━━━━━━━━━━━━━━━━┩\n",
       "│ conv2d_14 (<span style=\"color: #0087ff; text-decoration-color: #0087ff\">Conv2D</span>)                   │ (<span style=\"color: #00d7ff; text-decoration-color: #00d7ff\">None</span>, <span style=\"color: #00af00; text-decoration-color: #00af00\">30</span>, <span style=\"color: #00af00; text-decoration-color: #00af00\">30</span>, <span style=\"color: #00af00; text-decoration-color: #00af00\">16</span>)          │              <span style=\"color: #00af00; text-decoration-color: #00af00\">32</span> │\n",
       "├──────────────────────────────────────┼─────────────────────────────┼─────────────────┤\n",
       "│ max_pooling2d_14 (<span style=\"color: #0087ff; text-decoration-color: #0087ff\">MaxPooling2D</span>)      │ (<span style=\"color: #00d7ff; text-decoration-color: #00d7ff\">None</span>, <span style=\"color: #00af00; text-decoration-color: #00af00\">15</span>, <span style=\"color: #00af00; text-decoration-color: #00af00\">15</span>, <span style=\"color: #00af00; text-decoration-color: #00af00\">16</span>)          │               <span style=\"color: #00af00; text-decoration-color: #00af00\">0</span> │\n",
       "├──────────────────────────────────────┼─────────────────────────────┼─────────────────┤\n",
       "│ conv2d_15 (<span style=\"color: #0087ff; text-decoration-color: #0087ff\">Conv2D</span>)                   │ (<span style=\"color: #00d7ff; text-decoration-color: #00d7ff\">None</span>, <span style=\"color: #00af00; text-decoration-color: #00af00\">15</span>, <span style=\"color: #00af00; text-decoration-color: #00af00\">15</span>, <span style=\"color: #00af00; text-decoration-color: #00af00\">32</span>)          │             <span style=\"color: #00af00; text-decoration-color: #00af00\">544</span> │\n",
       "├──────────────────────────────────────┼─────────────────────────────┼─────────────────┤\n",
       "│ max_pooling2d_15 (<span style=\"color: #0087ff; text-decoration-color: #0087ff\">MaxPooling2D</span>)      │ (<span style=\"color: #00d7ff; text-decoration-color: #00d7ff\">None</span>, <span style=\"color: #00af00; text-decoration-color: #00af00\">7</span>, <span style=\"color: #00af00; text-decoration-color: #00af00\">7</span>, <span style=\"color: #00af00; text-decoration-color: #00af00\">32</span>)            │               <span style=\"color: #00af00; text-decoration-color: #00af00\">0</span> │\n",
       "├──────────────────────────────────────┼─────────────────────────────┼─────────────────┤\n",
       "│ conv2d_16 (<span style=\"color: #0087ff; text-decoration-color: #0087ff\">Conv2D</span>)                   │ (<span style=\"color: #00d7ff; text-decoration-color: #00d7ff\">None</span>, <span style=\"color: #00af00; text-decoration-color: #00af00\">7</span>, <span style=\"color: #00af00; text-decoration-color: #00af00\">7</span>, <span style=\"color: #00af00; text-decoration-color: #00af00\">64</span>)            │           <span style=\"color: #00af00; text-decoration-color: #00af00\">2,112</span> │\n",
       "├──────────────────────────────────────┼─────────────────────────────┼─────────────────┤\n",
       "│ max_pooling2d_16 (<span style=\"color: #0087ff; text-decoration-color: #0087ff\">MaxPooling2D</span>)      │ (<span style=\"color: #00d7ff; text-decoration-color: #00d7ff\">None</span>, <span style=\"color: #00af00; text-decoration-color: #00af00\">3</span>, <span style=\"color: #00af00; text-decoration-color: #00af00\">3</span>, <span style=\"color: #00af00; text-decoration-color: #00af00\">64</span>)            │               <span style=\"color: #00af00; text-decoration-color: #00af00\">0</span> │\n",
       "├──────────────────────────────────────┼─────────────────────────────┼─────────────────┤\n",
       "│ flatten_6 (<span style=\"color: #0087ff; text-decoration-color: #0087ff\">Flatten</span>)                  │ (<span style=\"color: #00d7ff; text-decoration-color: #00d7ff\">None</span>, <span style=\"color: #00af00; text-decoration-color: #00af00\">576</span>)                 │               <span style=\"color: #00af00; text-decoration-color: #00af00\">0</span> │\n",
       "├──────────────────────────────────────┼─────────────────────────────┼─────────────────┤\n",
       "│ dense_25 (<span style=\"color: #0087ff; text-decoration-color: #0087ff\">Dense</span>)                     │ (<span style=\"color: #00d7ff; text-decoration-color: #00d7ff\">None</span>, <span style=\"color: #00af00; text-decoration-color: #00af00\">256</span>)                 │         <span style=\"color: #00af00; text-decoration-color: #00af00\">147,712</span> │\n",
       "├──────────────────────────────────────┼─────────────────────────────┼─────────────────┤\n",
       "│ dense_26 (<span style=\"color: #0087ff; text-decoration-color: #0087ff\">Dense</span>)                     │ (<span style=\"color: #00d7ff; text-decoration-color: #00d7ff\">None</span>, <span style=\"color: #00af00; text-decoration-color: #00af00\">1</span>)                   │             <span style=\"color: #00af00; text-decoration-color: #00af00\">257</span> │\n",
       "└──────────────────────────────────────┴─────────────────────────────┴─────────────────┘\n",
       "</pre>\n"
      ],
      "text/plain": [
       "┏━━━━━━━━━━━━━━━━━━━━━━━━━━━━━━━━━━━━━━┳━━━━━━━━━━━━━━━━━━━━━━━━━━━━━┳━━━━━━━━━━━━━━━━━┓\n",
       "┃\u001b[1m \u001b[0m\u001b[1mLayer (type)                        \u001b[0m\u001b[1m \u001b[0m┃\u001b[1m \u001b[0m\u001b[1mOutput Shape               \u001b[0m\u001b[1m \u001b[0m┃\u001b[1m \u001b[0m\u001b[1m        Param #\u001b[0m\u001b[1m \u001b[0m┃\n",
       "┡━━━━━━━━━━━━━━━━━━━━━━━━━━━━━━━━━━━━━━╇━━━━━━━━━━━━━━━━━━━━━━━━━━━━━╇━━━━━━━━━━━━━━━━━┩\n",
       "│ conv2d_14 (\u001b[38;5;33mConv2D\u001b[0m)                   │ (\u001b[38;5;45mNone\u001b[0m, \u001b[38;5;34m30\u001b[0m, \u001b[38;5;34m30\u001b[0m, \u001b[38;5;34m16\u001b[0m)          │              \u001b[38;5;34m32\u001b[0m │\n",
       "├──────────────────────────────────────┼─────────────────────────────┼─────────────────┤\n",
       "│ max_pooling2d_14 (\u001b[38;5;33mMaxPooling2D\u001b[0m)      │ (\u001b[38;5;45mNone\u001b[0m, \u001b[38;5;34m15\u001b[0m, \u001b[38;5;34m15\u001b[0m, \u001b[38;5;34m16\u001b[0m)          │               \u001b[38;5;34m0\u001b[0m │\n",
       "├──────────────────────────────────────┼─────────────────────────────┼─────────────────┤\n",
       "│ conv2d_15 (\u001b[38;5;33mConv2D\u001b[0m)                   │ (\u001b[38;5;45mNone\u001b[0m, \u001b[38;5;34m15\u001b[0m, \u001b[38;5;34m15\u001b[0m, \u001b[38;5;34m32\u001b[0m)          │             \u001b[38;5;34m544\u001b[0m │\n",
       "├──────────────────────────────────────┼─────────────────────────────┼─────────────────┤\n",
       "│ max_pooling2d_15 (\u001b[38;5;33mMaxPooling2D\u001b[0m)      │ (\u001b[38;5;45mNone\u001b[0m, \u001b[38;5;34m7\u001b[0m, \u001b[38;5;34m7\u001b[0m, \u001b[38;5;34m32\u001b[0m)            │               \u001b[38;5;34m0\u001b[0m │\n",
       "├──────────────────────────────────────┼─────────────────────────────┼─────────────────┤\n",
       "│ conv2d_16 (\u001b[38;5;33mConv2D\u001b[0m)                   │ (\u001b[38;5;45mNone\u001b[0m, \u001b[38;5;34m7\u001b[0m, \u001b[38;5;34m7\u001b[0m, \u001b[38;5;34m64\u001b[0m)            │           \u001b[38;5;34m2,112\u001b[0m │\n",
       "├──────────────────────────────────────┼─────────────────────────────┼─────────────────┤\n",
       "│ max_pooling2d_16 (\u001b[38;5;33mMaxPooling2D\u001b[0m)      │ (\u001b[38;5;45mNone\u001b[0m, \u001b[38;5;34m3\u001b[0m, \u001b[38;5;34m3\u001b[0m, \u001b[38;5;34m64\u001b[0m)            │               \u001b[38;5;34m0\u001b[0m │\n",
       "├──────────────────────────────────────┼─────────────────────────────┼─────────────────┤\n",
       "│ flatten_6 (\u001b[38;5;33mFlatten\u001b[0m)                  │ (\u001b[38;5;45mNone\u001b[0m, \u001b[38;5;34m576\u001b[0m)                 │               \u001b[38;5;34m0\u001b[0m │\n",
       "├──────────────────────────────────────┼─────────────────────────────┼─────────────────┤\n",
       "│ dense_25 (\u001b[38;5;33mDense\u001b[0m)                     │ (\u001b[38;5;45mNone\u001b[0m, \u001b[38;5;34m256\u001b[0m)                 │         \u001b[38;5;34m147,712\u001b[0m │\n",
       "├──────────────────────────────────────┼─────────────────────────────┼─────────────────┤\n",
       "│ dense_26 (\u001b[38;5;33mDense\u001b[0m)                     │ (\u001b[38;5;45mNone\u001b[0m, \u001b[38;5;34m1\u001b[0m)                   │             \u001b[38;5;34m257\u001b[0m │\n",
       "└──────────────────────────────────────┴─────────────────────────────┴─────────────────┘\n"
      ]
     },
     "metadata": {},
     "output_type": "display_data"
    },
    {
     "data": {
      "text/html": [
       "<pre style=\"white-space:pre;overflow-x:auto;line-height:normal;font-family:Menlo,'DejaVu Sans Mono',consolas,'Courier New',monospace\"><span style=\"font-weight: bold\"> Total params: </span><span style=\"color: #00af00; text-decoration-color: #00af00\">150,657</span> (588.50 KB)\n",
       "</pre>\n"
      ],
      "text/plain": [
       "\u001b[1m Total params: \u001b[0m\u001b[38;5;34m150,657\u001b[0m (588.50 KB)\n"
      ]
     },
     "metadata": {},
     "output_type": "display_data"
    },
    {
     "data": {
      "text/html": [
       "<pre style=\"white-space:pre;overflow-x:auto;line-height:normal;font-family:Menlo,'DejaVu Sans Mono',consolas,'Courier New',monospace\"><span style=\"font-weight: bold\"> Trainable params: </span><span style=\"color: #00af00; text-decoration-color: #00af00\">150,657</span> (588.50 KB)\n",
       "</pre>\n"
      ],
      "text/plain": [
       "\u001b[1m Trainable params: \u001b[0m\u001b[38;5;34m150,657\u001b[0m (588.50 KB)\n"
      ]
     },
     "metadata": {},
     "output_type": "display_data"
    },
    {
     "data": {
      "text/html": [
       "<pre style=\"white-space:pre;overflow-x:auto;line-height:normal;font-family:Menlo,'DejaVu Sans Mono',consolas,'Courier New',monospace\"><span style=\"font-weight: bold\"> Non-trainable params: </span><span style=\"color: #00af00; text-decoration-color: #00af00\">0</span> (0.00 B)\n",
       "</pre>\n"
      ],
      "text/plain": [
       "\u001b[1m Non-trainable params: \u001b[0m\u001b[38;5;34m0\u001b[0m (0.00 B)\n"
      ]
     },
     "metadata": {},
     "output_type": "display_data"
    }
   ],
   "source": [
    "model.summary()"
   ]
  },
  {
   "cell_type": "code",
   "execution_count": 574,
   "id": "b05749db-ffaf-4e9c-932f-410caed211a2",
   "metadata": {},
   "outputs": [
    {
     "name": "stdout",
     "output_type": "stream",
     "text": [
      "{0: 2.042666666666667, 1: 1.0}\n"
     ]
    }
   ],
   "source": [
    "model.compile(loss=\"binary_crossentropy\", optimizer=\"RMSprop\", metrics=[\"accuracy\"])\n",
    "checkpoint = tf.keras.callbacks.ModelCheckpoint(\n",
    "    \"model.h5\", monitor=\"val_accuracy\", save_best_only=True, mode=\"auto\"\n",
    ")\n",
    "class_weight = {0: 1 / (1 - np.mean(y_data_train)), 1: 1.0}\n",
    "print(class_weight)"
   ]
  },
  {
   "cell_type": "code",
   "execution_count": 576,
   "id": "9918d11d-bfe6-4acd-8464-d55b10722fa5",
   "metadata": {},
   "outputs": [
    {
     "name": "stdout",
     "output_type": "stream",
     "text": [
      "Epoch 1/50\n",
      "\u001b[1m45/48\u001b[0m \u001b[32m━━━━━━━━━━━━━━━━━━\u001b[0m\u001b[37m━━\u001b[0m \u001b[1m0s\u001b[0m 8ms/step - accuracy: 0.4866 - loss: 23.3953"
     ]
    },
    {
     "name": "stderr",
     "output_type": "stream",
     "text": [
      "WARNING:absl:You are saving your model as an HDF5 file via `model.save()` or `keras.saving.save_model(model)`. This file format is considered legacy. We recommend using instead the native Keras format, e.g. `model.save('my_model.keras')` or `keras.saving.save_model(model, 'my_model.keras')`. \n"
     ]
    },
    {
     "name": "stdout",
     "output_type": "stream",
     "text": [
      "\u001b[1m48/48\u001b[0m \u001b[32m━━━━━━━━━━━━━━━━━━━━\u001b[0m\u001b[37m\u001b[0m \u001b[1m3s\u001b[0m 18ms/step - accuracy: 0.4866 - loss: 22.5149 - val_accuracy: 0.4948 - val_loss: 0.8102\n",
      "Epoch 2/50\n",
      "\u001b[1m48/48\u001b[0m \u001b[32m━━━━━━━━━━━━━━━━━━━━\u001b[0m\u001b[37m\u001b[0m \u001b[1m1s\u001b[0m 11ms/step - accuracy: 0.4844 - loss: 3.5085 - val_accuracy: 0.4609 - val_loss: 1.0270\n",
      "Epoch 3/50\n",
      "\u001b[1m46/48\u001b[0m \u001b[32m━━━━━━━━━━━━━━━━━━━\u001b[0m\u001b[37m━\u001b[0m \u001b[1m0s\u001b[0m 8ms/step - accuracy: 0.4970 - loss: 1.4303"
     ]
    },
    {
     "name": "stderr",
     "output_type": "stream",
     "text": [
      "WARNING:absl:You are saving your model as an HDF5 file via `model.save()` or `keras.saving.save_model(model)`. This file format is considered legacy. We recommend using instead the native Keras format, e.g. `model.save('my_model.keras')` or `keras.saving.save_model(model, 'my_model.keras')`. \n"
     ]
    },
    {
     "name": "stdout",
     "output_type": "stream",
     "text": [
      "\u001b[1m48/48\u001b[0m \u001b[32m━━━━━━━━━━━━━━━━━━━━\u001b[0m\u001b[37m\u001b[0m \u001b[1m1s\u001b[0m 12ms/step - accuracy: 0.4978 - loss: 1.4189 - val_accuracy: 0.5365 - val_loss: 0.7018\n",
      "Epoch 4/50\n",
      "\u001b[1m48/48\u001b[0m \u001b[32m━━━━━━━━━━━━━━━━━━━━\u001b[0m\u001b[37m\u001b[0m \u001b[1m1s\u001b[0m 11ms/step - accuracy: 0.4865 - loss: 1.0991 - val_accuracy: 0.4635 - val_loss: 0.7600\n",
      "Epoch 5/50\n",
      "\u001b[1m48/48\u001b[0m \u001b[32m━━━━━━━━━━━━━━━━━━━━\u001b[0m\u001b[37m\u001b[0m \u001b[1m1s\u001b[0m 11ms/step - accuracy: 0.4588 - loss: 1.0326 - val_accuracy: 0.4635 - val_loss: 0.7422\n",
      "Epoch 6/50\n",
      "\u001b[1m48/48\u001b[0m \u001b[32m━━━━━━━━━━━━━━━━━━━━\u001b[0m\u001b[37m\u001b[0m \u001b[1m1s\u001b[0m 15ms/step - accuracy: 0.4794 - loss: 1.0017 - val_accuracy: 0.4635 - val_loss: 0.7377\n",
      "Epoch 7/50\n",
      "\u001b[1m48/48\u001b[0m \u001b[32m━━━━━━━━━━━━━━━━━━━━\u001b[0m\u001b[37m\u001b[0m \u001b[1m1s\u001b[0m 11ms/step - accuracy: 0.4815 - loss: 0.9892 - val_accuracy: 0.4635 - val_loss: 0.7337\n",
      "Epoch 8/50\n",
      "\u001b[1m48/48\u001b[0m \u001b[32m━━━━━━━━━━━━━━━━━━━━\u001b[0m\u001b[37m\u001b[0m \u001b[1m1s\u001b[0m 11ms/step - accuracy: 0.4815 - loss: 0.9871 - val_accuracy: 0.4609 - val_loss: 0.7335\n",
      "Epoch 9/50\n",
      "\u001b[1m48/48\u001b[0m \u001b[32m━━━━━━━━━━━━━━━━━━━━\u001b[0m\u001b[37m\u001b[0m \u001b[1m1s\u001b[0m 11ms/step - accuracy: 0.4696 - loss: 1.0084 - val_accuracy: 0.4635 - val_loss: 0.7367\n",
      "Epoch 10/50\n",
      "\u001b[1m48/48\u001b[0m \u001b[32m━━━━━━━━━━━━━━━━━━━━\u001b[0m\u001b[37m\u001b[0m \u001b[1m1s\u001b[0m 11ms/step - accuracy: 0.4817 - loss: 0.9840 - val_accuracy: 0.4635 - val_loss: 0.7500\n",
      "Epoch 11/50\n",
      "\u001b[1m48/48\u001b[0m \u001b[32m━━━━━━━━━━━━━━━━━━━━\u001b[0m\u001b[37m\u001b[0m \u001b[1m1s\u001b[0m 11ms/step - accuracy: 0.4815 - loss: 0.9909 - val_accuracy: 0.4635 - val_loss: 0.7569\n",
      "Epoch 12/50\n",
      "\u001b[1m48/48\u001b[0m \u001b[32m━━━━━━━━━━━━━━━━━━━━\u001b[0m\u001b[37m\u001b[0m \u001b[1m1s\u001b[0m 11ms/step - accuracy: 0.4819 - loss: 0.9887 - val_accuracy: 0.4635 - val_loss: 0.7435\n",
      "Epoch 13/50\n",
      "\u001b[1m48/48\u001b[0m \u001b[32m━━━━━━━━━━━━━━━━━━━━\u001b[0m\u001b[37m\u001b[0m \u001b[1m1s\u001b[0m 11ms/step - accuracy: 0.4837 - loss: 0.9829 - val_accuracy: 0.4635 - val_loss: 0.7412\n",
      "Epoch 14/50\n",
      "\u001b[1m48/48\u001b[0m \u001b[32m━━━━━━━━━━━━━━━━━━━━\u001b[0m\u001b[37m\u001b[0m \u001b[1m1s\u001b[0m 11ms/step - accuracy: 0.4815 - loss: 0.9868 - val_accuracy: 0.4635 - val_loss: 0.7376\n",
      "Epoch 15/50\n",
      "\u001b[1m48/48\u001b[0m \u001b[32m━━━━━━━━━━━━━━━━━━━━\u001b[0m\u001b[37m\u001b[0m \u001b[1m1s\u001b[0m 11ms/step - accuracy: 0.4711 - loss: 1.0063 - val_accuracy: 0.4635 - val_loss: 0.7414\n",
      "Epoch 16/50\n",
      "\u001b[1m48/48\u001b[0m \u001b[32m━━━━━━━━━━━━━━━━━━━━\u001b[0m\u001b[37m\u001b[0m \u001b[1m1s\u001b[0m 11ms/step - accuracy: 0.4815 - loss: 0.9762 - val_accuracy: 0.4635 - val_loss: 0.7615\n",
      "Epoch 17/50\n",
      "\u001b[1m48/48\u001b[0m \u001b[32m━━━━━━━━━━━━━━━━━━━━\u001b[0m\u001b[37m\u001b[0m \u001b[1m1s\u001b[0m 11ms/step - accuracy: 0.4818 - loss: 0.9746 - val_accuracy: 0.4635 - val_loss: 0.7537\n",
      "Epoch 18/50\n",
      "\u001b[1m48/48\u001b[0m \u001b[32m━━━━━━━━━━━━━━━━━━━━\u001b[0m\u001b[37m\u001b[0m \u001b[1m1s\u001b[0m 11ms/step - accuracy: 0.4815 - loss: 0.9708 - val_accuracy: 0.4635 - val_loss: 0.7737\n",
      "Epoch 19/50\n",
      "\u001b[1m48/48\u001b[0m \u001b[32m━━━━━━━━━━━━━━━━━━━━\u001b[0m\u001b[37m\u001b[0m \u001b[1m1s\u001b[0m 11ms/step - accuracy: 0.4816 - loss: 0.9695 - val_accuracy: 0.4635 - val_loss: 0.7116\n",
      "Epoch 20/50\n",
      "\u001b[1m48/48\u001b[0m \u001b[32m━━━━━━━━━━━━━━━━━━━━\u001b[0m\u001b[37m\u001b[0m \u001b[1m1s\u001b[0m 11ms/step - accuracy: 0.4815 - loss: 0.9721 - val_accuracy: 0.4635 - val_loss: 0.7717\n",
      "Epoch 21/50\n",
      "\u001b[1m48/48\u001b[0m \u001b[32m━━━━━━━━━━━━━━━━━━━━\u001b[0m\u001b[37m\u001b[0m \u001b[1m1s\u001b[0m 11ms/step - accuracy: 0.4815 - loss: 0.9687 - val_accuracy: 0.4635 - val_loss: 0.7559\n",
      "Epoch 22/50\n",
      "\u001b[1m48/48\u001b[0m \u001b[32m━━━━━━━━━━━━━━━━━━━━\u001b[0m\u001b[37m\u001b[0m \u001b[1m1s\u001b[0m 11ms/step - accuracy: 0.4815 - loss: 0.9773 - val_accuracy: 0.4635 - val_loss: 0.7700\n",
      "Epoch 23/50\n",
      "\u001b[1m48/48\u001b[0m \u001b[32m━━━━━━━━━━━━━━━━━━━━\u001b[0m\u001b[37m\u001b[0m \u001b[1m1s\u001b[0m 11ms/step - accuracy: 0.4836 - loss: 0.9698 - val_accuracy: 0.4635 - val_loss: 0.7710\n",
      "Epoch 24/50\n",
      "\u001b[1m48/48\u001b[0m \u001b[32m━━━━━━━━━━━━━━━━━━━━\u001b[0m\u001b[37m\u001b[0m \u001b[1m1s\u001b[0m 11ms/step - accuracy: 0.4815 - loss: 0.9680 - val_accuracy: 0.4635 - val_loss: 0.7706\n",
      "Epoch 25/50\n",
      "\u001b[1m48/48\u001b[0m \u001b[32m━━━━━━━━━━━━━━━━━━━━\u001b[0m\u001b[37m\u001b[0m \u001b[1m1s\u001b[0m 11ms/step - accuracy: 0.4821 - loss: 0.9695 - val_accuracy: 0.4635 - val_loss: 0.7734\n",
      "Epoch 26/50\n",
      "\u001b[1m48/48\u001b[0m \u001b[32m━━━━━━━━━━━━━━━━━━━━\u001b[0m\u001b[37m\u001b[0m \u001b[1m1s\u001b[0m 13ms/step - accuracy: 0.4813 - loss: 0.9713 - val_accuracy: 0.4635 - val_loss: 0.7745\n",
      "Epoch 27/50\n",
      "\u001b[1m48/48\u001b[0m \u001b[32m━━━━━━━━━━━━━━━━━━━━\u001b[0m\u001b[37m\u001b[0m \u001b[1m1s\u001b[0m 12ms/step - accuracy: 0.4815 - loss: 0.9712 - val_accuracy: 0.4635 - val_loss: 0.7719\n",
      "Epoch 28/50\n",
      "\u001b[1m48/48\u001b[0m \u001b[32m━━━━━━━━━━━━━━━━━━━━\u001b[0m\u001b[37m\u001b[0m \u001b[1m1s\u001b[0m 11ms/step - accuracy: 0.4815 - loss: 0.9700 - val_accuracy: 0.4635 - val_loss: 0.7736\n",
      "Epoch 29/50\n",
      "\u001b[1m48/48\u001b[0m \u001b[32m━━━━━━━━━━━━━━━━━━━━\u001b[0m\u001b[37m\u001b[0m \u001b[1m1s\u001b[0m 11ms/step - accuracy: 0.4804 - loss: 0.9713 - val_accuracy: 0.4635 - val_loss: 0.7708\n",
      "Epoch 30/50\n",
      "\u001b[1m48/48\u001b[0m \u001b[32m━━━━━━━━━━━━━━━━━━━━\u001b[0m\u001b[37m\u001b[0m \u001b[1m1s\u001b[0m 11ms/step - accuracy: 0.4815 - loss: 0.9676 - val_accuracy: 0.4635 - val_loss: 0.7714\n",
      "Epoch 31/50\n",
      "\u001b[1m48/48\u001b[0m \u001b[32m━━━━━━━━━━━━━━━━━━━━\u001b[0m\u001b[37m\u001b[0m \u001b[1m1s\u001b[0m 11ms/step - accuracy: 0.4815 - loss: 0.9673 - val_accuracy: 0.4635 - val_loss: 0.7724\n",
      "Epoch 32/50\n",
      "\u001b[1m48/48\u001b[0m \u001b[32m━━━━━━━━━━━━━━━━━━━━\u001b[0m\u001b[37m\u001b[0m \u001b[1m1s\u001b[0m 11ms/step - accuracy: 0.4714 - loss: 1.0318 - val_accuracy: 0.4635 - val_loss: 0.7733\n",
      "Epoch 33/50\n",
      "\u001b[1m48/48\u001b[0m \u001b[32m━━━━━━━━━━━━━━━━━━━━\u001b[0m\u001b[37m\u001b[0m \u001b[1m1s\u001b[0m 11ms/step - accuracy: 0.4817 - loss: 0.9673 - val_accuracy: 0.4635 - val_loss: 0.7726\n",
      "Epoch 34/50\n",
      "\u001b[1m48/48\u001b[0m \u001b[32m━━━━━━━━━━━━━━━━━━━━\u001b[0m\u001b[37m\u001b[0m \u001b[1m1s\u001b[0m 11ms/step - accuracy: 0.4827 - loss: 0.9773 - val_accuracy: 0.4635 - val_loss: 0.7715\n",
      "Epoch 35/50\n",
      "\u001b[1m48/48\u001b[0m \u001b[32m━━━━━━━━━━━━━━━━━━━━\u001b[0m\u001b[37m\u001b[0m \u001b[1m1s\u001b[0m 11ms/step - accuracy: 0.4815 - loss: 0.9689 - val_accuracy: 0.4635 - val_loss: 0.7687\n",
      "Epoch 36/50\n",
      "\u001b[1m48/48\u001b[0m \u001b[32m━━━━━━━━━━━━━━━━━━━━\u001b[0m\u001b[37m\u001b[0m \u001b[1m1s\u001b[0m 11ms/step - accuracy: 0.4815 - loss: 0.9706 - val_accuracy: 0.4635 - val_loss: 0.7699\n",
      "Epoch 37/50\n",
      "\u001b[1m48/48\u001b[0m \u001b[32m━━━━━━━━━━━━━━━━━━━━\u001b[0m\u001b[37m\u001b[0m \u001b[1m1s\u001b[0m 11ms/step - accuracy: 0.4815 - loss: 0.9704 - val_accuracy: 0.4635 - val_loss: 0.7711\n",
      "Epoch 38/50\n",
      "\u001b[1m48/48\u001b[0m \u001b[32m━━━━━━━━━━━━━━━━━━━━\u001b[0m\u001b[37m\u001b[0m \u001b[1m1s\u001b[0m 11ms/step - accuracy: 0.4711 - loss: 1.0092 - val_accuracy: 0.4635 - val_loss: 0.7702\n",
      "Epoch 39/50\n",
      "\u001b[1m48/48\u001b[0m \u001b[32m━━━━━━━━━━━━━━━━━━━━\u001b[0m\u001b[37m\u001b[0m \u001b[1m1s\u001b[0m 11ms/step - accuracy: 0.4815 - loss: 0.9691 - val_accuracy: 0.4635 - val_loss: 0.7706\n",
      "Epoch 40/50\n",
      "\u001b[1m48/48\u001b[0m \u001b[32m━━━━━━━━━━━━━━━━━━━━\u001b[0m\u001b[37m\u001b[0m \u001b[1m1s\u001b[0m 11ms/step - accuracy: 0.4815 - loss: 0.9687 - val_accuracy: 0.4635 - val_loss: 0.7492\n",
      "Epoch 41/50\n",
      "\u001b[1m48/48\u001b[0m \u001b[32m━━━━━━━━━━━━━━━━━━━━\u001b[0m\u001b[37m\u001b[0m \u001b[1m1s\u001b[0m 11ms/step - accuracy: 0.4778 - loss: 0.9770 - val_accuracy: 0.4635 - val_loss: 0.7522\n",
      "Epoch 42/50\n",
      "\u001b[1m48/48\u001b[0m \u001b[32m━━━━━━━━━━━━━━━━━━━━\u001b[0m\u001b[37m\u001b[0m \u001b[1m1s\u001b[0m 12ms/step - accuracy: 0.4815 - loss: 0.9711 - val_accuracy: 0.4635 - val_loss: 0.7662\n",
      "Epoch 43/50\n",
      "\u001b[1m48/48\u001b[0m \u001b[32m━━━━━━━━━━━━━━━━━━━━\u001b[0m\u001b[37m\u001b[0m \u001b[1m1s\u001b[0m 12ms/step - accuracy: 0.4815 - loss: 0.9685 - val_accuracy: 0.4635 - val_loss: 0.7707\n",
      "Epoch 44/50\n",
      "\u001b[1m48/48\u001b[0m \u001b[32m━━━━━━━━━━━━━━━━━━━━\u001b[0m\u001b[37m\u001b[0m \u001b[1m1s\u001b[0m 11ms/step - accuracy: 0.4711 - loss: 1.0274 - val_accuracy: 0.4635 - val_loss: 0.7781\n",
      "Epoch 45/50\n",
      "\u001b[1m48/48\u001b[0m \u001b[32m━━━━━━━━━━━━━━━━━━━━\u001b[0m\u001b[37m\u001b[0m \u001b[1m1s\u001b[0m 11ms/step - accuracy: 0.4786 - loss: 0.9722 - val_accuracy: 0.4635 - val_loss: 0.7420\n",
      "Epoch 46/50\n",
      "\u001b[1m48/48\u001b[0m \u001b[32m━━━━━━━━━━━━━━━━━━━━\u001b[0m\u001b[37m\u001b[0m \u001b[1m1s\u001b[0m 11ms/step - accuracy: 0.4739 - loss: 0.9844 - val_accuracy: 0.4635 - val_loss: 0.7764\n",
      "Epoch 47/50\n",
      "\u001b[1m48/48\u001b[0m \u001b[32m━━━━━━━━━━━━━━━━━━━━\u001b[0m\u001b[37m\u001b[0m \u001b[1m1s\u001b[0m 12ms/step - accuracy: 0.4797 - loss: 0.9723 - val_accuracy: 0.4635 - val_loss: 0.7629\n",
      "Epoch 48/50\n",
      "\u001b[1m48/48\u001b[0m \u001b[32m━━━━━━━━━━━━━━━━━━━━\u001b[0m\u001b[37m\u001b[0m \u001b[1m1s\u001b[0m 11ms/step - accuracy: 0.4845 - loss: 0.9740 - val_accuracy: 0.4635 - val_loss: 0.7669\n",
      "Epoch 49/50\n",
      "\u001b[1m48/48\u001b[0m \u001b[32m━━━━━━━━━━━━━━━━━━━━\u001b[0m\u001b[37m\u001b[0m \u001b[1m1s\u001b[0m 11ms/step - accuracy: 0.4845 - loss: 0.9687 - val_accuracy: 0.4635 - val_loss: 0.7705\n",
      "Epoch 50/50\n",
      "\u001b[1m48/48\u001b[0m \u001b[32m━━━━━━━━━━━━━━━━━━━━\u001b[0m\u001b[37m\u001b[0m \u001b[1m1s\u001b[0m 11ms/step - accuracy: 0.4892 - loss: 0.9711 - val_accuracy: 0.4635 - val_loss: 0.7749\n"
     ]
    },
    {
     "data": {
      "text/plain": [
       "<keras.src.callbacks.history.History at 0x2d0552c4470>"
      ]
     },
     "execution_count": 576,
     "metadata": {},
     "output_type": "execute_result"
    }
   ],
   "source": [
    "model.fit(\n",
    "    x=X_data_train,\n",
    "    y=y_data_train,\n",
    "    epochs=50,\n",
    "    validation_data=(X_data_test, y_data_test),\n",
    "    verbose=1,\n",
    "    callbacks=[checkpoint],\n",
    "    class_weight=class_weight,\n",
    ")"
   ]
  },
  {
   "cell_type": "code",
   "execution_count": 577,
   "id": "8bf40fd3-2880-4265-b56e-d359b2d9a2c2",
   "metadata": {},
   "outputs": [
    {
     "name": "stderr",
     "output_type": "stream",
     "text": [
      "WARNING:absl:Compiled the loaded model, but the compiled metrics have yet to be built. `model.compile_metrics` will be empty until you train or evaluate the model.\n"
     ]
    },
    {
     "name": "stdout",
     "output_type": "stream",
     "text": [
      "\u001b[1m12/12\u001b[0m \u001b[32m━━━━━━━━━━━━━━━━━━━━\u001b[0m\u001b[37m\u001b[0m \u001b[1m1s\u001b[0m 6ms/step - accuracy: 0.5217 - loss: 0.7103  \n",
      "Accuracy over validation: 53.65%\n"
     ]
    }
   ],
   "source": [
    "model = tf.keras.models.load_model(\"model.h5\")\n",
    "acc = model.evaluate(x=X_data_test, y=y_data_test)\n",
    "print(\"Accuracy over validation: {:.2f}%\".format(acc[1] * 100))"
   ]
  },
  {
   "cell_type": "markdown",
   "id": "7c953f98-e003-4153-82e6-dbaf876e726b",
   "metadata": {},
   "source": [
    "Now for the fractionally Differenced Series"
   ]
  },
  {
   "cell_type": "code",
   "execution_count": 580,
   "id": "72cfb8c0-10ea-4ef9-a9bc-cc0dcca26803",
   "metadata": {},
   "outputs": [
    {
     "name": "stdout",
     "output_type": "stream",
     "text": [
      "(1937, 30)\n"
     ]
    },
    {
     "data": {
      "image/png": "[encoded data removed]",
      "text/plain": [
       "<Figure size 600x600 with 1 Axes>"
      ]
     },
     "metadata": {},
     "output_type": "display_data"
    }
   ],
   "source": [
    "X_train = []\n",
    "window_size = 30\n",
    "for i in range(window_size, frac_diff_series.shape[0]):\n",
    "    X_train.append(frac_diff_series[i - window_size : i])\n",
    "X_train = np.array(X_train)\n",
    "print(X_train.shape)\n",
    "# Define a \"window_size\"-days interval\n",
    "days = np.linspace(1, X_train.shape[0], num=X_train.shape[0])\n",
    "# Plot the overlapping time series\n",
    "plt.figure(figsize=(6, 6))\n",
    "for i in range(241):\n",
    "    plt.plot(days[i : window_size + i], X_train[i, :])"
   ]
  },
  {
   "cell_type": "code",
   "execution_count": 582,
   "id": "c84a0e48-d4e9-4840-865b-968a2ea21da5",
   "metadata": {},
   "outputs": [
    {
     "name": "stdout",
     "output_type": "stream",
     "text": [
      "(1937, 30, 30)\n"
     ]
    }
   ],
   "source": [
    "transformer = GramianAngularField()\n",
    "X_train_new = transformer.transform(X_train)\n",
    "print(X_train_new.shape)"
   ]
  },
  {
   "cell_type": "code",
   "execution_count": 584,
   "id": "b147001b-8253-4d90-b3a1-f4ca4fd68086",
   "metadata": {},
   "outputs": [
    {
     "name": "stderr",
     "output_type": "stream",
     "text": [
      "C:\\Users\\susha\\AppData\\Local\\Temp\\ipykernel_24600\\393614003.py:4: FutureWarning: Series.__getitem__ treating keys as positions is deprecated. In a future version, integer keys will always be treated as labels (consistent with DataFrame behavior). To access a value by position, use `ser.iloc[pos]`\n",
      "  y_data.append(frac_diff_series[i] < frac_diff_series[i + window_size])\n"
     ]
    },
    {
     "data": {
      "text/plain": [
       "(1907,)"
      ]
     },
     "execution_count": 584,
     "metadata": {},
     "output_type": "execute_result"
    }
   ],
   "source": [
    "# Generate the labels: 1 if price goes up after window_size days, 0 otherwise\n",
    "y_data = []\n",
    "for i in range(window_size, frac_diff_series.shape[0] - window_size):\n",
    "    y_data.append(frac_diff_series[i] < frac_diff_series[i + window_size])\n",
    "y_data = np.array(y_data)\n",
    "y_data.shape"
   ]
  },
  {
   "cell_type": "code",
   "execution_count": 586,
   "id": "72c54ae5-ca1b-4089-8dc2-fa87aef775ae",
   "metadata": {},
   "outputs": [
    {
     "data": {
      "text/plain": [
       "(1907, 30, 30)"
      ]
     },
     "execution_count": 586,
     "metadata": {},
     "output_type": "execute_result"
    }
   ],
   "source": [
    "# Determine the examples to be used as inputs in the model and rescale them to the [0,255] scale\n",
    "X_data = X_train_new[:-window_size]\n",
    "for i in range(X_data.shape[0]):\n",
    "    X_data[i] = (X_data[i] - np.min(X_data[i])) / (\n",
    "        np.max(X_data[i]) - np.min(X_data[i])\n",
    "    )\n",
    "# We could simply write X_data = (X_data + 1)/2\n",
    "X_data = X_data * 255\n",
    "X_data.shape"
   ]
  },
  {
   "cell_type": "code",
   "execution_count": 588,
   "id": "a5bc1833-6b0a-40c9-9f7e-76902b401093",
   "metadata": {},
   "outputs": [],
   "source": [
    "# Split into train and test\n",
    "train_split = 0.8\n",
    "y_data_train = y_data[: int(train_split * y_data.shape[0])]\n",
    "y_data_test = y_data[int(train_split * y_data.shape[0]) :]\n",
    "X_data_train = X_data[: int(train_split * y_data.shape[0])]\n",
    "X_data_test = X_data[int(train_split * y_data.shape[0]) :]"
   ]
  },
  {
   "cell_type": "code",
   "execution_count": 590,
   "id": "bbfea6e6-d2d5-4517-ba2e-636f46df9ffe",
   "metadata": {},
   "outputs": [
    {
     "name": "stderr",
     "output_type": "stream",
     "text": [
      "C:\\Users\\susha\\anaconda3\\Lib\\site-packages\\keras\\src\\layers\\core\\input_layer.py:27: UserWarning: Argument `input_shape` is deprecated. Use `shape` instead.\n",
      "  warnings.warn(\n"
     ]
    }
   ],
   "source": [
    "model = tf.keras.Sequential()\n",
    "# Input layer\n",
    "model.add(tf.keras.layers.InputLayer(input_shape=(30, 30, 1)))\n",
    "model.add(tf.keras.layers.Conv2D(16, 3, activation=\"relu\"))\n",
    "model.add(tf.keras.layers.MaxPooling2D(2))\n",
    "model.add(tf.keras.layers.Conv2D(32, 3, activation=\"relu\"))\n",
    "model.add(tf.keras.layers.MaxPooling2D(2))\n",
    "model.add(tf.keras.layers.Conv2D(64, 3, activation=\"relu\"))\n",
    "model.add(tf.keras.layers.MaxPooling2D(2))\n",
    "model.add(tf.keras.layers.Flatten())\n",
    "model.add(tf.keras.layers.Dense(256, activation=\"relu\"))\n",
    "#model.add(tf.keras.layers.Dropout(0.5, seed=1234))\n",
    "model.add(tf.keras.layers.Dense(1, activation=\"sigmoid\"))"
   ]
  },
  {
   "cell_type": "code",
   "execution_count": 592,
   "id": "802e9fc1-a52f-4166-bf93-6960f971d777",
   "metadata": {},
   "outputs": [
    {
     "data": {
      "text/html": [
       "<pre style=\"white-space:pre;overflow-x:auto;line-height:normal;font-family:Menlo,'DejaVu Sans Mono',consolas,'Courier New',monospace\"><span style=\"font-weight: bold\">Model: \"sequential_10\"</span>\n",
       "</pre>\n"
      ],
      "text/plain": [
       "\u001b[1mModel: \"sequential_10\"\u001b[0m\n"
      ]
     },
     "metadata": {},
     "output_type": "display_data"
    },
    {
     "data": {
      "text/html": [
       "<pre style=\"white-space:pre;overflow-x:auto;line-height:normal;font-family:Menlo,'DejaVu Sans Mono',consolas,'Courier New',monospace\">┏━━━━━━━━━━━━━━━━━━━━━━━━━━━━━━━━━━━━━━┳━━━━━━━━━━━━━━━━━━━━━━━━━━━━━┳━━━━━━━━━━━━━━━━━┓\n",
       "┃<span style=\"font-weight: bold\"> Layer (type)                         </span>┃<span style=\"font-weight: bold\"> Output Shape                </span>┃<span style=\"font-weight: bold\">         Param # </span>┃\n",
       "┡━━━━━━━━━━━━━━━━━━━━━━━━━━━━━━━━━━━━━━╇━━━━━━━━━━━━━━━━━━━━━━━━━━━━━╇━━━━━━━━━━━━━━━━━┩\n",
       "│ conv2d_17 (<span style=\"color: #0087ff; text-decoration-color: #0087ff\">Conv2D</span>)                   │ (<span style=\"color: #00d7ff; text-decoration-color: #00d7ff\">None</span>, <span style=\"color: #00af00; text-decoration-color: #00af00\">28</span>, <span style=\"color: #00af00; text-decoration-color: #00af00\">28</span>, <span style=\"color: #00af00; text-decoration-color: #00af00\">16</span>)          │             <span style=\"color: #00af00; text-decoration-color: #00af00\">160</span> │\n",
       "├──────────────────────────────────────┼─────────────────────────────┼─────────────────┤\n",
       "│ max_pooling2d_17 (<span style=\"color: #0087ff; text-decoration-color: #0087ff\">MaxPooling2D</span>)      │ (<span style=\"color: #00d7ff; text-decoration-color: #00d7ff\">None</span>, <span style=\"color: #00af00; text-decoration-color: #00af00\">14</span>, <span style=\"color: #00af00; text-decoration-color: #00af00\">14</span>, <span style=\"color: #00af00; text-decoration-color: #00af00\">16</span>)          │               <span style=\"color: #00af00; text-decoration-color: #00af00\">0</span> │\n",
       "├──────────────────────────────────────┼─────────────────────────────┼─────────────────┤\n",
       "│ conv2d_18 (<span style=\"color: #0087ff; text-decoration-color: #0087ff\">Conv2D</span>)                   │ (<span style=\"color: #00d7ff; text-decoration-color: #00d7ff\">None</span>, <span style=\"color: #00af00; text-decoration-color: #00af00\">12</span>, <span style=\"color: #00af00; text-decoration-color: #00af00\">12</span>, <span style=\"color: #00af00; text-decoration-color: #00af00\">32</span>)          │           <span style=\"color: #00af00; text-decoration-color: #00af00\">4,640</span> │\n",
       "├──────────────────────────────────────┼─────────────────────────────┼─────────────────┤\n",
       "│ max_pooling2d_18 (<span style=\"color: #0087ff; text-decoration-color: #0087ff\">MaxPooling2D</span>)      │ (<span style=\"color: #00d7ff; text-decoration-color: #00d7ff\">None</span>, <span style=\"color: #00af00; text-decoration-color: #00af00\">6</span>, <span style=\"color: #00af00; text-decoration-color: #00af00\">6</span>, <span style=\"color: #00af00; text-decoration-color: #00af00\">32</span>)            │               <span style=\"color: #00af00; text-decoration-color: #00af00\">0</span> │\n",
       "├──────────────────────────────────────┼─────────────────────────────┼─────────────────┤\n",
       "│ conv2d_19 (<span style=\"color: #0087ff; text-decoration-color: #0087ff\">Conv2D</span>)                   │ (<span style=\"color: #00d7ff; text-decoration-color: #00d7ff\">None</span>, <span style=\"color: #00af00; text-decoration-color: #00af00\">4</span>, <span style=\"color: #00af00; text-decoration-color: #00af00\">4</span>, <span style=\"color: #00af00; text-decoration-color: #00af00\">64</span>)            │          <span style=\"color: #00af00; text-decoration-color: #00af00\">18,496</span> │\n",
       "├──────────────────────────────────────┼─────────────────────────────┼─────────────────┤\n",
       "│ max_pooling2d_19 (<span style=\"color: #0087ff; text-decoration-color: #0087ff\">MaxPooling2D</span>)      │ (<span style=\"color: #00d7ff; text-decoration-color: #00d7ff\">None</span>, <span style=\"color: #00af00; text-decoration-color: #00af00\">2</span>, <span style=\"color: #00af00; text-decoration-color: #00af00\">2</span>, <span style=\"color: #00af00; text-decoration-color: #00af00\">64</span>)            │               <span style=\"color: #00af00; text-decoration-color: #00af00\">0</span> │\n",
       "├──────────────────────────────────────┼─────────────────────────────┼─────────────────┤\n",
       "│ flatten_7 (<span style=\"color: #0087ff; text-decoration-color: #0087ff\">Flatten</span>)                  │ (<span style=\"color: #00d7ff; text-decoration-color: #00d7ff\">None</span>, <span style=\"color: #00af00; text-decoration-color: #00af00\">256</span>)                 │               <span style=\"color: #00af00; text-decoration-color: #00af00\">0</span> │\n",
       "├──────────────────────────────────────┼─────────────────────────────┼─────────────────┤\n",
       "│ dense_27 (<span style=\"color: #0087ff; text-decoration-color: #0087ff\">Dense</span>)                     │ (<span style=\"color: #00d7ff; text-decoration-color: #00d7ff\">None</span>, <span style=\"color: #00af00; text-decoration-color: #00af00\">256</span>)                 │          <span style=\"color: #00af00; text-decoration-color: #00af00\">65,792</span> │\n",
       "├──────────────────────────────────────┼─────────────────────────────┼─────────────────┤\n",
       "│ dense_28 (<span style=\"color: #0087ff; text-decoration-color: #0087ff\">Dense</span>)                     │ (<span style=\"color: #00d7ff; text-decoration-color: #00d7ff\">None</span>, <span style=\"color: #00af00; text-decoration-color: #00af00\">1</span>)                   │             <span style=\"color: #00af00; text-decoration-color: #00af00\">257</span> │\n",
       "└──────────────────────────────────────┴─────────────────────────────┴─────────────────┘\n",
       "</pre>\n"
      ],
      "text/plain": [
       "┏━━━━━━━━━━━━━━━━━━━━━━━━━━━━━━━━━━━━━━┳━━━━━━━━━━━━━━━━━━━━━━━━━━━━━┳━━━━━━━━━━━━━━━━━┓\n",
       "┃\u001b[1m \u001b[0m\u001b[1mLayer (type)                        \u001b[0m\u001b[1m \u001b[0m┃\u001b[1m \u001b[0m\u001b[1mOutput Shape               \u001b[0m\u001b[1m \u001b[0m┃\u001b[1m \u001b[0m\u001b[1m        Param #\u001b[0m\u001b[1m \u001b[0m┃\n",
       "┡━━━━━━━━━━━━━━━━━━━━━━━━━━━━━━━━━━━━━━╇━━━━━━━━━━━━━━━━━━━━━━━━━━━━━╇━━━━━━━━━━━━━━━━━┩\n",
       "│ conv2d_17 (\u001b[38;5;33mConv2D\u001b[0m)                   │ (\u001b[38;5;45mNone\u001b[0m, \u001b[38;5;34m28\u001b[0m, \u001b[38;5;34m28\u001b[0m, \u001b[38;5;34m16\u001b[0m)          │             \u001b[38;5;34m160\u001b[0m │\n",
       "├──────────────────────────────────────┼─────────────────────────────┼─────────────────┤\n",
       "│ max_pooling2d_17 (\u001b[38;5;33mMaxPooling2D\u001b[0m)      │ (\u001b[38;5;45mNone\u001b[0m, \u001b[38;5;34m14\u001b[0m, \u001b[38;5;34m14\u001b[0m, \u001b[38;5;34m16\u001b[0m)          │               \u001b[38;5;34m0\u001b[0m │\n",
       "├──────────────────────────────────────┼─────────────────────────────┼─────────────────┤\n",
       "│ conv2d_18 (\u001b[38;5;33mConv2D\u001b[0m)                   │ (\u001b[38;5;45mNone\u001b[0m, \u001b[38;5;34m12\u001b[0m, \u001b[38;5;34m12\u001b[0m, \u001b[38;5;34m32\u001b[0m)          │           \u001b[38;5;34m4,640\u001b[0m │\n",
       "├──────────────────────────────────────┼─────────────────────────────┼─────────────────┤\n",
       "│ max_pooling2d_18 (\u001b[38;5;33mMaxPooling2D\u001b[0m)      │ (\u001b[38;5;45mNone\u001b[0m, \u001b[38;5;34m6\u001b[0m, \u001b[38;5;34m6\u001b[0m, \u001b[38;5;34m32\u001b[0m)            │               \u001b[38;5;34m0\u001b[0m │\n",
       "├──────────────────────────────────────┼─────────────────────────────┼─────────────────┤\n",
       "│ conv2d_19 (\u001b[38;5;33mConv2D\u001b[0m)                   │ (\u001b[38;5;45mNone\u001b[0m, \u001b[38;5;34m4\u001b[0m, \u001b[38;5;34m4\u001b[0m, \u001b[38;5;34m64\u001b[0m)            │          \u001b[38;5;34m18,496\u001b[0m │\n",
       "├──────────────────────────────────────┼─────────────────────────────┼─────────────────┤\n",
       "│ max_pooling2d_19 (\u001b[38;5;33mMaxPooling2D\u001b[0m)      │ (\u001b[38;5;45mNone\u001b[0m, \u001b[38;5;34m2\u001b[0m, \u001b[38;5;34m2\u001b[0m, \u001b[38;5;34m64\u001b[0m)            │               \u001b[38;5;34m0\u001b[0m │\n",
       "├──────────────────────────────────────┼─────────────────────────────┼─────────────────┤\n",
       "│ flatten_7 (\u001b[38;5;33mFlatten\u001b[0m)                  │ (\u001b[38;5;45mNone\u001b[0m, \u001b[38;5;34m256\u001b[0m)                 │               \u001b[38;5;34m0\u001b[0m │\n",
       "├──────────────────────────────────────┼─────────────────────────────┼─────────────────┤\n",
       "│ dense_27 (\u001b[38;5;33mDense\u001b[0m)                     │ (\u001b[38;5;45mNone\u001b[0m, \u001b[38;5;34m256\u001b[0m)                 │          \u001b[38;5;34m65,792\u001b[0m │\n",
       "├──────────────────────────────────────┼─────────────────────────────┼─────────────────┤\n",
       "│ dense_28 (\u001b[38;5;33mDense\u001b[0m)                     │ (\u001b[38;5;45mNone\u001b[0m, \u001b[38;5;34m1\u001b[0m)                   │             \u001b[38;5;34m257\u001b[0m │\n",
       "└──────────────────────────────────────┴─────────────────────────────┴─────────────────┘\n"
      ]
     },
     "metadata": {},
     "output_type": "display_data"
    },
    {
     "data": {
      "text/html": [
       "<pre style=\"white-space:pre;overflow-x:auto;line-height:normal;font-family:Menlo,'DejaVu Sans Mono',consolas,'Courier New',monospace\"><span style=\"font-weight: bold\"> Total params: </span><span style=\"color: #00af00; text-decoration-color: #00af00\">89,345</span> (349.00 KB)\n",
       "</pre>\n"
      ],
      "text/plain": [
       "\u001b[1m Total params: \u001b[0m\u001b[38;5;34m89,345\u001b[0m (349.00 KB)\n"
      ]
     },
     "metadata": {},
     "output_type": "display_data"
    },
    {
     "data": {
      "text/html": [
       "<pre style=\"white-space:pre;overflow-x:auto;line-height:normal;font-family:Menlo,'DejaVu Sans Mono',consolas,'Courier New',monospace\"><span style=\"font-weight: bold\"> Trainable params: </span><span style=\"color: #00af00; text-decoration-color: #00af00\">89,345</span> (349.00 KB)\n",
       "</pre>\n"
      ],
      "text/plain": [
       "\u001b[1m Trainable params: \u001b[0m\u001b[38;5;34m89,345\u001b[0m (349.00 KB)\n"
      ]
     },
     "metadata": {},
     "output_type": "display_data"
    },
    {
     "data": {
      "text/html": [
       "<pre style=\"white-space:pre;overflow-x:auto;line-height:normal;font-family:Menlo,'DejaVu Sans Mono',consolas,'Courier New',monospace\"><span style=\"font-weight: bold\"> Non-trainable params: </span><span style=\"color: #00af00; text-decoration-color: #00af00\">0</span> (0.00 B)\n",
       "</pre>\n"
      ],
      "text/plain": [
       "\u001b[1m Non-trainable params: \u001b[0m\u001b[38;5;34m0\u001b[0m (0.00 B)\n"
      ]
     },
     "metadata": {},
     "output_type": "display_data"
    }
   ],
   "source": [
    "model.summary()"
   ]
  },
  {
   "cell_type": "code",
   "execution_count": 594,
   "id": "4ccafa17-9633-4c14-b440-64b28e1c0c68",
   "metadata": {},
   "outputs": [
    {
     "name": "stdout",
     "output_type": "stream",
     "text": [
      "{0: 2.0861833105335155, 1: 1.0}\n"
     ]
    }
   ],
   "source": [
    "model.compile(loss=\"binary_crossentropy\", optimizer=\"RMSprop\", metrics=[\"accuracy\"])\n",
    "checkpoint = tf.keras.callbacks.ModelCheckpoint(\n",
    "    \"model.h5\", monitor=\"val_accuracy\", save_best_only=True, mode=\"auto\"\n",
    ")\n",
    "class_weight = {0: 1 / (1 - np.mean(y_data_train)), 1: 1.0}\n",
    "print(class_weight)"
   ]
  },
  {
   "cell_type": "code",
   "execution_count": 596,
   "id": "bc7338db-fe3f-434a-bac3-d74b4578ceca",
   "metadata": {},
   "outputs": [
    {
     "name": "stdout",
     "output_type": "stream",
     "text": [
      "Epoch 1/50\n",
      "\u001b[1m44/48\u001b[0m \u001b[32m━━━━━━━━━━━━━━━━━━\u001b[0m\u001b[37m━━\u001b[0m \u001b[1m0s\u001b[0m 9ms/step - accuracy: 0.4914 - loss: 10.1406"
     ]
    },
    {
     "name": "stderr",
     "output_type": "stream",
     "text": [
      "WARNING:absl:You are saving your model as an HDF5 file via `model.save()` or `keras.saving.save_model(model)`. This file format is considered legacy. We recommend using instead the native Keras format, e.g. `model.save('my_model.keras')` or `keras.saving.save_model(model, 'my_model.keras')`. \n"
     ]
    },
    {
     "name": "stdout",
     "output_type": "stream",
     "text": [
      "\u001b[1m48/48\u001b[0m \u001b[32m━━━━━━━━━━━━━━━━━━━━\u001b[0m\u001b[37m\u001b[0m \u001b[1m3s\u001b[0m 23ms/step - accuracy: 0.4919 - loss: 9.4866 - val_accuracy: 0.4843 - val_loss: 1.9463\n",
      "Epoch 2/50\n",
      "\u001b[1m48/48\u001b[0m \u001b[32m━━━━━━━━━━━━━━━━━━━━\u001b[0m\u001b[37m\u001b[0m \u001b[1m1s\u001b[0m 11ms/step - accuracy: 0.5165 - loss: 1.1361 - val_accuracy: 0.4843 - val_loss: 1.2360\n",
      "Epoch 3/50\n",
      "\u001b[1m47/48\u001b[0m \u001b[32m━━━━━━━━━━━━━━━━━━━\u001b[0m\u001b[37m━\u001b[0m \u001b[1m0s\u001b[0m 8ms/step - accuracy: 0.5192 - loss: 1.0587"
     ]
    },
    {
     "name": "stderr",
     "output_type": "stream",
     "text": [
      "WARNING:absl:You are saving your model as an HDF5 file via `model.save()` or `keras.saving.save_model(model)`. This file format is considered legacy. We recommend using instead the native Keras format, e.g. `model.save('my_model.keras')` or `keras.saving.save_model(model, 'my_model.keras')`. \n"
     ]
    },
    {
     "name": "stdout",
     "output_type": "stream",
     "text": [
      "\u001b[1m48/48\u001b[0m \u001b[32m━━━━━━━━━━━━━━━━━━━━\u001b[0m\u001b[37m\u001b[0m \u001b[1m1s\u001b[0m 13ms/step - accuracy: 0.5195 - loss: 1.0585 - val_accuracy: 0.4869 - val_loss: 0.9673\n",
      "Epoch 4/50\n",
      "\u001b[1m48/48\u001b[0m \u001b[32m━━━━━━━━━━━━━━━━━━━━\u001b[0m\u001b[37m\u001b[0m \u001b[1m1s\u001b[0m 12ms/step - accuracy: 0.5118 - loss: 1.0124 - val_accuracy: 0.4738 - val_loss: 0.8602\n",
      "Epoch 5/50\n",
      "\u001b[1m48/48\u001b[0m \u001b[32m━━━━━━━━━━━━━━━━━━━━\u001b[0m\u001b[37m\u001b[0m \u001b[1m1s\u001b[0m 13ms/step - accuracy: 0.5108 - loss: 1.0468 - val_accuracy: 0.4764 - val_loss: 0.9410\n",
      "Epoch 6/50\n",
      "\u001b[1m47/48\u001b[0m \u001b[32m━━━━━━━━━━━━━━━━━━━\u001b[0m\u001b[37m━\u001b[0m \u001b[1m0s\u001b[0m 8ms/step - accuracy: 0.5553 - loss: 0.9677"
     ]
    },
    {
     "name": "stderr",
     "output_type": "stream",
     "text": [
      "WARNING:absl:You are saving your model as an HDF5 file via `model.save()` or `keras.saving.save_model(model)`. This file format is considered legacy. We recommend using instead the native Keras format, e.g. `model.save('my_model.keras')` or `keras.saving.save_model(model, 'my_model.keras')`. \n"
     ]
    },
    {
     "name": "stdout",
     "output_type": "stream",
     "text": [
      "\u001b[1m48/48\u001b[0m \u001b[32m━━━━━━━━━━━━━━━━━━━━\u001b[0m\u001b[37m\u001b[0m \u001b[1m1s\u001b[0m 13ms/step - accuracy: 0.5553 - loss: 0.9675 - val_accuracy: 0.4948 - val_loss: 0.9527\n",
      "Epoch 7/50\n",
      "\u001b[1m48/48\u001b[0m \u001b[32m━━━━━━━━━━━━━━━━━━━━\u001b[0m\u001b[37m\u001b[0m \u001b[1m1s\u001b[0m 11ms/step - accuracy: 0.5950 - loss: 0.9172 - val_accuracy: 0.4817 - val_loss: 1.0932\n",
      "Epoch 8/50\n",
      "\u001b[1m48/48\u001b[0m \u001b[32m━━━━━━━━━━━━━━━━━━━━\u001b[0m\u001b[37m\u001b[0m \u001b[1m1s\u001b[0m 12ms/step - accuracy: 0.6281 - loss: 0.8494 - val_accuracy: 0.4843 - val_loss: 1.0667\n",
      "Epoch 9/50\n",
      "\u001b[1m48/48\u001b[0m \u001b[32m━━━━━━━━━━━━━━━━━━━━\u001b[0m\u001b[37m\u001b[0m \u001b[1m1s\u001b[0m 11ms/step - accuracy: 0.6854 - loss: 0.7757 - val_accuracy: 0.4764 - val_loss: 1.0257\n",
      "Epoch 10/50\n",
      "\u001b[1m48/48\u001b[0m \u001b[32m━━━━━━━━━━━━━━━━━━━━\u001b[0m\u001b[37m\u001b[0m \u001b[1m1s\u001b[0m 12ms/step - accuracy: 0.7306 - loss: 0.7065 - val_accuracy: 0.4686 - val_loss: 1.1382\n",
      "Epoch 11/50\n",
      "\u001b[1m48/48\u001b[0m \u001b[32m━━━━━━━━━━━━━━━━━━━━\u001b[0m\u001b[37m\u001b[0m \u001b[1m1s\u001b[0m 12ms/step - accuracy: 0.8099 - loss: 0.5498 - val_accuracy: 0.4791 - val_loss: 1.1998\n",
      "Epoch 12/50\n",
      "\u001b[1m48/48\u001b[0m \u001b[32m━━━━━━━━━━━━━━━━━━━━\u001b[0m\u001b[37m\u001b[0m \u001b[1m1s\u001b[0m 11ms/step - accuracy: 0.8239 - loss: 0.4898 - val_accuracy: 0.4319 - val_loss: 1.3062\n",
      "Epoch 13/50\n",
      "\u001b[1m48/48\u001b[0m \u001b[32m━━━━━━━━━━━━━━━━━━━━\u001b[0m\u001b[37m\u001b[0m \u001b[1m1s\u001b[0m 11ms/step - accuracy: 0.8752 - loss: 0.4022 - val_accuracy: 0.4581 - val_loss: 1.5310\n",
      "Epoch 14/50\n",
      "\u001b[1m48/48\u001b[0m \u001b[32m━━━━━━━━━━━━━━━━━━━━\u001b[0m\u001b[37m\u001b[0m \u001b[1m1s\u001b[0m 12ms/step - accuracy: 0.8835 - loss: 0.3698 - val_accuracy: 0.4634 - val_loss: 1.5912\n",
      "Epoch 15/50\n",
      "\u001b[1m48/48\u001b[0m \u001b[32m━━━━━━━━━━━━━━━━━━━━\u001b[0m\u001b[37m\u001b[0m \u001b[1m1s\u001b[0m 11ms/step - accuracy: 0.9262 - loss: 0.2498 - val_accuracy: 0.4660 - val_loss: 1.8848\n",
      "Epoch 16/50\n",
      "\u001b[1m48/48\u001b[0m \u001b[32m━━━━━━━━━━━━━━━━━━━━\u001b[0m\u001b[37m\u001b[0m \u001b[1m1s\u001b[0m 11ms/step - accuracy: 0.9235 - loss: 0.2579 - val_accuracy: 0.4817 - val_loss: 1.8880\n",
      "Epoch 17/50\n",
      "\u001b[1m48/48\u001b[0m \u001b[32m━━━━━━━━━━━━━━━━━━━━\u001b[0m\u001b[37m\u001b[0m \u001b[1m1s\u001b[0m 11ms/step - accuracy: 0.9238 - loss: 0.2323 - val_accuracy: 0.4660 - val_loss: 1.7770\n",
      "Epoch 18/50\n",
      "\u001b[1m48/48\u001b[0m \u001b[32m━━━━━━━━━━━━━━━━━━━━\u001b[0m\u001b[37m\u001b[0m \u001b[1m1s\u001b[0m 12ms/step - accuracy: 0.9649 - loss: 0.1305 - val_accuracy: 0.4764 - val_loss: 2.3292\n",
      "Epoch 19/50\n",
      "\u001b[1m48/48\u001b[0m \u001b[32m━━━━━━━━━━━━━━━━━━━━\u001b[0m\u001b[37m\u001b[0m \u001b[1m1s\u001b[0m 12ms/step - accuracy: 0.9442 - loss: 0.1818 - val_accuracy: 0.4686 - val_loss: 1.9226\n",
      "Epoch 20/50\n",
      "\u001b[1m48/48\u001b[0m \u001b[32m━━━━━━━━━━━━━━━━━━━━\u001b[0m\u001b[37m\u001b[0m \u001b[1m1s\u001b[0m 13ms/step - accuracy: 0.9638 - loss: 0.1541 - val_accuracy: 0.4555 - val_loss: 2.3880\n",
      "Epoch 21/50\n",
      "\u001b[1m48/48\u001b[0m \u001b[32m━━━━━━━━━━━━━━━━━━━━\u001b[0m\u001b[37m\u001b[0m \u001b[1m1s\u001b[0m 12ms/step - accuracy: 0.9517 - loss: 0.1873 - val_accuracy: 0.4738 - val_loss: 2.2473\n",
      "Epoch 22/50\n",
      "\u001b[1m48/48\u001b[0m \u001b[32m━━━━━━━━━━━━━━━━━━━━\u001b[0m\u001b[37m\u001b[0m \u001b[1m1s\u001b[0m 12ms/step - accuracy: 0.9545 - loss: 0.1525 - val_accuracy: 0.4791 - val_loss: 2.4709\n",
      "Epoch 23/50\n",
      "\u001b[1m48/48\u001b[0m \u001b[32m━━━━━━━━━━━━━━━━━━━━\u001b[0m\u001b[37m\u001b[0m \u001b[1m1s\u001b[0m 11ms/step - accuracy: 0.9582 - loss: 0.1378 - val_accuracy: 0.4476 - val_loss: 2.4185\n",
      "Epoch 24/50\n",
      "\u001b[1m46/48\u001b[0m \u001b[32m━━━━━━━━━━━━━━━━━━━\u001b[0m\u001b[37m━\u001b[0m \u001b[1m0s\u001b[0m 8ms/step - accuracy: 0.9584 - loss: 0.1641"
     ]
    },
    {
     "name": "stderr",
     "output_type": "stream",
     "text": [
      "WARNING:absl:You are saving your model as an HDF5 file via `model.save()` or `keras.saving.save_model(model)`. This file format is considered legacy. We recommend using instead the native Keras format, e.g. `model.save('my_model.keras')` or `keras.saving.save_model(model, 'my_model.keras')`. \n"
     ]
    },
    {
     "name": "stdout",
     "output_type": "stream",
     "text": [
      "\u001b[1m48/48\u001b[0m \u001b[32m━━━━━━━━━━━━━━━━━━━━\u001b[0m\u001b[37m\u001b[0m \u001b[1m1s\u001b[0m 13ms/step - accuracy: 0.9583 - loss: 0.1640 - val_accuracy: 0.4974 - val_loss: 2.5694\n",
      "Epoch 25/50\n",
      "\u001b[1m48/48\u001b[0m \u001b[32m━━━━━━━━━━━━━━━━━━━━\u001b[0m\u001b[37m\u001b[0m \u001b[1m1s\u001b[0m 12ms/step - accuracy: 0.9720 - loss: 0.0965 - val_accuracy: 0.4921 - val_loss: 2.6197\n",
      "Epoch 26/50\n",
      "\u001b[1m48/48\u001b[0m \u001b[32m━━━━━━━━━━━━━━━━━━━━\u001b[0m\u001b[37m\u001b[0m \u001b[1m1s\u001b[0m 12ms/step - accuracy: 0.9634 - loss: 0.1486 - val_accuracy: 0.4712 - val_loss: 2.9815\n",
      "Epoch 27/50\n",
      "\u001b[1m48/48\u001b[0m \u001b[32m━━━━━━━━━━━━━━━━━━━━\u001b[0m\u001b[37m\u001b[0m \u001b[1m1s\u001b[0m 12ms/step - accuracy: 0.9739 - loss: 0.0978 - val_accuracy: 0.4948 - val_loss: 2.6252\n",
      "Epoch 28/50\n",
      "\u001b[1m48/48\u001b[0m \u001b[32m━━━━━━━━━━━━━━━━━━━━\u001b[0m\u001b[37m\u001b[0m \u001b[1m1s\u001b[0m 12ms/step - accuracy: 0.9586 - loss: 0.1326 - val_accuracy: 0.4974 - val_loss: 2.8370\n",
      "Epoch 29/50\n",
      "\u001b[1m48/48\u001b[0m \u001b[32m━━━━━━━━━━━━━━━━━━━━\u001b[0m\u001b[37m\u001b[0m \u001b[1m1s\u001b[0m 12ms/step - accuracy: 0.9796 - loss: 0.0764 - val_accuracy: 0.4660 - val_loss: 3.8718\n",
      "Epoch 30/50\n",
      "\u001b[1m48/48\u001b[0m \u001b[32m━━━━━━━━━━━━━━━━━━━━\u001b[0m\u001b[37m\u001b[0m \u001b[1m1s\u001b[0m 12ms/step - accuracy: 0.9678 - loss: 0.1252 - val_accuracy: 0.4398 - val_loss: 3.2154\n",
      "Epoch 31/50\n",
      "\u001b[1m48/48\u001b[0m \u001b[32m━━━━━━━━━━━━━━━━━━━━\u001b[0m\u001b[37m\u001b[0m \u001b[1m1s\u001b[0m 12ms/step - accuracy: 0.9652 - loss: 0.1349 - val_accuracy: 0.4686 - val_loss: 3.0443\n",
      "Epoch 32/50\n",
      "\u001b[1m48/48\u001b[0m \u001b[32m━━━━━━━━━━━━━━━━━━━━\u001b[0m\u001b[37m\u001b[0m \u001b[1m1s\u001b[0m 12ms/step - accuracy: 0.9818 - loss: 0.0787 - val_accuracy: 0.4817 - val_loss: 3.2603\n",
      "Epoch 33/50\n",
      "\u001b[1m48/48\u001b[0m \u001b[32m━━━━━━━━━━━━━━━━━━━━\u001b[0m\u001b[37m\u001b[0m \u001b[1m1s\u001b[0m 11ms/step - accuracy: 0.9797 - loss: 0.0807 - val_accuracy: 0.4660 - val_loss: 3.5082\n",
      "Epoch 34/50\n",
      "\u001b[1m47/48\u001b[0m \u001b[32m━━━━━━━━━━━━━━━━━━━\u001b[0m\u001b[37m━\u001b[0m \u001b[1m0s\u001b[0m 8ms/step - accuracy: 0.9575 - loss: 0.1637"
     ]
    },
    {
     "name": "stderr",
     "output_type": "stream",
     "text": [
      "WARNING:absl:You are saving your model as an HDF5 file via `model.save()` or `keras.saving.save_model(model)`. This file format is considered legacy. We recommend using instead the native Keras format, e.g. `model.save('my_model.keras')` or `keras.saving.save_model(model, 'my_model.keras')`. \n"
     ]
    },
    {
     "name": "stdout",
     "output_type": "stream",
     "text": [
      "\u001b[1m48/48\u001b[0m \u001b[32m━━━━━━━━━━━━━━━━━━━━\u001b[0m\u001b[37m\u001b[0m \u001b[1m1s\u001b[0m 13ms/step - accuracy: 0.9578 - loss: 0.1622 - val_accuracy: 0.5105 - val_loss: 3.3108\n",
      "Epoch 35/50\n",
      "\u001b[1m48/48\u001b[0m \u001b[32m━━━━━━━━━━━━━━━━━━━━\u001b[0m\u001b[37m\u001b[0m \u001b[1m1s\u001b[0m 11ms/step - accuracy: 0.9693 - loss: 0.1387 - val_accuracy: 0.4450 - val_loss: 3.3062\n",
      "Epoch 36/50\n",
      "\u001b[1m48/48\u001b[0m \u001b[32m━━━━━━━━━━━━━━━━━━━━\u001b[0m\u001b[37m\u001b[0m \u001b[1m1s\u001b[0m 12ms/step - accuracy: 0.9706 - loss: 0.1228 - val_accuracy: 0.4948 - val_loss: 4.1487\n",
      "Epoch 37/50\n",
      "\u001b[1m48/48\u001b[0m \u001b[32m━━━━━━━━━━━━━━━━━━━━\u001b[0m\u001b[37m\u001b[0m \u001b[1m1s\u001b[0m 12ms/step - accuracy: 0.9622 - loss: 0.1457 - val_accuracy: 0.4450 - val_loss: 3.5717\n",
      "Epoch 38/50\n",
      "\u001b[1m48/48\u001b[0m \u001b[32m━━━━━━━━━━━━━━━━━━━━\u001b[0m\u001b[37m\u001b[0m \u001b[1m1s\u001b[0m 11ms/step - accuracy: 0.9753 - loss: 0.0830 - val_accuracy: 0.4895 - val_loss: 4.0317\n",
      "Epoch 39/50\n",
      "\u001b[1m48/48\u001b[0m \u001b[32m━━━━━━━━━━━━━━━━━━━━\u001b[0m\u001b[37m\u001b[0m \u001b[1m1s\u001b[0m 12ms/step - accuracy: 0.9718 - loss: 0.1076 - val_accuracy: 0.4791 - val_loss: 3.7113\n",
      "Epoch 40/50\n",
      "\u001b[1m48/48\u001b[0m \u001b[32m━━━━━━━━━━━━━━━━━━━━\u001b[0m\u001b[37m\u001b[0m \u001b[1m1s\u001b[0m 12ms/step - accuracy: 0.9676 - loss: 0.1072 - val_accuracy: 0.4869 - val_loss: 3.1704\n",
      "Epoch 41/50\n",
      "\u001b[1m48/48\u001b[0m \u001b[32m━━━━━━━━━━━━━━━━━━━━\u001b[0m\u001b[37m\u001b[0m \u001b[1m1s\u001b[0m 12ms/step - accuracy: 0.9875 - loss: 0.0548 - val_accuracy: 0.4869 - val_loss: 3.3723\n",
      "Epoch 42/50\n",
      "\u001b[1m48/48\u001b[0m \u001b[32m━━━━━━━━━━━━━━━━━━━━\u001b[0m\u001b[37m\u001b[0m \u001b[1m1s\u001b[0m 12ms/step - accuracy: 0.9856 - loss: 0.0651 - val_accuracy: 0.4607 - val_loss: 3.9108\n",
      "Epoch 43/50\n",
      "\u001b[1m48/48\u001b[0m \u001b[32m━━━━━━━━━━━━━━━━━━━━\u001b[0m\u001b[37m\u001b[0m \u001b[1m1s\u001b[0m 12ms/step - accuracy: 0.9682 - loss: 0.1621 - val_accuracy: 0.4712 - val_loss: 3.7723\n",
      "Epoch 44/50\n",
      "\u001b[1m48/48\u001b[0m \u001b[32m━━━━━━━━━━━━━━━━━━━━\u001b[0m\u001b[37m\u001b[0m \u001b[1m1s\u001b[0m 13ms/step - accuracy: 0.9647 - loss: 0.1467 - val_accuracy: 0.4712 - val_loss: 3.5595\n",
      "Epoch 45/50\n",
      "\u001b[1m48/48\u001b[0m \u001b[32m━━━━━━━━━━━━━━━━━━━━\u001b[0m\u001b[37m\u001b[0m \u001b[1m1s\u001b[0m 12ms/step - accuracy: 0.9838 - loss: 0.0723 - val_accuracy: 0.4764 - val_loss: 3.8400\n",
      "Epoch 46/50\n",
      "\u001b[1m48/48\u001b[0m \u001b[32m━━━━━━━━━━━━━━━━━━━━\u001b[0m\u001b[37m\u001b[0m \u001b[1m1s\u001b[0m 12ms/step - accuracy: 0.9785 - loss: 0.1031 - val_accuracy: 0.4738 - val_loss: 3.8770\n",
      "Epoch 47/50\n",
      "\u001b[1m48/48\u001b[0m \u001b[32m━━━━━━━━━━━━━━━━━━━━\u001b[0m\u001b[37m\u001b[0m \u001b[1m1s\u001b[0m 12ms/step - accuracy: 0.9688 - loss: 0.1051 - val_accuracy: 0.4424 - val_loss: 3.5240\n",
      "Epoch 48/50\n",
      "\u001b[1m48/48\u001b[0m \u001b[32m━━━━━━━━━━━━━━━━━━━━\u001b[0m\u001b[37m\u001b[0m \u001b[1m1s\u001b[0m 11ms/step - accuracy: 0.9816 - loss: 0.0664 - val_accuracy: 0.4712 - val_loss: 3.7824\n",
      "Epoch 49/50\n",
      "\u001b[1m48/48\u001b[0m \u001b[32m━━━━━━━━━━━━━━━━━━━━\u001b[0m\u001b[37m\u001b[0m \u001b[1m1s\u001b[0m 11ms/step - accuracy: 0.9868 - loss: 0.0528 - val_accuracy: 0.4581 - val_loss: 3.8944\n",
      "Epoch 50/50\n",
      "\u001b[1m48/48\u001b[0m \u001b[32m━━━━━━━━━━━━━━━━━━━━\u001b[0m\u001b[37m\u001b[0m \u001b[1m1s\u001b[0m 11ms/step - accuracy: 0.9855 - loss: 0.0594 - val_accuracy: 0.4738 - val_loss: 4.0671\n"
     ]
    },
    {
     "data": {
      "text/plain": [
       "<keras.src.callbacks.history.History at 0x2d0596dd460>"
      ]
     },
     "execution_count": 596,
     "metadata": {},
     "output_type": "execute_result"
    }
   ],
   "source": [
    "model.fit(\n",
    "    x=X_data_train,\n",
    "    y=y_data_train,\n",
    "    epochs=50,\n",
    "    validation_data=(X_data_test, y_data_test),\n",
    "    verbose=1,\n",
    "    callbacks=[checkpoint],\n",
    "    class_weight=class_weight,\n",
    ")"
   ]
  },
  {
   "cell_type": "code",
   "execution_count": 597,
   "id": "9d260112-f0bb-43cb-8c76-be07641ede09",
   "metadata": {},
   "outputs": [
    {
     "name": "stderr",
     "output_type": "stream",
     "text": [
      "WARNING:absl:Compiled the loaded model, but the compiled metrics have yet to be built. `model.compile_metrics` will be empty until you train or evaluate the model.\n"
     ]
    },
    {
     "name": "stdout",
     "output_type": "stream",
     "text": [
      "\u001b[1m12/12\u001b[0m \u001b[32m━━━━━━━━━━━━━━━━━━━━\u001b[0m\u001b[37m\u001b[0m \u001b[1m1s\u001b[0m 8ms/step - accuracy: 0.5163 - loss: 3.3934\n",
      "Accuracy over validation: 51.05%\n"
     ]
    }
   ],
   "source": [
    "model = tf.keras.models.load_model(\"model.h5\")\n",
    "acc = model.evaluate(x=X_data_test, y=y_data_test)\n",
    "print(\"Accuracy over validation: {:.2f}%\".format(acc[1] * 100))"
   ]
  },
  {
   "cell_type": "markdown",
   "id": "9a9822eb-2002-4d25-add0-b9170a4857e9",
   "metadata": {},
   "source": [
    "### Evaluation of Prediction Performance for Raw, Differenced, and Fractionally Differenced Time Series Using CNN\n",
    "\n",
    "These results correspond to **Step 3** of the project, where **CNN models** are trained on different transformations of the time series:\n",
    "\n",
    "1. **Raw Time Series (Non-Stationary)**\n",
    "2. **First Differenced Time Series (Stationary)**\n",
    "3. **Fractionally Differenced Time Series (Stationary with Long-Term Memory)**\n",
    "\n",
    "---\n",
    "\n",
    "## **1. Model Performance Comparison (CNN)**\n",
    "\n",
    "| Model | Accuracy | Loss |\n",
    "|--------|----------|---------|\n",
    "| **Raw Time Series CNN** | **66.93%** | **1.1021** |\n",
    "| **First Differenced Time Series CNN** | **53.65%** | **0.7103** |\n",
    "| **Fractionally Differenced Time Series CNN** | **51.63%** | **3.3934** |\n",
    "\n",
    "---\n",
    "\n",
    "## **2. Analysis of CNN Model Performance**\n",
    "\n",
    "### **(a) Raw Time Series CNN (Best Performance)**\n",
    "**Accuracy: 66.93%**  \n",
    "**Loss: 1.1021 (High loss)**  \n",
    "\n",
    "**Why?**\n",
    "- The **CNN architecture captures patterns from the non-stationary series better** because CNNs are good at detecting local patterns even in trending data.\n",
    "- However, **high loss (1.1021)** indicates some instability in training.\n",
    "- CNN works well despite non-stationarity, **unlike MLP**, which struggles with non-stationary data.\n",
    "\n",
    "---\n",
    "\n",
    "### **(b) First Differenced Time Series CNN (Moderate Performance)**\n",
    "**Accuracy: 53.65%**  \n",
    "**Lower Loss: 0.7103**  \n",
    "\n",
    "**Why?**\n",
    "- The differenced series removes trends, making it more **stationary**.\n",
    "- **CNN struggles with differenced data** because it loses some context from the original trend.\n",
    "- **Lower loss (0.7103)** suggests better model stability, but accuracy is lower.\n",
    "\n",
    "---\n",
    "\n",
    "### **(c) Fractionally Differenced Time Series CNN (Worst Performance)**\n",
    "**Accuracy: 51.63%**  \n",
    "**Loss: 3.3934 (Extremely high loss)**  \n",
    "\n",
    "**Why?**\n",
    "- Fractional differencing **preserves long-term dependencies**, but CNNs may not fully utilize this information.\n",
    "- **Highest loss (3.3934)** indicates the model **failed to learn effectively** from this transformation.\n",
    "- This suggests that CNNs are **less effective at handling fractionally differenced series**, which may be better suited for **RNNs or LSTMs**.\n",
    "\n",
    "---\n",
    "\n",
    "## **3. Conclusion: Best CNN Model for Time Series**\n",
    "**The best model is the Raw Time Series CNN (66.93% accuracy)** because:\n",
    "- CNNs excel at **extracting spatial/local features**, even when the data is **non-stationary**.\n",
    "- **Differencing harms CNN performance** because CNNs rely on trendlines, which may be lost when differencing.\n"
   ]
  },
  {
   "cell_type": "markdown",
   "id": "2523f03a-9f99-4bd5-b2e8-3953c2ba0732",
   "metadata": {},
   "source": [
    " ## 📌 Step 4: Model Comparison "
   ]
  },
  {
   "cell_type": "markdown",
   "id": "05c341a1-fed2-491d-8d24-1a25b78055d2",
   "metadata": {},
   "source": [
    "\n",
    "In this final leg of the project, let us try to understand why our models perform differently on different time series. Our first intuition while going into the project was that both models would perform the best on the same time series, but what we have now is somewhat paradoxical. After all, how and why is there this divergence between the two models? Shouldn’t both models learn the same features that are to be learned and give identical performance on the “better” time series out of the three? Diving deeper into how these two models learn may give us the answer to this riddle.\n",
    "\n",
    "---\n",
    "\n",
    "## **1. Multi-Layer Perceptron (MLP) Model Performance**\n",
    "Our **MLP model** consists of **five layers**, with **10, 4, and 4 units in the hidden layers**, respectively. This is a relatively simple architecture, and it is important to note that the **MLP does not explicitly recognize that the data is a sequence**, unlike some more complex neural network architectures such as **CNNs and LSTMs**.\n",
    "\n",
    "### **Why MLP Struggles with the Original Time Series?**\n",
    "- The **MLP model does not inherently understand the sequential structure of time series data**.\n",
    "- It predicts the **future rise or fall** of stock prices based on predictor variables, assuming that these inputs influence the output.\n",
    "- The predictors in our model include **30-day, 60-day, 90-day, 150-day, and 300-day returns**, while the **target is the future 30-day return**.\n",
    "- Due to the lack of sequential awareness, the MLP **fails to recognize the trend in the original time series**, leading to **poor validation accuracy** on the raw time series data.\n",
    "\n",
    "### **Why MLP Performs Well on Differenced Data?**\n",
    "- The **differenced versions** of the time series remove trends and focus on **short-term momentum**.\n",
    "- The **predictors (30-day returns, 60-day returns, etc.) directly capture this momentum**, which aligns well with the MLP’s learning approach.\n",
    "- As a result, the MLP model performs **best on the fully differenced version**, where it can effectively learn from short-term fluctuations in the stock prices.\n",
    "\n",
    "📌 **Key Insight:** The MLP model benefits from a transformation that eliminates trends and highlights short-term momentum, which aligns with its ability to capture relationships between input features and future returns.\n",
    "\n",
    "---\n",
    "\n",
    "## **2. Convolutional Neural Network (CNN) Model Performance**\n",
    "Our **CNN model** is significantly more complex, consisting of:\n",
    "- **Three convolutional layers**\n",
    "- **Three pooling layers**\n",
    "- **A fully connected layer for classification**\n",
    "\n",
    "### **How CNN Recognizes Patterns in the Original Time Series?**\n",
    "- The **first convolutional layer** extracts **local patterns** in the **GAF (Gramian Angular Field) images** created from the time series.\n",
    "- The **second and third convolutional layers** extract increasingly **deeper patterns** in the transformed data.\n",
    "- **Pooling layers** after each convolutional layer help **prevent overfitting** by reducing unnecessary details.\n",
    "\n",
    "### **Why CNN Performs Well on the Original Time Series?**\n",
    "- The **CNN model learns the sequential nature of time series data** through convolutional operations.\n",
    "- Its **pattern-recognition ability** enables it to detect **underlying trends** in stock prices.\n",
    "- This explains why **CNN has the best validation accuracy on the original time series**.\n",
    "\n",
    "### **Why CNN Performs Poorly on Differenced Data?**\n",
    "- Differencing **removes the overall trend**, which CNN relies on for extracting meaningful patterns.\n",
    "- This forces the model to focus more on **time-local patterns and noise**.\n",
    "- CNN tries to extract **deep, hierarchical features**, but when applied to differenced data, it mainly learns from **local fluctuations**, which do not necessarily contribute to accurate predictions.\n",
    "\n",
    "📌 **Key Insight:** CNN performs better on raw time series because it captures **deep patterns and trends**, while differencing disrupts the structure that CNN relies on.\n",
    "\n",
    "---\n",
    "\n",
    "## **3. Conclusion: Why Do MLP and CNN Perform Differently?**\n",
    "| Model | Best on | Struggles with | Reason |\n",
    "|--------|---------|---------------|----------|\n",
    "| **MLP** | **Differenced Time Series** | **Original Time Series** | Cannot recognize trends, benefits from short-term momentum in differenced data |\n",
    "| **CNN** | **Original Time Series** | **Differenced Time Series** | Captures deep patterns and trends, but struggles with noise in differenced data |\n",
    "\n",
    "### **Final Takeaway**\n",
    "There will be some **minor variation in validation accuracy** during every run of the code. However, the larger trend remains consistent:\n",
    "- **MLP performs best on differenced data** because it focuses on **short-term momentum**.\n",
    "- **CNN performs best on the original time series** because it **learns deep trends and sequential patterns**.\n",
    "\n"
   ]
  }
 ],
 "metadata": {
  "kernelspec": {
   "display_name": "Python [conda env:base] *",
   "language": "python",
   "name": "conda-base-py"
  },
  "language_info": {
   "codemirror_mode": {
    "name": "ipython",
    "version": 3
   },
   "file_extension": ".py",
   "mimetype": "text/x-python",
   "name": "python",
   "nbconvert_exporter": "python",
   "pygments_lexer": "ipython3",
   "version": "3.12.7"
  }
 },
 "nbformat": 4,
 "nbformat_minor": 5
}
