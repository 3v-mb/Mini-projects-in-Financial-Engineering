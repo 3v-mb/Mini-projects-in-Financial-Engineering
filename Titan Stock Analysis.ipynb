{
 "cells": [
  {
   "cell_type": "code",
   "execution_count": 77,
   "id": "db4090f9-4046-4609-97bd-67be774f8947",
   "metadata": {},
   "outputs": [],
   "source": [
    "import numpy as np\n",
    "import pandas as pd\n",
    "import matplotlib.pyplot as plt\n",
    "import yfinance as yf\n",
    "import tensorflow as tf\n",
    "import keras_tuner as kt\n",
    "from keras.layers import LSTM, Dense, Dropout\n",
    "from keras import Sequential\n",
    "from keras.callbacks import EarlyStopping\n",
    "from sklearn.preprocessing import MinMaxScaler\n",
    "from sklearn.metrics import r2_score\n",
    "from statsmodels.graphics.tsaplots import plot_acf, plot_pacf\n",
    "from statsmodels.tsa.stattools import adfuller\n",
    "import datetime as dt"
   ]
  },
  {
   "cell_type": "markdown",
   "id": "026e2c65-21ce-4c75-9d68-575001044acd",
   "metadata": {},
   "source": [
    "## Step 1"
   ]
  },
  {
   "cell_type": "markdown",
   "id": "cec32b4c-6b46-4129-9e3b-06f8efe6db9a",
   "metadata": {},
   "source": [
    "## 1. a"
   ]
  },
  {
   "cell_type": "markdown",
   "id": "49d86cc2-c939-48ea-bb29-66ea87e48359",
   "metadata": {},
   "source": [
    "Let us download the data for the Titan stock"
   ]
  },
  {
   "cell_type": "code",
   "execution_count": 81,
   "id": "94f13e55-ad39-4238-b477-102e082c1a54",
   "metadata": {},
   "outputs": [],
   "source": [
    "stock_data = yf.Ticker(\"TITAN.NS\").history(start=\"2017-01-01\", end=\"2024-12-31\")"
   ]
  },
  {
   "cell_type": "code",
   "execution_count": 83,
   "id": "1f5c9784-4698-43fe-8260-6fb1a24c2df3",
   "metadata": {},
   "outputs": [
    {
     "data": {
      "text/html": [
       "<div>\n",
       "<style scoped>\n",
       "    .dataframe tbody tr th:only-of-type {\n",
       "        vertical-align: middle;\n",
       "    }\n",
       "\n",
       "    .dataframe tbody tr th {\n",
       "        vertical-align: top;\n",
       "    }\n",
       "\n",
       "    .dataframe thead th {\n",
       "        text-align: right;\n",
       "    }\n",
       "</style>\n",
       "<table border=\"1\" class=\"dataframe\">\n",
       "  <thead>\n",
       "    <tr style=\"text-align: right;\">\n",
       "      <th></th>\n",
       "      <th>Open</th>\n",
       "      <th>High</th>\n",
       "      <th>Low</th>\n",
       "      <th>Close</th>\n",
       "      <th>Volume</th>\n",
       "      <th>Dividends</th>\n",
       "      <th>Stock Splits</th>\n",
       "    </tr>\n",
       "    <tr>\n",
       "      <th>Date</th>\n",
       "      <th></th>\n",
       "      <th></th>\n",
       "      <th></th>\n",
       "      <th></th>\n",
       "      <th></th>\n",
       "      <th></th>\n",
       "      <th></th>\n",
       "    </tr>\n",
       "  </thead>\n",
       "  <tbody>\n",
       "    <tr>\n",
       "      <th>2017-01-02 00:00:00+05:30</th>\n",
       "      <td>315.502586</td>\n",
       "      <td>322.552096</td>\n",
       "      <td>312.193610</td>\n",
       "      <td>320.298187</td>\n",
       "      <td>656084</td>\n",
       "      <td>0.0</td>\n",
       "      <td>0.0</td>\n",
       "    </tr>\n",
       "    <tr>\n",
       "      <th>2017-01-03 00:00:00+05:30</th>\n",
       "      <td>327.060050</td>\n",
       "      <td>340.104093</td>\n",
       "      <td>325.285672</td>\n",
       "      <td>333.917755</td>\n",
       "      <td>2773103</td>\n",
       "      <td>0.0</td>\n",
       "      <td>0.0</td>\n",
       "    </tr>\n",
       "    <tr>\n",
       "      <th>2017-01-04 00:00:00+05:30</th>\n",
       "      <td>336.075739</td>\n",
       "      <td>347.153596</td>\n",
       "      <td>334.924812</td>\n",
       "      <td>344.947601</td>\n",
       "      <td>2371009</td>\n",
       "      <td>0.0</td>\n",
       "      <td>0.0</td>\n",
       "    </tr>\n",
       "    <tr>\n",
       "      <th>2017-01-05 00:00:00+05:30</th>\n",
       "      <td>345.762851</td>\n",
       "      <td>346.721971</td>\n",
       "      <td>340.919305</td>\n",
       "      <td>343.412994</td>\n",
       "      <td>1187872</td>\n",
       "      <td>0.0</td>\n",
       "      <td>0.0</td>\n",
       "    </tr>\n",
       "    <tr>\n",
       "      <th>2017-01-06 00:00:00+05:30</th>\n",
       "      <td>344.324149</td>\n",
       "      <td>348.160630</td>\n",
       "      <td>338.185786</td>\n",
       "      <td>340.679504</td>\n",
       "      <td>1089982</td>\n",
       "      <td>0.0</td>\n",
       "      <td>0.0</td>\n",
       "    </tr>\n",
       "    <tr>\n",
       "      <th>...</th>\n",
       "      <td>...</td>\n",
       "      <td>...</td>\n",
       "      <td>...</td>\n",
       "      <td>...</td>\n",
       "      <td>...</td>\n",
       "      <td>...</td>\n",
       "      <td>...</td>\n",
       "    </tr>\n",
       "    <tr>\n",
       "      <th>2024-12-23 00:00:00+05:30</th>\n",
       "      <td>3378.100098</td>\n",
       "      <td>3406.300049</td>\n",
       "      <td>3336.649902</td>\n",
       "      <td>3396.949951</td>\n",
       "      <td>691202</td>\n",
       "      <td>0.0</td>\n",
       "      <td>0.0</td>\n",
       "    </tr>\n",
       "    <tr>\n",
       "      <th>2024-12-24 00:00:00+05:30</th>\n",
       "      <td>3385.350098</td>\n",
       "      <td>3419.000000</td>\n",
       "      <td>3338.199951</td>\n",
       "      <td>3353.399902</td>\n",
       "      <td>485245</td>\n",
       "      <td>0.0</td>\n",
       "      <td>0.0</td>\n",
       "    </tr>\n",
       "    <tr>\n",
       "      <th>2024-12-26 00:00:00+05:30</th>\n",
       "      <td>3365.000000</td>\n",
       "      <td>3371.850098</td>\n",
       "      <td>3312.649902</td>\n",
       "      <td>3323.050049</td>\n",
       "      <td>637094</td>\n",
       "      <td>0.0</td>\n",
       "      <td>0.0</td>\n",
       "    </tr>\n",
       "    <tr>\n",
       "      <th>2024-12-27 00:00:00+05:30</th>\n",
       "      <td>3319.850098</td>\n",
       "      <td>3345.000000</td>\n",
       "      <td>3301.100098</td>\n",
       "      <td>3309.199951</td>\n",
       "      <td>568989</td>\n",
       "      <td>0.0</td>\n",
       "      <td>0.0</td>\n",
       "    </tr>\n",
       "    <tr>\n",
       "      <th>2024-12-30 00:00:00+05:30</th>\n",
       "      <td>3309.949951</td>\n",
       "      <td>3317.949951</td>\n",
       "      <td>3247.449951</td>\n",
       "      <td>3257.350098</td>\n",
       "      <td>941859</td>\n",
       "      <td>0.0</td>\n",
       "      <td>0.0</td>\n",
       "    </tr>\n",
       "  </tbody>\n",
       "</table>\n",
       "<p>1974 rows × 7 columns</p>\n",
       "</div>"
      ],
      "text/plain": [
       "                                  Open         High          Low        Close  \\\n",
       "Date                                                                            \n",
       "2017-01-02 00:00:00+05:30   315.502586   322.552096   312.193610   320.298187   \n",
       "2017-01-03 00:00:00+05:30   327.060050   340.104093   325.285672   333.917755   \n",
       "2017-01-04 00:00:00+05:30   336.075739   347.153596   334.924812   344.947601   \n",
       "2017-01-05 00:00:00+05:30   345.762851   346.721971   340.919305   343.412994   \n",
       "2017-01-06 00:00:00+05:30   344.324149   348.160630   338.185786   340.679504   \n",
       "...                                ...          ...          ...          ...   \n",
       "2024-12-23 00:00:00+05:30  3378.100098  3406.300049  3336.649902  3396.949951   \n",
       "2024-12-24 00:00:00+05:30  3385.350098  3419.000000  3338.199951  3353.399902   \n",
       "2024-12-26 00:00:00+05:30  3365.000000  3371.850098  3312.649902  3323.050049   \n",
       "2024-12-27 00:00:00+05:30  3319.850098  3345.000000  3301.100098  3309.199951   \n",
       "2024-12-30 00:00:00+05:30  3309.949951  3317.949951  3247.449951  3257.350098   \n",
       "\n",
       "                            Volume  Dividends  Stock Splits  \n",
       "Date                                                         \n",
       "2017-01-02 00:00:00+05:30   656084        0.0           0.0  \n",
       "2017-01-03 00:00:00+05:30  2773103        0.0           0.0  \n",
       "2017-01-04 00:00:00+05:30  2371009        0.0           0.0  \n",
       "2017-01-05 00:00:00+05:30  1187872        0.0           0.0  \n",
       "2017-01-06 00:00:00+05:30  1089982        0.0           0.0  \n",
       "...                            ...        ...           ...  \n",
       "2024-12-23 00:00:00+05:30   691202        0.0           0.0  \n",
       "2024-12-24 00:00:00+05:30   485245        0.0           0.0  \n",
       "2024-12-26 00:00:00+05:30   637094        0.0           0.0  \n",
       "2024-12-27 00:00:00+05:30   568989        0.0           0.0  \n",
       "2024-12-30 00:00:00+05:30   941859        0.0           0.0  \n",
       "\n",
       "[1974 rows x 7 columns]"
      ]
     },
     "execution_count": 83,
     "metadata": {},
     "output_type": "execute_result"
    }
   ],
   "source": [
    "stock_data"
   ]
  },
  {
   "cell_type": "code",
   "execution_count": 85,
   "id": "bcb665c1-a29e-40fc-ad0f-27578f7ad9f0",
   "metadata": {},
   "outputs": [
    {
     "data": {
      "text/html": [
       "<div>\n",
       "<style scoped>\n",
       "    .dataframe tbody tr th:only-of-type {\n",
       "        vertical-align: middle;\n",
       "    }\n",
       "\n",
       "    .dataframe tbody tr th {\n",
       "        vertical-align: top;\n",
       "    }\n",
       "\n",
       "    .dataframe thead th {\n",
       "        text-align: right;\n",
       "    }\n",
       "</style>\n",
       "<table border=\"1\" class=\"dataframe\">\n",
       "  <thead>\n",
       "    <tr style=\"text-align: right;\">\n",
       "      <th></th>\n",
       "      <th>Open</th>\n",
       "      <th>High</th>\n",
       "      <th>Low</th>\n",
       "      <th>Close</th>\n",
       "      <th>Volume</th>\n",
       "      <th>Dividends</th>\n",
       "      <th>Stock Splits</th>\n",
       "    </tr>\n",
       "    <tr>\n",
       "      <th>Date</th>\n",
       "      <th></th>\n",
       "      <th></th>\n",
       "      <th></th>\n",
       "      <th></th>\n",
       "      <th></th>\n",
       "      <th></th>\n",
       "      <th></th>\n",
       "    </tr>\n",
       "  </thead>\n",
       "  <tbody>\n",
       "    <tr>\n",
       "      <th>2017-01-02 00:00:00+05:30</th>\n",
       "      <td>315.502586</td>\n",
       "      <td>322.552096</td>\n",
       "      <td>312.193610</td>\n",
       "      <td>320.298187</td>\n",
       "      <td>656084</td>\n",
       "      <td>0.0</td>\n",
       "      <td>0.0</td>\n",
       "    </tr>\n",
       "    <tr>\n",
       "      <th>2017-01-03 00:00:00+05:30</th>\n",
       "      <td>327.060050</td>\n",
       "      <td>340.104093</td>\n",
       "      <td>325.285672</td>\n",
       "      <td>333.917755</td>\n",
       "      <td>2773103</td>\n",
       "      <td>0.0</td>\n",
       "      <td>0.0</td>\n",
       "    </tr>\n",
       "    <tr>\n",
       "      <th>2017-01-04 00:00:00+05:30</th>\n",
       "      <td>336.075739</td>\n",
       "      <td>347.153596</td>\n",
       "      <td>334.924812</td>\n",
       "      <td>344.947601</td>\n",
       "      <td>2371009</td>\n",
       "      <td>0.0</td>\n",
       "      <td>0.0</td>\n",
       "    </tr>\n",
       "    <tr>\n",
       "      <th>2017-01-05 00:00:00+05:30</th>\n",
       "      <td>345.762851</td>\n",
       "      <td>346.721971</td>\n",
       "      <td>340.919305</td>\n",
       "      <td>343.412994</td>\n",
       "      <td>1187872</td>\n",
       "      <td>0.0</td>\n",
       "      <td>0.0</td>\n",
       "    </tr>\n",
       "    <tr>\n",
       "      <th>2017-01-06 00:00:00+05:30</th>\n",
       "      <td>344.324149</td>\n",
       "      <td>348.160630</td>\n",
       "      <td>338.185786</td>\n",
       "      <td>340.679504</td>\n",
       "      <td>1089982</td>\n",
       "      <td>0.0</td>\n",
       "      <td>0.0</td>\n",
       "    </tr>\n",
       "  </tbody>\n",
       "</table>\n",
       "</div>"
      ],
      "text/plain": [
       "                                 Open        High         Low       Close  \\\n",
       "Date                                                                        \n",
       "2017-01-02 00:00:00+05:30  315.502586  322.552096  312.193610  320.298187   \n",
       "2017-01-03 00:00:00+05:30  327.060050  340.104093  325.285672  333.917755   \n",
       "2017-01-04 00:00:00+05:30  336.075739  347.153596  334.924812  344.947601   \n",
       "2017-01-05 00:00:00+05:30  345.762851  346.721971  340.919305  343.412994   \n",
       "2017-01-06 00:00:00+05:30  344.324149  348.160630  338.185786  340.679504   \n",
       "\n",
       "                            Volume  Dividends  Stock Splits  \n",
       "Date                                                         \n",
       "2017-01-02 00:00:00+05:30   656084        0.0           0.0  \n",
       "2017-01-03 00:00:00+05:30  2773103        0.0           0.0  \n",
       "2017-01-04 00:00:00+05:30  2371009        0.0           0.0  \n",
       "2017-01-05 00:00:00+05:30  1187872        0.0           0.0  \n",
       "2017-01-06 00:00:00+05:30  1089982        0.0           0.0  "
      ]
     },
     "execution_count": 85,
     "metadata": {},
     "output_type": "execute_result"
    }
   ],
   "source": [
    "stock_data.head() #first look at the data"
   ]
  },
  {
   "cell_type": "markdown",
   "id": "0c8f34b3-0fa6-422a-adbb-c08daa57a678",
   "metadata": {},
   "source": [
    "Let us consider the closing prices for the analysis and model building to follow."
   ]
  },
  {
   "cell_type": "code",
   "execution_count": 88,
   "id": "da7aed8f-9113-4391-9188-f38f94959985",
   "metadata": {},
   "outputs": [],
   "source": [
    "stock_prices = stock_data[\"Close\"]"
   ]
  },
  {
   "cell_type": "markdown",
   "id": "ef195581-c8ce-440d-8a1f-43f68fd8edd8",
   "metadata": {},
   "source": [
    "Let us perform some exploratory analysis on the closing prices."
   ]
  },
  {
   "cell_type": "code",
   "execution_count": 91,
   "id": "9e66914e-eb02-4fe3-b9b0-fdc7083b4369",
   "metadata": {},
   "outputs": [
    {
     "data": {
      "text/plain": [
       "count    1974.000000\n",
       "mean     1777.024130\n",
       "std      1020.301013\n",
       "min       320.298187\n",
       "25%       905.107513\n",
       "50%      1420.720703\n",
       "75%      2562.747559\n",
       "max      3854.039062\n",
       "Name: Close, dtype: float64"
      ]
     },
     "execution_count": 91,
     "metadata": {},
     "output_type": "execute_result"
    }
   ],
   "source": [
    "stock_prices.describe() #summary statistics"
   ]
  },
  {
   "cell_type": "code",
   "execution_count": 93,
   "id": "fee08d96-8401-49ad-8262-15755b94f94b",
   "metadata": {},
   "outputs": [
    {
     "data": {
      "image/png": "[encoded data removed]",
      "text/plain": [
       "<Figure size 640x480 with 1 Axes>"
      ]
     },
     "metadata": {},
     "output_type": "display_data"
    }
   ],
   "source": [
    "stock_prices.plot()\n",
    "plt.title(\"Titan Daily Closing Prices\")\n",
    "plt.grid()"
   ]
  },
  {
   "cell_type": "markdown",
   "id": "b18d14d3-e244-45c7-a6d9-84c19e12eed2",
   "metadata": {},
   "source": [
    "Despite some prices corrections, there appears to be a general rising trend in this stock over the years"
   ]
  },
  {
   "cell_type": "markdown",
   "id": "71af7c2a-c9f8-43be-9d1a-0e0b201475bb",
   "metadata": {},
   "source": [
    "Let us now look at the skew and kurtosis."
   ]
  },
  {
   "cell_type": "code",
   "execution_count": 97,
   "id": "9cff35c3-dfbd-4095-a919-674663e382ef",
   "metadata": {},
   "outputs": [
    {
     "data": {
      "text/plain": [
       "0.4788396459924155"
      ]
     },
     "execution_count": 97,
     "metadata": {},
     "output_type": "execute_result"
    }
   ],
   "source": [
    "stock_prices.skew()"
   ]
  },
  {
   "cell_type": "code",
   "execution_count": 99,
   "id": "84dcbe17-95dc-4c73-a7e3-83a70db77fdc",
   "metadata": {},
   "outputs": [
    {
     "data": {
      "text/plain": [
       "-1.1356475289698953"
      ]
     },
     "execution_count": 99,
     "metadata": {},
     "output_type": "execute_result"
    }
   ],
   "source": [
    "stock_prices.kurtosis()"
   ]
  },
  {
   "cell_type": "markdown",
   "id": "9bb303d1-7066-4e7a-a873-98024d442e66",
   "metadata": {},
   "source": [
    "Let us now check for stationarity"
   ]
  },
  {
   "cell_type": "code",
   "execution_count": 102,
   "id": "0de0daaa-6f2f-4382-a3aa-2fece5871a98",
   "metadata": {},
   "outputs": [
    {
     "data": {
      "text/plain": [
       "(-0.6927549164710374,\n",
       " 0.8486172629177092,\n",
       " 4,\n",
       " {'1%': -3.433675467561267,\n",
       "  '5%': -2.863008999826203,\n",
       "  '10%': -2.5675520348463654})"
      ]
     },
     "execution_count": 102,
     "metadata": {},
     "output_type": "execute_result"
    }
   ],
   "source": [
    "adf_result = adfuller(stock_prices)\n",
    "adf_statistic = adf_result[0] \n",
    "p_value = adf_result[1]\n",
    "used_lags = adf_result[2] \n",
    "critical_values = adf_result[4] \n",
    "\n",
    "adf_statistic, p_value, used_lags, critical_values"
   ]
  },
  {
   "cell_type": "markdown",
   "id": "a0ed8357-3237-4fa4-824a-d241655053ee",
   "metadata": {},
   "source": [
    "The series is not stationary, as the p-value is greater than 0.05. The ADF statistic is also higher than all critical values."
   ]
  },
  {
   "cell_type": "markdown",
   "id": "28d2fec8-817f-459f-939b-a181d4ad8e91",
   "metadata": {},
   "source": [
    "Let us check for the presence of persistence in the series"
   ]
  },
  {
   "cell_type": "code",
   "execution_count": 106,
   "id": "fd68971c-30e2-488e-99b3-1a69e39c056e",
   "metadata": {},
   "outputs": [
    {
     "name": "stdout",
     "output_type": "stream",
     "text": [
      "0.9995098501235516\n",
      "0.9974090942183587\n",
      "0.994880270373017\n",
      "0.9763846324044606\n",
      "0.9581783377427333\n",
      "0.9292831670282055\n",
      "0.9138901418023251\n",
      "0.8339297669499727\n"
     ]
    }
   ],
   "source": [
    "for i in [1, 5, 10, 50, 100, 200, 500, 1000]:\n",
    "    print(stock_prices.autocorr(lag = i))"
   ]
  },
  {
   "cell_type": "markdown",
   "id": "176e7c3a-6d8e-44c6-9237-b52a26bbb8b7",
   "metadata": {},
   "source": [
    "Clearly, high autocorrelation is present in the stock."
   ]
  },
  {
   "cell_type": "code",
   "execution_count": 109,
   "id": "32d75e42-3656-4ef2-9573-250bbb79f761",
   "metadata": {},
   "outputs": [
    {
     "data": {
      "text/plain": [
       "Text(0.5, 1.0, 'Histogram of Titan Closing Prices')"
      ]
     },
     "execution_count": 109,
     "metadata": {},
     "output_type": "execute_result"
    },
    {
     "data": {
      "image/png": "[encoded data removed]",
      "text/plain": [
       "<Figure size 640x480 with 1 Axes>"
      ]
     },
     "metadata": {},
     "output_type": "display_data"
    }
   ],
   "source": [
    "stock_prices.hist()\n",
    "plt.title(\"Histogram of Titan Closing Prices\")"
   ]
  },
  {
   "cell_type": "markdown",
   "id": "b5dcfa36-86c7-49d0-adf8-d48f5ffb1bda",
   "metadata": {},
   "source": [
    "Let us try to build predictive models on this dataset to predict future prices"
   ]
  },
  {
   "cell_type": "markdown",
   "id": "db95b782-14ac-4dc1-853d-b0a7b42fd23c",
   "metadata": {},
   "source": [
    "Suppose we consider that data before 2023 should be used for training, and data 2023 onwards for testing, we get a 75:25 train-test split. We would have 1484 data points in the train set, and 490 in the test set."
   ]
  },
  {
   "cell_type": "code",
   "execution_count": 73,
   "id": "c544b0d7-a38d-4eb4-bfe7-b34f618a4b66",
   "metadata": {},
   "outputs": [],
   "source": [
    "train = stock_prices[stock_prices.index<\"2023-01-01\"]\n",
    "test = stock_prices[stock_prices.index>\"2023-01-01\"]"
   ]
  },
  {
   "cell_type": "code",
   "execution_count": 133,
   "id": "3370e5c0-9340-418f-a92b-fced0b61b362",
   "metadata": {},
   "outputs": [
    {
     "data": {
      "text/plain": [
       "0.75177304964539"
      ]
     },
     "execution_count": 133,
     "metadata": {},
     "output_type": "execute_result"
    }
   ],
   "source": [
    "len(train)/(len(train)+len(test))"
   ]
  },
  {
   "cell_type": "code",
   "execution_count": 135,
   "id": "5ad046c7-1377-4a86-818a-0c29c9461fa5",
   "metadata": {},
   "outputs": [
    {
     "data": {
      "text/plain": [
       "1484"
      ]
     },
     "execution_count": 135,
     "metadata": {},
     "output_type": "execute_result"
    }
   ],
   "source": [
    "len(train)"
   ]
  },
  {
   "cell_type": "code",
   "execution_count": 137,
   "id": "ec0167e0-7695-49ee-94dc-149002b8ea3e",
   "metadata": {},
   "outputs": [
    {
     "data": {
      "text/plain": [
       "490"
      ]
     },
     "execution_count": 137,
     "metadata": {},
     "output_type": "execute_result"
    }
   ],
   "source": [
    "len(test)"
   ]
  },
  {
   "cell_type": "markdown",
   "id": "31755992-dd2f-47fb-834b-a3b9174fcafc",
   "metadata": {},
   "source": [
    "## 1. b and 1. c"
   ]
  },
  {
   "cell_type": "markdown",
   "id": "e8a7702a-3a36-4be3-93b8-d267e51b3516",
   "metadata": {},
   "source": [
    "Now, let us build models to forecast future prices of this stock. Here, there will be some leakage of data between the train and test data sets. I ensure data leakage in the following ways:\n",
    "1. I scale the entire data before splitting it into train and test sets.\n",
    "2. I use random shuffling in when performing cross-validation during training."
   ]
  },
  {
   "cell_type": "code",
   "execution_count": 124,
   "id": "4f1e0edf-374d-4544-87c7-5b98c8859312",
   "metadata": {},
   "outputs": [],
   "source": [
    "scaler = MinMaxScaler()\n",
    "stock_prices_scaled = scaler.fit_transform(stock_prices.to_frame())"
   ]
  },
  {
   "cell_type": "code",
   "execution_count": 126,
   "id": "feb08890-533e-4ad6-99f3-575bd4ab8020",
   "metadata": {},
   "outputs": [
    {
     "data": {
      "text/plain": [
       "array([[0.        ],\n",
       "       [0.00385415],\n",
       "       [0.00697544],\n",
       "       ...,\n",
       "       [0.84973742],\n",
       "       [0.84581804],\n",
       "       [0.83114524]])"
      ]
     },
     "execution_count": 126,
     "metadata": {},
     "output_type": "execute_result"
    }
   ],
   "source": [
    "stock_prices_scaled"
   ]
  },
  {
   "cell_type": "markdown",
   "id": "3fd8d2a3-289b-48f1-8386-c3eefac56734",
   "metadata": {},
   "source": [
    "Now, the train-test split happens. Here, I use the train-test ratio described just a few cells above to achieve a 75:25 chronological split."
   ]
  },
  {
   "cell_type": "code",
   "execution_count": 187,
   "id": "6c9cdebc-5434-48ee-8ad7-f62986dc7289",
   "metadata": {},
   "outputs": [],
   "source": [
    "train_scaled = stock_prices_scaled[:1484]\n",
    "test_scaled = stock_prices_scaled[1484:]"
   ]
  },
  {
   "cell_type": "code",
   "execution_count": 189,
   "id": "c20f7532-d10c-4614-919f-8e5e8695d06d",
   "metadata": {},
   "outputs": [
    {
     "data": {
      "text/plain": [
       "1484"
      ]
     },
     "execution_count": 189,
     "metadata": {},
     "output_type": "execute_result"
    }
   ],
   "source": [
    "len(train_scaled)"
   ]
  },
  {
   "cell_type": "code",
   "execution_count": 191,
   "id": "45381d34-17d5-4271-acb0-38fb54acfd1c",
   "metadata": {},
   "outputs": [
    {
     "data": {
      "text/plain": [
       "490"
      ]
     },
     "execution_count": 191,
     "metadata": {},
     "output_type": "execute_result"
    }
   ],
   "source": [
    "len(test_scaled)"
   ]
  },
  {
   "cell_type": "markdown",
   "id": "ae215627-e5b4-45d3-ab08-de2f6abbf317",
   "metadata": {},
   "source": [
    "First, I build an MLP model."
   ]
  },
  {
   "cell_type": "code",
   "execution_count": 194,
   "id": "0741a109-c984-4fd7-86a1-81ee70be90e7",
   "metadata": {},
   "outputs": [],
   "source": [
    "train_scaled = pd.DataFrame(train_scaled)\n",
    "train_scaled.columns = ['Close']\n",
    "test_scaled = pd.DataFrame(test_scaled)\n",
    "test_scaled.columns = ['Close']"
   ]
  },
  {
   "cell_type": "code",
   "execution_count": 196,
   "id": "74ea6e44-2574-4aed-8cf4-1e64f3bc3647",
   "metadata": {},
   "outputs": [
    {
     "data": {
      "text/html": [
       "<div>\n",
       "<style scoped>\n",
       "    .dataframe tbody tr th:only-of-type {\n",
       "        vertical-align: middle;\n",
       "    }\n",
       "\n",
       "    .dataframe tbody tr th {\n",
       "        vertical-align: top;\n",
       "    }\n",
       "\n",
       "    .dataframe thead th {\n",
       "        text-align: right;\n",
       "    }\n",
       "</style>\n",
       "<table border=\"1\" class=\"dataframe\">\n",
       "  <thead>\n",
       "    <tr style=\"text-align: right;\">\n",
       "      <th></th>\n",
       "      <th>Close</th>\n",
       "    </tr>\n",
       "  </thead>\n",
       "  <tbody>\n",
       "    <tr>\n",
       "      <th>0</th>\n",
       "      <td>0.000000</td>\n",
       "    </tr>\n",
       "    <tr>\n",
       "      <th>1</th>\n",
       "      <td>0.003854</td>\n",
       "    </tr>\n",
       "    <tr>\n",
       "      <th>2</th>\n",
       "      <td>0.006975</td>\n",
       "    </tr>\n",
       "    <tr>\n",
       "      <th>3</th>\n",
       "      <td>0.006541</td>\n",
       "    </tr>\n",
       "    <tr>\n",
       "      <th>4</th>\n",
       "      <td>0.005768</td>\n",
       "    </tr>\n",
       "    <tr>\n",
       "      <th>...</th>\n",
       "      <td>...</td>\n",
       "    </tr>\n",
       "    <tr>\n",
       "      <th>1479</th>\n",
       "      <td>0.604554</td>\n",
       "    </tr>\n",
       "    <tr>\n",
       "      <th>1480</th>\n",
       "      <td>0.610844</td>\n",
       "    </tr>\n",
       "    <tr>\n",
       "      <th>1481</th>\n",
       "      <td>0.632307</td>\n",
       "    </tr>\n",
       "    <tr>\n",
       "      <th>1482</th>\n",
       "      <td>0.624770</td>\n",
       "    </tr>\n",
       "    <tr>\n",
       "      <th>1483</th>\n",
       "      <td>0.637169</td>\n",
       "    </tr>\n",
       "  </tbody>\n",
       "</table>\n",
       "<p>1484 rows × 1 columns</p>\n",
       "</div>"
      ],
      "text/plain": [
       "         Close\n",
       "0     0.000000\n",
       "1     0.003854\n",
       "2     0.006975\n",
       "3     0.006541\n",
       "4     0.005768\n",
       "...        ...\n",
       "1479  0.604554\n",
       "1480  0.610844\n",
       "1481  0.632307\n",
       "1482  0.624770\n",
       "1483  0.637169\n",
       "\n",
       "[1484 rows x 1 columns]"
      ]
     },
     "execution_count": 196,
     "metadata": {},
     "output_type": "execute_result"
    }
   ],
   "source": [
    "train_scaled"
   ]
  },
  {
   "cell_type": "code",
   "execution_count": 198,
   "id": "cb92aa42-f53e-4fc0-b139-703a04a7114c",
   "metadata": {},
   "outputs": [
    {
     "data": {
      "text/plain": [
       "<Axes: >"
      ]
     },
     "execution_count": 198,
     "metadata": {},
     "output_type": "execute_result"
    },
    {
     "data": {
      "image/png": "[encoded data removed]",
      "text/plain": [
       "<Figure size 640x480 with 1 Axes>"
      ]
     },
     "metadata": {},
     "output_type": "display_data"
    }
   ],
   "source": [
    "train_scaled.plot()"
   ]
  },
  {
   "cell_type": "markdown",
   "id": "f6686227-ffe4-4c18-9834-826264e6d1b9",
   "metadata": {},
   "source": [
    "Let us build the features as well as the target for the model. Let the target be the price for the next day. Since the time series has autocorrelation and persistence, I will try to use values from the immediate past few days to predict the prices on the next day. Information from previous days will be incorporated using moving averages."
   ]
  },
  {
   "cell_type": "code",
   "execution_count": 201,
   "id": "c07ad102-01c7-4858-aa8a-5cf4cdf4582d",
   "metadata": {},
   "outputs": [
    {
     "data": {
      "text/html": [
       "<div>\n",
       "<style scoped>\n",
       "    .dataframe tbody tr th:only-of-type {\n",
       "        vertical-align: middle;\n",
       "    }\n",
       "\n",
       "    .dataframe tbody tr th {\n",
       "        vertical-align: top;\n",
       "    }\n",
       "\n",
       "    .dataframe thead th {\n",
       "        text-align: right;\n",
       "    }\n",
       "</style>\n",
       "<table border=\"1\" class=\"dataframe\">\n",
       "  <thead>\n",
       "    <tr style=\"text-align: right;\">\n",
       "      <th></th>\n",
       "      <th>Close</th>\n",
       "      <th>1d_lag</th>\n",
       "      <th>2d_mva</th>\n",
       "      <th>5d_mva</th>\n",
       "      <th>7d_mva</th>\n",
       "      <th>10d_mva</th>\n",
       "      <th>20d_mva</th>\n",
       "      <th>Target</th>\n",
       "    </tr>\n",
       "  </thead>\n",
       "  <tbody>\n",
       "    <tr>\n",
       "      <th>0</th>\n",
       "      <td>0.000000</td>\n",
       "      <td>NaN</td>\n",
       "      <td>NaN</td>\n",
       "      <td>NaN</td>\n",
       "      <td>NaN</td>\n",
       "      <td>NaN</td>\n",
       "      <td>NaN</td>\n",
       "      <td>0.003854</td>\n",
       "    </tr>\n",
       "    <tr>\n",
       "      <th>1</th>\n",
       "      <td>0.003854</td>\n",
       "      <td>0.000000</td>\n",
       "      <td>0.001927</td>\n",
       "      <td>NaN</td>\n",
       "      <td>NaN</td>\n",
       "      <td>NaN</td>\n",
       "      <td>NaN</td>\n",
       "      <td>0.006975</td>\n",
       "    </tr>\n",
       "    <tr>\n",
       "      <th>2</th>\n",
       "      <td>0.006975</td>\n",
       "      <td>0.003854</td>\n",
       "      <td>0.005415</td>\n",
       "      <td>NaN</td>\n",
       "      <td>NaN</td>\n",
       "      <td>NaN</td>\n",
       "      <td>NaN</td>\n",
       "      <td>0.006541</td>\n",
       "    </tr>\n",
       "    <tr>\n",
       "      <th>3</th>\n",
       "      <td>0.006541</td>\n",
       "      <td>0.006975</td>\n",
       "      <td>0.006758</td>\n",
       "      <td>NaN</td>\n",
       "      <td>NaN</td>\n",
       "      <td>NaN</td>\n",
       "      <td>NaN</td>\n",
       "      <td>0.005768</td>\n",
       "    </tr>\n",
       "    <tr>\n",
       "      <th>4</th>\n",
       "      <td>0.005768</td>\n",
       "      <td>0.006541</td>\n",
       "      <td>0.006154</td>\n",
       "      <td>0.004628</td>\n",
       "      <td>NaN</td>\n",
       "      <td>NaN</td>\n",
       "      <td>NaN</td>\n",
       "      <td>0.005605</td>\n",
       "    </tr>\n",
       "    <tr>\n",
       "      <th>...</th>\n",
       "      <td>...</td>\n",
       "      <td>...</td>\n",
       "      <td>...</td>\n",
       "      <td>...</td>\n",
       "      <td>...</td>\n",
       "      <td>...</td>\n",
       "      <td>...</td>\n",
       "      <td>...</td>\n",
       "    </tr>\n",
       "    <tr>\n",
       "      <th>1479</th>\n",
       "      <td>0.604554</td>\n",
       "      <td>0.605100</td>\n",
       "      <td>0.604827</td>\n",
       "      <td>0.606762</td>\n",
       "      <td>0.607830</td>\n",
       "      <td>0.613751</td>\n",
       "      <td>0.613751</td>\n",
       "      <td>0.610844</td>\n",
       "    </tr>\n",
       "    <tr>\n",
       "      <th>1480</th>\n",
       "      <td>0.610844</td>\n",
       "      <td>0.604554</td>\n",
       "      <td>0.607699</td>\n",
       "      <td>0.606504</td>\n",
       "      <td>0.608659</td>\n",
       "      <td>0.611724</td>\n",
       "      <td>0.611724</td>\n",
       "      <td>0.632307</td>\n",
       "    </tr>\n",
       "    <tr>\n",
       "      <th>1481</th>\n",
       "      <td>0.632307</td>\n",
       "      <td>0.610844</td>\n",
       "      <td>0.621576</td>\n",
       "      <td>0.611578</td>\n",
       "      <td>0.610994</td>\n",
       "      <td>0.611417</td>\n",
       "      <td>0.611417</td>\n",
       "      <td>0.624770</td>\n",
       "    </tr>\n",
       "    <tr>\n",
       "      <th>1482</th>\n",
       "      <td>0.624770</td>\n",
       "      <td>0.632307</td>\n",
       "      <td>0.628539</td>\n",
       "      <td>0.615515</td>\n",
       "      <td>0.612800</td>\n",
       "      <td>0.612273</td>\n",
       "      <td>0.612273</td>\n",
       "      <td>0.637169</td>\n",
       "    </tr>\n",
       "    <tr>\n",
       "      <th>1483</th>\n",
       "      <td>0.637169</td>\n",
       "      <td>0.624770</td>\n",
       "      <td>0.630969</td>\n",
       "      <td>0.621929</td>\n",
       "      <td>0.617119</td>\n",
       "      <td>0.615486</td>\n",
       "      <td>0.615486</td>\n",
       "      <td>NaN</td>\n",
       "    </tr>\n",
       "  </tbody>\n",
       "</table>\n",
       "<p>1484 rows × 8 columns</p>\n",
       "</div>"
      ],
      "text/plain": [
       "         Close    1d_lag    2d_mva    5d_mva    7d_mva   10d_mva   20d_mva  \\\n",
       "0     0.000000       NaN       NaN       NaN       NaN       NaN       NaN   \n",
       "1     0.003854  0.000000  0.001927       NaN       NaN       NaN       NaN   \n",
       "2     0.006975  0.003854  0.005415       NaN       NaN       NaN       NaN   \n",
       "3     0.006541  0.006975  0.006758       NaN       NaN       NaN       NaN   \n",
       "4     0.005768  0.006541  0.006154  0.004628       NaN       NaN       NaN   \n",
       "...        ...       ...       ...       ...       ...       ...       ...   \n",
       "1479  0.604554  0.605100  0.604827  0.606762  0.607830  0.613751  0.613751   \n",
       "1480  0.610844  0.604554  0.607699  0.606504  0.608659  0.611724  0.611724   \n",
       "1481  0.632307  0.610844  0.621576  0.611578  0.610994  0.611417  0.611417   \n",
       "1482  0.624770  0.632307  0.628539  0.615515  0.612800  0.612273  0.612273   \n",
       "1483  0.637169  0.624770  0.630969  0.621929  0.617119  0.615486  0.615486   \n",
       "\n",
       "        Target  \n",
       "0     0.003854  \n",
       "1     0.006975  \n",
       "2     0.006541  \n",
       "3     0.005768  \n",
       "4     0.005605  \n",
       "...        ...  \n",
       "1479  0.610844  \n",
       "1480  0.632307  \n",
       "1481  0.624770  \n",
       "1482  0.637169  \n",
       "1483       NaN  \n",
       "\n",
       "[1484 rows x 8 columns]"
      ]
     },
     "execution_count": 201,
     "metadata": {},
     "output_type": "execute_result"
    }
   ],
   "source": [
    "train_scaled[\"1d_lag\"] = train_scaled[\"Close\"].shift(1)\n",
    "train_scaled[\"2d_mva\"] = train_scaled[\"Close\"].rolling(2).mean()\n",
    "train_scaled[\"5d_mva\"] = train_scaled[\"Close\"].rolling(5).mean()\n",
    "train_scaled[\"7d_mva\"] = train_scaled[\"Close\"].rolling(7).mean()\n",
    "train_scaled[\"10d_mva\"] = train_scaled[\"Close\"].rolling(10).mean()\n",
    "train_scaled[\"20d_mva\"] = train_scaled[\"Close\"].rolling(10).mean()\n",
    "train_scaled[\"Target\"] = train_scaled[\"Close\"].shift(-1)\n",
    "train_scaled"
   ]
  },
  {
   "cell_type": "markdown",
   "id": "e7ba7db1-fb3e-4946-ac60-9859b6b59be3",
   "metadata": {},
   "source": [
    "Now, let us drop all null values"
   ]
  },
  {
   "cell_type": "code",
   "execution_count": 204,
   "id": "a75ceb7f-72d6-4dd9-8b00-1473505f2a70",
   "metadata": {},
   "outputs": [],
   "source": [
    "train_scaled.dropna(inplace=True)"
   ]
  },
  {
   "cell_type": "code",
   "execution_count": 206,
   "id": "78f6358f-689b-483c-8cc2-c9ab39285736",
   "metadata": {},
   "outputs": [
    {
     "data": {
      "text/html": [
       "<div>\n",
       "<style scoped>\n",
       "    .dataframe tbody tr th:only-of-type {\n",
       "        vertical-align: middle;\n",
       "    }\n",
       "\n",
       "    .dataframe tbody tr th {\n",
       "        vertical-align: top;\n",
       "    }\n",
       "\n",
       "    .dataframe thead th {\n",
       "        text-align: right;\n",
       "    }\n",
       "</style>\n",
       "<table border=\"1\" class=\"dataframe\">\n",
       "  <thead>\n",
       "    <tr style=\"text-align: right;\">\n",
       "      <th></th>\n",
       "      <th>Close</th>\n",
       "      <th>1d_lag</th>\n",
       "      <th>2d_mva</th>\n",
       "      <th>5d_mva</th>\n",
       "      <th>7d_mva</th>\n",
       "      <th>10d_mva</th>\n",
       "      <th>20d_mva</th>\n",
       "      <th>Target</th>\n",
       "    </tr>\n",
       "  </thead>\n",
       "  <tbody>\n",
       "    <tr>\n",
       "      <th>9</th>\n",
       "      <td>0.006623</td>\n",
       "      <td>0.008075</td>\n",
       "      <td>0.007349</td>\n",
       "      <td>0.007008</td>\n",
       "      <td>0.006764</td>\n",
       "      <td>0.005818</td>\n",
       "      <td>0.005818</td>\n",
       "      <td>0.007844</td>\n",
       "    </tr>\n",
       "    <tr>\n",
       "      <th>10</th>\n",
       "      <td>0.007844</td>\n",
       "      <td>0.006623</td>\n",
       "      <td>0.007233</td>\n",
       "      <td>0.007456</td>\n",
       "      <td>0.006950</td>\n",
       "      <td>0.006602</td>\n",
       "      <td>0.006602</td>\n",
       "      <td>0.007057</td>\n",
       "    </tr>\n",
       "    <tr>\n",
       "      <th>11</th>\n",
       "      <td>0.007057</td>\n",
       "      <td>0.007844</td>\n",
       "      <td>0.007450</td>\n",
       "      <td>0.007374</td>\n",
       "      <td>0.007134</td>\n",
       "      <td>0.006923</td>\n",
       "      <td>0.006923</td>\n",
       "      <td>0.008970</td>\n",
       "    </tr>\n",
       "    <tr>\n",
       "      <th>12</th>\n",
       "      <td>0.008970</td>\n",
       "      <td>0.007057</td>\n",
       "      <td>0.008014</td>\n",
       "      <td>0.007714</td>\n",
       "      <td>0.007615</td>\n",
       "      <td>0.007122</td>\n",
       "      <td>0.007122</td>\n",
       "      <td>0.010517</td>\n",
       "    </tr>\n",
       "    <tr>\n",
       "      <th>13</th>\n",
       "      <td>0.010517</td>\n",
       "      <td>0.008970</td>\n",
       "      <td>0.009744</td>\n",
       "      <td>0.008202</td>\n",
       "      <td>0.008051</td>\n",
       "      <td>0.007520</td>\n",
       "      <td>0.007520</td>\n",
       "      <td>0.007260</td>\n",
       "    </tr>\n",
       "    <tr>\n",
       "      <th>...</th>\n",
       "      <td>...</td>\n",
       "      <td>...</td>\n",
       "      <td>...</td>\n",
       "      <td>...</td>\n",
       "      <td>...</td>\n",
       "      <td>...</td>\n",
       "      <td>...</td>\n",
       "      <td>...</td>\n",
       "    </tr>\n",
       "    <tr>\n",
       "      <th>1478</th>\n",
       "      <td>0.605100</td>\n",
       "      <td>0.605086</td>\n",
       "      <td>0.605093</td>\n",
       "      <td>0.609043</td>\n",
       "      <td>0.609495</td>\n",
       "      <td>0.616653</td>\n",
       "      <td>0.616653</td>\n",
       "      <td>0.604554</td>\n",
       "    </tr>\n",
       "    <tr>\n",
       "      <th>1479</th>\n",
       "      <td>0.604554</td>\n",
       "      <td>0.605100</td>\n",
       "      <td>0.604827</td>\n",
       "      <td>0.606762</td>\n",
       "      <td>0.607830</td>\n",
       "      <td>0.613751</td>\n",
       "      <td>0.613751</td>\n",
       "      <td>0.610844</td>\n",
       "    </tr>\n",
       "    <tr>\n",
       "      <th>1480</th>\n",
       "      <td>0.610844</td>\n",
       "      <td>0.604554</td>\n",
       "      <td>0.607699</td>\n",
       "      <td>0.606504</td>\n",
       "      <td>0.608659</td>\n",
       "      <td>0.611724</td>\n",
       "      <td>0.611724</td>\n",
       "      <td>0.632307</td>\n",
       "    </tr>\n",
       "    <tr>\n",
       "      <th>1481</th>\n",
       "      <td>0.632307</td>\n",
       "      <td>0.610844</td>\n",
       "      <td>0.621576</td>\n",
       "      <td>0.611578</td>\n",
       "      <td>0.610994</td>\n",
       "      <td>0.611417</td>\n",
       "      <td>0.611417</td>\n",
       "      <td>0.624770</td>\n",
       "    </tr>\n",
       "    <tr>\n",
       "      <th>1482</th>\n",
       "      <td>0.624770</td>\n",
       "      <td>0.632307</td>\n",
       "      <td>0.628539</td>\n",
       "      <td>0.615515</td>\n",
       "      <td>0.612800</td>\n",
       "      <td>0.612273</td>\n",
       "      <td>0.612273</td>\n",
       "      <td>0.637169</td>\n",
       "    </tr>\n",
       "  </tbody>\n",
       "</table>\n",
       "<p>1474 rows × 8 columns</p>\n",
       "</div>"
      ],
      "text/plain": [
       "         Close    1d_lag    2d_mva    5d_mva    7d_mva   10d_mva   20d_mva  \\\n",
       "9     0.006623  0.008075  0.007349  0.007008  0.006764  0.005818  0.005818   \n",
       "10    0.007844  0.006623  0.007233  0.007456  0.006950  0.006602  0.006602   \n",
       "11    0.007057  0.007844  0.007450  0.007374  0.007134  0.006923  0.006923   \n",
       "12    0.008970  0.007057  0.008014  0.007714  0.007615  0.007122  0.007122   \n",
       "13    0.010517  0.008970  0.009744  0.008202  0.008051  0.007520  0.007520   \n",
       "...        ...       ...       ...       ...       ...       ...       ...   \n",
       "1478  0.605100  0.605086  0.605093  0.609043  0.609495  0.616653  0.616653   \n",
       "1479  0.604554  0.605100  0.604827  0.606762  0.607830  0.613751  0.613751   \n",
       "1480  0.610844  0.604554  0.607699  0.606504  0.608659  0.611724  0.611724   \n",
       "1481  0.632307  0.610844  0.621576  0.611578  0.610994  0.611417  0.611417   \n",
       "1482  0.624770  0.632307  0.628539  0.615515  0.612800  0.612273  0.612273   \n",
       "\n",
       "        Target  \n",
       "9     0.007844  \n",
       "10    0.007057  \n",
       "11    0.008970  \n",
       "12    0.010517  \n",
       "13    0.007260  \n",
       "...        ...  \n",
       "1478  0.604554  \n",
       "1479  0.610844  \n",
       "1480  0.632307  \n",
       "1481  0.624770  \n",
       "1482  0.637169  \n",
       "\n",
       "[1474 rows x 8 columns]"
      ]
     },
     "execution_count": 206,
     "metadata": {},
     "output_type": "execute_result"
    }
   ],
   "source": [
    "train_scaled"
   ]
  },
  {
   "cell_type": "markdown",
   "id": "72348c8e-db6c-4f86-ad54-ef59cdf83d41",
   "metadata": {},
   "source": [
    "Now, to build the MLP"
   ]
  },
  {
   "cell_type": "code",
   "execution_count": 209,
   "id": "ce96a774-f1a9-4e48-8625-fb3e34fc0d81",
   "metadata": {},
   "outputs": [
    {
     "name": "stdout",
     "output_type": "stream",
     "text": [
      "WARNING:tensorflow:From C:\\Users\\susha\\anaconda3\\Lib\\site-packages\\keras\\src\\backend\\common\\global_state.py:82: The name tf.reset_default_graph is deprecated. Please use tf.compat.v1.reset_default_graph instead.\n",
      "\n"
     ]
    }
   ],
   "source": [
    "tf.keras.backend.clear_session()  # We clear the backend to reset the random seed process\n",
    "tf.random.set_seed(42)\n",
    "\n",
    "act_fun = \"relu\"\n",
    "hp_units_1 = 10\n",
    "hp_units_2 = 12\n",
    "hp_units_3 = 6\n",
    "hp_units_4 = 4\n",
    "#n_dropout = 0.2"
   ]
  },
  {
   "cell_type": "code",
   "execution_count": 255,
   "id": "d13a28f3-db99-4e80-8a4f-58702b9bfedd",
   "metadata": {},
   "outputs": [
    {
     "name": "stderr",
     "output_type": "stream",
     "text": [
      "C:\\Users\\susha\\anaconda3\\Lib\\site-packages\\keras\\src\\layers\\core\\dense.py:87: UserWarning: Do not pass an `input_shape`/`input_dim` argument to a layer. When using Sequential models, prefer using an `Input(shape)` object as the first layer in the model instead.\n",
      "  super().__init__(activity_regularizer=activity_regularizer, **kwargs)\n"
     ]
    }
   ],
   "source": [
    "model = tf.keras.models.Sequential()\n",
    "model.add(tf.keras.layers.Dense(units=hp_units_1, activation=act_fun, input_shape=(7,)))\n",
    "#model.add(tf.keras.layers.Dropout(n_dropout))\n",
    "model.add(tf.keras.layers.Dense(units=hp_units_2, activation=act_fun))\n",
    "#model.add(tf.keras.layers.Dropout(n_dropout))\n",
    "model.add(tf.keras.layers.Dense(units=hp_units_3, activation=act_fun))\n",
    "#model.add(tf.keras.layers.Dropout(n_dropout)\n",
    "model.add(tf.keras.layers.Dense(units=hp_units_4, activation=act_fun))\n",
    "model.add(tf.keras.layers.Dense(units=1)) #activation function"
   ]
  },
  {
   "cell_type": "code",
   "execution_count": 265,
   "id": "57c13749-0225-4823-98e7-b223aaf07de4",
   "metadata": {},
   "outputs": [],
   "source": [
    "hp_lr = 1e-4  # Learning rate\n",
    "adam = tf.keras.optimizers.Adam(learning_rate=hp_lr)  # Adam optimizer\n",
    "model.compile(optimizer=adam, loss=\"mse\", metrics=[\"mae\"])"
   ]
  },
  {
   "cell_type": "code",
   "execution_count": 267,
   "id": "dfd139b5-c4fb-48ba-8c87-2555291a10a4",
   "metadata": {},
   "outputs": [],
   "source": [
    "es = tf.keras.callbacks.EarlyStopping(\n",
    "    monitor=\"val_loss\",\n",
    "    mode=\"min\",\n",
    "    verbose=1,\n",
    "    patience=20,\n",
    "    restore_best_weights=True,\n",
    ")"
   ]
  },
  {
   "cell_type": "code",
   "execution_count": 269,
   "id": "bf48a9e5-4441-4dc1-b1f4-9f8ed4d642cc",
   "metadata": {},
   "outputs": [],
   "source": [
    "X_train_scaled = train_scaled[['Close', '1d_lag', '2d_mva', '5d_mva', '7d_mva', '10d_mva', '20d_mva']]\n",
    "y_train_scaled = train_scaled[['Target']]\t"
   ]
  },
  {
   "cell_type": "code",
   "execution_count": 271,
   "id": "af6cb07a-4117-4df9-bbc4-a7199d6d681b",
   "metadata": {},
   "outputs": [
    {
     "name": "stdout",
     "output_type": "stream",
     "text": [
      "Epoch 1/100\n",
      "37/37 - 3s - 74ms/step - loss: 1.3940e-04 - mae: 0.0080 - val_loss: 9.2752e-04 - val_mae: 0.0269\n",
      "Epoch 2/100\n",
      "37/37 - 0s - 7ms/step - loss: 1.1315e-04 - mae: 0.0072 - val_loss: 6.0262e-04 - val_mae: 0.0210\n",
      "Epoch 3/100\n",
      "37/37 - 0s - 7ms/step - loss: 1.0531e-04 - mae: 0.0071 - val_loss: 4.8925e-04 - val_mae: 0.0186\n",
      "Epoch 4/100\n",
      "37/37 - 0s - 6ms/step - loss: 1.0133e-04 - mae: 0.0070 - val_loss: 4.3831e-04 - val_mae: 0.0174\n",
      "Epoch 5/100\n",
      "37/37 - 0s - 6ms/step - loss: 9.8242e-05 - mae: 0.0068 - val_loss: 4.0715e-04 - val_mae: 0.0166\n",
      "Epoch 6/100\n",
      "37/37 - 0s - 7ms/step - loss: 9.5434e-05 - mae: 0.0067 - val_loss: 3.8769e-04 - val_mae: 0.0161\n",
      "Epoch 7/100\n",
      "37/37 - 0s - 6ms/step - loss: 9.3196e-05 - mae: 0.0066 - val_loss: 3.7704e-04 - val_mae: 0.0158\n",
      "Epoch 8/100\n",
      "37/37 - 0s - 6ms/step - loss: 9.1304e-05 - mae: 0.0065 - val_loss: 3.4757e-04 - val_mae: 0.0150\n",
      "Epoch 9/100\n",
      "37/37 - 0s - 7ms/step - loss: 8.9913e-05 - mae: 0.0065 - val_loss: 3.3170e-04 - val_mae: 0.0145\n",
      "Epoch 10/100\n",
      "37/37 - 0s - 8ms/step - loss: 8.8945e-05 - mae: 0.0064 - val_loss: 3.2156e-04 - val_mae: 0.0142\n",
      "Epoch 11/100\n",
      "37/37 - 0s - 7ms/step - loss: 8.8151e-05 - mae: 0.0064 - val_loss: 3.1528e-04 - val_mae: 0.0140\n",
      "Epoch 12/100\n",
      "37/37 - 0s - 7ms/step - loss: 8.7532e-05 - mae: 0.0063 - val_loss: 3.1131e-04 - val_mae: 0.0139\n",
      "Epoch 13/100\n",
      "37/37 - 0s - 7ms/step - loss: 8.7018e-05 - mae: 0.0063 - val_loss: 3.0990e-04 - val_mae: 0.0138\n",
      "Epoch 14/100\n",
      "37/37 - 0s - 7ms/step - loss: 8.6556e-05 - mae: 0.0063 - val_loss: 3.0665e-04 - val_mae: 0.0137\n",
      "Epoch 15/100\n",
      "37/37 - 0s - 6ms/step - loss: 8.6154e-05 - mae: 0.0063 - val_loss: 3.0565e-04 - val_mae: 0.0137\n",
      "Epoch 16/100\n",
      "37/37 - 0s - 6ms/step - loss: 8.5799e-05 - mae: 0.0063 - val_loss: 2.9607e-04 - val_mae: 0.0134\n",
      "Epoch 17/100\n",
      "37/37 - 0s - 6ms/step - loss: 8.5422e-05 - mae: 0.0062 - val_loss: 3.0638e-04 - val_mae: 0.0137\n",
      "Epoch 18/100\n",
      "37/37 - 0s - 6ms/step - loss: 8.5181e-05 - mae: 0.0062 - val_loss: 2.9293e-04 - val_mae: 0.0133\n",
      "Epoch 19/100\n",
      "37/37 - 0s - 6ms/step - loss: 8.4825e-05 - mae: 0.0062 - val_loss: 3.0383e-04 - val_mae: 0.0136\n",
      "Epoch 20/100\n",
      "37/37 - 0s - 6ms/step - loss: 8.4613e-05 - mae: 0.0062 - val_loss: 2.9393e-04 - val_mae: 0.0133\n",
      "Epoch 21/100\n",
      "37/37 - 0s - 6ms/step - loss: 8.4313e-05 - mae: 0.0062 - val_loss: 2.9442e-04 - val_mae: 0.0133\n",
      "Epoch 22/100\n",
      "37/37 - 0s - 6ms/step - loss: 8.4070e-05 - mae: 0.0062 - val_loss: 2.9602e-04 - val_mae: 0.0134\n",
      "Epoch 23/100\n",
      "37/37 - 0s - 6ms/step - loss: 8.3853e-05 - mae: 0.0061 - val_loss: 2.8953e-04 - val_mae: 0.0132\n",
      "Epoch 24/100\n",
      "37/37 - 0s - 6ms/step - loss: 8.3561e-05 - mae: 0.0061 - val_loss: 2.9779e-04 - val_mae: 0.0134\n",
      "Epoch 25/100\n",
      "37/37 - 0s - 6ms/step - loss: 8.3416e-05 - mae: 0.0061 - val_loss: 2.9101e-04 - val_mae: 0.0132\n",
      "Epoch 26/100\n",
      "37/37 - 0s - 7ms/step - loss: 8.3174e-05 - mae: 0.0061 - val_loss: 2.9351e-04 - val_mae: 0.0133\n",
      "Epoch 27/100\n",
      "37/37 - 0s - 6ms/step - loss: 8.2977e-05 - mae: 0.0061 - val_loss: 2.9436e-04 - val_mae: 0.0133\n",
      "Epoch 28/100\n",
      "37/37 - 0s - 6ms/step - loss: 8.2825e-05 - mae: 0.0061 - val_loss: 2.8477e-04 - val_mae: 0.0130\n",
      "Epoch 29/100\n",
      "37/37 - 0s - 7ms/step - loss: 8.2605e-05 - mae: 0.0061 - val_loss: 2.9458e-04 - val_mae: 0.0133\n",
      "Epoch 30/100\n",
      "37/37 - 0s - 7ms/step - loss: 8.2499e-05 - mae: 0.0061 - val_loss: 2.8745e-04 - val_mae: 0.0131\n",
      "Epoch 31/100\n",
      "37/37 - 0s - 7ms/step - loss: 8.2273e-05 - mae: 0.0061 - val_loss: 2.8901e-04 - val_mae: 0.0132\n",
      "Epoch 32/100\n",
      "37/37 - 0s - 7ms/step - loss: 8.2162e-05 - mae: 0.0061 - val_loss: 2.8454e-04 - val_mae: 0.0130\n",
      "Epoch 33/100\n",
      "37/37 - 0s - 6ms/step - loss: 8.1981e-05 - mae: 0.0060 - val_loss: 2.8856e-04 - val_mae: 0.0131\n",
      "Epoch 34/100\n",
      "37/37 - 0s - 7ms/step - loss: 8.1843e-05 - mae: 0.0060 - val_loss: 2.9082e-04 - val_mae: 0.0132\n",
      "Epoch 35/100\n",
      "37/37 - 0s - 7ms/step - loss: 8.1749e-05 - mae: 0.0060 - val_loss: 2.8345e-04 - val_mae: 0.0130\n",
      "Epoch 36/100\n",
      "37/37 - 0s - 6ms/step - loss: 8.1566e-05 - mae: 0.0060 - val_loss: 2.8524e-04 - val_mae: 0.0131\n",
      "Epoch 37/100\n",
      "37/37 - 0s - 10ms/step - loss: 8.1426e-05 - mae: 0.0060 - val_loss: 2.8817e-04 - val_mae: 0.0132\n",
      "Epoch 38/100\n",
      "37/37 - 0s - 7ms/step - loss: 8.1356e-05 - mae: 0.0060 - val_loss: 2.8341e-04 - val_mae: 0.0130\n",
      "Epoch 39/100\n",
      "37/37 - 0s - 6ms/step - loss: 8.1170e-05 - mae: 0.0060 - val_loss: 2.8562e-04 - val_mae: 0.0131\n",
      "Epoch 40/100\n",
      "37/37 - 0s - 6ms/step - loss: 8.1094e-05 - mae: 0.0060 - val_loss: 2.8197e-04 - val_mae: 0.0129\n",
      "Epoch 41/100\n",
      "37/37 - 0s - 6ms/step - loss: 8.0937e-05 - mae: 0.0060 - val_loss: 2.8635e-04 - val_mae: 0.0131\n",
      "Epoch 42/100\n",
      "37/37 - 0s - 7ms/step - loss: 8.0819e-05 - mae: 0.0060 - val_loss: 2.8889e-04 - val_mae: 0.0132\n",
      "Epoch 43/100\n",
      "37/37 - 0s - 6ms/step - loss: 8.0775e-05 - mae: 0.0060 - val_loss: 2.8131e-04 - val_mae: 0.0129\n",
      "Epoch 44/100\n",
      "37/37 - 0s - 6ms/step - loss: 8.0585e-05 - mae: 0.0060 - val_loss: 2.8344e-04 - val_mae: 0.0130\n",
      "Epoch 45/100\n",
      "37/37 - 0s - 7ms/step - loss: 8.0521e-05 - mae: 0.0060 - val_loss: 2.8024e-04 - val_mae: 0.0129\n",
      "Epoch 46/100\n",
      "37/37 - 0s - 7ms/step - loss: 8.0366e-05 - mae: 0.0060 - val_loss: 2.8301e-04 - val_mae: 0.0130\n",
      "Epoch 47/100\n",
      "37/37 - 0s - 6ms/step - loss: 8.0297e-05 - mae: 0.0060 - val_loss: 2.8195e-04 - val_mae: 0.0129\n",
      "Epoch 48/100\n",
      "37/37 - 0s - 7ms/step - loss: 8.0178e-05 - mae: 0.0060 - val_loss: 2.8345e-04 - val_mae: 0.0130\n",
      "Epoch 49/100\n",
      "37/37 - 0s - 7ms/step - loss: 8.0096e-05 - mae: 0.0060 - val_loss: 2.7998e-04 - val_mae: 0.0129\n",
      "Epoch 50/100\n",
      "37/37 - 0s - 6ms/step - loss: 7.9975e-05 - mae: 0.0059 - val_loss: 2.8287e-04 - val_mae: 0.0130\n",
      "Epoch 51/100\n",
      "37/37 - 0s - 7ms/step - loss: 7.9915e-05 - mae: 0.0059 - val_loss: 2.7762e-04 - val_mae: 0.0128\n",
      "Epoch 52/100\n",
      "37/37 - 0s - 7ms/step - loss: 7.9781e-05 - mae: 0.0059 - val_loss: 2.8018e-04 - val_mae: 0.0129\n",
      "Epoch 53/100\n",
      "37/37 - 0s - 7ms/step - loss: 7.9717e-05 - mae: 0.0059 - val_loss: 2.7769e-04 - val_mae: 0.0128\n",
      "Epoch 54/100\n",
      "37/37 - 0s - 6ms/step - loss: 7.9586e-05 - mae: 0.0059 - val_loss: 2.8315e-04 - val_mae: 0.0130\n",
      "Epoch 55/100\n",
      "37/37 - 0s - 6ms/step - loss: 7.9565e-05 - mae: 0.0059 - val_loss: 2.7744e-04 - val_mae: 0.0128\n",
      "Epoch 56/100\n",
      "37/37 - 0s - 6ms/step - loss: 7.9406e-05 - mae: 0.0059 - val_loss: 2.8230e-04 - val_mae: 0.0130\n",
      "Epoch 57/100\n",
      "37/37 - 0s - 6ms/step - loss: 7.9369e-05 - mae: 0.0059 - val_loss: 2.7593e-04 - val_mae: 0.0128\n",
      "Epoch 58/100\n",
      "37/37 - 0s - 6ms/step - loss: 7.9246e-05 - mae: 0.0059 - val_loss: 2.7857e-04 - val_mae: 0.0129\n",
      "Epoch 59/100\n",
      "37/37 - 0s - 6ms/step - loss: 7.9198e-05 - mae: 0.0059 - val_loss: 2.7596e-04 - val_mae: 0.0128\n",
      "Epoch 60/100\n",
      "37/37 - 0s - 6ms/step - loss: 7.9067e-05 - mae: 0.0059 - val_loss: 2.7906e-04 - val_mae: 0.0129\n",
      "Epoch 61/100\n",
      "37/37 - 0s - 6ms/step - loss: 7.9027e-05 - mae: 0.0059 - val_loss: 2.7653e-04 - val_mae: 0.0128\n",
      "Epoch 62/100\n",
      "37/37 - 0s - 7ms/step - loss: 7.8887e-05 - mae: 0.0059 - val_loss: 2.8266e-04 - val_mae: 0.0130\n",
      "Epoch 63/100\n",
      "37/37 - 0s - 6ms/step - loss: 7.8897e-05 - mae: 0.0059 - val_loss: 2.7615e-04 - val_mae: 0.0128\n",
      "Epoch 64/100\n",
      "37/37 - 0s - 6ms/step - loss: 7.8725e-05 - mae: 0.0059 - val_loss: 2.8154e-04 - val_mae: 0.0130\n",
      "Epoch 65/100\n",
      "37/37 - 0s - 6ms/step - loss: 7.8708e-05 - mae: 0.0059 - val_loss: 2.7452e-04 - val_mae: 0.0127\n",
      "Epoch 66/100\n",
      "37/37 - 0s - 7ms/step - loss: 7.8569e-05 - mae: 0.0059 - val_loss: 2.7734e-04 - val_mae: 0.0129\n",
      "Epoch 67/100\n",
      "37/37 - 0s - 7ms/step - loss: 7.8545e-05 - mae: 0.0059 - val_loss: 2.7439e-04 - val_mae: 0.0128\n",
      "Epoch 68/100\n",
      "37/37 - 0s - 7ms/step - loss: 7.8419e-05 - mae: 0.0059 - val_loss: 2.7732e-04 - val_mae: 0.0129\n",
      "Epoch 69/100\n",
      "37/37 - 0s - 7ms/step - loss: 7.8393e-05 - mae: 0.0059 - val_loss: 2.7417e-04 - val_mae: 0.0128\n",
      "Epoch 70/100\n",
      "37/37 - 0s - 6ms/step - loss: 7.8261e-05 - mae: 0.0059 - val_loss: 2.7711e-04 - val_mae: 0.0129\n",
      "Epoch 71/100\n",
      "37/37 - 0s - 7ms/step - loss: 7.8237e-05 - mae: 0.0059 - val_loss: 2.7386e-04 - val_mae: 0.0128\n",
      "Epoch 72/100\n",
      "37/37 - 0s - 7ms/step - loss: 7.8105e-05 - mae: 0.0059 - val_loss: 2.7687e-04 - val_mae: 0.0129\n",
      "Epoch 73/100\n",
      "37/37 - 0s - 6ms/step - loss: 7.8087e-05 - mae: 0.0059 - val_loss: 2.7356e-04 - val_mae: 0.0127\n",
      "Epoch 74/100\n",
      "37/37 - 0s - 6ms/step - loss: 7.7946e-05 - mae: 0.0059 - val_loss: 2.7682e-04 - val_mae: 0.0129\n",
      "Epoch 75/100\n",
      "37/37 - 0s - 7ms/step - loss: 7.7938e-05 - mae: 0.0059 - val_loss: 2.7319e-04 - val_mae: 0.0127\n",
      "Epoch 76/100\n",
      "37/37 - 0s - 7ms/step - loss: 7.7791e-05 - mae: 0.0059 - val_loss: 2.7651e-04 - val_mae: 0.0129\n",
      "Epoch 77/100\n",
      "37/37 - 0s - 7ms/step - loss: 7.7787e-05 - mae: 0.0059 - val_loss: 2.7284e-04 - val_mae: 0.0127\n",
      "Epoch 78/100\n",
      "37/37 - 0s - 7ms/step - loss: 7.7642e-05 - mae: 0.0058 - val_loss: 2.7618e-04 - val_mae: 0.0129\n",
      "Epoch 79/100\n",
      "37/37 - 0s - 7ms/step - loss: 7.7634e-05 - mae: 0.0058 - val_loss: 2.7269e-04 - val_mae: 0.0127\n",
      "Epoch 80/100\n",
      "37/37 - 0s - 6ms/step - loss: 7.7495e-05 - mae: 0.0058 - val_loss: 2.7584e-04 - val_mae: 0.0129\n",
      "Epoch 81/100\n",
      "37/37 - 0s - 6ms/step - loss: 7.7493e-05 - mae: 0.0058 - val_loss: 2.7236e-04 - val_mae: 0.0127\n",
      "Epoch 82/100\n",
      "37/37 - 0s - 6ms/step - loss: 7.7350e-05 - mae: 0.0058 - val_loss: 2.7546e-04 - val_mae: 0.0129\n",
      "Epoch 83/100\n",
      "37/37 - 0s - 6ms/step - loss: 7.7347e-05 - mae: 0.0058 - val_loss: 2.7198e-04 - val_mae: 0.0127\n",
      "Epoch 84/100\n",
      "37/37 - 0s - 7ms/step - loss: 7.7198e-05 - mae: 0.0058 - val_loss: 2.7542e-04 - val_mae: 0.0129\n",
      "Epoch 85/100\n",
      "37/37 - 0s - 7ms/step - loss: 7.7203e-05 - mae: 0.0058 - val_loss: 2.7162e-04 - val_mae: 0.0127\n",
      "Epoch 86/100\n",
      "37/37 - 0s - 6ms/step - loss: 7.7051e-05 - mae: 0.0058 - val_loss: 2.7508e-04 - val_mae: 0.0129\n",
      "Epoch 87/100\n",
      "37/37 - 0s - 6ms/step - loss: 7.7060e-05 - mae: 0.0058 - val_loss: 2.7124e-04 - val_mae: 0.0127\n",
      "Epoch 88/100\n",
      "37/37 - 0s - 6ms/step - loss: 7.6902e-05 - mae: 0.0058 - val_loss: 2.7477e-04 - val_mae: 0.0129\n",
      "Epoch 89/100\n",
      "37/37 - 0s - 6ms/step - loss: 7.6911e-05 - mae: 0.0058 - val_loss: 2.7112e-04 - val_mae: 0.0127\n",
      "Epoch 90/100\n",
      "37/37 - 0s - 7ms/step - loss: 7.6763e-05 - mae: 0.0058 - val_loss: 2.7440e-04 - val_mae: 0.0129\n",
      "Epoch 91/100\n",
      "37/37 - 0s - 7ms/step - loss: 7.6766e-05 - mae: 0.0058 - val_loss: 2.7073e-04 - val_mae: 0.0127\n",
      "Epoch 92/100\n",
      "37/37 - 0s - 7ms/step - loss: 7.6617e-05 - mae: 0.0058 - val_loss: 2.7409e-04 - val_mae: 0.0128\n",
      "Epoch 93/100\n",
      "37/37 - 0s - 6ms/step - loss: 7.6626e-05 - mae: 0.0058 - val_loss: 2.7040e-04 - val_mae: 0.0127\n",
      "Epoch 94/100\n",
      "37/37 - 0s - 6ms/step - loss: 7.6468e-05 - mae: 0.0058 - val_loss: 2.7409e-04 - val_mae: 0.0129\n",
      "Epoch 95/100\n",
      "37/37 - 0s - 7ms/step - loss: 7.6484e-05 - mae: 0.0058 - val_loss: 2.7003e-04 - val_mae: 0.0127\n",
      "Epoch 96/100\n",
      "37/37 - 0s - 6ms/step - loss: 7.6324e-05 - mae: 0.0058 - val_loss: 2.7374e-04 - val_mae: 0.0128\n",
      "Epoch 97/100\n",
      "37/37 - 0s - 6ms/step - loss: 7.6344e-05 - mae: 0.0058 - val_loss: 2.6965e-04 - val_mae: 0.0127\n",
      "Epoch 98/100\n",
      "37/37 - 0s - 7ms/step - loss: 7.6186e-05 - mae: 0.0058 - val_loss: 2.7348e-04 - val_mae: 0.0128\n",
      "Epoch 99/100\n",
      "37/37 - 0s - 6ms/step - loss: 7.6189e-05 - mae: 0.0058 - val_loss: 2.6944e-04 - val_mae: 0.0127\n",
      "Epoch 100/100\n",
      "37/37 - 0s - 7ms/step - loss: 7.6097e-05 - mae: 0.0058 - val_loss: 2.6634e-04 - val_mae: 0.0126\n",
      "Restoring model weights from the end of the best epoch: 100.\n"
     ]
    }
   ],
   "source": [
    "history = model.fit(\n",
    "    X_train_scaled,\n",
    "    y_train_scaled,\n",
    "    validation_split=0.2,\n",
    "    epochs=100,\n",
    "    batch_size=32,\n",
    "    verbose=2,\n",
    "    callbacks = [es],\n",
    ")"
   ]
  },
  {
   "cell_type": "code",
   "execution_count": 275,
   "id": "b649e599-5204-480a-9690-8d97cadace58",
   "metadata": {},
   "outputs": [
    {
     "name": "stdout",
     "output_type": "stream",
     "text": [
      "\u001b[1m47/47\u001b[0m \u001b[32m━━━━━━━━━━━━━━━━━━━━\u001b[0m\u001b[37m\u001b[0m \u001b[1m0s\u001b[0m 3ms/step\n"
     ]
    },
    {
     "data": {
      "text/plain": [
       "0.9966583251953125"
      ]
     },
     "execution_count": 275,
     "metadata": {},
     "output_type": "execute_result"
    }
   ],
   "source": [
    "train_pred = model.predict(X_train_scaled)\n",
    "r2_score(y_train_scaled, train_pred)"
   ]
  },
  {
   "cell_type": "code",
   "execution_count": 283,
   "id": "11e696ff-80b0-4e98-904d-902aab153928",
   "metadata": {},
   "outputs": [
    {
     "data": {
      "text/plain": [
       "[<matplotlib.lines.Line2D at 0x18acd0d0530>]"
      ]
     },
     "execution_count": 283,
     "metadata": {},
     "output_type": "execute_result"
    },
    {
     "data": {
      "image/png": "[encoded data removed]",
      "text/plain": [
       "<Figure size 640x480 with 1 Axes>"
      ]
     },
     "metadata": {},
     "output_type": "display_data"
    }
   ],
   "source": [
    "plt.plot(train_pred)\n",
    "plt.plot(y_train_scaled)"
   ]
  },
  {
   "cell_type": "markdown",
   "id": "324ef24f-8a90-4d17-b3f2-0f3c41ae00e8",
   "metadata": {},
   "source": [
    "Now, we test the model"
   ]
  },
  {
   "cell_type": "code",
   "execution_count": 289,
   "id": "495ad844-5bc0-44d6-bf4d-92b486d11b76",
   "metadata": {},
   "outputs": [
    {
     "data": {
      "text/html": [
       "<div>\n",
       "<style scoped>\n",
       "    .dataframe tbody tr th:only-of-type {\n",
       "        vertical-align: middle;\n",
       "    }\n",
       "\n",
       "    .dataframe tbody tr th {\n",
       "        vertical-align: top;\n",
       "    }\n",
       "\n",
       "    .dataframe thead th {\n",
       "        text-align: right;\n",
       "    }\n",
       "</style>\n",
       "<table border=\"1\" class=\"dataframe\">\n",
       "  <thead>\n",
       "    <tr style=\"text-align: right;\">\n",
       "      <th></th>\n",
       "      <th>Close</th>\n",
       "      <th>1d_lag</th>\n",
       "      <th>2d_mva</th>\n",
       "      <th>5d_mva</th>\n",
       "      <th>7d_mva</th>\n",
       "      <th>10d_mva</th>\n",
       "      <th>20d_mva</th>\n",
       "      <th>Target</th>\n",
       "    </tr>\n",
       "  </thead>\n",
       "  <tbody>\n",
       "    <tr>\n",
       "      <th>0</th>\n",
       "      <td>0.628272</td>\n",
       "      <td>NaN</td>\n",
       "      <td>NaN</td>\n",
       "      <td>NaN</td>\n",
       "      <td>NaN</td>\n",
       "      <td>NaN</td>\n",
       "      <td>NaN</td>\n",
       "      <td>0.641680</td>\n",
       "    </tr>\n",
       "    <tr>\n",
       "      <th>1</th>\n",
       "      <td>0.641680</td>\n",
       "      <td>0.628272</td>\n",
       "      <td>0.634976</td>\n",
       "      <td>NaN</td>\n",
       "      <td>NaN</td>\n",
       "      <td>NaN</td>\n",
       "      <td>NaN</td>\n",
       "      <td>0.637183</td>\n",
       "    </tr>\n",
       "    <tr>\n",
       "      <th>2</th>\n",
       "      <td>0.637183</td>\n",
       "      <td>0.641680</td>\n",
       "      <td>0.639431</td>\n",
       "      <td>NaN</td>\n",
       "      <td>NaN</td>\n",
       "      <td>NaN</td>\n",
       "      <td>NaN</td>\n",
       "      <td>0.627250</td>\n",
       "    </tr>\n",
       "    <tr>\n",
       "      <th>3</th>\n",
       "      <td>0.627250</td>\n",
       "      <td>0.637183</td>\n",
       "      <td>0.632216</td>\n",
       "      <td>NaN</td>\n",
       "      <td>NaN</td>\n",
       "      <td>NaN</td>\n",
       "      <td>NaN</td>\n",
       "      <td>0.620525</td>\n",
       "    </tr>\n",
       "    <tr>\n",
       "      <th>4</th>\n",
       "      <td>0.620525</td>\n",
       "      <td>0.627250</td>\n",
       "      <td>0.623887</td>\n",
       "      <td>0.630982</td>\n",
       "      <td>NaN</td>\n",
       "      <td>NaN</td>\n",
       "      <td>NaN</td>\n",
       "      <td>0.605548</td>\n",
       "    </tr>\n",
       "    <tr>\n",
       "      <th>...</th>\n",
       "      <td>...</td>\n",
       "      <td>...</td>\n",
       "      <td>...</td>\n",
       "      <td>...</td>\n",
       "      <td>...</td>\n",
       "      <td>...</td>\n",
       "      <td>...</td>\n",
       "      <td>...</td>\n",
       "    </tr>\n",
       "    <tr>\n",
       "      <th>485</th>\n",
       "      <td>0.870650</td>\n",
       "      <td>0.859133</td>\n",
       "      <td>0.864891</td>\n",
       "      <td>0.866875</td>\n",
       "      <td>0.874145</td>\n",
       "      <td>0.878862</td>\n",
       "      <td>0.878862</td>\n",
       "      <td>0.858326</td>\n",
       "    </tr>\n",
       "    <tr>\n",
       "      <th>486</th>\n",
       "      <td>0.858326</td>\n",
       "      <td>0.870650</td>\n",
       "      <td>0.864488</td>\n",
       "      <td>0.863892</td>\n",
       "      <td>0.867861</td>\n",
       "      <td>0.875400</td>\n",
       "      <td>0.875400</td>\n",
       "      <td>0.849737</td>\n",
       "    </tr>\n",
       "    <tr>\n",
       "      <th>487</th>\n",
       "      <td>0.849737</td>\n",
       "      <td>0.858326</td>\n",
       "      <td>0.854032</td>\n",
       "      <td>0.859430</td>\n",
       "      <td>0.863206</td>\n",
       "      <td>0.871154</td>\n",
       "      <td>0.871154</td>\n",
       "      <td>0.845818</td>\n",
       "    </tr>\n",
       "    <tr>\n",
       "      <th>488</th>\n",
       "      <td>0.845818</td>\n",
       "      <td>0.849737</td>\n",
       "      <td>0.847778</td>\n",
       "      <td>0.856733</td>\n",
       "      <td>0.859288</td>\n",
       "      <td>0.867290</td>\n",
       "      <td>0.867290</td>\n",
       "      <td>0.831145</td>\n",
       "    </tr>\n",
       "    <tr>\n",
       "      <th>489</th>\n",
       "      <td>0.831145</td>\n",
       "      <td>0.845818</td>\n",
       "      <td>0.838482</td>\n",
       "      <td>0.851135</td>\n",
       "      <td>0.853445</td>\n",
       "      <td>0.860173</td>\n",
       "      <td>0.860173</td>\n",
       "      <td>NaN</td>\n",
       "    </tr>\n",
       "  </tbody>\n",
       "</table>\n",
       "<p>490 rows × 8 columns</p>\n",
       "</div>"
      ],
      "text/plain": [
       "        Close    1d_lag    2d_mva    5d_mva    7d_mva   10d_mva   20d_mva  \\\n",
       "0    0.628272       NaN       NaN       NaN       NaN       NaN       NaN   \n",
       "1    0.641680  0.628272  0.634976       NaN       NaN       NaN       NaN   \n",
       "2    0.637183  0.641680  0.639431       NaN       NaN       NaN       NaN   \n",
       "3    0.627250  0.637183  0.632216       NaN       NaN       NaN       NaN   \n",
       "4    0.620525  0.627250  0.623887  0.630982       NaN       NaN       NaN   \n",
       "..        ...       ...       ...       ...       ...       ...       ...   \n",
       "485  0.870650  0.859133  0.864891  0.866875  0.874145  0.878862  0.878862   \n",
       "486  0.858326  0.870650  0.864488  0.863892  0.867861  0.875400  0.875400   \n",
       "487  0.849737  0.858326  0.854032  0.859430  0.863206  0.871154  0.871154   \n",
       "488  0.845818  0.849737  0.847778  0.856733  0.859288  0.867290  0.867290   \n",
       "489  0.831145  0.845818  0.838482  0.851135  0.853445  0.860173  0.860173   \n",
       "\n",
       "       Target  \n",
       "0    0.641680  \n",
       "1    0.637183  \n",
       "2    0.627250  \n",
       "3    0.620525  \n",
       "4    0.605548  \n",
       "..        ...  \n",
       "485  0.858326  \n",
       "486  0.849737  \n",
       "487  0.845818  \n",
       "488  0.831145  \n",
       "489       NaN  \n",
       "\n",
       "[490 rows x 8 columns]"
      ]
     },
     "execution_count": 289,
     "metadata": {},
     "output_type": "execute_result"
    }
   ],
   "source": [
    "test_scaled[\"1d_lag\"] = test_scaled[\"Close\"].shift(1)\n",
    "test_scaled[\"2d_mva\"] = test_scaled[\"Close\"].rolling(2).mean()\n",
    "test_scaled[\"5d_mva\"] = test_scaled[\"Close\"].rolling(5).mean()\n",
    "test_scaled[\"7d_mva\"] = test_scaled[\"Close\"].rolling(7).mean()\n",
    "test_scaled[\"10d_mva\"] = test_scaled[\"Close\"].rolling(10).mean()\n",
    "test_scaled[\"20d_mva\"] = test_scaled[\"Close\"].rolling(10).mean()\n",
    "test_scaled[\"Target\"] = test_scaled[\"Close\"].shift(-1)\n",
    "test_scaled"
   ]
  },
  {
   "cell_type": "code",
   "execution_count": 291,
   "id": "dac54b3f-3b05-4cec-881a-e83924c9cde6",
   "metadata": {},
   "outputs": [],
   "source": [
    "test_scaled.dropna(inplace=True)"
   ]
  },
  {
   "cell_type": "code",
   "execution_count": 293,
   "id": "324d132b-d020-49ec-b6b9-3b59fbe6313d",
   "metadata": {},
   "outputs": [],
   "source": [
    "X_test_scaled = test_scaled[['Close', '1d_lag', '2d_mva', '5d_mva', '7d_mva', '10d_mva', '20d_mva']]\n",
    "y_test_scaled = test_scaled[['Target']]\t"
   ]
  },
  {
   "cell_type": "code",
   "execution_count": 295,
   "id": "f23cdf2f-ecf5-4e37-85f9-ff237fa834fa",
   "metadata": {},
   "outputs": [
    {
     "name": "stdout",
     "output_type": "stream",
     "text": [
      "\u001b[1m15/15\u001b[0m \u001b[32m━━━━━━━━━━━━━━━━━━━━\u001b[0m\u001b[37m\u001b[0m \u001b[1m0s\u001b[0m 6ms/step \n"
     ]
    }
   ],
   "source": [
    "y_pred = model.predict(X_test_scaled)"
   ]
  },
  {
   "cell_type": "code",
   "execution_count": 297,
   "id": "f88ca7bd-999e-4d04-99a7-47a2136f0901",
   "metadata": {},
   "outputs": [
    {
     "data": {
      "text/plain": [
       "0.9319700002670288"
      ]
     },
     "execution_count": 297,
     "metadata": {},
     "output_type": "execute_result"
    }
   ],
   "source": [
    "r2_score(y_test_scaled, y_pred)"
   ]
  },
  {
   "cell_type": "code",
   "execution_count": 299,
   "id": "c685bb7e-e486-4ffa-b789-d4d4aa2bd406",
   "metadata": {},
   "outputs": [
    {
     "data": {
      "text/plain": [
       "[<matplotlib.lines.Line2D at 0x18acd0d95e0>]"
      ]
     },
     "execution_count": 299,
     "metadata": {},
     "output_type": "execute_result"
    },
    {
     "data": {
      "image/png": "[encoded data removed]",
      "text/plain": [
       "<Figure size 640x480 with 1 Axes>"
      ]
     },
     "metadata": {},
     "output_type": "display_data"
    }
   ],
   "source": [
    "plt.plot(y_test_scaled)\n",
    "plt.plot(y_pred)"
   ]
  },
  {
   "cell_type": "markdown",
   "id": "3c93d0cc-7ac9-4225-a337-7bcbe37e94ac",
   "metadata": {},
   "source": [
    "I have not inverse scaled the test data, nor added the dates as of now. But the r2 score on the test data is 0.93, which is impressive. But of course, there is plenty of data leakage here."
   ]
  },
  {
   "cell_type": "markdown",
   "id": "51a8a97a-c217-4f79-a30a-692851de6a2c",
   "metadata": {},
   "source": [
    "Now, I build an LSTM Model with data leakage."
   ]
  },
  {
   "cell_type": "code",
   "execution_count": 305,
   "id": "48889993-c9ab-40f0-89a5-285c6be16c9d",
   "metadata": {},
   "outputs": [
    {
     "data": {
      "text/html": [
       "<div>\n",
       "<style scoped>\n",
       "    .dataframe tbody tr th:only-of-type {\n",
       "        vertical-align: middle;\n",
       "    }\n",
       "\n",
       "    .dataframe tbody tr th {\n",
       "        vertical-align: top;\n",
       "    }\n",
       "\n",
       "    .dataframe thead th {\n",
       "        text-align: right;\n",
       "    }\n",
       "</style>\n",
       "<table border=\"1\" class=\"dataframe\">\n",
       "  <thead>\n",
       "    <tr style=\"text-align: right;\">\n",
       "      <th></th>\n",
       "      <th>Close</th>\n",
       "      <th>1d_lag</th>\n",
       "      <th>2d_mva</th>\n",
       "      <th>5d_mva</th>\n",
       "      <th>7d_mva</th>\n",
       "      <th>10d_mva</th>\n",
       "      <th>20d_mva</th>\n",
       "      <th>Target</th>\n",
       "    </tr>\n",
       "  </thead>\n",
       "  <tbody>\n",
       "    <tr>\n",
       "      <th>9</th>\n",
       "      <td>0.006623</td>\n",
       "      <td>0.008075</td>\n",
       "      <td>0.007349</td>\n",
       "      <td>0.007008</td>\n",
       "      <td>0.006764</td>\n",
       "      <td>0.005818</td>\n",
       "      <td>0.005818</td>\n",
       "      <td>0.007844</td>\n",
       "    </tr>\n",
       "    <tr>\n",
       "      <th>10</th>\n",
       "      <td>0.007844</td>\n",
       "      <td>0.006623</td>\n",
       "      <td>0.007233</td>\n",
       "      <td>0.007456</td>\n",
       "      <td>0.006950</td>\n",
       "      <td>0.006602</td>\n",
       "      <td>0.006602</td>\n",
       "      <td>0.007057</td>\n",
       "    </tr>\n",
       "    <tr>\n",
       "      <th>11</th>\n",
       "      <td>0.007057</td>\n",
       "      <td>0.007844</td>\n",
       "      <td>0.007450</td>\n",
       "      <td>0.007374</td>\n",
       "      <td>0.007134</td>\n",
       "      <td>0.006923</td>\n",
       "      <td>0.006923</td>\n",
       "      <td>0.008970</td>\n",
       "    </tr>\n",
       "    <tr>\n",
       "      <th>12</th>\n",
       "      <td>0.008970</td>\n",
       "      <td>0.007057</td>\n",
       "      <td>0.008014</td>\n",
       "      <td>0.007714</td>\n",
       "      <td>0.007615</td>\n",
       "      <td>0.007122</td>\n",
       "      <td>0.007122</td>\n",
       "      <td>0.010517</td>\n",
       "    </tr>\n",
       "    <tr>\n",
       "      <th>13</th>\n",
       "      <td>0.010517</td>\n",
       "      <td>0.008970</td>\n",
       "      <td>0.009744</td>\n",
       "      <td>0.008202</td>\n",
       "      <td>0.008051</td>\n",
       "      <td>0.007520</td>\n",
       "      <td>0.007520</td>\n",
       "      <td>0.007260</td>\n",
       "    </tr>\n",
       "    <tr>\n",
       "      <th>...</th>\n",
       "      <td>...</td>\n",
       "      <td>...</td>\n",
       "      <td>...</td>\n",
       "      <td>...</td>\n",
       "      <td>...</td>\n",
       "      <td>...</td>\n",
       "      <td>...</td>\n",
       "      <td>...</td>\n",
       "    </tr>\n",
       "    <tr>\n",
       "      <th>1478</th>\n",
       "      <td>0.605100</td>\n",
       "      <td>0.605086</td>\n",
       "      <td>0.605093</td>\n",
       "      <td>0.609043</td>\n",
       "      <td>0.609495</td>\n",
       "      <td>0.616653</td>\n",
       "      <td>0.616653</td>\n",
       "      <td>0.604554</td>\n",
       "    </tr>\n",
       "    <tr>\n",
       "      <th>1479</th>\n",
       "      <td>0.604554</td>\n",
       "      <td>0.605100</td>\n",
       "      <td>0.604827</td>\n",
       "      <td>0.606762</td>\n",
       "      <td>0.607830</td>\n",
       "      <td>0.613751</td>\n",
       "      <td>0.613751</td>\n",
       "      <td>0.610844</td>\n",
       "    </tr>\n",
       "    <tr>\n",
       "      <th>1480</th>\n",
       "      <td>0.610844</td>\n",
       "      <td>0.604554</td>\n",
       "      <td>0.607699</td>\n",
       "      <td>0.606504</td>\n",
       "      <td>0.608659</td>\n",
       "      <td>0.611724</td>\n",
       "      <td>0.611724</td>\n",
       "      <td>0.632307</td>\n",
       "    </tr>\n",
       "    <tr>\n",
       "      <th>1481</th>\n",
       "      <td>0.632307</td>\n",
       "      <td>0.610844</td>\n",
       "      <td>0.621576</td>\n",
       "      <td>0.611578</td>\n",
       "      <td>0.610994</td>\n",
       "      <td>0.611417</td>\n",
       "      <td>0.611417</td>\n",
       "      <td>0.624770</td>\n",
       "    </tr>\n",
       "    <tr>\n",
       "      <th>1482</th>\n",
       "      <td>0.624770</td>\n",
       "      <td>0.632307</td>\n",
       "      <td>0.628539</td>\n",
       "      <td>0.615515</td>\n",
       "      <td>0.612800</td>\n",
       "      <td>0.612273</td>\n",
       "      <td>0.612273</td>\n",
       "      <td>0.637169</td>\n",
       "    </tr>\n",
       "  </tbody>\n",
       "</table>\n",
       "<p>1474 rows × 8 columns</p>\n",
       "</div>"
      ],
      "text/plain": [
       "         Close    1d_lag    2d_mva    5d_mva    7d_mva   10d_mva   20d_mva  \\\n",
       "9     0.006623  0.008075  0.007349  0.007008  0.006764  0.005818  0.005818   \n",
       "10    0.007844  0.006623  0.007233  0.007456  0.006950  0.006602  0.006602   \n",
       "11    0.007057  0.007844  0.007450  0.007374  0.007134  0.006923  0.006923   \n",
       "12    0.008970  0.007057  0.008014  0.007714  0.007615  0.007122  0.007122   \n",
       "13    0.010517  0.008970  0.009744  0.008202  0.008051  0.007520  0.007520   \n",
       "...        ...       ...       ...       ...       ...       ...       ...   \n",
       "1478  0.605100  0.605086  0.605093  0.609043  0.609495  0.616653  0.616653   \n",
       "1479  0.604554  0.605100  0.604827  0.606762  0.607830  0.613751  0.613751   \n",
       "1480  0.610844  0.604554  0.607699  0.606504  0.608659  0.611724  0.611724   \n",
       "1481  0.632307  0.610844  0.621576  0.611578  0.610994  0.611417  0.611417   \n",
       "1482  0.624770  0.632307  0.628539  0.615515  0.612800  0.612273  0.612273   \n",
       "\n",
       "        Target  \n",
       "9     0.007844  \n",
       "10    0.007057  \n",
       "11    0.008970  \n",
       "12    0.010517  \n",
       "13    0.007260  \n",
       "...        ...  \n",
       "1478  0.604554  \n",
       "1479  0.610844  \n",
       "1480  0.632307  \n",
       "1481  0.624770  \n",
       "1482  0.637169  \n",
       "\n",
       "[1474 rows x 8 columns]"
      ]
     },
     "execution_count": 305,
     "metadata": {},
     "output_type": "execute_result"
    }
   ],
   "source": [
    "train_scaled"
   ]
  },
  {
   "cell_type": "markdown",
   "id": "619d3117-5008-45fc-b680-fd8038abd5d4",
   "metadata": {},
   "source": [
    "For this model, I will use the sequence of past 25 days data to predict future values (which is similar to the approach I followed in GWP2)"
   ]
  },
  {
   "cell_type": "code",
   "execution_count": 308,
   "id": "f9deefd1-b60a-499a-b400-7b6ee2f688f8",
   "metadata": {},
   "outputs": [],
   "source": [
    "train_scaled = train_scaled[\"Close\"]\n",
    "test_scaled = test_scaled[\"Close\"]"
   ]
  },
  {
   "cell_type": "code",
   "execution_count": 312,
   "id": "e8674244-ef5f-4f44-a385-389c93b8f25a",
   "metadata": {},
   "outputs": [
    {
     "data": {
      "text/plain": [
       "9      0.586649\n",
       "10     0.583469\n",
       "11     0.584058\n",
       "12     0.588583\n",
       "13     0.577641\n",
       "         ...   \n",
       "484    0.859133\n",
       "485    0.870650\n",
       "486    0.858326\n",
       "487    0.849737\n",
       "488    0.845818\n",
       "Name: Close, Length: 480, dtype: float64"
      ]
     },
     "execution_count": 312,
     "metadata": {},
     "output_type": "execute_result"
    }
   ],
   "source": [
    "test_scaled"
   ]
  },
  {
   "cell_type": "code",
   "execution_count": 314,
   "id": "7648af3c-fc4e-420f-b719-66fbd0e86a99",
   "metadata": {},
   "outputs": [],
   "source": [
    "window_size = 25"
   ]
  },
  {
   "cell_type": "code",
   "execution_count": 318,
   "id": "9efae42f-5f89-4be4-b429-7cb064d3b532",
   "metadata": {},
   "outputs": [],
   "source": [
    "X_train_scaled = []\n",
    "y_train_scaled = [] \n",
    "\n",
    "X_test_scaled = []\n",
    "y_test_scaled = [] \n",
    "\n",
    "for i in range(window_size, train_scaled.shape[0]):\n",
    "    X_train_scaled.append(train_scaled[i-window_size: i])\n",
    "    y_train_scaled.append(train_scaled[i])\n",
    "\n",
    "for i in range(window_size, test_scaled.shape[0]):\n",
    "    X_test_scaled.append(test_scaled[i-window_size: i])\n",
    "    y_test_scaled.append(test_scaled[i])\n",
    "\n",
    "#x_train, y_train = np.array(x_train), np.array(y_train) "
   ]
  },
  {
   "cell_type": "code",
   "execution_count": 332,
   "id": "b3bd1299-397c-4cb9-a613-c8d7bcca1271",
   "metadata": {},
   "outputs": [],
   "source": [
    "X_train_scaled, y_train_scaled = np.array(X_train_scaled), np.array(y_train_scaled) \n",
    "X_test_scaled, y_test_scaled = np.array(X_test_scaled), np.array(y_test_scaled)"
   ]
  },
  {
   "cell_type": "code",
   "execution_count": 334,
   "id": "4e4c7cad-0c1b-4d9a-adb9-043354a7f374",
   "metadata": {},
   "outputs": [
    {
     "name": "stderr",
     "output_type": "stream",
     "text": [
      "C:\\Users\\susha\\anaconda3\\Lib\\site-packages\\keras\\src\\layers\\rnn\\rnn.py:200: UserWarning: Do not pass an `input_shape`/`input_dim` argument to a layer. When using Sequential models, prefer using an `Input(shape)` object as the first layer in the model instead.\n",
      "  super().__init__(**kwargs)\n"
     ]
    }
   ],
   "source": [
    "seed = 42\n",
    "n_dropout = 0\n",
    "model = Sequential()\n",
    "model.add(\n",
    "    LSTM(\n",
    "        units=128,\n",
    "        return_sequences=True,\n",
    "        activation=\"relu\",\n",
    "        input_shape=(X_train_scaled.shape[1], 1),\n",
    "    )\n",
    ")"
   ]
  },
  {
   "cell_type": "markdown",
   "id": "5d71acf0-0bda-4215-9f85-f37777ce72b9",
   "metadata": {},
   "source": [
    "Now, I build the LSTM model"
   ]
  },
  {
   "cell_type": "code",
   "execution_count": 337,
   "id": "0739e792-b3e4-4f4b-a52b-0415d639a265",
   "metadata": {},
   "outputs": [],
   "source": [
    "model.add(LSTM(units=256, return_sequences=True, activation=\"tanh\"))\n",
    "model.add(Dropout(n_dropout, seed=seed))\n",
    "model.add(LSTM(units=128, return_sequences=True, activation=\"tanh\"))\n",
    "model.add(Dropout(n_dropout, seed=seed))\n",
    "model.add(LSTM(units=64, return_sequences=False, activation=\"tanh\"))\n",
    "model.add(Dropout(n_dropout, seed=seed))\n",
    "model.add(Dense(64))\n",
    "model.add(Dense(1))"
   ]
  },
  {
   "cell_type": "code",
   "execution_count": 339,
   "id": "997c4b01-96a6-45f1-b5ec-d251806b28bc",
   "metadata": {},
   "outputs": [
    {
     "data": {
      "text/html": [
       "<pre style=\"white-space:pre;overflow-x:auto;line-height:normal;font-family:Menlo,'DejaVu Sans Mono',consolas,'Courier New',monospace\"><span style=\"font-weight: bold\">Model: \"sequential_4\"</span>\n",
       "</pre>\n"
      ],
      "text/plain": [
       "\u001b[1mModel: \"sequential_4\"\u001b[0m\n"
      ]
     },
     "metadata": {},
     "output_type": "display_data"
    },
    {
     "data": {
      "text/html": [
       "<pre style=\"white-space:pre;overflow-x:auto;line-height:normal;font-family:Menlo,'DejaVu Sans Mono',consolas,'Courier New',monospace\">┏━━━━━━━━━━━━━━━━━━━━━━━━━━━━━━━━━━━━━━┳━━━━━━━━━━━━━━━━━━━━━━━━━━━━━┳━━━━━━━━━━━━━━━━━┓\n",
       "┃<span style=\"font-weight: bold\"> Layer (type)                         </span>┃<span style=\"font-weight: bold\"> Output Shape                </span>┃<span style=\"font-weight: bold\">         Param # </span>┃\n",
       "┡━━━━━━━━━━━━━━━━━━━━━━━━━━━━━━━━━━━━━━╇━━━━━━━━━━━━━━━━━━━━━━━━━━━━━╇━━━━━━━━━━━━━━━━━┩\n",
       "│ lstm (<span style=\"color: #0087ff; text-decoration-color: #0087ff\">LSTM</span>)                          │ (<span style=\"color: #00d7ff; text-decoration-color: #00d7ff\">None</span>, <span style=\"color: #00af00; text-decoration-color: #00af00\">25</span>, <span style=\"color: #00af00; text-decoration-color: #00af00\">128</span>)             │          <span style=\"color: #00af00; text-decoration-color: #00af00\">66,560</span> │\n",
       "├──────────────────────────────────────┼─────────────────────────────┼─────────────────┤\n",
       "│ lstm_1 (<span style=\"color: #0087ff; text-decoration-color: #0087ff\">LSTM</span>)                        │ (<span style=\"color: #00d7ff; text-decoration-color: #00d7ff\">None</span>, <span style=\"color: #00af00; text-decoration-color: #00af00\">25</span>, <span style=\"color: #00af00; text-decoration-color: #00af00\">256</span>)             │         <span style=\"color: #00af00; text-decoration-color: #00af00\">394,240</span> │\n",
       "├──────────────────────────────────────┼─────────────────────────────┼─────────────────┤\n",
       "│ dropout (<span style=\"color: #0087ff; text-decoration-color: #0087ff\">Dropout</span>)                    │ (<span style=\"color: #00d7ff; text-decoration-color: #00d7ff\">None</span>, <span style=\"color: #00af00; text-decoration-color: #00af00\">25</span>, <span style=\"color: #00af00; text-decoration-color: #00af00\">256</span>)             │               <span style=\"color: #00af00; text-decoration-color: #00af00\">0</span> │\n",
       "├──────────────────────────────────────┼─────────────────────────────┼─────────────────┤\n",
       "│ lstm_2 (<span style=\"color: #0087ff; text-decoration-color: #0087ff\">LSTM</span>)                        │ (<span style=\"color: #00d7ff; text-decoration-color: #00d7ff\">None</span>, <span style=\"color: #00af00; text-decoration-color: #00af00\">25</span>, <span style=\"color: #00af00; text-decoration-color: #00af00\">128</span>)             │         <span style=\"color: #00af00; text-decoration-color: #00af00\">197,120</span> │\n",
       "├──────────────────────────────────────┼─────────────────────────────┼─────────────────┤\n",
       "│ dropout_1 (<span style=\"color: #0087ff; text-decoration-color: #0087ff\">Dropout</span>)                  │ (<span style=\"color: #00d7ff; text-decoration-color: #00d7ff\">None</span>, <span style=\"color: #00af00; text-decoration-color: #00af00\">25</span>, <span style=\"color: #00af00; text-decoration-color: #00af00\">128</span>)             │               <span style=\"color: #00af00; text-decoration-color: #00af00\">0</span> │\n",
       "├──────────────────────────────────────┼─────────────────────────────┼─────────────────┤\n",
       "│ lstm_3 (<span style=\"color: #0087ff; text-decoration-color: #0087ff\">LSTM</span>)                        │ (<span style=\"color: #00d7ff; text-decoration-color: #00d7ff\">None</span>, <span style=\"color: #00af00; text-decoration-color: #00af00\">64</span>)                  │          <span style=\"color: #00af00; text-decoration-color: #00af00\">49,408</span> │\n",
       "├──────────────────────────────────────┼─────────────────────────────┼─────────────────┤\n",
       "│ dropout_2 (<span style=\"color: #0087ff; text-decoration-color: #0087ff\">Dropout</span>)                  │ (<span style=\"color: #00d7ff; text-decoration-color: #00d7ff\">None</span>, <span style=\"color: #00af00; text-decoration-color: #00af00\">64</span>)                  │               <span style=\"color: #00af00; text-decoration-color: #00af00\">0</span> │\n",
       "├──────────────────────────────────────┼─────────────────────────────┼─────────────────┤\n",
       "│ dense_20 (<span style=\"color: #0087ff; text-decoration-color: #0087ff\">Dense</span>)                     │ (<span style=\"color: #00d7ff; text-decoration-color: #00d7ff\">None</span>, <span style=\"color: #00af00; text-decoration-color: #00af00\">64</span>)                  │           <span style=\"color: #00af00; text-decoration-color: #00af00\">4,160</span> │\n",
       "├──────────────────────────────────────┼─────────────────────────────┼─────────────────┤\n",
       "│ dense_21 (<span style=\"color: #0087ff; text-decoration-color: #0087ff\">Dense</span>)                     │ (<span style=\"color: #00d7ff; text-decoration-color: #00d7ff\">None</span>, <span style=\"color: #00af00; text-decoration-color: #00af00\">1</span>)                   │              <span style=\"color: #00af00; text-decoration-color: #00af00\">65</span> │\n",
       "└──────────────────────────────────────┴─────────────────────────────┴─────────────────┘\n",
       "</pre>\n"
      ],
      "text/plain": [
       "┏━━━━━━━━━━━━━━━━━━━━━━━━━━━━━━━━━━━━━━┳━━━━━━━━━━━━━━━━━━━━━━━━━━━━━┳━━━━━━━━━━━━━━━━━┓\n",
       "┃\u001b[1m \u001b[0m\u001b[1mLayer (type)                        \u001b[0m\u001b[1m \u001b[0m┃\u001b[1m \u001b[0m\u001b[1mOutput Shape               \u001b[0m\u001b[1m \u001b[0m┃\u001b[1m \u001b[0m\u001b[1m        Param #\u001b[0m\u001b[1m \u001b[0m┃\n",
       "┡━━━━━━━━━━━━━━━━━━━━━━━━━━━━━━━━━━━━━━╇━━━━━━━━━━━━━━━━━━━━━━━━━━━━━╇━━━━━━━━━━━━━━━━━┩\n",
       "│ lstm (\u001b[38;5;33mLSTM\u001b[0m)                          │ (\u001b[38;5;45mNone\u001b[0m, \u001b[38;5;34m25\u001b[0m, \u001b[38;5;34m128\u001b[0m)             │          \u001b[38;5;34m66,560\u001b[0m │\n",
       "├──────────────────────────────────────┼─────────────────────────────┼─────────────────┤\n",
       "│ lstm_1 (\u001b[38;5;33mLSTM\u001b[0m)                        │ (\u001b[38;5;45mNone\u001b[0m, \u001b[38;5;34m25\u001b[0m, \u001b[38;5;34m256\u001b[0m)             │         \u001b[38;5;34m394,240\u001b[0m │\n",
       "├──────────────────────────────────────┼─────────────────────────────┼─────────────────┤\n",
       "│ dropout (\u001b[38;5;33mDropout\u001b[0m)                    │ (\u001b[38;5;45mNone\u001b[0m, \u001b[38;5;34m25\u001b[0m, \u001b[38;5;34m256\u001b[0m)             │               \u001b[38;5;34m0\u001b[0m │\n",
       "├──────────────────────────────────────┼─────────────────────────────┼─────────────────┤\n",
       "│ lstm_2 (\u001b[38;5;33mLSTM\u001b[0m)                        │ (\u001b[38;5;45mNone\u001b[0m, \u001b[38;5;34m25\u001b[0m, \u001b[38;5;34m128\u001b[0m)             │         \u001b[38;5;34m197,120\u001b[0m │\n",
       "├──────────────────────────────────────┼─────────────────────────────┼─────────────────┤\n",
       "│ dropout_1 (\u001b[38;5;33mDropout\u001b[0m)                  │ (\u001b[38;5;45mNone\u001b[0m, \u001b[38;5;34m25\u001b[0m, \u001b[38;5;34m128\u001b[0m)             │               \u001b[38;5;34m0\u001b[0m │\n",
       "├──────────────────────────────────────┼─────────────────────────────┼─────────────────┤\n",
       "│ lstm_3 (\u001b[38;5;33mLSTM\u001b[0m)                        │ (\u001b[38;5;45mNone\u001b[0m, \u001b[38;5;34m64\u001b[0m)                  │          \u001b[38;5;34m49,408\u001b[0m │\n",
       "├──────────────────────────────────────┼─────────────────────────────┼─────────────────┤\n",
       "│ dropout_2 (\u001b[38;5;33mDropout\u001b[0m)                  │ (\u001b[38;5;45mNone\u001b[0m, \u001b[38;5;34m64\u001b[0m)                  │               \u001b[38;5;34m0\u001b[0m │\n",
       "├──────────────────────────────────────┼─────────────────────────────┼─────────────────┤\n",
       "│ dense_20 (\u001b[38;5;33mDense\u001b[0m)                     │ (\u001b[38;5;45mNone\u001b[0m, \u001b[38;5;34m64\u001b[0m)                  │           \u001b[38;5;34m4,160\u001b[0m │\n",
       "├──────────────────────────────────────┼─────────────────────────────┼─────────────────┤\n",
       "│ dense_21 (\u001b[38;5;33mDense\u001b[0m)                     │ (\u001b[38;5;45mNone\u001b[0m, \u001b[38;5;34m1\u001b[0m)                   │              \u001b[38;5;34m65\u001b[0m │\n",
       "└──────────────────────────────────────┴─────────────────────────────┴─────────────────┘\n"
      ]
     },
     "metadata": {},
     "output_type": "display_data"
    },
    {
     "data": {
      "text/html": [
       "<pre style=\"white-space:pre;overflow-x:auto;line-height:normal;font-family:Menlo,'DejaVu Sans Mono',consolas,'Courier New',monospace\"><span style=\"font-weight: bold\"> Total params: </span><span style=\"color: #00af00; text-decoration-color: #00af00\">711,553</span> (2.71 MB)\n",
       "</pre>\n"
      ],
      "text/plain": [
       "\u001b[1m Total params: \u001b[0m\u001b[38;5;34m711,553\u001b[0m (2.71 MB)\n"
      ]
     },
     "metadata": {},
     "output_type": "display_data"
    },
    {
     "data": {
      "text/html": [
       "<pre style=\"white-space:pre;overflow-x:auto;line-height:normal;font-family:Menlo,'DejaVu Sans Mono',consolas,'Courier New',monospace\"><span style=\"font-weight: bold\"> Trainable params: </span><span style=\"color: #00af00; text-decoration-color: #00af00\">711,553</span> (2.71 MB)\n",
       "</pre>\n"
      ],
      "text/plain": [
       "\u001b[1m Trainable params: \u001b[0m\u001b[38;5;34m711,553\u001b[0m (2.71 MB)\n"
      ]
     },
     "metadata": {},
     "output_type": "display_data"
    },
    {
     "data": {
      "text/html": [
       "<pre style=\"white-space:pre;overflow-x:auto;line-height:normal;font-family:Menlo,'DejaVu Sans Mono',consolas,'Courier New',monospace\"><span style=\"font-weight: bold\"> Non-trainable params: </span><span style=\"color: #00af00; text-decoration-color: #00af00\">0</span> (0.00 B)\n",
       "</pre>\n"
      ],
      "text/plain": [
       "\u001b[1m Non-trainable params: \u001b[0m\u001b[38;5;34m0\u001b[0m (0.00 B)\n"
      ]
     },
     "metadata": {},
     "output_type": "display_data"
    }
   ],
   "source": [
    "model.summary()"
   ]
  },
  {
   "cell_type": "code",
   "execution_count": 345,
   "id": "2288be82-c30a-4612-8fae-37a4c081b235",
   "metadata": {},
   "outputs": [
    {
     "name": "stdout",
     "output_type": "stream",
     "text": [
      "Epoch 1/100\n",
      "20/20 - 13s - 670ms/step - loss: 0.1322 - val_loss: 0.0501\n",
      "Epoch 2/100\n",
      "20/20 - 3s - 174ms/step - loss: 0.0495 - val_loss: 0.0530\n",
      "Epoch 3/100\n",
      "20/20 - 3s - 174ms/step - loss: 0.0173 - val_loss: 0.0455\n",
      "Epoch 4/100\n",
      "20/20 - 4s - 198ms/step - loss: 0.0107 - val_loss: 0.0220\n",
      "Epoch 5/100\n",
      "20/20 - 3s - 174ms/step - loss: 0.0093 - val_loss: 0.0224\n",
      "Epoch 6/100\n",
      "20/20 - 3s - 164ms/step - loss: 0.0087 - val_loss: 0.0178\n",
      "Epoch 7/100\n",
      "20/20 - 3s - 166ms/step - loss: 0.0085 - val_loss: 0.0173\n",
      "Epoch 8/100\n",
      "20/20 - 3s - 166ms/step - loss: 0.0085 - val_loss: 0.0175\n",
      "Epoch 9/100\n",
      "20/20 - 3s - 163ms/step - loss: 0.0085 - val_loss: 0.0169\n",
      "Epoch 10/100\n",
      "20/20 - 3s - 164ms/step - loss: 0.0082 - val_loss: 0.0176\n",
      "Epoch 11/100\n",
      "20/20 - 3s - 165ms/step - loss: 0.0079 - val_loss: 0.0181\n",
      "Epoch 12/100\n",
      "20/20 - 3s - 162ms/step - loss: 0.0077 - val_loss: 0.0177\n",
      "Epoch 13/100\n",
      "20/20 - 3s - 164ms/step - loss: 0.0077 - val_loss: 0.0147\n",
      "Epoch 14/100\n",
      "20/20 - 3s - 163ms/step - loss: 0.0075 - val_loss: 0.0156\n",
      "Epoch 15/100\n",
      "20/20 - 3s - 165ms/step - loss: 0.0072 - val_loss: 0.0152\n",
      "Epoch 16/100\n",
      "20/20 - 3s - 165ms/step - loss: 0.0073 - val_loss: 0.0128\n",
      "Epoch 17/100\n",
      "20/20 - 3s - 164ms/step - loss: 0.0070 - val_loss: 0.0131\n",
      "Epoch 18/100\n",
      "20/20 - 3s - 166ms/step - loss: 0.0065 - val_loss: 0.0125\n",
      "Epoch 19/100\n",
      "20/20 - 3s - 161ms/step - loss: 0.0062 - val_loss: 0.0112\n",
      "Epoch 20/100\n",
      "20/20 - 3s - 164ms/step - loss: 0.0060 - val_loss: 0.0157\n",
      "Epoch 21/100\n",
      "20/20 - 3s - 165ms/step - loss: 0.0062 - val_loss: 0.0107\n",
      "Epoch 22/100\n",
      "20/20 - 3s - 166ms/step - loss: 0.0060 - val_loss: 0.0100\n",
      "Epoch 23/100\n",
      "20/20 - 3s - 163ms/step - loss: 0.0055 - val_loss: 0.0143\n",
      "Epoch 24/100\n",
      "20/20 - 3s - 164ms/step - loss: 0.0057 - val_loss: 0.0104\n",
      "Epoch 25/100\n",
      "20/20 - 3s - 165ms/step - loss: 0.0072 - val_loss: 0.0159\n",
      "Epoch 26/100\n",
      "20/20 - 3s - 164ms/step - loss: 0.0057 - val_loss: 0.0130\n",
      "Epoch 27/100\n",
      "20/20 - 3s - 164ms/step - loss: 0.0057 - val_loss: 0.0123\n",
      "Epoch 28/100\n",
      "20/20 - 3s - 164ms/step - loss: 0.0057 - val_loss: 0.0100\n",
      "Epoch 29/100\n",
      "20/20 - 3s - 164ms/step - loss: 0.0055 - val_loss: 0.0106\n",
      "Epoch 30/100\n",
      "20/20 - 3s - 167ms/step - loss: 0.0053 - val_loss: 0.0106\n",
      "Epoch 31/100\n",
      "20/20 - 3s - 166ms/step - loss: 0.0057 - val_loss: 0.0112\n",
      "Epoch 32/100\n",
      "20/20 - 3s - 165ms/step - loss: 0.0055 - val_loss: 0.0117\n",
      "Epoch 33/100\n",
      "20/20 - 4s - 177ms/step - loss: 0.0053 - val_loss: 0.0095\n",
      "Epoch 34/100\n",
      "20/20 - 3s - 166ms/step - loss: 0.0056 - val_loss: 0.0112\n",
      "Epoch 35/100\n",
      "20/20 - 3s - 165ms/step - loss: 0.0054 - val_loss: 0.0091\n",
      "Epoch 36/100\n",
      "20/20 - 3s - 166ms/step - loss: 0.0053 - val_loss: 0.0090\n",
      "Epoch 37/100\n",
      "20/20 - 3s - 167ms/step - loss: 0.0052 - val_loss: 0.0093\n",
      "Epoch 38/100\n",
      "20/20 - 3s - 165ms/step - loss: 0.0050 - val_loss: 0.0091\n",
      "Epoch 39/100\n",
      "20/20 - 3s - 164ms/step - loss: 0.0055 - val_loss: 0.0090\n",
      "Epoch 40/100\n",
      "20/20 - 3s - 166ms/step - loss: 0.0051 - val_loss: 0.0090\n",
      "Epoch 41/100\n",
      "20/20 - 3s - 165ms/step - loss: 0.0051 - val_loss: 0.0092\n",
      "Epoch 42/100\n",
      "20/20 - 3s - 164ms/step - loss: 0.0050 - val_loss: 0.0108\n",
      "Epoch 43/100\n",
      "20/20 - 3s - 163ms/step - loss: 0.0052 - val_loss: 0.0109\n",
      "Epoch 44/100\n",
      "20/20 - 3s - 164ms/step - loss: 0.0054 - val_loss: 0.0090\n",
      "Epoch 45/100\n",
      "20/20 - 3s - 164ms/step - loss: 0.0050 - val_loss: 0.0095\n",
      "Epoch 46/100\n",
      "20/20 - 3s - 165ms/step - loss: 0.0052 - val_loss: 0.0092\n",
      "Epoch 47/100\n",
      "20/20 - 3s - 163ms/step - loss: 0.0052 - val_loss: 0.0091\n",
      "Epoch 48/100\n",
      "20/20 - 3s - 163ms/step - loss: 0.0049 - val_loss: 0.0092\n",
      "Epoch 49/100\n",
      "20/20 - 3s - 163ms/step - loss: 0.0051 - val_loss: 0.0094\n",
      "Epoch 50/100\n",
      "20/20 - 3s - 162ms/step - loss: 0.0050 - val_loss: 0.0099\n",
      "Epoch 51/100\n",
      "20/20 - 3s - 163ms/step - loss: 0.0050 - val_loss: 0.0097\n",
      "Epoch 52/100\n",
      "20/20 - 3s - 164ms/step - loss: 0.0052 - val_loss: 0.0090\n",
      "Epoch 53/100\n",
      "20/20 - 3s - 163ms/step - loss: 0.0050 - val_loss: 0.0091\n",
      "Epoch 54/100\n",
      "20/20 - 3s - 163ms/step - loss: 0.0049 - val_loss: 0.0097\n",
      "Epoch 55/100\n",
      "20/20 - 3s - 166ms/step - loss: 0.0052 - val_loss: 0.0090\n",
      "Epoch 56/100\n",
      "20/20 - 3s - 164ms/step - loss: 0.0049 - val_loss: 0.0094\n",
      "Epoch 57/100\n",
      "20/20 - 3s - 164ms/step - loss: 0.0050 - val_loss: 0.0090\n",
      "Epoch 58/100\n",
      "20/20 - 3s - 163ms/step - loss: 0.0049 - val_loss: 0.0110\n",
      "Epoch 59/100\n",
      "20/20 - 3s - 165ms/step - loss: 0.0051 - val_loss: 0.0097\n",
      "Epoch 60/100\n",
      "20/20 - 3s - 164ms/step - loss: 0.0050 - val_loss: 0.0091\n",
      "Epoch 61/100\n",
      "20/20 - 3s - 166ms/step - loss: 0.0051 - val_loss: 0.0089\n",
      "Epoch 62/100\n",
      "20/20 - 3s - 165ms/step - loss: 0.0050 - val_loss: 0.0091\n",
      "Epoch 63/100\n",
      "20/20 - 3s - 167ms/step - loss: 0.0049 - val_loss: 0.0099\n",
      "Epoch 64/100\n",
      "20/20 - 3s - 165ms/step - loss: 0.0051 - val_loss: 0.0092\n",
      "Epoch 65/100\n",
      "20/20 - 3s - 165ms/step - loss: 0.0050 - val_loss: 0.0095\n",
      "Epoch 66/100\n",
      "20/20 - 3s - 165ms/step - loss: 0.0049 - val_loss: 0.0094\n",
      "Epoch 67/100\n",
      "20/20 - 3s - 162ms/step - loss: 0.0049 - val_loss: 0.0094\n",
      "Epoch 68/100\n",
      "20/20 - 3s - 165ms/step - loss: 0.0050 - val_loss: 0.0096\n",
      "Epoch 69/100\n",
      "20/20 - 3s - 165ms/step - loss: 0.0049 - val_loss: 0.0101\n",
      "Epoch 70/100\n",
      "20/20 - 3s - 165ms/step - loss: 0.0050 - val_loss: 0.0090\n",
      "Epoch 71/100\n",
      "20/20 - 3s - 165ms/step - loss: 0.0049 - val_loss: 0.0090\n",
      "Epoch 72/100\n",
      "20/20 - 3s - 166ms/step - loss: 0.0049 - val_loss: 0.0091\n",
      "Epoch 73/100\n",
      "20/20 - 3s - 164ms/step - loss: 0.0049 - val_loss: 0.0090\n",
      "Epoch 74/100\n",
      "20/20 - 3s - 163ms/step - loss: 0.0050 - val_loss: 0.0089\n",
      "Epoch 75/100\n",
      "20/20 - 3s - 163ms/step - loss: 0.0048 - val_loss: 0.0098\n",
      "Epoch 76/100\n",
      "20/20 - 3s - 164ms/step - loss: 0.0049 - val_loss: 0.0091\n",
      "Epoch 77/100\n",
      "20/20 - 3s - 162ms/step - loss: 0.0049 - val_loss: 0.0098\n",
      "Epoch 78/100\n",
      "20/20 - 3s - 163ms/step - loss: 0.0050 - val_loss: 0.0091\n",
      "Epoch 79/100\n",
      "20/20 - 3s - 162ms/step - loss: 0.0049 - val_loss: 0.0095\n",
      "Epoch 80/100\n",
      "20/20 - 3s - 165ms/step - loss: 0.0049 - val_loss: 0.0090\n",
      "Epoch 81/100\n",
      "20/20 - 3s - 165ms/step - loss: 0.0049 - val_loss: 0.0099\n",
      "Epoch 82/100\n",
      "20/20 - 3s - 163ms/step - loss: 0.0050 - val_loss: 0.0092\n",
      "Epoch 83/100\n",
      "20/20 - 3s - 164ms/step - loss: 0.0049 - val_loss: 0.0090\n",
      "Epoch 84/100\n",
      "20/20 - 3s - 167ms/step - loss: 0.0049 - val_loss: 0.0090\n",
      "Epoch 85/100\n",
      "20/20 - 3s - 172ms/step - loss: 0.0050 - val_loss: 0.0104\n",
      "Epoch 86/100\n",
      "20/20 - 3s - 166ms/step - loss: 0.0049 - val_loss: 0.0092\n",
      "Epoch 87/100\n",
      "20/20 - 3s - 162ms/step - loss: 0.0048 - val_loss: 0.0098\n",
      "Epoch 88/100\n",
      "20/20 - 3s - 163ms/step - loss: 0.0050 - val_loss: 0.0090\n",
      "Epoch 89/100\n",
      "20/20 - 3s - 166ms/step - loss: 0.0049 - val_loss: 0.0090\n"
     ]
    },
    {
     "data": {
      "text/plain": [
       "<keras.src.callbacks.history.History at 0x18acede3590>"
      ]
     },
     "execution_count": 345,
     "metadata": {},
     "output_type": "execute_result"
    }
   ],
   "source": [
    "hp_lr = 1e-4\n",
    "model.compile(\n",
    "    optimizer=tf.keras.optimizers.Adam(learning_rate=hp_lr), loss=\"mean_absolute_error\"\n",
    ")\n",
    "\n",
    "es = EarlyStopping(\n",
    "    monitor=\"val_loss\", mode=\"min\", verbose=0, patience=15, restore_best_weights=True\n",
    ")\n",
    "\n",
    "# fit the models\n",
    "model.fit(\n",
    "    X_train_scaled,\n",
    "    y_train_scaled,\n",
    "    validation_split=0.15,\n",
    "    epochs=100,\n",
    "    batch_size=64,\n",
    "    verbose=2,\n",
    "    callbacks=[es],\n",
    ")"
   ]
  },
  {
   "cell_type": "code",
   "execution_count": 347,
   "id": "2b9f3db3-78d1-406b-bf24-755a2120a007",
   "metadata": {},
   "outputs": [
    {
     "name": "stdout",
     "output_type": "stream",
     "text": [
      "\u001b[1m46/46\u001b[0m \u001b[32m━━━━━━━━━━━━━━━━━━━━\u001b[0m\u001b[37m\u001b[0m \u001b[1m3s\u001b[0m 53ms/step\n",
      "r2 score of the model on the in-sample set: 0.9984164562463672\n",
      "correlation between the predicted values and the actual in-sample data: [[1.         0.99921279]\n",
      " [0.99921279 1.        ]]\n"
     ]
    }
   ],
   "source": [
    "train_pred = model.predict(X_train_scaled)\n",
    "print(\"r2 score of the model on the in-sample set:\", r2_score(y_train_scaled, train_pred))\n",
    "print(\"correlation between the predicted values and the actual in-sample data:\", np.corrcoef(y_train_scaled, train_pred.flatten()))"
   ]
  },
  {
   "cell_type": "code",
   "execution_count": 349,
   "id": "0b5c8642-32e2-4382-ac99-c0e305045b4c",
   "metadata": {},
   "outputs": [
    {
     "name": "stdout",
     "output_type": "stream",
     "text": [
      "\u001b[1m15/15\u001b[0m \u001b[32m━━━━━━━━━━━━━━━━━━━━\u001b[0m\u001b[37m\u001b[0m \u001b[1m1s\u001b[0m 43ms/step\n",
      "r2 score of the model on the out-of-sample test set: 0.9809728253443617\n",
      "correlation between the predicted values and the actual in-sample data: [[1.         0.99437019]\n",
      " [0.99437019 1.        ]]\n"
     ]
    }
   ],
   "source": [
    "y_pred = model.predict(X_test_scaled)\n",
    "print(\"r2 score of the model on the out-of-sample test set:\", r2_score(y_test_scaled, y_pred))\n",
    "print(\"correlation between the predicted values and the actual in-sample data:\", np.corrcoef(y_test_scaled, y_pred.flatten()))"
   ]
  },
  {
   "cell_type": "markdown",
   "id": "46e70966-c76a-4429-989a-cf2b676b6079",
   "metadata": {},
   "source": [
    "Here, I get an r2 score of 0.99 on the test set. Again, data leakage exists here."
   ]
  },
  {
   "cell_type": "code",
   "execution_count": 354,
   "id": "cec62182-cc91-42fe-b8f9-298a79d8ec0a",
   "metadata": {},
   "outputs": [
    {
     "data": {
      "text/plain": [
       "[<matplotlib.lines.Line2D at 0x18ad6a5be60>]"
      ]
     },
     "execution_count": 354,
     "metadata": {},
     "output_type": "execute_result"
    },
    {
     "data": {
      "image/png": "[encoded data removed]",
      "text/plain": [
       "<Figure size 640x480 with 1 Axes>"
      ]
     },
     "metadata": {},
     "output_type": "display_data"
    }
   ],
   "source": [
    "plt.plot(y_test_scaled)\n",
    "plt.plot(y_pred)"
   ]
  },
  {
   "cell_type": "code",
   "execution_count": null,
   "id": "309b096b-a172-43b6-b377-309fa2b7b07d",
   "metadata": {},
   "outputs": [],
   "source": []
  }
 ],
 "metadata": {
  "kernelspec": {
   "display_name": "Python [conda env:base] *",
   "language": "python",
   "name": "conda-base-py"
  },
  "language_info": {
   "codemirror_mode": {
    "name": "ipython",
    "version": 3
   },
   "file_extension": ".py",
   "mimetype": "text/x-python",
   "name": "python",
   "nbconvert_exporter": "python",
   "pygments_lexer": "ipython3",
   "version": "3.12.7"
  }
 },
 "nbformat": 4,
 "nbformat_minor": 5
}
