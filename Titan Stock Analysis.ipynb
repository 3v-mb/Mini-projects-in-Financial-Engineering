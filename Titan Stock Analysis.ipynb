{
 "cells": [
  {
   "cell_type": "code",
   "execution_count": 17,
   "id": "db4090f9-4046-4609-97bd-67be774f8947",
   "metadata": {},
   "outputs": [],
   "source": [
    "import numpy as np\n",
    "import pandas as pd\n",
    "import matplotlib.pyplot as plt\n",
    "import yfinance as yf\n",
    "import tensorflow as tf\n",
    "from keras.layers import LSTM, Dense, Dropout\n",
    "from keras import Sequential\n",
    "from keras.callbacks import EarlyStopping\n",
    "from sklearn.preprocessing import MinMaxScaler\n",
    "from sklearn.metrics import r2_score\n",
    "from statsmodels.graphics.tsaplots import plot_acf, plot_pacf\n",
    "from statsmodels.tsa.stattools import adfuller\n",
    "import datetime as dt"
   ]
  },
  {
   "cell_type": "markdown",
   "id": "026e2c65-21ce-4c75-9d68-575001044acd",
   "metadata": {},
   "source": [
    "## Step 1"
   ]
  },
  {
   "cell_type": "markdown",
   "id": "49d86cc2-c939-48ea-bb29-66ea87e48359",
   "metadata": {},
   "source": [
    "Let us download the data for the Titan stock"
   ]
  },
  {
   "cell_type": "code",
   "execution_count": 18,
   "id": "94f13e55-ad39-4238-b477-102e082c1a54",
   "metadata": {},
   "outputs": [],
   "source": [
    "stock_data = yf.Ticker(\"TITAN.NS\").history(start=\"2017-01-01\", end=\"2024-12-31\")"
   ]
  },
  {
   "cell_type": "code",
   "execution_count": 19,
   "id": "1f5c9784-4698-43fe-8260-6fb1a24c2df3",
   "metadata": {},
   "outputs": [
    {
     "data": {
      "text/html": [
       "<div>\n",
       "<style scoped>\n",
       "    .dataframe tbody tr th:only-of-type {\n",
       "        vertical-align: middle;\n",
       "    }\n",
       "\n",
       "    .dataframe tbody tr th {\n",
       "        vertical-align: top;\n",
       "    }\n",
       "\n",
       "    .dataframe thead th {\n",
       "        text-align: right;\n",
       "    }\n",
       "</style>\n",
       "<table border=\"1\" class=\"dataframe\">\n",
       "  <thead>\n",
       "    <tr style=\"text-align: right;\">\n",
       "      <th></th>\n",
       "      <th>Open</th>\n",
       "      <th>High</th>\n",
       "      <th>Low</th>\n",
       "      <th>Close</th>\n",
       "      <th>Volume</th>\n",
       "      <th>Dividends</th>\n",
       "      <th>Stock Splits</th>\n",
       "    </tr>\n",
       "    <tr>\n",
       "      <th>Date</th>\n",
       "      <th></th>\n",
       "      <th></th>\n",
       "      <th></th>\n",
       "      <th></th>\n",
       "      <th></th>\n",
       "      <th></th>\n",
       "      <th></th>\n",
       "    </tr>\n",
       "  </thead>\n",
       "  <tbody>\n",
       "    <tr>\n",
       "      <th>2017-01-02 00:00:00+05:30</th>\n",
       "      <td>315.502586</td>\n",
       "      <td>322.552096</td>\n",
       "      <td>312.193610</td>\n",
       "      <td>320.298187</td>\n",
       "      <td>656084</td>\n",
       "      <td>0.0</td>\n",
       "      <td>0.0</td>\n",
       "    </tr>\n",
       "    <tr>\n",
       "      <th>2017-01-03 00:00:00+05:30</th>\n",
       "      <td>327.060050</td>\n",
       "      <td>340.104093</td>\n",
       "      <td>325.285672</td>\n",
       "      <td>333.917755</td>\n",
       "      <td>2773103</td>\n",
       "      <td>0.0</td>\n",
       "      <td>0.0</td>\n",
       "    </tr>\n",
       "    <tr>\n",
       "      <th>2017-01-04 00:00:00+05:30</th>\n",
       "      <td>336.075739</td>\n",
       "      <td>347.153596</td>\n",
       "      <td>334.924812</td>\n",
       "      <td>344.947601</td>\n",
       "      <td>2371009</td>\n",
       "      <td>0.0</td>\n",
       "      <td>0.0</td>\n",
       "    </tr>\n",
       "    <tr>\n",
       "      <th>2017-01-05 00:00:00+05:30</th>\n",
       "      <td>345.762851</td>\n",
       "      <td>346.721971</td>\n",
       "      <td>340.919305</td>\n",
       "      <td>343.412994</td>\n",
       "      <td>1187872</td>\n",
       "      <td>0.0</td>\n",
       "      <td>0.0</td>\n",
       "    </tr>\n",
       "    <tr>\n",
       "      <th>2017-01-06 00:00:00+05:30</th>\n",
       "      <td>344.324149</td>\n",
       "      <td>348.160630</td>\n",
       "      <td>338.185786</td>\n",
       "      <td>340.679504</td>\n",
       "      <td>1089982</td>\n",
       "      <td>0.0</td>\n",
       "      <td>0.0</td>\n",
       "    </tr>\n",
       "    <tr>\n",
       "      <th>...</th>\n",
       "      <td>...</td>\n",
       "      <td>...</td>\n",
       "      <td>...</td>\n",
       "      <td>...</td>\n",
       "      <td>...</td>\n",
       "      <td>...</td>\n",
       "      <td>...</td>\n",
       "    </tr>\n",
       "    <tr>\n",
       "      <th>2024-12-23 00:00:00+05:30</th>\n",
       "      <td>3378.100098</td>\n",
       "      <td>3406.300049</td>\n",
       "      <td>3336.649902</td>\n",
       "      <td>3396.949951</td>\n",
       "      <td>691202</td>\n",
       "      <td>0.0</td>\n",
       "      <td>0.0</td>\n",
       "    </tr>\n",
       "    <tr>\n",
       "      <th>2024-12-24 00:00:00+05:30</th>\n",
       "      <td>3385.350098</td>\n",
       "      <td>3419.000000</td>\n",
       "      <td>3338.199951</td>\n",
       "      <td>3353.399902</td>\n",
       "      <td>485245</td>\n",
       "      <td>0.0</td>\n",
       "      <td>0.0</td>\n",
       "    </tr>\n",
       "    <tr>\n",
       "      <th>2024-12-26 00:00:00+05:30</th>\n",
       "      <td>3365.000000</td>\n",
       "      <td>3371.850098</td>\n",
       "      <td>3312.649902</td>\n",
       "      <td>3323.050049</td>\n",
       "      <td>637094</td>\n",
       "      <td>0.0</td>\n",
       "      <td>0.0</td>\n",
       "    </tr>\n",
       "    <tr>\n",
       "      <th>2024-12-27 00:00:00+05:30</th>\n",
       "      <td>3319.850098</td>\n",
       "      <td>3345.000000</td>\n",
       "      <td>3301.100098</td>\n",
       "      <td>3309.199951</td>\n",
       "      <td>568989</td>\n",
       "      <td>0.0</td>\n",
       "      <td>0.0</td>\n",
       "    </tr>\n",
       "    <tr>\n",
       "      <th>2024-12-30 00:00:00+05:30</th>\n",
       "      <td>3309.949951</td>\n",
       "      <td>3317.949951</td>\n",
       "      <td>3247.449951</td>\n",
       "      <td>3257.350098</td>\n",
       "      <td>941859</td>\n",
       "      <td>0.0</td>\n",
       "      <td>0.0</td>\n",
       "    </tr>\n",
       "  </tbody>\n",
       "</table>\n",
       "<p>1974 rows × 7 columns</p>\n",
       "</div>"
      ],
      "text/plain": [
       "                                  Open         High          Low        Close  \\\n",
       "Date                                                                            \n",
       "2017-01-02 00:00:00+05:30   315.502586   322.552096   312.193610   320.298187   \n",
       "2017-01-03 00:00:00+05:30   327.060050   340.104093   325.285672   333.917755   \n",
       "2017-01-04 00:00:00+05:30   336.075739   347.153596   334.924812   344.947601   \n",
       "2017-01-05 00:00:00+05:30   345.762851   346.721971   340.919305   343.412994   \n",
       "2017-01-06 00:00:00+05:30   344.324149   348.160630   338.185786   340.679504   \n",
       "...                                ...          ...          ...          ...   \n",
       "2024-12-23 00:00:00+05:30  3378.100098  3406.300049  3336.649902  3396.949951   \n",
       "2024-12-24 00:00:00+05:30  3385.350098  3419.000000  3338.199951  3353.399902   \n",
       "2024-12-26 00:00:00+05:30  3365.000000  3371.850098  3312.649902  3323.050049   \n",
       "2024-12-27 00:00:00+05:30  3319.850098  3345.000000  3301.100098  3309.199951   \n",
       "2024-12-30 00:00:00+05:30  3309.949951  3317.949951  3247.449951  3257.350098   \n",
       "\n",
       "                            Volume  Dividends  Stock Splits  \n",
       "Date                                                         \n",
       "2017-01-02 00:00:00+05:30   656084        0.0           0.0  \n",
       "2017-01-03 00:00:00+05:30  2773103        0.0           0.0  \n",
       "2017-01-04 00:00:00+05:30  2371009        0.0           0.0  \n",
       "2017-01-05 00:00:00+05:30  1187872        0.0           0.0  \n",
       "2017-01-06 00:00:00+05:30  1089982        0.0           0.0  \n",
       "...                            ...        ...           ...  \n",
       "2024-12-23 00:00:00+05:30   691202        0.0           0.0  \n",
       "2024-12-24 00:00:00+05:30   485245        0.0           0.0  \n",
       "2024-12-26 00:00:00+05:30   637094        0.0           0.0  \n",
       "2024-12-27 00:00:00+05:30   568989        0.0           0.0  \n",
       "2024-12-30 00:00:00+05:30   941859        0.0           0.0  \n",
       "\n",
       "[1974 rows x 7 columns]"
      ]
     },
     "execution_count": 19,
     "metadata": {},
     "output_type": "execute_result"
    }
   ],
   "source": [
    "stock_data"
   ]
  },
  {
   "cell_type": "code",
   "execution_count": 25,
   "id": "bcb665c1-a29e-40fc-ad0f-27578f7ad9f0",
   "metadata": {},
   "outputs": [
    {
     "data": {
      "text/html": [
       "<div>\n",
       "<style scoped>\n",
       "    .dataframe tbody tr th:only-of-type {\n",
       "        vertical-align: middle;\n",
       "    }\n",
       "\n",
       "    .dataframe tbody tr th {\n",
       "        vertical-align: top;\n",
       "    }\n",
       "\n",
       "    .dataframe thead th {\n",
       "        text-align: right;\n",
       "    }\n",
       "</style>\n",
       "<table border=\"1\" class=\"dataframe\">\n",
       "  <thead>\n",
       "    <tr style=\"text-align: right;\">\n",
       "      <th></th>\n",
       "      <th>Open</th>\n",
       "      <th>High</th>\n",
       "      <th>Low</th>\n",
       "      <th>Close</th>\n",
       "      <th>Volume</th>\n",
       "      <th>Dividends</th>\n",
       "      <th>Stock Splits</th>\n",
       "    </tr>\n",
       "    <tr>\n",
       "      <th>Date</th>\n",
       "      <th></th>\n",
       "      <th></th>\n",
       "      <th></th>\n",
       "      <th></th>\n",
       "      <th></th>\n",
       "      <th></th>\n",
       "      <th></th>\n",
       "    </tr>\n",
       "  </thead>\n",
       "  <tbody>\n",
       "    <tr>\n",
       "      <th>2017-01-02 00:00:00+05:30</th>\n",
       "      <td>315.502586</td>\n",
       "      <td>322.552096</td>\n",
       "      <td>312.193610</td>\n",
       "      <td>320.298187</td>\n",
       "      <td>656084</td>\n",
       "      <td>0.0</td>\n",
       "      <td>0.0</td>\n",
       "    </tr>\n",
       "    <tr>\n",
       "      <th>2017-01-03 00:00:00+05:30</th>\n",
       "      <td>327.060050</td>\n",
       "      <td>340.104093</td>\n",
       "      <td>325.285672</td>\n",
       "      <td>333.917755</td>\n",
       "      <td>2773103</td>\n",
       "      <td>0.0</td>\n",
       "      <td>0.0</td>\n",
       "    </tr>\n",
       "    <tr>\n",
       "      <th>2017-01-04 00:00:00+05:30</th>\n",
       "      <td>336.075739</td>\n",
       "      <td>347.153596</td>\n",
       "      <td>334.924812</td>\n",
       "      <td>344.947601</td>\n",
       "      <td>2371009</td>\n",
       "      <td>0.0</td>\n",
       "      <td>0.0</td>\n",
       "    </tr>\n",
       "    <tr>\n",
       "      <th>2017-01-05 00:00:00+05:30</th>\n",
       "      <td>345.762851</td>\n",
       "      <td>346.721971</td>\n",
       "      <td>340.919305</td>\n",
       "      <td>343.412994</td>\n",
       "      <td>1187872</td>\n",
       "      <td>0.0</td>\n",
       "      <td>0.0</td>\n",
       "    </tr>\n",
       "    <tr>\n",
       "      <th>2017-01-06 00:00:00+05:30</th>\n",
       "      <td>344.324149</td>\n",
       "      <td>348.160630</td>\n",
       "      <td>338.185786</td>\n",
       "      <td>340.679504</td>\n",
       "      <td>1089982</td>\n",
       "      <td>0.0</td>\n",
       "      <td>0.0</td>\n",
       "    </tr>\n",
       "  </tbody>\n",
       "</table>\n",
       "</div>"
      ],
      "text/plain": [
       "                                 Open        High         Low       Close  \\\n",
       "Date                                                                        \n",
       "2017-01-02 00:00:00+05:30  315.502586  322.552096  312.193610  320.298187   \n",
       "2017-01-03 00:00:00+05:30  327.060050  340.104093  325.285672  333.917755   \n",
       "2017-01-04 00:00:00+05:30  336.075739  347.153596  334.924812  344.947601   \n",
       "2017-01-05 00:00:00+05:30  345.762851  346.721971  340.919305  343.412994   \n",
       "2017-01-06 00:00:00+05:30  344.324149  348.160630  338.185786  340.679504   \n",
       "\n",
       "                            Volume  Dividends  Stock Splits  \n",
       "Date                                                         \n",
       "2017-01-02 00:00:00+05:30   656084        0.0           0.0  \n",
       "2017-01-03 00:00:00+05:30  2773103        0.0           0.0  \n",
       "2017-01-04 00:00:00+05:30  2371009        0.0           0.0  \n",
       "2017-01-05 00:00:00+05:30  1187872        0.0           0.0  \n",
       "2017-01-06 00:00:00+05:30  1089982        0.0           0.0  "
      ]
     },
     "execution_count": 25,
     "metadata": {},
     "output_type": "execute_result"
    }
   ],
   "source": [
    "stock_data.head() #first look at the data"
   ]
  },
  {
   "cell_type": "markdown",
   "id": "0c8f34b3-0fa6-422a-adbb-c08daa57a678",
   "metadata": {},
   "source": [
    "Let us consider the closing prices for the analysis and model building to follow."
   ]
  },
  {
   "cell_type": "code",
   "execution_count": 28,
   "id": "da7aed8f-9113-4391-9188-f38f94959985",
   "metadata": {},
   "outputs": [],
   "source": [
    "stock_prices = stock_data[\"Close\"]"
   ]
  },
  {
   "cell_type": "markdown",
   "id": "ef195581-c8ce-440d-8a1f-43f68fd8edd8",
   "metadata": {},
   "source": [
    "Let us perform some exploratory analysis on the closing prices."
   ]
  },
  {
   "cell_type": "code",
   "execution_count": 31,
   "id": "9e66914e-eb02-4fe3-b9b0-fdc7083b4369",
   "metadata": {},
   "outputs": [
    {
     "data": {
      "text/plain": [
       "count    1974.000000\n",
       "mean     1777.024130\n",
       "std      1020.301013\n",
       "min       320.298187\n",
       "25%       905.107513\n",
       "50%      1420.720703\n",
       "75%      2562.747559\n",
       "max      3854.039062\n",
       "Name: Close, dtype: float64"
      ]
     },
     "execution_count": 31,
     "metadata": {},
     "output_type": "execute_result"
    }
   ],
   "source": [
    "stock_prices.describe() #summary statistics"
   ]
  },
  {
   "cell_type": "code",
   "execution_count": 37,
   "id": "fee08d96-8401-49ad-8262-15755b94f94b",
   "metadata": {},
   "outputs": [
    {
     "data": {
      "image/png": "[encoded data removed]",
      "text/plain": [
       "<Figure size 640x480 with 1 Axes>"
      ]
     },
     "metadata": {},
     "output_type": "display_data"
    }
   ],
   "source": [
    "stock_prices.plot()\n",
    "plt.title(\"Titan Daily Closing Prices\")\n",
    "plt.grid()"
   ]
  },
  {
   "cell_type": "markdown",
   "id": "b18d14d3-e244-45c7-a6d9-84c19e12eed2",
   "metadata": {},
   "source": [
    "Despite some prices corrections, there appears to be a general rising trend in this stock over the years"
   ]
  },
  {
   "cell_type": "markdown",
   "id": "71af7c2a-c9f8-43be-9d1a-0e0b201475bb",
   "metadata": {},
   "source": [
    "Let us now look at the skew and kurtosis."
   ]
  },
  {
   "cell_type": "code",
   "execution_count": 41,
   "id": "9cff35c3-dfbd-4095-a919-674663e382ef",
   "metadata": {},
   "outputs": [
    {
     "data": {
      "text/plain": [
       "0.4788396459924155"
      ]
     },
     "execution_count": 41,
     "metadata": {},
     "output_type": "execute_result"
    }
   ],
   "source": [
    "stock_prices.skew()"
   ]
  },
  {
   "cell_type": "code",
   "execution_count": 43,
   "id": "84dcbe17-95dc-4c73-a7e3-83a70db77fdc",
   "metadata": {},
   "outputs": [
    {
     "data": {
      "text/plain": [
       "-1.1356475289698953"
      ]
     },
     "execution_count": 43,
     "metadata": {},
     "output_type": "execute_result"
    }
   ],
   "source": [
    "stock_prices.kurtosis()"
   ]
  },
  {
   "cell_type": "markdown",
   "id": "9bb303d1-7066-4e7a-a873-98024d442e66",
   "metadata": {},
   "source": [
    "Let us now check for stationarity"
   ]
  },
  {
   "cell_type": "code",
   "execution_count": 48,
   "id": "0de0daaa-6f2f-4382-a3aa-2fece5871a98",
   "metadata": {},
   "outputs": [
    {
     "data": {
      "text/plain": [
       "(-0.6927549164710374,\n",
       " 0.8486172629177092,\n",
       " 4,\n",
       " {'1%': -3.433675467561267,\n",
       "  '5%': -2.863008999826203,\n",
       "  '10%': -2.5675520348463654})"
      ]
     },
     "execution_count": 48,
     "metadata": {},
     "output_type": "execute_result"
    }
   ],
   "source": [
    "adf_result = adfuller(stock_prices)\n",
    "adf_statistic = adf_result[0] \n",
    "p_value = adf_result[1]\n",
    "used_lags = adf_result[2] \n",
    "critical_values = adf_result[4] \n",
    "\n",
    "adf_statistic, p_value, used_lags, critical_values"
   ]
  },
  {
   "cell_type": "markdown",
   "id": "a0ed8357-3237-4fa4-824a-d241655053ee",
   "metadata": {},
   "source": [
    "The series is not stationary, as the p-value is greater than 0.05. The ADF statistic is also higher than all critical values."
   ]
  },
  {
   "cell_type": "markdown",
   "id": "28d2fec8-817f-459f-939b-a181d4ad8e91",
   "metadata": {},
   "source": [
    "Let us check for the presence of persistence in the series"
   ]
  },
  {
   "cell_type": "code",
   "execution_count": 52,
   "id": "fd68971c-30e2-488e-99b3-1a69e39c056e",
   "metadata": {},
   "outputs": [
    {
     "name": "stdout",
     "output_type": "stream",
     "text": [
      "0.9995098501235516\n",
      "0.9974090942183587\n",
      "0.994880270373017\n",
      "0.9763846324044606\n",
      "0.9581783377427333\n",
      "0.9292831670282055\n",
      "0.9138901418023251\n",
      "0.8339297669499727\n"
     ]
    }
   ],
   "source": [
    "for i in [1, 5, 10, 50, 100, 200, 500, 1000]:\n",
    "    print(stock_prices.autocorr(lag = i))"
   ]
  },
  {
   "cell_type": "markdown",
   "id": "176e7c3a-6d8e-44c6-9237-b52a26bbb8b7",
   "metadata": {},
   "source": [
    "Clearly, high autocorrelation is present in the stock."
   ]
  },
  {
   "cell_type": "code",
   "execution_count": 57,
   "id": "32d75e42-3656-4ef2-9573-250bbb79f761",
   "metadata": {},
   "outputs": [
    {
     "data": {
      "text/plain": [
       "Text(0.5, 1.0, 'Histogram of Titan Closing Prices')"
      ]
     },
     "execution_count": 57,
     "metadata": {},
     "output_type": "execute_result"
    },
    {
     "data": {
      "image/png": "[encoded data removed]",
      "text/plain": [
       "<Figure size 640x480 with 1 Axes>"
      ]
     },
     "metadata": {},
     "output_type": "display_data"
    }
   ],
   "source": [
    "stock_prices.hist()\n",
    "plt.title(\"Histogram of Titan Closing Prices\")"
   ]
  },
  {
   "cell_type": "code",
   "execution_count": null,
   "id": "7a2b718c-c162-4007-882e-fc029528e55e",
   "metadata": {},
   "outputs": [],
   "source": []
  }
 ],
 "metadata": {
  "kernelspec": {
   "display_name": "Python [conda env:base] *",
   "language": "python",
   "name": "conda-base-py"
  },
  "language_info": {
   "codemirror_mode": {
    "name": "ipython",
    "version": 3
   },
   "file_extension": ".py",
   "mimetype": "text/x-python",
   "name": "python",
   "nbconvert_exporter": "python",
   "pygments_lexer": "ipython3",
   "version": "3.12.7"
  }
 },
 "nbformat": 4,
 "nbformat_minor": 5
}
