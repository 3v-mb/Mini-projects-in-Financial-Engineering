{
 "cells": [
  {
   "cell_type": "code",
   "execution_count": 1,
   "id": "db4090f9-4046-4609-97bd-67be774f8947",
   "metadata": {},
   "outputs": [],
   "source": [
    "import numpy as np\n",
    "import pandas as pd\n",
    "import matplotlib.pyplot as plt\n",
    "import yfinance as yf\n",
    "import tensorflow as tf\n",
    "import keras_tuner as kt\n",
    "from keras.layers import LSTM, Dense, Dropout\n",
    "from keras import Sequential\n",
    "from keras.callbacks import EarlyStopping\n",
    "from sklearn.preprocessing import MinMaxScaler\n",
    "from sklearn.metrics import r2_score\n",
    "from statsmodels.graphics.tsaplots import plot_acf, plot_pacf\n",
    "from statsmodels.tsa.stattools import adfuller\n",
    "import datetime as dt"
   ]
  },
  {
   "cell_type": "markdown",
   "id": "026e2c65-21ce-4c75-9d68-575001044acd",
   "metadata": {},
   "source": [
    "## Step 1"
   ]
  },
  {
   "cell_type": "markdown",
   "id": "cec32b4c-6b46-4129-9e3b-06f8efe6db9a",
   "metadata": {},
   "source": [
    "## 1. a"
   ]
  },
  {
   "cell_type": "markdown",
   "id": "49d86cc2-c939-48ea-bb29-66ea87e48359",
   "metadata": {},
   "source": [
    "Let us download the data for the Titan stock"
   ]
  },
  {
   "cell_type": "code",
   "execution_count": 5,
   "id": "94f13e55-ad39-4238-b477-102e082c1a54",
   "metadata": {},
   "outputs": [],
   "source": [
    "stock_data = yf.Ticker(\"TITAN.NS\").history(start=\"2017-01-01\", end=\"2024-12-31\")"
   ]
  },
  {
   "cell_type": "code",
   "execution_count": 6,
   "id": "1f5c9784-4698-43fe-8260-6fb1a24c2df3",
   "metadata": {},
   "outputs": [
    {
     "data": {
      "text/html": [
       "<div>\n",
       "<style scoped>\n",
       "    .dataframe tbody tr th:only-of-type {\n",
       "        vertical-align: middle;\n",
       "    }\n",
       "\n",
       "    .dataframe tbody tr th {\n",
       "        vertical-align: top;\n",
       "    }\n",
       "\n",
       "    .dataframe thead th {\n",
       "        text-align: right;\n",
       "    }\n",
       "</style>\n",
       "<table border=\"1\" class=\"dataframe\">\n",
       "  <thead>\n",
       "    <tr style=\"text-align: right;\">\n",
       "      <th></th>\n",
       "      <th>Open</th>\n",
       "      <th>High</th>\n",
       "      <th>Low</th>\n",
       "      <th>Close</th>\n",
       "      <th>Volume</th>\n",
       "      <th>Dividends</th>\n",
       "      <th>Stock Splits</th>\n",
       "    </tr>\n",
       "    <tr>\n",
       "      <th>Date</th>\n",
       "      <th></th>\n",
       "      <th></th>\n",
       "      <th></th>\n",
       "      <th></th>\n",
       "      <th></th>\n",
       "      <th></th>\n",
       "      <th></th>\n",
       "    </tr>\n",
       "  </thead>\n",
       "  <tbody>\n",
       "    <tr>\n",
       "      <th>2017-01-02 00:00:00+05:30</th>\n",
       "      <td>315.502586</td>\n",
       "      <td>322.552096</td>\n",
       "      <td>312.193610</td>\n",
       "      <td>320.298187</td>\n",
       "      <td>656084</td>\n",
       "      <td>0.0</td>\n",
       "      <td>0.0</td>\n",
       "    </tr>\n",
       "    <tr>\n",
       "      <th>2017-01-03 00:00:00+05:30</th>\n",
       "      <td>327.060020</td>\n",
       "      <td>340.104062</td>\n",
       "      <td>325.285642</td>\n",
       "      <td>333.917725</td>\n",
       "      <td>2773103</td>\n",
       "      <td>0.0</td>\n",
       "      <td>0.0</td>\n",
       "    </tr>\n",
       "    <tr>\n",
       "      <th>2017-01-04 00:00:00+05:30</th>\n",
       "      <td>336.075769</td>\n",
       "      <td>347.153626</td>\n",
       "      <td>334.924842</td>\n",
       "      <td>344.947632</td>\n",
       "      <td>2371009</td>\n",
       "      <td>0.0</td>\n",
       "      <td>0.0</td>\n",
       "    </tr>\n",
       "    <tr>\n",
       "      <th>2017-01-05 00:00:00+05:30</th>\n",
       "      <td>345.762881</td>\n",
       "      <td>346.722002</td>\n",
       "      <td>340.919335</td>\n",
       "      <td>343.413025</td>\n",
       "      <td>1187872</td>\n",
       "      <td>0.0</td>\n",
       "      <td>0.0</td>\n",
       "    </tr>\n",
       "    <tr>\n",
       "      <th>2017-01-06 00:00:00+05:30</th>\n",
       "      <td>344.324180</td>\n",
       "      <td>348.160661</td>\n",
       "      <td>338.185816</td>\n",
       "      <td>340.679535</td>\n",
       "      <td>1089982</td>\n",
       "      <td>0.0</td>\n",
       "      <td>0.0</td>\n",
       "    </tr>\n",
       "    <tr>\n",
       "      <th>...</th>\n",
       "      <td>...</td>\n",
       "      <td>...</td>\n",
       "      <td>...</td>\n",
       "      <td>...</td>\n",
       "      <td>...</td>\n",
       "      <td>...</td>\n",
       "      <td>...</td>\n",
       "    </tr>\n",
       "    <tr>\n",
       "      <th>2024-12-23 00:00:00+05:30</th>\n",
       "      <td>3378.100098</td>\n",
       "      <td>3406.300049</td>\n",
       "      <td>3336.649902</td>\n",
       "      <td>3396.949951</td>\n",
       "      <td>691202</td>\n",
       "      <td>0.0</td>\n",
       "      <td>0.0</td>\n",
       "    </tr>\n",
       "    <tr>\n",
       "      <th>2024-12-24 00:00:00+05:30</th>\n",
       "      <td>3385.350098</td>\n",
       "      <td>3419.000000</td>\n",
       "      <td>3338.199951</td>\n",
       "      <td>3353.399902</td>\n",
       "      <td>485245</td>\n",
       "      <td>0.0</td>\n",
       "      <td>0.0</td>\n",
       "    </tr>\n",
       "    <tr>\n",
       "      <th>2024-12-26 00:00:00+05:30</th>\n",
       "      <td>3365.000000</td>\n",
       "      <td>3371.850098</td>\n",
       "      <td>3312.649902</td>\n",
       "      <td>3323.050049</td>\n",
       "      <td>637094</td>\n",
       "      <td>0.0</td>\n",
       "      <td>0.0</td>\n",
       "    </tr>\n",
       "    <tr>\n",
       "      <th>2024-12-27 00:00:00+05:30</th>\n",
       "      <td>3319.850098</td>\n",
       "      <td>3345.000000</td>\n",
       "      <td>3301.100098</td>\n",
       "      <td>3309.199951</td>\n",
       "      <td>568989</td>\n",
       "      <td>0.0</td>\n",
       "      <td>0.0</td>\n",
       "    </tr>\n",
       "    <tr>\n",
       "      <th>2024-12-30 00:00:00+05:30</th>\n",
       "      <td>3309.949951</td>\n",
       "      <td>3317.949951</td>\n",
       "      <td>3247.449951</td>\n",
       "      <td>3257.350098</td>\n",
       "      <td>941859</td>\n",
       "      <td>0.0</td>\n",
       "      <td>0.0</td>\n",
       "    </tr>\n",
       "  </tbody>\n",
       "</table>\n",
       "<p>1974 rows × 7 columns</p>\n",
       "</div>"
      ],
      "text/plain": [
       "                                  Open         High          Low        Close  \\\n",
       "Date                                                                            \n",
       "2017-01-02 00:00:00+05:30   315.502586   322.552096   312.193610   320.298187   \n",
       "2017-01-03 00:00:00+05:30   327.060020   340.104062   325.285642   333.917725   \n",
       "2017-01-04 00:00:00+05:30   336.075769   347.153626   334.924842   344.947632   \n",
       "2017-01-05 00:00:00+05:30   345.762881   346.722002   340.919335   343.413025   \n",
       "2017-01-06 00:00:00+05:30   344.324180   348.160661   338.185816   340.679535   \n",
       "...                                ...          ...          ...          ...   \n",
       "2024-12-23 00:00:00+05:30  3378.100098  3406.300049  3336.649902  3396.949951   \n",
       "2024-12-24 00:00:00+05:30  3385.350098  3419.000000  3338.199951  3353.399902   \n",
       "2024-12-26 00:00:00+05:30  3365.000000  3371.850098  3312.649902  3323.050049   \n",
       "2024-12-27 00:00:00+05:30  3319.850098  3345.000000  3301.100098  3309.199951   \n",
       "2024-12-30 00:00:00+05:30  3309.949951  3317.949951  3247.449951  3257.350098   \n",
       "\n",
       "                            Volume  Dividends  Stock Splits  \n",
       "Date                                                         \n",
       "2017-01-02 00:00:00+05:30   656084        0.0           0.0  \n",
       "2017-01-03 00:00:00+05:30  2773103        0.0           0.0  \n",
       "2017-01-04 00:00:00+05:30  2371009        0.0           0.0  \n",
       "2017-01-05 00:00:00+05:30  1187872        0.0           0.0  \n",
       "2017-01-06 00:00:00+05:30  1089982        0.0           0.0  \n",
       "...                            ...        ...           ...  \n",
       "2024-12-23 00:00:00+05:30   691202        0.0           0.0  \n",
       "2024-12-24 00:00:00+05:30   485245        0.0           0.0  \n",
       "2024-12-26 00:00:00+05:30   637094        0.0           0.0  \n",
       "2024-12-27 00:00:00+05:30   568989        0.0           0.0  \n",
       "2024-12-30 00:00:00+05:30   941859        0.0           0.0  \n",
       "\n",
       "[1974 rows x 7 columns]"
      ]
     },
     "execution_count": 6,
     "metadata": {},
     "output_type": "execute_result"
    }
   ],
   "source": [
    "stock_data"
   ]
  },
  {
   "cell_type": "code",
   "execution_count": 7,
   "id": "bcb665c1-a29e-40fc-ad0f-27578f7ad9f0",
   "metadata": {},
   "outputs": [
    {
     "data": {
      "text/html": [
       "<div>\n",
       "<style scoped>\n",
       "    .dataframe tbody tr th:only-of-type {\n",
       "        vertical-align: middle;\n",
       "    }\n",
       "\n",
       "    .dataframe tbody tr th {\n",
       "        vertical-align: top;\n",
       "    }\n",
       "\n",
       "    .dataframe thead th {\n",
       "        text-align: right;\n",
       "    }\n",
       "</style>\n",
       "<table border=\"1\" class=\"dataframe\">\n",
       "  <thead>\n",
       "    <tr style=\"text-align: right;\">\n",
       "      <th></th>\n",
       "      <th>Open</th>\n",
       "      <th>High</th>\n",
       "      <th>Low</th>\n",
       "      <th>Close</th>\n",
       "      <th>Volume</th>\n",
       "      <th>Dividends</th>\n",
       "      <th>Stock Splits</th>\n",
       "    </tr>\n",
       "    <tr>\n",
       "      <th>Date</th>\n",
       "      <th></th>\n",
       "      <th></th>\n",
       "      <th></th>\n",
       "      <th></th>\n",
       "      <th></th>\n",
       "      <th></th>\n",
       "      <th></th>\n",
       "    </tr>\n",
       "  </thead>\n",
       "  <tbody>\n",
       "    <tr>\n",
       "      <th>2017-01-02 00:00:00+05:30</th>\n",
       "      <td>315.502586</td>\n",
       "      <td>322.552096</td>\n",
       "      <td>312.193610</td>\n",
       "      <td>320.298187</td>\n",
       "      <td>656084</td>\n",
       "      <td>0.0</td>\n",
       "      <td>0.0</td>\n",
       "    </tr>\n",
       "    <tr>\n",
       "      <th>2017-01-03 00:00:00+05:30</th>\n",
       "      <td>327.060020</td>\n",
       "      <td>340.104062</td>\n",
       "      <td>325.285642</td>\n",
       "      <td>333.917725</td>\n",
       "      <td>2773103</td>\n",
       "      <td>0.0</td>\n",
       "      <td>0.0</td>\n",
       "    </tr>\n",
       "    <tr>\n",
       "      <th>2017-01-04 00:00:00+05:30</th>\n",
       "      <td>336.075769</td>\n",
       "      <td>347.153626</td>\n",
       "      <td>334.924842</td>\n",
       "      <td>344.947632</td>\n",
       "      <td>2371009</td>\n",
       "      <td>0.0</td>\n",
       "      <td>0.0</td>\n",
       "    </tr>\n",
       "    <tr>\n",
       "      <th>2017-01-05 00:00:00+05:30</th>\n",
       "      <td>345.762881</td>\n",
       "      <td>346.722002</td>\n",
       "      <td>340.919335</td>\n",
       "      <td>343.413025</td>\n",
       "      <td>1187872</td>\n",
       "      <td>0.0</td>\n",
       "      <td>0.0</td>\n",
       "    </tr>\n",
       "    <tr>\n",
       "      <th>2017-01-06 00:00:00+05:30</th>\n",
       "      <td>344.324180</td>\n",
       "      <td>348.160661</td>\n",
       "      <td>338.185816</td>\n",
       "      <td>340.679535</td>\n",
       "      <td>1089982</td>\n",
       "      <td>0.0</td>\n",
       "      <td>0.0</td>\n",
       "    </tr>\n",
       "  </tbody>\n",
       "</table>\n",
       "</div>"
      ],
      "text/plain": [
       "                                 Open        High         Low       Close  \\\n",
       "Date                                                                        \n",
       "2017-01-02 00:00:00+05:30  315.502586  322.552096  312.193610  320.298187   \n",
       "2017-01-03 00:00:00+05:30  327.060020  340.104062  325.285642  333.917725   \n",
       "2017-01-04 00:00:00+05:30  336.075769  347.153626  334.924842  344.947632   \n",
       "2017-01-05 00:00:00+05:30  345.762881  346.722002  340.919335  343.413025   \n",
       "2017-01-06 00:00:00+05:30  344.324180  348.160661  338.185816  340.679535   \n",
       "\n",
       "                            Volume  Dividends  Stock Splits  \n",
       "Date                                                         \n",
       "2017-01-02 00:00:00+05:30   656084        0.0           0.0  \n",
       "2017-01-03 00:00:00+05:30  2773103        0.0           0.0  \n",
       "2017-01-04 00:00:00+05:30  2371009        0.0           0.0  \n",
       "2017-01-05 00:00:00+05:30  1187872        0.0           0.0  \n",
       "2017-01-06 00:00:00+05:30  1089982        0.0           0.0  "
      ]
     },
     "execution_count": 7,
     "metadata": {},
     "output_type": "execute_result"
    }
   ],
   "source": [
    "stock_data.head() #first look at the data"
   ]
  },
  {
   "cell_type": "markdown",
   "id": "0c8f34b3-0fa6-422a-adbb-c08daa57a678",
   "metadata": {},
   "source": [
    "Let us consider the closing prices for the analysis and model building to follow."
   ]
  },
  {
   "cell_type": "code",
   "execution_count": 9,
   "id": "da7aed8f-9113-4391-9188-f38f94959985",
   "metadata": {},
   "outputs": [],
   "source": [
    "stock_prices = stock_data[\"Close\"]"
   ]
  },
  {
   "cell_type": "markdown",
   "id": "ef195581-c8ce-440d-8a1f-43f68fd8edd8",
   "metadata": {},
   "source": [
    "Let us perform some exploratory analysis on the closing prices."
   ]
  },
  {
   "cell_type": "code",
   "execution_count": 11,
   "id": "9e66914e-eb02-4fe3-b9b0-fdc7083b4369",
   "metadata": {},
   "outputs": [
    {
     "data": {
      "text/plain": [
       "count    1974.000000\n",
       "mean     1777.024133\n",
       "std      1020.301012\n",
       "min       320.298187\n",
       "25%       905.107590\n",
       "50%      1420.720886\n",
       "75%      2562.747803\n",
       "max      3854.039062\n",
       "Name: Close, dtype: float64"
      ]
     },
     "execution_count": 11,
     "metadata": {},
     "output_type": "execute_result"
    }
   ],
   "source": [
    "stock_prices.describe() #summary statistics"
   ]
  },
  {
   "cell_type": "code",
   "execution_count": 12,
   "id": "fee08d96-8401-49ad-8262-15755b94f94b",
   "metadata": {},
   "outputs": [
    {
     "data": {
      "image/png": "[encoded data removed]",
      "text/plain": [
       "<Figure size 640x480 with 1 Axes>"
      ]
     },
     "metadata": {},
     "output_type": "display_data"
    }
   ],
   "source": [
    "stock_prices.plot()\n",
    "plt.title(\"Titan Daily Closing Prices\")\n",
    "plt.grid()"
   ]
  },
  {
   "cell_type": "markdown",
   "id": "b18d14d3-e244-45c7-a6d9-84c19e12eed2",
   "metadata": {},
   "source": [
    "Despite some prices corrections, there appears to be a general rising trend in this stock over the years"
   ]
  },
  {
   "cell_type": "markdown",
   "id": "71af7c2a-c9f8-43be-9d1a-0e0b201475bb",
   "metadata": {},
   "source": [
    "Let us now look at the skew and kurtosis."
   ]
  },
  {
   "cell_type": "code",
   "execution_count": 15,
   "id": "9cff35c3-dfbd-4095-a919-674663e382ef",
   "metadata": {},
   "outputs": [
    {
     "data": {
      "text/plain": [
       "0.4788396470325976"
      ]
     },
     "execution_count": 15,
     "metadata": {},
     "output_type": "execute_result"
    }
   ],
   "source": [
    "stock_prices.skew()"
   ]
  },
  {
   "cell_type": "code",
   "execution_count": 16,
   "id": "84dcbe17-95dc-4c73-a7e3-83a70db77fdc",
   "metadata": {},
   "outputs": [
    {
     "data": {
      "text/plain": [
       "-1.135647531826168"
      ]
     },
     "execution_count": 16,
     "metadata": {},
     "output_type": "execute_result"
    }
   ],
   "source": [
    "stock_prices.kurtosis()"
   ]
  },
  {
   "cell_type": "markdown",
   "id": "9bb303d1-7066-4e7a-a873-98024d442e66",
   "metadata": {},
   "source": [
    "Let us now check for stationarity"
   ]
  },
  {
   "cell_type": "code",
   "execution_count": 18,
   "id": "0de0daaa-6f2f-4382-a3aa-2fece5871a98",
   "metadata": {},
   "outputs": [
    {
     "data": {
      "text/plain": [
       "(-0.692755083580872,\n",
       " 0.8486172200434915,\n",
       " 4,\n",
       " {'1%': -3.433675467561267,\n",
       "  '5%': -2.863008999826203,\n",
       "  '10%': -2.5675520348463654})"
      ]
     },
     "execution_count": 18,
     "metadata": {},
     "output_type": "execute_result"
    }
   ],
   "source": [
    "adf_result = adfuller(stock_prices)\n",
    "adf_statistic = adf_result[0] \n",
    "p_value = adf_result[1]\n",
    "used_lags = adf_result[2] \n",
    "critical_values = adf_result[4] \n",
    "\n",
    "adf_statistic, p_value, used_lags, critical_values"
   ]
  },
  {
   "cell_type": "markdown",
   "id": "a0ed8357-3237-4fa4-824a-d241655053ee",
   "metadata": {},
   "source": [
    "The series is not stationary, as the p-value is greater than 0.05. The ADF statistic is also higher than all critical values."
   ]
  },
  {
   "cell_type": "markdown",
   "id": "28d2fec8-817f-459f-939b-a181d4ad8e91",
   "metadata": {},
   "source": [
    "Let us check for the presence of persistence in the series"
   ]
  },
  {
   "cell_type": "code",
   "execution_count": 21,
   "id": "fd68971c-30e2-488e-99b3-1a69e39c056e",
   "metadata": {},
   "outputs": [
    {
     "name": "stdout",
     "output_type": "stream",
     "text": [
      "0.9995098501385749\n",
      "0.9974090941216508\n",
      "0.9948802703794247\n",
      "0.9763846331103452\n",
      "0.9581783386719043\n",
      "0.9292831694027048\n",
      "0.9138901454351892\n",
      "0.8339297829042784\n"
     ]
    }
   ],
   "source": [
    "for i in [1, 5, 10, 50, 100, 200, 500, 1000]:\n",
    "    print(stock_prices.autocorr(lag = i))"
   ]
  },
  {
   "cell_type": "markdown",
   "id": "176e7c3a-6d8e-44c6-9237-b52a26bbb8b7",
   "metadata": {},
   "source": [
    "Clearly, high autocorrelation is present in the stock."
   ]
  },
  {
   "cell_type": "code",
   "execution_count": 23,
   "id": "32d75e42-3656-4ef2-9573-250bbb79f761",
   "metadata": {},
   "outputs": [
    {
     "data": {
      "text/plain": [
       "Text(0.5, 1.0, 'Histogram of Titan Closing Prices')"
      ]
     },
     "execution_count": 23,
     "metadata": {},
     "output_type": "execute_result"
    },
    {
     "data": {
      "image/png": "[encoded data removed]",
      "text/plain": [
       "<Figure size 640x480 with 1 Axes>"
      ]
     },
     "metadata": {},
     "output_type": "display_data"
    }
   ],
   "source": [
    "stock_prices.hist()\n",
    "plt.title(\"Histogram of Titan Closing Prices\")"
   ]
  },
  {
   "cell_type": "markdown",
   "id": "b5dcfa36-86c7-49d0-adf8-d48f5ffb1bda",
   "metadata": {},
   "source": [
    "Let us try to build predictive models on this dataset to predict future prices"
   ]
  },
  {
   "cell_type": "markdown",
   "id": "db95b782-14ac-4dc1-853d-b0a7b42fd23c",
   "metadata": {},
   "source": [
    "Suppose we consider that data before 2023 should be used for training, and data 2023 onwards for testing, we get a 75:25 train-test split. We would have 1484 data points in the train set, and 490 in the test set."
   ]
  },
  {
   "cell_type": "code",
   "execution_count": 26,
   "id": "c544b0d7-a38d-4eb4-bfe7-b34f618a4b66",
   "metadata": {},
   "outputs": [],
   "source": [
    "train = stock_prices[stock_prices.index<\"2023-01-01\"]\n",
    "test = stock_prices[stock_prices.index>\"2023-01-01\"]"
   ]
  },
  {
   "cell_type": "code",
   "execution_count": 27,
   "id": "3370e5c0-9340-418f-a92b-fced0b61b362",
   "metadata": {},
   "outputs": [
    {
     "data": {
      "text/plain": [
       "0.75177304964539"
      ]
     },
     "execution_count": 27,
     "metadata": {},
     "output_type": "execute_result"
    }
   ],
   "source": [
    "len(train)/(len(train)+len(test))"
   ]
  },
  {
   "cell_type": "code",
   "execution_count": 28,
   "id": "5ad046c7-1377-4a86-818a-0c29c9461fa5",
   "metadata": {},
   "outputs": [
    {
     "data": {
      "text/plain": [
       "1484"
      ]
     },
     "execution_count": 28,
     "metadata": {},
     "output_type": "execute_result"
    }
   ],
   "source": [
    "len(train)"
   ]
  },
  {
   "cell_type": "code",
   "execution_count": 29,
   "id": "ec0167e0-7695-49ee-94dc-149002b8ea3e",
   "metadata": {},
   "outputs": [
    {
     "data": {
      "text/plain": [
       "490"
      ]
     },
     "execution_count": 29,
     "metadata": {},
     "output_type": "execute_result"
    }
   ],
   "source": [
    "len(test)"
   ]
  },
  {
   "cell_type": "markdown",
   "id": "31755992-dd2f-47fb-834b-a3b9174fcafc",
   "metadata": {},
   "source": [
    "## 1. b and 1. c"
   ]
  },
  {
   "cell_type": "markdown",
   "id": "e8a7702a-3a36-4be3-93b8-d267e51b3516",
   "metadata": {},
   "source": [
    "Now, let us build models to forecast future prices of this stock. Here, there will be some leakage of data between the train and test data sets. I ensure data leakage in the following ways:\n",
    "1. I scale the entire data before splitting it into train and test sets.\n",
    "2. I use random shuffling in when performing cross-validation during training."
   ]
  },
  {
   "cell_type": "code",
   "execution_count": 47,
   "id": "4f1e0edf-374d-4544-87c7-5b98c8859312",
   "metadata": {},
   "outputs": [],
   "source": [
    "scaler = MinMaxScaler()\n",
    "stock_prices_scaled = scaler.fit_transform(stock_prices.to_frame())"
   ]
  },
  {
   "cell_type": "code",
   "execution_count": 49,
   "id": "feb08890-533e-4ad6-99f3-575bd4ab8020",
   "metadata": {},
   "outputs": [
    {
     "data": {
      "text/plain": [
       "array([[0.        ],\n",
       "       [0.00385414],\n",
       "       [0.00697545],\n",
       "       ...,\n",
       "       [0.84973742],\n",
       "       [0.84581804],\n",
       "       [0.83114524]])"
      ]
     },
     "execution_count": 49,
     "metadata": {},
     "output_type": "execute_result"
    }
   ],
   "source": [
    "stock_prices_scaled"
   ]
  },
  {
   "cell_type": "markdown",
   "id": "3fd8d2a3-289b-48f1-8386-c3eefac56734",
   "metadata": {},
   "source": [
    "Now, the train-test split happens. Here, I use the train-test ratio described just a few cells above to achieve a 75:25 chronological split."
   ]
  },
  {
   "cell_type": "code",
   "execution_count": 52,
   "id": "6c9cdebc-5434-48ee-8ad7-f62986dc7289",
   "metadata": {},
   "outputs": [],
   "source": [
    "train_scaled = stock_prices_scaled[:1484]\n",
    "test_scaled = stock_prices_scaled[1484:]"
   ]
  },
  {
   "cell_type": "code",
   "execution_count": 54,
   "id": "c20f7532-d10c-4614-919f-8e5e8695d06d",
   "metadata": {},
   "outputs": [
    {
     "data": {
      "text/plain": [
       "1484"
      ]
     },
     "execution_count": 54,
     "metadata": {},
     "output_type": "execute_result"
    }
   ],
   "source": [
    "len(train_scaled)"
   ]
  },
  {
   "cell_type": "code",
   "execution_count": 56,
   "id": "45381d34-17d5-4271-acb0-38fb54acfd1c",
   "metadata": {},
   "outputs": [
    {
     "data": {
      "text/plain": [
       "490"
      ]
     },
     "execution_count": 56,
     "metadata": {},
     "output_type": "execute_result"
    }
   ],
   "source": [
    "len(test_scaled)"
   ]
  },
  {
   "cell_type": "markdown",
   "id": "ae215627-e5b4-45d3-ab08-de2f6abbf317",
   "metadata": {},
   "source": [
    "First, I build an MLP model."
   ]
  },
  {
   "cell_type": "code",
   "execution_count": 59,
   "id": "0741a109-c984-4fd7-86a1-81ee70be90e7",
   "metadata": {},
   "outputs": [],
   "source": [
    "train_scaled = pd.DataFrame(train_scaled)\n",
    "train_scaled.columns = ['Close']\n",
    "test_scaled = pd.DataFrame(test_scaled)\n",
    "test_scaled.columns = ['Close']"
   ]
  },
  {
   "cell_type": "code",
   "execution_count": 61,
   "id": "74ea6e44-2574-4aed-8cf4-1e64f3bc3647",
   "metadata": {},
   "outputs": [
    {
     "data": {
      "text/html": [
       "<div>\n",
       "<style scoped>\n",
       "    .dataframe tbody tr th:only-of-type {\n",
       "        vertical-align: middle;\n",
       "    }\n",
       "\n",
       "    .dataframe tbody tr th {\n",
       "        vertical-align: top;\n",
       "    }\n",
       "\n",
       "    .dataframe thead th {\n",
       "        text-align: right;\n",
       "    }\n",
       "</style>\n",
       "<table border=\"1\" class=\"dataframe\">\n",
       "  <thead>\n",
       "    <tr style=\"text-align: right;\">\n",
       "      <th></th>\n",
       "      <th>Close</th>\n",
       "    </tr>\n",
       "  </thead>\n",
       "  <tbody>\n",
       "    <tr>\n",
       "      <th>0</th>\n",
       "      <td>0.000000</td>\n",
       "    </tr>\n",
       "    <tr>\n",
       "      <th>1</th>\n",
       "      <td>0.003854</td>\n",
       "    </tr>\n",
       "    <tr>\n",
       "      <th>2</th>\n",
       "      <td>0.006975</td>\n",
       "    </tr>\n",
       "    <tr>\n",
       "      <th>3</th>\n",
       "      <td>0.006541</td>\n",
       "    </tr>\n",
       "    <tr>\n",
       "      <th>4</th>\n",
       "      <td>0.005768</td>\n",
       "    </tr>\n",
       "    <tr>\n",
       "      <th>...</th>\n",
       "      <td>...</td>\n",
       "    </tr>\n",
       "    <tr>\n",
       "      <th>1479</th>\n",
       "      <td>0.604554</td>\n",
       "    </tr>\n",
       "    <tr>\n",
       "      <th>1480</th>\n",
       "      <td>0.610844</td>\n",
       "    </tr>\n",
       "    <tr>\n",
       "      <th>1481</th>\n",
       "      <td>0.632307</td>\n",
       "    </tr>\n",
       "    <tr>\n",
       "      <th>1482</th>\n",
       "      <td>0.624770</td>\n",
       "    </tr>\n",
       "    <tr>\n",
       "      <th>1483</th>\n",
       "      <td>0.637169</td>\n",
       "    </tr>\n",
       "  </tbody>\n",
       "</table>\n",
       "<p>1484 rows × 1 columns</p>\n",
       "</div>"
      ],
      "text/plain": [
       "         Close\n",
       "0     0.000000\n",
       "1     0.003854\n",
       "2     0.006975\n",
       "3     0.006541\n",
       "4     0.005768\n",
       "...        ...\n",
       "1479  0.604554\n",
       "1480  0.610844\n",
       "1481  0.632307\n",
       "1482  0.624770\n",
       "1483  0.637169\n",
       "\n",
       "[1484 rows x 1 columns]"
      ]
     },
     "execution_count": 61,
     "metadata": {},
     "output_type": "execute_result"
    }
   ],
   "source": [
    "train_scaled"
   ]
  },
  {
   "cell_type": "code",
   "execution_count": 63,
   "id": "cb92aa42-f53e-4fc0-b139-703a04a7114c",
   "metadata": {},
   "outputs": [
    {
     "data": {
      "text/plain": [
       "<Axes: >"
      ]
     },
     "execution_count": 63,
     "metadata": {},
     "output_type": "execute_result"
    },
    {
     "data": {
      "image/png": "[encoded data removed]",
      "text/plain": [
       "<Figure size 640x480 with 1 Axes>"
      ]
     },
     "metadata": {},
     "output_type": "display_data"
    }
   ],
   "source": [
    "train_scaled.plot()"
   ]
  },
  {
   "cell_type": "markdown",
   "id": "f6686227-ffe4-4c18-9834-826264e6d1b9",
   "metadata": {},
   "source": [
    "Let us build the features as well as the target for the model. Let the target be the price for the next day. Since the time series has autocorrelation and persistence, I will try to use values from the immediate past few days to predict the prices on the next day. Information from previous days will be incorporated using moving averages."
   ]
  },
  {
   "cell_type": "code",
   "execution_count": 66,
   "id": "c07ad102-01c7-4858-aa8a-5cf4cdf4582d",
   "metadata": {},
   "outputs": [
    {
     "data": {
      "text/html": [
       "<div>\n",
       "<style scoped>\n",
       "    .dataframe tbody tr th:only-of-type {\n",
       "        vertical-align: middle;\n",
       "    }\n",
       "\n",
       "    .dataframe tbody tr th {\n",
       "        vertical-align: top;\n",
       "    }\n",
       "\n",
       "    .dataframe thead th {\n",
       "        text-align: right;\n",
       "    }\n",
       "</style>\n",
       "<table border=\"1\" class=\"dataframe\">\n",
       "  <thead>\n",
       "    <tr style=\"text-align: right;\">\n",
       "      <th></th>\n",
       "      <th>Close</th>\n",
       "      <th>1d_lag</th>\n",
       "      <th>2d_mva</th>\n",
       "      <th>5d_mva</th>\n",
       "      <th>7d_mva</th>\n",
       "      <th>10d_mva</th>\n",
       "      <th>20d_mva</th>\n",
       "      <th>Target</th>\n",
       "    </tr>\n",
       "  </thead>\n",
       "  <tbody>\n",
       "    <tr>\n",
       "      <th>0</th>\n",
       "      <td>0.000000</td>\n",
       "      <td>NaN</td>\n",
       "      <td>NaN</td>\n",
       "      <td>NaN</td>\n",
       "      <td>NaN</td>\n",
       "      <td>NaN</td>\n",
       "      <td>NaN</td>\n",
       "      <td>0.003854</td>\n",
       "    </tr>\n",
       "    <tr>\n",
       "      <th>1</th>\n",
       "      <td>0.003854</td>\n",
       "      <td>0.000000</td>\n",
       "      <td>0.001927</td>\n",
       "      <td>NaN</td>\n",
       "      <td>NaN</td>\n",
       "      <td>NaN</td>\n",
       "      <td>NaN</td>\n",
       "      <td>0.006975</td>\n",
       "    </tr>\n",
       "    <tr>\n",
       "      <th>2</th>\n",
       "      <td>0.006975</td>\n",
       "      <td>0.003854</td>\n",
       "      <td>0.005415</td>\n",
       "      <td>NaN</td>\n",
       "      <td>NaN</td>\n",
       "      <td>NaN</td>\n",
       "      <td>NaN</td>\n",
       "      <td>0.006541</td>\n",
       "    </tr>\n",
       "    <tr>\n",
       "      <th>3</th>\n",
       "      <td>0.006541</td>\n",
       "      <td>0.006975</td>\n",
       "      <td>0.006758</td>\n",
       "      <td>NaN</td>\n",
       "      <td>NaN</td>\n",
       "      <td>NaN</td>\n",
       "      <td>NaN</td>\n",
       "      <td>0.005768</td>\n",
       "    </tr>\n",
       "    <tr>\n",
       "      <th>4</th>\n",
       "      <td>0.005768</td>\n",
       "      <td>0.006541</td>\n",
       "      <td>0.006154</td>\n",
       "      <td>0.004628</td>\n",
       "      <td>NaN</td>\n",
       "      <td>NaN</td>\n",
       "      <td>NaN</td>\n",
       "      <td>0.005605</td>\n",
       "    </tr>\n",
       "    <tr>\n",
       "      <th>...</th>\n",
       "      <td>...</td>\n",
       "      <td>...</td>\n",
       "      <td>...</td>\n",
       "      <td>...</td>\n",
       "      <td>...</td>\n",
       "      <td>...</td>\n",
       "      <td>...</td>\n",
       "      <td>...</td>\n",
       "    </tr>\n",
       "    <tr>\n",
       "      <th>1479</th>\n",
       "      <td>0.604554</td>\n",
       "      <td>0.605100</td>\n",
       "      <td>0.604827</td>\n",
       "      <td>0.606762</td>\n",
       "      <td>0.607830</td>\n",
       "      <td>0.613751</td>\n",
       "      <td>0.613751</td>\n",
       "      <td>0.610844</td>\n",
       "    </tr>\n",
       "    <tr>\n",
       "      <th>1480</th>\n",
       "      <td>0.610844</td>\n",
       "      <td>0.604554</td>\n",
       "      <td>0.607699</td>\n",
       "      <td>0.606504</td>\n",
       "      <td>0.608659</td>\n",
       "      <td>0.611724</td>\n",
       "      <td>0.611724</td>\n",
       "      <td>0.632307</td>\n",
       "    </tr>\n",
       "    <tr>\n",
       "      <th>1481</th>\n",
       "      <td>0.632307</td>\n",
       "      <td>0.610844</td>\n",
       "      <td>0.621576</td>\n",
       "      <td>0.611578</td>\n",
       "      <td>0.610994</td>\n",
       "      <td>0.611417</td>\n",
       "      <td>0.611417</td>\n",
       "      <td>0.624770</td>\n",
       "    </tr>\n",
       "    <tr>\n",
       "      <th>1482</th>\n",
       "      <td>0.624770</td>\n",
       "      <td>0.632307</td>\n",
       "      <td>0.628539</td>\n",
       "      <td>0.615515</td>\n",
       "      <td>0.612800</td>\n",
       "      <td>0.612273</td>\n",
       "      <td>0.612273</td>\n",
       "      <td>0.637169</td>\n",
       "    </tr>\n",
       "    <tr>\n",
       "      <th>1483</th>\n",
       "      <td>0.637169</td>\n",
       "      <td>0.624770</td>\n",
       "      <td>0.630969</td>\n",
       "      <td>0.621929</td>\n",
       "      <td>0.617119</td>\n",
       "      <td>0.615486</td>\n",
       "      <td>0.615486</td>\n",
       "      <td>NaN</td>\n",
       "    </tr>\n",
       "  </tbody>\n",
       "</table>\n",
       "<p>1484 rows × 8 columns</p>\n",
       "</div>"
      ],
      "text/plain": [
       "         Close    1d_lag    2d_mva    5d_mva    7d_mva   10d_mva   20d_mva  \\\n",
       "0     0.000000       NaN       NaN       NaN       NaN       NaN       NaN   \n",
       "1     0.003854  0.000000  0.001927       NaN       NaN       NaN       NaN   \n",
       "2     0.006975  0.003854  0.005415       NaN       NaN       NaN       NaN   \n",
       "3     0.006541  0.006975  0.006758       NaN       NaN       NaN       NaN   \n",
       "4     0.005768  0.006541  0.006154  0.004628       NaN       NaN       NaN   \n",
       "...        ...       ...       ...       ...       ...       ...       ...   \n",
       "1479  0.604554  0.605100  0.604827  0.606762  0.607830  0.613751  0.613751   \n",
       "1480  0.610844  0.604554  0.607699  0.606504  0.608659  0.611724  0.611724   \n",
       "1481  0.632307  0.610844  0.621576  0.611578  0.610994  0.611417  0.611417   \n",
       "1482  0.624770  0.632307  0.628539  0.615515  0.612800  0.612273  0.612273   \n",
       "1483  0.637169  0.624770  0.630969  0.621929  0.617119  0.615486  0.615486   \n",
       "\n",
       "        Target  \n",
       "0     0.003854  \n",
       "1     0.006975  \n",
       "2     0.006541  \n",
       "3     0.005768  \n",
       "4     0.005605  \n",
       "...        ...  \n",
       "1479  0.610844  \n",
       "1480  0.632307  \n",
       "1481  0.624770  \n",
       "1482  0.637169  \n",
       "1483       NaN  \n",
       "\n",
       "[1484 rows x 8 columns]"
      ]
     },
     "execution_count": 66,
     "metadata": {},
     "output_type": "execute_result"
    }
   ],
   "source": [
    "train_scaled[\"1d_lag\"] = train_scaled[\"Close\"].shift(1)\n",
    "train_scaled[\"2d_mva\"] = train_scaled[\"Close\"].rolling(2).mean()\n",
    "train_scaled[\"5d_mva\"] = train_scaled[\"Close\"].rolling(5).mean()\n",
    "train_scaled[\"7d_mva\"] = train_scaled[\"Close\"].rolling(7).mean()\n",
    "train_scaled[\"10d_mva\"] = train_scaled[\"Close\"].rolling(10).mean()\n",
    "train_scaled[\"20d_mva\"] = train_scaled[\"Close\"].rolling(10).mean()\n",
    "train_scaled[\"Target\"] = train_scaled[\"Close\"].shift(-1)\n",
    "train_scaled"
   ]
  },
  {
   "cell_type": "markdown",
   "id": "e7ba7db1-fb3e-4946-ac60-9859b6b59be3",
   "metadata": {},
   "source": [
    "Now, let us drop all null values"
   ]
  },
  {
   "cell_type": "code",
   "execution_count": 69,
   "id": "a75ceb7f-72d6-4dd9-8b00-1473505f2a70",
   "metadata": {},
   "outputs": [],
   "source": [
    "train_scaled.dropna(inplace=True)"
   ]
  },
  {
   "cell_type": "code",
   "execution_count": 71,
   "id": "78f6358f-689b-483c-8cc2-c9ab39285736",
   "metadata": {},
   "outputs": [
    {
     "data": {
      "text/html": [
       "<div>\n",
       "<style scoped>\n",
       "    .dataframe tbody tr th:only-of-type {\n",
       "        vertical-align: middle;\n",
       "    }\n",
       "\n",
       "    .dataframe tbody tr th {\n",
       "        vertical-align: top;\n",
       "    }\n",
       "\n",
       "    .dataframe thead th {\n",
       "        text-align: right;\n",
       "    }\n",
       "</style>\n",
       "<table border=\"1\" class=\"dataframe\">\n",
       "  <thead>\n",
       "    <tr style=\"text-align: right;\">\n",
       "      <th></th>\n",
       "      <th>Close</th>\n",
       "      <th>1d_lag</th>\n",
       "      <th>2d_mva</th>\n",
       "      <th>5d_mva</th>\n",
       "      <th>7d_mva</th>\n",
       "      <th>10d_mva</th>\n",
       "      <th>20d_mva</th>\n",
       "      <th>Target</th>\n",
       "    </tr>\n",
       "  </thead>\n",
       "  <tbody>\n",
       "    <tr>\n",
       "      <th>9</th>\n",
       "      <td>0.006623</td>\n",
       "      <td>0.008075</td>\n",
       "      <td>0.007349</td>\n",
       "      <td>0.007008</td>\n",
       "      <td>0.006764</td>\n",
       "      <td>0.005818</td>\n",
       "      <td>0.005818</td>\n",
       "      <td>0.007844</td>\n",
       "    </tr>\n",
       "    <tr>\n",
       "      <th>10</th>\n",
       "      <td>0.007844</td>\n",
       "      <td>0.006623</td>\n",
       "      <td>0.007233</td>\n",
       "      <td>0.007456</td>\n",
       "      <td>0.006950</td>\n",
       "      <td>0.006602</td>\n",
       "      <td>0.006602</td>\n",
       "      <td>0.007057</td>\n",
       "    </tr>\n",
       "    <tr>\n",
       "      <th>11</th>\n",
       "      <td>0.007057</td>\n",
       "      <td>0.007844</td>\n",
       "      <td>0.007450</td>\n",
       "      <td>0.007374</td>\n",
       "      <td>0.007134</td>\n",
       "      <td>0.006923</td>\n",
       "      <td>0.006923</td>\n",
       "      <td>0.008970</td>\n",
       "    </tr>\n",
       "    <tr>\n",
       "      <th>12</th>\n",
       "      <td>0.008970</td>\n",
       "      <td>0.007057</td>\n",
       "      <td>0.008014</td>\n",
       "      <td>0.007714</td>\n",
       "      <td>0.007615</td>\n",
       "      <td>0.007122</td>\n",
       "      <td>0.007122</td>\n",
       "      <td>0.010517</td>\n",
       "    </tr>\n",
       "    <tr>\n",
       "      <th>13</th>\n",
       "      <td>0.010517</td>\n",
       "      <td>0.008970</td>\n",
       "      <td>0.009744</td>\n",
       "      <td>0.008202</td>\n",
       "      <td>0.008051</td>\n",
       "      <td>0.007520</td>\n",
       "      <td>0.007520</td>\n",
       "      <td>0.007260</td>\n",
       "    </tr>\n",
       "    <tr>\n",
       "      <th>...</th>\n",
       "      <td>...</td>\n",
       "      <td>...</td>\n",
       "      <td>...</td>\n",
       "      <td>...</td>\n",
       "      <td>...</td>\n",
       "      <td>...</td>\n",
       "      <td>...</td>\n",
       "      <td>...</td>\n",
       "    </tr>\n",
       "    <tr>\n",
       "      <th>1478</th>\n",
       "      <td>0.605100</td>\n",
       "      <td>0.605086</td>\n",
       "      <td>0.605093</td>\n",
       "      <td>0.609043</td>\n",
       "      <td>0.609495</td>\n",
       "      <td>0.616653</td>\n",
       "      <td>0.616653</td>\n",
       "      <td>0.604554</td>\n",
       "    </tr>\n",
       "    <tr>\n",
       "      <th>1479</th>\n",
       "      <td>0.604554</td>\n",
       "      <td>0.605100</td>\n",
       "      <td>0.604827</td>\n",
       "      <td>0.606762</td>\n",
       "      <td>0.607830</td>\n",
       "      <td>0.613751</td>\n",
       "      <td>0.613751</td>\n",
       "      <td>0.610844</td>\n",
       "    </tr>\n",
       "    <tr>\n",
       "      <th>1480</th>\n",
       "      <td>0.610844</td>\n",
       "      <td>0.604554</td>\n",
       "      <td>0.607699</td>\n",
       "      <td>0.606504</td>\n",
       "      <td>0.608659</td>\n",
       "      <td>0.611724</td>\n",
       "      <td>0.611724</td>\n",
       "      <td>0.632307</td>\n",
       "    </tr>\n",
       "    <tr>\n",
       "      <th>1481</th>\n",
       "      <td>0.632307</td>\n",
       "      <td>0.610844</td>\n",
       "      <td>0.621576</td>\n",
       "      <td>0.611578</td>\n",
       "      <td>0.610994</td>\n",
       "      <td>0.611417</td>\n",
       "      <td>0.611417</td>\n",
       "      <td>0.624770</td>\n",
       "    </tr>\n",
       "    <tr>\n",
       "      <th>1482</th>\n",
       "      <td>0.624770</td>\n",
       "      <td>0.632307</td>\n",
       "      <td>0.628539</td>\n",
       "      <td>0.615515</td>\n",
       "      <td>0.612800</td>\n",
       "      <td>0.612273</td>\n",
       "      <td>0.612273</td>\n",
       "      <td>0.637169</td>\n",
       "    </tr>\n",
       "  </tbody>\n",
       "</table>\n",
       "<p>1474 rows × 8 columns</p>\n",
       "</div>"
      ],
      "text/plain": [
       "         Close    1d_lag    2d_mva    5d_mva    7d_mva   10d_mva   20d_mva  \\\n",
       "9     0.006623  0.008075  0.007349  0.007008  0.006764  0.005818  0.005818   \n",
       "10    0.007844  0.006623  0.007233  0.007456  0.006950  0.006602  0.006602   \n",
       "11    0.007057  0.007844  0.007450  0.007374  0.007134  0.006923  0.006923   \n",
       "12    0.008970  0.007057  0.008014  0.007714  0.007615  0.007122  0.007122   \n",
       "13    0.010517  0.008970  0.009744  0.008202  0.008051  0.007520  0.007520   \n",
       "...        ...       ...       ...       ...       ...       ...       ...   \n",
       "1478  0.605100  0.605086  0.605093  0.609043  0.609495  0.616653  0.616653   \n",
       "1479  0.604554  0.605100  0.604827  0.606762  0.607830  0.613751  0.613751   \n",
       "1480  0.610844  0.604554  0.607699  0.606504  0.608659  0.611724  0.611724   \n",
       "1481  0.632307  0.610844  0.621576  0.611578  0.610994  0.611417  0.611417   \n",
       "1482  0.624770  0.632307  0.628539  0.615515  0.612800  0.612273  0.612273   \n",
       "\n",
       "        Target  \n",
       "9     0.007844  \n",
       "10    0.007057  \n",
       "11    0.008970  \n",
       "12    0.010517  \n",
       "13    0.007260  \n",
       "...        ...  \n",
       "1478  0.604554  \n",
       "1479  0.610844  \n",
       "1480  0.632307  \n",
       "1481  0.624770  \n",
       "1482  0.637169  \n",
       "\n",
       "[1474 rows x 8 columns]"
      ]
     },
     "execution_count": 71,
     "metadata": {},
     "output_type": "execute_result"
    }
   ],
   "source": [
    "train_scaled"
   ]
  },
  {
   "cell_type": "markdown",
   "id": "72348c8e-db6c-4f86-ad54-ef59cdf83d41",
   "metadata": {},
   "source": [
    "Now, to build the MLP"
   ]
  },
  {
   "cell_type": "code",
   "execution_count": 74,
   "id": "ce96a774-f1a9-4e48-8625-fb3e34fc0d81",
   "metadata": {},
   "outputs": [
    {
     "name": "stdout",
     "output_type": "stream",
     "text": [
      "WARNING:tensorflow:From C:\\Users\\susha\\anaconda3\\Lib\\site-packages\\keras\\src\\backend\\common\\global_state.py:82: The name tf.reset_default_graph is deprecated. Please use tf.compat.v1.reset_default_graph instead.\n",
      "\n"
     ]
    }
   ],
   "source": [
    "tf.keras.backend.clear_session()  # We clear the backend to reset the random seed process\n",
    "tf.random.set_seed(42)\n",
    "\n",
    "act_fun = \"relu\"\n",
    "hp_units_1 = 32\n",
    "hp_units_2 = 64\n",
    "hp_units_3 = 64\n",
    "hp_units_4 = 16\n",
    "#n_dropout = 0.2"
   ]
  },
  {
   "cell_type": "code",
   "execution_count": 75,
   "id": "d13a28f3-db99-4e80-8a4f-58702b9bfedd",
   "metadata": {},
   "outputs": [
    {
     "name": "stderr",
     "output_type": "stream",
     "text": [
      "C:\\Users\\susha\\anaconda3\\Lib\\site-packages\\keras\\src\\layers\\core\\dense.py:87: UserWarning: Do not pass an `input_shape`/`input_dim` argument to a layer. When using Sequential models, prefer using an `Input(shape)` object as the first layer in the model instead.\n",
      "  super().__init__(activity_regularizer=activity_regularizer, **kwargs)\n"
     ]
    }
   ],
   "source": [
    "model = tf.keras.models.Sequential()\n",
    "model.add(tf.keras.layers.Dense(units=hp_units_1, activation=act_fun, input_shape=(7,)))\n",
    "#model.add(tf.keras.layers.Dropout(n_dropout))\n",
    "model.add(tf.keras.layers.Dense(units=hp_units_2, activation=act_fun))\n",
    "#model.add(tf.keras.layers.Dropout(n_dropout))\n",
    "model.add(tf.keras.layers.Dense(units=hp_units_3, activation=act_fun))\n",
    "#model.add(tf.keras.layers.Dropout(n_dropout)\n",
    "model.add(tf.keras.layers.Dense(units=hp_units_4, activation=act_fun))\n",
    "model.add(tf.keras.layers.Dense(units=1)) #activation function"
   ]
  },
  {
   "cell_type": "code",
   "execution_count": 76,
   "id": "57c13749-0225-4823-98e7-b223aaf07de4",
   "metadata": {},
   "outputs": [],
   "source": [
    "hp_lr = 1e-4  # Learning rate\n",
    "adam = tf.keras.optimizers.Adam(learning_rate=hp_lr)  # Adam optimizer\n",
    "model.compile(optimizer=adam, loss=\"mse\", metrics=[\"mae\"])"
   ]
  },
  {
   "cell_type": "code",
   "execution_count": 77,
   "id": "dfd139b5-c4fb-48ba-8c87-2555291a10a4",
   "metadata": {},
   "outputs": [],
   "source": [
    "es = tf.keras.callbacks.EarlyStopping(\n",
    "    monitor=\"val_loss\",\n",
    "    mode=\"min\",\n",
    "    verbose=1,\n",
    "    patience=20,\n",
    "    restore_best_weights=True,\n",
    ")"
   ]
  },
  {
   "cell_type": "code",
   "execution_count": 82,
   "id": "bf48a9e5-4441-4dc1-b1f4-9f8ed4d642cc",
   "metadata": {},
   "outputs": [],
   "source": [
    "X_train_scaled = train_scaled[['Close', '1d_lag', '2d_mva', '5d_mva', '7d_mva', '10d_mva', '20d_mva']]\n",
    "y_train_scaled = train_scaled[['Target']]\t"
   ]
  },
  {
   "cell_type": "code",
   "execution_count": 84,
   "id": "af6cb07a-4117-4df9-bbc4-a7199d6d681b",
   "metadata": {},
   "outputs": [
    {
     "name": "stdout",
     "output_type": "stream",
     "text": [
      "Epoch 1/100\n",
      "37/37 - 3s - 88ms/step - loss: 0.0638 - mae: 0.2187 - val_loss: 0.3479 - val_mae: 0.5871\n",
      "Epoch 2/100\n",
      "37/37 - 0s - 8ms/step - loss: 0.0400 - mae: 0.1701 - val_loss: 0.2359 - val_mae: 0.4832\n",
      "Epoch 3/100\n",
      "37/37 - 0s - 7ms/step - loss: 0.0214 - mae: 0.1187 - val_loss: 0.1320 - val_mae: 0.3610\n",
      "Epoch 4/100\n",
      "37/37 - 0s - 7ms/step - loss: 0.0090 - mae: 0.0723 - val_loss: 0.0636 - val_mae: 0.2501\n",
      "Epoch 5/100\n",
      "37/37 - 0s - 8ms/step - loss: 0.0031 - mae: 0.0384 - val_loss: 0.0284 - val_mae: 0.1664\n",
      "Epoch 6/100\n",
      "37/37 - 0s - 7ms/step - loss: 0.0011 - mae: 0.0203 - val_loss: 0.0136 - val_mae: 0.1142\n",
      "Epoch 7/100\n",
      "37/37 - 0s - 6ms/step - loss: 4.1789e-04 - mae: 0.0115 - val_loss: 0.0072 - val_mae: 0.0821\n",
      "Epoch 8/100\n",
      "37/37 - 0s - 10ms/step - loss: 2.2359e-04 - mae: 0.0084 - val_loss: 0.0043 - val_mae: 0.0624\n",
      "Epoch 9/100\n",
      "37/37 - 0s - 7ms/step - loss: 1.5342e-04 - mae: 0.0074 - val_loss: 0.0028 - val_mae: 0.0491\n",
      "Epoch 10/100\n",
      "37/37 - 0s - 7ms/step - loss: 1.2082e-04 - mae: 0.0068 - val_loss: 0.0019 - val_mae: 0.0400\n",
      "Epoch 11/100\n",
      "37/37 - 0s - 7ms/step - loss: 9.9661e-05 - mae: 0.0064 - val_loss: 0.0013 - val_mae: 0.0322\n",
      "Epoch 12/100\n",
      "37/37 - 0s - 7ms/step - loss: 8.6179e-05 - mae: 0.0061 - val_loss: 9.0456e-04 - val_mae: 0.0265\n",
      "Epoch 13/100\n",
      "37/37 - 0s - 6ms/step - loss: 7.8462e-05 - mae: 0.0058 - val_loss: 6.8268e-04 - val_mae: 0.0227\n",
      "Epoch 14/100\n",
      "37/37 - 0s - 6ms/step - loss: 7.3632e-05 - mae: 0.0057 - val_loss: 5.4143e-04 - val_mae: 0.0200\n",
      "Epoch 15/100\n",
      "37/37 - 0s - 6ms/step - loss: 7.0295e-05 - mae: 0.0056 - val_loss: 4.2807e-04 - val_mae: 0.0174\n",
      "Epoch 16/100\n",
      "37/37 - 0s - 6ms/step - loss: 6.7369e-05 - mae: 0.0055 - val_loss: 3.5345e-04 - val_mae: 0.0156\n",
      "Epoch 17/100\n",
      "37/37 - 0s - 7ms/step - loss: 6.5513e-05 - mae: 0.0055 - val_loss: 3.0946e-04 - val_mae: 0.0144\n",
      "Epoch 18/100\n",
      "37/37 - 0s - 6ms/step - loss: 6.4001e-05 - mae: 0.0054 - val_loss: 2.8720e-04 - val_mae: 0.0138\n",
      "Epoch 19/100\n",
      "37/37 - 0s - 6ms/step - loss: 6.2869e-05 - mae: 0.0054 - val_loss: 2.6577e-04 - val_mae: 0.0132\n",
      "Epoch 20/100\n",
      "37/37 - 0s - 6ms/step - loss: 6.1837e-05 - mae: 0.0054 - val_loss: 2.5275e-04 - val_mae: 0.0128\n",
      "Epoch 21/100\n",
      "37/37 - 0s - 6ms/step - loss: 6.1036e-05 - mae: 0.0053 - val_loss: 2.3952e-04 - val_mae: 0.0123\n",
      "Epoch 22/100\n",
      "37/37 - 0s - 6ms/step - loss: 6.0427e-05 - mae: 0.0053 - val_loss: 2.3400e-04 - val_mae: 0.0121\n",
      "Epoch 23/100\n",
      "37/37 - 0s - 6ms/step - loss: 5.9830e-05 - mae: 0.0053 - val_loss: 2.2987e-04 - val_mae: 0.0120\n",
      "Epoch 24/100\n",
      "37/37 - 0s - 6ms/step - loss: 5.9310e-05 - mae: 0.0053 - val_loss: 2.2724e-04 - val_mae: 0.0119\n",
      "Epoch 25/100\n",
      "37/37 - 0s - 6ms/step - loss: 5.8907e-05 - mae: 0.0053 - val_loss: 2.2335e-04 - val_mae: 0.0118\n",
      "Epoch 26/100\n",
      "37/37 - 0s - 6ms/step - loss: 5.8414e-05 - mae: 0.0052 - val_loss: 2.2137e-04 - val_mae: 0.0117\n",
      "Epoch 27/100\n",
      "37/37 - 0s - 6ms/step - loss: 5.7974e-05 - mae: 0.0052 - val_loss: 2.2024e-04 - val_mae: 0.0117\n",
      "Epoch 28/100\n",
      "37/37 - 0s - 6ms/step - loss: 5.7741e-05 - mae: 0.0052 - val_loss: 2.1559e-04 - val_mae: 0.0115\n",
      "Epoch 29/100\n",
      "37/37 - 0s - 6ms/step - loss: 5.7201e-05 - mae: 0.0052 - val_loss: 2.1536e-04 - val_mae: 0.0115\n",
      "Epoch 30/100\n",
      "37/37 - 0s - 6ms/step - loss: 5.7050e-05 - mae: 0.0052 - val_loss: 2.1220e-04 - val_mae: 0.0114\n",
      "Epoch 31/100\n",
      "37/37 - 0s - 7ms/step - loss: 5.6605e-05 - mae: 0.0052 - val_loss: 2.1165e-04 - val_mae: 0.0114\n",
      "Epoch 32/100\n",
      "37/37 - 0s - 6ms/step - loss: 5.6387e-05 - mae: 0.0052 - val_loss: 2.0954e-04 - val_mae: 0.0113\n",
      "Epoch 33/100\n",
      "37/37 - 0s - 7ms/step - loss: 5.6012e-05 - mae: 0.0052 - val_loss: 2.0951e-04 - val_mae: 0.0113\n",
      "Epoch 34/100\n",
      "37/37 - 0s - 7ms/step - loss: 5.5811e-05 - mae: 0.0052 - val_loss: 2.0872e-04 - val_mae: 0.0113\n",
      "Epoch 35/100\n",
      "37/37 - 0s - 6ms/step - loss: 5.5480e-05 - mae: 0.0051 - val_loss: 2.0997e-04 - val_mae: 0.0113\n",
      "Epoch 36/100\n",
      "37/37 - 0s - 7ms/step - loss: 5.5364e-05 - mae: 0.0051 - val_loss: 2.0695e-04 - val_mae: 0.0112\n",
      "Epoch 37/100\n",
      "37/37 - 0s - 8ms/step - loss: 5.5109e-05 - mae: 0.0051 - val_loss: 2.0515e-04 - val_mae: 0.0112\n",
      "Epoch 38/100\n",
      "37/37 - 0s - 7ms/step - loss: 5.4876e-05 - mae: 0.0051 - val_loss: 2.0462e-04 - val_mae: 0.0111\n",
      "Epoch 39/100\n",
      "37/37 - 0s - 7ms/step - loss: 5.4664e-05 - mae: 0.0051 - val_loss: 2.0378e-04 - val_mae: 0.0111\n",
      "Epoch 40/100\n",
      "37/37 - 0s - 7ms/step - loss: 5.4488e-05 - mae: 0.0051 - val_loss: 2.0311e-04 - val_mae: 0.0111\n",
      "Epoch 41/100\n",
      "37/37 - 0s - 7ms/step - loss: 5.4207e-05 - mae: 0.0051 - val_loss: 2.0521e-04 - val_mae: 0.0112\n",
      "Epoch 42/100\n",
      "37/37 - 0s - 8ms/step - loss: 5.4065e-05 - mae: 0.0051 - val_loss: 2.0518e-04 - val_mae: 0.0112\n",
      "Epoch 43/100\n",
      "37/37 - 0s - 7ms/step - loss: 5.3964e-05 - mae: 0.0051 - val_loss: 2.0506e-04 - val_mae: 0.0112\n",
      "Epoch 44/100\n",
      "37/37 - 0s - 7ms/step - loss: 5.3868e-05 - mae: 0.0051 - val_loss: 2.0308e-04 - val_mae: 0.0111\n",
      "Epoch 45/100\n",
      "37/37 - 0s - 6ms/step - loss: 5.3571e-05 - mae: 0.0051 - val_loss: 2.0270e-04 - val_mae: 0.0111\n",
      "Epoch 46/100\n",
      "37/37 - 0s - 6ms/step - loss: 5.3434e-05 - mae: 0.0051 - val_loss: 2.0210e-04 - val_mae: 0.0111\n",
      "Epoch 47/100\n",
      "37/37 - 0s - 6ms/step - loss: 5.3249e-05 - mae: 0.0051 - val_loss: 2.0284e-04 - val_mae: 0.0111\n",
      "Epoch 48/100\n",
      "37/37 - 0s - 6ms/step - loss: 5.3183e-05 - mae: 0.0051 - val_loss: 2.0194e-04 - val_mae: 0.0111\n",
      "Epoch 49/100\n",
      "37/37 - 0s - 6ms/step - loss: 5.3076e-05 - mae: 0.0051 - val_loss: 2.0174e-04 - val_mae: 0.0111\n",
      "Epoch 50/100\n",
      "37/37 - 0s - 6ms/step - loss: 5.2914e-05 - mae: 0.0050 - val_loss: 1.9988e-04 - val_mae: 0.0110\n",
      "Epoch 51/100\n",
      "37/37 - 0s - 6ms/step - loss: 5.2631e-05 - mae: 0.0050 - val_loss: 2.0109e-04 - val_mae: 0.0111\n",
      "Epoch 52/100\n",
      "37/37 - 0s - 6ms/step - loss: 5.2567e-05 - mae: 0.0050 - val_loss: 2.0202e-04 - val_mae: 0.0111\n",
      "Epoch 53/100\n",
      "37/37 - 0s - 6ms/step - loss: 5.2430e-05 - mae: 0.0050 - val_loss: 2.0154e-04 - val_mae: 0.0111\n",
      "Epoch 54/100\n",
      "37/37 - 0s - 6ms/step - loss: 5.2348e-05 - mae: 0.0050 - val_loss: 2.0215e-04 - val_mae: 0.0112\n",
      "Epoch 55/100\n",
      "37/37 - 0s - 6ms/step - loss: 5.2266e-05 - mae: 0.0050 - val_loss: 2.0047e-04 - val_mae: 0.0111\n",
      "Epoch 56/100\n",
      "37/37 - 0s - 6ms/step - loss: 5.2035e-05 - mae: 0.0050 - val_loss: 2.0060e-04 - val_mae: 0.0111\n",
      "Epoch 57/100\n",
      "37/37 - 0s - 7ms/step - loss: 5.2005e-05 - mae: 0.0050 - val_loss: 2.0161e-04 - val_mae: 0.0111\n",
      "Epoch 58/100\n",
      "37/37 - 0s - 6ms/step - loss: 5.1888e-05 - mae: 0.0050 - val_loss: 2.0145e-04 - val_mae: 0.0111\n",
      "Epoch 59/100\n",
      "37/37 - 0s - 7ms/step - loss: 5.1719e-05 - mae: 0.0050 - val_loss: 2.0121e-04 - val_mae: 0.0111\n",
      "Epoch 60/100\n",
      "37/37 - 0s - 6ms/step - loss: 5.1602e-05 - mae: 0.0050 - val_loss: 2.0180e-04 - val_mae: 0.0112\n",
      "Epoch 61/100\n",
      "37/37 - 0s - 6ms/step - loss: 5.1522e-05 - mae: 0.0050 - val_loss: 2.0104e-04 - val_mae: 0.0111\n",
      "Epoch 62/100\n",
      "37/37 - 0s - 6ms/step - loss: 5.1413e-05 - mae: 0.0050 - val_loss: 2.0166e-04 - val_mae: 0.0112\n",
      "Epoch 63/100\n",
      "37/37 - 0s - 7ms/step - loss: 5.1313e-05 - mae: 0.0050 - val_loss: 2.0171e-04 - val_mae: 0.0112\n",
      "Epoch 64/100\n",
      "37/37 - 0s - 6ms/step - loss: 5.1243e-05 - mae: 0.0050 - val_loss: 2.0163e-04 - val_mae: 0.0112\n",
      "Epoch 65/100\n",
      "37/37 - 0s - 7ms/step - loss: 5.1082e-05 - mae: 0.0050 - val_loss: 2.0057e-04 - val_mae: 0.0111\n",
      "Epoch 66/100\n",
      "37/37 - 0s - 6ms/step - loss: 5.0912e-05 - mae: 0.0049 - val_loss: 2.0030e-04 - val_mae: 0.0111\n",
      "Epoch 67/100\n",
      "37/37 - 0s - 6ms/step - loss: 5.0857e-05 - mae: 0.0049 - val_loss: 1.9914e-04 - val_mae: 0.0111\n",
      "Epoch 68/100\n",
      "37/37 - 0s - 8ms/step - loss: 5.0762e-05 - mae: 0.0049 - val_loss: 1.9969e-04 - val_mae: 0.0111\n",
      "Epoch 69/100\n",
      "37/37 - 0s - 8ms/step - loss: 5.0720e-05 - mae: 0.0049 - val_loss: 2.0082e-04 - val_mae: 0.0111\n",
      "Epoch 70/100\n",
      "37/37 - 0s - 6ms/step - loss: 5.0615e-05 - mae: 0.0049 - val_loss: 1.9988e-04 - val_mae: 0.0111\n",
      "Epoch 71/100\n",
      "37/37 - 0s - 7ms/step - loss: 5.0568e-05 - mae: 0.0049 - val_loss: 1.9220e-04 - val_mae: 0.0107\n",
      "Epoch 72/100\n",
      "37/37 - 0s - 7ms/step - loss: 5.0381e-05 - mae: 0.0049 - val_loss: 1.9414e-04 - val_mae: 0.0108\n",
      "Epoch 73/100\n",
      "37/37 - 0s - 7ms/step - loss: 5.0302e-05 - mae: 0.0049 - val_loss: 1.9555e-04 - val_mae: 0.0109\n",
      "Epoch 74/100\n",
      "37/37 - 0s - 7ms/step - loss: 5.0235e-05 - mae: 0.0049 - val_loss: 1.9581e-04 - val_mae: 0.0109\n",
      "Epoch 75/100\n",
      "37/37 - 0s - 7ms/step - loss: 5.0139e-05 - mae: 0.0049 - val_loss: 1.9649e-04 - val_mae: 0.0110\n",
      "Epoch 76/100\n",
      "37/37 - 0s - 6ms/step - loss: 5.0029e-05 - mae: 0.0049 - val_loss: 1.9797e-04 - val_mae: 0.0110\n",
      "Epoch 77/100\n",
      "37/37 - 0s - 6ms/step - loss: 4.9953e-05 - mae: 0.0049 - val_loss: 1.9705e-04 - val_mae: 0.0110\n",
      "Epoch 78/100\n",
      "37/37 - 0s - 7ms/step - loss: 4.9922e-05 - mae: 0.0049 - val_loss: 1.8920e-04 - val_mae: 0.0106\n",
      "Epoch 79/100\n",
      "37/37 - 0s - 7ms/step - loss: 4.9803e-05 - mae: 0.0049 - val_loss: 1.9150e-04 - val_mae: 0.0107\n",
      "Epoch 80/100\n",
      "37/37 - 0s - 6ms/step - loss: 4.9723e-05 - mae: 0.0049 - val_loss: 1.9323e-04 - val_mae: 0.0108\n",
      "Epoch 81/100\n",
      "37/37 - 0s - 6ms/step - loss: 4.9665e-05 - mae: 0.0049 - val_loss: 1.9384e-04 - val_mae: 0.0108\n",
      "Epoch 82/100\n",
      "37/37 - 0s - 6ms/step - loss: 4.9591e-05 - mae: 0.0049 - val_loss: 1.9410e-04 - val_mae: 0.0109\n",
      "Epoch 83/100\n",
      "37/37 - 0s - 6ms/step - loss: 4.9515e-05 - mae: 0.0048 - val_loss: 1.9481e-04 - val_mae: 0.0109\n",
      "Epoch 84/100\n",
      "37/37 - 0s - 7ms/step - loss: 4.9460e-05 - mae: 0.0048 - val_loss: 1.9434e-04 - val_mae: 0.0109\n",
      "Epoch 85/100\n",
      "37/37 - 0s - 6ms/step - loss: 4.9377e-05 - mae: 0.0048 - val_loss: 1.9498e-04 - val_mae: 0.0109\n",
      "Epoch 86/100\n",
      "37/37 - 0s - 6ms/step - loss: 4.9346e-05 - mae: 0.0048 - val_loss: 1.9510e-04 - val_mae: 0.0109\n",
      "Epoch 87/100\n",
      "37/37 - 0s - 6ms/step - loss: 4.9273e-05 - mae: 0.0048 - val_loss: 1.9516e-04 - val_mae: 0.0109\n",
      "Epoch 88/100\n",
      "37/37 - 0s - 6ms/step - loss: 4.9218e-05 - mae: 0.0048 - val_loss: 1.9493e-04 - val_mae: 0.0109\n",
      "Epoch 89/100\n",
      "37/37 - 0s - 6ms/step - loss: 4.9164e-05 - mae: 0.0048 - val_loss: 1.8672e-04 - val_mae: 0.0105\n",
      "Epoch 90/100\n",
      "37/37 - 0s - 6ms/step - loss: 4.9025e-05 - mae: 0.0048 - val_loss: 1.8958e-04 - val_mae: 0.0106\n",
      "Epoch 91/100\n",
      "37/37 - 0s - 6ms/step - loss: 4.9042e-05 - mae: 0.0048 - val_loss: 1.9085e-04 - val_mae: 0.0107\n",
      "Epoch 92/100\n",
      "37/37 - 0s - 6ms/step - loss: 4.8986e-05 - mae: 0.0048 - val_loss: 1.9233e-04 - val_mae: 0.0108\n",
      "Epoch 93/100\n",
      "37/37 - 0s - 6ms/step - loss: 4.8939e-05 - mae: 0.0048 - val_loss: 1.9259e-04 - val_mae: 0.0108\n",
      "Epoch 94/100\n",
      "37/37 - 0s - 6ms/step - loss: 4.8889e-05 - mae: 0.0048 - val_loss: 1.9047e-04 - val_mae: 0.0107\n",
      "Epoch 95/100\n",
      "37/37 - 0s - 6ms/step - loss: 4.8857e-05 - mae: 0.0048 - val_loss: 1.9161e-04 - val_mae: 0.0107\n",
      "Epoch 96/100\n",
      "37/37 - 0s - 7ms/step - loss: 4.8804e-05 - mae: 0.0048 - val_loss: 1.9049e-04 - val_mae: 0.0107\n",
      "Epoch 97/100\n",
      "37/37 - 0s - 7ms/step - loss: 4.8772e-05 - mae: 0.0048 - val_loss: 1.9044e-04 - val_mae: 0.0107\n",
      "Epoch 98/100\n",
      "37/37 - 0s - 6ms/step - loss: 4.8704e-05 - mae: 0.0048 - val_loss: 1.8847e-04 - val_mae: 0.0106\n",
      "Epoch 99/100\n",
      "37/37 - 0s - 6ms/step - loss: 4.8658e-05 - mae: 0.0048 - val_loss: 1.8946e-04 - val_mae: 0.0107\n",
      "Epoch 100/100\n",
      "37/37 - 0s - 6ms/step - loss: 4.8616e-05 - mae: 0.0048 - val_loss: 1.8927e-04 - val_mae: 0.0107\n",
      "Restoring model weights from the end of the best epoch: 89.\n"
     ]
    }
   ],
   "source": [
    "history = model.fit(\n",
    "    X_train_scaled,\n",
    "    y_train_scaled,\n",
    "    validation_split=0.2,\n",
    "    epochs=100,\n",
    "    batch_size=32,\n",
    "    verbose=2,\n",
    "    callbacks = [es],\n",
    ")"
   ]
  },
  {
   "cell_type": "code",
   "execution_count": 85,
   "id": "b649e599-5204-480a-9690-8d97cadace58",
   "metadata": {},
   "outputs": [
    {
     "name": "stdout",
     "output_type": "stream",
     "text": [
      "\u001b[1m47/47\u001b[0m \u001b[32m━━━━━━━━━━━━━━━━━━━━\u001b[0m\u001b[37m\u001b[0m \u001b[1m0s\u001b[0m 5ms/step\n"
     ]
    },
    {
     "data": {
      "text/plain": [
       "0.9978168606758118"
      ]
     },
     "execution_count": 85,
     "metadata": {},
     "output_type": "execute_result"
    }
   ],
   "source": [
    "train_pred = model.predict(X_train_scaled)\n",
    "r2_score(y_train_scaled, train_pred)"
   ]
  },
  {
   "cell_type": "code",
   "execution_count": 86,
   "id": "11e696ff-80b0-4e98-904d-902aab153928",
   "metadata": {},
   "outputs": [
    {
     "data": {
      "text/plain": [
       "<matplotlib.legend.Legend at 0x23991ccf7a0>"
      ]
     },
     "execution_count": 86,
     "metadata": {},
     "output_type": "execute_result"
    },
    {
     "data": {
      "image/png": "[encoded data removed]",
      "text/plain": [
       "<Figure size 640x480 with 1 Axes>"
      ]
     },
     "metadata": {},
     "output_type": "display_data"
    }
   ],
   "source": [
    "plt.plot(train_pred, label=\"training sample\")\n",
    "plt.plot(y_train_scaled, label=\"Predictions on the training set\")\n",
    "plt.legend()"
   ]
  },
  {
   "cell_type": "markdown",
   "id": "324ef24f-8a90-4d17-b3f2-0f3c41ae00e8",
   "metadata": {},
   "source": [
    "Now, we test the model"
   ]
  },
  {
   "cell_type": "code",
   "execution_count": 88,
   "id": "495ad844-5bc0-44d6-bf4d-92b486d11b76",
   "metadata": {},
   "outputs": [
    {
     "data": {
      "text/html": [
       "<div>\n",
       "<style scoped>\n",
       "    .dataframe tbody tr th:only-of-type {\n",
       "        vertical-align: middle;\n",
       "    }\n",
       "\n",
       "    .dataframe tbody tr th {\n",
       "        vertical-align: top;\n",
       "    }\n",
       "\n",
       "    .dataframe thead th {\n",
       "        text-align: right;\n",
       "    }\n",
       "</style>\n",
       "<table border=\"1\" class=\"dataframe\">\n",
       "  <thead>\n",
       "    <tr style=\"text-align: right;\">\n",
       "      <th></th>\n",
       "      <th>Close</th>\n",
       "      <th>1d_lag</th>\n",
       "      <th>2d_mva</th>\n",
       "      <th>5d_mva</th>\n",
       "      <th>7d_mva</th>\n",
       "      <th>10d_mva</th>\n",
       "      <th>20d_mva</th>\n",
       "      <th>Target</th>\n",
       "    </tr>\n",
       "  </thead>\n",
       "  <tbody>\n",
       "    <tr>\n",
       "      <th>0</th>\n",
       "      <td>0.628272</td>\n",
       "      <td>NaN</td>\n",
       "      <td>NaN</td>\n",
       "      <td>NaN</td>\n",
       "      <td>NaN</td>\n",
       "      <td>NaN</td>\n",
       "      <td>NaN</td>\n",
       "      <td>0.641680</td>\n",
       "    </tr>\n",
       "    <tr>\n",
       "      <th>1</th>\n",
       "      <td>0.641680</td>\n",
       "      <td>0.628272</td>\n",
       "      <td>0.634976</td>\n",
       "      <td>NaN</td>\n",
       "      <td>NaN</td>\n",
       "      <td>NaN</td>\n",
       "      <td>NaN</td>\n",
       "      <td>0.637183</td>\n",
       "    </tr>\n",
       "    <tr>\n",
       "      <th>2</th>\n",
       "      <td>0.637183</td>\n",
       "      <td>0.641680</td>\n",
       "      <td>0.639431</td>\n",
       "      <td>NaN</td>\n",
       "      <td>NaN</td>\n",
       "      <td>NaN</td>\n",
       "      <td>NaN</td>\n",
       "      <td>0.627250</td>\n",
       "    </tr>\n",
       "    <tr>\n",
       "      <th>3</th>\n",
       "      <td>0.627250</td>\n",
       "      <td>0.637183</td>\n",
       "      <td>0.632216</td>\n",
       "      <td>NaN</td>\n",
       "      <td>NaN</td>\n",
       "      <td>NaN</td>\n",
       "      <td>NaN</td>\n",
       "      <td>0.620525</td>\n",
       "    </tr>\n",
       "    <tr>\n",
       "      <th>4</th>\n",
       "      <td>0.620525</td>\n",
       "      <td>0.627250</td>\n",
       "      <td>0.623887</td>\n",
       "      <td>0.630982</td>\n",
       "      <td>NaN</td>\n",
       "      <td>NaN</td>\n",
       "      <td>NaN</td>\n",
       "      <td>0.605548</td>\n",
       "    </tr>\n",
       "    <tr>\n",
       "      <th>...</th>\n",
       "      <td>...</td>\n",
       "      <td>...</td>\n",
       "      <td>...</td>\n",
       "      <td>...</td>\n",
       "      <td>...</td>\n",
       "      <td>...</td>\n",
       "      <td>...</td>\n",
       "      <td>...</td>\n",
       "    </tr>\n",
       "    <tr>\n",
       "      <th>485</th>\n",
       "      <td>0.870650</td>\n",
       "      <td>0.859133</td>\n",
       "      <td>0.864891</td>\n",
       "      <td>0.866875</td>\n",
       "      <td>0.874145</td>\n",
       "      <td>0.878862</td>\n",
       "      <td>0.878862</td>\n",
       "      <td>0.858326</td>\n",
       "    </tr>\n",
       "    <tr>\n",
       "      <th>486</th>\n",
       "      <td>0.858326</td>\n",
       "      <td>0.870650</td>\n",
       "      <td>0.864488</td>\n",
       "      <td>0.863892</td>\n",
       "      <td>0.867861</td>\n",
       "      <td>0.875400</td>\n",
       "      <td>0.875400</td>\n",
       "      <td>0.849737</td>\n",
       "    </tr>\n",
       "    <tr>\n",
       "      <th>487</th>\n",
       "      <td>0.849737</td>\n",
       "      <td>0.858326</td>\n",
       "      <td>0.854032</td>\n",
       "      <td>0.859430</td>\n",
       "      <td>0.863206</td>\n",
       "      <td>0.871154</td>\n",
       "      <td>0.871154</td>\n",
       "      <td>0.845818</td>\n",
       "    </tr>\n",
       "    <tr>\n",
       "      <th>488</th>\n",
       "      <td>0.845818</td>\n",
       "      <td>0.849737</td>\n",
       "      <td>0.847778</td>\n",
       "      <td>0.856733</td>\n",
       "      <td>0.859288</td>\n",
       "      <td>0.867290</td>\n",
       "      <td>0.867290</td>\n",
       "      <td>0.831145</td>\n",
       "    </tr>\n",
       "    <tr>\n",
       "      <th>489</th>\n",
       "      <td>0.831145</td>\n",
       "      <td>0.845818</td>\n",
       "      <td>0.838482</td>\n",
       "      <td>0.851135</td>\n",
       "      <td>0.853445</td>\n",
       "      <td>0.860173</td>\n",
       "      <td>0.860173</td>\n",
       "      <td>NaN</td>\n",
       "    </tr>\n",
       "  </tbody>\n",
       "</table>\n",
       "<p>490 rows × 8 columns</p>\n",
       "</div>"
      ],
      "text/plain": [
       "        Close    1d_lag    2d_mva    5d_mva    7d_mva   10d_mva   20d_mva  \\\n",
       "0    0.628272       NaN       NaN       NaN       NaN       NaN       NaN   \n",
       "1    0.641680  0.628272  0.634976       NaN       NaN       NaN       NaN   \n",
       "2    0.637183  0.641680  0.639431       NaN       NaN       NaN       NaN   \n",
       "3    0.627250  0.637183  0.632216       NaN       NaN       NaN       NaN   \n",
       "4    0.620525  0.627250  0.623887  0.630982       NaN       NaN       NaN   \n",
       "..        ...       ...       ...       ...       ...       ...       ...   \n",
       "485  0.870650  0.859133  0.864891  0.866875  0.874145  0.878862  0.878862   \n",
       "486  0.858326  0.870650  0.864488  0.863892  0.867861  0.875400  0.875400   \n",
       "487  0.849737  0.858326  0.854032  0.859430  0.863206  0.871154  0.871154   \n",
       "488  0.845818  0.849737  0.847778  0.856733  0.859288  0.867290  0.867290   \n",
       "489  0.831145  0.845818  0.838482  0.851135  0.853445  0.860173  0.860173   \n",
       "\n",
       "       Target  \n",
       "0    0.641680  \n",
       "1    0.637183  \n",
       "2    0.627250  \n",
       "3    0.620525  \n",
       "4    0.605548  \n",
       "..        ...  \n",
       "485  0.858326  \n",
       "486  0.849737  \n",
       "487  0.845818  \n",
       "488  0.831145  \n",
       "489       NaN  \n",
       "\n",
       "[490 rows x 8 columns]"
      ]
     },
     "execution_count": 88,
     "metadata": {},
     "output_type": "execute_result"
    }
   ],
   "source": [
    "test_scaled[\"1d_lag\"] = test_scaled[\"Close\"].shift(1)\n",
    "test_scaled[\"2d_mva\"] = test_scaled[\"Close\"].rolling(2).mean()\n",
    "test_scaled[\"5d_mva\"] = test_scaled[\"Close\"].rolling(5).mean()\n",
    "test_scaled[\"7d_mva\"] = test_scaled[\"Close\"].rolling(7).mean()\n",
    "test_scaled[\"10d_mva\"] = test_scaled[\"Close\"].rolling(10).mean()\n",
    "test_scaled[\"20d_mva\"] = test_scaled[\"Close\"].rolling(10).mean()\n",
    "test_scaled[\"Target\"] = test_scaled[\"Close\"].shift(-1)\n",
    "test_scaled"
   ]
  },
  {
   "cell_type": "code",
   "execution_count": 89,
   "id": "dac54b3f-3b05-4cec-881a-e83924c9cde6",
   "metadata": {},
   "outputs": [],
   "source": [
    "test_scaled.dropna(inplace=True)"
   ]
  },
  {
   "cell_type": "code",
   "execution_count": 90,
   "id": "ba3d945e-205b-4c38-845b-bdb7caa10b72",
   "metadata": {},
   "outputs": [
    {
     "data": {
      "text/html": [
       "<div>\n",
       "<style scoped>\n",
       "    .dataframe tbody tr th:only-of-type {\n",
       "        vertical-align: middle;\n",
       "    }\n",
       "\n",
       "    .dataframe tbody tr th {\n",
       "        vertical-align: top;\n",
       "    }\n",
       "\n",
       "    .dataframe thead th {\n",
       "        text-align: right;\n",
       "    }\n",
       "</style>\n",
       "<table border=\"1\" class=\"dataframe\">\n",
       "  <thead>\n",
       "    <tr style=\"text-align: right;\">\n",
       "      <th></th>\n",
       "      <th>Close</th>\n",
       "      <th>1d_lag</th>\n",
       "      <th>2d_mva</th>\n",
       "      <th>5d_mva</th>\n",
       "      <th>7d_mva</th>\n",
       "      <th>10d_mva</th>\n",
       "      <th>20d_mva</th>\n",
       "      <th>Target</th>\n",
       "    </tr>\n",
       "  </thead>\n",
       "  <tbody>\n",
       "    <tr>\n",
       "      <th>9</th>\n",
       "      <td>0.586649</td>\n",
       "      <td>0.594887</td>\n",
       "      <td>0.590768</td>\n",
       "      <td>0.596067</td>\n",
       "      <td>0.604015</td>\n",
       "      <td>0.613524</td>\n",
       "      <td>0.613524</td>\n",
       "      <td>0.583469</td>\n",
       "    </tr>\n",
       "    <tr>\n",
       "      <th>10</th>\n",
       "      <td>0.583469</td>\n",
       "      <td>0.586649</td>\n",
       "      <td>0.585059</td>\n",
       "      <td>0.591651</td>\n",
       "      <td>0.597761</td>\n",
       "      <td>0.609044</td>\n",
       "      <td>0.609044</td>\n",
       "      <td>0.584057</td>\n",
       "    </tr>\n",
       "    <tr>\n",
       "      <th>11</th>\n",
       "      <td>0.584057</td>\n",
       "      <td>0.583469</td>\n",
       "      <td>0.583763</td>\n",
       "      <td>0.588274</td>\n",
       "      <td>0.592551</td>\n",
       "      <td>0.603282</td>\n",
       "      <td>0.603282</td>\n",
       "      <td>0.588583</td>\n",
       "    </tr>\n",
       "    <tr>\n",
       "      <th>12</th>\n",
       "      <td>0.588583</td>\n",
       "      <td>0.584057</td>\n",
       "      <td>0.586320</td>\n",
       "      <td>0.587529</td>\n",
       "      <td>0.590128</td>\n",
       "      <td>0.598422</td>\n",
       "      <td>0.598422</td>\n",
       "      <td>0.577641</td>\n",
       "    </tr>\n",
       "    <tr>\n",
       "      <th>13</th>\n",
       "      <td>0.577641</td>\n",
       "      <td>0.588583</td>\n",
       "      <td>0.583112</td>\n",
       "      <td>0.584080</td>\n",
       "      <td>0.586799</td>\n",
       "      <td>0.593461</td>\n",
       "      <td>0.593461</td>\n",
       "      <td>0.573788</td>\n",
       "    </tr>\n",
       "    <tr>\n",
       "      <th>...</th>\n",
       "      <td>...</td>\n",
       "      <td>...</td>\n",
       "      <td>...</td>\n",
       "      <td>...</td>\n",
       "      <td>...</td>\n",
       "      <td>...</td>\n",
       "      <td>...</td>\n",
       "      <td>...</td>\n",
       "    </tr>\n",
       "    <tr>\n",
       "      <th>484</th>\n",
       "      <td>0.859133</td>\n",
       "      <td>0.859302</td>\n",
       "      <td>0.859217</td>\n",
       "      <td>0.869210</td>\n",
       "      <td>0.876118</td>\n",
       "      <td>0.880879</td>\n",
       "      <td>0.880879</td>\n",
       "      <td>0.870650</td>\n",
       "    </tr>\n",
       "    <tr>\n",
       "      <th>485</th>\n",
       "      <td>0.870650</td>\n",
       "      <td>0.859133</td>\n",
       "      <td>0.864891</td>\n",
       "      <td>0.866875</td>\n",
       "      <td>0.874145</td>\n",
       "      <td>0.878862</td>\n",
       "      <td>0.878862</td>\n",
       "      <td>0.858326</td>\n",
       "    </tr>\n",
       "    <tr>\n",
       "      <th>486</th>\n",
       "      <td>0.858326</td>\n",
       "      <td>0.870650</td>\n",
       "      <td>0.864488</td>\n",
       "      <td>0.863892</td>\n",
       "      <td>0.867861</td>\n",
       "      <td>0.875400</td>\n",
       "      <td>0.875400</td>\n",
       "      <td>0.849737</td>\n",
       "    </tr>\n",
       "    <tr>\n",
       "      <th>487</th>\n",
       "      <td>0.849737</td>\n",
       "      <td>0.858326</td>\n",
       "      <td>0.854032</td>\n",
       "      <td>0.859430</td>\n",
       "      <td>0.863206</td>\n",
       "      <td>0.871154</td>\n",
       "      <td>0.871154</td>\n",
       "      <td>0.845818</td>\n",
       "    </tr>\n",
       "    <tr>\n",
       "      <th>488</th>\n",
       "      <td>0.845818</td>\n",
       "      <td>0.849737</td>\n",
       "      <td>0.847778</td>\n",
       "      <td>0.856733</td>\n",
       "      <td>0.859288</td>\n",
       "      <td>0.867290</td>\n",
       "      <td>0.867290</td>\n",
       "      <td>0.831145</td>\n",
       "    </tr>\n",
       "  </tbody>\n",
       "</table>\n",
       "<p>480 rows × 8 columns</p>\n",
       "</div>"
      ],
      "text/plain": [
       "        Close    1d_lag    2d_mva    5d_mva    7d_mva   10d_mva   20d_mva  \\\n",
       "9    0.586649  0.594887  0.590768  0.596067  0.604015  0.613524  0.613524   \n",
       "10   0.583469  0.586649  0.585059  0.591651  0.597761  0.609044  0.609044   \n",
       "11   0.584057  0.583469  0.583763  0.588274  0.592551  0.603282  0.603282   \n",
       "12   0.588583  0.584057  0.586320  0.587529  0.590128  0.598422  0.598422   \n",
       "13   0.577641  0.588583  0.583112  0.584080  0.586799  0.593461  0.593461   \n",
       "..        ...       ...       ...       ...       ...       ...       ...   \n",
       "484  0.859133  0.859302  0.859217  0.869210  0.876118  0.880879  0.880879   \n",
       "485  0.870650  0.859133  0.864891  0.866875  0.874145  0.878862  0.878862   \n",
       "486  0.858326  0.870650  0.864488  0.863892  0.867861  0.875400  0.875400   \n",
       "487  0.849737  0.858326  0.854032  0.859430  0.863206  0.871154  0.871154   \n",
       "488  0.845818  0.849737  0.847778  0.856733  0.859288  0.867290  0.867290   \n",
       "\n",
       "       Target  \n",
       "9    0.583469  \n",
       "10   0.584057  \n",
       "11   0.588583  \n",
       "12   0.577641  \n",
       "13   0.573788  \n",
       "..        ...  \n",
       "484  0.870650  \n",
       "485  0.858326  \n",
       "486  0.849737  \n",
       "487  0.845818  \n",
       "488  0.831145  \n",
       "\n",
       "[480 rows x 8 columns]"
      ]
     },
     "execution_count": 90,
     "metadata": {},
     "output_type": "execute_result"
    }
   ],
   "source": [
    "test_scaled"
   ]
  },
  {
   "cell_type": "code",
   "execution_count": 91,
   "id": "324d132b-d020-49ec-b6b9-3b59fbe6313d",
   "metadata": {},
   "outputs": [],
   "source": [
    "X_test_scaled = test_scaled[['Close', '1d_lag', '2d_mva', '5d_mva', '7d_mva', '10d_mva', '20d_mva']]\n",
    "y_test_scaled = test_scaled[['Target']]\t"
   ]
  },
  {
   "cell_type": "code",
   "execution_count": 92,
   "id": "0a6bd150-3894-4782-8b2d-ad4e4d0aee5c",
   "metadata": {},
   "outputs": [
    {
     "data": {
      "text/html": [
       "<div>\n",
       "<style scoped>\n",
       "    .dataframe tbody tr th:only-of-type {\n",
       "        vertical-align: middle;\n",
       "    }\n",
       "\n",
       "    .dataframe tbody tr th {\n",
       "        vertical-align: top;\n",
       "    }\n",
       "\n",
       "    .dataframe thead th {\n",
       "        text-align: right;\n",
       "    }\n",
       "</style>\n",
       "<table border=\"1\" class=\"dataframe\">\n",
       "  <thead>\n",
       "    <tr style=\"text-align: right;\">\n",
       "      <th></th>\n",
       "      <th>Target</th>\n",
       "    </tr>\n",
       "  </thead>\n",
       "  <tbody>\n",
       "    <tr>\n",
       "      <th>9</th>\n",
       "      <td>0.583469</td>\n",
       "    </tr>\n",
       "    <tr>\n",
       "      <th>10</th>\n",
       "      <td>0.584057</td>\n",
       "    </tr>\n",
       "    <tr>\n",
       "      <th>11</th>\n",
       "      <td>0.588583</td>\n",
       "    </tr>\n",
       "    <tr>\n",
       "      <th>12</th>\n",
       "      <td>0.577641</td>\n",
       "    </tr>\n",
       "    <tr>\n",
       "      <th>13</th>\n",
       "      <td>0.573788</td>\n",
       "    </tr>\n",
       "    <tr>\n",
       "      <th>...</th>\n",
       "      <td>...</td>\n",
       "    </tr>\n",
       "    <tr>\n",
       "      <th>484</th>\n",
       "      <td>0.870650</td>\n",
       "    </tr>\n",
       "    <tr>\n",
       "      <th>485</th>\n",
       "      <td>0.858326</td>\n",
       "    </tr>\n",
       "    <tr>\n",
       "      <th>486</th>\n",
       "      <td>0.849737</td>\n",
       "    </tr>\n",
       "    <tr>\n",
       "      <th>487</th>\n",
       "      <td>0.845818</td>\n",
       "    </tr>\n",
       "    <tr>\n",
       "      <th>488</th>\n",
       "      <td>0.831145</td>\n",
       "    </tr>\n",
       "  </tbody>\n",
       "</table>\n",
       "<p>480 rows × 1 columns</p>\n",
       "</div>"
      ],
      "text/plain": [
       "       Target\n",
       "9    0.583469\n",
       "10   0.584057\n",
       "11   0.588583\n",
       "12   0.577641\n",
       "13   0.573788\n",
       "..        ...\n",
       "484  0.870650\n",
       "485  0.858326\n",
       "486  0.849737\n",
       "487  0.845818\n",
       "488  0.831145\n",
       "\n",
       "[480 rows x 1 columns]"
      ]
     },
     "execution_count": 92,
     "metadata": {},
     "output_type": "execute_result"
    }
   ],
   "source": [
    "y_test_scaled"
   ]
  },
  {
   "cell_type": "code",
   "execution_count": 93,
   "id": "f23cdf2f-ecf5-4e37-85f9-ff237fa834fa",
   "metadata": {},
   "outputs": [
    {
     "name": "stdout",
     "output_type": "stream",
     "text": [
      "\u001b[1m15/15\u001b[0m \u001b[32m━━━━━━━━━━━━━━━━━━━━\u001b[0m\u001b[37m\u001b[0m \u001b[1m0s\u001b[0m 3ms/step \n"
     ]
    }
   ],
   "source": [
    "y_pred = model.predict(X_test_scaled)"
   ]
  },
  {
   "cell_type": "code",
   "execution_count": 94,
   "id": "f88ca7bd-999e-4d04-99a7-47a2136f0901",
   "metadata": {},
   "outputs": [
    {
     "data": {
      "text/plain": [
       "0.8963888883590698"
      ]
     },
     "execution_count": 94,
     "metadata": {},
     "output_type": "execute_result"
    }
   ],
   "source": [
    "r2_score(y_test_scaled, y_pred)"
   ]
  },
  {
   "cell_type": "code",
   "execution_count": 95,
   "id": "14762b7e-20e7-43ed-8e39-2d2c9787a07a",
   "metadata": {},
   "outputs": [],
   "source": [
    "y_test_og_scale = scaler.inverse_transform(y_test_scaled)\n",
    "y_pred_og_scale = scaler.inverse_transform(y_pred)"
   ]
  },
  {
   "cell_type": "code",
   "execution_count": 96,
   "id": "c685bb7e-e486-4ffa-b789-d4d4aa2bd406",
   "metadata": {},
   "outputs": [
    {
     "data": {
      "text/plain": [
       "Text(0.5, 1.0, 'MLP Model with Leakage - Titan Price Predictions')"
      ]
     },
     "execution_count": 96,
     "metadata": {},
     "output_type": "execute_result"
    },
    {
     "data": {
      "image/png": "[encoded data removed]",
      "text/plain": [
       "<Figure size 640x480 with 1 Axes>"
      ]
     },
     "metadata": {},
     "output_type": "display_data"
    }
   ],
   "source": [
    "plt.plot(y_test_og_scale, label=\"Actual Prices\")\n",
    "plt.plot(y_pred_og_scale,label=\"Predicted Prices\")\n",
    "plt.legend()\n",
    "plt.grid()\n",
    "plt.xlabel(\"Test Time Period (Number of Days)\")\n",
    "plt.title(\"MLP Model with Leakage - Titan Price Predictions\")"
   ]
  },
  {
   "cell_type": "markdown",
   "id": "3c93d0cc-7ac9-4225-a337-7bcbe37e94ac",
   "metadata": {},
   "source": [
    "I have not inverse scaled the test data, nor added the dates as of now. But the r2 score on the test data is 0.93, which is impressive. But of course, there is plenty of data leakage here."
   ]
  },
  {
   "cell_type": "markdown",
   "id": "51a8a97a-c217-4f79-a30a-692851de6a2c",
   "metadata": {},
   "source": [
    "Now, I build an LSTM Model with data leakage."
   ]
  },
  {
   "cell_type": "code",
   "execution_count": 111,
   "id": "48889993-c9ab-40f0-89a5-285c6be16c9d",
   "metadata": {},
   "outputs": [
    {
     "data": {
      "text/html": [
       "<div>\n",
       "<style scoped>\n",
       "    .dataframe tbody tr th:only-of-type {\n",
       "        vertical-align: middle;\n",
       "    }\n",
       "\n",
       "    .dataframe tbody tr th {\n",
       "        vertical-align: top;\n",
       "    }\n",
       "\n",
       "    .dataframe thead th {\n",
       "        text-align: right;\n",
       "    }\n",
       "</style>\n",
       "<table border=\"1\" class=\"dataframe\">\n",
       "  <thead>\n",
       "    <tr style=\"text-align: right;\">\n",
       "      <th></th>\n",
       "      <th>Close</th>\n",
       "      <th>1d_lag</th>\n",
       "      <th>2d_mva</th>\n",
       "      <th>5d_mva</th>\n",
       "      <th>7d_mva</th>\n",
       "      <th>10d_mva</th>\n",
       "      <th>20d_mva</th>\n",
       "      <th>Target</th>\n",
       "    </tr>\n",
       "  </thead>\n",
       "  <tbody>\n",
       "    <tr>\n",
       "      <th>9</th>\n",
       "      <td>0.006623</td>\n",
       "      <td>0.008075</td>\n",
       "      <td>0.007349</td>\n",
       "      <td>0.007008</td>\n",
       "      <td>0.006764</td>\n",
       "      <td>0.005818</td>\n",
       "      <td>0.005818</td>\n",
       "      <td>0.007844</td>\n",
       "    </tr>\n",
       "    <tr>\n",
       "      <th>10</th>\n",
       "      <td>0.007844</td>\n",
       "      <td>0.006623</td>\n",
       "      <td>0.007233</td>\n",
       "      <td>0.007456</td>\n",
       "      <td>0.006950</td>\n",
       "      <td>0.006602</td>\n",
       "      <td>0.006602</td>\n",
       "      <td>0.007057</td>\n",
       "    </tr>\n",
       "    <tr>\n",
       "      <th>11</th>\n",
       "      <td>0.007057</td>\n",
       "      <td>0.007844</td>\n",
       "      <td>0.007450</td>\n",
       "      <td>0.007374</td>\n",
       "      <td>0.007134</td>\n",
       "      <td>0.006923</td>\n",
       "      <td>0.006923</td>\n",
       "      <td>0.008970</td>\n",
       "    </tr>\n",
       "    <tr>\n",
       "      <th>12</th>\n",
       "      <td>0.008970</td>\n",
       "      <td>0.007057</td>\n",
       "      <td>0.008014</td>\n",
       "      <td>0.007714</td>\n",
       "      <td>0.007615</td>\n",
       "      <td>0.007122</td>\n",
       "      <td>0.007122</td>\n",
       "      <td>0.010517</td>\n",
       "    </tr>\n",
       "    <tr>\n",
       "      <th>13</th>\n",
       "      <td>0.010517</td>\n",
       "      <td>0.008970</td>\n",
       "      <td>0.009744</td>\n",
       "      <td>0.008202</td>\n",
       "      <td>0.008051</td>\n",
       "      <td>0.007520</td>\n",
       "      <td>0.007520</td>\n",
       "      <td>0.007260</td>\n",
       "    </tr>\n",
       "    <tr>\n",
       "      <th>...</th>\n",
       "      <td>...</td>\n",
       "      <td>...</td>\n",
       "      <td>...</td>\n",
       "      <td>...</td>\n",
       "      <td>...</td>\n",
       "      <td>...</td>\n",
       "      <td>...</td>\n",
       "      <td>...</td>\n",
       "    </tr>\n",
       "    <tr>\n",
       "      <th>1478</th>\n",
       "      <td>0.605100</td>\n",
       "      <td>0.605086</td>\n",
       "      <td>0.605093</td>\n",
       "      <td>0.609043</td>\n",
       "      <td>0.609495</td>\n",
       "      <td>0.616653</td>\n",
       "      <td>0.616653</td>\n",
       "      <td>0.604554</td>\n",
       "    </tr>\n",
       "    <tr>\n",
       "      <th>1479</th>\n",
       "      <td>0.604554</td>\n",
       "      <td>0.605100</td>\n",
       "      <td>0.604827</td>\n",
       "      <td>0.606762</td>\n",
       "      <td>0.607830</td>\n",
       "      <td>0.613751</td>\n",
       "      <td>0.613751</td>\n",
       "      <td>0.610844</td>\n",
       "    </tr>\n",
       "    <tr>\n",
       "      <th>1480</th>\n",
       "      <td>0.610844</td>\n",
       "      <td>0.604554</td>\n",
       "      <td>0.607699</td>\n",
       "      <td>0.606504</td>\n",
       "      <td>0.608659</td>\n",
       "      <td>0.611724</td>\n",
       "      <td>0.611724</td>\n",
       "      <td>0.632307</td>\n",
       "    </tr>\n",
       "    <tr>\n",
       "      <th>1481</th>\n",
       "      <td>0.632307</td>\n",
       "      <td>0.610844</td>\n",
       "      <td>0.621576</td>\n",
       "      <td>0.611578</td>\n",
       "      <td>0.610994</td>\n",
       "      <td>0.611417</td>\n",
       "      <td>0.611417</td>\n",
       "      <td>0.624770</td>\n",
       "    </tr>\n",
       "    <tr>\n",
       "      <th>1482</th>\n",
       "      <td>0.624770</td>\n",
       "      <td>0.632307</td>\n",
       "      <td>0.628539</td>\n",
       "      <td>0.615515</td>\n",
       "      <td>0.612800</td>\n",
       "      <td>0.612273</td>\n",
       "      <td>0.612273</td>\n",
       "      <td>0.637169</td>\n",
       "    </tr>\n",
       "  </tbody>\n",
       "</table>\n",
       "<p>1474 rows × 8 columns</p>\n",
       "</div>"
      ],
      "text/plain": [
       "         Close    1d_lag    2d_mva    5d_mva    7d_mva   10d_mva   20d_mva  \\\n",
       "9     0.006623  0.008075  0.007349  0.007008  0.006764  0.005818  0.005818   \n",
       "10    0.007844  0.006623  0.007233  0.007456  0.006950  0.006602  0.006602   \n",
       "11    0.007057  0.007844  0.007450  0.007374  0.007134  0.006923  0.006923   \n",
       "12    0.008970  0.007057  0.008014  0.007714  0.007615  0.007122  0.007122   \n",
       "13    0.010517  0.008970  0.009744  0.008202  0.008051  0.007520  0.007520   \n",
       "...        ...       ...       ...       ...       ...       ...       ...   \n",
       "1478  0.605100  0.605086  0.605093  0.609043  0.609495  0.616653  0.616653   \n",
       "1479  0.604554  0.605100  0.604827  0.606762  0.607830  0.613751  0.613751   \n",
       "1480  0.610844  0.604554  0.607699  0.606504  0.608659  0.611724  0.611724   \n",
       "1481  0.632307  0.610844  0.621576  0.611578  0.610994  0.611417  0.611417   \n",
       "1482  0.624770  0.632307  0.628539  0.615515  0.612800  0.612273  0.612273   \n",
       "\n",
       "        Target  \n",
       "9     0.007844  \n",
       "10    0.007057  \n",
       "11    0.008970  \n",
       "12    0.010517  \n",
       "13    0.007260  \n",
       "...        ...  \n",
       "1478  0.604554  \n",
       "1479  0.610844  \n",
       "1480  0.632307  \n",
       "1481  0.624770  \n",
       "1482  0.637169  \n",
       "\n",
       "[1474 rows x 8 columns]"
      ]
     },
     "execution_count": 111,
     "metadata": {},
     "output_type": "execute_result"
    }
   ],
   "source": [
    "train_scaled"
   ]
  },
  {
   "cell_type": "markdown",
   "id": "619d3117-5008-45fc-b680-fd8038abd5d4",
   "metadata": {},
   "source": [
    "For this model, I will use the sequence of past 25 days data to predict future values (which is similar to the approach I followed in GWP2)"
   ]
  },
  {
   "cell_type": "code",
   "execution_count": 114,
   "id": "f9deefd1-b60a-499a-b400-7b6ee2f688f8",
   "metadata": {},
   "outputs": [],
   "source": [
    "train_scaled = train_scaled[\"Close\"]\n",
    "test_scaled = test_scaled[\"Close\"]"
   ]
  },
  {
   "cell_type": "code",
   "execution_count": 116,
   "id": "e8674244-ef5f-4f44-a385-389c93b8f25a",
   "metadata": {},
   "outputs": [
    {
     "data": {
      "text/plain": [
       "9      0.586649\n",
       "10     0.583469\n",
       "11     0.584057\n",
       "12     0.588583\n",
       "13     0.577641\n",
       "         ...   \n",
       "484    0.859133\n",
       "485    0.870650\n",
       "486    0.858326\n",
       "487    0.849737\n",
       "488    0.845818\n",
       "Name: Close, Length: 480, dtype: float64"
      ]
     },
     "execution_count": 116,
     "metadata": {},
     "output_type": "execute_result"
    }
   ],
   "source": [
    "test_scaled"
   ]
  },
  {
   "cell_type": "code",
   "execution_count": 118,
   "id": "7648af3c-fc4e-420f-b719-66fbd0e86a99",
   "metadata": {},
   "outputs": [],
   "source": [
    "window_size = 25"
   ]
  },
  {
   "cell_type": "code",
   "execution_count": 120,
   "id": "9efae42f-5f89-4be4-b429-7cb064d3b532",
   "metadata": {},
   "outputs": [],
   "source": [
    "X_train_scaled = []\n",
    "y_train_scaled = [] \n",
    "\n",
    "X_test_scaled = []\n",
    "y_test_scaled = [] \n",
    "\n",
    "for i in range(window_size, train_scaled.shape[0]):\n",
    "    X_train_scaled.append(train_scaled[i-window_size: i])\n",
    "    y_train_scaled.append(train_scaled[i])\n",
    "\n",
    "for i in range(window_size, test_scaled.shape[0]):\n",
    "    X_test_scaled.append(test_scaled[i-window_size: i])\n",
    "    y_test_scaled.append(test_scaled[i])\n",
    "\n",
    "#x_train, y_train = np.array(x_train), np.array(y_train) "
   ]
  },
  {
   "cell_type": "code",
   "execution_count": 122,
   "id": "b3bd1299-397c-4cb9-a613-c8d7bcca1271",
   "metadata": {},
   "outputs": [],
   "source": [
    "X_train_scaled, y_train_scaled = np.array(X_train_scaled), np.array(y_train_scaled) \n",
    "X_test_scaled, y_test_scaled = np.array(X_test_scaled), np.array(y_test_scaled)"
   ]
  },
  {
   "cell_type": "code",
   "execution_count": 124,
   "id": "4e4c7cad-0c1b-4d9a-adb9-043354a7f374",
   "metadata": {},
   "outputs": [
    {
     "name": "stderr",
     "output_type": "stream",
     "text": [
      "C:\\Users\\susha\\anaconda3\\Lib\\site-packages\\keras\\src\\layers\\rnn\\rnn.py:200: UserWarning: Do not pass an `input_shape`/`input_dim` argument to a layer. When using Sequential models, prefer using an `Input(shape)` object as the first layer in the model instead.\n",
      "  super().__init__(**kwargs)\n"
     ]
    }
   ],
   "source": [
    "seed = 42\n",
    "n_dropout = 0\n",
    "model = Sequential()\n",
    "model.add(\n",
    "    LSTM(\n",
    "        units=128,\n",
    "        return_sequences=True,\n",
    "        activation=\"relu\",\n",
    "        input_shape=(X_train_scaled.shape[1], 1),\n",
    "    )\n",
    ")"
   ]
  },
  {
   "cell_type": "markdown",
   "id": "5d71acf0-0bda-4215-9f85-f37777ce72b9",
   "metadata": {},
   "source": [
    "Now, I build the LSTM model"
   ]
  },
  {
   "cell_type": "code",
   "execution_count": 127,
   "id": "0739e792-b3e4-4f4b-a52b-0415d639a265",
   "metadata": {},
   "outputs": [],
   "source": [
    "model.add(LSTM(units=256, return_sequences=True, activation=\"tanh\"))\n",
    "model.add(Dropout(n_dropout, seed=seed))\n",
    "model.add(LSTM(units=128, return_sequences=True, activation=\"tanh\"))\n",
    "model.add(Dropout(n_dropout, seed=seed))\n",
    "model.add(LSTM(units=64, return_sequences=False, activation=\"tanh\"))\n",
    "model.add(Dropout(n_dropout, seed=seed))\n",
    "model.add(Dense(64))\n",
    "model.add(Dense(1))"
   ]
  },
  {
   "cell_type": "code",
   "execution_count": 129,
   "id": "997c4b01-96a6-45f1-b5ec-d251806b28bc",
   "metadata": {},
   "outputs": [
    {
     "data": {
      "text/html": [
       "<pre style=\"white-space:pre;overflow-x:auto;line-height:normal;font-family:Menlo,'DejaVu Sans Mono',consolas,'Courier New',monospace\"><span style=\"font-weight: bold\">Model: \"sequential_1\"</span>\n",
       "</pre>\n"
      ],
      "text/plain": [
       "\u001b[1mModel: \"sequential_1\"\u001b[0m\n"
      ]
     },
     "metadata": {},
     "output_type": "display_data"
    },
    {
     "data": {
      "text/html": [
       "<pre style=\"white-space:pre;overflow-x:auto;line-height:normal;font-family:Menlo,'DejaVu Sans Mono',consolas,'Courier New',monospace\">┏━━━━━━━━━━━━━━━━━━━━━━━━━━━━━━━━━━━━━━┳━━━━━━━━━━━━━━━━━━━━━━━━━━━━━┳━━━━━━━━━━━━━━━━━┓\n",
       "┃<span style=\"font-weight: bold\"> Layer (type)                         </span>┃<span style=\"font-weight: bold\"> Output Shape                </span>┃<span style=\"font-weight: bold\">         Param # </span>┃\n",
       "┡━━━━━━━━━━━━━━━━━━━━━━━━━━━━━━━━━━━━━━╇━━━━━━━━━━━━━━━━━━━━━━━━━━━━━╇━━━━━━━━━━━━━━━━━┩\n",
       "│ lstm (<span style=\"color: #0087ff; text-decoration-color: #0087ff\">LSTM</span>)                          │ (<span style=\"color: #00d7ff; text-decoration-color: #00d7ff\">None</span>, <span style=\"color: #00af00; text-decoration-color: #00af00\">25</span>, <span style=\"color: #00af00; text-decoration-color: #00af00\">128</span>)             │          <span style=\"color: #00af00; text-decoration-color: #00af00\">66,560</span> │\n",
       "├──────────────────────────────────────┼─────────────────────────────┼─────────────────┤\n",
       "│ lstm_1 (<span style=\"color: #0087ff; text-decoration-color: #0087ff\">LSTM</span>)                        │ (<span style=\"color: #00d7ff; text-decoration-color: #00d7ff\">None</span>, <span style=\"color: #00af00; text-decoration-color: #00af00\">25</span>, <span style=\"color: #00af00; text-decoration-color: #00af00\">256</span>)             │         <span style=\"color: #00af00; text-decoration-color: #00af00\">394,240</span> │\n",
       "├──────────────────────────────────────┼─────────────────────────────┼─────────────────┤\n",
       "│ dropout (<span style=\"color: #0087ff; text-decoration-color: #0087ff\">Dropout</span>)                    │ (<span style=\"color: #00d7ff; text-decoration-color: #00d7ff\">None</span>, <span style=\"color: #00af00; text-decoration-color: #00af00\">25</span>, <span style=\"color: #00af00; text-decoration-color: #00af00\">256</span>)             │               <span style=\"color: #00af00; text-decoration-color: #00af00\">0</span> │\n",
       "├──────────────────────────────────────┼─────────────────────────────┼─────────────────┤\n",
       "│ lstm_2 (<span style=\"color: #0087ff; text-decoration-color: #0087ff\">LSTM</span>)                        │ (<span style=\"color: #00d7ff; text-decoration-color: #00d7ff\">None</span>, <span style=\"color: #00af00; text-decoration-color: #00af00\">25</span>, <span style=\"color: #00af00; text-decoration-color: #00af00\">128</span>)             │         <span style=\"color: #00af00; text-decoration-color: #00af00\">197,120</span> │\n",
       "├──────────────────────────────────────┼─────────────────────────────┼─────────────────┤\n",
       "│ dropout_1 (<span style=\"color: #0087ff; text-decoration-color: #0087ff\">Dropout</span>)                  │ (<span style=\"color: #00d7ff; text-decoration-color: #00d7ff\">None</span>, <span style=\"color: #00af00; text-decoration-color: #00af00\">25</span>, <span style=\"color: #00af00; text-decoration-color: #00af00\">128</span>)             │               <span style=\"color: #00af00; text-decoration-color: #00af00\">0</span> │\n",
       "├──────────────────────────────────────┼─────────────────────────────┼─────────────────┤\n",
       "│ lstm_3 (<span style=\"color: #0087ff; text-decoration-color: #0087ff\">LSTM</span>)                        │ (<span style=\"color: #00d7ff; text-decoration-color: #00d7ff\">None</span>, <span style=\"color: #00af00; text-decoration-color: #00af00\">64</span>)                  │          <span style=\"color: #00af00; text-decoration-color: #00af00\">49,408</span> │\n",
       "├──────────────────────────────────────┼─────────────────────────────┼─────────────────┤\n",
       "│ dropout_2 (<span style=\"color: #0087ff; text-decoration-color: #0087ff\">Dropout</span>)                  │ (<span style=\"color: #00d7ff; text-decoration-color: #00d7ff\">None</span>, <span style=\"color: #00af00; text-decoration-color: #00af00\">64</span>)                  │               <span style=\"color: #00af00; text-decoration-color: #00af00\">0</span> │\n",
       "├──────────────────────────────────────┼─────────────────────────────┼─────────────────┤\n",
       "│ dense_5 (<span style=\"color: #0087ff; text-decoration-color: #0087ff\">Dense</span>)                      │ (<span style=\"color: #00d7ff; text-decoration-color: #00d7ff\">None</span>, <span style=\"color: #00af00; text-decoration-color: #00af00\">64</span>)                  │           <span style=\"color: #00af00; text-decoration-color: #00af00\">4,160</span> │\n",
       "├──────────────────────────────────────┼─────────────────────────────┼─────────────────┤\n",
       "│ dense_6 (<span style=\"color: #0087ff; text-decoration-color: #0087ff\">Dense</span>)                      │ (<span style=\"color: #00d7ff; text-decoration-color: #00d7ff\">None</span>, <span style=\"color: #00af00; text-decoration-color: #00af00\">1</span>)                   │              <span style=\"color: #00af00; text-decoration-color: #00af00\">65</span> │\n",
       "└──────────────────────────────────────┴─────────────────────────────┴─────────────────┘\n",
       "</pre>\n"
      ],
      "text/plain": [
       "┏━━━━━━━━━━━━━━━━━━━━━━━━━━━━━━━━━━━━━━┳━━━━━━━━━━━━━━━━━━━━━━━━━━━━━┳━━━━━━━━━━━━━━━━━┓\n",
       "┃\u001b[1m \u001b[0m\u001b[1mLayer (type)                        \u001b[0m\u001b[1m \u001b[0m┃\u001b[1m \u001b[0m\u001b[1mOutput Shape               \u001b[0m\u001b[1m \u001b[0m┃\u001b[1m \u001b[0m\u001b[1m        Param #\u001b[0m\u001b[1m \u001b[0m┃\n",
       "┡━━━━━━━━━━━━━━━━━━━━━━━━━━━━━━━━━━━━━━╇━━━━━━━━━━━━━━━━━━━━━━━━━━━━━╇━━━━━━━━━━━━━━━━━┩\n",
       "│ lstm (\u001b[38;5;33mLSTM\u001b[0m)                          │ (\u001b[38;5;45mNone\u001b[0m, \u001b[38;5;34m25\u001b[0m, \u001b[38;5;34m128\u001b[0m)             │          \u001b[38;5;34m66,560\u001b[0m │\n",
       "├──────────────────────────────────────┼─────────────────────────────┼─────────────────┤\n",
       "│ lstm_1 (\u001b[38;5;33mLSTM\u001b[0m)                        │ (\u001b[38;5;45mNone\u001b[0m, \u001b[38;5;34m25\u001b[0m, \u001b[38;5;34m256\u001b[0m)             │         \u001b[38;5;34m394,240\u001b[0m │\n",
       "├──────────────────────────────────────┼─────────────────────────────┼─────────────────┤\n",
       "│ dropout (\u001b[38;5;33mDropout\u001b[0m)                    │ (\u001b[38;5;45mNone\u001b[0m, \u001b[38;5;34m25\u001b[0m, \u001b[38;5;34m256\u001b[0m)             │               \u001b[38;5;34m0\u001b[0m │\n",
       "├──────────────────────────────────────┼─────────────────────────────┼─────────────────┤\n",
       "│ lstm_2 (\u001b[38;5;33mLSTM\u001b[0m)                        │ (\u001b[38;5;45mNone\u001b[0m, \u001b[38;5;34m25\u001b[0m, \u001b[38;5;34m128\u001b[0m)             │         \u001b[38;5;34m197,120\u001b[0m │\n",
       "├──────────────────────────────────────┼─────────────────────────────┼─────────────────┤\n",
       "│ dropout_1 (\u001b[38;5;33mDropout\u001b[0m)                  │ (\u001b[38;5;45mNone\u001b[0m, \u001b[38;5;34m25\u001b[0m, \u001b[38;5;34m128\u001b[0m)             │               \u001b[38;5;34m0\u001b[0m │\n",
       "├──────────────────────────────────────┼─────────────────────────────┼─────────────────┤\n",
       "│ lstm_3 (\u001b[38;5;33mLSTM\u001b[0m)                        │ (\u001b[38;5;45mNone\u001b[0m, \u001b[38;5;34m64\u001b[0m)                  │          \u001b[38;5;34m49,408\u001b[0m │\n",
       "├──────────────────────────────────────┼─────────────────────────────┼─────────────────┤\n",
       "│ dropout_2 (\u001b[38;5;33mDropout\u001b[0m)                  │ (\u001b[38;5;45mNone\u001b[0m, \u001b[38;5;34m64\u001b[0m)                  │               \u001b[38;5;34m0\u001b[0m │\n",
       "├──────────────────────────────────────┼─────────────────────────────┼─────────────────┤\n",
       "│ dense_5 (\u001b[38;5;33mDense\u001b[0m)                      │ (\u001b[38;5;45mNone\u001b[0m, \u001b[38;5;34m64\u001b[0m)                  │           \u001b[38;5;34m4,160\u001b[0m │\n",
       "├──────────────────────────────────────┼─────────────────────────────┼─────────────────┤\n",
       "│ dense_6 (\u001b[38;5;33mDense\u001b[0m)                      │ (\u001b[38;5;45mNone\u001b[0m, \u001b[38;5;34m1\u001b[0m)                   │              \u001b[38;5;34m65\u001b[0m │\n",
       "└──────────────────────────────────────┴─────────────────────────────┴─────────────────┘\n"
      ]
     },
     "metadata": {},
     "output_type": "display_data"
    },
    {
     "data": {
      "text/html": [
       "<pre style=\"white-space:pre;overflow-x:auto;line-height:normal;font-family:Menlo,'DejaVu Sans Mono',consolas,'Courier New',monospace\"><span style=\"font-weight: bold\"> Total params: </span><span style=\"color: #00af00; text-decoration-color: #00af00\">711,553</span> (2.71 MB)\n",
       "</pre>\n"
      ],
      "text/plain": [
       "\u001b[1m Total params: \u001b[0m\u001b[38;5;34m711,553\u001b[0m (2.71 MB)\n"
      ]
     },
     "metadata": {},
     "output_type": "display_data"
    },
    {
     "data": {
      "text/html": [
       "<pre style=\"white-space:pre;overflow-x:auto;line-height:normal;font-family:Menlo,'DejaVu Sans Mono',consolas,'Courier New',monospace\"><span style=\"font-weight: bold\"> Trainable params: </span><span style=\"color: #00af00; text-decoration-color: #00af00\">711,553</span> (2.71 MB)\n",
       "</pre>\n"
      ],
      "text/plain": [
       "\u001b[1m Trainable params: \u001b[0m\u001b[38;5;34m711,553\u001b[0m (2.71 MB)\n"
      ]
     },
     "metadata": {},
     "output_type": "display_data"
    },
    {
     "data": {
      "text/html": [
       "<pre style=\"white-space:pre;overflow-x:auto;line-height:normal;font-family:Menlo,'DejaVu Sans Mono',consolas,'Courier New',monospace\"><span style=\"font-weight: bold\"> Non-trainable params: </span><span style=\"color: #00af00; text-decoration-color: #00af00\">0</span> (0.00 B)\n",
       "</pre>\n"
      ],
      "text/plain": [
       "\u001b[1m Non-trainable params: \u001b[0m\u001b[38;5;34m0\u001b[0m (0.00 B)\n"
      ]
     },
     "metadata": {},
     "output_type": "display_data"
    }
   ],
   "source": [
    "model.summary()"
   ]
  },
  {
   "cell_type": "code",
   "execution_count": 131,
   "id": "2288be82-c30a-4612-8fae-37a4c081b235",
   "metadata": {},
   "outputs": [
    {
     "name": "stdout",
     "output_type": "stream",
     "text": [
      "Epoch 1/100\n",
      "20/20 - 13s - 649ms/step - loss: 0.1328 - val_loss: 0.0635\n",
      "Epoch 2/100\n",
      "20/20 - 3s - 161ms/step - loss: 0.0513 - val_loss: 0.0555\n",
      "Epoch 3/100\n",
      "20/20 - 4s - 178ms/step - loss: 0.0167 - val_loss: 0.0313\n",
      "Epoch 4/100\n",
      "20/20 - 3s - 169ms/step - loss: 0.0101 - val_loss: 0.0390\n",
      "Epoch 5/100\n",
      "20/20 - 3s - 171ms/step - loss: 0.0096 - val_loss: 0.0236\n",
      "Epoch 6/100\n",
      "20/20 - 3s - 170ms/step - loss: 0.0090 - val_loss: 0.0189\n",
      "Epoch 7/100\n",
      "20/20 - 4s - 176ms/step - loss: 0.0088 - val_loss: 0.0211\n",
      "Epoch 8/100\n",
      "20/20 - 3s - 167ms/step - loss: 0.0088 - val_loss: 0.0184\n",
      "Epoch 9/100\n",
      "20/20 - 3s - 165ms/step - loss: 0.0088 - val_loss: 0.0175\n",
      "Epoch 10/100\n",
      "20/20 - 3s - 160ms/step - loss: 0.0085 - val_loss: 0.0197\n",
      "Epoch 11/100\n",
      "20/20 - 3s - 161ms/step - loss: 0.0083 - val_loss: 0.0181\n",
      "Epoch 12/100\n",
      "20/20 - 3s - 160ms/step - loss: 0.0085 - val_loss: 0.0185\n",
      "Epoch 13/100\n",
      "20/20 - 3s - 160ms/step - loss: 0.0080 - val_loss: 0.0168\n",
      "Epoch 14/100\n",
      "20/20 - 3s - 162ms/step - loss: 0.0077 - val_loss: 0.0175\n",
      "Epoch 15/100\n",
      "20/20 - 3s - 162ms/step - loss: 0.0075 - val_loss: 0.0156\n",
      "Epoch 16/100\n",
      "20/20 - 3s - 162ms/step - loss: 0.0074 - val_loss: 0.0141\n",
      "Epoch 17/100\n",
      "20/20 - 3s - 164ms/step - loss: 0.0073 - val_loss: 0.0168\n",
      "Epoch 18/100\n",
      "20/20 - 3s - 162ms/step - loss: 0.0068 - val_loss: 0.0143\n",
      "Epoch 19/100\n",
      "20/20 - 3s - 162ms/step - loss: 0.0067 - val_loss: 0.0138\n",
      "Epoch 20/100\n",
      "20/20 - 3s - 161ms/step - loss: 0.0065 - val_loss: 0.0115\n",
      "Epoch 21/100\n",
      "20/20 - 3s - 161ms/step - loss: 0.0061 - val_loss: 0.0145\n",
      "Epoch 22/100\n",
      "20/20 - 3s - 161ms/step - loss: 0.0061 - val_loss: 0.0107\n",
      "Epoch 23/100\n",
      "20/20 - 3s - 161ms/step - loss: 0.0057 - val_loss: 0.0113\n",
      "Epoch 24/100\n",
      "20/20 - 3s - 167ms/step - loss: 0.0056 - val_loss: 0.0146\n",
      "Epoch 25/100\n",
      "20/20 - 3s - 163ms/step - loss: 0.0057 - val_loss: 0.0105\n",
      "Epoch 26/100\n",
      "20/20 - 3s - 165ms/step - loss: 0.0053 - val_loss: 0.0117\n",
      "Epoch 27/100\n",
      "20/20 - 3s - 163ms/step - loss: 0.0057 - val_loss: 0.0101\n",
      "Epoch 28/100\n",
      "20/20 - 3s - 166ms/step - loss: 0.0068 - val_loss: 0.0155\n",
      "Epoch 29/100\n",
      "20/20 - 3s - 160ms/step - loss: 0.0061 - val_loss: 0.0100\n",
      "Epoch 30/100\n",
      "20/20 - 3s - 165ms/step - loss: 0.0054 - val_loss: 0.0097\n",
      "Epoch 31/100\n",
      "20/20 - 3s - 165ms/step - loss: 0.0058 - val_loss: 0.0108\n",
      "Epoch 32/100\n",
      "20/20 - 3s - 159ms/step - loss: 0.0054 - val_loss: 0.0107\n",
      "Epoch 33/100\n",
      "20/20 - 3s - 160ms/step - loss: 0.0054 - val_loss: 0.0092\n",
      "Epoch 34/100\n",
      "20/20 - 3s - 159ms/step - loss: 0.0057 - val_loss: 0.0121\n",
      "Epoch 35/100\n",
      "20/20 - 3s - 161ms/step - loss: 0.0055 - val_loss: 0.0098\n",
      "Epoch 36/100\n",
      "20/20 - 3s - 160ms/step - loss: 0.0052 - val_loss: 0.0094\n",
      "Epoch 37/100\n",
      "20/20 - 3s - 159ms/step - loss: 0.0054 - val_loss: 0.0104\n",
      "Epoch 38/100\n",
      "20/20 - 3s - 159ms/step - loss: 0.0052 - val_loss: 0.0096\n",
      "Epoch 39/100\n",
      "20/20 - 3s - 159ms/step - loss: 0.0052 - val_loss: 0.0099\n",
      "Epoch 40/100\n",
      "20/20 - 3s - 158ms/step - loss: 0.0055 - val_loss: 0.0107\n",
      "Epoch 41/100\n",
      "20/20 - 3s - 160ms/step - loss: 0.0053 - val_loss: 0.0090\n",
      "Epoch 42/100\n",
      "20/20 - 3s - 161ms/step - loss: 0.0051 - val_loss: 0.0093\n",
      "Epoch 43/100\n",
      "20/20 - 3s - 160ms/step - loss: 0.0051 - val_loss: 0.0097\n",
      "Epoch 44/100\n",
      "20/20 - 3s - 161ms/step - loss: 0.0051 - val_loss: 0.0090\n",
      "Epoch 45/100\n",
      "20/20 - 3s - 162ms/step - loss: 0.0051 - val_loss: 0.0095\n",
      "Epoch 46/100\n",
      "20/20 - 3s - 160ms/step - loss: 0.0052 - val_loss: 0.0090\n",
      "Epoch 47/100\n",
      "20/20 - 3s - 160ms/step - loss: 0.0051 - val_loss: 0.0091\n",
      "Epoch 48/100\n",
      "20/20 - 3s - 161ms/step - loss: 0.0052 - val_loss: 0.0094\n",
      "Epoch 49/100\n",
      "20/20 - 3s - 159ms/step - loss: 0.0051 - val_loss: 0.0091\n",
      "Epoch 50/100\n",
      "20/20 - 3s - 160ms/step - loss: 0.0050 - val_loss: 0.0091\n",
      "Epoch 51/100\n",
      "20/20 - 3s - 160ms/step - loss: 0.0052 - val_loss: 0.0091\n",
      "Epoch 52/100\n",
      "20/20 - 3s - 164ms/step - loss: 0.0050 - val_loss: 0.0092\n",
      "Epoch 53/100\n",
      "20/20 - 3s - 160ms/step - loss: 0.0050 - val_loss: 0.0091\n",
      "Epoch 54/100\n",
      "20/20 - 3s - 160ms/step - loss: 0.0051 - val_loss: 0.0093\n",
      "Epoch 55/100\n",
      "20/20 - 3s - 160ms/step - loss: 0.0050 - val_loss: 0.0090\n",
      "Epoch 56/100\n",
      "20/20 - 3s - 161ms/step - loss: 0.0050 - val_loss: 0.0090\n",
      "Epoch 57/100\n",
      "20/20 - 3s - 169ms/step - loss: 0.0050 - val_loss: 0.0095\n",
      "Epoch 58/100\n",
      "20/20 - 3s - 162ms/step - loss: 0.0050 - val_loss: 0.0092\n",
      "Epoch 59/100\n",
      "20/20 - 3s - 163ms/step - loss: 0.0050 - val_loss: 0.0092\n",
      "Epoch 60/100\n",
      "20/20 - 3s - 163ms/step - loss: 0.0050 - val_loss: 0.0090\n",
      "Epoch 61/100\n",
      "20/20 - 3s - 166ms/step - loss: 0.0050 - val_loss: 0.0093\n",
      "Epoch 62/100\n",
      "20/20 - 3s - 173ms/step - loss: 0.0049 - val_loss: 0.0090\n",
      "Epoch 63/100\n",
      "20/20 - 3s - 170ms/step - loss: 0.0050 - val_loss: 0.0091\n",
      "Epoch 64/100\n",
      "20/20 - 3s - 167ms/step - loss: 0.0050 - val_loss: 0.0090\n",
      "Epoch 65/100\n",
      "20/20 - 3s - 163ms/step - loss: 0.0050 - val_loss: 0.0091\n",
      "Epoch 66/100\n",
      "20/20 - 3s - 165ms/step - loss: 0.0050 - val_loss: 0.0091\n",
      "Epoch 67/100\n",
      "20/20 - 3s - 162ms/step - loss: 0.0050 - val_loss: 0.0091\n",
      "Epoch 68/100\n",
      "20/20 - 3s - 167ms/step - loss: 0.0049 - val_loss: 0.0092\n",
      "Epoch 69/100\n",
      "20/20 - 3s - 162ms/step - loss: 0.0050 - val_loss: 0.0091\n",
      "Epoch 70/100\n",
      "20/20 - 3s - 160ms/step - loss: 0.0049 - val_loss: 0.0093\n",
      "Epoch 71/100\n",
      "20/20 - 3s - 159ms/step - loss: 0.0049 - val_loss: 0.0091\n",
      "Epoch 72/100\n",
      "20/20 - 3s - 164ms/step - loss: 0.0049 - val_loss: 0.0092\n",
      "Epoch 73/100\n",
      "20/20 - 3s - 160ms/step - loss: 0.0050 - val_loss: 0.0090\n",
      "Epoch 74/100\n",
      "20/20 - 3s - 159ms/step - loss: 0.0049 - val_loss: 0.0092\n",
      "Epoch 75/100\n",
      "20/20 - 3s - 161ms/step - loss: 0.0049 - val_loss: 0.0089\n",
      "Epoch 76/100\n",
      "20/20 - 3s - 159ms/step - loss: 0.0050 - val_loss: 0.0089\n",
      "Epoch 77/100\n",
      "20/20 - 3s - 160ms/step - loss: 0.0049 - val_loss: 0.0093\n",
      "Epoch 78/100\n",
      "20/20 - 3s - 160ms/step - loss: 0.0049 - val_loss: 0.0092\n",
      "Epoch 79/100\n",
      "20/20 - 3s - 160ms/step - loss: 0.0050 - val_loss: 0.0089\n",
      "Epoch 80/100\n",
      "20/20 - 3s - 159ms/step - loss: 0.0049 - val_loss: 0.0090\n",
      "Epoch 81/100\n",
      "20/20 - 3s - 160ms/step - loss: 0.0050 - val_loss: 0.0089\n",
      "Epoch 82/100\n",
      "20/20 - 3s - 162ms/step - loss: 0.0049 - val_loss: 0.0091\n",
      "Epoch 83/100\n",
      "20/20 - 3s - 159ms/step - loss: 0.0050 - val_loss: 0.0089\n",
      "Epoch 84/100\n",
      "20/20 - 3s - 161ms/step - loss: 0.0049 - val_loss: 0.0089\n",
      "Epoch 85/100\n",
      "20/20 - 3s - 158ms/step - loss: 0.0049 - val_loss: 0.0090\n",
      "Epoch 86/100\n",
      "20/20 - 3s - 161ms/step - loss: 0.0049 - val_loss: 0.0089\n",
      "Epoch 87/100\n",
      "20/20 - 3s - 159ms/step - loss: 0.0049 - val_loss: 0.0091\n",
      "Epoch 88/100\n",
      "20/20 - 3s - 160ms/step - loss: 0.0049 - val_loss: 0.0090\n",
      "Epoch 89/100\n",
      "20/20 - 3s - 160ms/step - loss: 0.0049 - val_loss: 0.0089\n",
      "Epoch 90/100\n",
      "20/20 - 3s - 160ms/step - loss: 0.0048 - val_loss: 0.0090\n",
      "Epoch 91/100\n",
      "20/20 - 3s - 160ms/step - loss: 0.0048 - val_loss: 0.0090\n",
      "Epoch 92/100\n",
      "20/20 - 3s - 160ms/step - loss: 0.0048 - val_loss: 0.0091\n",
      "Epoch 93/100\n",
      "20/20 - 3s - 158ms/step - loss: 0.0049 - val_loss: 0.0091\n",
      "Epoch 94/100\n",
      "20/20 - 3s - 159ms/step - loss: 0.0048 - val_loss: 0.0091\n",
      "Epoch 95/100\n",
      "20/20 - 3s - 159ms/step - loss: 0.0049 - val_loss: 0.0089\n",
      "Epoch 96/100\n",
      "20/20 - 3s - 161ms/step - loss: 0.0048 - val_loss: 0.0094\n",
      "Epoch 97/100\n",
      "20/20 - 3s - 159ms/step - loss: 0.0049 - val_loss: 0.0090\n",
      "Epoch 98/100\n",
      "20/20 - 3s - 161ms/step - loss: 0.0049 - val_loss: 0.0092\n",
      "Epoch 99/100\n",
      "20/20 - 3s - 159ms/step - loss: 0.0049 - val_loss: 0.0089\n",
      "Epoch 100/100\n",
      "20/20 - 3s - 158ms/step - loss: 0.0048 - val_loss: 0.0095\n"
     ]
    },
    {
     "data": {
      "text/plain": [
       "<keras.src.callbacks.history.History at 0x2399557b980>"
      ]
     },
     "execution_count": 131,
     "metadata": {},
     "output_type": "execute_result"
    }
   ],
   "source": [
    "hp_lr = 1e-4\n",
    "model.compile(\n",
    "    optimizer=tf.keras.optimizers.Adam(learning_rate=hp_lr), loss=\"mean_absolute_error\"\n",
    ")\n",
    "\n",
    "es = EarlyStopping(\n",
    "    monitor=\"val_loss\", mode=\"min\", verbose=0, patience=15, restore_best_weights=True\n",
    ")\n",
    "\n",
    "# fit the models\n",
    "model.fit(\n",
    "    X_train_scaled,\n",
    "    y_train_scaled,\n",
    "    validation_split=0.15,\n",
    "    epochs=100,\n",
    "    batch_size=64,\n",
    "    verbose=2,\n",
    "    callbacks=[es],\n",
    ")"
   ]
  },
  {
   "cell_type": "code",
   "execution_count": 132,
   "id": "2b9f3db3-78d1-406b-bf24-755a2120a007",
   "metadata": {},
   "outputs": [
    {
     "name": "stdout",
     "output_type": "stream",
     "text": [
      "\u001b[1m46/46\u001b[0m \u001b[32m━━━━━━━━━━━━━━━━━━━━\u001b[0m\u001b[37m\u001b[0m \u001b[1m3s\u001b[0m 51ms/step\n",
      "r2 score of the model on the in-sample set: 0.9984332975884997\n",
      "correlation between the predicted values and the actual in-sample data: [[1.         0.99922685]\n",
      " [0.99922685 1.        ]]\n"
     ]
    }
   ],
   "source": [
    "train_pred = model.predict(X_train_scaled)\n",
    "print(\"r2 score of the model on the in-sample set:\", r2_score(y_train_scaled, train_pred))\n",
    "print(\"correlation between the predicted values and the actual in-sample data:\", np.corrcoef(y_train_scaled, train_pred.flatten()))"
   ]
  },
  {
   "cell_type": "code",
   "execution_count": 133,
   "id": "0b5c8642-32e2-4382-ac99-c0e305045b4c",
   "metadata": {
    "scrolled": true
   },
   "outputs": [
    {
     "name": "stdout",
     "output_type": "stream",
     "text": [
      "\u001b[1m15/15\u001b[0m \u001b[32m━━━━━━━━━━━━━━━━━━━━\u001b[0m\u001b[37m\u001b[0m \u001b[1m1s\u001b[0m 36ms/step\n",
      "r2 score of the model on the out-of-sample test set: 0.9867363608963465\n",
      "correlation between the predicted values and the actual in-sample data: [[1.         0.99458651]\n",
      " [0.99458651 1.        ]]\n"
     ]
    }
   ],
   "source": [
    "y_pred = model.predict(X_test_scaled)\n",
    "print(\"r2 score of the model on the out-of-sample test set:\", r2_score(y_test_scaled, y_pred))\n",
    "print(\"correlation between the predicted values and the actual in-sample data:\", np.corrcoef(y_test_scaled, y_pred.flatten()))"
   ]
  },
  {
   "cell_type": "code",
   "execution_count": 134,
   "id": "67807bf4-8bdf-47af-b023-d50017c1d37e",
   "metadata": {},
   "outputs": [],
   "source": [
    "y_test_og_scale = scaler.inverse_transform(y_test_scaled.reshape(-1, 1))\n",
    "y_pred_og_scale = scaler.inverse_transform(y_pred.reshape(-1, 1))"
   ]
  },
  {
   "cell_type": "markdown",
   "id": "46e70966-c76a-4429-989a-cf2b676b6079",
   "metadata": {},
   "source": [
    "Here, I get an r2 score of 0.99 on the test set. Again, data leakage exists here."
   ]
  },
  {
   "cell_type": "code",
   "execution_count": 137,
   "id": "cec62182-cc91-42fe-b8f9-298a79d8ec0a",
   "metadata": {},
   "outputs": [
    {
     "data": {
      "text/plain": [
       "Text(0.5, 1.0, 'LSTM Model with Leakage - Titan Price Predictions')"
      ]
     },
     "execution_count": 137,
     "metadata": {},
     "output_type": "execute_result"
    },
    {
     "data": {
      "image/png": "[encoded data removed]",
      "text/plain": [
       "<Figure size 640x480 with 1 Axes>"
      ]
     },
     "metadata": {},
     "output_type": "display_data"
    }
   ],
   "source": [
    "plt.plot(y_test_og_scale, label=\"Actual Prices\")\n",
    "plt.plot(y_pred_og_scale,label=\"Predicted Prices\")\n",
    "plt.legend()\n",
    "plt.grid()\n",
    "plt.xlabel(\"Test Time Period (Number of Days)\")\n",
    "plt.title(\"LSTM Model with Leakage - Titan Price Predictions\")"
   ]
  },
  {
   "cell_type": "markdown",
   "id": "613190cd-6354-4121-a636-db2dd53f3284",
   "metadata": {},
   "source": [
    "## Step 2"
   ]
  },
  {
   "cell_type": "markdown",
   "id": "9472d259-8b61-4700-b5c1-0587ca1a69f8",
   "metadata": {},
   "source": [
    "## a. Now, I train my models models using a (non-anchored) walk forward method that exploits a train/test split with 500 observations in each set."
   ]
  },
  {
   "cell_type": "code",
   "execution_count": 87,
   "id": "9f5ec7d0-53df-44dd-9288-edcb991135e0",
   "metadata": {},
   "outputs": [
    {
     "data": {
      "text/plain": [
       "array([[0.        ],\n",
       "       [0.00385412],\n",
       "       [0.00697543],\n",
       "       ...,\n",
       "       [0.84973742],\n",
       "       [0.84581803],\n",
       "       [0.83114524]])"
      ]
     },
     "execution_count": 87,
     "metadata": {},
     "output_type": "execute_result"
    }
   ],
   "source": [
    "stock_prices_scaled"
   ]
  },
  {
   "cell_type": "markdown",
   "id": "2eb7f5a7-6b44-48a2-81da-ceb683cd4710",
   "metadata": {},
   "source": [
    "let us build features out of this data for our models."
   ]
  },
  {
   "cell_type": "code",
   "execution_count": 89,
   "id": "c8203794-7ad4-40cf-9e6b-879949f1941c",
   "metadata": {},
   "outputs": [],
   "source": [
    "prices_scaled = pd.DataFrame(stock_prices_scaled)\n",
    "prices_scaled.columns = [['Close']]"
   ]
  },
  {
   "cell_type": "code",
   "execution_count": 90,
   "id": "a27bc35b-d383-4daf-8bf6-68715a7a1aea",
   "metadata": {},
   "outputs": [],
   "source": [
    "prices_scaled[\"1d_lag\"] = prices_scaled[\"Close\"].shift(1)\n",
    "prices_scaled[\"2d_mva\"] = prices_scaled[\"Close\"].rolling(2).mean()\n",
    "prices_scaled[\"5d_mva\"] = prices_scaled[\"Close\"].rolling(5).mean()\n",
    "prices_scaled[\"7d_mva\"] = prices_scaled[\"Close\"].rolling(7).mean()\n",
    "prices_scaled[\"10d_mva\"] = prices_scaled[\"Close\"].rolling(10).mean()\n",
    "prices_scaled[\"20d_mva\"] = prices_scaled[\"Close\"].rolling(10).mean()\n",
    "prices_scaled[\"Target\"] = prices_scaled[\"Close\"].shift(-1)\n",
    "prices_scaled.index = stock_data.index"
   ]
  },
  {
   "cell_type": "code",
   "execution_count": 91,
   "id": "c73ce6cc-2aa0-4331-b05a-dc208d00420c",
   "metadata": {},
   "outputs": [],
   "source": [
    "prices_scaled.dropna(inplace=True)"
   ]
  },
  {
   "cell_type": "code",
   "execution_count": 92,
   "id": "a9826ab7-46fa-42d2-97da-16df877b52c0",
   "metadata": {},
   "outputs": [],
   "source": [
    "X_scaled = prices_scaled[['Close', '1d_lag', '2d_mva','5d_mva', '7d_mva', '10d_mva', '20d_mva']]\n",
    "y_scaled = prices_scaled[['Target']]"
   ]
  },
  {
   "cell_type": "code",
   "execution_count": 93,
   "id": "5fa2e5e9-fd17-4de7-9bdc-5c467d7afa66",
   "metadata": {},
   "outputs": [
    {
     "data": {
      "text/html": [
       "<div>\n",
       "<style scoped>\n",
       "    .dataframe tbody tr th:only-of-type {\n",
       "        vertical-align: middle;\n",
       "    }\n",
       "\n",
       "    .dataframe tbody tr th {\n",
       "        vertical-align: top;\n",
       "    }\n",
       "\n",
       "    .dataframe thead tr th {\n",
       "        text-align: left;\n",
       "    }\n",
       "\n",
       "    .dataframe thead tr:last-of-type th {\n",
       "        text-align: right;\n",
       "    }\n",
       "</style>\n",
       "<table border=\"1\" class=\"dataframe\">\n",
       "  <thead>\n",
       "    <tr>\n",
       "      <th></th>\n",
       "      <th>Target</th>\n",
       "    </tr>\n",
       "    <tr>\n",
       "      <th>Date</th>\n",
       "      <th></th>\n",
       "    </tr>\n",
       "  </thead>\n",
       "  <tbody>\n",
       "    <tr>\n",
       "      <th>2017-01-13 00:00:00+05:30</th>\n",
       "      <td>0.007844</td>\n",
       "    </tr>\n",
       "    <tr>\n",
       "      <th>2017-01-16 00:00:00+05:30</th>\n",
       "      <td>0.007057</td>\n",
       "    </tr>\n",
       "    <tr>\n",
       "      <th>2017-01-17 00:00:00+05:30</th>\n",
       "      <td>0.008970</td>\n",
       "    </tr>\n",
       "    <tr>\n",
       "      <th>2017-01-18 00:00:00+05:30</th>\n",
       "      <td>0.010517</td>\n",
       "    </tr>\n",
       "    <tr>\n",
       "      <th>2017-01-19 00:00:00+05:30</th>\n",
       "      <td>0.007260</td>\n",
       "    </tr>\n",
       "    <tr>\n",
       "      <th>...</th>\n",
       "      <td>...</td>\n",
       "    </tr>\n",
       "    <tr>\n",
       "      <th>2024-12-20 00:00:00+05:30</th>\n",
       "      <td>0.870650</td>\n",
       "    </tr>\n",
       "    <tr>\n",
       "      <th>2024-12-23 00:00:00+05:30</th>\n",
       "      <td>0.858326</td>\n",
       "    </tr>\n",
       "    <tr>\n",
       "      <th>2024-12-24 00:00:00+05:30</th>\n",
       "      <td>0.849737</td>\n",
       "    </tr>\n",
       "    <tr>\n",
       "      <th>2024-12-26 00:00:00+05:30</th>\n",
       "      <td>0.845818</td>\n",
       "    </tr>\n",
       "    <tr>\n",
       "      <th>2024-12-27 00:00:00+05:30</th>\n",
       "      <td>0.831145</td>\n",
       "    </tr>\n",
       "  </tbody>\n",
       "</table>\n",
       "<p>1964 rows × 1 columns</p>\n",
       "</div>"
      ],
      "text/plain": [
       "                             Target\n",
       "Date                               \n",
       "2017-01-13 00:00:00+05:30  0.007844\n",
       "2017-01-16 00:00:00+05:30  0.007057\n",
       "2017-01-17 00:00:00+05:30  0.008970\n",
       "2017-01-18 00:00:00+05:30  0.010517\n",
       "2017-01-19 00:00:00+05:30  0.007260\n",
       "...                             ...\n",
       "2024-12-20 00:00:00+05:30  0.870650\n",
       "2024-12-23 00:00:00+05:30  0.858326\n",
       "2024-12-24 00:00:00+05:30  0.849737\n",
       "2024-12-26 00:00:00+05:30  0.845818\n",
       "2024-12-27 00:00:00+05:30  0.831145\n",
       "\n",
       "[1964 rows x 1 columns]"
      ]
     },
     "execution_count": 93,
     "metadata": {},
     "output_type": "execute_result"
    }
   ],
   "source": [
    "y_scaled"
   ]
  },
  {
   "cell_type": "code",
   "execution_count": 94,
   "id": "23e9b1a1-35d0-4f3a-b753-2a8d7abce5cf",
   "metadata": {},
   "outputs": [],
   "source": [
    "dates = X_scaled.index"
   ]
  },
  {
   "cell_type": "code",
   "execution_count": 95,
   "id": "8e87133a-595f-4932-965b-232452594390",
   "metadata": {},
   "outputs": [],
   "source": [
    "df_predictions = pd.DataFrame(columns = [\"Actual Prices\", \"Predicted Prices\"])"
   ]
  },
  {
   "cell_type": "code",
   "execution_count": 96,
   "id": "edaef2f6-5e21-4573-9106-ab74539d44a3",
   "metadata": {},
   "outputs": [
    {
     "data": {
      "text/html": [
       "<div>\n",
       "<style scoped>\n",
       "    .dataframe tbody tr th:only-of-type {\n",
       "        vertical-align: middle;\n",
       "    }\n",
       "\n",
       "    .dataframe tbody tr th {\n",
       "        vertical-align: top;\n",
       "    }\n",
       "\n",
       "    .dataframe thead th {\n",
       "        text-align: right;\n",
       "    }\n",
       "</style>\n",
       "<table border=\"1\" class=\"dataframe\">\n",
       "  <thead>\n",
       "    <tr style=\"text-align: right;\">\n",
       "      <th></th>\n",
       "      <th>Actual Prices</th>\n",
       "      <th>Predicted Prices</th>\n",
       "    </tr>\n",
       "  </thead>\n",
       "  <tbody>\n",
       "  </tbody>\n",
       "</table>\n",
       "</div>"
      ],
      "text/plain": [
       "Empty DataFrame\n",
       "Columns: [Actual Prices, Predicted Prices]\n",
       "Index: []"
      ]
     },
     "execution_count": 96,
     "metadata": {},
     "output_type": "execute_result"
    }
   ],
   "source": [
    "df_predictions"
   ]
  },
  {
   "cell_type": "code",
   "execution_count": 97,
   "id": "fb6a0ec9-dc98-4b86-95d3-3ba2ae379f99",
   "metadata": {},
   "outputs": [
    {
     "name": "stderr",
     "output_type": "stream",
     "text": [
      "C:\\Users\\susha\\anaconda3\\Lib\\site-packages\\keras\\src\\layers\\core\\dense.py:87: UserWarning: Do not pass an `input_shape`/`input_dim` argument to a layer. When using Sequential models, prefer using an `Input(shape)` object as the first layer in the model instead.\n",
      "  super().__init__(activity_regularizer=activity_regularizer, **kwargs)\n"
     ]
    },
    {
     "name": "stdout",
     "output_type": "stream",
     "text": [
      "Restoring model weights from the end of the best epoch: 100.\n",
      "\u001b[1m16/16\u001b[0m \u001b[32m━━━━━━━━━━━━━━━━━━━━\u001b[0m\u001b[37m\u001b[0m \u001b[1m0s\u001b[0m 9ms/step\n",
      "-0.29091842407628277\n"
     ]
    },
    {
     "name": "stderr",
     "output_type": "stream",
     "text": [
      "C:\\Users\\susha\\anaconda3\\Lib\\site-packages\\keras\\src\\layers\\core\\dense.py:87: UserWarning: Do not pass an `input_shape`/`input_dim` argument to a layer. When using Sequential models, prefer using an `Input(shape)` object as the first layer in the model instead.\n",
      "  super().__init__(activity_regularizer=activity_regularizer, **kwargs)\n"
     ]
    },
    {
     "name": "stdout",
     "output_type": "stream",
     "text": [
      "Restoring model weights from the end of the best epoch: 100.\n",
      "\u001b[1m16/16\u001b[0m \u001b[32m━━━━━━━━━━━━━━━━━━━━\u001b[0m\u001b[37m\u001b[0m \u001b[1m0s\u001b[0m 10ms/step\n",
      "-0.36884107875229977\n"
     ]
    },
    {
     "name": "stderr",
     "output_type": "stream",
     "text": [
      "C:\\Users\\susha\\anaconda3\\Lib\\site-packages\\keras\\src\\layers\\core\\dense.py:87: UserWarning: Do not pass an `input_shape`/`input_dim` argument to a layer. When using Sequential models, prefer using an `Input(shape)` object as the first layer in the model instead.\n",
      "  super().__init__(activity_regularizer=activity_regularizer, **kwargs)\n"
     ]
    },
    {
     "name": "stdout",
     "output_type": "stream",
     "text": [
      "Restoring model weights from the end of the best epoch: 100.\n",
      "\u001b[1m15/15\u001b[0m \u001b[32m━━━━━━━━━━━━━━━━━━━━\u001b[0m\u001b[37m\u001b[0m \u001b[1m0s\u001b[0m 8ms/step\n",
      "0.5783177290462644\n"
     ]
    }
   ],
   "source": [
    "for i in range(0, X_scaled.shape[0] - 500, 500):\n",
    "    X_train_scaled = X_scaled.iloc[i: i + 500]\n",
    "    X_test_scaled = X_scaled.iloc[i + 500: i + 1000]\n",
    "    y_train_scaled = y_scaled.iloc[i: i + 500]\n",
    "    y_test_scaled = y_scaled.iloc[i + 500: i + 1000]\n",
    "\n",
    "    tf.keras.backend.clear_session()\n",
    "    tf.random.set_seed(42)\n",
    "\n",
    "    model = tf.keras.models.Sequential()\n",
    "    model.add(tf.keras.layers.Dense(units=hp_units_1, activation=act_fun, input_shape=(7,)))\n",
    "    #model.add(tf.keras.layers.Dropout(n_dropout))\n",
    "    model.add(tf.keras.layers.Dense(units=hp_units_2, activation=act_fun))\n",
    "    #model.add(tf.keras.layers.Dropout(n_dropout))\n",
    "    model.add(tf.keras.layers.Dense(units=hp_units_3, activation=act_fun))\n",
    "    #model.add(tf.keras.layers.Dropout(n_dropout)\n",
    "    model.add(tf.keras.layers.Dense(units=hp_units_4, activation=act_fun))\n",
    "    model.add(tf.keras.layers.Dense(units=1)) #activation function\n",
    "\n",
    "    hp_lr = 1e-4  # Learning rate\n",
    "    adam = tf.keras.optimizers.Adam(learning_rate=hp_lr)  # Adam optimizer\n",
    "    model.compile(optimizer=adam, loss=\"mse\", metrics=[\"mae\"])\n",
    "\n",
    "    es = tf.keras.callbacks.EarlyStopping(\n",
    "    monitor=\"val_loss\",\n",
    "    mode=\"min\",\n",
    "    verbose=1,\n",
    "    patience=20,\n",
    "    restore_best_weights=True,)\n",
    "\n",
    "    history = model.fit(\n",
    "    X_train_scaled,\n",
    "    y_train_scaled,\n",
    "    validation_split=0.2,\n",
    "    epochs=100,\n",
    "    batch_size=32,\n",
    "    verbose=0,\n",
    "    callbacks = [es],\n",
    "    )\n",
    "\n",
    "    y_pred_scaled = model.predict(X_test_scaled)\n",
    "    print(r2_score(y_pred_scaled, y_test_scaled[\"Target\"].values))"
   ]
  },
  {
   "cell_type": "code",
   "execution_count": 169,
   "id": "1a8dd64b-a882-4c95-b0bb-5ed965536e7d",
   "metadata": {},
   "outputs": [
    {
     "data": {
      "text/plain": [
       "[<matplotlib.lines.Line2D at 0x2221a7a5520>]"
      ]
     },
     "execution_count": 169,
     "metadata": {},
     "output_type": "execute_result"
    },
    {
     "data": {
      "image/png": "[encoded data removed]",
      "text/plain": [
       "<Figure size 640x480 with 1 Axes>"
      ]
     },
     "metadata": {},
     "output_type": "display_data"
    }
   ],
   "source": [
    "plt.plot(y_pred_scaled)\n",
    "plt.plot(y_test_scaled.values)"
   ]
  },
  {
   "cell_type": "markdown",
   "id": "910be3bb-1720-4ab1-9e19-d69e5f2d78da",
   "metadata": {},
   "source": [
    "Now, let us build the LSTM model and backtest it using the same walk-forward technique."
   ]
  },
  {
   "cell_type": "code",
   "execution_count": 174,
   "id": "0bb68d00-190d-4433-bb7b-e39a8ccc0324",
   "metadata": {},
   "outputs": [
    {
     "name": "stderr",
     "output_type": "stream",
     "text": [
      "C:\\Users\\susha\\anaconda3\\Lib\\site-packages\\keras\\src\\layers\\rnn\\rnn.py:200: UserWarning: Do not pass an `input_shape`/`input_dim` argument to a layer. When using Sequential models, prefer using an `Input(shape)` object as the first layer in the model instead.\n",
      "  super().__init__(**kwargs)\n"
     ]
    },
    {
     "name": "stdout",
     "output_type": "stream",
     "text": [
      "\u001b[1m16/16\u001b[0m \u001b[32m━━━━━━━━━━━━━━━━━━━━\u001b[0m\u001b[37m\u001b[0m \u001b[1m2s\u001b[0m 78ms/step\n",
      "0.9581528317576196\n"
     ]
    },
    {
     "name": "stderr",
     "output_type": "stream",
     "text": [
      "C:\\Users\\susha\\anaconda3\\Lib\\site-packages\\keras\\src\\layers\\rnn\\rnn.py:200: UserWarning: Do not pass an `input_shape`/`input_dim` argument to a layer. When using Sequential models, prefer using an `Input(shape)` object as the first layer in the model instead.\n",
      "  super().__init__(**kwargs)\n"
     ]
    },
    {
     "name": "stdout",
     "output_type": "stream",
     "text": [
      "\u001b[1m16/16\u001b[0m \u001b[32m━━━━━━━━━━━━━━━━━━━━\u001b[0m\u001b[37m\u001b[0m \u001b[1m2s\u001b[0m 61ms/step\n",
      "-72.00924482500972\n"
     ]
    },
    {
     "name": "stderr",
     "output_type": "stream",
     "text": [
      "C:\\Users\\susha\\anaconda3\\Lib\\site-packages\\keras\\src\\layers\\rnn\\rnn.py:200: UserWarning: Do not pass an `input_shape`/`input_dim` argument to a layer. When using Sequential models, prefer using an `Input(shape)` object as the first layer in the model instead.\n",
      "  super().__init__(**kwargs)\n"
     ]
    },
    {
     "name": "stdout",
     "output_type": "stream",
     "text": [
      "\u001b[1m15/15\u001b[0m \u001b[32m━━━━━━━━━━━━━━━━━━━━\u001b[0m\u001b[37m\u001b[0m \u001b[1m2s\u001b[0m 67ms/step\n",
      "0.9229327773464142\n"
     ]
    }
   ],
   "source": [
    "for i in range(0, X_scaled.shape[0] - 500, 500):\n",
    "    X_train_scaled = X_scaled.iloc[i: i + 500]\n",
    "    X_test_scaled = X_scaled.iloc[i + 500: i + 1000]\n",
    "    y_train_scaled = y_scaled.iloc[i: i + 500]\n",
    "    y_test_scaled = y_scaled.iloc[i + 500: i + 1000]\n",
    "\n",
    "    tf.keras.backend.clear_session()\n",
    "    tf.random.set_seed(42)\n",
    "\n",
    "    model = Sequential()\n",
    "    model.add(\n",
    "    LSTM(\n",
    "        units=128,\n",
    "        return_sequences=True,\n",
    "        activation=\"relu\",\n",
    "        input_shape=(X_train_scaled.shape[1], 1),\n",
    "    ))\n",
    "\n",
    "    model.add(LSTM(units=256, return_sequences=True, activation=\"tanh\"))\n",
    "    model.add(Dropout(n_dropout, seed=seed))\n",
    "    model.add(LSTM(units=128, return_sequences=True, activation=\"tanh\"))\n",
    "    model.add(Dropout(n_dropout, seed=seed))\n",
    "    model.add(LSTM(units=64, return_sequences=False, activation=\"tanh\"))\n",
    "    model.add(Dropout(n_dropout, seed=seed))\n",
    "    model.add(Dense(64))\n",
    "    model.add(Dense(1))\n",
    "\n",
    "    hp_lr = 1e-4\n",
    "    model.compile(\n",
    "        optimizer=tf.keras.optimizers.Adam(learning_rate=hp_lr), loss=\"mean_absolute_error\"\n",
    "    )\n",
    "    \n",
    "    es = EarlyStopping(\n",
    "        monitor=\"val_loss\", mode=\"min\", verbose=0, patience=15, restore_best_weights=True\n",
    "    )\n",
    "    \n",
    "    # fit the models\n",
    "    model.fit(\n",
    "        X_train_scaled,\n",
    "        y_train_scaled,\n",
    "        validation_split=0.15,\n",
    "        epochs=100,\n",
    "        batch_size=64,\n",
    "        verbose=0,\n",
    "        callbacks=[es],\n",
    "    )\n",
    "\n",
    "    y_pred_scaled = model.predict(X_test_scaled)\n",
    "    print(r2_score(y_pred_scaled, y_test_scaled[\"Target\"].values))"
   ]
  },
  {
   "cell_type": "markdown",
   "id": "72da4283-07ea-4868-9226-b678bd011586",
   "metadata": {},
   "source": [
    "## b. Now, I train my models models using a (non-anchored) walk forward method that exploits a train/test split with 100 observations in each set."
   ]
  },
  {
   "cell_type": "code",
   "execution_count": 182,
   "id": "08156d7a-31b8-4193-8568-2bf9d4baffbc",
   "metadata": {},
   "outputs": [
    {
     "name": "stderr",
     "output_type": "stream",
     "text": [
      "C:\\Users\\susha\\anaconda3\\Lib\\site-packages\\keras\\src\\layers\\core\\dense.py:87: UserWarning: Do not pass an `input_shape`/`input_dim` argument to a layer. When using Sequential models, prefer using an `Input(shape)` object as the first layer in the model instead.\n",
      "  super().__init__(activity_regularizer=activity_regularizer, **kwargs)\n"
     ]
    },
    {
     "name": "stdout",
     "output_type": "stream",
     "text": [
      "Restoring model weights from the end of the best epoch: 100.\n",
      "\u001b[1m4/4\u001b[0m \u001b[32m━━━━━━━━━━━━━━━━━━━━\u001b[0m\u001b[37m\u001b[0m \u001b[1m0s\u001b[0m 38ms/step\n",
      "0.49271124445105374\n"
     ]
    },
    {
     "name": "stderr",
     "output_type": "stream",
     "text": [
      "C:\\Users\\susha\\anaconda3\\Lib\\site-packages\\keras\\src\\layers\\core\\dense.py:87: UserWarning: Do not pass an `input_shape`/`input_dim` argument to a layer. When using Sequential models, prefer using an `Input(shape)` object as the first layer in the model instead.\n",
      "  super().__init__(activity_regularizer=activity_regularizer, **kwargs)\n"
     ]
    },
    {
     "name": "stdout",
     "output_type": "stream",
     "text": [
      "Restoring model weights from the end of the best epoch: 100.\n",
      "WARNING:tensorflow:5 out of the last 20 calls to <function TensorFlowTrainer.make_predict_function.<locals>.one_step_on_data_distributed at 0x0000022219DCC360> triggered tf.function retracing. Tracing is expensive and the excessive number of tracings could be due to (1) creating @tf.function repeatedly in a loop, (2) passing tensors with different shapes, (3) passing Python objects instead of tensors. For (1), please define your @tf.function outside of the loop. For (2), @tf.function has reduce_retracing=True option that can avoid unnecessary retracing. For (3), please refer to https://www.tensorflow.org/guide/function#controlling_retracing and https://www.tensorflow.org/api_docs/python/tf/function for  more details.\n",
      "\u001b[1m1/4\u001b[0m \u001b[32m━━━━━\u001b[0m\u001b[37m━━━━━━━━━━━━━━━\u001b[0m \u001b[1m0s\u001b[0m 108ms/stepWARNING:tensorflow:6 out of the last 23 calls to <function TensorFlowTrainer.make_predict_function.<locals>.one_step_on_data_distributed at 0x0000022219DCC360> triggered tf.function retracing. Tracing is expensive and the excessive number of tracings could be due to (1) creating @tf.function repeatedly in a loop, (2) passing tensors with different shapes, (3) passing Python objects instead of tensors. For (1), please define your @tf.function outside of the loop. For (2), @tf.function has reduce_retracing=True option that can avoid unnecessary retracing. For (3), please refer to https://www.tensorflow.org/guide/function#controlling_retracing and https://www.tensorflow.org/api_docs/python/tf/function for  more details.\n",
      "\u001b[1m4/4\u001b[0m \u001b[32m━━━━━━━━━━━━━━━━━━━━\u001b[0m\u001b[37m\u001b[0m \u001b[1m0s\u001b[0m 42ms/step\n",
      "-3.11682763523293\n"
     ]
    },
    {
     "name": "stderr",
     "output_type": "stream",
     "text": [
      "C:\\Users\\susha\\anaconda3\\Lib\\site-packages\\keras\\src\\layers\\core\\dense.py:87: UserWarning: Do not pass an `input_shape`/`input_dim` argument to a layer. When using Sequential models, prefer using an `Input(shape)` object as the first layer in the model instead.\n",
      "  super().__init__(activity_regularizer=activity_regularizer, **kwargs)\n"
     ]
    },
    {
     "name": "stdout",
     "output_type": "stream",
     "text": [
      "Restoring model weights from the end of the best epoch: 100.\n",
      "\u001b[1m4/4\u001b[0m \u001b[32m━━━━━━━━━━━━━━━━━━━━\u001b[0m\u001b[37m\u001b[0m \u001b[1m0s\u001b[0m 36ms/step\n",
      "0.8944733669337521\n"
     ]
    },
    {
     "name": "stderr",
     "output_type": "stream",
     "text": [
      "C:\\Users\\susha\\anaconda3\\Lib\\site-packages\\keras\\src\\layers\\core\\dense.py:87: UserWarning: Do not pass an `input_shape`/`input_dim` argument to a layer. When using Sequential models, prefer using an `Input(shape)` object as the first layer in the model instead.\n",
      "  super().__init__(activity_regularizer=activity_regularizer, **kwargs)\n"
     ]
    },
    {
     "name": "stdout",
     "output_type": "stream",
     "text": [
      "Restoring model weights from the end of the best epoch: 100.\n",
      "\u001b[1m4/4\u001b[0m \u001b[32m━━━━━━━━━━━━━━━━━━━━\u001b[0m\u001b[37m\u001b[0m \u001b[1m0s\u001b[0m 47ms/step\n",
      "0.6985011378043359\n"
     ]
    },
    {
     "name": "stderr",
     "output_type": "stream",
     "text": [
      "C:\\Users\\susha\\anaconda3\\Lib\\site-packages\\keras\\src\\layers\\core\\dense.py:87: UserWarning: Do not pass an `input_shape`/`input_dim` argument to a layer. When using Sequential models, prefer using an `Input(shape)` object as the first layer in the model instead.\n",
      "  super().__init__(activity_regularizer=activity_regularizer, **kwargs)\n"
     ]
    },
    {
     "name": "stdout",
     "output_type": "stream",
     "text": [
      "Restoring model weights from the end of the best epoch: 99.\n",
      "\u001b[1m4/4\u001b[0m \u001b[32m━━━━━━━━━━━━━━━━━━━━\u001b[0m\u001b[37m\u001b[0m \u001b[1m0s\u001b[0m 33ms/step\n",
      "0.9274589985585011\n"
     ]
    },
    {
     "name": "stderr",
     "output_type": "stream",
     "text": [
      "C:\\Users\\susha\\anaconda3\\Lib\\site-packages\\keras\\src\\layers\\core\\dense.py:87: UserWarning: Do not pass an `input_shape`/`input_dim` argument to a layer. When using Sequential models, prefer using an `Input(shape)` object as the first layer in the model instead.\n",
      "  super().__init__(activity_regularizer=activity_regularizer, **kwargs)\n"
     ]
    },
    {
     "name": "stdout",
     "output_type": "stream",
     "text": [
      "Restoring model weights from the end of the best epoch: 100.\n",
      "\u001b[1m4/4\u001b[0m \u001b[32m━━━━━━━━━━━━━━━━━━━━\u001b[0m\u001b[37m\u001b[0m \u001b[1m0s\u001b[0m 33ms/step\n",
      "-1.296872357345077\n"
     ]
    },
    {
     "name": "stderr",
     "output_type": "stream",
     "text": [
      "C:\\Users\\susha\\anaconda3\\Lib\\site-packages\\keras\\src\\layers\\core\\dense.py:87: UserWarning: Do not pass an `input_shape`/`input_dim` argument to a layer. When using Sequential models, prefer using an `Input(shape)` object as the first layer in the model instead.\n",
      "  super().__init__(activity_regularizer=activity_regularizer, **kwargs)\n"
     ]
    },
    {
     "name": "stdout",
     "output_type": "stream",
     "text": [
      "Restoring model weights from the end of the best epoch: 100.\n",
      "\u001b[1m4/4\u001b[0m \u001b[32m━━━━━━━━━━━━━━━━━━━━\u001b[0m\u001b[37m\u001b[0m \u001b[1m0s\u001b[0m 36ms/step\n",
      "0.6124206437039031\n"
     ]
    },
    {
     "name": "stderr",
     "output_type": "stream",
     "text": [
      "C:\\Users\\susha\\anaconda3\\Lib\\site-packages\\keras\\src\\layers\\core\\dense.py:87: UserWarning: Do not pass an `input_shape`/`input_dim` argument to a layer. When using Sequential models, prefer using an `Input(shape)` object as the first layer in the model instead.\n",
      "  super().__init__(activity_regularizer=activity_regularizer, **kwargs)\n"
     ]
    },
    {
     "name": "stdout",
     "output_type": "stream",
     "text": [
      "Restoring model weights from the end of the best epoch: 100.\n",
      "\u001b[1m4/4\u001b[0m \u001b[32m━━━━━━━━━━━━━━━━━━━━\u001b[0m\u001b[37m\u001b[0m \u001b[1m0s\u001b[0m 37ms/step\n",
      "-15.902928425623088\n"
     ]
    },
    {
     "name": "stderr",
     "output_type": "stream",
     "text": [
      "C:\\Users\\susha\\anaconda3\\Lib\\site-packages\\keras\\src\\layers\\core\\dense.py:87: UserWarning: Do not pass an `input_shape`/`input_dim` argument to a layer. When using Sequential models, prefer using an `Input(shape)` object as the first layer in the model instead.\n",
      "  super().__init__(activity_regularizer=activity_regularizer, **kwargs)\n"
     ]
    },
    {
     "name": "stdout",
     "output_type": "stream",
     "text": [
      "Restoring model weights from the end of the best epoch: 100.\n",
      "\u001b[1m4/4\u001b[0m \u001b[32m━━━━━━━━━━━━━━━━━━━━\u001b[0m\u001b[37m\u001b[0m \u001b[1m0s\u001b[0m 33ms/step\n",
      "0.8745106128342877\n"
     ]
    },
    {
     "name": "stderr",
     "output_type": "stream",
     "text": [
      "C:\\Users\\susha\\anaconda3\\Lib\\site-packages\\keras\\src\\layers\\core\\dense.py:87: UserWarning: Do not pass an `input_shape`/`input_dim` argument to a layer. When using Sequential models, prefer using an `Input(shape)` object as the first layer in the model instead.\n",
      "  super().__init__(activity_regularizer=activity_regularizer, **kwargs)\n"
     ]
    },
    {
     "name": "stdout",
     "output_type": "stream",
     "text": [
      "Restoring model weights from the end of the best epoch: 100.\n",
      "\u001b[1m4/4\u001b[0m \u001b[32m━━━━━━━━━━━━━━━━━━━━\u001b[0m\u001b[37m\u001b[0m \u001b[1m0s\u001b[0m 36ms/step\n",
      "0.7976807149046056\n"
     ]
    },
    {
     "name": "stderr",
     "output_type": "stream",
     "text": [
      "C:\\Users\\susha\\anaconda3\\Lib\\site-packages\\keras\\src\\layers\\core\\dense.py:87: UserWarning: Do not pass an `input_shape`/`input_dim` argument to a layer. When using Sequential models, prefer using an `Input(shape)` object as the first layer in the model instead.\n",
      "  super().__init__(activity_regularizer=activity_regularizer, **kwargs)\n"
     ]
    },
    {
     "name": "stdout",
     "output_type": "stream",
     "text": [
      "Restoring model weights from the end of the best epoch: 100.\n",
      "\u001b[1m4/4\u001b[0m \u001b[32m━━━━━━━━━━━━━━━━━━━━\u001b[0m\u001b[37m\u001b[0m \u001b[1m0s\u001b[0m 33ms/step\n",
      "0.7264286213719133\n"
     ]
    },
    {
     "name": "stderr",
     "output_type": "stream",
     "text": [
      "C:\\Users\\susha\\anaconda3\\Lib\\site-packages\\keras\\src\\layers\\core\\dense.py:87: UserWarning: Do not pass an `input_shape`/`input_dim` argument to a layer. When using Sequential models, prefer using an `Input(shape)` object as the first layer in the model instead.\n",
      "  super().__init__(activity_regularizer=activity_regularizer, **kwargs)\n"
     ]
    },
    {
     "name": "stdout",
     "output_type": "stream",
     "text": [
      "Restoring model weights from the end of the best epoch: 100.\n",
      "\u001b[1m4/4\u001b[0m \u001b[32m━━━━━━━━━━━━━━━━━━━━\u001b[0m\u001b[37m\u001b[0m \u001b[1m0s\u001b[0m 36ms/step\n",
      "-2.805785216852384\n"
     ]
    },
    {
     "name": "stderr",
     "output_type": "stream",
     "text": [
      "C:\\Users\\susha\\anaconda3\\Lib\\site-packages\\keras\\src\\layers\\core\\dense.py:87: UserWarning: Do not pass an `input_shape`/`input_dim` argument to a layer. When using Sequential models, prefer using an `Input(shape)` object as the first layer in the model instead.\n",
      "  super().__init__(activity_regularizer=activity_regularizer, **kwargs)\n"
     ]
    },
    {
     "name": "stdout",
     "output_type": "stream",
     "text": [
      "Restoring model weights from the end of the best epoch: 100.\n",
      "\u001b[1m4/4\u001b[0m \u001b[32m━━━━━━━━━━━━━━━━━━━━\u001b[0m\u001b[37m\u001b[0m \u001b[1m0s\u001b[0m 38ms/step\n",
      "-5.187641701370162\n"
     ]
    },
    {
     "name": "stderr",
     "output_type": "stream",
     "text": [
      "C:\\Users\\susha\\anaconda3\\Lib\\site-packages\\keras\\src\\layers\\core\\dense.py:87: UserWarning: Do not pass an `input_shape`/`input_dim` argument to a layer. When using Sequential models, prefer using an `Input(shape)` object as the first layer in the model instead.\n",
      "  super().__init__(activity_regularizer=activity_regularizer, **kwargs)\n"
     ]
    },
    {
     "name": "stdout",
     "output_type": "stream",
     "text": [
      "Restoring model weights from the end of the best epoch: 100.\n",
      "\u001b[1m4/4\u001b[0m \u001b[32m━━━━━━━━━━━━━━━━━━━━\u001b[0m\u001b[37m\u001b[0m \u001b[1m0s\u001b[0m 45ms/step\n",
      "0.5557831860841027\n"
     ]
    },
    {
     "name": "stderr",
     "output_type": "stream",
     "text": [
      "C:\\Users\\susha\\anaconda3\\Lib\\site-packages\\keras\\src\\layers\\core\\dense.py:87: UserWarning: Do not pass an `input_shape`/`input_dim` argument to a layer. When using Sequential models, prefer using an `Input(shape)` object as the first layer in the model instead.\n",
      "  super().__init__(activity_regularizer=activity_regularizer, **kwargs)\n"
     ]
    },
    {
     "name": "stdout",
     "output_type": "stream",
     "text": [
      "Restoring model weights from the end of the best epoch: 100.\n",
      "\u001b[1m2/2\u001b[0m \u001b[32m━━━━━━━━━━━━━━━━━━━━\u001b[0m\u001b[37m\u001b[0m \u001b[1m0s\u001b[0m 31ms/step\n",
      "0.8472082768201217\n"
     ]
    }
   ],
   "source": [
    "for i in range(0, X_scaled.shape[0] - 500, 100):\n",
    "    X_train_scaled = X_scaled.iloc[i: i + 500]\n",
    "    X_test_scaled = X_scaled.iloc[i + 500: i + 600]\n",
    "    y_train_scaled = y_scaled.iloc[i: i + 500]\n",
    "    y_test_scaled = y_scaled.iloc[i + 500: i + 600]\n",
    "\n",
    "    tf.keras.backend.clear_session()\n",
    "    tf.random.set_seed(42)\n",
    "\n",
    "    model = tf.keras.models.Sequential()\n",
    "    model.add(tf.keras.layers.Dense(units=hp_units_1, activation=act_fun, input_shape=(7,)))\n",
    "    #model.add(tf.keras.layers.Dropout(n_dropout))\n",
    "    model.add(tf.keras.layers.Dense(units=hp_units_2, activation=act_fun))\n",
    "    #model.add(tf.keras.layers.Dropout(n_dropout))\n",
    "    model.add(tf.keras.layers.Dense(units=hp_units_3, activation=act_fun))\n",
    "    #model.add(tf.keras.layers.Dropout(n_dropout)\n",
    "    model.add(tf.keras.layers.Dense(units=hp_units_4, activation=act_fun))\n",
    "    model.add(tf.keras.layers.Dense(units=1)) #activation function\n",
    "\n",
    "    hp_lr = 1e-4  # Learning rate\n",
    "    adam = tf.keras.optimizers.Adam(learning_rate=hp_lr)  # Adam optimizer\n",
    "    model.compile(optimizer=adam, loss=\"mse\", metrics=[\"mae\"])\n",
    "\n",
    "    es = tf.keras.callbacks.EarlyStopping(\n",
    "    monitor=\"val_loss\",\n",
    "    mode=\"min\",\n",
    "    verbose=1,\n",
    "    patience=20,\n",
    "    restore_best_weights=True,)\n",
    "\n",
    "    history = model.fit(\n",
    "    X_train_scaled,\n",
    "    y_train_scaled,\n",
    "    validation_split=0.2,\n",
    "    epochs=100,\n",
    "    batch_size=32,\n",
    "    verbose=0,\n",
    "    callbacks = [es],\n",
    "    )\n",
    "\n",
    "    y_pred_scaled = model.predict(X_test_scaled)\n",
    "    print(r2_score(y_pred_scaled, y_test_scaled[\"Target\"].values))"
   ]
  },
  {
   "cell_type": "markdown",
   "id": "5eb84f6c-28b7-4852-bb3a-dcf4642dfa1c",
   "metadata": {},
   "source": [
    "## Step 3"
   ]
  },
  {
   "cell_type": "markdown",
   "id": "a91872b2-cf84-41e1-8f3d-49c0cc6024cc",
   "metadata": {},
   "source": [
    "Now, the task is to repeat the computations in Step 2 but after alievating the data leakage issues in our model.\n",
    "\n",
    "The data leakage issues are removed by:\n",
    "1. Splitting the data into train and test sets, and then performing the scaling."
   ]
  },
  {
   "cell_type": "code",
   "execution_count": 204,
   "id": "42c405c0-153b-40a0-96a4-8ae52a757e4f",
   "metadata": {},
   "outputs": [
    {
     "data": {
      "text/html": [
       "<div>\n",
       "<style scoped>\n",
       "    .dataframe tbody tr th:only-of-type {\n",
       "        vertical-align: middle;\n",
       "    }\n",
       "\n",
       "    .dataframe tbody tr th {\n",
       "        vertical-align: top;\n",
       "    }\n",
       "\n",
       "    .dataframe thead th {\n",
       "        text-align: right;\n",
       "    }\n",
       "</style>\n",
       "<table border=\"1\" class=\"dataframe\">\n",
       "  <thead>\n",
       "    <tr style=\"text-align: right;\">\n",
       "      <th></th>\n",
       "      <th>Open</th>\n",
       "      <th>High</th>\n",
       "      <th>Low</th>\n",
       "      <th>Close</th>\n",
       "      <th>Volume</th>\n",
       "      <th>Dividends</th>\n",
       "      <th>Stock Splits</th>\n",
       "    </tr>\n",
       "    <tr>\n",
       "      <th>Date</th>\n",
       "      <th></th>\n",
       "      <th></th>\n",
       "      <th></th>\n",
       "      <th></th>\n",
       "      <th></th>\n",
       "      <th></th>\n",
       "      <th></th>\n",
       "    </tr>\n",
       "  </thead>\n",
       "  <tbody>\n",
       "    <tr>\n",
       "      <th>2017-01-02 00:00:00+05:30</th>\n",
       "      <td>315.502647</td>\n",
       "      <td>322.552158</td>\n",
       "      <td>312.193670</td>\n",
       "      <td>320.298248</td>\n",
       "      <td>656084</td>\n",
       "      <td>0.0</td>\n",
       "      <td>0.0</td>\n",
       "    </tr>\n",
       "    <tr>\n",
       "      <th>2017-01-03 00:00:00+05:30</th>\n",
       "      <td>327.059990</td>\n",
       "      <td>340.104031</td>\n",
       "      <td>325.285612</td>\n",
       "      <td>333.917694</td>\n",
       "      <td>2773103</td>\n",
       "      <td>0.0</td>\n",
       "      <td>0.0</td>\n",
       "    </tr>\n",
       "    <tr>\n",
       "      <th>2017-01-04 00:00:00+05:30</th>\n",
       "      <td>336.075739</td>\n",
       "      <td>347.153596</td>\n",
       "      <td>334.924812</td>\n",
       "      <td>344.947601</td>\n",
       "      <td>2371009</td>\n",
       "      <td>0.0</td>\n",
       "      <td>0.0</td>\n",
       "    </tr>\n",
       "    <tr>\n",
       "      <th>2017-01-05 00:00:00+05:30</th>\n",
       "      <td>345.762912</td>\n",
       "      <td>346.722033</td>\n",
       "      <td>340.919366</td>\n",
       "      <td>343.413055</td>\n",
       "      <td>1187872</td>\n",
       "      <td>0.0</td>\n",
       "      <td>0.0</td>\n",
       "    </tr>\n",
       "    <tr>\n",
       "      <th>2017-01-06 00:00:00+05:30</th>\n",
       "      <td>344.324211</td>\n",
       "      <td>348.160693</td>\n",
       "      <td>338.185847</td>\n",
       "      <td>340.679565</td>\n",
       "      <td>1089982</td>\n",
       "      <td>0.0</td>\n",
       "      <td>0.0</td>\n",
       "    </tr>\n",
       "    <tr>\n",
       "      <th>...</th>\n",
       "      <td>...</td>\n",
       "      <td>...</td>\n",
       "      <td>...</td>\n",
       "      <td>...</td>\n",
       "      <td>...</td>\n",
       "      <td>...</td>\n",
       "      <td>...</td>\n",
       "    </tr>\n",
       "    <tr>\n",
       "      <th>2024-12-23 00:00:00+05:30</th>\n",
       "      <td>3378.100098</td>\n",
       "      <td>3406.300049</td>\n",
       "      <td>3336.649902</td>\n",
       "      <td>3396.949951</td>\n",
       "      <td>691202</td>\n",
       "      <td>0.0</td>\n",
       "      <td>0.0</td>\n",
       "    </tr>\n",
       "    <tr>\n",
       "      <th>2024-12-24 00:00:00+05:30</th>\n",
       "      <td>3385.350098</td>\n",
       "      <td>3419.000000</td>\n",
       "      <td>3338.199951</td>\n",
       "      <td>3353.399902</td>\n",
       "      <td>485245</td>\n",
       "      <td>0.0</td>\n",
       "      <td>0.0</td>\n",
       "    </tr>\n",
       "    <tr>\n",
       "      <th>2024-12-26 00:00:00+05:30</th>\n",
       "      <td>3365.000000</td>\n",
       "      <td>3371.850098</td>\n",
       "      <td>3312.649902</td>\n",
       "      <td>3323.050049</td>\n",
       "      <td>637094</td>\n",
       "      <td>0.0</td>\n",
       "      <td>0.0</td>\n",
       "    </tr>\n",
       "    <tr>\n",
       "      <th>2024-12-27 00:00:00+05:30</th>\n",
       "      <td>3319.850098</td>\n",
       "      <td>3345.000000</td>\n",
       "      <td>3301.100098</td>\n",
       "      <td>3309.199951</td>\n",
       "      <td>568989</td>\n",
       "      <td>0.0</td>\n",
       "      <td>0.0</td>\n",
       "    </tr>\n",
       "    <tr>\n",
       "      <th>2024-12-30 00:00:00+05:30</th>\n",
       "      <td>3309.949951</td>\n",
       "      <td>3317.949951</td>\n",
       "      <td>3247.449951</td>\n",
       "      <td>3257.350098</td>\n",
       "      <td>941859</td>\n",
       "      <td>0.0</td>\n",
       "      <td>0.0</td>\n",
       "    </tr>\n",
       "  </tbody>\n",
       "</table>\n",
       "<p>1974 rows × 7 columns</p>\n",
       "</div>"
      ],
      "text/plain": [
       "                                  Open         High          Low        Close  \\\n",
       "Date                                                                            \n",
       "2017-01-02 00:00:00+05:30   315.502647   322.552158   312.193670   320.298248   \n",
       "2017-01-03 00:00:00+05:30   327.059990   340.104031   325.285612   333.917694   \n",
       "2017-01-04 00:00:00+05:30   336.075739   347.153596   334.924812   344.947601   \n",
       "2017-01-05 00:00:00+05:30   345.762912   346.722033   340.919366   343.413055   \n",
       "2017-01-06 00:00:00+05:30   344.324211   348.160693   338.185847   340.679565   \n",
       "...                                ...          ...          ...          ...   \n",
       "2024-12-23 00:00:00+05:30  3378.100098  3406.300049  3336.649902  3396.949951   \n",
       "2024-12-24 00:00:00+05:30  3385.350098  3419.000000  3338.199951  3353.399902   \n",
       "2024-12-26 00:00:00+05:30  3365.000000  3371.850098  3312.649902  3323.050049   \n",
       "2024-12-27 00:00:00+05:30  3319.850098  3345.000000  3301.100098  3309.199951   \n",
       "2024-12-30 00:00:00+05:30  3309.949951  3317.949951  3247.449951  3257.350098   \n",
       "\n",
       "                            Volume  Dividends  Stock Splits  \n",
       "Date                                                         \n",
       "2017-01-02 00:00:00+05:30   656084        0.0           0.0  \n",
       "2017-01-03 00:00:00+05:30  2773103        0.0           0.0  \n",
       "2017-01-04 00:00:00+05:30  2371009        0.0           0.0  \n",
       "2017-01-05 00:00:00+05:30  1187872        0.0           0.0  \n",
       "2017-01-06 00:00:00+05:30  1089982        0.0           0.0  \n",
       "...                            ...        ...           ...  \n",
       "2024-12-23 00:00:00+05:30   691202        0.0           0.0  \n",
       "2024-12-24 00:00:00+05:30   485245        0.0           0.0  \n",
       "2024-12-26 00:00:00+05:30   637094        0.0           0.0  \n",
       "2024-12-27 00:00:00+05:30   568989        0.0           0.0  \n",
       "2024-12-30 00:00:00+05:30   941859        0.0           0.0  \n",
       "\n",
       "[1974 rows x 7 columns]"
      ]
     },
     "execution_count": 204,
     "metadata": {},
     "output_type": "execute_result"
    }
   ],
   "source": [
    "stock_data"
   ]
  },
  {
   "cell_type": "code",
   "execution_count": 222,
   "id": "f5e15602-94d9-4c46-b40b-986017aeef56",
   "metadata": {},
   "outputs": [],
   "source": [
    "prices = pd.DataFrame(stock_data[\"Close\"])"
   ]
  },
  {
   "cell_type": "code",
   "execution_count": 224,
   "id": "9f3556c9-4d08-44bf-b323-5253488409ea",
   "metadata": {},
   "outputs": [],
   "source": [
    "prices[\"1d_lag\"] = prices[\"Close\"].shift(1)\n",
    "prices[\"2d_mva\"] = prices[\"Close\"].rolling(2).mean()\n",
    "prices[\"5d_mva\"] = prices[\"Close\"].rolling(5).mean()\n",
    "prices[\"7d_mva\"] = prices[\"Close\"].rolling(7).mean()\n",
    "prices[\"10d_mva\"] = prices[\"Close\"].rolling(10).mean()\n",
    "prices[\"20d_mva\"] = prices[\"Close\"].rolling(10).mean()\n",
    "prices[\"Target\"] = prices[\"Close\"].shift(-1)\n",
    "prices.index = stock_data.index"
   ]
  },
  {
   "cell_type": "code",
   "execution_count": 226,
   "id": "516dad0a-a2f3-4653-9210-2d6384bc403f",
   "metadata": {},
   "outputs": [],
   "source": [
    "prices.dropna(inplace=True)"
   ]
  },
  {
   "cell_type": "code",
   "execution_count": 228,
   "id": "4348920d-bf58-4829-9910-bd4100f6371b",
   "metadata": {},
   "outputs": [
    {
     "data": {
      "text/html": [
       "<div>\n",
       "<style scoped>\n",
       "    .dataframe tbody tr th:only-of-type {\n",
       "        vertical-align: middle;\n",
       "    }\n",
       "\n",
       "    .dataframe tbody tr th {\n",
       "        vertical-align: top;\n",
       "    }\n",
       "\n",
       "    .dataframe thead th {\n",
       "        text-align: right;\n",
       "    }\n",
       "</style>\n",
       "<table border=\"1\" class=\"dataframe\">\n",
       "  <thead>\n",
       "    <tr style=\"text-align: right;\">\n",
       "      <th></th>\n",
       "      <th>Close</th>\n",
       "      <th>1d_lag</th>\n",
       "      <th>2d_mva</th>\n",
       "      <th>5d_mva</th>\n",
       "      <th>7d_mva</th>\n",
       "      <th>10d_mva</th>\n",
       "      <th>20d_mva</th>\n",
       "      <th>Target</th>\n",
       "    </tr>\n",
       "    <tr>\n",
       "      <th>Date</th>\n",
       "      <th></th>\n",
       "      <th></th>\n",
       "      <th></th>\n",
       "      <th></th>\n",
       "      <th></th>\n",
       "      <th></th>\n",
       "      <th></th>\n",
       "      <th></th>\n",
       "    </tr>\n",
       "  </thead>\n",
       "  <tbody>\n",
       "    <tr>\n",
       "      <th>2017-01-13 00:00:00+05:30</th>\n",
       "      <td>343.700806</td>\n",
       "      <td>348.832062</td>\n",
       "      <td>346.266434</td>\n",
       "      <td>345.062732</td>\n",
       "      <td>344.200897</td>\n",
       "      <td>340.856982</td>\n",
       "      <td>340.856982</td>\n",
       "      <td>348.016785</td>\n",
       "    </tr>\n",
       "    <tr>\n",
       "      <th>2017-01-16 00:00:00+05:30</th>\n",
       "      <td>348.016785</td>\n",
       "      <td>343.700806</td>\n",
       "      <td>345.858795</td>\n",
       "      <td>346.645270</td>\n",
       "      <td>344.858573</td>\n",
       "      <td>343.628836</td>\n",
       "      <td>343.628836</td>\n",
       "      <td>345.235382</td>\n",
       "    </tr>\n",
       "    <tr>\n",
       "      <th>2017-01-17 00:00:00+05:30</th>\n",
       "      <td>345.235382</td>\n",
       "      <td>348.016785</td>\n",
       "      <td>346.626083</td>\n",
       "      <td>346.357532</td>\n",
       "      <td>345.509404</td>\n",
       "      <td>344.760605</td>\n",
       "      <td>344.760605</td>\n",
       "      <td>351.997162</td>\n",
       "    </tr>\n",
       "    <tr>\n",
       "      <th>2017-01-18 00:00:00+05:30</th>\n",
       "      <td>351.997162</td>\n",
       "      <td>345.235382</td>\n",
       "      <td>348.616272</td>\n",
       "      <td>347.556439</td>\n",
       "      <td>347.208413</td>\n",
       "      <td>345.465561</td>\n",
       "      <td>345.465561</td>\n",
       "      <td>357.464111</td>\n",
       "    </tr>\n",
       "    <tr>\n",
       "      <th>2017-01-19 00:00:00+05:30</th>\n",
       "      <td>357.464111</td>\n",
       "      <td>351.997162</td>\n",
       "      <td>354.730637</td>\n",
       "      <td>349.282849</td>\n",
       "      <td>348.749847</td>\n",
       "      <td>346.870667</td>\n",
       "      <td>346.870667</td>\n",
       "      <td>345.954742</td>\n",
       "    </tr>\n",
       "    <tr>\n",
       "      <th>...</th>\n",
       "      <td>...</td>\n",
       "      <td>...</td>\n",
       "      <td>...</td>\n",
       "      <td>...</td>\n",
       "      <td>...</td>\n",
       "      <td>...</td>\n",
       "      <td>...</td>\n",
       "      <td>...</td>\n",
       "    </tr>\n",
       "    <tr>\n",
       "      <th>2024-12-20 00:00:00+05:30</th>\n",
       "      <td>3356.250000</td>\n",
       "      <td>3356.850098</td>\n",
       "      <td>3356.550049</td>\n",
       "      <td>3391.860010</td>\n",
       "      <td>3416.271449</td>\n",
       "      <td>3433.095020</td>\n",
       "      <td>3433.095020</td>\n",
       "      <td>3396.949951</td>\n",
       "    </tr>\n",
       "    <tr>\n",
       "      <th>2024-12-23 00:00:00+05:30</th>\n",
       "      <td>3396.949951</td>\n",
       "      <td>3356.250000</td>\n",
       "      <td>3376.599976</td>\n",
       "      <td>3383.610010</td>\n",
       "      <td>3409.300014</td>\n",
       "      <td>3425.970020</td>\n",
       "      <td>3425.970020</td>\n",
       "      <td>3353.399902</td>\n",
       "    </tr>\n",
       "    <tr>\n",
       "      <th>2024-12-24 00:00:00+05:30</th>\n",
       "      <td>3353.399902</td>\n",
       "      <td>3396.949951</td>\n",
       "      <td>3375.174927</td>\n",
       "      <td>3373.069971</td>\n",
       "      <td>3387.092843</td>\n",
       "      <td>3413.735010</td>\n",
       "      <td>3413.735010</td>\n",
       "      <td>3323.050049</td>\n",
       "    </tr>\n",
       "    <tr>\n",
       "      <th>2024-12-26 00:00:00+05:30</th>\n",
       "      <td>3323.050049</td>\n",
       "      <td>3353.399902</td>\n",
       "      <td>3338.224976</td>\n",
       "      <td>3357.300000</td>\n",
       "      <td>3370.642857</td>\n",
       "      <td>3398.730005</td>\n",
       "      <td>3398.730005</td>\n",
       "      <td>3309.199951</td>\n",
       "    </tr>\n",
       "    <tr>\n",
       "      <th>2024-12-27 00:00:00+05:30</th>\n",
       "      <td>3309.199951</td>\n",
       "      <td>3323.050049</td>\n",
       "      <td>3316.125000</td>\n",
       "      <td>3347.769971</td>\n",
       "      <td>3356.799979</td>\n",
       "      <td>3385.075000</td>\n",
       "      <td>3385.075000</td>\n",
       "      <td>3257.350098</td>\n",
       "    </tr>\n",
       "  </tbody>\n",
       "</table>\n",
       "<p>1964 rows × 8 columns</p>\n",
       "</div>"
      ],
      "text/plain": [
       "                                 Close       1d_lag       2d_mva       5d_mva  \\\n",
       "Date                                                                            \n",
       "2017-01-13 00:00:00+05:30   343.700806   348.832062   346.266434   345.062732   \n",
       "2017-01-16 00:00:00+05:30   348.016785   343.700806   345.858795   346.645270   \n",
       "2017-01-17 00:00:00+05:30   345.235382   348.016785   346.626083   346.357532   \n",
       "2017-01-18 00:00:00+05:30   351.997162   345.235382   348.616272   347.556439   \n",
       "2017-01-19 00:00:00+05:30   357.464111   351.997162   354.730637   349.282849   \n",
       "...                                ...          ...          ...          ...   \n",
       "2024-12-20 00:00:00+05:30  3356.250000  3356.850098  3356.550049  3391.860010   \n",
       "2024-12-23 00:00:00+05:30  3396.949951  3356.250000  3376.599976  3383.610010   \n",
       "2024-12-24 00:00:00+05:30  3353.399902  3396.949951  3375.174927  3373.069971   \n",
       "2024-12-26 00:00:00+05:30  3323.050049  3353.399902  3338.224976  3357.300000   \n",
       "2024-12-27 00:00:00+05:30  3309.199951  3323.050049  3316.125000  3347.769971   \n",
       "\n",
       "                                7d_mva      10d_mva      20d_mva       Target  \n",
       "Date                                                                           \n",
       "2017-01-13 00:00:00+05:30   344.200897   340.856982   340.856982   348.016785  \n",
       "2017-01-16 00:00:00+05:30   344.858573   343.628836   343.628836   345.235382  \n",
       "2017-01-17 00:00:00+05:30   345.509404   344.760605   344.760605   351.997162  \n",
       "2017-01-18 00:00:00+05:30   347.208413   345.465561   345.465561   357.464111  \n",
       "2017-01-19 00:00:00+05:30   348.749847   346.870667   346.870667   345.954742  \n",
       "...                                ...          ...          ...          ...  \n",
       "2024-12-20 00:00:00+05:30  3416.271449  3433.095020  3433.095020  3396.949951  \n",
       "2024-12-23 00:00:00+05:30  3409.300014  3425.970020  3425.970020  3353.399902  \n",
       "2024-12-24 00:00:00+05:30  3387.092843  3413.735010  3413.735010  3323.050049  \n",
       "2024-12-26 00:00:00+05:30  3370.642857  3398.730005  3398.730005  3309.199951  \n",
       "2024-12-27 00:00:00+05:30  3356.799979  3385.075000  3385.075000  3257.350098  \n",
       "\n",
       "[1964 rows x 8 columns]"
      ]
     },
     "execution_count": 228,
     "metadata": {},
     "output_type": "execute_result"
    }
   ],
   "source": [
    "prices"
   ]
  },
  {
   "cell_type": "code",
   "execution_count": 234,
   "id": "05bfcda2-b6c6-4a29-9140-1a08bb4ee53e",
   "metadata": {},
   "outputs": [],
   "source": [
    "X = prices[['Close', '1d_lag', '2d_mva','5d_mva', '7d_mva', '10d_mva', '20d_mva']]\n",
    "y = prices[['Target']]"
   ]
  },
  {
   "cell_type": "markdown",
   "id": "9a6036ec-28fc-484c-b158-eb943ddedc67",
   "metadata": {},
   "source": [
    "## a. Now, I train my models using a (non-anchored) walk forward method that exploits a train/test split with 500 observations in each set. I ensure no data leakage."
   ]
  },
  {
   "cell_type": "code",
   "execution_count": 236,
   "id": "bdfff4b6-f341-435f-8a31-d95a977cc045",
   "metadata": {},
   "outputs": [
    {
     "name": "stderr",
     "output_type": "stream",
     "text": [
      "C:\\Users\\susha\\anaconda3\\Lib\\site-packages\\keras\\src\\layers\\core\\dense.py:87: UserWarning: Do not pass an `input_shape`/`input_dim` argument to a layer. When using Sequential models, prefer using an `Input(shape)` object as the first layer in the model instead.\n",
      "  super().__init__(activity_regularizer=activity_regularizer, **kwargs)\n"
     ]
    },
    {
     "name": "stdout",
     "output_type": "stream",
     "text": [
      "Restoring model weights from the end of the best epoch: 100.\n",
      "\u001b[1m16/16\u001b[0m \u001b[32m━━━━━━━━━━━━━━━━━━━━\u001b[0m\u001b[37m\u001b[0m \u001b[1m0s\u001b[0m 9ms/step\n",
      "0.9411196488011745\n"
     ]
    },
    {
     "name": "stderr",
     "output_type": "stream",
     "text": [
      "C:\\Users\\susha\\anaconda3\\Lib\\site-packages\\keras\\src\\layers\\core\\dense.py:87: UserWarning: Do not pass an `input_shape`/`input_dim` argument to a layer. When using Sequential models, prefer using an `Input(shape)` object as the first layer in the model instead.\n",
      "  super().__init__(activity_regularizer=activity_regularizer, **kwargs)\n"
     ]
    },
    {
     "name": "stdout",
     "output_type": "stream",
     "text": [
      "Restoring model weights from the end of the best epoch: 100.\n",
      "\u001b[1m16/16\u001b[0m \u001b[32m━━━━━━━━━━━━━━━━━━━━\u001b[0m\u001b[37m\u001b[0m \u001b[1m0s\u001b[0m 8ms/step\n",
      "0.9806998449905878\n"
     ]
    },
    {
     "name": "stderr",
     "output_type": "stream",
     "text": [
      "C:\\Users\\susha\\anaconda3\\Lib\\site-packages\\keras\\src\\layers\\core\\dense.py:87: UserWarning: Do not pass an `input_shape`/`input_dim` argument to a layer. When using Sequential models, prefer using an `Input(shape)` object as the first layer in the model instead.\n",
      "  super().__init__(activity_regularizer=activity_regularizer, **kwargs)\n"
     ]
    },
    {
     "name": "stdout",
     "output_type": "stream",
     "text": [
      "Epoch 31: early stopping\n",
      "Restoring model weights from the end of the best epoch: 11.\n",
      "\u001b[1m15/15\u001b[0m \u001b[32m━━━━━━━━━━━━━━━━━━━━\u001b[0m\u001b[37m\u001b[0m \u001b[1m0s\u001b[0m 8ms/step\n",
      "0.9748875137764018\n"
     ]
    }
   ],
   "source": [
    "for i in range(0, X.shape[0] - 500, 500):\n",
    "    X_train = X.iloc[i: i + 500]\n",
    "    X_test = X.iloc[i + 500: i + 1000]\n",
    "    y_train = y.iloc[i: i + 500]\n",
    "    y_test = y.iloc[i + 500: i + 1000]\n",
    "\n",
    "    tf.keras.backend.clear_session()\n",
    "    tf.random.set_seed(42)\n",
    "\n",
    "    model = tf.keras.models.Sequential()\n",
    "    model.add(tf.keras.layers.Dense(units=hp_units_1, activation=act_fun, input_shape=(7,)))\n",
    "    #model.add(tf.keras.layers.Dropout(n_dropout))\n",
    "    model.add(tf.keras.layers.Dense(units=hp_units_2, activation=act_fun))\n",
    "    #model.add(tf.keras.layers.Dropout(n_dropout))\n",
    "    model.add(tf.keras.layers.Dense(units=hp_units_3, activation=act_fun))\n",
    "    #model.add(tf.keras.layers.Dropout(n_dropout)\n",
    "    model.add(tf.keras.layers.Dense(units=hp_units_4, activation=act_fun))\n",
    "    model.add(tf.keras.layers.Dense(units=1)) #activation function\n",
    "\n",
    "    hp_lr = 1e-4  # Learning rate\n",
    "    adam = tf.keras.optimizers.Adam(learning_rate=hp_lr)  # Adam optimizer\n",
    "    model.compile(optimizer=adam, loss=\"mse\", metrics=[\"mae\"])\n",
    "\n",
    "    es = tf.keras.callbacks.EarlyStopping(\n",
    "    monitor=\"val_loss\",\n",
    "    mode=\"min\",\n",
    "    verbose=1,\n",
    "    patience=20,\n",
    "    restore_best_weights=True,)\n",
    "\n",
    "    history = model.fit(\n",
    "    X_train,\n",
    "    y_train,\n",
    "    validation_split=0.2,\n",
    "    epochs=100,\n",
    "    batch_size=32,\n",
    "    verbose=0,\n",
    "    callbacks = [es],\n",
    "    )\n",
    "\n",
    "    y_pred = model.predict(X_test)\n",
    "    print(r2_score(y_pred, y_test[\"Target\"].values))"
   ]
  },
  {
   "cell_type": "code",
   "execution_count": 238,
   "id": "0e2562ab-4c85-49af-aa8f-0f3aa061ce57",
   "metadata": {},
   "outputs": [
    {
     "data": {
      "text/plain": [
       "[<matplotlib.lines.Line2D at 0x22237de1c70>]"
      ]
     },
     "execution_count": 238,
     "metadata": {},
     "output_type": "execute_result"
    },
    {
     "data": {
      "image/png": "[encoded data removed]",
      "text/plain": [
       "<Figure size 640x480 with 1 Axes>"
      ]
     },
     "metadata": {},
     "output_type": "display_data"
    }
   ],
   "source": [
    "plt.plot(y_pred)\n",
    "plt.plot(y_test.values)"
   ]
  },
  {
   "cell_type": "markdown",
   "id": "f72e3d4c-5e2b-407f-ab5c-67703fece6bb",
   "metadata": {},
   "source": [
    "Now, let us build the LSTM model and backtest it using the same walk-forward technique."
   ]
  },
  {
   "cell_type": "markdown",
   "id": "55f14654-ab15-4fa3-a328-99ed35785faf",
   "metadata": {},
   "source": [
    "## b. Now, I train my models models using a (non-anchored) walk forward method that exploits a train/test split with 100 observations in each set. I ensure no data leakage."
   ]
  },
  {
   "cell_type": "code",
   "execution_count": 251,
   "id": "ac6cf645-8466-4e32-b578-5177d7a7402b",
   "metadata": {},
   "outputs": [
    {
     "name": "stderr",
     "output_type": "stream",
     "text": [
      "C:\\Users\\susha\\anaconda3\\Lib\\site-packages\\keras\\src\\layers\\core\\dense.py:87: UserWarning: Do not pass an `input_shape`/`input_dim` argument to a layer. When using Sequential models, prefer using an `Input(shape)` object as the first layer in the model instead.\n",
      "  super().__init__(activity_regularizer=activity_regularizer, **kwargs)\n"
     ]
    },
    {
     "name": "stdout",
     "output_type": "stream",
     "text": [
      "Restoring model weights from the end of the best epoch: 100.\n",
      "\u001b[1m4/4\u001b[0m \u001b[32m━━━━━━━━━━━━━━━━━━━━\u001b[0m\u001b[37m\u001b[0m \u001b[1m0s\u001b[0m 35ms/step\n",
      "0.9587230412190566\n"
     ]
    },
    {
     "name": "stderr",
     "output_type": "stream",
     "text": [
      "C:\\Users\\susha\\anaconda3\\Lib\\site-packages\\keras\\src\\layers\\core\\dense.py:87: UserWarning: Do not pass an `input_shape`/`input_dim` argument to a layer. When using Sequential models, prefer using an `Input(shape)` object as the first layer in the model instead.\n",
      "  super().__init__(activity_regularizer=activity_regularizer, **kwargs)\n"
     ]
    },
    {
     "name": "stdout",
     "output_type": "stream",
     "text": [
      "Restoring model weights from the end of the best epoch: 100.\n",
      "\u001b[1m4/4\u001b[0m \u001b[32m━━━━━━━━━━━━━━━━━━━━\u001b[0m\u001b[37m\u001b[0m \u001b[1m0s\u001b[0m 34ms/step\n",
      "0.8218043184143138\n"
     ]
    },
    {
     "name": "stderr",
     "output_type": "stream",
     "text": [
      "C:\\Users\\susha\\anaconda3\\Lib\\site-packages\\keras\\src\\layers\\core\\dense.py:87: UserWarning: Do not pass an `input_shape`/`input_dim` argument to a layer. When using Sequential models, prefer using an `Input(shape)` object as the first layer in the model instead.\n",
      "  super().__init__(activity_regularizer=activity_regularizer, **kwargs)\n"
     ]
    },
    {
     "name": "stdout",
     "output_type": "stream",
     "text": [
      "Restoring model weights from the end of the best epoch: 100.\n",
      "\u001b[1m4/4\u001b[0m \u001b[32m━━━━━━━━━━━━━━━━━━━━\u001b[0m\u001b[37m\u001b[0m \u001b[1m0s\u001b[0m 36ms/step\n",
      "0.9045686917753073\n"
     ]
    },
    {
     "name": "stderr",
     "output_type": "stream",
     "text": [
      "C:\\Users\\susha\\anaconda3\\Lib\\site-packages\\keras\\src\\layers\\core\\dense.py:87: UserWarning: Do not pass an `input_shape`/`input_dim` argument to a layer. When using Sequential models, prefer using an `Input(shape)` object as the first layer in the model instead.\n",
      "  super().__init__(activity_regularizer=activity_regularizer, **kwargs)\n"
     ]
    },
    {
     "name": "stdout",
     "output_type": "stream",
     "text": [
      "Restoring model weights from the end of the best epoch: 100.\n",
      "\u001b[1m4/4\u001b[0m \u001b[32m━━━━━━━━━━━━━━━━━━━━\u001b[0m\u001b[37m\u001b[0m \u001b[1m0s\u001b[0m 32ms/step\n",
      "0.9240639044187667\n"
     ]
    },
    {
     "name": "stderr",
     "output_type": "stream",
     "text": [
      "C:\\Users\\susha\\anaconda3\\Lib\\site-packages\\keras\\src\\layers\\core\\dense.py:87: UserWarning: Do not pass an `input_shape`/`input_dim` argument to a layer. When using Sequential models, prefer using an `Input(shape)` object as the first layer in the model instead.\n",
      "  super().__init__(activity_regularizer=activity_regularizer, **kwargs)\n"
     ]
    },
    {
     "name": "stdout",
     "output_type": "stream",
     "text": [
      "Epoch 41: early stopping\n",
      "Restoring model weights from the end of the best epoch: 21.\n",
      "\u001b[1m4/4\u001b[0m \u001b[32m━━━━━━━━━━━━━━━━━━━━\u001b[0m\u001b[37m\u001b[0m \u001b[1m0s\u001b[0m 32ms/step\n",
      "0.9630618190424425\n"
     ]
    },
    {
     "name": "stderr",
     "output_type": "stream",
     "text": [
      "C:\\Users\\susha\\anaconda3\\Lib\\site-packages\\keras\\src\\layers\\core\\dense.py:87: UserWarning: Do not pass an `input_shape`/`input_dim` argument to a layer. When using Sequential models, prefer using an `Input(shape)` object as the first layer in the model instead.\n",
      "  super().__init__(activity_regularizer=activity_regularizer, **kwargs)\n"
     ]
    },
    {
     "name": "stdout",
     "output_type": "stream",
     "text": [
      "Restoring model weights from the end of the best epoch: 100.\n",
      "\u001b[1m4/4\u001b[0m \u001b[32m━━━━━━━━━━━━━━━━━━━━\u001b[0m\u001b[37m\u001b[0m \u001b[1m0s\u001b[0m 32ms/step\n",
      "0.9111588997423853\n"
     ]
    },
    {
     "name": "stderr",
     "output_type": "stream",
     "text": [
      "C:\\Users\\susha\\anaconda3\\Lib\\site-packages\\keras\\src\\layers\\core\\dense.py:87: UserWarning: Do not pass an `input_shape`/`input_dim` argument to a layer. When using Sequential models, prefer using an `Input(shape)` object as the first layer in the model instead.\n",
      "  super().__init__(activity_regularizer=activity_regularizer, **kwargs)\n"
     ]
    },
    {
     "name": "stdout",
     "output_type": "stream",
     "text": [
      "Restoring model weights from the end of the best epoch: 100.\n",
      "\u001b[1m4/4\u001b[0m \u001b[32m━━━━━━━━━━━━━━━━━━━━\u001b[0m\u001b[37m\u001b[0m \u001b[1m0s\u001b[0m 38ms/step\n",
      "0.9694467168589674\n"
     ]
    },
    {
     "name": "stderr",
     "output_type": "stream",
     "text": [
      "C:\\Users\\susha\\anaconda3\\Lib\\site-packages\\keras\\src\\layers\\core\\dense.py:87: UserWarning: Do not pass an `input_shape`/`input_dim` argument to a layer. When using Sequential models, prefer using an `Input(shape)` object as the first layer in the model instead.\n",
      "  super().__init__(activity_regularizer=activity_regularizer, **kwargs)\n"
     ]
    },
    {
     "name": "stdout",
     "output_type": "stream",
     "text": [
      "Restoring model weights from the end of the best epoch: 100.\n",
      "\u001b[1m4/4\u001b[0m \u001b[32m━━━━━━━━━━━━━━━━━━━━\u001b[0m\u001b[37m\u001b[0m \u001b[1m0s\u001b[0m 34ms/step\n",
      "0.48779606456656976\n"
     ]
    },
    {
     "name": "stderr",
     "output_type": "stream",
     "text": [
      "C:\\Users\\susha\\anaconda3\\Lib\\site-packages\\keras\\src\\layers\\core\\dense.py:87: UserWarning: Do not pass an `input_shape`/`input_dim` argument to a layer. When using Sequential models, prefer using an `Input(shape)` object as the first layer in the model instead.\n",
      "  super().__init__(activity_regularizer=activity_regularizer, **kwargs)\n"
     ]
    },
    {
     "name": "stdout",
     "output_type": "stream",
     "text": [
      "Epoch 49: early stopping\n",
      "Restoring model weights from the end of the best epoch: 29.\n",
      "\u001b[1m4/4\u001b[0m \u001b[32m━━━━━━━━━━━━━━━━━━━━\u001b[0m\u001b[37m\u001b[0m \u001b[1m0s\u001b[0m 34ms/step\n",
      "0.8381701643693489\n"
     ]
    },
    {
     "name": "stderr",
     "output_type": "stream",
     "text": [
      "C:\\Users\\susha\\anaconda3\\Lib\\site-packages\\keras\\src\\layers\\core\\dense.py:87: UserWarning: Do not pass an `input_shape`/`input_dim` argument to a layer. When using Sequential models, prefer using an `Input(shape)` object as the first layer in the model instead.\n",
      "  super().__init__(activity_regularizer=activity_regularizer, **kwargs)\n"
     ]
    },
    {
     "name": "stdout",
     "output_type": "stream",
     "text": [
      "Restoring model weights from the end of the best epoch: 100.\n",
      "\u001b[1m4/4\u001b[0m \u001b[32m━━━━━━━━━━━━━━━━━━━━\u001b[0m\u001b[37m\u001b[0m \u001b[1m0s\u001b[0m 33ms/step\n",
      "0.7969630721958674\n"
     ]
    },
    {
     "name": "stderr",
     "output_type": "stream",
     "text": [
      "C:\\Users\\susha\\anaconda3\\Lib\\site-packages\\keras\\src\\layers\\core\\dense.py:87: UserWarning: Do not pass an `input_shape`/`input_dim` argument to a layer. When using Sequential models, prefer using an `Input(shape)` object as the first layer in the model instead.\n",
      "  super().__init__(activity_regularizer=activity_regularizer, **kwargs)\n"
     ]
    },
    {
     "name": "stdout",
     "output_type": "stream",
     "text": [
      "Epoch 47: early stopping\n",
      "Restoring model weights from the end of the best epoch: 27.\n",
      "\u001b[1m4/4\u001b[0m \u001b[32m━━━━━━━━━━━━━━━━━━━━\u001b[0m\u001b[37m\u001b[0m \u001b[1m0s\u001b[0m 34ms/step\n",
      "0.9685350471188249\n"
     ]
    },
    {
     "name": "stderr",
     "output_type": "stream",
     "text": [
      "C:\\Users\\susha\\anaconda3\\Lib\\site-packages\\keras\\src\\layers\\core\\dense.py:87: UserWarning: Do not pass an `input_shape`/`input_dim` argument to a layer. When using Sequential models, prefer using an `Input(shape)` object as the first layer in the model instead.\n",
      "  super().__init__(activity_regularizer=activity_regularizer, **kwargs)\n"
     ]
    },
    {
     "name": "stdout",
     "output_type": "stream",
     "text": [
      "Restoring model weights from the end of the best epoch: 100.\n",
      "\u001b[1m4/4\u001b[0m \u001b[32m━━━━━━━━━━━━━━━━━━━━\u001b[0m\u001b[37m\u001b[0m \u001b[1m0s\u001b[0m 31ms/step\n",
      "0.8931419317835106\n"
     ]
    },
    {
     "name": "stderr",
     "output_type": "stream",
     "text": [
      "C:\\Users\\susha\\anaconda3\\Lib\\site-packages\\keras\\src\\layers\\core\\dense.py:87: UserWarning: Do not pass an `input_shape`/`input_dim` argument to a layer. When using Sequential models, prefer using an `Input(shape)` object as the first layer in the model instead.\n",
      "  super().__init__(activity_regularizer=activity_regularizer, **kwargs)\n"
     ]
    },
    {
     "name": "stdout",
     "output_type": "stream",
     "text": [
      "Epoch 32: early stopping\n",
      "Restoring model weights from the end of the best epoch: 12.\n",
      "\u001b[1m4/4\u001b[0m \u001b[32m━━━━━━━━━━━━━━━━━━━━\u001b[0m\u001b[37m\u001b[0m \u001b[1m0s\u001b[0m 36ms/step\n",
      "0.3341221417803525\n"
     ]
    },
    {
     "name": "stderr",
     "output_type": "stream",
     "text": [
      "C:\\Users\\susha\\anaconda3\\Lib\\site-packages\\keras\\src\\layers\\core\\dense.py:87: UserWarning: Do not pass an `input_shape`/`input_dim` argument to a layer. When using Sequential models, prefer using an `Input(shape)` object as the first layer in the model instead.\n",
      "  super().__init__(activity_regularizer=activity_regularizer, **kwargs)\n"
     ]
    },
    {
     "name": "stdout",
     "output_type": "stream",
     "text": [
      "Epoch 43: early stopping\n",
      "Restoring model weights from the end of the best epoch: 23.\n",
      "\u001b[1m4/4\u001b[0m \u001b[32m━━━━━━━━━━━━━━━━━━━━\u001b[0m\u001b[37m\u001b[0m \u001b[1m0s\u001b[0m 34ms/step\n",
      "0.5189560470542813\n"
     ]
    },
    {
     "name": "stderr",
     "output_type": "stream",
     "text": [
      "C:\\Users\\susha\\anaconda3\\Lib\\site-packages\\keras\\src\\layers\\core\\dense.py:87: UserWarning: Do not pass an `input_shape`/`input_dim` argument to a layer. When using Sequential models, prefer using an `Input(shape)` object as the first layer in the model instead.\n",
      "  super().__init__(activity_regularizer=activity_regularizer, **kwargs)\n"
     ]
    },
    {
     "name": "stdout",
     "output_type": "stream",
     "text": [
      "Restoring model weights from the end of the best epoch: 100.\n",
      "\u001b[1m2/2\u001b[0m \u001b[32m━━━━━━━━━━━━━━━━━━━━\u001b[0m\u001b[37m\u001b[0m \u001b[1m0s\u001b[0m 20ms/step\n",
      "0.7805667206631097\n"
     ]
    }
   ],
   "source": [
    "for i in range(0, X.shape[0] - 500, 100):\n",
    "    X_train = X.iloc[i: i + 500]\n",
    "    X_test = X.iloc[i + 500: i + 600]\n",
    "    y_train = y.iloc[i: i + 500]\n",
    "    y_test = y.iloc[i + 500: i + 600]\n",
    "\n",
    "    tf.keras.backend.clear_session()\n",
    "    tf.random.set_seed(42)\n",
    "\n",
    "    model = tf.keras.models.Sequential()\n",
    "    model.add(tf.keras.layers.Dense(units=hp_units_1, activation=act_fun, input_shape=(7,)))\n",
    "    #model.add(tf.keras.layers.Dropout(n_dropout))\n",
    "    model.add(tf.keras.layers.Dense(units=hp_units_2, activation=act_fun))\n",
    "    #model.add(tf.keras.layers.Dropout(n_dropout))\n",
    "    model.add(tf.keras.layers.Dense(units=hp_units_3, activation=act_fun))\n",
    "    #model.add(tf.keras.layers.Dropout(n_dropout)\n",
    "    model.add(tf.keras.layers.Dense(units=hp_units_4, activation=act_fun))\n",
    "    model.add(tf.keras.layers.Dense(units=1)) #activation function\n",
    "\n",
    "    hp_lr = 1e-4  # Learning rate\n",
    "    adam = tf.keras.optimizers.Adam(learning_rate=hp_lr)  # Adam optimizer\n",
    "    model.compile(optimizer=adam, loss=\"mse\", metrics=[\"mae\"])\n",
    "\n",
    "    es = tf.keras.callbacks.EarlyStopping(\n",
    "    monitor=\"val_loss\",\n",
    "    mode=\"min\",\n",
    "    verbose=1,\n",
    "    patience=20,\n",
    "    restore_best_weights=True,)\n",
    "\n",
    "    history = model.fit(\n",
    "    X_train,\n",
    "    y_train,\n",
    "    validation_split=0.2,\n",
    "    epochs=100,\n",
    "    batch_size=32,\n",
    "    verbose=0,\n",
    "    callbacks = [es],\n",
    "    )\n",
    "\n",
    "    y_pred = model.predict(X_test)\n",
    "    print(r2_score(y_pred, y_test[\"Target\"].values))"
   ]
  },
  {
   "cell_type": "code",
   "execution_count": null,
   "id": "2d63593a-f627-46c6-acb8-9f7540804d2e",
   "metadata": {},
   "outputs": [],
   "source": []
  }
 ],
 "metadata": {
  "kernelspec": {
   "display_name": "Python [conda env:base] *",
   "language": "python",
   "name": "conda-base-py"
  },
  "language_info": {
   "codemirror_mode": {
    "name": "ipython",
    "version": 3
   },
   "file_extension": ".py",
   "mimetype": "text/x-python",
   "name": "python",
   "nbconvert_exporter": "python",
   "pygments_lexer": "ipython3",
   "version": "3.12.7"
  }
 },
 "nbformat": 4,
 "nbformat_minor": 5
}
