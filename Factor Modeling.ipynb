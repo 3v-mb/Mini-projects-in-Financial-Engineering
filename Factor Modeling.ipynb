{
 "cells": [
  {
   "cell_type": "markdown",
   "id": "9aba967b-f82a-45f6-b1ed-e87b9b15ef09",
   "metadata": {},
   "source": [
    "## Step 2"
   ]
  },
  {
   "cell_type": "markdown",
   "id": "3c31f4ca-30e5-4db2-9390-ea60b5d53315",
   "metadata": {},
   "source": [
    "Data regarding daily factor returns are available here https://mba.tuck.dartmouth.edu/pages/faculty/ken.french/data_library.html"
   ]
  },
  {
   "cell_type": "markdown",
   "id": "e768f1fb-78d4-42cd-8922-d759a5fef85b",
   "metadata": {},
   "source": [
    "We download the data in csv format, remove the first three rows that contain a textual description of the data and import it here."
   ]
  },
  {
   "cell_type": "code",
   "execution_count": 228,
   "id": "80d321e1-07c2-4f2a-bcc2-6919de767e26",
   "metadata": {},
   "outputs": [],
   "source": [
    "import numpy as np\n",
    "import pandas as pd\n",
    "import matplotlib.pyplot as plt\n",
    "import seaborn as sns\n",
    "import yfinance as yf\n",
    "import statsmodels.api as sm\n",
    "from sklearn.metrics import r2_score"
   ]
  },
  {
   "cell_type": "code",
   "execution_count": 4,
   "id": "38437434-fedd-45e4-8a60-193e0066048a",
   "metadata": {},
   "outputs": [],
   "source": [
    "daily_factor_data = pd.read_excel(\"F-F_Research_Data_5_Factors_2x3_daily.xlsx\")"
   ]
  },
  {
   "cell_type": "code",
   "execution_count": 5,
   "id": "49d1b3aa-ac4f-45b0-b7ee-32ae632d3589",
   "metadata": {},
   "outputs": [],
   "source": [
    "daily_factor_data.set_index(\"Year\", inplace=True)"
   ]
  },
  {
   "cell_type": "code",
   "execution_count": 6,
   "id": "e5ae672f-88d1-47d5-9002-2303c1c1f912",
   "metadata": {},
   "outputs": [],
   "source": [
    "daily_factor_data.index = pd.to_datetime(daily_factor_data.index, format=\"%Y%m%d\")"
   ]
  },
  {
   "cell_type": "code",
   "execution_count": 7,
   "id": "87d34bf6-04bf-4e19-9c5e-10809c5b7ab6",
   "metadata": {},
   "outputs": [
    {
     "data": {
      "text/html": [
       "<div>\n",
       "<style scoped>\n",
       "    .dataframe tbody tr th:only-of-type {\n",
       "        vertical-align: middle;\n",
       "    }\n",
       "\n",
       "    .dataframe tbody tr th {\n",
       "        vertical-align: top;\n",
       "    }\n",
       "\n",
       "    .dataframe thead th {\n",
       "        text-align: right;\n",
       "    }\n",
       "</style>\n",
       "<table border=\"1\" class=\"dataframe\">\n",
       "  <thead>\n",
       "    <tr style=\"text-align: right;\">\n",
       "      <th></th>\n",
       "      <th>Mkt-RF</th>\n",
       "      <th>SMB</th>\n",
       "      <th>HML</th>\n",
       "      <th>RMW</th>\n",
       "      <th>CMA</th>\n",
       "      <th>RF</th>\n",
       "    </tr>\n",
       "    <tr>\n",
       "      <th>Year</th>\n",
       "      <th></th>\n",
       "      <th></th>\n",
       "      <th></th>\n",
       "      <th></th>\n",
       "      <th></th>\n",
       "      <th></th>\n",
       "    </tr>\n",
       "  </thead>\n",
       "  <tbody>\n",
       "    <tr>\n",
       "      <th>1963-07-01</th>\n",
       "      <td>-0.67</td>\n",
       "      <td>0.02</td>\n",
       "      <td>-0.35</td>\n",
       "      <td>0.03</td>\n",
       "      <td>0.13</td>\n",
       "      <td>0.012</td>\n",
       "    </tr>\n",
       "    <tr>\n",
       "      <th>1963-07-02</th>\n",
       "      <td>0.79</td>\n",
       "      <td>-0.28</td>\n",
       "      <td>0.28</td>\n",
       "      <td>-0.08</td>\n",
       "      <td>-0.21</td>\n",
       "      <td>0.012</td>\n",
       "    </tr>\n",
       "    <tr>\n",
       "      <th>1963-07-03</th>\n",
       "      <td>0.63</td>\n",
       "      <td>-0.18</td>\n",
       "      <td>-0.10</td>\n",
       "      <td>0.13</td>\n",
       "      <td>-0.25</td>\n",
       "      <td>0.012</td>\n",
       "    </tr>\n",
       "    <tr>\n",
       "      <th>1963-07-05</th>\n",
       "      <td>0.40</td>\n",
       "      <td>0.09</td>\n",
       "      <td>-0.28</td>\n",
       "      <td>0.07</td>\n",
       "      <td>-0.30</td>\n",
       "      <td>0.012</td>\n",
       "    </tr>\n",
       "    <tr>\n",
       "      <th>1963-07-08</th>\n",
       "      <td>-0.63</td>\n",
       "      <td>0.07</td>\n",
       "      <td>-0.20</td>\n",
       "      <td>-0.27</td>\n",
       "      <td>0.06</td>\n",
       "      <td>0.012</td>\n",
       "    </tr>\n",
       "    <tr>\n",
       "      <th>...</th>\n",
       "      <td>...</td>\n",
       "      <td>...</td>\n",
       "      <td>...</td>\n",
       "      <td>...</td>\n",
       "      <td>...</td>\n",
       "      <td>...</td>\n",
       "    </tr>\n",
       "    <tr>\n",
       "      <th>2024-12-24</th>\n",
       "      <td>1.11</td>\n",
       "      <td>-0.12</td>\n",
       "      <td>-0.05</td>\n",
       "      <td>-0.13</td>\n",
       "      <td>-0.37</td>\n",
       "      <td>0.017</td>\n",
       "    </tr>\n",
       "    <tr>\n",
       "      <th>2024-12-26</th>\n",
       "      <td>0.02</td>\n",
       "      <td>1.09</td>\n",
       "      <td>-0.19</td>\n",
       "      <td>-0.44</td>\n",
       "      <td>0.35</td>\n",
       "      <td>0.017</td>\n",
       "    </tr>\n",
       "    <tr>\n",
       "      <th>2024-12-27</th>\n",
       "      <td>-1.17</td>\n",
       "      <td>-0.44</td>\n",
       "      <td>0.56</td>\n",
       "      <td>0.41</td>\n",
       "      <td>0.03</td>\n",
       "      <td>0.017</td>\n",
       "    </tr>\n",
       "    <tr>\n",
       "      <th>2024-12-30</th>\n",
       "      <td>-1.09</td>\n",
       "      <td>0.24</td>\n",
       "      <td>0.74</td>\n",
       "      <td>0.55</td>\n",
       "      <td>0.14</td>\n",
       "      <td>0.017</td>\n",
       "    </tr>\n",
       "    <tr>\n",
       "      <th>2024-12-31</th>\n",
       "      <td>-0.46</td>\n",
       "      <td>0.31</td>\n",
       "      <td>0.71</td>\n",
       "      <td>0.33</td>\n",
       "      <td>0.00</td>\n",
       "      <td>0.017</td>\n",
       "    </tr>\n",
       "  </tbody>\n",
       "</table>\n",
       "<p>15481 rows × 6 columns</p>\n",
       "</div>"
      ],
      "text/plain": [
       "            Mkt-RF   SMB   HML   RMW   CMA     RF\n",
       "Year                                             \n",
       "1963-07-01   -0.67  0.02 -0.35  0.03  0.13  0.012\n",
       "1963-07-02    0.79 -0.28  0.28 -0.08 -0.21  0.012\n",
       "1963-07-03    0.63 -0.18 -0.10  0.13 -0.25  0.012\n",
       "1963-07-05    0.40  0.09 -0.28  0.07 -0.30  0.012\n",
       "1963-07-08   -0.63  0.07 -0.20 -0.27  0.06  0.012\n",
       "...            ...   ...   ...   ...   ...    ...\n",
       "2024-12-24    1.11 -0.12 -0.05 -0.13 -0.37  0.017\n",
       "2024-12-26    0.02  1.09 -0.19 -0.44  0.35  0.017\n",
       "2024-12-27   -1.17 -0.44  0.56  0.41  0.03  0.017\n",
       "2024-12-30   -1.09  0.24  0.74  0.55  0.14  0.017\n",
       "2024-12-31   -0.46  0.31  0.71  0.33  0.00  0.017\n",
       "\n",
       "[15481 rows x 6 columns]"
      ]
     },
     "execution_count": 7,
     "metadata": {},
     "output_type": "execute_result"
    }
   ],
   "source": [
    "daily_factor_data"
   ]
  },
  {
   "cell_type": "markdown",
   "id": "a2f66293-9cc9-4527-8659-95074d09212d",
   "metadata": {},
   "source": [
    "The data contains returns for six factors over a period ranging from 1963 to 2024. Let us consider only the following five factors:\n",
    "1. Mkt-RF\n",
    "2. SMB\n",
    "3. HML\n",
    "4. RMW\n",
    "5. CMA\n",
    "\n",
    "Let us consider a three year time period from January 1st 2022, to December 31st 2024."
   ]
  },
  {
   "cell_type": "code",
   "execution_count": 9,
   "id": "9308a594-d59b-429e-8161-d431f8a5da04",
   "metadata": {},
   "outputs": [],
   "source": [
    "daily_factor_data = daily_factor_data.loc[\"2022-01-01\":\"2024-12-31\"]"
   ]
  },
  {
   "cell_type": "code",
   "execution_count": 10,
   "id": "7b370963-5697-4e66-88de-077ca392ab14",
   "metadata": {},
   "outputs": [
    {
     "data": {
      "text/html": [
       "<div>\n",
       "<style scoped>\n",
       "    .dataframe tbody tr th:only-of-type {\n",
       "        vertical-align: middle;\n",
       "    }\n",
       "\n",
       "    .dataframe tbody tr th {\n",
       "        vertical-align: top;\n",
       "    }\n",
       "\n",
       "    .dataframe thead th {\n",
       "        text-align: right;\n",
       "    }\n",
       "</style>\n",
       "<table border=\"1\" class=\"dataframe\">\n",
       "  <thead>\n",
       "    <tr style=\"text-align: right;\">\n",
       "      <th></th>\n",
       "      <th>Mkt-RF</th>\n",
       "      <th>SMB</th>\n",
       "      <th>HML</th>\n",
       "      <th>RMW</th>\n",
       "      <th>CMA</th>\n",
       "      <th>RF</th>\n",
       "    </tr>\n",
       "    <tr>\n",
       "      <th>Year</th>\n",
       "      <th></th>\n",
       "      <th></th>\n",
       "      <th></th>\n",
       "      <th></th>\n",
       "      <th></th>\n",
       "      <th></th>\n",
       "    </tr>\n",
       "  </thead>\n",
       "  <tbody>\n",
       "    <tr>\n",
       "      <th>2022-01-03</th>\n",
       "      <td>0.73</td>\n",
       "      <td>0.42</td>\n",
       "      <td>0.80</td>\n",
       "      <td>-1.17</td>\n",
       "      <td>0.59</td>\n",
       "      <td>0.000</td>\n",
       "    </tr>\n",
       "    <tr>\n",
       "      <th>2022-01-04</th>\n",
       "      <td>-0.29</td>\n",
       "      <td>-0.08</td>\n",
       "      <td>3.64</td>\n",
       "      <td>0.63</td>\n",
       "      <td>1.47</td>\n",
       "      <td>0.000</td>\n",
       "    </tr>\n",
       "    <tr>\n",
       "      <th>2022-01-05</th>\n",
       "      <td>-2.28</td>\n",
       "      <td>-0.94</td>\n",
       "      <td>2.59</td>\n",
       "      <td>1.39</td>\n",
       "      <td>1.25</td>\n",
       "      <td>0.000</td>\n",
       "    </tr>\n",
       "    <tr>\n",
       "      <th>2022-01-06</th>\n",
       "      <td>0.00</td>\n",
       "      <td>0.38</td>\n",
       "      <td>1.75</td>\n",
       "      <td>-0.56</td>\n",
       "      <td>-0.01</td>\n",
       "      <td>0.000</td>\n",
       "    </tr>\n",
       "    <tr>\n",
       "      <th>2022-01-07</th>\n",
       "      <td>-0.48</td>\n",
       "      <td>-0.96</td>\n",
       "      <td>2.02</td>\n",
       "      <td>-0.12</td>\n",
       "      <td>0.85</td>\n",
       "      <td>0.000</td>\n",
       "    </tr>\n",
       "    <tr>\n",
       "      <th>...</th>\n",
       "      <td>...</td>\n",
       "      <td>...</td>\n",
       "      <td>...</td>\n",
       "      <td>...</td>\n",
       "      <td>...</td>\n",
       "      <td>...</td>\n",
       "    </tr>\n",
       "    <tr>\n",
       "      <th>2024-12-24</th>\n",
       "      <td>1.11</td>\n",
       "      <td>-0.12</td>\n",
       "      <td>-0.05</td>\n",
       "      <td>-0.13</td>\n",
       "      <td>-0.37</td>\n",
       "      <td>0.017</td>\n",
       "    </tr>\n",
       "    <tr>\n",
       "      <th>2024-12-26</th>\n",
       "      <td>0.02</td>\n",
       "      <td>1.09</td>\n",
       "      <td>-0.19</td>\n",
       "      <td>-0.44</td>\n",
       "      <td>0.35</td>\n",
       "      <td>0.017</td>\n",
       "    </tr>\n",
       "    <tr>\n",
       "      <th>2024-12-27</th>\n",
       "      <td>-1.17</td>\n",
       "      <td>-0.44</td>\n",
       "      <td>0.56</td>\n",
       "      <td>0.41</td>\n",
       "      <td>0.03</td>\n",
       "      <td>0.017</td>\n",
       "    </tr>\n",
       "    <tr>\n",
       "      <th>2024-12-30</th>\n",
       "      <td>-1.09</td>\n",
       "      <td>0.24</td>\n",
       "      <td>0.74</td>\n",
       "      <td>0.55</td>\n",
       "      <td>0.14</td>\n",
       "      <td>0.017</td>\n",
       "    </tr>\n",
       "    <tr>\n",
       "      <th>2024-12-31</th>\n",
       "      <td>-0.46</td>\n",
       "      <td>0.31</td>\n",
       "      <td>0.71</td>\n",
       "      <td>0.33</td>\n",
       "      <td>0.00</td>\n",
       "      <td>0.017</td>\n",
       "    </tr>\n",
       "  </tbody>\n",
       "</table>\n",
       "<p>753 rows × 6 columns</p>\n",
       "</div>"
      ],
      "text/plain": [
       "            Mkt-RF   SMB   HML   RMW   CMA     RF\n",
       "Year                                             \n",
       "2022-01-03    0.73  0.42  0.80 -1.17  0.59  0.000\n",
       "2022-01-04   -0.29 -0.08  3.64  0.63  1.47  0.000\n",
       "2022-01-05   -2.28 -0.94  2.59  1.39  1.25  0.000\n",
       "2022-01-06    0.00  0.38  1.75 -0.56 -0.01  0.000\n",
       "2022-01-07   -0.48 -0.96  2.02 -0.12  0.85  0.000\n",
       "...            ...   ...   ...   ...   ...    ...\n",
       "2024-12-24    1.11 -0.12 -0.05 -0.13 -0.37  0.017\n",
       "2024-12-26    0.02  1.09 -0.19 -0.44  0.35  0.017\n",
       "2024-12-27   -1.17 -0.44  0.56  0.41  0.03  0.017\n",
       "2024-12-30   -1.09  0.24  0.74  0.55  0.14  0.017\n",
       "2024-12-31   -0.46  0.31  0.71  0.33  0.00  0.017\n",
       "\n",
       "[753 rows x 6 columns]"
      ]
     },
     "execution_count": 10,
     "metadata": {},
     "output_type": "execute_result"
    }
   ],
   "source": [
    "daily_factor_data"
   ]
  },
  {
   "cell_type": "markdown",
   "id": "a3b6fcf9-590f-494b-a426-56e385f0963b",
   "metadata": {},
   "source": [
    "Let us now visualize the daily factor returns over this three-year time period."
   ]
  },
  {
   "cell_type": "code",
   "execution_count": 12,
   "id": "e5be2368-05b5-4bb5-91c5-5f146b8e0821",
   "metadata": {},
   "outputs": [
    {
     "data": {
      "image/png": "[encoded data removed]",
      "text/plain": [
       "<Figure size 640x480 with 1 Axes>"
      ]
     },
     "metadata": {},
     "output_type": "display_data"
    }
   ],
   "source": [
    "plt.plot(daily_factor_data[\"Mkt-RF\"])\n",
    "plt.grid()\n",
    "plt.title(\"Excess Market Returns Against Time\")\n",
    "plt.xticks(pd.to_datetime(daily_factor_data.index[::150], format=\"%Y%m\"));"
   ]
  },
  {
   "cell_type": "code",
   "execution_count": 13,
   "id": "adf7b7e7-7460-4981-9f2f-2d549f50a2e1",
   "metadata": {},
   "outputs": [
    {
     "data": {
      "image/png": "[encoded data removed]",
      "text/plain": [
       "<Figure size 640x480 with 1 Axes>"
      ]
     },
     "metadata": {},
     "output_type": "display_data"
    }
   ],
   "source": [
    "plt.plot(daily_factor_data[\"SMB\"])\n",
    "plt.grid()\n",
    "plt.title(\"Size Factor Against Time\")\n",
    "plt.xticks(pd.to_datetime(daily_factor_data.index[::150], format=\"%Y%m\"));"
   ]
  },
  {
   "cell_type": "code",
   "execution_count": 14,
   "id": "92042055-1f6b-4e46-91cc-3897db510d73",
   "metadata": {},
   "outputs": [
    {
     "data": {
      "image/png": "[encoded data removed]",
      "text/plain": [
       "<Figure size 640x480 with 1 Axes>"
      ]
     },
     "metadata": {},
     "output_type": "display_data"
    }
   ],
   "source": [
    "plt.plot(daily_factor_data[\"HML\"])\n",
    "plt.grid()\n",
    "plt.title(\"Value Premium Against Time\")\n",
    "plt.xticks(pd.to_datetime(daily_factor_data.index[::150], format=\"%Y%m\"));"
   ]
  },
  {
   "cell_type": "code",
   "execution_count": 15,
   "id": "001fc4aa-74e9-441e-ba1f-d0457514d88d",
   "metadata": {},
   "outputs": [
    {
     "data": {
      "image/png": "[encoded data removed]",
      "text/plain": [
       "<Figure size 640x480 with 1 Axes>"
      ]
     },
     "metadata": {},
     "output_type": "display_data"
    }
   ],
   "source": [
    "plt.plot(daily_factor_data[\"RMW\"])\n",
    "plt.grid()\n",
    "plt.title(\"Profitability Premium Against Time\")\n",
    "plt.xticks(pd.to_datetime(daily_factor_data.index[::150], format=\"%Y%m\"));"
   ]
  },
  {
   "cell_type": "code",
   "execution_count": 16,
   "id": "61e06cb0-6552-4bcf-8ee0-a20723030491",
   "metadata": {},
   "outputs": [
    {
     "data": {
      "image/png": "[encoded data removed]",
      "text/plain": [
       "<Figure size 640x480 with 1 Axes>"
      ]
     },
     "metadata": {},
     "output_type": "display_data"
    }
   ],
   "source": [
    "plt.plot(daily_factor_data[\"CMA\"])\n",
    "plt.grid()\n",
    "plt.title(\"Investment Premium Against Time\")\n",
    "plt.xticks(pd.to_datetime(daily_factor_data.index[::150], format=\"%Y%m\"));"
   ]
  },
  {
   "cell_type": "markdown",
   "id": "dde3c686-b734-4807-89d5-4d762d2abc3b",
   "metadata": {},
   "source": [
    "Let us compute the correlations of the factor returns"
   ]
  },
  {
   "cell_type": "code",
   "execution_count": 18,
   "id": "060afbcc-42c4-4fa9-a161-c05cded33d16",
   "metadata": {},
   "outputs": [
    {
     "data": {
      "text/html": [
       "<div>\n",
       "<style scoped>\n",
       "    .dataframe tbody tr th:only-of-type {\n",
       "        vertical-align: middle;\n",
       "    }\n",
       "\n",
       "    .dataframe tbody tr th {\n",
       "        vertical-align: top;\n",
       "    }\n",
       "\n",
       "    .dataframe thead th {\n",
       "        text-align: right;\n",
       "    }\n",
       "</style>\n",
       "<table border=\"1\" class=\"dataframe\">\n",
       "  <thead>\n",
       "    <tr style=\"text-align: right;\">\n",
       "      <th></th>\n",
       "      <th>Mkt-RF</th>\n",
       "      <th>SMB</th>\n",
       "      <th>HML</th>\n",
       "      <th>RMW</th>\n",
       "      <th>CMA</th>\n",
       "      <th>RF</th>\n",
       "    </tr>\n",
       "  </thead>\n",
       "  <tbody>\n",
       "    <tr>\n",
       "      <th>Mkt-RF</th>\n",
       "      <td>1.000000</td>\n",
       "      <td>0.218657</td>\n",
       "      <td>-0.391141</td>\n",
       "      <td>-0.372612</td>\n",
       "      <td>-0.471425</td>\n",
       "      <td>0.067500</td>\n",
       "    </tr>\n",
       "    <tr>\n",
       "      <th>SMB</th>\n",
       "      <td>0.218657</td>\n",
       "      <td>1.000000</td>\n",
       "      <td>0.134794</td>\n",
       "      <td>-0.430618</td>\n",
       "      <td>-0.086428</td>\n",
       "      <td>-0.010683</td>\n",
       "    </tr>\n",
       "    <tr>\n",
       "      <th>HML</th>\n",
       "      <td>-0.391141</td>\n",
       "      <td>0.134794</td>\n",
       "      <td>1.000000</td>\n",
       "      <td>0.356232</td>\n",
       "      <td>0.646585</td>\n",
       "      <td>-0.059453</td>\n",
       "    </tr>\n",
       "    <tr>\n",
       "      <th>RMW</th>\n",
       "      <td>-0.372612</td>\n",
       "      <td>-0.430618</td>\n",
       "      <td>0.356232</td>\n",
       "      <td>1.000000</td>\n",
       "      <td>0.295510</td>\n",
       "      <td>0.002866</td>\n",
       "    </tr>\n",
       "    <tr>\n",
       "      <th>CMA</th>\n",
       "      <td>-0.471425</td>\n",
       "      <td>-0.086428</td>\n",
       "      <td>0.646585</td>\n",
       "      <td>0.295510</td>\n",
       "      <td>1.000000</td>\n",
       "      <td>-0.093562</td>\n",
       "    </tr>\n",
       "    <tr>\n",
       "      <th>RF</th>\n",
       "      <td>0.067500</td>\n",
       "      <td>-0.010683</td>\n",
       "      <td>-0.059453</td>\n",
       "      <td>0.002866</td>\n",
       "      <td>-0.093562</td>\n",
       "      <td>1.000000</td>\n",
       "    </tr>\n",
       "  </tbody>\n",
       "</table>\n",
       "</div>"
      ],
      "text/plain": [
       "          Mkt-RF       SMB       HML       RMW       CMA        RF\n",
       "Mkt-RF  1.000000  0.218657 -0.391141 -0.372612 -0.471425  0.067500\n",
       "SMB     0.218657  1.000000  0.134794 -0.430618 -0.086428 -0.010683\n",
       "HML    -0.391141  0.134794  1.000000  0.356232  0.646585 -0.059453\n",
       "RMW    -0.372612 -0.430618  0.356232  1.000000  0.295510  0.002866\n",
       "CMA    -0.471425 -0.086428  0.646585  0.295510  1.000000 -0.093562\n",
       "RF      0.067500 -0.010683 -0.059453  0.002866 -0.093562  1.000000"
      ]
     },
     "execution_count": 18,
     "metadata": {},
     "output_type": "execute_result"
    }
   ],
   "source": [
    "daily_factor_data.corr()"
   ]
  },
  {
   "cell_type": "markdown",
   "id": "26b44709-00c9-4b26-8313-d6a37a4637e1",
   "metadata": {},
   "source": [
    "Let us provide a heatmap visualization for this table of correlations"
   ]
  },
  {
   "cell_type": "code",
   "execution_count": 20,
   "id": "daf2ae14-6b10-4de5-9d43-00dce4461a80",
   "metadata": {},
   "outputs": [
    {
     "data": {
      "text/plain": [
       "<Axes: >"
      ]
     },
     "execution_count": 20,
     "metadata": {},
     "output_type": "execute_result"
    },
    {
     "data": {
      "image/png": "[encoded data removed]",
      "text/plain": [
       "<Figure size 640x480 with 2 Axes>"
      ]
     },
     "metadata": {},
     "output_type": "display_data"
    }
   ],
   "source": [
    "sns.heatmap(daily_factor_data.corr())"
   ]
  },
  {
   "cell_type": "markdown",
   "id": "1499cd4a-90fa-4d2e-9021-f20e6401992a",
   "metadata": {},
   "source": [
    "Now, our task is to collect some economic data for this period"
   ]
  },
  {
   "cell_type": "markdown",
   "id": "db78559d-9a8e-4b05-aefb-e34548000c7c",
   "metadata": {},
   "source": [
    "Crude Oil Prices - daily https://fred.stlouisfed.org/series/DCOILWTICO\n",
    "\n",
    "Market Yield on U.S. Treasury Securities at 10-Year Constant Maturity, Quoted on an Investment Basis (DGS10) https://fred.stlouisfed.org/series/DGS10\n"
   ]
  },
  {
   "cell_type": "markdown",
   "id": "a994c500-63e8-4958-9bfa-3ee80618c223",
   "metadata": {},
   "source": [
    "## Step 3"
   ]
  },
  {
   "cell_type": "markdown",
   "id": "3a0a88bd-2d3e-4179-a699-520bb0fd5ca6",
   "metadata": {},
   "source": [
    "Let us take the apple stock as an example and find the FF3 betas using Linear Regression"
   ]
  },
  {
   "cell_type": "code",
   "execution_count": 244,
   "id": "743c2fd1-c62d-4193-8817-f5820c27364d",
   "metadata": {},
   "outputs": [
    {
     "name": "stderr",
     "output_type": "stream",
     "text": [
      "[*********************100%***********************]  1 of 1 completed\n"
     ]
    }
   ],
   "source": [
    "stock_data = yf.download(\"AAPL\", start=\"2021-12-31\", end=\"2025-01-01\")"
   ]
  },
  {
   "cell_type": "code",
   "execution_count": 246,
   "id": "64a3dee5-b6af-4022-93e7-617acef208c8",
   "metadata": {},
   "outputs": [
    {
     "data": {
      "text/html": [
       "<div>\n",
       "<style scoped>\n",
       "    .dataframe tbody tr th:only-of-type {\n",
       "        vertical-align: middle;\n",
       "    }\n",
       "\n",
       "    .dataframe tbody tr th {\n",
       "        vertical-align: top;\n",
       "    }\n",
       "\n",
       "    .dataframe thead tr th {\n",
       "        text-align: left;\n",
       "    }\n",
       "\n",
       "    .dataframe thead tr:last-of-type th {\n",
       "        text-align: right;\n",
       "    }\n",
       "</style>\n",
       "<table border=\"1\" class=\"dataframe\">\n",
       "  <thead>\n",
       "    <tr>\n",
       "      <th>Price</th>\n",
       "      <th>Close</th>\n",
       "      <th>High</th>\n",
       "      <th>Low</th>\n",
       "      <th>Open</th>\n",
       "      <th>Volume</th>\n",
       "    </tr>\n",
       "    <tr>\n",
       "      <th>Ticker</th>\n",
       "      <th>AAPL</th>\n",
       "      <th>AAPL</th>\n",
       "      <th>AAPL</th>\n",
       "      <th>AAPL</th>\n",
       "      <th>AAPL</th>\n",
       "    </tr>\n",
       "    <tr>\n",
       "      <th>Date</th>\n",
       "      <th></th>\n",
       "      <th></th>\n",
       "      <th></th>\n",
       "      <th></th>\n",
       "      <th></th>\n",
       "    </tr>\n",
       "  </thead>\n",
       "  <tbody>\n",
       "    <tr>\n",
       "      <th>2021-12-31</th>\n",
       "      <td>174.516281</td>\n",
       "      <td>176.147722</td>\n",
       "      <td>174.211600</td>\n",
       "      <td>175.027328</td>\n",
       "      <td>64062300</td>\n",
       "    </tr>\n",
       "    <tr>\n",
       "      <th>2022-01-03</th>\n",
       "      <td>178.879913</td>\n",
       "      <td>179.734962</td>\n",
       "      <td>174.653874</td>\n",
       "      <td>174.771805</td>\n",
       "      <td>104487900</td>\n",
       "    </tr>\n",
       "    <tr>\n",
       "      <th>2022-01-04</th>\n",
       "      <td>176.609634</td>\n",
       "      <td>179.793920</td>\n",
       "      <td>176.039607</td>\n",
       "      <td>179.489254</td>\n",
       "      <td>99310400</td>\n",
       "    </tr>\n",
       "    <tr>\n",
       "      <th>2022-01-05</th>\n",
       "      <td>171.911835</td>\n",
       "      <td>177.071549</td>\n",
       "      <td>171.636651</td>\n",
       "      <td>176.521181</td>\n",
       "      <td>94537600</td>\n",
       "    </tr>\n",
       "    <tr>\n",
       "      <th>2022-01-06</th>\n",
       "      <td>169.042068</td>\n",
       "      <td>172.285320</td>\n",
       "      <td>168.688259</td>\n",
       "      <td>169.730027</td>\n",
       "      <td>96904000</td>\n",
       "    </tr>\n",
       "    <tr>\n",
       "      <th>...</th>\n",
       "      <td>...</td>\n",
       "      <td>...</td>\n",
       "      <td>...</td>\n",
       "      <td>...</td>\n",
       "      <td>...</td>\n",
       "    </tr>\n",
       "    <tr>\n",
       "      <th>2024-12-24</th>\n",
       "      <td>257.916443</td>\n",
       "      <td>257.926411</td>\n",
       "      <td>255.009620</td>\n",
       "      <td>255.209412</td>\n",
       "      <td>23234700</td>\n",
       "    </tr>\n",
       "    <tr>\n",
       "      <th>2024-12-26</th>\n",
       "      <td>258.735504</td>\n",
       "      <td>259.814335</td>\n",
       "      <td>257.347047</td>\n",
       "      <td>257.906429</td>\n",
       "      <td>27237100</td>\n",
       "    </tr>\n",
       "    <tr>\n",
       "      <th>2024-12-27</th>\n",
       "      <td>255.309296</td>\n",
       "      <td>258.415896</td>\n",
       "      <td>252.782075</td>\n",
       "      <td>257.546826</td>\n",
       "      <td>42355300</td>\n",
       "    </tr>\n",
       "    <tr>\n",
       "      <th>2024-12-30</th>\n",
       "      <td>251.923019</td>\n",
       "      <td>253.221595</td>\n",
       "      <td>250.474615</td>\n",
       "      <td>251.952985</td>\n",
       "      <td>35557500</td>\n",
       "    </tr>\n",
       "    <tr>\n",
       "      <th>2024-12-31</th>\n",
       "      <td>250.144974</td>\n",
       "      <td>253.001833</td>\n",
       "      <td>249.156056</td>\n",
       "      <td>252.162760</td>\n",
       "      <td>39480700</td>\n",
       "    </tr>\n",
       "  </tbody>\n",
       "</table>\n",
       "<p>754 rows × 5 columns</p>\n",
       "</div>"
      ],
      "text/plain": [
       "Price            Close        High         Low        Open     Volume\n",
       "Ticker            AAPL        AAPL        AAPL        AAPL       AAPL\n",
       "Date                                                                 \n",
       "2021-12-31  174.516281  176.147722  174.211600  175.027328   64062300\n",
       "2022-01-03  178.879913  179.734962  174.653874  174.771805  104487900\n",
       "2022-01-04  176.609634  179.793920  176.039607  179.489254   99310400\n",
       "2022-01-05  171.911835  177.071549  171.636651  176.521181   94537600\n",
       "2022-01-06  169.042068  172.285320  168.688259  169.730027   96904000\n",
       "...                ...         ...         ...         ...        ...\n",
       "2024-12-24  257.916443  257.926411  255.009620  255.209412   23234700\n",
       "2024-12-26  258.735504  259.814335  257.347047  257.906429   27237100\n",
       "2024-12-27  255.309296  258.415896  252.782075  257.546826   42355300\n",
       "2024-12-30  251.923019  253.221595  250.474615  251.952985   35557500\n",
       "2024-12-31  250.144974  253.001833  249.156056  252.162760   39480700\n",
       "\n",
       "[754 rows x 5 columns]"
      ]
     },
     "execution_count": 246,
     "metadata": {},
     "output_type": "execute_result"
    }
   ],
   "source": [
    "stock_data"
   ]
  },
  {
   "cell_type": "code",
   "execution_count": 248,
   "id": "93110f9f-139b-43b9-99a6-a27ad7f04206",
   "metadata": {},
   "outputs": [],
   "source": [
    "y = stock_data[\"Close\"].pct_change().dropna()*100"
   ]
  },
  {
   "cell_type": "markdown",
   "id": "6b86f636-416c-4047-8f7d-058bacbea2ae",
   "metadata": {},
   "source": [
    "Let us take the apple stock as an example and find the FF5 betas using Linear Regression"
   ]
  },
  {
   "cell_type": "code",
   "execution_count": 251,
   "id": "d5537d87-3a18-4c7d-9e82-08e5ca1aee60",
   "metadata": {},
   "outputs": [
    {
     "data": {
      "text/html": [
       "<div>\n",
       "<style scoped>\n",
       "    .dataframe tbody tr th:only-of-type {\n",
       "        vertical-align: middle;\n",
       "    }\n",
       "\n",
       "    .dataframe tbody tr th {\n",
       "        vertical-align: top;\n",
       "    }\n",
       "\n",
       "    .dataframe thead th {\n",
       "        text-align: right;\n",
       "    }\n",
       "</style>\n",
       "<table border=\"1\" class=\"dataframe\">\n",
       "  <thead>\n",
       "    <tr style=\"text-align: right;\">\n",
       "      <th>Ticker</th>\n",
       "      <th>AAPL</th>\n",
       "    </tr>\n",
       "    <tr>\n",
       "      <th>Date</th>\n",
       "      <th></th>\n",
       "    </tr>\n",
       "  </thead>\n",
       "  <tbody>\n",
       "    <tr>\n",
       "      <th>2022-01-03</th>\n",
       "      <td>2.500416</td>\n",
       "    </tr>\n",
       "    <tr>\n",
       "      <th>2022-01-04</th>\n",
       "      <td>-1.269164</td>\n",
       "    </tr>\n",
       "    <tr>\n",
       "      <th>2022-01-05</th>\n",
       "      <td>-2.659991</td>\n",
       "    </tr>\n",
       "    <tr>\n",
       "      <th>2022-01-06</th>\n",
       "      <td>-1.669324</td>\n",
       "    </tr>\n",
       "    <tr>\n",
       "      <th>2022-01-07</th>\n",
       "      <td>0.098823</td>\n",
       "    </tr>\n",
       "    <tr>\n",
       "      <th>...</th>\n",
       "      <td>...</td>\n",
       "    </tr>\n",
       "    <tr>\n",
       "      <th>2024-12-24</th>\n",
       "      <td>1.147807</td>\n",
       "    </tr>\n",
       "    <tr>\n",
       "      <th>2024-12-26</th>\n",
       "      <td>0.317568</td>\n",
       "    </tr>\n",
       "    <tr>\n",
       "      <th>2024-12-27</th>\n",
       "      <td>-1.324213</td>\n",
       "    </tr>\n",
       "    <tr>\n",
       "      <th>2024-12-30</th>\n",
       "      <td>-1.326343</td>\n",
       "    </tr>\n",
       "    <tr>\n",
       "      <th>2024-12-31</th>\n",
       "      <td>-0.705789</td>\n",
       "    </tr>\n",
       "  </tbody>\n",
       "</table>\n",
       "<p>753 rows × 1 columns</p>\n",
       "</div>"
      ],
      "text/plain": [
       "Ticker          AAPL\n",
       "Date                \n",
       "2022-01-03  2.500416\n",
       "2022-01-04 -1.269164\n",
       "2022-01-05 -2.659991\n",
       "2022-01-06 -1.669324\n",
       "2022-01-07  0.098823\n",
       "...              ...\n",
       "2024-12-24  1.147807\n",
       "2024-12-26  0.317568\n",
       "2024-12-27 -1.324213\n",
       "2024-12-30 -1.326343\n",
       "2024-12-31 -0.705789\n",
       "\n",
       "[753 rows x 1 columns]"
      ]
     },
     "execution_count": 251,
     "metadata": {},
     "output_type": "execute_result"
    }
   ],
   "source": [
    "y #daily stock returns in percentage terms"
   ]
  },
  {
   "cell_type": "code",
   "execution_count": 293,
   "id": "a4a4f5db-3e6b-498e-939a-f09d7d446789",
   "metadata": {},
   "outputs": [],
   "source": [
    "X = daily_factor_data[[\"Mkt-RF\", \"SMB\",\t\"HML\"]]"
   ]
  },
  {
   "cell_type": "code",
   "execution_count": 295,
   "id": "e447e248-4227-44d9-a8ec-78104b544d43",
   "metadata": {},
   "outputs": [],
   "source": [
    "X_train, X_test, y_train, y_test = train_test_split(X, y, test_size=0.2, shuffle=False)"
   ]
  },
  {
   "cell_type": "code",
   "execution_count": 297,
   "id": "2595c518-ad3d-4937-8764-1120bdc9d245",
   "metadata": {},
   "outputs": [],
   "source": [
    "X_train = sm.add_constant(X_train)\n",
    "X_test = sm.add_constant(X_test)"
   ]
  },
  {
   "cell_type": "code",
   "execution_count": 259,
   "id": "9c730b57-eb87-421a-adc2-31b55cb249f1",
   "metadata": {},
   "outputs": [],
   "source": [
    "model = sm.OLS(y_train, X_train).fit()"
   ]
  },
  {
   "cell_type": "code",
   "execution_count": 261,
   "id": "fa07b0c8-6c3c-44ff-9eab-ee4e21348980",
   "metadata": {},
   "outputs": [],
   "source": [
    "y_pred = model.predict(X_test)"
   ]
  },
  {
   "cell_type": "code",
   "execution_count": 263,
   "id": "82635d54-a3f2-40a2-8b24-f17cc0a8506e",
   "metadata": {},
   "outputs": [
    {
     "data": {
      "text/plain": [
       "-0.2407466019132567"
      ]
     },
     "execution_count": 263,
     "metadata": {},
     "output_type": "execute_result"
    }
   ],
   "source": [
    "r2_score(y_pred, y_test)"
   ]
  },
  {
   "cell_type": "code",
   "execution_count": 265,
   "id": "7fa8068f-2411-4a0f-ba81-764da8a19415",
   "metadata": {},
   "outputs": [
    {
     "data": {
      "text/plain": [
       "0.6821173697496608"
      ]
     },
     "execution_count": 265,
     "metadata": {},
     "output_type": "execute_result"
    }
   ],
   "source": [
    "r2_score(y_train, model.predict(X_train))"
   ]
  },
  {
   "cell_type": "code",
   "execution_count": 267,
   "id": "d7adb4b7-7a79-45a2-8e71-5ad93fa1b748",
   "metadata": {},
   "outputs": [
    {
     "data": {
      "text/html": [
       "<table class=\"simpletable\">\n",
       "<caption>OLS Regression Results</caption>\n",
       "<tr>\n",
       "  <th>Dep. Variable:</th>          <td>AAPL</td>       <th>  R-squared:         </th> <td>   0.682</td> \n",
       "</tr>\n",
       "<tr>\n",
       "  <th>Model:</th>                   <td>OLS</td>       <th>  Adj. R-squared:    </th> <td>   0.681</td> \n",
       "</tr>\n",
       "<tr>\n",
       "  <th>Method:</th>             <td>Least Squares</td>  <th>  F-statistic:       </th> <td>   427.7</td> \n",
       "</tr>\n",
       "<tr>\n",
       "  <th>Date:</th>             <td>Tue, 29 Apr 2025</td> <th>  Prob (F-statistic):</th> <td>2.43e-148</td>\n",
       "</tr>\n",
       "<tr>\n",
       "  <th>Time:</th>                 <td>11:41:04</td>     <th>  Log-Likelihood:    </th> <td> -853.77</td> \n",
       "</tr>\n",
       "<tr>\n",
       "  <th>No. Observations:</th>      <td>   602</td>      <th>  AIC:               </th> <td>   1716.</td> \n",
       "</tr>\n",
       "<tr>\n",
       "  <th>Df Residuals:</th>          <td>   598</td>      <th>  BIC:               </th> <td>   1733.</td> \n",
       "</tr>\n",
       "<tr>\n",
       "  <th>Df Model:</th>              <td>     3</td>      <th>                     </th>     <td> </td>    \n",
       "</tr>\n",
       "<tr>\n",
       "  <th>Covariance Type:</th>      <td>nonrobust</td>    <th>                     </th>     <td> </td>    \n",
       "</tr>\n",
       "</table>\n",
       "<table class=\"simpletable\">\n",
       "<tr>\n",
       "     <td></td>       <th>coef</th>     <th>std err</th>      <th>t</th>      <th>P>|t|</th>  <th>[0.025</th>    <th>0.975]</th>  \n",
       "</tr>\n",
       "<tr>\n",
       "  <th>const</th>  <td>    0.0126</td> <td>    0.041</td> <td>    0.309</td> <td> 0.758</td> <td>   -0.068</td> <td>    0.093</td>\n",
       "</tr>\n",
       "<tr>\n",
       "  <th>Mkt-RF</th> <td>    1.1384</td> <td>    0.038</td> <td>   29.579</td> <td> 0.000</td> <td>    1.063</td> <td>    1.214</td>\n",
       "</tr>\n",
       "<tr>\n",
       "  <th>SMB</th>    <td>   -0.2977</td> <td>    0.063</td> <td>   -4.754</td> <td> 0.000</td> <td>   -0.421</td> <td>   -0.175</td>\n",
       "</tr>\n",
       "<tr>\n",
       "  <th>HML</th>    <td>   -0.2395</td> <td>    0.047</td> <td>   -5.082</td> <td> 0.000</td> <td>   -0.332</td> <td>   -0.147</td>\n",
       "</tr>\n",
       "</table>\n",
       "<table class=\"simpletable\">\n",
       "<tr>\n",
       "  <th>Omnibus:</th>       <td>53.411</td> <th>  Durbin-Watson:     </th> <td>   1.848</td>\n",
       "</tr>\n",
       "<tr>\n",
       "  <th>Prob(Omnibus):</th> <td> 0.000</td> <th>  Jarque-Bera (JB):  </th> <td> 279.870</td>\n",
       "</tr>\n",
       "<tr>\n",
       "  <th>Skew:</th>          <td> 0.093</td> <th>  Prob(JB):          </th> <td>1.69e-61</td>\n",
       "</tr>\n",
       "<tr>\n",
       "  <th>Kurtosis:</th>      <td> 6.335</td> <th>  Cond. No.          </th> <td>    2.14</td>\n",
       "</tr>\n",
       "</table><br/><br/>Notes:<br/>[1] Standard Errors assume that the covariance matrix of the errors is correctly specified."
      ],
      "text/latex": [
       "\\begin{center}\n",
       "\\begin{tabular}{lclc}\n",
       "\\toprule\n",
       "\\textbf{Dep. Variable:}    &       AAPL       & \\textbf{  R-squared:         } &     0.682   \\\\\n",
       "\\textbf{Model:}            &       OLS        & \\textbf{  Adj. R-squared:    } &     0.681   \\\\\n",
       "\\textbf{Method:}           &  Least Squares   & \\textbf{  F-statistic:       } &     427.7   \\\\\n",
       "\\textbf{Date:}             & Tue, 29 Apr 2025 & \\textbf{  Prob (F-statistic):} & 2.43e-148   \\\\\n",
       "\\textbf{Time:}             &     11:41:04     & \\textbf{  Log-Likelihood:    } &   -853.77   \\\\\n",
       "\\textbf{No. Observations:} &         602      & \\textbf{  AIC:               } &     1716.   \\\\\n",
       "\\textbf{Df Residuals:}     &         598      & \\textbf{  BIC:               } &     1733.   \\\\\n",
       "\\textbf{Df Model:}         &           3      & \\textbf{                     } &             \\\\\n",
       "\\textbf{Covariance Type:}  &    nonrobust     & \\textbf{                     } &             \\\\\n",
       "\\bottomrule\n",
       "\\end{tabular}\n",
       "\\begin{tabular}{lcccccc}\n",
       "                & \\textbf{coef} & \\textbf{std err} & \\textbf{t} & \\textbf{P$> |$t$|$} & \\textbf{[0.025} & \\textbf{0.975]}  \\\\\n",
       "\\midrule\n",
       "\\textbf{const}  &       0.0126  &        0.041     &     0.309  &         0.758        &       -0.068    &        0.093     \\\\\n",
       "\\textbf{Mkt-RF} &       1.1384  &        0.038     &    29.579  &         0.000        &        1.063    &        1.214     \\\\\n",
       "\\textbf{SMB}    &      -0.2977  &        0.063     &    -4.754  &         0.000        &       -0.421    &       -0.175     \\\\\n",
       "\\textbf{HML}    &      -0.2395  &        0.047     &    -5.082  &         0.000        &       -0.332    &       -0.147     \\\\\n",
       "\\bottomrule\n",
       "\\end{tabular}\n",
       "\\begin{tabular}{lclc}\n",
       "\\textbf{Omnibus:}       & 53.411 & \\textbf{  Durbin-Watson:     } &    1.848  \\\\\n",
       "\\textbf{Prob(Omnibus):} &  0.000 & \\textbf{  Jarque-Bera (JB):  } &  279.870  \\\\\n",
       "\\textbf{Skew:}          &  0.093 & \\textbf{  Prob(JB):          } & 1.69e-61  \\\\\n",
       "\\textbf{Kurtosis:}      &  6.335 & \\textbf{  Cond. No.          } &     2.14  \\\\\n",
       "\\bottomrule\n",
       "\\end{tabular}\n",
       "%\\caption{OLS Regression Results}\n",
       "\\end{center}\n",
       "\n",
       "Notes: \\newline\n",
       " [1] Standard Errors assume that the covariance matrix of the errors is correctly specified."
      ],
      "text/plain": [
       "<class 'statsmodels.iolib.summary.Summary'>\n",
       "\"\"\"\n",
       "                            OLS Regression Results                            \n",
       "==============================================================================\n",
       "Dep. Variable:                   AAPL   R-squared:                       0.682\n",
       "Model:                            OLS   Adj. R-squared:                  0.681\n",
       "Method:                 Least Squares   F-statistic:                     427.7\n",
       "Date:                Tue, 29 Apr 2025   Prob (F-statistic):          2.43e-148\n",
       "Time:                        11:41:04   Log-Likelihood:                -853.77\n",
       "No. Observations:                 602   AIC:                             1716.\n",
       "Df Residuals:                     598   BIC:                             1733.\n",
       "Df Model:                           3                                         \n",
       "Covariance Type:            nonrobust                                         \n",
       "==============================================================================\n",
       "                 coef    std err          t      P>|t|      [0.025      0.975]\n",
       "------------------------------------------------------------------------------\n",
       "const          0.0126      0.041      0.309      0.758      -0.068       0.093\n",
       "Mkt-RF         1.1384      0.038     29.579      0.000       1.063       1.214\n",
       "SMB           -0.2977      0.063     -4.754      0.000      -0.421      -0.175\n",
       "HML           -0.2395      0.047     -5.082      0.000      -0.332      -0.147\n",
       "==============================================================================\n",
       "Omnibus:                       53.411   Durbin-Watson:                   1.848\n",
       "Prob(Omnibus):                  0.000   Jarque-Bera (JB):              279.870\n",
       "Skew:                           0.093   Prob(JB):                     1.69e-61\n",
       "Kurtosis:                       6.335   Cond. No.                         2.14\n",
       "==============================================================================\n",
       "\n",
       "Notes:\n",
       "[1] Standard Errors assume that the covariance matrix of the errors is correctly specified.\n",
       "\"\"\""
      ]
     },
     "execution_count": 267,
     "metadata": {},
     "output_type": "execute_result"
    }
   ],
   "source": [
    "model.summary()"
   ]
  },
  {
   "cell_type": "markdown",
   "id": "024cb081-8af9-4a20-804e-81f438d1e4de",
   "metadata": {},
   "source": [
    "Now let us try Robust Linear Regression"
   ]
  },
  {
   "cell_type": "code",
   "execution_count": 301,
   "id": "001d6670-aa3e-4b05-b9e8-bfb72c9c79e5",
   "metadata": {},
   "outputs": [],
   "source": [
    "model = sm.RLM(y_train, X_train).fit()"
   ]
  },
  {
   "cell_type": "code",
   "execution_count": 303,
   "id": "91b30394-b388-4ace-afc4-3c66b3773f03",
   "metadata": {},
   "outputs": [],
   "source": [
    "y_pred = model.predict(X_test)"
   ]
  },
  {
   "cell_type": "code",
   "execution_count": 305,
   "id": "827a55c9-94c6-479e-91b3-9eeb416550ad",
   "metadata": {},
   "outputs": [
    {
     "data": {
      "text/plain": [
       "-0.29589208347589135"
      ]
     },
     "execution_count": 305,
     "metadata": {},
     "output_type": "execute_result"
    }
   ],
   "source": [
    "r2_score(y_pred, y_test)"
   ]
  },
  {
   "cell_type": "code",
   "execution_count": 307,
   "id": "49e44326-dfc0-49fd-a285-06cf899cf411",
   "metadata": {},
   "outputs": [
    {
     "data": {
      "text/plain": [
       "0.6815958469332709"
      ]
     },
     "execution_count": 307,
     "metadata": {},
     "output_type": "execute_result"
    }
   ],
   "source": [
    "r2_score(y_train, model.predict(X_train))"
   ]
  },
  {
   "cell_type": "code",
   "execution_count": 309,
   "id": "8e19329a-3560-4b9f-a3f7-bae649565ab5",
   "metadata": {},
   "outputs": [
    {
     "data": {
      "text/html": [
       "<table class=\"simpletable\">\n",
       "<caption>Robust linear Model Regression Results</caption>\n",
       "<tr>\n",
       "  <th>Dep. Variable:</th>        <td>AAPL</td>       <th>  No. Observations:  </th> <td>   602</td>\n",
       "</tr>\n",
       "<tr>\n",
       "  <th>Model:</th>                 <td>RLM</td>       <th>  Df Residuals:      </th> <td>   598</td>\n",
       "</tr>\n",
       "<tr>\n",
       "  <th>Method:</th>               <td>IRLS</td>       <th>  Df Model:          </th> <td>     3</td>\n",
       "</tr>\n",
       "<tr>\n",
       "  <th>Norm:</th>                <td>HuberT</td>      <th>                     </th>    <td> </td>  \n",
       "</tr>\n",
       "<tr>\n",
       "  <th>Scale Est.:</th>            <td>mad</td>       <th>                     </th>    <td> </td>  \n",
       "</tr>\n",
       "<tr>\n",
       "  <th>Cov Type:</th>              <td>H1</td>        <th>                     </th>    <td> </td>  \n",
       "</tr>\n",
       "<tr>\n",
       "  <th>Date:</th>           <td>Tue, 29 Apr 2025</td> <th>                     </th>    <td> </td>  \n",
       "</tr>\n",
       "<tr>\n",
       "  <th>Time:</th>               <td>11:53:30</td>     <th>                     </th>    <td> </td>  \n",
       "</tr>\n",
       "<tr>\n",
       "  <th>No. Iterations:</th>        <td>16</td>        <th>                     </th>    <td> </td>  \n",
       "</tr>\n",
       "</table>\n",
       "<table class=\"simpletable\">\n",
       "<tr>\n",
       "     <td></td>       <th>coef</th>     <th>std err</th>      <th>z</th>      <th>P>|z|</th>  <th>[0.025</th>    <th>0.975]</th>  \n",
       "</tr>\n",
       "<tr>\n",
       "  <th>const</th>  <td>    0.0174</td> <td>    0.034</td> <td>    0.516</td> <td> 0.606</td> <td>   -0.049</td> <td>    0.084</td>\n",
       "</tr>\n",
       "<tr>\n",
       "  <th>Mkt-RF</th> <td>    1.1099</td> <td>    0.032</td> <td>   34.927</td> <td> 0.000</td> <td>    1.048</td> <td>    1.172</td>\n",
       "</tr>\n",
       "<tr>\n",
       "  <th>SMB</th>    <td>   -0.3007</td> <td>    0.052</td> <td>   -5.815</td> <td> 0.000</td> <td>   -0.402</td> <td>   -0.199</td>\n",
       "</tr>\n",
       "<tr>\n",
       "  <th>HML</th>    <td>   -0.2290</td> <td>    0.039</td> <td>   -5.884</td> <td> 0.000</td> <td>   -0.305</td> <td>   -0.153</td>\n",
       "</tr>\n",
       "</table><br/><br/>If the model instance has been used for another fit with different fit parameters, then the fit options might not be the correct ones anymore ."
      ],
      "text/latex": [
       "\\begin{center}\n",
       "\\begin{tabular}{lclc}\n",
       "\\toprule\n",
       "\\textbf{Dep. Variable:}  &       AAPL       & \\textbf{  No. Observations:  } &      602    \\\\\n",
       "\\textbf{Model:}          &       RLM        & \\textbf{  Df Residuals:      } &      598    \\\\\n",
       "\\textbf{Method:}         &       IRLS       & \\textbf{  Df Model:          } &        3    \\\\\n",
       "\\textbf{Norm:}           &      HuberT      & \\textbf{                     } &             \\\\\n",
       "\\textbf{Scale Est.:}     &       mad        & \\textbf{                     } &             \\\\\n",
       "\\textbf{Cov Type:}       &        H1        & \\textbf{                     } &             \\\\\n",
       "\\textbf{Date:}           & Tue, 29 Apr 2025 & \\textbf{                     } &             \\\\\n",
       "\\textbf{Time:}           &     11:53:30     & \\textbf{                     } &             \\\\\n",
       "\\textbf{No. Iterations:} &        16        & \\textbf{                     } &             \\\\\n",
       "\\bottomrule\n",
       "\\end{tabular}\n",
       "\\begin{tabular}{lcccccc}\n",
       "                & \\textbf{coef} & \\textbf{std err} & \\textbf{z} & \\textbf{P$> |$z$|$} & \\textbf{[0.025} & \\textbf{0.975]}  \\\\\n",
       "\\midrule\n",
       "\\textbf{const}  &       0.0174  &        0.034     &     0.516  &         0.606        &       -0.049    &        0.084     \\\\\n",
       "\\textbf{Mkt-RF} &       1.1099  &        0.032     &    34.927  &         0.000        &        1.048    &        1.172     \\\\\n",
       "\\textbf{SMB}    &      -0.3007  &        0.052     &    -5.815  &         0.000        &       -0.402    &       -0.199     \\\\\n",
       "\\textbf{HML}    &      -0.2290  &        0.039     &    -5.884  &         0.000        &       -0.305    &       -0.153     \\\\\n",
       "\\bottomrule\n",
       "\\end{tabular}\n",
       "%\\caption{Robust linear Model Regression Results}\n",
       "\\end{center}\n",
       "\n",
       "If the model instance has been used for another fit with different fit parameters, then the fit options might not be the correct ones anymore ."
      ],
      "text/plain": [
       "<class 'statsmodels.iolib.summary.Summary'>\n",
       "\"\"\"\n",
       "                    Robust linear Model Regression Results                    \n",
       "==============================================================================\n",
       "Dep. Variable:                   AAPL   No. Observations:                  602\n",
       "Model:                            RLM   Df Residuals:                      598\n",
       "Method:                          IRLS   Df Model:                            3\n",
       "Norm:                          HuberT                                         \n",
       "Scale Est.:                       mad                                         \n",
       "Cov Type:                          H1                                         \n",
       "Date:                Tue, 29 Apr 2025                                         \n",
       "Time:                        11:53:30                                         \n",
       "No. Iterations:                    16                                         \n",
       "==============================================================================\n",
       "                 coef    std err          z      P>|z|      [0.025      0.975]\n",
       "------------------------------------------------------------------------------\n",
       "const          0.0174      0.034      0.516      0.606      -0.049       0.084\n",
       "Mkt-RF         1.1099      0.032     34.927      0.000       1.048       1.172\n",
       "SMB           -0.3007      0.052     -5.815      0.000      -0.402      -0.199\n",
       "HML           -0.2290      0.039     -5.884      0.000      -0.305      -0.153\n",
       "==============================================================================\n",
       "\n",
       "If the model instance has been used for another fit with different fit parameters, then the fit options might not be the correct ones anymore .\n",
       "\"\"\""
      ]
     },
     "execution_count": 309,
     "metadata": {},
     "output_type": "execute_result"
    }
   ],
   "source": [
    "model.summary()"
   ]
  },
  {
   "cell_type": "markdown",
   "id": "01c56771-96cd-4464-a495-bb05a6a0bca2",
   "metadata": {},
   "source": [
    "## Step 4"
   ]
  },
  {
   "cell_type": "code",
   "execution_count": 311,
   "id": "1ca22171-b343-4e17-bd14-9cf1d1316e0d",
   "metadata": {},
   "outputs": [
    {
     "data": {
      "text/html": [
       "<div>\n",
       "<style scoped>\n",
       "    .dataframe tbody tr th:only-of-type {\n",
       "        vertical-align: middle;\n",
       "    }\n",
       "\n",
       "    .dataframe tbody tr th {\n",
       "        vertical-align: top;\n",
       "    }\n",
       "\n",
       "    .dataframe thead th {\n",
       "        text-align: right;\n",
       "    }\n",
       "</style>\n",
       "<table border=\"1\" class=\"dataframe\">\n",
       "  <thead>\n",
       "    <tr style=\"text-align: right;\">\n",
       "      <th></th>\n",
       "      <th>Mkt-RF</th>\n",
       "      <th>SMB</th>\n",
       "      <th>HML</th>\n",
       "      <th>RMW</th>\n",
       "      <th>CMA</th>\n",
       "    </tr>\n",
       "    <tr>\n",
       "      <th>Year</th>\n",
       "      <th></th>\n",
       "      <th></th>\n",
       "      <th></th>\n",
       "      <th></th>\n",
       "      <th></th>\n",
       "    </tr>\n",
       "  </thead>\n",
       "  <tbody>\n",
       "    <tr>\n",
       "      <th>2022-01-03</th>\n",
       "      <td>0.73</td>\n",
       "      <td>0.42</td>\n",
       "      <td>0.80</td>\n",
       "      <td>-1.17</td>\n",
       "      <td>0.59</td>\n",
       "    </tr>\n",
       "    <tr>\n",
       "      <th>2022-01-04</th>\n",
       "      <td>-0.29</td>\n",
       "      <td>-0.08</td>\n",
       "      <td>3.64</td>\n",
       "      <td>0.63</td>\n",
       "      <td>1.47</td>\n",
       "    </tr>\n",
       "    <tr>\n",
       "      <th>2022-01-05</th>\n",
       "      <td>-2.28</td>\n",
       "      <td>-0.94</td>\n",
       "      <td>2.59</td>\n",
       "      <td>1.39</td>\n",
       "      <td>1.25</td>\n",
       "    </tr>\n",
       "    <tr>\n",
       "      <th>2022-01-06</th>\n",
       "      <td>0.00</td>\n",
       "      <td>0.38</td>\n",
       "      <td>1.75</td>\n",
       "      <td>-0.56</td>\n",
       "      <td>-0.01</td>\n",
       "    </tr>\n",
       "    <tr>\n",
       "      <th>2022-01-07</th>\n",
       "      <td>-0.48</td>\n",
       "      <td>-0.96</td>\n",
       "      <td>2.02</td>\n",
       "      <td>-0.12</td>\n",
       "      <td>0.85</td>\n",
       "    </tr>\n",
       "    <tr>\n",
       "      <th>...</th>\n",
       "      <td>...</td>\n",
       "      <td>...</td>\n",
       "      <td>...</td>\n",
       "      <td>...</td>\n",
       "      <td>...</td>\n",
       "    </tr>\n",
       "    <tr>\n",
       "      <th>2024-12-24</th>\n",
       "      <td>1.11</td>\n",
       "      <td>-0.12</td>\n",
       "      <td>-0.05</td>\n",
       "      <td>-0.13</td>\n",
       "      <td>-0.37</td>\n",
       "    </tr>\n",
       "    <tr>\n",
       "      <th>2024-12-26</th>\n",
       "      <td>0.02</td>\n",
       "      <td>1.09</td>\n",
       "      <td>-0.19</td>\n",
       "      <td>-0.44</td>\n",
       "      <td>0.35</td>\n",
       "    </tr>\n",
       "    <tr>\n",
       "      <th>2024-12-27</th>\n",
       "      <td>-1.17</td>\n",
       "      <td>-0.44</td>\n",
       "      <td>0.56</td>\n",
       "      <td>0.41</td>\n",
       "      <td>0.03</td>\n",
       "    </tr>\n",
       "    <tr>\n",
       "      <th>2024-12-30</th>\n",
       "      <td>-1.09</td>\n",
       "      <td>0.24</td>\n",
       "      <td>0.74</td>\n",
       "      <td>0.55</td>\n",
       "      <td>0.14</td>\n",
       "    </tr>\n",
       "    <tr>\n",
       "      <th>2024-12-31</th>\n",
       "      <td>-0.46</td>\n",
       "      <td>0.31</td>\n",
       "      <td>0.71</td>\n",
       "      <td>0.33</td>\n",
       "      <td>0.00</td>\n",
       "    </tr>\n",
       "  </tbody>\n",
       "</table>\n",
       "<p>753 rows × 5 columns</p>\n",
       "</div>"
      ],
      "text/plain": [
       "            Mkt-RF   SMB   HML   RMW   CMA\n",
       "Year                                      \n",
       "2022-01-03    0.73  0.42  0.80 -1.17  0.59\n",
       "2022-01-04   -0.29 -0.08  3.64  0.63  1.47\n",
       "2022-01-05   -2.28 -0.94  2.59  1.39  1.25\n",
       "2022-01-06    0.00  0.38  1.75 -0.56 -0.01\n",
       "2022-01-07   -0.48 -0.96  2.02 -0.12  0.85\n",
       "...            ...   ...   ...   ...   ...\n",
       "2024-12-24    1.11 -0.12 -0.05 -0.13 -0.37\n",
       "2024-12-26    0.02  1.09 -0.19 -0.44  0.35\n",
       "2024-12-27   -1.17 -0.44  0.56  0.41  0.03\n",
       "2024-12-30   -1.09  0.24  0.74  0.55  0.14\n",
       "2024-12-31   -0.46  0.31  0.71  0.33  0.00\n",
       "\n",
       "[753 rows x 5 columns]"
      ]
     },
     "execution_count": 311,
     "metadata": {},
     "output_type": "execute_result"
    }
   ],
   "source": [
    "X = daily_factor_data[[\"Mkt-RF\", \"SMB\",\t\"HML\", \"RMW\", \"CMA\"]]\n",
    "X"
   ]
  },
  {
   "cell_type": "markdown",
   "id": "50202068-0c4f-4c37-851e-444f7f5127ad",
   "metadata": {},
   "source": [
    "Now, let us find the betas for the factors by regressing the daily stock returns on them."
   ]
  },
  {
   "cell_type": "markdown",
   "id": "fc3c715e-dcfa-4e27-ba40-ce2a8bbe556b",
   "metadata": {},
   "source": [
    "We split the train and test sets chronologically. The first 80% of the data points are slotted in the train set, and the remainder in the test set."
   ]
  },
  {
   "cell_type": "code",
   "execution_count": 313,
   "id": "450950d4-0e38-4737-b77b-b857ea7e5db5",
   "metadata": {},
   "outputs": [
    {
     "data": {
      "text/html": [
       "<div>\n",
       "<style scoped>\n",
       "    .dataframe tbody tr th:only-of-type {\n",
       "        vertical-align: middle;\n",
       "    }\n",
       "\n",
       "    .dataframe tbody tr th {\n",
       "        vertical-align: top;\n",
       "    }\n",
       "\n",
       "    .dataframe thead th {\n",
       "        text-align: right;\n",
       "    }\n",
       "</style>\n",
       "<table border=\"1\" class=\"dataframe\">\n",
       "  <thead>\n",
       "    <tr style=\"text-align: right;\">\n",
       "      <th>Ticker</th>\n",
       "      <th>AAPL</th>\n",
       "    </tr>\n",
       "    <tr>\n",
       "      <th>Date</th>\n",
       "      <th></th>\n",
       "    </tr>\n",
       "  </thead>\n",
       "  <tbody>\n",
       "    <tr>\n",
       "      <th>2022-01-03</th>\n",
       "      <td>2.500416</td>\n",
       "    </tr>\n",
       "    <tr>\n",
       "      <th>2022-01-04</th>\n",
       "      <td>-1.269164</td>\n",
       "    </tr>\n",
       "    <tr>\n",
       "      <th>2022-01-05</th>\n",
       "      <td>-2.659991</td>\n",
       "    </tr>\n",
       "    <tr>\n",
       "      <th>2022-01-06</th>\n",
       "      <td>-1.669324</td>\n",
       "    </tr>\n",
       "    <tr>\n",
       "      <th>2022-01-07</th>\n",
       "      <td>0.098823</td>\n",
       "    </tr>\n",
       "    <tr>\n",
       "      <th>...</th>\n",
       "      <td>...</td>\n",
       "    </tr>\n",
       "    <tr>\n",
       "      <th>2024-05-20</th>\n",
       "      <td>0.616201</td>\n",
       "    </tr>\n",
       "    <tr>\n",
       "      <th>2024-05-21</th>\n",
       "      <td>0.685732</td>\n",
       "    </tr>\n",
       "    <tr>\n",
       "      <th>2024-05-22</th>\n",
       "      <td>-0.753835</td>\n",
       "    </tr>\n",
       "    <tr>\n",
       "      <th>2024-05-23</th>\n",
       "      <td>-2.105813</td>\n",
       "    </tr>\n",
       "    <tr>\n",
       "      <th>2024-05-24</th>\n",
       "      <td>1.658810</td>\n",
       "    </tr>\n",
       "  </tbody>\n",
       "</table>\n",
       "<p>602 rows × 1 columns</p>\n",
       "</div>"
      ],
      "text/plain": [
       "Ticker          AAPL\n",
       "Date                \n",
       "2022-01-03  2.500416\n",
       "2022-01-04 -1.269164\n",
       "2022-01-05 -2.659991\n",
       "2022-01-06 -1.669324\n",
       "2022-01-07  0.098823\n",
       "...              ...\n",
       "2024-05-20  0.616201\n",
       "2024-05-21  0.685732\n",
       "2024-05-22 -0.753835\n",
       "2024-05-23 -2.105813\n",
       "2024-05-24  1.658810\n",
       "\n",
       "[602 rows x 1 columns]"
      ]
     },
     "execution_count": 313,
     "metadata": {},
     "output_type": "execute_result"
    }
   ],
   "source": [
    "y_train"
   ]
  },
  {
   "cell_type": "code",
   "execution_count": 315,
   "id": "1a4473a5-0498-4f48-b703-15abae656e20",
   "metadata": {},
   "outputs": [],
   "source": [
    "X_train, X_test, y_train, y_test = train_test_split(X, y, test_size=0.2, shuffle=False)"
   ]
  },
  {
   "cell_type": "code",
   "execution_count": 317,
   "id": "1f6b9769-2ec2-4756-a138-b1c40a255a90",
   "metadata": {},
   "outputs": [],
   "source": [
    "X_train = sm.add_constant(X_train)\n",
    "X_test = sm.add_constant(X_test)"
   ]
  },
  {
   "cell_type": "code",
   "execution_count": 319,
   "id": "9bdc36dc-8541-4085-b9b7-f55a078034b2",
   "metadata": {},
   "outputs": [
    {
     "data": {
      "text/html": [
       "<div>\n",
       "<style scoped>\n",
       "    .dataframe tbody tr th:only-of-type {\n",
       "        vertical-align: middle;\n",
       "    }\n",
       "\n",
       "    .dataframe tbody tr th {\n",
       "        vertical-align: top;\n",
       "    }\n",
       "\n",
       "    .dataframe thead th {\n",
       "        text-align: right;\n",
       "    }\n",
       "</style>\n",
       "<table border=\"1\" class=\"dataframe\">\n",
       "  <thead>\n",
       "    <tr style=\"text-align: right;\">\n",
       "      <th></th>\n",
       "      <th>const</th>\n",
       "      <th>Mkt-RF</th>\n",
       "      <th>SMB</th>\n",
       "      <th>HML</th>\n",
       "      <th>RMW</th>\n",
       "      <th>CMA</th>\n",
       "    </tr>\n",
       "    <tr>\n",
       "      <th>Year</th>\n",
       "      <th></th>\n",
       "      <th></th>\n",
       "      <th></th>\n",
       "      <th></th>\n",
       "      <th></th>\n",
       "      <th></th>\n",
       "    </tr>\n",
       "  </thead>\n",
       "  <tbody>\n",
       "    <tr>\n",
       "      <th>2022-01-03</th>\n",
       "      <td>1.0</td>\n",
       "      <td>0.73</td>\n",
       "      <td>0.42</td>\n",
       "      <td>0.80</td>\n",
       "      <td>-1.17</td>\n",
       "      <td>0.59</td>\n",
       "    </tr>\n",
       "    <tr>\n",
       "      <th>2022-01-04</th>\n",
       "      <td>1.0</td>\n",
       "      <td>-0.29</td>\n",
       "      <td>-0.08</td>\n",
       "      <td>3.64</td>\n",
       "      <td>0.63</td>\n",
       "      <td>1.47</td>\n",
       "    </tr>\n",
       "    <tr>\n",
       "      <th>2022-01-05</th>\n",
       "      <td>1.0</td>\n",
       "      <td>-2.28</td>\n",
       "      <td>-0.94</td>\n",
       "      <td>2.59</td>\n",
       "      <td>1.39</td>\n",
       "      <td>1.25</td>\n",
       "    </tr>\n",
       "    <tr>\n",
       "      <th>2022-01-06</th>\n",
       "      <td>1.0</td>\n",
       "      <td>0.00</td>\n",
       "      <td>0.38</td>\n",
       "      <td>1.75</td>\n",
       "      <td>-0.56</td>\n",
       "      <td>-0.01</td>\n",
       "    </tr>\n",
       "    <tr>\n",
       "      <th>2022-01-07</th>\n",
       "      <td>1.0</td>\n",
       "      <td>-0.48</td>\n",
       "      <td>-0.96</td>\n",
       "      <td>2.02</td>\n",
       "      <td>-0.12</td>\n",
       "      <td>0.85</td>\n",
       "    </tr>\n",
       "    <tr>\n",
       "      <th>...</th>\n",
       "      <td>...</td>\n",
       "      <td>...</td>\n",
       "      <td>...</td>\n",
       "      <td>...</td>\n",
       "      <td>...</td>\n",
       "      <td>...</td>\n",
       "    </tr>\n",
       "    <tr>\n",
       "      <th>2024-05-20</th>\n",
       "      <td>1.0</td>\n",
       "      <td>0.14</td>\n",
       "      <td>0.16</td>\n",
       "      <td>-0.88</td>\n",
       "      <td>0.15</td>\n",
       "      <td>-0.66</td>\n",
       "    </tr>\n",
       "    <tr>\n",
       "      <th>2024-05-21</th>\n",
       "      <td>1.0</td>\n",
       "      <td>0.15</td>\n",
       "      <td>-0.43</td>\n",
       "      <td>0.19</td>\n",
       "      <td>0.41</td>\n",
       "      <td>-0.31</td>\n",
       "    </tr>\n",
       "    <tr>\n",
       "      <th>2024-05-22</th>\n",
       "      <td>1.0</td>\n",
       "      <td>-0.35</td>\n",
       "      <td>-0.40</td>\n",
       "      <td>-0.38</td>\n",
       "      <td>-0.44</td>\n",
       "      <td>-0.05</td>\n",
       "    </tr>\n",
       "    <tr>\n",
       "      <th>2024-05-23</th>\n",
       "      <td>1.0</td>\n",
       "      <td>-0.85</td>\n",
       "      <td>-0.67</td>\n",
       "      <td>-0.64</td>\n",
       "      <td>1.30</td>\n",
       "      <td>-0.64</td>\n",
       "    </tr>\n",
       "    <tr>\n",
       "      <th>2024-05-24</th>\n",
       "      <td>1.0</td>\n",
       "      <td>0.72</td>\n",
       "      <td>0.13</td>\n",
       "      <td>0.23</td>\n",
       "      <td>0.34</td>\n",
       "      <td>-0.34</td>\n",
       "    </tr>\n",
       "  </tbody>\n",
       "</table>\n",
       "<p>602 rows × 6 columns</p>\n",
       "</div>"
      ],
      "text/plain": [
       "            const  Mkt-RF   SMB   HML   RMW   CMA\n",
       "Year                                             \n",
       "2022-01-03    1.0    0.73  0.42  0.80 -1.17  0.59\n",
       "2022-01-04    1.0   -0.29 -0.08  3.64  0.63  1.47\n",
       "2022-01-05    1.0   -2.28 -0.94  2.59  1.39  1.25\n",
       "2022-01-06    1.0    0.00  0.38  1.75 -0.56 -0.01\n",
       "2022-01-07    1.0   -0.48 -0.96  2.02 -0.12  0.85\n",
       "...           ...     ...   ...   ...   ...   ...\n",
       "2024-05-20    1.0    0.14  0.16 -0.88  0.15 -0.66\n",
       "2024-05-21    1.0    0.15 -0.43  0.19  0.41 -0.31\n",
       "2024-05-22    1.0   -0.35 -0.40 -0.38 -0.44 -0.05\n",
       "2024-05-23    1.0   -0.85 -0.67 -0.64  1.30 -0.64\n",
       "2024-05-24    1.0    0.72  0.13  0.23  0.34 -0.34\n",
       "\n",
       "[602 rows x 6 columns]"
      ]
     },
     "execution_count": 319,
     "metadata": {},
     "output_type": "execute_result"
    }
   ],
   "source": [
    "X_train"
   ]
  },
  {
   "cell_type": "code",
   "execution_count": 281,
   "id": "97a57e51-8945-4fa6-8f5d-1d974f493e97",
   "metadata": {},
   "outputs": [],
   "source": [
    "model = sm.OLS(y_train, X_train).fit()"
   ]
  },
  {
   "cell_type": "code",
   "execution_count": 283,
   "id": "731b762b-f2d0-4554-b902-627315cacae8",
   "metadata": {},
   "outputs": [],
   "source": [
    "y_pred = model.predict(X_test)"
   ]
  },
  {
   "cell_type": "code",
   "execution_count": 285,
   "id": "0b9a150d-3add-4ddc-ac4f-73c03f25b2f1",
   "metadata": {},
   "outputs": [
    {
     "data": {
      "text/plain": [
       "0.2240590671214202"
      ]
     },
     "execution_count": 285,
     "metadata": {},
     "output_type": "execute_result"
    }
   ],
   "source": [
    "r2_score(y_test, y_pred)"
   ]
  },
  {
   "cell_type": "code",
   "execution_count": 287,
   "id": "88f9823d-4a5f-4684-a065-b51a0d495575",
   "metadata": {},
   "outputs": [
    {
     "data": {
      "text/plain": [
       "0.7059768342175827"
      ]
     },
     "execution_count": 287,
     "metadata": {},
     "output_type": "execute_result"
    }
   ],
   "source": [
    "r2_score(y_train, model.predict(X_train))"
   ]
  },
  {
   "cell_type": "code",
   "execution_count": 289,
   "id": "b5f93ad9-4739-45b8-9520-e11c46e6b705",
   "metadata": {},
   "outputs": [
    {
     "data": {
      "text/plain": [
       "const     0.013676\n",
       "Mkt-RF    1.234829\n",
       "SMB      -0.105133\n",
       "HML      -0.570806\n",
       "RMW       0.357829\n",
       "CMA       0.544287\n",
       "dtype: float64"
      ]
     },
     "execution_count": 289,
     "metadata": {},
     "output_type": "execute_result"
    }
   ],
   "source": [
    "model.params"
   ]
  },
  {
   "cell_type": "code",
   "execution_count": 291,
   "id": "0fa6276d-b626-4d97-bb60-c73366d71976",
   "metadata": {},
   "outputs": [
    {
     "data": {
      "text/html": [
       "<table class=\"simpletable\">\n",
       "<caption>OLS Regression Results</caption>\n",
       "<tr>\n",
       "  <th>Dep. Variable:</th>          <td>AAPL</td>       <th>  R-squared:         </th> <td>   0.706</td> \n",
       "</tr>\n",
       "<tr>\n",
       "  <th>Model:</th>                   <td>OLS</td>       <th>  Adj. R-squared:    </th> <td>   0.704</td> \n",
       "</tr>\n",
       "<tr>\n",
       "  <th>Method:</th>             <td>Least Squares</td>  <th>  F-statistic:       </th> <td>   286.2</td> \n",
       "</tr>\n",
       "<tr>\n",
       "  <th>Date:</th>             <td>Tue, 29 Apr 2025</td> <th>  Prob (F-statistic):</th> <td>8.75e-156</td>\n",
       "</tr>\n",
       "<tr>\n",
       "  <th>Time:</th>                 <td>11:42:33</td>     <th>  Log-Likelihood:    </th> <td> -830.28</td> \n",
       "</tr>\n",
       "<tr>\n",
       "  <th>No. Observations:</th>      <td>   602</td>      <th>  AIC:               </th> <td>   1673.</td> \n",
       "</tr>\n",
       "<tr>\n",
       "  <th>Df Residuals:</th>          <td>   596</td>      <th>  BIC:               </th> <td>   1699.</td> \n",
       "</tr>\n",
       "<tr>\n",
       "  <th>Df Model:</th>              <td>     5</td>      <th>                     </th>     <td> </td>    \n",
       "</tr>\n",
       "<tr>\n",
       "  <th>Covariance Type:</th>      <td>nonrobust</td>    <th>                     </th>     <td> </td>    \n",
       "</tr>\n",
       "</table>\n",
       "<table class=\"simpletable\">\n",
       "<tr>\n",
       "     <td></td>       <th>coef</th>     <th>std err</th>      <th>t</th>      <th>P>|t|</th>  <th>[0.025</th>    <th>0.975]</th>  \n",
       "</tr>\n",
       "<tr>\n",
       "  <th>const</th>  <td>    0.0137</td> <td>    0.039</td> <td>    0.347</td> <td> 0.729</td> <td>   -0.064</td> <td>    0.091</td>\n",
       "</tr>\n",
       "<tr>\n",
       "  <th>Mkt-RF</th> <td>    1.2348</td> <td>    0.040</td> <td>   30.886</td> <td> 0.000</td> <td>    1.156</td> <td>    1.313</td>\n",
       "</tr>\n",
       "<tr>\n",
       "  <th>SMB</th>    <td>   -0.1051</td> <td>    0.069</td> <td>   -1.533</td> <td> 0.126</td> <td>   -0.240</td> <td>    0.030</td>\n",
       "</tr>\n",
       "<tr>\n",
       "  <th>HML</th>    <td>   -0.5708</td> <td>    0.068</td> <td>   -8.405</td> <td> 0.000</td> <td>   -0.704</td> <td>   -0.437</td>\n",
       "</tr>\n",
       "<tr>\n",
       "  <th>RMW</th>    <td>    0.3578</td> <td>    0.074</td> <td>    4.864</td> <td> 0.000</td> <td>    0.213</td> <td>    0.502</td>\n",
       "</tr>\n",
       "<tr>\n",
       "  <th>CMA</th>    <td>    0.5443</td> <td>    0.103</td> <td>    5.263</td> <td> 0.000</td> <td>    0.341</td> <td>    0.747</td>\n",
       "</tr>\n",
       "</table>\n",
       "<table class=\"simpletable\">\n",
       "<tr>\n",
       "  <th>Omnibus:</th>       <td>44.553</td> <th>  Durbin-Watson:     </th> <td>   1.823</td>\n",
       "</tr>\n",
       "<tr>\n",
       "  <th>Prob(Omnibus):</th> <td> 0.000</td> <th>  Jarque-Bera (JB):  </th> <td> 196.682</td>\n",
       "</tr>\n",
       "<tr>\n",
       "  <th>Skew:</th>          <td> 0.022</td> <th>  Prob(JB):          </th> <td>1.95e-43</td>\n",
       "</tr>\n",
       "<tr>\n",
       "  <th>Kurtosis:</th>      <td> 5.800</td> <th>  Cond. No.          </th> <td>    4.39</td>\n",
       "</tr>\n",
       "</table><br/><br/>Notes:<br/>[1] Standard Errors assume that the covariance matrix of the errors is correctly specified."
      ],
      "text/latex": [
       "\\begin{center}\n",
       "\\begin{tabular}{lclc}\n",
       "\\toprule\n",
       "\\textbf{Dep. Variable:}    &       AAPL       & \\textbf{  R-squared:         } &     0.706   \\\\\n",
       "\\textbf{Model:}            &       OLS        & \\textbf{  Adj. R-squared:    } &     0.704   \\\\\n",
       "\\textbf{Method:}           &  Least Squares   & \\textbf{  F-statistic:       } &     286.2   \\\\\n",
       "\\textbf{Date:}             & Tue, 29 Apr 2025 & \\textbf{  Prob (F-statistic):} & 8.75e-156   \\\\\n",
       "\\textbf{Time:}             &     11:42:33     & \\textbf{  Log-Likelihood:    } &   -830.28   \\\\\n",
       "\\textbf{No. Observations:} &         602      & \\textbf{  AIC:               } &     1673.   \\\\\n",
       "\\textbf{Df Residuals:}     &         596      & \\textbf{  BIC:               } &     1699.   \\\\\n",
       "\\textbf{Df Model:}         &           5      & \\textbf{                     } &             \\\\\n",
       "\\textbf{Covariance Type:}  &    nonrobust     & \\textbf{                     } &             \\\\\n",
       "\\bottomrule\n",
       "\\end{tabular}\n",
       "\\begin{tabular}{lcccccc}\n",
       "                & \\textbf{coef} & \\textbf{std err} & \\textbf{t} & \\textbf{P$> |$t$|$} & \\textbf{[0.025} & \\textbf{0.975]}  \\\\\n",
       "\\midrule\n",
       "\\textbf{const}  &       0.0137  &        0.039     &     0.347  &         0.729        &       -0.064    &        0.091     \\\\\n",
       "\\textbf{Mkt-RF} &       1.2348  &        0.040     &    30.886  &         0.000        &        1.156    &        1.313     \\\\\n",
       "\\textbf{SMB}    &      -0.1051  &        0.069     &    -1.533  &         0.126        &       -0.240    &        0.030     \\\\\n",
       "\\textbf{HML}    &      -0.5708  &        0.068     &    -8.405  &         0.000        &       -0.704    &       -0.437     \\\\\n",
       "\\textbf{RMW}    &       0.3578  &        0.074     &     4.864  &         0.000        &        0.213    &        0.502     \\\\\n",
       "\\textbf{CMA}    &       0.5443  &        0.103     &     5.263  &         0.000        &        0.341    &        0.747     \\\\\n",
       "\\bottomrule\n",
       "\\end{tabular}\n",
       "\\begin{tabular}{lclc}\n",
       "\\textbf{Omnibus:}       & 44.553 & \\textbf{  Durbin-Watson:     } &    1.823  \\\\\n",
       "\\textbf{Prob(Omnibus):} &  0.000 & \\textbf{  Jarque-Bera (JB):  } &  196.682  \\\\\n",
       "\\textbf{Skew:}          &  0.022 & \\textbf{  Prob(JB):          } & 1.95e-43  \\\\\n",
       "\\textbf{Kurtosis:}      &  5.800 & \\textbf{  Cond. No.          } &     4.39  \\\\\n",
       "\\bottomrule\n",
       "\\end{tabular}\n",
       "%\\caption{OLS Regression Results}\n",
       "\\end{center}\n",
       "\n",
       "Notes: \\newline\n",
       " [1] Standard Errors assume that the covariance matrix of the errors is correctly specified."
      ],
      "text/plain": [
       "<class 'statsmodels.iolib.summary.Summary'>\n",
       "\"\"\"\n",
       "                            OLS Regression Results                            \n",
       "==============================================================================\n",
       "Dep. Variable:                   AAPL   R-squared:                       0.706\n",
       "Model:                            OLS   Adj. R-squared:                  0.704\n",
       "Method:                 Least Squares   F-statistic:                     286.2\n",
       "Date:                Tue, 29 Apr 2025   Prob (F-statistic):          8.75e-156\n",
       "Time:                        11:42:33   Log-Likelihood:                -830.28\n",
       "No. Observations:                 602   AIC:                             1673.\n",
       "Df Residuals:                     596   BIC:                             1699.\n",
       "Df Model:                           5                                         \n",
       "Covariance Type:            nonrobust                                         \n",
       "==============================================================================\n",
       "                 coef    std err          t      P>|t|      [0.025      0.975]\n",
       "------------------------------------------------------------------------------\n",
       "const          0.0137      0.039      0.347      0.729      -0.064       0.091\n",
       "Mkt-RF         1.2348      0.040     30.886      0.000       1.156       1.313\n",
       "SMB           -0.1051      0.069     -1.533      0.126      -0.240       0.030\n",
       "HML           -0.5708      0.068     -8.405      0.000      -0.704      -0.437\n",
       "RMW            0.3578      0.074      4.864      0.000       0.213       0.502\n",
       "CMA            0.5443      0.103      5.263      0.000       0.341       0.747\n",
       "==============================================================================\n",
       "Omnibus:                       44.553   Durbin-Watson:                   1.823\n",
       "Prob(Omnibus):                  0.000   Jarque-Bera (JB):              196.682\n",
       "Skew:                           0.022   Prob(JB):                     1.95e-43\n",
       "Kurtosis:                       5.800   Cond. No.                         4.39\n",
       "==============================================================================\n",
       "\n",
       "Notes:\n",
       "[1] Standard Errors assume that the covariance matrix of the errors is correctly specified.\n",
       "\"\"\""
      ]
     },
     "execution_count": 291,
     "metadata": {},
     "output_type": "execute_result"
    }
   ],
   "source": [
    "model.summary()"
   ]
  },
  {
   "cell_type": "markdown",
   "id": "f061b25e-b6a1-4140-94a0-e8bfbaf31de9",
   "metadata": {},
   "source": [
    "Now let us try robust linear regression"
   ]
  },
  {
   "cell_type": "code",
   "execution_count": 322,
   "id": "4014fad8-7208-4d6b-a8d6-5ebfb2392867",
   "metadata": {},
   "outputs": [],
   "source": [
    "model = sm.RLM(y_train, X_train).fit()"
   ]
  },
  {
   "cell_type": "code",
   "execution_count": 324,
   "id": "ac3b344c-2d81-4131-98d9-1ff89d127bb5",
   "metadata": {},
   "outputs": [],
   "source": [
    "y_pred = model.predict(X_test)"
   ]
  },
  {
   "cell_type": "code",
   "execution_count": 326,
   "id": "bcb0b32b-72cc-436f-84a7-f4ecea279b58",
   "metadata": {},
   "outputs": [
    {
     "data": {
      "text/plain": [
       "0.2653060258519431"
      ]
     },
     "execution_count": 326,
     "metadata": {},
     "output_type": "execute_result"
    }
   ],
   "source": [
    "r2_score(y_test, y_pred)"
   ]
  },
  {
   "cell_type": "code",
   "execution_count": 328,
   "id": "7dde355b-f159-4203-bf09-81b76ee9abf9",
   "metadata": {},
   "outputs": [
    {
     "data": {
      "text/plain": [
       "0.7044650991387293"
      ]
     },
     "execution_count": 328,
     "metadata": {},
     "output_type": "execute_result"
    }
   ],
   "source": [
    "r2_score(y_train, model.predict(X_train))"
   ]
  },
  {
   "cell_type": "code",
   "execution_count": 330,
   "id": "20f147c2-ffd2-4a3c-9c1d-9e3730c5d5fd",
   "metadata": {},
   "outputs": [
    {
     "data": {
      "text/html": [
       "<table class=\"simpletable\">\n",
       "<caption>Robust linear Model Regression Results</caption>\n",
       "<tr>\n",
       "  <th>Dep. Variable:</th>        <td>AAPL</td>       <th>  No. Observations:  </th> <td>   602</td>\n",
       "</tr>\n",
       "<tr>\n",
       "  <th>Model:</th>                 <td>RLM</td>       <th>  Df Residuals:      </th> <td>   596</td>\n",
       "</tr>\n",
       "<tr>\n",
       "  <th>Method:</th>               <td>IRLS</td>       <th>  Df Model:          </th> <td>     5</td>\n",
       "</tr>\n",
       "<tr>\n",
       "  <th>Norm:</th>                <td>HuberT</td>      <th>                     </th>    <td> </td>  \n",
       "</tr>\n",
       "<tr>\n",
       "  <th>Scale Est.:</th>            <td>mad</td>       <th>                     </th>    <td> </td>  \n",
       "</tr>\n",
       "<tr>\n",
       "  <th>Cov Type:</th>              <td>H1</td>        <th>                     </th>    <td> </td>  \n",
       "</tr>\n",
       "<tr>\n",
       "  <th>Date:</th>           <td>Tue, 29 Apr 2025</td> <th>                     </th>    <td> </td>  \n",
       "</tr>\n",
       "<tr>\n",
       "  <th>Time:</th>               <td>11:58:12</td>     <th>                     </th>    <td> </td>  \n",
       "</tr>\n",
       "<tr>\n",
       "  <th>No. Iterations:</th>        <td>16</td>        <th>                     </th>    <td> </td>  \n",
       "</tr>\n",
       "</table>\n",
       "<table class=\"simpletable\">\n",
       "<tr>\n",
       "     <td></td>       <th>coef</th>     <th>std err</th>      <th>z</th>      <th>P>|z|</th>  <th>[0.025</th>    <th>0.975]</th>  \n",
       "</tr>\n",
       "<tr>\n",
       "  <th>const</th>  <td>    0.0181</td> <td>    0.034</td> <td>    0.536</td> <td> 0.592</td> <td>   -0.048</td> <td>    0.084</td>\n",
       "</tr>\n",
       "<tr>\n",
       "  <th>Mkt-RF</th> <td>    1.1860</td> <td>    0.034</td> <td>   34.610</td> <td> 0.000</td> <td>    1.119</td> <td>    1.253</td>\n",
       "</tr>\n",
       "<tr>\n",
       "  <th>SMB</th>    <td>   -0.1377</td> <td>    0.059</td> <td>   -2.343</td> <td> 0.019</td> <td>   -0.253</td> <td>   -0.023</td>\n",
       "</tr>\n",
       "<tr>\n",
       "  <th>HML</th>    <td>   -0.4891</td> <td>    0.058</td> <td>   -8.402</td> <td> 0.000</td> <td>   -0.603</td> <td>   -0.375</td>\n",
       "</tr>\n",
       "<tr>\n",
       "  <th>RMW</th>    <td>    0.2968</td> <td>    0.063</td> <td>    4.707</td> <td> 0.000</td> <td>    0.173</td> <td>    0.420</td>\n",
       "</tr>\n",
       "<tr>\n",
       "  <th>CMA</th>    <td>    0.4115</td> <td>    0.089</td> <td>    4.643</td> <td> 0.000</td> <td>    0.238</td> <td>    0.585</td>\n",
       "</tr>\n",
       "</table><br/><br/>If the model instance has been used for another fit with different fit parameters, then the fit options might not be the correct ones anymore ."
      ],
      "text/latex": [
       "\\begin{center}\n",
       "\\begin{tabular}{lclc}\n",
       "\\toprule\n",
       "\\textbf{Dep. Variable:}  &       AAPL       & \\textbf{  No. Observations:  } &      602    \\\\\n",
       "\\textbf{Model:}          &       RLM        & \\textbf{  Df Residuals:      } &      596    \\\\\n",
       "\\textbf{Method:}         &       IRLS       & \\textbf{  Df Model:          } &        5    \\\\\n",
       "\\textbf{Norm:}           &      HuberT      & \\textbf{                     } &             \\\\\n",
       "\\textbf{Scale Est.:}     &       mad        & \\textbf{                     } &             \\\\\n",
       "\\textbf{Cov Type:}       &        H1        & \\textbf{                     } &             \\\\\n",
       "\\textbf{Date:}           & Tue, 29 Apr 2025 & \\textbf{                     } &             \\\\\n",
       "\\textbf{Time:}           &     11:58:12     & \\textbf{                     } &             \\\\\n",
       "\\textbf{No. Iterations:} &        16        & \\textbf{                     } &             \\\\\n",
       "\\bottomrule\n",
       "\\end{tabular}\n",
       "\\begin{tabular}{lcccccc}\n",
       "                & \\textbf{coef} & \\textbf{std err} & \\textbf{z} & \\textbf{P$> |$z$|$} & \\textbf{[0.025} & \\textbf{0.975]}  \\\\\n",
       "\\midrule\n",
       "\\textbf{const}  &       0.0181  &        0.034     &     0.536  &         0.592        &       -0.048    &        0.084     \\\\\n",
       "\\textbf{Mkt-RF} &       1.1860  &        0.034     &    34.610  &         0.000        &        1.119    &        1.253     \\\\\n",
       "\\textbf{SMB}    &      -0.1377  &        0.059     &    -2.343  &         0.019        &       -0.253    &       -0.023     \\\\\n",
       "\\textbf{HML}    &      -0.4891  &        0.058     &    -8.402  &         0.000        &       -0.603    &       -0.375     \\\\\n",
       "\\textbf{RMW}    &       0.2968  &        0.063     &     4.707  &         0.000        &        0.173    &        0.420     \\\\\n",
       "\\textbf{CMA}    &       0.4115  &        0.089     &     4.643  &         0.000        &        0.238    &        0.585     \\\\\n",
       "\\bottomrule\n",
       "\\end{tabular}\n",
       "%\\caption{Robust linear Model Regression Results}\n",
       "\\end{center}\n",
       "\n",
       "If the model instance has been used for another fit with different fit parameters, then the fit options might not be the correct ones anymore ."
      ],
      "text/plain": [
       "<class 'statsmodels.iolib.summary.Summary'>\n",
       "\"\"\"\n",
       "                    Robust linear Model Regression Results                    \n",
       "==============================================================================\n",
       "Dep. Variable:                   AAPL   No. Observations:                  602\n",
       "Model:                            RLM   Df Residuals:                      596\n",
       "Method:                          IRLS   Df Model:                            5\n",
       "Norm:                          HuberT                                         \n",
       "Scale Est.:                       mad                                         \n",
       "Cov Type:                          H1                                         \n",
       "Date:                Tue, 29 Apr 2025                                         \n",
       "Time:                        11:58:12                                         \n",
       "No. Iterations:                    16                                         \n",
       "==============================================================================\n",
       "                 coef    std err          z      P>|z|      [0.025      0.975]\n",
       "------------------------------------------------------------------------------\n",
       "const          0.0181      0.034      0.536      0.592      -0.048       0.084\n",
       "Mkt-RF         1.1860      0.034     34.610      0.000       1.119       1.253\n",
       "SMB           -0.1377      0.059     -2.343      0.019      -0.253      -0.023\n",
       "HML           -0.4891      0.058     -8.402      0.000      -0.603      -0.375\n",
       "RMW            0.2968      0.063      4.707      0.000       0.173       0.420\n",
       "CMA            0.4115      0.089      4.643      0.000       0.238       0.585\n",
       "==============================================================================\n",
       "\n",
       "If the model instance has been used for another fit with different fit parameters, then the fit options might not be the correct ones anymore .\n",
       "\"\"\""
      ]
     },
     "execution_count": 330,
     "metadata": {},
     "output_type": "execute_result"
    }
   ],
   "source": [
    "model.summary()"
   ]
  },
  {
   "cell_type": "code",
   "execution_count": null,
   "id": "44574a94-03d3-4e04-ae6b-84600c946688",
   "metadata": {},
   "outputs": [],
   "source": []
  }
 ],
 "metadata": {
  "kernelspec": {
   "display_name": "Python [conda env:base] *",
   "language": "python",
   "name": "conda-base-py"
  },
  "language_info": {
   "codemirror_mode": {
    "name": "ipython",
    "version": 3
   },
   "file_extension": ".py",
   "mimetype": "text/x-python",
   "name": "python",
   "nbconvert_exporter": "python",
   "pygments_lexer": "ipython3",
   "version": "3.12.7"
  }
 },
 "nbformat": 4,
 "nbformat_minor": 5
}
