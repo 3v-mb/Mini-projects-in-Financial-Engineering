{
 "cells": [
  {
   "cell_type": "markdown",
   "id": "c3f66673-d9f5-45ac-b932-4d228fd7b7df",
   "metadata": {},
   "source": [
    "## Step 1"
   ]
  },
  {
   "cell_type": "markdown",
   "id": "8412160b-b0ef-4994-bf6c-31a815411d4f",
   "metadata": {},
   "source": [
    "Let us first download five stocks for which we find plenty of news reports, analyst ratings and headlines."
   ]
  },
  {
   "cell_type": "code",
   "execution_count": 149,
   "id": "58901765-01f4-41b7-a27d-aada3fa5b5b5",
   "metadata": {},
   "outputs": [],
   "source": [
    "import pandas as pd\n",
    "import numpy as np\n",
    "import matplotlib.pyplot as plt\n",
    "import seaborn as sns\n",
    "import yfinance as yf\n",
    "from scipy.optimize import minimize\n",
    "np.set_printoptions(suppress=True, precision=10)"
   ]
  },
  {
   "cell_type": "markdown",
   "id": "60e56755-31e3-4ab2-9702-54518de603d9",
   "metadata": {},
   "source": [
    "the stocks chosen for this stock market are some big Indian companies and conglomerates: Tata Consultancy Services(TCS), Reliance Industries Limited(RIL), Maruti Suzuki Limited, Axis Bank, ITC.They represent the Technology, Chemical Industries and Fuel Refineries, Automobiles, Banking and FMCG sectors in that order."
   ]
  },
  {
   "cell_type": "markdown",
   "id": "0420ea9e-9ac1-4c48-99c0-b9cbf8d3c3af",
   "metadata": {},
   "source": [
    "Let us now download data regarding prices so that we have at least a 100 points regarding daily returns."
   ]
  },
  {
   "cell_type": "code",
   "execution_count": 87,
   "id": "5463d25c-3fbd-4911-9cb1-3738bb198fe1",
   "metadata": {},
   "outputs": [
    {
     "name": "stderr",
     "output_type": "stream",
     "text": [
      "[*********************100%***********************]  5 of 5 completed\n"
     ]
    }
   ],
   "source": [
    "tickers = ['TCS.NS', 'RELIANCE.NS', 'MARUTI.NS','AXISBANK.NS', 'ITC.NS']\n",
    "data = yf.download(tickers, start=\"2023-09-30\", end=\"2024-05-01\")[\"Close\"]"
   ]
  },
  {
   "cell_type": "code",
   "execution_count": 89,
   "id": "46365c85-7cfb-4a31-957d-f0f394124695",
   "metadata": {},
   "outputs": [
    {
     "data": {
      "text/html": [
       "<div>\n",
       "<style scoped>\n",
       "    .dataframe tbody tr th:only-of-type {\n",
       "        vertical-align: middle;\n",
       "    }\n",
       "\n",
       "    .dataframe tbody tr th {\n",
       "        vertical-align: top;\n",
       "    }\n",
       "\n",
       "    .dataframe thead th {\n",
       "        text-align: right;\n",
       "    }\n",
       "</style>\n",
       "<table border=\"1\" class=\"dataframe\">\n",
       "  <thead>\n",
       "    <tr style=\"text-align: right;\">\n",
       "      <th>Ticker</th>\n",
       "      <th>AXISBANK.NS</th>\n",
       "      <th>ITC.NS</th>\n",
       "      <th>MARUTI.NS</th>\n",
       "      <th>RELIANCE.NS</th>\n",
       "      <th>TCS.NS</th>\n",
       "    </tr>\n",
       "    <tr>\n",
       "      <th>Date</th>\n",
       "      <th></th>\n",
       "      <th></th>\n",
       "      <th></th>\n",
       "      <th></th>\n",
       "      <th></th>\n",
       "    </tr>\n",
       "  </thead>\n",
       "  <tbody>\n",
       "    <tr>\n",
       "      <th>2023-10-03</th>\n",
       "      <td>1040.247192</td>\n",
       "      <td>419.215027</td>\n",
       "      <td>10250.084961</td>\n",
       "      <td>1159.074951</td>\n",
       "      <td>3392.922363</td>\n",
       "    </tr>\n",
       "    <tr>\n",
       "      <th>2023-10-04</th>\n",
       "      <td>994.782227</td>\n",
       "      <td>415.735443</td>\n",
       "      <td>10035.064453</td>\n",
       "      <td>1157.074951</td>\n",
       "      <td>3415.999512</td>\n",
       "    </tr>\n",
       "    <tr>\n",
       "      <th>2023-10-05</th>\n",
       "      <td>1002.476318</td>\n",
       "      <td>415.687775</td>\n",
       "      <td>10114.614258</td>\n",
       "      <td>1157.050049</td>\n",
       "      <td>3465.824219</td>\n",
       "    </tr>\n",
       "    <tr>\n",
       "      <th>2023-10-06</th>\n",
       "      <td>1000.178101</td>\n",
       "      <td>421.502930</td>\n",
       "      <td>10205.653320</td>\n",
       "      <td>1159.000000</td>\n",
       "      <td>3496.770996</td>\n",
       "    </tr>\n",
       "    <tr>\n",
       "      <th>2023-10-09</th>\n",
       "      <td>995.481750</td>\n",
       "      <td>419.882324</td>\n",
       "      <td>10148.939453</td>\n",
       "      <td>1149.125000</td>\n",
       "      <td>3513.137939</td>\n",
       "    </tr>\n",
       "    <tr>\n",
       "      <th>...</th>\n",
       "      <td>...</td>\n",
       "      <td>...</td>\n",
       "      <td>...</td>\n",
       "      <td>...</td>\n",
       "      <td>...</td>\n",
       "    </tr>\n",
       "    <tr>\n",
       "      <th>2024-04-24</th>\n",
       "      <td>1062.430054</td>\n",
       "      <td>414.876678</td>\n",
       "      <td>12822.932617</td>\n",
       "      <td>1450.175049</td>\n",
       "      <td>3725.963135</td>\n",
       "    </tr>\n",
       "    <tr>\n",
       "      <th>2024-04-25</th>\n",
       "      <td>1126.130859</td>\n",
       "      <td>423.243866</td>\n",
       "      <td>12801.584961</td>\n",
       "      <td>1459.974976</td>\n",
       "      <td>3746.532959</td>\n",
       "    </tr>\n",
       "    <tr>\n",
       "      <th>2024-04-26</th>\n",
       "      <td>1129.428345</td>\n",
       "      <td>425.613770</td>\n",
       "      <td>12584.484375</td>\n",
       "      <td>1452.550049</td>\n",
       "      <td>3716.529297</td>\n",
       "    </tr>\n",
       "    <tr>\n",
       "      <th>2024-04-29</th>\n",
       "      <td>1158.356079</td>\n",
       "      <td>423.872650</td>\n",
       "      <td>12571.111328</td>\n",
       "      <td>1465.025024</td>\n",
       "      <td>3764.039062</td>\n",
       "    </tr>\n",
       "    <tr>\n",
       "      <th>2024-04-30</th>\n",
       "      <td>1165.000977</td>\n",
       "      <td>421.405975</td>\n",
       "      <td>12697.567383</td>\n",
       "      <td>1467.000000</td>\n",
       "      <td>3715.848145</td>\n",
       "    </tr>\n",
       "  </tbody>\n",
       "</table>\n",
       "<p>140 rows × 5 columns</p>\n",
       "</div>"
      ],
      "text/plain": [
       "Ticker      AXISBANK.NS      ITC.NS     MARUTI.NS  RELIANCE.NS       TCS.NS\n",
       "Date                                                                       \n",
       "2023-10-03  1040.247192  419.215027  10250.084961  1159.074951  3392.922363\n",
       "2023-10-04   994.782227  415.735443  10035.064453  1157.074951  3415.999512\n",
       "2023-10-05  1002.476318  415.687775  10114.614258  1157.050049  3465.824219\n",
       "2023-10-06  1000.178101  421.502930  10205.653320  1159.000000  3496.770996\n",
       "2023-10-09   995.481750  419.882324  10148.939453  1149.125000  3513.137939\n",
       "...                 ...         ...           ...          ...          ...\n",
       "2024-04-24  1062.430054  414.876678  12822.932617  1450.175049  3725.963135\n",
       "2024-04-25  1126.130859  423.243866  12801.584961  1459.974976  3746.532959\n",
       "2024-04-26  1129.428345  425.613770  12584.484375  1452.550049  3716.529297\n",
       "2024-04-29  1158.356079  423.872650  12571.111328  1465.025024  3764.039062\n",
       "2024-04-30  1165.000977  421.405975  12697.567383  1467.000000  3715.848145\n",
       "\n",
       "[140 rows x 5 columns]"
      ]
     },
     "execution_count": 89,
     "metadata": {},
     "output_type": "execute_result"
    }
   ],
   "source": [
    "data"
   ]
  },
  {
   "cell_type": "markdown",
   "id": "267d48bc-d67e-4244-8c3d-6375d5f1703c",
   "metadata": {},
   "source": [
    "I have downloaded the closing prices for all five stocks listed above. Now, I will calculate daily returns for all these stocks in percentage terms, and we will have 139 data points."
   ]
  },
  {
   "cell_type": "code",
   "execution_count": 92,
   "id": "fc62ce77-5226-4444-b1e6-eb49ac41cd0b",
   "metadata": {},
   "outputs": [],
   "source": [
    "daily_returns = data.pct_change().dropna()*100"
   ]
  },
  {
   "cell_type": "code",
   "execution_count": 94,
   "id": "20864dcd-9e19-4519-9027-edb224482286",
   "metadata": {},
   "outputs": [
    {
     "data": {
      "text/html": [
       "<div>\n",
       "<style scoped>\n",
       "    .dataframe tbody tr th:only-of-type {\n",
       "        vertical-align: middle;\n",
       "    }\n",
       "\n",
       "    .dataframe tbody tr th {\n",
       "        vertical-align: top;\n",
       "    }\n",
       "\n",
       "    .dataframe thead th {\n",
       "        text-align: right;\n",
       "    }\n",
       "</style>\n",
       "<table border=\"1\" class=\"dataframe\">\n",
       "  <thead>\n",
       "    <tr style=\"text-align: right;\">\n",
       "      <th>Ticker</th>\n",
       "      <th>AXISBANK.NS</th>\n",
       "      <th>ITC.NS</th>\n",
       "      <th>MARUTI.NS</th>\n",
       "      <th>RELIANCE.NS</th>\n",
       "      <th>TCS.NS</th>\n",
       "    </tr>\n",
       "    <tr>\n",
       "      <th>Date</th>\n",
       "      <th></th>\n",
       "      <th></th>\n",
       "      <th></th>\n",
       "      <th></th>\n",
       "      <th></th>\n",
       "    </tr>\n",
       "  </thead>\n",
       "  <tbody>\n",
       "    <tr>\n",
       "      <th>2023-10-04</th>\n",
       "      <td>-4.370593</td>\n",
       "      <td>-0.830024</td>\n",
       "      <td>-2.097744</td>\n",
       "      <td>-0.172551</td>\n",
       "      <td>0.680156</td>\n",
       "    </tr>\n",
       "    <tr>\n",
       "      <th>2023-10-05</th>\n",
       "      <td>0.773445</td>\n",
       "      <td>-0.011466</td>\n",
       "      <td>0.792718</td>\n",
       "      <td>-0.002152</td>\n",
       "      <td>1.458569</td>\n",
       "    </tr>\n",
       "    <tr>\n",
       "      <th>2023-10-06</th>\n",
       "      <td>-0.229254</td>\n",
       "      <td>1.398924</td>\n",
       "      <td>0.900074</td>\n",
       "      <td>0.168528</td>\n",
       "      <td>0.892912</td>\n",
       "    </tr>\n",
       "    <tr>\n",
       "      <th>2023-10-09</th>\n",
       "      <td>-0.469551</td>\n",
       "      <td>-0.384483</td>\n",
       "      <td>-0.555710</td>\n",
       "      <td>-0.852028</td>\n",
       "      <td>0.468059</td>\n",
       "    </tr>\n",
       "    <tr>\n",
       "      <th>2023-10-10</th>\n",
       "      <td>1.606017</td>\n",
       "      <td>0.896800</td>\n",
       "      <td>1.270886</td>\n",
       "      <td>0.441636</td>\n",
       "      <td>-0.259746</td>\n",
       "    </tr>\n",
       "    <tr>\n",
       "      <th>...</th>\n",
       "      <td>...</td>\n",
       "      <td>...</td>\n",
       "      <td>...</td>\n",
       "      <td>...</td>\n",
       "      <td>...</td>\n",
       "    </tr>\n",
       "    <tr>\n",
       "      <th>2024-04-24</th>\n",
       "      <td>0.710400</td>\n",
       "      <td>-0.069905</td>\n",
       "      <td>-0.401657</td>\n",
       "      <td>-0.626996</td>\n",
       "      <td>-1.126525</td>\n",
       "    </tr>\n",
       "    <tr>\n",
       "      <th>2024-04-25</th>\n",
       "      <td>5.995765</td>\n",
       "      <td>2.016789</td>\n",
       "      <td>-0.166480</td>\n",
       "      <td>0.675775</td>\n",
       "      <td>0.552067</td>\n",
       "    </tr>\n",
       "    <tr>\n",
       "      <th>2024-04-26</th>\n",
       "      <td>0.292815</td>\n",
       "      <td>0.559938</td>\n",
       "      <td>-1.695888</td>\n",
       "      <td>-0.508565</td>\n",
       "      <td>-0.800838</td>\n",
       "    </tr>\n",
       "    <tr>\n",
       "      <th>2024-04-29</th>\n",
       "      <td>2.561272</td>\n",
       "      <td>-0.409084</td>\n",
       "      <td>-0.106266</td>\n",
       "      <td>0.858833</td>\n",
       "      <td>1.278337</td>\n",
       "    </tr>\n",
       "    <tr>\n",
       "      <th>2024-04-30</th>\n",
       "      <td>0.573649</td>\n",
       "      <td>-0.581938</td>\n",
       "      <td>1.005926</td>\n",
       "      <td>0.134808</td>\n",
       "      <td>-1.280298</td>\n",
       "    </tr>\n",
       "  </tbody>\n",
       "</table>\n",
       "<p>139 rows × 5 columns</p>\n",
       "</div>"
      ],
      "text/plain": [
       "Ticker      AXISBANK.NS    ITC.NS  MARUTI.NS  RELIANCE.NS    TCS.NS\n",
       "Date                                                               \n",
       "2023-10-04    -4.370593 -0.830024  -2.097744    -0.172551  0.680156\n",
       "2023-10-05     0.773445 -0.011466   0.792718    -0.002152  1.458569\n",
       "2023-10-06    -0.229254  1.398924   0.900074     0.168528  0.892912\n",
       "2023-10-09    -0.469551 -0.384483  -0.555710    -0.852028  0.468059\n",
       "2023-10-10     1.606017  0.896800   1.270886     0.441636 -0.259746\n",
       "...                 ...       ...        ...          ...       ...\n",
       "2024-04-24     0.710400 -0.069905  -0.401657    -0.626996 -1.126525\n",
       "2024-04-25     5.995765  2.016789  -0.166480     0.675775  0.552067\n",
       "2024-04-26     0.292815  0.559938  -1.695888    -0.508565 -0.800838\n",
       "2024-04-29     2.561272 -0.409084  -0.106266     0.858833  1.278337\n",
       "2024-04-30     0.573649 -0.581938   1.005926     0.134808 -1.280298\n",
       "\n",
       "[139 rows x 5 columns]"
      ]
     },
     "execution_count": 94,
     "metadata": {},
     "output_type": "execute_result"
    }
   ],
   "source": [
    "daily_returns"
   ]
  },
  {
   "cell_type": "markdown",
   "id": "75f55ef2-e320-44fc-aee6-bfa3bbd7e4a0",
   "metadata": {},
   "source": [
    "Let us compute the total returns that these stocks have provided in this six-month period under consideration."
   ]
  },
  {
   "cell_type": "code",
   "execution_count": 97,
   "id": "96c85474-8072-4a92-a67f-f99e0c6cd8e7",
   "metadata": {},
   "outputs": [
    {
     "data": {
      "text/html": [
       "<div>\n",
       "<style scoped>\n",
       "    .dataframe tbody tr th:only-of-type {\n",
       "        vertical-align: middle;\n",
       "    }\n",
       "\n",
       "    .dataframe tbody tr th {\n",
       "        vertical-align: top;\n",
       "    }\n",
       "\n",
       "    .dataframe thead th {\n",
       "        text-align: right;\n",
       "    }\n",
       "</style>\n",
       "<table border=\"1\" class=\"dataframe\">\n",
       "  <thead>\n",
       "    <tr style=\"text-align: right;\">\n",
       "      <th>Ticker</th>\n",
       "      <th>AXISBANK.NS</th>\n",
       "      <th>ITC.NS</th>\n",
       "      <th>MARUTI.NS</th>\n",
       "      <th>RELIANCE.NS</th>\n",
       "      <th>TCS.NS</th>\n",
       "    </tr>\n",
       "    <tr>\n",
       "      <th>Date</th>\n",
       "      <th></th>\n",
       "      <th></th>\n",
       "      <th></th>\n",
       "      <th></th>\n",
       "      <th></th>\n",
       "    </tr>\n",
       "  </thead>\n",
       "  <tbody>\n",
       "    <tr>\n",
       "      <th>2024-04-30</th>\n",
       "      <td>11.992706</td>\n",
       "      <td>0.522631</td>\n",
       "      <td>23.877679</td>\n",
       "      <td>26.566448</td>\n",
       "      <td>9.51763</td>\n",
       "    </tr>\n",
       "  </tbody>\n",
       "</table>\n",
       "</div>"
      ],
      "text/plain": [
       "Ticker      AXISBANK.NS    ITC.NS  MARUTI.NS  RELIANCE.NS   TCS.NS\n",
       "Date                                                              \n",
       "2024-04-30    11.992706  0.522631  23.877679    26.566448  9.51763"
      ]
     },
     "execution_count": 97,
     "metadata": {},
     "output_type": "execute_result"
    }
   ],
   "source": [
    "total_returns = data.pct_change(139).dropna()*100\n",
    "total_returns"
   ]
  },
  {
   "cell_type": "markdown",
   "id": "166499eb-fdeb-4a34-b586-967cb9ca7ebd",
   "metadata": {},
   "source": [
    "Reliance gave the most returns in this period, and ITC the least returns."
   ]
  },
  {
   "cell_type": "markdown",
   "id": "bd23df73-8bc3-4034-b49c-8a7cdbebe6f3",
   "metadata": {},
   "source": [
    "Let us now compute the correlation matrix of daily returns"
   ]
  },
  {
   "cell_type": "code",
   "execution_count": 101,
   "id": "6fae9fd7-780b-4808-8793-79758d374997",
   "metadata": {},
   "outputs": [
    {
     "data": {
      "text/html": [
       "<div>\n",
       "<style scoped>\n",
       "    .dataframe tbody tr th:only-of-type {\n",
       "        vertical-align: middle;\n",
       "    }\n",
       "\n",
       "    .dataframe tbody tr th {\n",
       "        vertical-align: top;\n",
       "    }\n",
       "\n",
       "    .dataframe thead th {\n",
       "        text-align: right;\n",
       "    }\n",
       "</style>\n",
       "<table border=\"1\" class=\"dataframe\">\n",
       "  <thead>\n",
       "    <tr style=\"text-align: right;\">\n",
       "      <th>Ticker</th>\n",
       "      <th>AXISBANK.NS</th>\n",
       "      <th>ITC.NS</th>\n",
       "      <th>MARUTI.NS</th>\n",
       "      <th>RELIANCE.NS</th>\n",
       "      <th>TCS.NS</th>\n",
       "    </tr>\n",
       "    <tr>\n",
       "      <th>Ticker</th>\n",
       "      <th></th>\n",
       "      <th></th>\n",
       "      <th></th>\n",
       "      <th></th>\n",
       "      <th></th>\n",
       "    </tr>\n",
       "  </thead>\n",
       "  <tbody>\n",
       "    <tr>\n",
       "      <th>AXISBANK.NS</th>\n",
       "      <td>2.280340</td>\n",
       "      <td>0.586847</td>\n",
       "      <td>0.416883</td>\n",
       "      <td>0.563410</td>\n",
       "      <td>0.083566</td>\n",
       "    </tr>\n",
       "    <tr>\n",
       "      <th>ITC.NS</th>\n",
       "      <td>0.586847</td>\n",
       "      <td>1.285421</td>\n",
       "      <td>0.296681</td>\n",
       "      <td>0.226361</td>\n",
       "      <td>0.120154</td>\n",
       "    </tr>\n",
       "    <tr>\n",
       "      <th>MARUTI.NS</th>\n",
       "      <td>0.416883</td>\n",
       "      <td>0.296681</td>\n",
       "      <td>1.631714</td>\n",
       "      <td>0.474462</td>\n",
       "      <td>0.122676</td>\n",
       "    </tr>\n",
       "    <tr>\n",
       "      <th>RELIANCE.NS</th>\n",
       "      <td>0.563410</td>\n",
       "      <td>0.226361</td>\n",
       "      <td>0.474462</td>\n",
       "      <td>1.481024</td>\n",
       "      <td>0.317990</td>\n",
       "    </tr>\n",
       "    <tr>\n",
       "      <th>TCS.NS</th>\n",
       "      <td>0.083566</td>\n",
       "      <td>0.120154</td>\n",
       "      <td>0.122676</td>\n",
       "      <td>0.317990</td>\n",
       "      <td>1.733348</td>\n",
       "    </tr>\n",
       "  </tbody>\n",
       "</table>\n",
       "</div>"
      ],
      "text/plain": [
       "Ticker       AXISBANK.NS    ITC.NS  MARUTI.NS  RELIANCE.NS    TCS.NS\n",
       "Ticker                                                              \n",
       "AXISBANK.NS     2.280340  0.586847   0.416883     0.563410  0.083566\n",
       "ITC.NS          0.586847  1.285421   0.296681     0.226361  0.120154\n",
       "MARUTI.NS       0.416883  0.296681   1.631714     0.474462  0.122676\n",
       "RELIANCE.NS     0.563410  0.226361   0.474462     1.481024  0.317990\n",
       "TCS.NS          0.083566  0.120154   0.122676     0.317990  1.733348"
      ]
     },
     "execution_count": 101,
     "metadata": {},
     "output_type": "execute_result"
    }
   ],
   "source": [
    "daily_returns.cov()"
   ]
  },
  {
   "cell_type": "markdown",
   "id": "2845bb85-d9d2-49c7-a2bb-e7182ea19e90",
   "metadata": {},
   "source": [
    "Let us visualize the same using heatmaps."
   ]
  },
  {
   "cell_type": "code",
   "execution_count": 104,
   "id": "c46d100f-303b-4ce3-8873-fe10cba0ba76",
   "metadata": {},
   "outputs": [
    {
     "data": {
      "text/plain": [
       "<Axes: xlabel='Ticker', ylabel='Ticker'>"
      ]
     },
     "execution_count": 104,
     "metadata": {},
     "output_type": "execute_result"
    },
    {
     "data": {
      "image/png": "[encoded data removed]",
      "text/plain": [
       "<Figure size 640x480 with 2 Axes>"
      ]
     },
     "metadata": {},
     "output_type": "display_data"
    }
   ],
   "source": [
    "sns.heatmap(daily_returns.cov())"
   ]
  },
  {
   "cell_type": "markdown",
   "id": "8478aa32-5294-45fc-8066-8ad7938253fc",
   "metadata": {},
   "source": [
    "To get the better sense of how these stock prices are correlated, let us compute the correlation matrix now."
   ]
  },
  {
   "cell_type": "code",
   "execution_count": 107,
   "id": "9760bd17-f986-4ab6-b7b1-144d640468c3",
   "metadata": {},
   "outputs": [
    {
     "data": {
      "text/html": [
       "<div>\n",
       "<style scoped>\n",
       "    .dataframe tbody tr th:only-of-type {\n",
       "        vertical-align: middle;\n",
       "    }\n",
       "\n",
       "    .dataframe tbody tr th {\n",
       "        vertical-align: top;\n",
       "    }\n",
       "\n",
       "    .dataframe thead th {\n",
       "        text-align: right;\n",
       "    }\n",
       "</style>\n",
       "<table border=\"1\" class=\"dataframe\">\n",
       "  <thead>\n",
       "    <tr style=\"text-align: right;\">\n",
       "      <th>Ticker</th>\n",
       "      <th>AXISBANK.NS</th>\n",
       "      <th>ITC.NS</th>\n",
       "      <th>MARUTI.NS</th>\n",
       "      <th>RELIANCE.NS</th>\n",
       "      <th>TCS.NS</th>\n",
       "    </tr>\n",
       "    <tr>\n",
       "      <th>Ticker</th>\n",
       "      <th></th>\n",
       "      <th></th>\n",
       "      <th></th>\n",
       "      <th></th>\n",
       "      <th></th>\n",
       "    </tr>\n",
       "  </thead>\n",
       "  <tbody>\n",
       "    <tr>\n",
       "      <th>AXISBANK.NS</th>\n",
       "      <td>1.000000</td>\n",
       "      <td>0.342770</td>\n",
       "      <td>0.216119</td>\n",
       "      <td>0.306580</td>\n",
       "      <td>0.042032</td>\n",
       "    </tr>\n",
       "    <tr>\n",
       "      <th>ITC.NS</th>\n",
       "      <td>0.342770</td>\n",
       "      <td>1.000000</td>\n",
       "      <td>0.204855</td>\n",
       "      <td>0.164058</td>\n",
       "      <td>0.080496</td>\n",
       "    </tr>\n",
       "    <tr>\n",
       "      <th>MARUTI.NS</th>\n",
       "      <td>0.216119</td>\n",
       "      <td>0.204855</td>\n",
       "      <td>1.000000</td>\n",
       "      <td>0.305210</td>\n",
       "      <td>0.072945</td>\n",
       "    </tr>\n",
       "    <tr>\n",
       "      <th>RELIANCE.NS</th>\n",
       "      <td>0.306580</td>\n",
       "      <td>0.164058</td>\n",
       "      <td>0.305210</td>\n",
       "      <td>1.000000</td>\n",
       "      <td>0.198468</td>\n",
       "    </tr>\n",
       "    <tr>\n",
       "      <th>TCS.NS</th>\n",
       "      <td>0.042032</td>\n",
       "      <td>0.080496</td>\n",
       "      <td>0.072945</td>\n",
       "      <td>0.198468</td>\n",
       "      <td>1.000000</td>\n",
       "    </tr>\n",
       "  </tbody>\n",
       "</table>\n",
       "</div>"
      ],
      "text/plain": [
       "Ticker       AXISBANK.NS    ITC.NS  MARUTI.NS  RELIANCE.NS    TCS.NS\n",
       "Ticker                                                              \n",
       "AXISBANK.NS     1.000000  0.342770   0.216119     0.306580  0.042032\n",
       "ITC.NS          0.342770  1.000000   0.204855     0.164058  0.080496\n",
       "MARUTI.NS       0.216119  0.204855   1.000000     0.305210  0.072945\n",
       "RELIANCE.NS     0.306580  0.164058   0.305210     1.000000  0.198468\n",
       "TCS.NS          0.042032  0.080496   0.072945     0.198468  1.000000"
      ]
     },
     "execution_count": 107,
     "metadata": {},
     "output_type": "execute_result"
    }
   ],
   "source": [
    "daily_returns.corr()"
   ]
  },
  {
   "cell_type": "code",
   "execution_count": 109,
   "id": "35a3f67a-a02a-43b1-9b70-ad53880e84c4",
   "metadata": {},
   "outputs": [
    {
     "data": {
      "text/plain": [
       "<Axes: xlabel='Ticker', ylabel='Ticker'>"
      ]
     },
     "execution_count": 109,
     "metadata": {},
     "output_type": "execute_result"
    },
    {
     "data": {
      "image/png": "[encoded data removed]",
      "text/plain": [
       "<Figure size 640x480 with 2 Axes>"
      ]
     },
     "metadata": {},
     "output_type": "display_data"
    }
   ],
   "source": [
    "sns.heatmap(daily_returns.corr())"
   ]
  },
  {
   "cell_type": "markdown",
   "id": "60e4b6da-2ddd-4582-9170-d552bb0cb0ed",
   "metadata": {},
   "source": [
    "## Step 2"
   ]
  },
  {
   "cell_type": "markdown",
   "id": "3f5c4fd7-c0c4-4bd1-8afb-89e841dc03d6",
   "metadata": {},
   "source": [
    "Let us now run a classic Markowitz Mean-Variance Optimization on this data for the five stock returns. "
   ]
  },
  {
   "cell_type": "code",
   "execution_count": 113,
   "id": "bbe0c918-9860-4ff3-8887-04b6a45c9fae",
   "metadata": {},
   "outputs": [
    {
     "data": {
      "text/plain": [
       "Ticker\n",
       "AXISBANK.NS    0.092804\n",
       "ITC.NS         0.010112\n",
       "MARUTI.NS      0.162216\n",
       "RELIANCE.NS    0.176912\n",
       "TCS.NS         0.073985\n",
       "dtype: float64"
      ]
     },
     "execution_count": 113,
     "metadata": {},
     "output_type": "execute_result"
    }
   ],
   "source": [
    "#Calculating mean returns\n",
    "mean_returns = daily_returns.mean()\n",
    "mean_returns"
   ]
  },
  {
   "cell_type": "code",
   "execution_count": 117,
   "id": "daa9bcbe-9317-4899-ade5-65d74152c6b7",
   "metadata": {},
   "outputs": [
    {
     "data": {
      "text/html": [
       "<div>\n",
       "<style scoped>\n",
       "    .dataframe tbody tr th:only-of-type {\n",
       "        vertical-align: middle;\n",
       "    }\n",
       "\n",
       "    .dataframe tbody tr th {\n",
       "        vertical-align: top;\n",
       "    }\n",
       "\n",
       "    .dataframe thead th {\n",
       "        text-align: right;\n",
       "    }\n",
       "</style>\n",
       "<table border=\"1\" class=\"dataframe\">\n",
       "  <thead>\n",
       "    <tr style=\"text-align: right;\">\n",
       "      <th>Ticker</th>\n",
       "      <th>AXISBANK.NS</th>\n",
       "      <th>ITC.NS</th>\n",
       "      <th>MARUTI.NS</th>\n",
       "      <th>RELIANCE.NS</th>\n",
       "      <th>TCS.NS</th>\n",
       "    </tr>\n",
       "    <tr>\n",
       "      <th>Ticker</th>\n",
       "      <th></th>\n",
       "      <th></th>\n",
       "      <th></th>\n",
       "      <th></th>\n",
       "      <th></th>\n",
       "    </tr>\n",
       "  </thead>\n",
       "  <tbody>\n",
       "    <tr>\n",
       "      <th>AXISBANK.NS</th>\n",
       "      <td>2.280340</td>\n",
       "      <td>0.586847</td>\n",
       "      <td>0.416883</td>\n",
       "      <td>0.563410</td>\n",
       "      <td>0.083566</td>\n",
       "    </tr>\n",
       "    <tr>\n",
       "      <th>ITC.NS</th>\n",
       "      <td>0.586847</td>\n",
       "      <td>1.285421</td>\n",
       "      <td>0.296681</td>\n",
       "      <td>0.226361</td>\n",
       "      <td>0.120154</td>\n",
       "    </tr>\n",
       "    <tr>\n",
       "      <th>MARUTI.NS</th>\n",
       "      <td>0.416883</td>\n",
       "      <td>0.296681</td>\n",
       "      <td>1.631714</td>\n",
       "      <td>0.474462</td>\n",
       "      <td>0.122676</td>\n",
       "    </tr>\n",
       "    <tr>\n",
       "      <th>RELIANCE.NS</th>\n",
       "      <td>0.563410</td>\n",
       "      <td>0.226361</td>\n",
       "      <td>0.474462</td>\n",
       "      <td>1.481024</td>\n",
       "      <td>0.317990</td>\n",
       "    </tr>\n",
       "    <tr>\n",
       "      <th>TCS.NS</th>\n",
       "      <td>0.083566</td>\n",
       "      <td>0.120154</td>\n",
       "      <td>0.122676</td>\n",
       "      <td>0.317990</td>\n",
       "      <td>1.733348</td>\n",
       "    </tr>\n",
       "  </tbody>\n",
       "</table>\n",
       "</div>"
      ],
      "text/plain": [
       "Ticker       AXISBANK.NS    ITC.NS  MARUTI.NS  RELIANCE.NS    TCS.NS\n",
       "Ticker                                                              \n",
       "AXISBANK.NS     2.280340  0.586847   0.416883     0.563410  0.083566\n",
       "ITC.NS          0.586847  1.285421   0.296681     0.226361  0.120154\n",
       "MARUTI.NS       0.416883  0.296681   1.631714     0.474462  0.122676\n",
       "RELIANCE.NS     0.563410  0.226361   0.474462     1.481024  0.317990\n",
       "TCS.NS          0.083566  0.120154   0.122676     0.317990  1.733348"
      ]
     },
     "execution_count": 117,
     "metadata": {},
     "output_type": "execute_result"
    }
   ],
   "source": [
    "#Calculating the covariance matrix again\n",
    "cov_matrix = daily_returns.cov()\n",
    "cov_matrix"
   ]
  },
  {
   "cell_type": "markdown",
   "id": "2becf83d-fe4a-4521-8656-59a5fc019d0c",
   "metadata": {},
   "source": [
    "Let us now start the optimization process. Our objective here is to find the best combination of stock allocations that maximize the Sharpe ratio."
   ]
  },
  {
   "cell_type": "code",
   "execution_count": 122,
   "id": "b9a499a3-8e05-42ef-9bda-50c869787338",
   "metadata": {},
   "outputs": [],
   "source": [
    "def portfolio_stats(weights, mean_returns, cov_matrix):\n",
    "    #Portfolio return\n",
    "    portfolio_return = np.sum(weights * mean_returns)\n",
    "    #Portfolio volatility (standard deviation)\n",
    "    portfolio_volatility = np.sqrt(np.dot(weights.T, np.dot(cov_matrix, weights)))\n",
    "    return portfolio_return, portfolio_volatility, -(portfolio_return/portfolio_volatility) #the last value is the negative of the Sharpe ratio, which is to be minimised"
   ]
  },
  {
   "cell_type": "code",
   "execution_count": 128,
   "id": "98a5607e-1789-456d-83ef-8a90e2e94afc",
   "metadata": {},
   "outputs": [],
   "source": [
    "def obj_function(weights, mean_returns, cov_matrix):\n",
    "    return portfolio_stats(weights, mean_returns, cov_matrix)[2] #returns the negative of the Sharpe ratio"
   ]
  },
  {
   "cell_type": "code",
   "execution_count": 130,
   "id": "a614d95d-b2ef-4472-b9e3-1319abb7f97e",
   "metadata": {},
   "outputs": [],
   "source": [
    "def constraint(weights): #sum of weights of must be 1\n",
    "    return np.sum(weights) - 1"
   ]
  },
  {
   "cell_type": "code",
   "execution_count": 132,
   "id": "23e88988-e4ac-4630-8408-dc6a0a2b191e",
   "metadata": {},
   "outputs": [],
   "source": [
    "# Bounds for weights: Between 0 and 1 to allow as no short-selling is allowed\n",
    "bounds = [(0, 1) for _ in range(len(tickers))]"
   ]
  },
  {
   "cell_type": "code",
   "execution_count": 134,
   "id": "9e02a52b-31ad-4bff-a156-993450ca244e",
   "metadata": {},
   "outputs": [],
   "source": [
    "# Initial guess for weights is equal weights for all stocks\n",
    "initial_guess = [1 / len(tickers)] * len(tickers)"
   ]
  },
  {
   "cell_type": "code",
   "execution_count": 136,
   "id": "bdba8a3a-9c1b-4c67-90c6-1896806e3501",
   "metadata": {},
   "outputs": [
    {
     "data": {
      "text/plain": [
       "[0.2, 0.2, 0.2, 0.2, 0.2]"
      ]
     },
     "execution_count": 136,
     "metadata": {},
     "output_type": "execute_result"
    }
   ],
   "source": [
    "initial_guess"
   ]
  },
  {
   "cell_type": "code",
   "execution_count": 138,
   "id": "f1341be6-fc82-49b1-9946-76fc8566ba6e",
   "metadata": {},
   "outputs": [],
   "source": [
    "# Constraints\n",
    "constraints = ({'type': 'eq', 'fun': constraint})"
   ]
  },
  {
   "cell_type": "code",
   "execution_count": 140,
   "id": "c4433257-d8b5-4234-a6b0-4e102cb4f396",
   "metadata": {},
   "outputs": [],
   "source": [
    "opt_results = minimize(obj_function, initial_guess, args=(mean_returns, cov_matrix),\n",
    "                       method='SLSQP', bounds=bounds, constraints=constraints) #Sequential Least Squares Programming"
   ]
  },
  {
   "cell_type": "code",
   "execution_count": 142,
   "id": "7f30b871-42bc-48a3-8c60-3055729d6665",
   "metadata": {},
   "outputs": [],
   "source": [
    "optimal_weights = opt_results.x\n",
    "optimal_return, optimal_volatility = portfolio_stats(optimal_weights, mean_returns, cov_matrix)[0:2]"
   ]
  },
  {
   "cell_type": "markdown",
   "id": "e9d81520-f76b-47f8-a3bc-76772384cc9c",
   "metadata": {},
   "source": [
    "let us now look at the results of the optimization."
   ]
  },
  {
   "cell_type": "code",
   "execution_count": 145,
   "id": "bba3b8ef-5a15-4fb0-baae-4316d6acc277",
   "metadata": {},
   "outputs": [
    {
     "data": {
      "text/plain": [
       " message: Optimization terminated successfully\n",
       " success: True\n",
       "  status: 0\n",
       "     fun: -0.1715232877024284\n",
       "       x: [ 2.555e-02  1.174e-17  3.771e-01  4.862e-01  1.112e-01]\n",
       "     nit: 8\n",
       "     jac: [-7.592e-06  3.966e-02  2.756e-04 -6.887e-05 -6.411e-04]\n",
       "    nfev: 49\n",
       "    njev: 8"
      ]
     },
     "execution_count": 145,
     "metadata": {},
     "output_type": "execute_result"
    }
   ],
   "source": [
    "opt_results"
   ]
  },
  {
   "cell_type": "code",
   "execution_count": 189,
   "id": "b8c3b4e5-eaf6-48bf-a08f-025e761eeb52",
   "metadata": {},
   "outputs": [
    {
     "data": {
      "text/plain": [
       "array([0.0255494792, 0.          , 0.3770543043, 0.4862398789,\n",
       "       0.1111563376])"
      ]
     },
     "execution_count": 189,
     "metadata": {},
     "output_type": "execute_result"
    }
   ],
   "source": [
    "optimal_weights #Fractional terms"
   ]
  },
  {
   "cell_type": "markdown",
   "id": "4e875823-4807-4e88-8431-440dbcb8fc09",
   "metadata": {},
   "source": [
    "Let us see this graphically"
   ]
  },
  {
   "cell_type": "code",
   "execution_count": 192,
   "id": "8fcde96d-cc0b-47da-a7b2-2f4b86e11bea",
   "metadata": {},
   "outputs": [
    {
     "data": {
      "text/plain": [
       "Text(0.5, 1.0, 'Portfolio Weights After Optimization in Percentages')"
      ]
     },
     "execution_count": 192,
     "metadata": {},
     "output_type": "execute_result"
    },
    {
     "data": {
      "image/png": "[encoded data removed]",
      "text/plain": [
       "<Figure size 640x480 with 1 Axes>"
      ]
     },
     "metadata": {},
     "output_type": "display_data"
    }
   ],
   "source": [
    "plt.bar(height=optimal_weights*100, x=daily_returns.columns)\n",
    "plt.grid()\n",
    "plt.title(\"Portfolio Weights After Optimization in Percentages\")"
   ]
  },
  {
   "cell_type": "markdown",
   "id": "a34a2b7d-607b-49ef-bb14-79813da99586",
   "metadata": {},
   "source": [
    "## Step 3"
   ]
  },
  {
   "cell_type": "code",
   "execution_count": null,
   "id": "e3221959-61c8-4d31-a5fe-adf8fc223f01",
   "metadata": {},
   "outputs": [],
   "source": []
  }
 ],
 "metadata": {
  "kernelspec": {
   "display_name": "Python [conda env:base] *",
   "language": "python",
   "name": "conda-base-py"
  },
  "language_info": {
   "codemirror_mode": {
    "name": "ipython",
    "version": 3
   },
   "file_extension": ".py",
   "mimetype": "text/x-python",
   "name": "python",
   "nbconvert_exporter": "python",
   "pygments_lexer": "ipython3",
   "version": "3.12.7"
  }
 },
 "nbformat": 4,
 "nbformat_minor": 5
}
