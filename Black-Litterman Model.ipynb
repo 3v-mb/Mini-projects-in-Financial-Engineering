{
 "cells": [
  {
   "cell_type": "markdown",
   "id": "c3f66673-d9f5-45ac-b932-4d228fd7b7df",
   "metadata": {},
   "source": [
    "## Step 1"
   ]
  },
  {
   "cell_type": "markdown",
   "id": "8412160b-b0ef-4994-bf6c-31a815411d4f",
   "metadata": {},
   "source": [
    "Let us first download five stocks for which we find plenty of news reports, analyst ratings and headlines."
   ]
  },
  {
   "cell_type": "code",
   "execution_count": 326,
   "id": "58901765-01f4-41b7-a27d-aada3fa5b5b5",
   "metadata": {},
   "outputs": [],
   "source": [
    "import pandas as pd\n",
    "import numpy as np\n",
    "import matplotlib.pyplot as plt\n",
    "import seaborn as sns\n",
    "import yfinance as yf\n",
    "from scipy.optimize import minimize\n",
    "np.set_printoptions(suppress=True, precision=10)\n",
    "import random"
   ]
  },
  {
   "cell_type": "markdown",
   "id": "60e56755-31e3-4ab2-9702-54518de603d9",
   "metadata": {},
   "source": [
    "the stocks chosen for this stock market are some big Indian companies and conglomerates: Tata Consultancy Services(TCS), Reliance Industries Limited(RIL), Maruti Suzuki Limited, Axis Bank, ITC.They represent the Technology, Chemical Industries and Fuel Refineries, Automobiles, Banking and FMCG sectors in that order."
   ]
  },
  {
   "cell_type": "markdown",
   "id": "0420ea9e-9ac1-4c48-99c0-b9cbf8d3c3af",
   "metadata": {},
   "source": [
    "Let us now download data regarding prices so that we have at least a 100 points regarding daily returns."
   ]
  },
  {
   "cell_type": "code",
   "execution_count": 328,
   "id": "5463d25c-3fbd-4911-9cb1-3738bb198fe1",
   "metadata": {},
   "outputs": [
    {
     "name": "stderr",
     "output_type": "stream",
     "text": [
      "[*********************100%***********************]  5 of 5 completed\n"
     ]
    }
   ],
   "source": [
    "tickers = ['TCS.NS', 'RELIANCE.NS', 'MARUTI.NS','AXISBANK.NS', 'ITC.NS']\n",
    "data = yf.download(tickers, start=\"2023-09-30\", end=\"2024-05-01\")[\"Close\"]"
   ]
  },
  {
   "cell_type": "code",
   "execution_count": 330,
   "id": "46365c85-7cfb-4a31-957d-f0f394124695",
   "metadata": {},
   "outputs": [
    {
     "data": {
      "text/html": [
       "<div>\n",
       "<style scoped>\n",
       "    .dataframe tbody tr th:only-of-type {\n",
       "        vertical-align: middle;\n",
       "    }\n",
       "\n",
       "    .dataframe tbody tr th {\n",
       "        vertical-align: top;\n",
       "    }\n",
       "\n",
       "    .dataframe thead th {\n",
       "        text-align: right;\n",
       "    }\n",
       "</style>\n",
       "<table border=\"1\" class=\"dataframe\">\n",
       "  <thead>\n",
       "    <tr style=\"text-align: right;\">\n",
       "      <th>Ticker</th>\n",
       "      <th>AXISBANK.NS</th>\n",
       "      <th>ITC.NS</th>\n",
       "      <th>MARUTI.NS</th>\n",
       "      <th>RELIANCE.NS</th>\n",
       "      <th>TCS.NS</th>\n",
       "    </tr>\n",
       "    <tr>\n",
       "      <th>Date</th>\n",
       "      <th></th>\n",
       "      <th></th>\n",
       "      <th></th>\n",
       "      <th></th>\n",
       "      <th></th>\n",
       "    </tr>\n",
       "  </thead>\n",
       "  <tbody>\n",
       "    <tr>\n",
       "      <th>2023-10-03</th>\n",
       "      <td>1040.247192</td>\n",
       "      <td>419.215027</td>\n",
       "      <td>10250.084961</td>\n",
       "      <td>1159.074951</td>\n",
       "      <td>3392.922363</td>\n",
       "    </tr>\n",
       "    <tr>\n",
       "      <th>2023-10-04</th>\n",
       "      <td>994.782227</td>\n",
       "      <td>415.735443</td>\n",
       "      <td>10035.064453</td>\n",
       "      <td>1157.074951</td>\n",
       "      <td>3415.999512</td>\n",
       "    </tr>\n",
       "    <tr>\n",
       "      <th>2023-10-05</th>\n",
       "      <td>1002.476318</td>\n",
       "      <td>415.687775</td>\n",
       "      <td>10114.614258</td>\n",
       "      <td>1157.050049</td>\n",
       "      <td>3465.824219</td>\n",
       "    </tr>\n",
       "    <tr>\n",
       "      <th>2023-10-06</th>\n",
       "      <td>1000.178101</td>\n",
       "      <td>421.502899</td>\n",
       "      <td>10205.653320</td>\n",
       "      <td>1159.000000</td>\n",
       "      <td>3496.770996</td>\n",
       "    </tr>\n",
       "    <tr>\n",
       "      <th>2023-10-09</th>\n",
       "      <td>995.481750</td>\n",
       "      <td>419.882324</td>\n",
       "      <td>10148.939453</td>\n",
       "      <td>1149.125000</td>\n",
       "      <td>3513.137695</td>\n",
       "    </tr>\n",
       "    <tr>\n",
       "      <th>...</th>\n",
       "      <td>...</td>\n",
       "      <td>...</td>\n",
       "      <td>...</td>\n",
       "      <td>...</td>\n",
       "      <td>...</td>\n",
       "    </tr>\n",
       "    <tr>\n",
       "      <th>2024-04-24</th>\n",
       "      <td>1062.430054</td>\n",
       "      <td>414.876678</td>\n",
       "      <td>12822.932617</td>\n",
       "      <td>1450.175049</td>\n",
       "      <td>3725.963135</td>\n",
       "    </tr>\n",
       "    <tr>\n",
       "      <th>2024-04-25</th>\n",
       "      <td>1126.130859</td>\n",
       "      <td>423.243866</td>\n",
       "      <td>12801.584961</td>\n",
       "      <td>1459.974976</td>\n",
       "      <td>3746.532959</td>\n",
       "    </tr>\n",
       "    <tr>\n",
       "      <th>2024-04-26</th>\n",
       "      <td>1129.428345</td>\n",
       "      <td>425.613770</td>\n",
       "      <td>12584.484375</td>\n",
       "      <td>1452.550049</td>\n",
       "      <td>3716.529297</td>\n",
       "    </tr>\n",
       "    <tr>\n",
       "      <th>2024-04-29</th>\n",
       "      <td>1158.356079</td>\n",
       "      <td>423.872650</td>\n",
       "      <td>12571.111328</td>\n",
       "      <td>1465.025024</td>\n",
       "      <td>3764.039062</td>\n",
       "    </tr>\n",
       "    <tr>\n",
       "      <th>2024-04-30</th>\n",
       "      <td>1165.000977</td>\n",
       "      <td>421.405975</td>\n",
       "      <td>12697.567383</td>\n",
       "      <td>1467.000000</td>\n",
       "      <td>3715.848145</td>\n",
       "    </tr>\n",
       "  </tbody>\n",
       "</table>\n",
       "<p>140 rows × 5 columns</p>\n",
       "</div>"
      ],
      "text/plain": [
       "Ticker      AXISBANK.NS      ITC.NS     MARUTI.NS  RELIANCE.NS       TCS.NS\n",
       "Date                                                                       \n",
       "2023-10-03  1040.247192  419.215027  10250.084961  1159.074951  3392.922363\n",
       "2023-10-04   994.782227  415.735443  10035.064453  1157.074951  3415.999512\n",
       "2023-10-05  1002.476318  415.687775  10114.614258  1157.050049  3465.824219\n",
       "2023-10-06  1000.178101  421.502899  10205.653320  1159.000000  3496.770996\n",
       "2023-10-09   995.481750  419.882324  10148.939453  1149.125000  3513.137695\n",
       "...                 ...         ...           ...          ...          ...\n",
       "2024-04-24  1062.430054  414.876678  12822.932617  1450.175049  3725.963135\n",
       "2024-04-25  1126.130859  423.243866  12801.584961  1459.974976  3746.532959\n",
       "2024-04-26  1129.428345  425.613770  12584.484375  1452.550049  3716.529297\n",
       "2024-04-29  1158.356079  423.872650  12571.111328  1465.025024  3764.039062\n",
       "2024-04-30  1165.000977  421.405975  12697.567383  1467.000000  3715.848145\n",
       "\n",
       "[140 rows x 5 columns]"
      ]
     },
     "execution_count": 330,
     "metadata": {},
     "output_type": "execute_result"
    }
   ],
   "source": [
    "data"
   ]
  },
  {
   "cell_type": "markdown",
   "id": "267d48bc-d67e-4244-8c3d-6375d5f1703c",
   "metadata": {},
   "source": [
    "I have downloaded the closing prices for all five stocks listed above. Now, I will calculate daily excess returns for all these stocks in percentage terms, and we will have 139 data points. This is calculated by subtracting the risk-free return percentage from the daily return percentage. I consider the 10y bond yield in India to be the risk-free return rate, which was ~7.2% in September 2023. (Link: https://in.investing.com/rates-bonds/india-10-year-bond-yield-historical-data). So, for the six-month period under consideration, the risk-free return is 3.5%"
   ]
  },
  {
   "cell_type": "code",
   "execution_count": 333,
   "id": "fc62ce77-5226-4444-b1e6-eb49ac41cd0b",
   "metadata": {},
   "outputs": [],
   "source": [
    "daily_returns = data.pct_change().dropna()*100"
   ]
  },
  {
   "cell_type": "code",
   "execution_count": 335,
   "id": "20864dcd-9e19-4519-9027-edb224482286",
   "metadata": {},
   "outputs": [
    {
     "data": {
      "text/html": [
       "<div>\n",
       "<style scoped>\n",
       "    .dataframe tbody tr th:only-of-type {\n",
       "        vertical-align: middle;\n",
       "    }\n",
       "\n",
       "    .dataframe tbody tr th {\n",
       "        vertical-align: top;\n",
       "    }\n",
       "\n",
       "    .dataframe thead th {\n",
       "        text-align: right;\n",
       "    }\n",
       "</style>\n",
       "<table border=\"1\" class=\"dataframe\">\n",
       "  <thead>\n",
       "    <tr style=\"text-align: right;\">\n",
       "      <th>Ticker</th>\n",
       "      <th>AXISBANK.NS</th>\n",
       "      <th>ITC.NS</th>\n",
       "      <th>MARUTI.NS</th>\n",
       "      <th>RELIANCE.NS</th>\n",
       "      <th>TCS.NS</th>\n",
       "    </tr>\n",
       "    <tr>\n",
       "      <th>Date</th>\n",
       "      <th></th>\n",
       "      <th></th>\n",
       "      <th></th>\n",
       "      <th></th>\n",
       "      <th></th>\n",
       "    </tr>\n",
       "  </thead>\n",
       "  <tbody>\n",
       "    <tr>\n",
       "      <th>2023-10-04</th>\n",
       "      <td>-4.395593</td>\n",
       "      <td>-0.855024</td>\n",
       "      <td>-2.122744</td>\n",
       "      <td>-0.197551</td>\n",
       "      <td>0.655156</td>\n",
       "    </tr>\n",
       "    <tr>\n",
       "      <th>2023-10-05</th>\n",
       "      <td>0.748445</td>\n",
       "      <td>-0.036466</td>\n",
       "      <td>0.767718</td>\n",
       "      <td>-0.027152</td>\n",
       "      <td>1.433569</td>\n",
       "    </tr>\n",
       "    <tr>\n",
       "      <th>2023-10-06</th>\n",
       "      <td>-0.254254</td>\n",
       "      <td>1.373916</td>\n",
       "      <td>0.875074</td>\n",
       "      <td>0.143528</td>\n",
       "      <td>0.867912</td>\n",
       "    </tr>\n",
       "    <tr>\n",
       "      <th>2023-10-09</th>\n",
       "      <td>-0.494551</td>\n",
       "      <td>-0.409475</td>\n",
       "      <td>-0.580710</td>\n",
       "      <td>-0.877028</td>\n",
       "      <td>0.443052</td>\n",
       "    </tr>\n",
       "    <tr>\n",
       "      <th>2023-10-10</th>\n",
       "      <td>1.581017</td>\n",
       "      <td>0.871800</td>\n",
       "      <td>1.245886</td>\n",
       "      <td>0.416636</td>\n",
       "      <td>-0.284732</td>\n",
       "    </tr>\n",
       "    <tr>\n",
       "      <th>...</th>\n",
       "      <td>...</td>\n",
       "      <td>...</td>\n",
       "      <td>...</td>\n",
       "      <td>...</td>\n",
       "      <td>...</td>\n",
       "    </tr>\n",
       "    <tr>\n",
       "      <th>2024-04-24</th>\n",
       "      <td>0.685400</td>\n",
       "      <td>-0.094905</td>\n",
       "      <td>-0.426657</td>\n",
       "      <td>-0.651996</td>\n",
       "      <td>-1.151525</td>\n",
       "    </tr>\n",
       "    <tr>\n",
       "      <th>2024-04-25</th>\n",
       "      <td>5.970765</td>\n",
       "      <td>1.991789</td>\n",
       "      <td>-0.191480</td>\n",
       "      <td>0.650775</td>\n",
       "      <td>0.527067</td>\n",
       "    </tr>\n",
       "    <tr>\n",
       "      <th>2024-04-26</th>\n",
       "      <td>0.267815</td>\n",
       "      <td>0.534938</td>\n",
       "      <td>-1.720888</td>\n",
       "      <td>-0.533565</td>\n",
       "      <td>-0.825838</td>\n",
       "    </tr>\n",
       "    <tr>\n",
       "      <th>2024-04-29</th>\n",
       "      <td>2.536272</td>\n",
       "      <td>-0.434084</td>\n",
       "      <td>-0.131266</td>\n",
       "      <td>0.833833</td>\n",
       "      <td>1.253337</td>\n",
       "    </tr>\n",
       "    <tr>\n",
       "      <th>2024-04-30</th>\n",
       "      <td>0.548649</td>\n",
       "      <td>-0.606938</td>\n",
       "      <td>0.980926</td>\n",
       "      <td>0.109808</td>\n",
       "      <td>-1.305298</td>\n",
       "    </tr>\n",
       "  </tbody>\n",
       "</table>\n",
       "<p>139 rows × 5 columns</p>\n",
       "</div>"
      ],
      "text/plain": [
       "Ticker      AXISBANK.NS    ITC.NS  MARUTI.NS  RELIANCE.NS    TCS.NS\n",
       "Date                                                               \n",
       "2023-10-04    -4.395593 -0.855024  -2.122744    -0.197551  0.655156\n",
       "2023-10-05     0.748445 -0.036466   0.767718    -0.027152  1.433569\n",
       "2023-10-06    -0.254254  1.373916   0.875074     0.143528  0.867912\n",
       "2023-10-09    -0.494551 -0.409475  -0.580710    -0.877028  0.443052\n",
       "2023-10-10     1.581017  0.871800   1.245886     0.416636 -0.284732\n",
       "...                 ...       ...        ...          ...       ...\n",
       "2024-04-24     0.685400 -0.094905  -0.426657    -0.651996 -1.151525\n",
       "2024-04-25     5.970765  1.991789  -0.191480     0.650775  0.527067\n",
       "2024-04-26     0.267815  0.534938  -1.720888    -0.533565 -0.825838\n",
       "2024-04-29     2.536272 -0.434084  -0.131266     0.833833  1.253337\n",
       "2024-04-30     0.548649 -0.606938   0.980926     0.109808 -1.305298\n",
       "\n",
       "[139 rows x 5 columns]"
      ]
     },
     "execution_count": 335,
     "metadata": {},
     "output_type": "execute_result"
    }
   ],
   "source": [
    "daily_returns = daily_returns - 3.5/140\n",
    "daily_returns"
   ]
  },
  {
   "cell_type": "markdown",
   "id": "75f55ef2-e320-44fc-aee6-bfa3bbd7e4a0",
   "metadata": {},
   "source": [
    "Let us compute the total returns that these stocks have provided in this six-month period under consideration. Let us substract this from the risk-free returns to obtain the excess returns. I consider the 10y bond yield in India to be the risk-free return rate, which was ~7.2% in September 2023. (Link: https://in.investing.com/rates-bonds/india-10-year-bond-yield-historical-data). So, for the six-month period under consideration, the risk-free return is 3.5%"
   ]
  },
  {
   "cell_type": "code",
   "execution_count": 338,
   "id": "96c85474-8072-4a92-a67f-f99e0c6cd8e7",
   "metadata": {},
   "outputs": [
    {
     "data": {
      "text/html": [
       "<div>\n",
       "<style scoped>\n",
       "    .dataframe tbody tr th:only-of-type {\n",
       "        vertical-align: middle;\n",
       "    }\n",
       "\n",
       "    .dataframe tbody tr th {\n",
       "        vertical-align: top;\n",
       "    }\n",
       "\n",
       "    .dataframe thead th {\n",
       "        text-align: right;\n",
       "    }\n",
       "</style>\n",
       "<table border=\"1\" class=\"dataframe\">\n",
       "  <thead>\n",
       "    <tr style=\"text-align: right;\">\n",
       "      <th>Ticker</th>\n",
       "      <th>AXISBANK.NS</th>\n",
       "      <th>ITC.NS</th>\n",
       "      <th>MARUTI.NS</th>\n",
       "      <th>RELIANCE.NS</th>\n",
       "      <th>TCS.NS</th>\n",
       "    </tr>\n",
       "    <tr>\n",
       "      <th>Date</th>\n",
       "      <th></th>\n",
       "      <th></th>\n",
       "      <th></th>\n",
       "      <th></th>\n",
       "      <th></th>\n",
       "    </tr>\n",
       "  </thead>\n",
       "  <tbody>\n",
       "    <tr>\n",
       "      <th>2024-04-30</th>\n",
       "      <td>8.492706</td>\n",
       "      <td>-2.977369</td>\n",
       "      <td>20.377679</td>\n",
       "      <td>23.066448</td>\n",
       "      <td>6.01763</td>\n",
       "    </tr>\n",
       "  </tbody>\n",
       "</table>\n",
       "</div>"
      ],
      "text/plain": [
       "Ticker      AXISBANK.NS    ITC.NS  MARUTI.NS  RELIANCE.NS   TCS.NS\n",
       "Date                                                              \n",
       "2024-04-30     8.492706 -2.977369  20.377679    23.066448  6.01763"
      ]
     },
     "execution_count": 338,
     "metadata": {},
     "output_type": "execute_result"
    }
   ],
   "source": [
    "total_returns = data.pct_change(139).dropna()*100\n",
    "total_returns = total_returns - 3.5\n",
    "total_returns"
   ]
  },
  {
   "cell_type": "markdown",
   "id": "166499eb-fdeb-4a34-b586-967cb9ca7ebd",
   "metadata": {},
   "source": [
    "Reliance gave the most returns in this period, and ITC the least returns."
   ]
  },
  {
   "cell_type": "markdown",
   "id": "bd23df73-8bc3-4034-b49c-8a7cdbebe6f3",
   "metadata": {},
   "source": [
    "Let us now compute the correlation matrix of daily returns"
   ]
  },
  {
   "cell_type": "code",
   "execution_count": 342,
   "id": "6fae9fd7-780b-4808-8793-79758d374997",
   "metadata": {},
   "outputs": [
    {
     "data": {
      "text/html": [
       "<div>\n",
       "<style scoped>\n",
       "    .dataframe tbody tr th:only-of-type {\n",
       "        vertical-align: middle;\n",
       "    }\n",
       "\n",
       "    .dataframe tbody tr th {\n",
       "        vertical-align: top;\n",
       "    }\n",
       "\n",
       "    .dataframe thead th {\n",
       "        text-align: right;\n",
       "    }\n",
       "</style>\n",
       "<table border=\"1\" class=\"dataframe\">\n",
       "  <thead>\n",
       "    <tr style=\"text-align: right;\">\n",
       "      <th>Ticker</th>\n",
       "      <th>AXISBANK.NS</th>\n",
       "      <th>ITC.NS</th>\n",
       "      <th>MARUTI.NS</th>\n",
       "      <th>RELIANCE.NS</th>\n",
       "      <th>TCS.NS</th>\n",
       "    </tr>\n",
       "    <tr>\n",
       "      <th>Ticker</th>\n",
       "      <th></th>\n",
       "      <th></th>\n",
       "      <th></th>\n",
       "      <th></th>\n",
       "      <th></th>\n",
       "    </tr>\n",
       "  </thead>\n",
       "  <tbody>\n",
       "    <tr>\n",
       "      <th>AXISBANK.NS</th>\n",
       "      <td>2.280340</td>\n",
       "      <td>0.586847</td>\n",
       "      <td>0.416883</td>\n",
       "      <td>0.563410</td>\n",
       "      <td>0.083566</td>\n",
       "    </tr>\n",
       "    <tr>\n",
       "      <th>ITC.NS</th>\n",
       "      <td>0.586847</td>\n",
       "      <td>1.285420</td>\n",
       "      <td>0.296681</td>\n",
       "      <td>0.226361</td>\n",
       "      <td>0.120155</td>\n",
       "    </tr>\n",
       "    <tr>\n",
       "      <th>MARUTI.NS</th>\n",
       "      <td>0.416883</td>\n",
       "      <td>0.296681</td>\n",
       "      <td>1.631714</td>\n",
       "      <td>0.474462</td>\n",
       "      <td>0.122676</td>\n",
       "    </tr>\n",
       "    <tr>\n",
       "      <th>RELIANCE.NS</th>\n",
       "      <td>0.563410</td>\n",
       "      <td>0.226361</td>\n",
       "      <td>0.474462</td>\n",
       "      <td>1.481024</td>\n",
       "      <td>0.317991</td>\n",
       "    </tr>\n",
       "    <tr>\n",
       "      <th>TCS.NS</th>\n",
       "      <td>0.083566</td>\n",
       "      <td>0.120155</td>\n",
       "      <td>0.122676</td>\n",
       "      <td>0.317991</td>\n",
       "      <td>1.733347</td>\n",
       "    </tr>\n",
       "  </tbody>\n",
       "</table>\n",
       "</div>"
      ],
      "text/plain": [
       "Ticker       AXISBANK.NS    ITC.NS  MARUTI.NS  RELIANCE.NS    TCS.NS\n",
       "Ticker                                                              \n",
       "AXISBANK.NS     2.280340  0.586847   0.416883     0.563410  0.083566\n",
       "ITC.NS          0.586847  1.285420   0.296681     0.226361  0.120155\n",
       "MARUTI.NS       0.416883  0.296681   1.631714     0.474462  0.122676\n",
       "RELIANCE.NS     0.563410  0.226361   0.474462     1.481024  0.317991\n",
       "TCS.NS          0.083566  0.120155   0.122676     0.317991  1.733347"
      ]
     },
     "execution_count": 342,
     "metadata": {},
     "output_type": "execute_result"
    }
   ],
   "source": [
    "daily_returns.cov()"
   ]
  },
  {
   "cell_type": "markdown",
   "id": "2845bb85-d9d2-49c7-a2bb-e7182ea19e90",
   "metadata": {},
   "source": [
    "Let us visualize the same using heatmaps."
   ]
  },
  {
   "cell_type": "code",
   "execution_count": 345,
   "id": "c46d100f-303b-4ce3-8873-fe10cba0ba76",
   "metadata": {},
   "outputs": [
    {
     "data": {
      "text/plain": [
       "<Axes: xlabel='Ticker', ylabel='Ticker'>"
      ]
     },
     "execution_count": 345,
     "metadata": {},
     "output_type": "execute_result"
    },
    {
     "data": {
      "image/png": "[encoded data removed]",
      "text/plain": [
       "<Figure size 640x480 with 2 Axes>"
      ]
     },
     "metadata": {},
     "output_type": "display_data"
    }
   ],
   "source": [
    "sns.heatmap(daily_returns.cov())"
   ]
  },
  {
   "cell_type": "markdown",
   "id": "8478aa32-5294-45fc-8066-8ad7938253fc",
   "metadata": {},
   "source": [
    "To get the better sense of how these stock prices are correlated, let us compute the correlation matrix now."
   ]
  },
  {
   "cell_type": "code",
   "execution_count": 348,
   "id": "9760bd17-f986-4ab6-b7b1-144d640468c3",
   "metadata": {},
   "outputs": [
    {
     "data": {
      "text/html": [
       "<div>\n",
       "<style scoped>\n",
       "    .dataframe tbody tr th:only-of-type {\n",
       "        vertical-align: middle;\n",
       "    }\n",
       "\n",
       "    .dataframe tbody tr th {\n",
       "        vertical-align: top;\n",
       "    }\n",
       "\n",
       "    .dataframe thead th {\n",
       "        text-align: right;\n",
       "    }\n",
       "</style>\n",
       "<table border=\"1\" class=\"dataframe\">\n",
       "  <thead>\n",
       "    <tr style=\"text-align: right;\">\n",
       "      <th>Ticker</th>\n",
       "      <th>AXISBANK.NS</th>\n",
       "      <th>ITC.NS</th>\n",
       "      <th>MARUTI.NS</th>\n",
       "      <th>RELIANCE.NS</th>\n",
       "      <th>TCS.NS</th>\n",
       "    </tr>\n",
       "    <tr>\n",
       "      <th>Ticker</th>\n",
       "      <th></th>\n",
       "      <th></th>\n",
       "      <th></th>\n",
       "      <th></th>\n",
       "      <th></th>\n",
       "    </tr>\n",
       "  </thead>\n",
       "  <tbody>\n",
       "    <tr>\n",
       "      <th>AXISBANK.NS</th>\n",
       "      <td>1.000000</td>\n",
       "      <td>0.342770</td>\n",
       "      <td>0.216119</td>\n",
       "      <td>0.306580</td>\n",
       "      <td>0.042033</td>\n",
       "    </tr>\n",
       "    <tr>\n",
       "      <th>ITC.NS</th>\n",
       "      <td>0.342770</td>\n",
       "      <td>1.000000</td>\n",
       "      <td>0.204854</td>\n",
       "      <td>0.164058</td>\n",
       "      <td>0.080496</td>\n",
       "    </tr>\n",
       "    <tr>\n",
       "      <th>MARUTI.NS</th>\n",
       "      <td>0.216119</td>\n",
       "      <td>0.204854</td>\n",
       "      <td>1.000000</td>\n",
       "      <td>0.305210</td>\n",
       "      <td>0.072945</td>\n",
       "    </tr>\n",
       "    <tr>\n",
       "      <th>RELIANCE.NS</th>\n",
       "      <td>0.306580</td>\n",
       "      <td>0.164058</td>\n",
       "      <td>0.305210</td>\n",
       "      <td>1.000000</td>\n",
       "      <td>0.198468</td>\n",
       "    </tr>\n",
       "    <tr>\n",
       "      <th>TCS.NS</th>\n",
       "      <td>0.042033</td>\n",
       "      <td>0.080496</td>\n",
       "      <td>0.072945</td>\n",
       "      <td>0.198468</td>\n",
       "      <td>1.000000</td>\n",
       "    </tr>\n",
       "  </tbody>\n",
       "</table>\n",
       "</div>"
      ],
      "text/plain": [
       "Ticker       AXISBANK.NS    ITC.NS  MARUTI.NS  RELIANCE.NS    TCS.NS\n",
       "Ticker                                                              \n",
       "AXISBANK.NS     1.000000  0.342770   0.216119     0.306580  0.042033\n",
       "ITC.NS          0.342770  1.000000   0.204854     0.164058  0.080496\n",
       "MARUTI.NS       0.216119  0.204854   1.000000     0.305210  0.072945\n",
       "RELIANCE.NS     0.306580  0.164058   0.305210     1.000000  0.198468\n",
       "TCS.NS          0.042033  0.080496   0.072945     0.198468  1.000000"
      ]
     },
     "execution_count": 348,
     "metadata": {},
     "output_type": "execute_result"
    }
   ],
   "source": [
    "daily_returns.corr()"
   ]
  },
  {
   "cell_type": "code",
   "execution_count": 350,
   "id": "35a3f67a-a02a-43b1-9b70-ad53880e84c4",
   "metadata": {},
   "outputs": [
    {
     "data": {
      "text/plain": [
       "<Axes: xlabel='Ticker', ylabel='Ticker'>"
      ]
     },
     "execution_count": 350,
     "metadata": {},
     "output_type": "execute_result"
    },
    {
     "data": {
      "image/png": "[encoded data removed]",
      "text/plain": [
       "<Figure size 640x480 with 2 Axes>"
      ]
     },
     "metadata": {},
     "output_type": "display_data"
    }
   ],
   "source": [
    "sns.heatmap(daily_returns.corr())"
   ]
  },
  {
   "cell_type": "markdown",
   "id": "60e4b6da-2ddd-4582-9170-d552bb0cb0ed",
   "metadata": {},
   "source": [
    "## Step 2"
   ]
  },
  {
   "cell_type": "markdown",
   "id": "3f5c4fd7-c0c4-4bd1-8afb-89e841dc03d6",
   "metadata": {},
   "source": [
    "Let us now run a classic Markowitz Mean-Variance Optimization on this data for the five stock returns. "
   ]
  },
  {
   "cell_type": "code",
   "execution_count": 354,
   "id": "bbe0c918-9860-4ff3-8887-04b6a45c9fae",
   "metadata": {},
   "outputs": [
    {
     "data": {
      "text/plain": [
       "Ticker\n",
       "AXISBANK.NS    0.067804\n",
       "ITC.NS        -0.014888\n",
       "MARUTI.NS      0.137216\n",
       "RELIANCE.NS    0.151912\n",
       "TCS.NS         0.048985\n",
       "dtype: float64"
      ]
     },
     "execution_count": 354,
     "metadata": {},
     "output_type": "execute_result"
    }
   ],
   "source": [
    "#Calculating mean excess returns\n",
    "mean_returns = daily_returns.mean()\n",
    "mean_returns"
   ]
  },
  {
   "cell_type": "code",
   "execution_count": 356,
   "id": "daa9bcbe-9317-4899-ade5-65d74152c6b7",
   "metadata": {},
   "outputs": [
    {
     "data": {
      "text/html": [
       "<div>\n",
       "<style scoped>\n",
       "    .dataframe tbody tr th:only-of-type {\n",
       "        vertical-align: middle;\n",
       "    }\n",
       "\n",
       "    .dataframe tbody tr th {\n",
       "        vertical-align: top;\n",
       "    }\n",
       "\n",
       "    .dataframe thead th {\n",
       "        text-align: right;\n",
       "    }\n",
       "</style>\n",
       "<table border=\"1\" class=\"dataframe\">\n",
       "  <thead>\n",
       "    <tr style=\"text-align: right;\">\n",
       "      <th>Ticker</th>\n",
       "      <th>AXISBANK.NS</th>\n",
       "      <th>ITC.NS</th>\n",
       "      <th>MARUTI.NS</th>\n",
       "      <th>RELIANCE.NS</th>\n",
       "      <th>TCS.NS</th>\n",
       "    </tr>\n",
       "    <tr>\n",
       "      <th>Ticker</th>\n",
       "      <th></th>\n",
       "      <th></th>\n",
       "      <th></th>\n",
       "      <th></th>\n",
       "      <th></th>\n",
       "    </tr>\n",
       "  </thead>\n",
       "  <tbody>\n",
       "    <tr>\n",
       "      <th>AXISBANK.NS</th>\n",
       "      <td>2.280340</td>\n",
       "      <td>0.586847</td>\n",
       "      <td>0.416883</td>\n",
       "      <td>0.563410</td>\n",
       "      <td>0.083566</td>\n",
       "    </tr>\n",
       "    <tr>\n",
       "      <th>ITC.NS</th>\n",
       "      <td>0.586847</td>\n",
       "      <td>1.285420</td>\n",
       "      <td>0.296681</td>\n",
       "      <td>0.226361</td>\n",
       "      <td>0.120155</td>\n",
       "    </tr>\n",
       "    <tr>\n",
       "      <th>MARUTI.NS</th>\n",
       "      <td>0.416883</td>\n",
       "      <td>0.296681</td>\n",
       "      <td>1.631714</td>\n",
       "      <td>0.474462</td>\n",
       "      <td>0.122676</td>\n",
       "    </tr>\n",
       "    <tr>\n",
       "      <th>RELIANCE.NS</th>\n",
       "      <td>0.563410</td>\n",
       "      <td>0.226361</td>\n",
       "      <td>0.474462</td>\n",
       "      <td>1.481024</td>\n",
       "      <td>0.317991</td>\n",
       "    </tr>\n",
       "    <tr>\n",
       "      <th>TCS.NS</th>\n",
       "      <td>0.083566</td>\n",
       "      <td>0.120155</td>\n",
       "      <td>0.122676</td>\n",
       "      <td>0.317991</td>\n",
       "      <td>1.733347</td>\n",
       "    </tr>\n",
       "  </tbody>\n",
       "</table>\n",
       "</div>"
      ],
      "text/plain": [
       "Ticker       AXISBANK.NS    ITC.NS  MARUTI.NS  RELIANCE.NS    TCS.NS\n",
       "Ticker                                                              \n",
       "AXISBANK.NS     2.280340  0.586847   0.416883     0.563410  0.083566\n",
       "ITC.NS          0.586847  1.285420   0.296681     0.226361  0.120155\n",
       "MARUTI.NS       0.416883  0.296681   1.631714     0.474462  0.122676\n",
       "RELIANCE.NS     0.563410  0.226361   0.474462     1.481024  0.317991\n",
       "TCS.NS          0.083566  0.120155   0.122676     0.317991  1.733347"
      ]
     },
     "execution_count": 356,
     "metadata": {},
     "output_type": "execute_result"
    }
   ],
   "source": [
    "#Calculating the covariance matrix again\n",
    "cov_matrix = daily_returns.cov()\n",
    "cov_matrix"
   ]
  },
  {
   "cell_type": "markdown",
   "id": "2becf83d-fe4a-4521-8656-59a5fc019d0c",
   "metadata": {},
   "source": [
    "Let us now start the optimization process. Our objective here is to find the best combination of stock allocations that maximize the Sharpe ratio."
   ]
  },
  {
   "cell_type": "code",
   "execution_count": 359,
   "id": "b9a499a3-8e05-42ef-9bda-50c869787338",
   "metadata": {},
   "outputs": [],
   "source": [
    "def portfolio_stats(weights, mean_returns, cov_matrix):\n",
    "    #Portfolio return\n",
    "    portfolio_return = np.sum(weights * mean_returns)\n",
    "    #Portfolio volatility (standard deviation)\n",
    "    portfolio_volatility = np.sqrt(np.dot(weights.T, np.dot(cov_matrix, weights)))\n",
    "    return portfolio_return, portfolio_volatility, -(portfolio_return/portfolio_volatility) #the last value is the negative of the Sharpe ratio, which is to be minimised"
   ]
  },
  {
   "cell_type": "code",
   "execution_count": 361,
   "id": "98a5607e-1789-456d-83ef-8a90e2e94afc",
   "metadata": {},
   "outputs": [],
   "source": [
    "def obj_function(weights, mean_returns, cov_matrix):\n",
    "    return portfolio_stats(weights, mean_returns, cov_matrix)[2] #returns the negative of the Sharpe ratio"
   ]
  },
  {
   "cell_type": "code",
   "execution_count": 363,
   "id": "a614d95d-b2ef-4472-b9e3-1319abb7f97e",
   "metadata": {},
   "outputs": [],
   "source": [
    "def constraint(weights): #sum of weights of must be 1\n",
    "    return np.sum(weights) - 1"
   ]
  },
  {
   "cell_type": "code",
   "execution_count": 365,
   "id": "23e88988-e4ac-4630-8408-dc6a0a2b191e",
   "metadata": {},
   "outputs": [],
   "source": [
    "# Bounds for weights: Between 0 and 1 to allow as no short-selling is allowed\n",
    "bounds = [(0, 1) for _ in range(len(tickers))]"
   ]
  },
  {
   "cell_type": "code",
   "execution_count": 367,
   "id": "9e02a52b-31ad-4bff-a156-993450ca244e",
   "metadata": {},
   "outputs": [],
   "source": [
    "# Initial guess for weights is equal weights for all stocks\n",
    "initial_guess = [1 / len(tickers)] * len(tickers)"
   ]
  },
  {
   "cell_type": "code",
   "execution_count": 369,
   "id": "bdba8a3a-9c1b-4c67-90c6-1896806e3501",
   "metadata": {},
   "outputs": [
    {
     "data": {
      "text/plain": [
       "[0.2, 0.2, 0.2, 0.2, 0.2]"
      ]
     },
     "execution_count": 369,
     "metadata": {},
     "output_type": "execute_result"
    }
   ],
   "source": [
    "initial_guess"
   ]
  },
  {
   "cell_type": "code",
   "execution_count": 371,
   "id": "f1341be6-fc82-49b1-9946-76fc8566ba6e",
   "metadata": {},
   "outputs": [],
   "source": [
    "# Constraints\n",
    "constraints = ({'type': 'eq', 'fun': constraint})"
   ]
  },
  {
   "cell_type": "code",
   "execution_count": 373,
   "id": "c4433257-d8b5-4234-a6b0-4e102cb4f396",
   "metadata": {},
   "outputs": [],
   "source": [
    "opt_results = minimize(obj_function, initial_guess, args=(mean_returns, cov_matrix),\n",
    "                       method='SLSQP', bounds=bounds, constraints=constraints) #Sequential Least Squares Programming"
   ]
  },
  {
   "cell_type": "code",
   "execution_count": 375,
   "id": "7f30b871-42bc-48a3-8c60-3055729d6665",
   "metadata": {},
   "outputs": [],
   "source": [
    "optimal_weights = opt_results.x\n",
    "optimal_return, optimal_volatility = portfolio_stats(optimal_weights, mean_returns, cov_matrix)[0:2]"
   ]
  },
  {
   "cell_type": "markdown",
   "id": "e9d81520-f76b-47f8-a3bc-76772384cc9c",
   "metadata": {},
   "source": [
    "let us now look at the results of the optimization."
   ]
  },
  {
   "cell_type": "code",
   "execution_count": 378,
   "id": "bba3b8ef-5a15-4fb0-baae-4316d6acc277",
   "metadata": {},
   "outputs": [
    {
     "data": {
      "text/plain": [
       " message: Optimization terminated successfully\n",
       " success: True\n",
       "  status: 0\n",
       "     fun: -0.14497696826690826\n",
       "       x: [ 0.000e+00  5.337e-18  3.973e-01  5.428e-01  5.984e-02]\n",
       "     nit: 9\n",
       "     jac: [ 3.922e-03  5.396e-02  1.247e-04 -2.351e-05 -6.360e-04]\n",
       "    nfev: 55\n",
       "    njev: 9"
      ]
     },
     "execution_count": 378,
     "metadata": {},
     "output_type": "execute_result"
    }
   ],
   "source": [
    "opt_results"
   ]
  },
  {
   "cell_type": "code",
   "execution_count": 380,
   "id": "b8c3b4e5-eaf6-48bf-a08f-025e761eeb52",
   "metadata": {},
   "outputs": [
    {
     "data": {
      "text/plain": [
       "array([0.          , 0.          , 0.3973215482, 0.5428407699,\n",
       "       0.059837682 ])"
      ]
     },
     "execution_count": 380,
     "metadata": {},
     "output_type": "execute_result"
    }
   ],
   "source": [
    "optimal_weights #Fractional terms"
   ]
  },
  {
   "cell_type": "markdown",
   "id": "4e875823-4807-4e88-8431-440dbcb8fc09",
   "metadata": {},
   "source": [
    "Let us see this graphically"
   ]
  },
  {
   "cell_type": "code",
   "execution_count": 383,
   "id": "8fcde96d-cc0b-47da-a7b2-2f4b86e11bea",
   "metadata": {},
   "outputs": [
    {
     "data": {
      "text/plain": [
       "Text(0.5, 1.0, 'Portfolio Weights After Optimization in Percentages')"
      ]
     },
     "execution_count": 383,
     "metadata": {},
     "output_type": "execute_result"
    },
    {
     "data": {
      "image/png": "[encoded data removed]",
      "text/plain": [
       "<Figure size 640x480 with 1 Axes>"
      ]
     },
     "metadata": {},
     "output_type": "display_data"
    }
   ],
   "source": [
    "plt.bar(height=optimal_weights*100, x=daily_returns.columns)\n",
    "plt.grid()\n",
    "plt.title(\"Portfolio Weights After Optimization in Percentages\")"
   ]
  },
  {
   "cell_type": "markdown",
   "id": "a34a2b7d-607b-49ef-bb14-79813da99586",
   "metadata": {},
   "source": [
    "## Step 3"
   ]
  },
  {
   "cell_type": "markdown",
   "id": "b9b31004-2357-456a-9a97-d5d71c482b90",
   "metadata": {},
   "source": [
    "For this step, I will follow the instructions of Prof. Maurisio Tiso, which are as follows: https://learn.wqu.edu/comments/6815a34c209e521752b58353\n",
    "\n",
    "1) Starts with 20 assets (all equities)\n",
    "2) Select 5 at random from the 20\n",
    "3) For the 5 assets selected, perform an MVO and a 1/N portfolio (w= 0.20 for each of the 5 assets) using the part of the training data\n",
    "4) Use the two portfolios and compute the return on both using the test data so to speak\n",
    "5) repeat 2), 3), and 4) 5000 times (or more if you like) In this way you will have collected two sets of 5000 returns\n",
    "6) draw a histogram of the two returns and compare their returns. Which one does produce a better performance? The MVO or the 1/N portfolio."
   ]
  },
  {
   "cell_type": "code",
   "execution_count": 387,
   "id": "7a1c6e86-e17a-4d05-a7ba-9f0ce3f8509e",
   "metadata": {},
   "outputs": [],
   "source": [
    "#20 popular stocks from the Indian market\n",
    "tickers = ['RELIANCE.NS', 'TCS.NS', 'ITC.NS', 'AXISBANK.NS', 'INFY.NS', 'HINDUNILVR.NS', 'SUNPHARMA.NS', 'POWERGRID.NS', 'ASIANPAINT.NS', 'ADANIENT.NS', 'ADANIGREEN.NS', 'ADANIPORTS.NS', 'ADANIPOWER.NS', 'NDTV.NS', 'ATGL.NS', 'TITAN.NS', 'CDSL.NS', 'IRCTC.NS', 'IRFC.NS', 'AWL.NS']"
   ]
  },
  {
   "cell_type": "code",
   "execution_count": 389,
   "id": "4a3dbb4c-3b0e-4446-ba0c-93724262a101",
   "metadata": {
    "scrolled": true
   },
   "outputs": [
    {
     "name": "stderr",
     "output_type": "stream",
     "text": [
      "[*********************100%***********************]  20 of 20 completed\n",
      "[*********************100%***********************]  20 of 20 completed\n"
     ]
    }
   ],
   "source": [
    "#downloading prices for all 20 stocks, for both the train and test periods\n",
    "stock_data = yf.download(tickers, start=\"2023-09-30\", end=\"2024-05-01\")[\"Close\"]\n",
    "test_data = yf.download(tickers, start=\"2024-05-02\", end=\"2024-07-02\")[\"Close\"]"
   ]
  },
  {
   "cell_type": "code",
   "execution_count": 391,
   "id": "19492c9c-4a3b-4d91-a3b8-e76635d92493",
   "metadata": {},
   "outputs": [
    {
     "data": {
      "text/plain": [
       "(41, 20)"
      ]
     },
     "execution_count": 391,
     "metadata": {},
     "output_type": "execute_result"
    }
   ],
   "source": [
    "test_data.shape"
   ]
  },
  {
   "cell_type": "code",
   "execution_count": 393,
   "id": "881fc527-5297-4148-b87a-c7e8cfabc888",
   "metadata": {},
   "outputs": [],
   "source": [
    "mvo_returns_overall = []\n",
    "equal_weight_returns_overall = []\n",
    "returns_comparison = {\n",
    "    \"mvo\": 0,\n",
    "    \"1/n\": 0\n",
    "}"
   ]
  },
  {
   "cell_type": "markdown",
   "id": "f7c65153-1474-4b0e-8ef0-cbe64baf67b2",
   "metadata": {},
   "source": [
    "Let us now perform 5000 Monte-Carlo trials to see the distribution of returns for both the MVO and 1/N portfolios during the test perios for an investment of Rs. 1000."
   ]
  },
  {
   "cell_type": "code",
   "execution_count": 396,
   "id": "50acec90-8c8f-41e7-84fd-9e66d371f5ea",
   "metadata": {},
   "outputs": [],
   "source": [
    "for i in range(5000):\n",
    "    #choose five stocks at random from the list\n",
    "    tickers_selected = random.sample(range(0, 20), 5)\n",
    "    #print(tickers_selected)\n",
    "    stocks_selected = [tickers[j] for j in tickers_selected]\n",
    "    #print(stocks_selected)\n",
    "\n",
    "    \n",
    "    #daily excess returns\n",
    "    stock_returns = stock_data[stocks_selected].pct_change().dropna()* - 0.035\n",
    "\n",
    "    #mean-variance optimization to find the optimal allocation\n",
    "    mean_returns = stock_returns.mean()\n",
    "    cov_matrix = stock_returns.cov()\n",
    "    opt_results = minimize(obj_function, initial_guess, args=(mean_returns, cov_matrix), method='SLSQP', bounds=bounds, constraints=constraints)\n",
    "    optimal_weights = opt_results.x\n",
    "\n",
    "    \n",
    "    #Comparing returns between an MVO and a 1/N portfolio over a subsequent test period.\n",
    "    test_period_stock_returns = test_data[stocks_selected].pct_change(test_data.shape[0] - 1).dropna() - 0.035*41/140    #total excess returns for each stock\n",
    "    mvo_returns = np.dot(list(test_period_stock_returns.iloc[0]), optimal_weights)*1000\n",
    "    equal_weight_returns = np.dot(list(test_period_stock_returns.iloc[0]), [0.2, 0.2, 0.2, 0.2, 0.2])*1000\n",
    "\n",
    "    #Storing the results of each trial\n",
    "    mvo_returns_overall.append(mvo_returns)\n",
    "    equal_weight_returns_overall.append(equal_weight_returns)\n",
    "\n",
    "    if mvo_returns > equal_weight_returns:\n",
    "        returns_comparison[\"mvo\"] += 1\n",
    "    else:\n",
    "        returns_comparison[\"1/n\"] += 1\n",
    "    "
   ]
  },
  {
   "cell_type": "code",
   "execution_count": 397,
   "id": "3391b425-524f-41a6-9008-a48273447d01",
   "metadata": {},
   "outputs": [
    {
     "data": {
      "text/plain": [
       "{'mvo': 2089, '1/n': 2911}"
      ]
     },
     "execution_count": 397,
     "metadata": {},
     "output_type": "execute_result"
    }
   ],
   "source": [
    "returns_comparison"
   ]
  },
  {
   "cell_type": "code",
   "execution_count": 400,
   "id": "d2e4bbcd-2144-4696-a108-21b558743971",
   "metadata": {},
   "outputs": [],
   "source": [
    "#list(test_period_returns.iloc[0])\n",
    "#np.dot(list(test_period_returns.iloc[0]), optimal_weights)\n",
    "#np.dot(list(test_period_returns.iloc[0]), [0.2, 0.2, 0.2, 0.2, 0.2])"
   ]
  },
  {
   "cell_type": "code",
   "execution_count": 402,
   "id": "b78309fb-c20d-48b0-977e-b334dd97adc6",
   "metadata": {},
   "outputs": [
    {
     "data": {
      "text/plain": [
       "Text(0.5, 1.0, 'Distribution of Returns on MVO Portfolio')"
      ]
     },
     "execution_count": 402,
     "metadata": {},
     "output_type": "execute_result"
    },
    {
     "data": {
      "image/png": "[encoded data removed]",
      "text/plain": [
       "<Figure size 640x480 with 1 Axes>"
      ]
     },
     "metadata": {},
     "output_type": "display_data"
    }
   ],
   "source": [
    "plt.hist(mvo_returns_overall)\n",
    "plt.grid()\n",
    "plt.title(\"Distribution of Returns on MVO Portfolio\")"
   ]
  },
  {
   "cell_type": "code",
   "execution_count": 404,
   "id": "1c7c740a-03c2-42a3-af9f-fcb121264bb2",
   "metadata": {},
   "outputs": [
    {
     "data": {
      "text/plain": [
       "Text(0.5, 1.0, 'Distribution of Returns on 1/N Portfolio')"
      ]
     },
     "execution_count": 404,
     "metadata": {},
     "output_type": "execute_result"
    },
    {
     "data": {
      "image/png": "[encoded data removed]",
      "text/plain": [
       "<Figure size 640x480 with 1 Axes>"
      ]
     },
     "metadata": {},
     "output_type": "display_data"
    }
   ],
   "source": [
    "plt.hist(equal_weight_returns_overall)\n",
    "plt.grid()\n",
    "plt.title(\"Distribution of Returns on 1/N Portfolio\")"
   ]
  },
  {
   "cell_type": "code",
   "execution_count": 406,
   "id": "9376ea18-eb43-4efc-a8f5-46d4c908e2c8",
   "metadata": {},
   "outputs": [
    {
     "data": {
      "text/plain": [
       "29.88817233701877"
      ]
     },
     "execution_count": 406,
     "metadata": {},
     "output_type": "execute_result"
    }
   ],
   "source": [
    "np.average(mvo_returns_overall)"
   ]
  },
  {
   "cell_type": "code",
   "execution_count": 408,
   "id": "0119a867-9452-4f84-a439-21ad95edc8f8",
   "metadata": {},
   "outputs": [
    {
     "data": {
      "text/plain": [
       "33.479077143714015"
      ]
     },
     "execution_count": 408,
     "metadata": {},
     "output_type": "execute_result"
    }
   ],
   "source": [
    "np.average(equal_weight_returns_overall)"
   ]
  },
  {
   "cell_type": "markdown",
   "id": "40c3d641-b42a-4d17-add4-16abb3e17b76",
   "metadata": {},
   "source": [
    "## Step 4"
   ]
  },
  {
   "cell_type": "markdown",
   "id": "16ec2930-4e2c-4b98-b89c-2088565ac004",
   "metadata": {},
   "source": [
    "Let us now implement the Black-Litterman Model for the five original stocks"
   ]
  },
  {
   "cell_type": "code",
   "execution_count": 412,
   "id": "8d215c21-c682-482d-80ee-74f61627764c",
   "metadata": {},
   "outputs": [
    {
     "data": {
      "text/html": [
       "<div>\n",
       "<style scoped>\n",
       "    .dataframe tbody tr th:only-of-type {\n",
       "        vertical-align: middle;\n",
       "    }\n",
       "\n",
       "    .dataframe tbody tr th {\n",
       "        vertical-align: top;\n",
       "    }\n",
       "\n",
       "    .dataframe thead th {\n",
       "        text-align: right;\n",
       "    }\n",
       "</style>\n",
       "<table border=\"1\" class=\"dataframe\">\n",
       "  <thead>\n",
       "    <tr style=\"text-align: right;\">\n",
       "      <th>Ticker</th>\n",
       "      <th>AXISBANK.NS</th>\n",
       "      <th>ITC.NS</th>\n",
       "      <th>MARUTI.NS</th>\n",
       "      <th>RELIANCE.NS</th>\n",
       "      <th>TCS.NS</th>\n",
       "    </tr>\n",
       "    <tr>\n",
       "      <th>Date</th>\n",
       "      <th></th>\n",
       "      <th></th>\n",
       "      <th></th>\n",
       "      <th></th>\n",
       "      <th></th>\n",
       "    </tr>\n",
       "  </thead>\n",
       "  <tbody>\n",
       "    <tr>\n",
       "      <th>2023-10-04</th>\n",
       "      <td>-4.395593</td>\n",
       "      <td>-0.855024</td>\n",
       "      <td>-2.122744</td>\n",
       "      <td>-0.197551</td>\n",
       "      <td>0.655156</td>\n",
       "    </tr>\n",
       "    <tr>\n",
       "      <th>2023-10-05</th>\n",
       "      <td>0.748445</td>\n",
       "      <td>-0.036466</td>\n",
       "      <td>0.767718</td>\n",
       "      <td>-0.027152</td>\n",
       "      <td>1.433569</td>\n",
       "    </tr>\n",
       "    <tr>\n",
       "      <th>2023-10-06</th>\n",
       "      <td>-0.254254</td>\n",
       "      <td>1.373916</td>\n",
       "      <td>0.875074</td>\n",
       "      <td>0.143528</td>\n",
       "      <td>0.867912</td>\n",
       "    </tr>\n",
       "    <tr>\n",
       "      <th>2023-10-09</th>\n",
       "      <td>-0.494551</td>\n",
       "      <td>-0.409475</td>\n",
       "      <td>-0.580710</td>\n",
       "      <td>-0.877028</td>\n",
       "      <td>0.443052</td>\n",
       "    </tr>\n",
       "    <tr>\n",
       "      <th>2023-10-10</th>\n",
       "      <td>1.581017</td>\n",
       "      <td>0.871800</td>\n",
       "      <td>1.245886</td>\n",
       "      <td>0.416636</td>\n",
       "      <td>-0.284732</td>\n",
       "    </tr>\n",
       "    <tr>\n",
       "      <th>...</th>\n",
       "      <td>...</td>\n",
       "      <td>...</td>\n",
       "      <td>...</td>\n",
       "      <td>...</td>\n",
       "      <td>...</td>\n",
       "    </tr>\n",
       "    <tr>\n",
       "      <th>2024-04-24</th>\n",
       "      <td>0.685400</td>\n",
       "      <td>-0.094905</td>\n",
       "      <td>-0.426657</td>\n",
       "      <td>-0.651996</td>\n",
       "      <td>-1.151525</td>\n",
       "    </tr>\n",
       "    <tr>\n",
       "      <th>2024-04-25</th>\n",
       "      <td>5.970765</td>\n",
       "      <td>1.991789</td>\n",
       "      <td>-0.191480</td>\n",
       "      <td>0.650775</td>\n",
       "      <td>0.527067</td>\n",
       "    </tr>\n",
       "    <tr>\n",
       "      <th>2024-04-26</th>\n",
       "      <td>0.267815</td>\n",
       "      <td>0.534938</td>\n",
       "      <td>-1.720888</td>\n",
       "      <td>-0.533565</td>\n",
       "      <td>-0.825838</td>\n",
       "    </tr>\n",
       "    <tr>\n",
       "      <th>2024-04-29</th>\n",
       "      <td>2.536272</td>\n",
       "      <td>-0.434084</td>\n",
       "      <td>-0.131266</td>\n",
       "      <td>0.833833</td>\n",
       "      <td>1.253337</td>\n",
       "    </tr>\n",
       "    <tr>\n",
       "      <th>2024-04-30</th>\n",
       "      <td>0.548649</td>\n",
       "      <td>-0.606938</td>\n",
       "      <td>0.980926</td>\n",
       "      <td>0.109808</td>\n",
       "      <td>-1.305298</td>\n",
       "    </tr>\n",
       "  </tbody>\n",
       "</table>\n",
       "<p>139 rows × 5 columns</p>\n",
       "</div>"
      ],
      "text/plain": [
       "Ticker      AXISBANK.NS    ITC.NS  MARUTI.NS  RELIANCE.NS    TCS.NS\n",
       "Date                                                               \n",
       "2023-10-04    -4.395593 -0.855024  -2.122744    -0.197551  0.655156\n",
       "2023-10-05     0.748445 -0.036466   0.767718    -0.027152  1.433569\n",
       "2023-10-06    -0.254254  1.373916   0.875074     0.143528  0.867912\n",
       "2023-10-09    -0.494551 -0.409475  -0.580710    -0.877028  0.443052\n",
       "2023-10-10     1.581017  0.871800   1.245886     0.416636 -0.284732\n",
       "...                 ...       ...        ...          ...       ...\n",
       "2024-04-24     0.685400 -0.094905  -0.426657    -0.651996 -1.151525\n",
       "2024-04-25     5.970765  1.991789  -0.191480     0.650775  0.527067\n",
       "2024-04-26     0.267815  0.534938  -1.720888    -0.533565 -0.825838\n",
       "2024-04-29     2.536272 -0.434084  -0.131266     0.833833  1.253337\n",
       "2024-04-30     0.548649 -0.606938   0.980926     0.109808 -1.305298\n",
       "\n",
       "[139 rows x 5 columns]"
      ]
     },
     "execution_count": 412,
     "metadata": {},
     "output_type": "execute_result"
    }
   ],
   "source": [
    "tickers = ['TCS.NS', 'RELIANCE.NS', 'MARUTI.NS','AXISBANK.NS', 'ITC.NS']\n",
    "#our original dataframe containing daily returns\n",
    "daily_returns"
   ]
  },
  {
   "cell_type": "code",
   "execution_count": 414,
   "id": "f7645b6d-3a49-42ed-a5c9-e8e825027634",
   "metadata": {},
   "outputs": [],
   "source": [
    "cov_matrix = daily_returns.cov() #covariance matrix"
   ]
  },
  {
   "cell_type": "code",
   "execution_count": 416,
   "id": "350b9816-5895-4689-99cf-68cdbdb71cbc",
   "metadata": {},
   "outputs": [],
   "source": [
    "#market capitalisation weights\n",
    "market_cap = [3.73e12, 5.44e12, 3.91e12, 19.44e12, 13.09e12]  # Market caps in INR"
   ]
  },
  {
   "cell_type": "code",
   "execution_count": 418,
   "id": "66e4abb0-65cb-49a1-8988-41e4ad608dd0",
   "metadata": {},
   "outputs": [],
   "source": [
    "market_weights = np.array(market_cap)/sum(market_cap)"
   ]
  },
  {
   "cell_type": "code",
   "execution_count": 420,
   "id": "f2b49b23-ade5-4936-adf0-de3bf0551030",
   "metadata": {},
   "outputs": [
    {
     "data": {
      "text/plain": [
       "array([0.0817803113, 0.1192720895, 0.0857268143, 0.4262223197,\n",
       "       0.2869984652])"
      ]
     },
     "execution_count": 420,
     "metadata": {},
     "output_type": "execute_result"
    }
   ],
   "source": [
    "market_weights"
   ]
  },
  {
   "cell_type": "markdown",
   "id": "05548498-30b3-442e-9c8a-c41904d2349b",
   "metadata": {},
   "source": [
    "Let us now calculate the risk aversion parameter"
   ]
  },
  {
   "cell_type": "code",
   "execution_count": 423,
   "id": "7b71c207-d8bf-4c8a-ad37-419559df840d",
   "metadata": {},
   "outputs": [
    {
     "name": "stderr",
     "output_type": "stream",
     "text": [
      "[*********************100%***********************]  1 of 1 completed\n"
     ]
    }
   ],
   "source": [
    "market_index = yf.download(\"^NSEI\", start=\"2023-09-30\", end=\"2024-05-01\")[\"Close\"]"
   ]
  },
  {
   "cell_type": "code",
   "execution_count": 425,
   "id": "ac524f80-6050-427c-a56d-6d10d25f8f05",
   "metadata": {},
   "outputs": [
    {
     "data": {
      "text/html": [
       "<div>\n",
       "<style scoped>\n",
       "    .dataframe tbody tr th:only-of-type {\n",
       "        vertical-align: middle;\n",
       "    }\n",
       "\n",
       "    .dataframe tbody tr th {\n",
       "        vertical-align: top;\n",
       "    }\n",
       "\n",
       "    .dataframe thead th {\n",
       "        text-align: right;\n",
       "    }\n",
       "</style>\n",
       "<table border=\"1\" class=\"dataframe\">\n",
       "  <thead>\n",
       "    <tr style=\"text-align: right;\">\n",
       "      <th>Ticker</th>\n",
       "      <th>^NSEI</th>\n",
       "    </tr>\n",
       "    <tr>\n",
       "      <th>Date</th>\n",
       "      <th></th>\n",
       "    </tr>\n",
       "  </thead>\n",
       "  <tbody>\n",
       "    <tr>\n",
       "      <th>2023-10-03</th>\n",
       "      <td>19528.750000</td>\n",
       "    </tr>\n",
       "    <tr>\n",
       "      <th>2023-10-04</th>\n",
       "      <td>19436.099609</td>\n",
       "    </tr>\n",
       "    <tr>\n",
       "      <th>2023-10-05</th>\n",
       "      <td>19545.750000</td>\n",
       "    </tr>\n",
       "    <tr>\n",
       "      <th>2023-10-06</th>\n",
       "      <td>19653.500000</td>\n",
       "    </tr>\n",
       "    <tr>\n",
       "      <th>2023-10-09</th>\n",
       "      <td>19512.349609</td>\n",
       "    </tr>\n",
       "    <tr>\n",
       "      <th>...</th>\n",
       "      <td>...</td>\n",
       "    </tr>\n",
       "    <tr>\n",
       "      <th>2024-04-24</th>\n",
       "      <td>22402.400391</td>\n",
       "    </tr>\n",
       "    <tr>\n",
       "      <th>2024-04-25</th>\n",
       "      <td>22570.349609</td>\n",
       "    </tr>\n",
       "    <tr>\n",
       "      <th>2024-04-26</th>\n",
       "      <td>22419.949219</td>\n",
       "    </tr>\n",
       "    <tr>\n",
       "      <th>2024-04-29</th>\n",
       "      <td>22643.400391</td>\n",
       "    </tr>\n",
       "    <tr>\n",
       "      <th>2024-04-30</th>\n",
       "      <td>22604.849609</td>\n",
       "    </tr>\n",
       "  </tbody>\n",
       "</table>\n",
       "<p>140 rows × 1 columns</p>\n",
       "</div>"
      ],
      "text/plain": [
       "Ticker             ^NSEI\n",
       "Date                    \n",
       "2023-10-03  19528.750000\n",
       "2023-10-04  19436.099609\n",
       "2023-10-05  19545.750000\n",
       "2023-10-06  19653.500000\n",
       "2023-10-09  19512.349609\n",
       "...                  ...\n",
       "2024-04-24  22402.400391\n",
       "2024-04-25  22570.349609\n",
       "2024-04-26  22419.949219\n",
       "2024-04-29  22643.400391\n",
       "2024-04-30  22604.849609\n",
       "\n",
       "[140 rows x 1 columns]"
      ]
     },
     "execution_count": 425,
     "metadata": {},
     "output_type": "execute_result"
    }
   ],
   "source": [
    "market_index"
   ]
  },
  {
   "cell_type": "code",
   "execution_count": 427,
   "id": "34c19453-b622-462a-8e43-62c351d9e650",
   "metadata": {},
   "outputs": [],
   "source": [
    "market_returns = market_index.pct_change(market_index.shape[0] - 1).dropna()*100 #market returns"
   ]
  },
  {
   "cell_type": "code",
   "execution_count": 429,
   "id": "9830ce8a-5a7e-4f95-afff-0418fb2d63a8",
   "metadata": {},
   "outputs": [
    {
     "data": {
      "text/html": [
       "<div>\n",
       "<style scoped>\n",
       "    .dataframe tbody tr th:only-of-type {\n",
       "        vertical-align: middle;\n",
       "    }\n",
       "\n",
       "    .dataframe tbody tr th {\n",
       "        vertical-align: top;\n",
       "    }\n",
       "\n",
       "    .dataframe thead th {\n",
       "        text-align: right;\n",
       "    }\n",
       "</style>\n",
       "<table border=\"1\" class=\"dataframe\">\n",
       "  <thead>\n",
       "    <tr style=\"text-align: right;\">\n",
       "      <th>Ticker</th>\n",
       "      <th>^NSEI</th>\n",
       "    </tr>\n",
       "    <tr>\n",
       "      <th>Date</th>\n",
       "      <th></th>\n",
       "    </tr>\n",
       "  </thead>\n",
       "  <tbody>\n",
       "    <tr>\n",
       "      <th>2024-04-30</th>\n",
       "      <td>15.751646</td>\n",
       "    </tr>\n",
       "  </tbody>\n",
       "</table>\n",
       "</div>"
      ],
      "text/plain": [
       "Ticker          ^NSEI\n",
       "Date                 \n",
       "2024-04-30  15.751646"
      ]
     },
     "execution_count": 429,
     "metadata": {},
     "output_type": "execute_result"
    }
   ],
   "source": [
    "market_returns"
   ]
  },
  {
   "cell_type": "code",
   "execution_count": 431,
   "id": "dfa4fae5-df8e-425e-a5bf-0a2c9f328e28",
   "metadata": {},
   "outputs": [
    {
     "name": "stderr",
     "output_type": "stream",
     "text": [
      "C:\\Users\\susha\\AppData\\Local\\Temp\\ipykernel_160020\\2637774796.py:2: FutureWarning: Series.__getitem__ treating keys as positions is deprecated. In a future version, integer keys will always be treated as labels (consistent with DataFrame behavior). To access a value by position, use `ser.iloc[pos]`\n",
      "  market_volatility[0]\n"
     ]
    },
    {
     "data": {
      "text/plain": [
       "0.5010495736016912"
      ]
     },
     "execution_count": 431,
     "metadata": {},
     "output_type": "execute_result"
    }
   ],
   "source": [
    "market_volatility = (market_index.pct_change().dropna()*100).var()\n",
    "market_volatility[0]"
   ]
  },
  {
   "cell_type": "markdown",
   "id": "7a52d40b-f048-47ed-b6f5-6f11a10f9197",
   "metadata": {},
   "source": [
    "So, the market has given 15% returns overall in this period. For calculating the risk-free rate, I consider the 10-year bond yield, which was 7.2% in September 2023. I consider the rate to be 3.5% for the six-month period we are considering."
   ]
  },
  {
   "cell_type": "code",
   "execution_count": 434,
   "id": "c6df2155-36de-4285-b224-6b925dbdd69a",
   "metadata": {},
   "outputs": [
    {
     "data": {
      "text/plain": [
       "24.451964149268782"
      ]
     },
     "execution_count": 434,
     "metadata": {},
     "output_type": "execute_result"
    }
   ],
   "source": [
    "risk_aversion = (market_returns.iloc[0, 0] - 3.5)/market_volatility.iloc[0]\n",
    "risk_aversion"
   ]
  },
  {
   "cell_type": "markdown",
   "id": "0a440c32-efce-45fb-a0d0-34d013071ea8",
   "metadata": {},
   "source": [
    "Now, I define the views on each stock. This is the subjective view on the expected returns each stock will give in the following test data period of two months. These views are averages of expected returns based on analyst projections and investor calls fromt the year 2023. "
   ]
  },
  {
   "cell_type": "code",
   "execution_count": 497,
   "id": "cd89a98e-6c28-4cbe-aecd-e99278763775",
   "metadata": {},
   "outputs": [],
   "source": [
    "P = np.array([\n",
    "    [0, 0, 1, 0, 0],  # View on Maruti\n",
    "    [0, 0, 0, 1, 0],  # View on Axis Bank\n",
    "    [0, 0, 0, 0, 1],  # View on ITC\n",
    "    [1, 0, 0, 0, 0],  # View on TCS\n",
    "    [0, 1, 0, 0, 0],  # View on RIL\n",
    "])\n",
    "\n",
    "Q = np.array([\n",
    "    5.33,  # Maruti 5.33% upside\n",
    "    8.16,  # Axis Bank 8.16% upside\n",
    "    1.25,  # ITC 1.25% upside\n",
    "    1.7,  # TCS 1.7% upside\n",
    "    7   # RIL 7% upside\n",
    "])"
   ]
  },
  {
   "cell_type": "markdown",
   "id": "55ac371d-e1c6-4e89-a07a-327222949913",
   "metadata": {},
   "source": [
    "Now, let us calculate the Black-Litterman Expected Returns"
   ]
  },
  {
   "cell_type": "code",
   "execution_count": 500,
   "id": "5ac92b9a-8ba5-4ff1-943c-02f676268ae3",
   "metadata": {},
   "outputs": [],
   "source": [
    "omega = np.diag([0.0001] * len(Q))  # High confidence in each view\n",
    "implied_returns = risk_aversion * cov_matrix.dot(market_weights)\n",
    "tau = 0.05  # Scalar for uncertainty in the prior\n",
    "adjusted_cov = np.linalg.inv(np.linalg.inv(tau * cov_matrix) + P.T @ np.linalg.inv(omega) @ P)\n",
    "adjusted_returns = adjusted_cov @ (np.linalg.inv(tau * cov_matrix) @ implied_returns + P.T @ np.linalg.inv(omega) @ Q)"
   ]
  },
  {
   "cell_type": "code",
   "execution_count": 502,
   "id": "4d7a8a42-8f86-41d5-8ed0-6f2a7fd90e41",
   "metadata": {},
   "outputs": [
    {
     "name": "stdout",
     "output_type": "stream",
     "text": [
      "Black-Litterman Adjusted Returns [1.7082261082 6.9953832168 5.3314156013 8.1704388386 1.2652014972]\n"
     ]
    }
   ],
   "source": [
    "print(\"Black-Litterman Adjusted Returns\", adjusted_returns)"
   ]
  },
  {
   "cell_type": "code",
   "execution_count": 504,
   "id": "72a9a528-4310-49da-b199-b51b1a602ac1",
   "metadata": {},
   "outputs": [
    {
     "data": {
      "text/plain": [
       "Ticker\n",
       "AXISBANK.NS    13.603623\n",
       "ITC.NS          8.746593\n",
       "MARUTI.NS      10.924997\n",
       "RELIANCE.NS    20.448122\n",
       "TCS.NS         16.252844\n",
       "dtype: float64"
      ]
     },
     "execution_count": 504,
     "metadata": {},
     "output_type": "execute_result"
    }
   ],
   "source": [
    "implied_returns"
   ]
  },
  {
   "cell_type": "code",
   "execution_count": 506,
   "id": "da0e1e91-af95-423e-8a52-0190169e26f1",
   "metadata": {},
   "outputs": [],
   "source": [
    "#Optimization\n",
    "def portfolio_sharpe_ratio(weights):\n",
    "    portfolio_return = np.dot(weights, adjusted_returns)\n",
    "    portfolio_volatility = np.sqrt(weights.T @ cov_matrix @ weights)\n",
    "    return -(portfolio_return - 3.5)/portfolio_volatility #minimize the negative of the Sharpe Ratio\n",
    "\n",
    "constraints = [{'type': 'eq', 'fun': lambda weights: np.sum(weights) - 1}]\n",
    "bounds = [(0, 1) for _ in range(len(tickers))]\n",
    "initial_weights = market_weights\n",
    "\n",
    "result = minimize(portfolio_volatility, initial_weights, bounds=bounds, constraints=constraints)"
   ]
  },
  {
   "cell_type": "code",
   "execution_count": 508,
   "id": "34d4de4a-8d93-43f0-bb16-f7b5415f6ecc",
   "metadata": {},
   "outputs": [
    {
     "data": {
      "text/plain": [
       " message: Optimization terminated successfully\n",
       " success: True\n",
       "  status: 0\n",
       "     fun: 0.7448787127013505\n",
       "       x: [ 7.679e-02  2.956e-01  1.943e-01  1.849e-01  2.484e-01]\n",
       "     nit: 7\n",
       "     jac: [ 7.445e-01  7.442e-01  7.451e-01  7.454e-01  7.452e-01]\n",
       "    nfev: 42\n",
       "    njev: 7"
      ]
     },
     "execution_count": 508,
     "metadata": {},
     "output_type": "execute_result"
    }
   ],
   "source": [
    "result"
   ]
  },
  {
   "cell_type": "code",
   "execution_count": 570,
   "id": "2f395e65-c128-4432-83c5-19a5fc7e6d51",
   "metadata": {},
   "outputs": [
    {
     "data": {
      "text/plain": [
       "TCS.NS         0.0768\n",
       "RELIANCE.NS    0.2956\n",
       "MARUTI.NS      0.1943\n",
       "AXISBANK.NS    0.1849\n",
       "ITC.NS         0.2484\n",
       "dtype: float64"
      ]
     },
     "execution_count": 570,
     "metadata": {},
     "output_type": "execute_result"
    }
   ],
   "source": [
    "optimal_weights_bl = pd.Series(result.x, index=tickers).round(4)\n",
    "optimal_weights_bl"
   ]
  },
  {
   "cell_type": "markdown",
   "id": "31c2e5c9-92fc-40a8-8e25-b932055c3150",
   "metadata": {},
   "source": [
    "As you can see, this allocation of weights is not as extreme as the one we got for the MVO portfolio in Step 1. "
   ]
  },
  {
   "cell_type": "code",
   "execution_count": 573,
   "id": "ea15b6a2-e7fb-47c7-8b2d-87f159052fa1",
   "metadata": {
    "scrolled": true
   },
   "outputs": [
    {
     "data": {
      "image/png": "[encoded data removed]",
      "text/plain": [
       "<Figure size 640x480 with 1 Axes>"
      ]
     },
     "metadata": {},
     "output_type": "display_data"
    }
   ],
   "source": [
    "plt.bar(height=optimal_weights_bl*100, x=optimal_weights_bl.index)\n",
    "plt.grid()\n",
    "plt.title(\"Black-Litterman Portfolio Weights After Optimization in Percentages\")\n",
    "plt.savefig(\"bl_model.png\")"
   ]
  },
  {
   "cell_type": "markdown",
   "id": "06f28ef1-a217-4fec-9652-7dc5119ba7c8",
   "metadata": {},
   "source": [
    "Let us now compare how both the methods far on the test data period."
   ]
  },
  {
   "cell_type": "code",
   "execution_count": 487,
   "id": "a2b75945-3f47-4002-bba7-ca2eef035a8e",
   "metadata": {},
   "outputs": [
    {
     "name": "stderr",
     "output_type": "stream",
     "text": [
      "[*********************100%***********************]  5 of 5 completed\n"
     ]
    }
   ],
   "source": [
    "test_data = yf.download(tickers, start=\"2024-05-02\", end=\"2024-07-02\")[\"Close\"]"
   ]
  },
  {
   "cell_type": "code",
   "execution_count": 489,
   "id": "3de7e080-a1fd-4828-bb5e-3729d794c74b",
   "metadata": {},
   "outputs": [
    {
     "data": {
      "text/html": [
       "<div>\n",
       "<style scoped>\n",
       "    .dataframe tbody tr th:only-of-type {\n",
       "        vertical-align: middle;\n",
       "    }\n",
       "\n",
       "    .dataframe tbody tr th {\n",
       "        vertical-align: top;\n",
       "    }\n",
       "\n",
       "    .dataframe thead th {\n",
       "        text-align: right;\n",
       "    }\n",
       "</style>\n",
       "<table border=\"1\" class=\"dataframe\">\n",
       "  <thead>\n",
       "    <tr style=\"text-align: right;\">\n",
       "      <th>Ticker</th>\n",
       "      <th>AXISBANK.NS</th>\n",
       "      <th>ITC.NS</th>\n",
       "      <th>MARUTI.NS</th>\n",
       "      <th>RELIANCE.NS</th>\n",
       "      <th>TCS.NS</th>\n",
       "    </tr>\n",
       "    <tr>\n",
       "      <th>Date</th>\n",
       "      <th></th>\n",
       "      <th></th>\n",
       "      <th></th>\n",
       "      <th></th>\n",
       "      <th></th>\n",
       "    </tr>\n",
       "  </thead>\n",
       "  <tbody>\n",
       "    <tr>\n",
       "      <th>2024-05-02</th>\n",
       "      <td>1148.963257</td>\n",
       "      <td>424.646484</td>\n",
       "      <td>12685.530273</td>\n",
       "      <td>1466.550049</td>\n",
       "      <td>3757.328613</td>\n",
       "    </tr>\n",
       "    <tr>\n",
       "      <th>2024-05-03</th>\n",
       "      <td>1140.619751</td>\n",
       "      <td>422.179840</td>\n",
       "      <td>12375.261719</td>\n",
       "      <td>1434.000000</td>\n",
       "      <td>3737.974365</td>\n",
       "    </tr>\n",
       "    <tr>\n",
       "      <th>2024-05-06</th>\n",
       "      <td>1142.768066</td>\n",
       "      <td>420.535431</td>\n",
       "      <td>12322.905273</td>\n",
       "      <td>1419.525024</td>\n",
       "      <td>3813.494385</td>\n",
       "    </tr>\n",
       "    <tr>\n",
       "      <th>2024-05-07</th>\n",
       "      <td>1126.830322</td>\n",
       "      <td>425.952332</td>\n",
       "      <td>12248.359375</td>\n",
       "      <td>1401.474976</td>\n",
       "      <td>3869.805908</td>\n",
       "    </tr>\n",
       "    <tr>\n",
       "      <th>2024-05-08</th>\n",
       "      <td>1127.779663</td>\n",
       "      <td>426.581055</td>\n",
       "      <td>12426.179688</td>\n",
       "      <td>1418.550049</td>\n",
       "      <td>3867.861084</td>\n",
       "    </tr>\n",
       "  </tbody>\n",
       "</table>\n",
       "</div>"
      ],
      "text/plain": [
       "Ticker      AXISBANK.NS      ITC.NS     MARUTI.NS  RELIANCE.NS       TCS.NS\n",
       "Date                                                                       \n",
       "2024-05-02  1148.963257  424.646484  12685.530273  1466.550049  3757.328613\n",
       "2024-05-03  1140.619751  422.179840  12375.261719  1434.000000  3737.974365\n",
       "2024-05-06  1142.768066  420.535431  12322.905273  1419.525024  3813.494385\n",
       "2024-05-07  1126.830322  425.952332  12248.359375  1401.474976  3869.805908\n",
       "2024-05-08  1127.779663  426.581055  12426.179688  1418.550049  3867.861084"
      ]
     },
     "execution_count": 489,
     "metadata": {},
     "output_type": "execute_result"
    }
   ],
   "source": [
    "test_data.head()"
   ]
  },
  {
   "cell_type": "code",
   "execution_count": 555,
   "id": "be6bc147-87e0-4350-8696-3f7c6773fc6b",
   "metadata": {},
   "outputs": [
    {
     "data": {
      "text/html": [
       "<div>\n",
       "<style scoped>\n",
       "    .dataframe tbody tr th:only-of-type {\n",
       "        vertical-align: middle;\n",
       "    }\n",
       "\n",
       "    .dataframe tbody tr th {\n",
       "        vertical-align: top;\n",
       "    }\n",
       "\n",
       "    .dataframe thead th {\n",
       "        text-align: right;\n",
       "    }\n",
       "</style>\n",
       "<table border=\"1\" class=\"dataframe\">\n",
       "  <thead>\n",
       "    <tr style=\"text-align: right;\">\n",
       "      <th>Ticker</th>\n",
       "      <th>AXISBANK.NS</th>\n",
       "      <th>ITC.NS</th>\n",
       "      <th>MARUTI.NS</th>\n",
       "      <th>RELIANCE.NS</th>\n",
       "      <th>TCS.NS</th>\n",
       "    </tr>\n",
       "    <tr>\n",
       "      <th>Date</th>\n",
       "      <th></th>\n",
       "      <th></th>\n",
       "      <th></th>\n",
       "      <th></th>\n",
       "      <th></th>\n",
       "    </tr>\n",
       "  </thead>\n",
       "  <tbody>\n",
       "    <tr>\n",
       "      <th>2024-07-01</th>\n",
       "      <td>0.097448</td>\n",
       "      <td>-0.00533</td>\n",
       "      <td>-0.054407</td>\n",
       "      <td>0.063823</td>\n",
       "      <td>0.037226</td>\n",
       "    </tr>\n",
       "  </tbody>\n",
       "</table>\n",
       "</div>"
      ],
      "text/plain": [
       "Ticker      AXISBANK.NS   ITC.NS  MARUTI.NS  RELIANCE.NS    TCS.NS\n",
       "Date                                                              \n",
       "2024-07-01     0.097448 -0.00533  -0.054407     0.063823  0.037226"
      ]
     },
     "execution_count": 555,
     "metadata": {},
     "output_type": "execute_result"
    }
   ],
   "source": [
    "test_period_returns = test_data.pct_change(test_data.shape[0] - 1).dropna()\n",
    "test_period_returns"
   ]
  },
  {
   "cell_type": "code",
   "execution_count": 557,
   "id": "e4b8a92a-bb42-4a57-ae44-df1379909704",
   "metadata": {},
   "outputs": [
    {
     "data": {
      "text/plain": [
       "TCS.NS         0.0768\n",
       "RELIANCE.NS    0.2956\n",
       "MARUTI.NS      0.1943\n",
       "AXISBANK.NS    0.1849\n",
       "ITC.NS         0.2484\n",
       "dtype: float64"
      ]
     },
     "execution_count": 557,
     "metadata": {},
     "output_type": "execute_result"
    }
   ],
   "source": [
    "optimal_weights_bl"
   ]
  },
  {
   "cell_type": "code",
   "execution_count": 559,
   "id": "d8a251ed-e048-4071-b32b-2f19a4ce9d03",
   "metadata": {},
   "outputs": [],
   "source": [
    "#rearranging in alphabetical order to match the returns data \n",
    "optimal_weights_bl = [0.1849, 0.2484, 0.1943, 0.2956, 0.0768]"
   ]
  },
  {
   "cell_type": "code",
   "execution_count": 561,
   "id": "392aedb1-b84d-467e-bdc2-e3d8475c7a12",
   "metadata": {},
   "outputs": [],
   "source": [
    "#Optimal Weights of the earlier MVO optimization\n",
    "optimal_weights_mvo = [0, 0, 0.3973215482, 0.5428407699, 0.059837682 ]"
   ]
  },
  {
   "cell_type": "code",
   "execution_count": 563,
   "id": "30ca8c09-59ca-413e-ab63-f670d5dd1f3d",
   "metadata": {},
   "outputs": [
    {
     "data": {
      "text/plain": [
       "27.84778473268059"
      ]
     },
     "execution_count": 563,
     "metadata": {},
     "output_type": "execute_result"
    }
   ],
   "source": [
    "bl_portfolio_returns = np.dot(list(test_period_returns.iloc[0]), optimal_weights_bl)*1000\n",
    "bl_portfolio_returns"
   ]
  },
  {
   "cell_type": "code",
   "execution_count": 565,
   "id": "d4f5287e-6796-48b6-89f3-4fb4f1e85c4b",
   "metadata": {},
   "outputs": [
    {
     "data": {
      "text/plain": [
       "15.256312800132184"
      ]
     },
     "execution_count": 565,
     "metadata": {},
     "output_type": "execute_result"
    }
   ],
   "source": [
    "mvo_portfolio_returns = np.dot(list(test_period_returns.iloc[0]), optimal_weights_mvo)*1000\n",
    "mvo_portfolio_returns"
   ]
  },
  {
   "cell_type": "markdown",
   "id": "75493669-a77b-46d2-a19f-48f55b67d9f1",
   "metadata": {},
   "source": [
    "The Black-Litterman portfolio yields better returns when compared to the MVO portfolio."
   ]
  },
  {
   "cell_type": "code",
   "execution_count": 579,
   "id": "5f84a4d6-6087-44a8-b560-6dd0f3c4d68c",
   "metadata": {},
   "outputs": [
    {
     "data": {
      "text/plain": [
       "27.751818803541383"
      ]
     },
     "execution_count": 579,
     "metadata": {},
     "output_type": "execute_result"
    }
   ],
   "source": [
    "equal_weight_portfolio_returns = np.dot(list(test_period_returns.iloc[0]), [0.2, 0.2, 0.2, 0.2, 0.2])*1000\n",
    "equal_weight_portfolio_returns"
   ]
  },
  {
   "cell_type": "markdown",
   "id": "29181507-9986-4bfb-853b-aa22d95d890d",
   "metadata": {},
   "source": [
    "The 1/N portfolio yields returns that are nearly the same as that for the Black-Litterman Model"
   ]
  },
  {
   "cell_type": "code",
   "execution_count": null,
   "id": "a0dc4f17-1a55-4b5b-8377-0c3a379b0e9f",
   "metadata": {},
   "outputs": [],
   "source": []
  }
 ],
 "metadata": {
  "kernelspec": {
   "display_name": "Python [conda env:base] *",
   "language": "python",
   "name": "conda-base-py"
  },
  "language_info": {
   "codemirror_mode": {
    "name": "ipython",
    "version": 3
   },
   "file_extension": ".py",
   "mimetype": "text/x-python",
   "name": "python",
   "nbconvert_exporter": "python",
   "pygments_lexer": "ipython3",
   "version": "3.12.7"
  }
 },
 "nbformat": 4,
 "nbformat_minor": 5
}
